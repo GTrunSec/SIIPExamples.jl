{
 "cells": [
  {
   "cell_type": "markdown",
   "metadata": {
    "slideshow": {
     "slide_type": "slide"
    }
   },
   "source": [
    "# RTS dispatch Example\n",
    "\n",
    "This notebook is intended to demonstrate some of the basic capability enabled by SIIP::Power. Specifically, this notebook gives some examples of how SIIP::Power can be used to conduct *Unit Commitment* on the RTS system\n",
    "\n"
   ]
  },
  {
   "cell_type": "markdown",
   "metadata": {
    "slideshow": {
     "slide_type": "subslide"
    }
   },
   "source": [
    "## Packages\n",
    "\n",
    " - *[PowerSystems.jl](https://github.com/NREL/PowerSystems.jl)* We take advantage of Julia's dynamic types and functional dispatch in our implementation of PowerSystems to define data schemas for Power Systems Analysis problems.\n",
    "\n",
    " - *[PowerSimulations.jl](https://github.com/NREL/PowerSimulations.jl)* We leverage the schemas defined in PowerSystems to create functions for defining Power Systems Analysis Problems. "
   ]
  },
  {
   "cell_type": "markdown",
   "metadata": {
    "slideshow": {
     "slide_type": "subslide"
    }
   },
   "source": [
    "## Package Setup"
   ]
  },
  {
   "cell_type": "markdown",
   "metadata": {
    "slideshow": {
     "slide_type": "skip"
    }
   },
   "source": [
    "This notebook requires Julia 1.1 and uses the environment setup in the subfolder `env`. You can setup the environment with the next two cells.\n",
    "\n",
    "The environment should look like:\n",
    "```julia\n",
    "      Status `~/Documents/repos/Examples/env/Project.toml`\n",
    "  [5ae59095] Colors v0.9.5\n",
    "  [41994980] D3TypeTrees v0.1.1\n",
    "  [a93c6f00] DataFrames v0.18.0\n",
    "  [e2685f51] ECOS v0.9.4\n",
    "  [60bf3e95] GLPK v0.9.1\n",
    "  [b6b21f68] Ipopt v0.5.4\n",
    "  [4076af6c] JuMP v0.19.1\n",
    "  [51fcb6bd] NamedColors v0.2.0\n",
    "  [f0f68f2c] PlotlyJS v0.12.3+ #17b5821 (https://github.com/sglyon/PlotlyJS.jl.git)\n",
    "  [e690365d] PowerSimulations v0.1.0 #master (https://github.com/nrel/PowerSimulations.jl)\n",
    "  [bcd98974] PowerSystems v0.3.2\n",
    "  [9e3dc215] TimeSeries v0.14.1\n",
    "  [0f1e0344] WebIO v0.8.1+ #4f97d72 (https://github.com/JuliaGizmos/WebIO.jl.git)\n",
    "```\n",
    "Execute the next code block to activate the necessary environment."
   ]
  },
  {
   "cell_type": "code",
   "execution_count": 1,
   "metadata": {
    "slideshow": {
     "slide_type": "skip"
    }
   },
   "outputs": [
    {
     "name": "stdout",
     "output_type": "stream",
     "text": [
      "\u001b[32m\u001b[1m  Updating\u001b[22m\u001b[39m registry at `~/.julia/registries/General`\n",
      "\u001b[32m\u001b[1m  Updating\u001b[22m\u001b[39m git-repo `https://github.com/JuliaRegistries/General.git`\n",
      "\u001b[?25l\u001b[2K\u001b[?25h"
     ]
    }
   ],
   "source": [
    "] activate env; instantiate"
   ]
  },
  {
   "cell_type": "code",
   "execution_count": 2,
   "metadata": {
    "slideshow": {
     "slide_type": "skip"
    }
   },
   "outputs": [
    {
     "name": "stdout",
     "output_type": "stream",
     "text": [
      "\u001b[32m\u001b[1m    Status\u001b[22m\u001b[39m `~/Documents/repos/Examples/env/Project.toml`\n",
      " \u001b[90m [5ae59095]\u001b[39m\u001b[37m Colors v0.9.5\u001b[39m\n",
      " \u001b[90m [41994980]\u001b[39m\u001b[37m D3TypeTrees v0.1.1\u001b[39m\n",
      " \u001b[90m [a93c6f00]\u001b[39m\u001b[37m DataFrames v0.18.0\u001b[39m\n",
      " \u001b[90m [e2685f51]\u001b[39m\u001b[37m ECOS v0.9.4\u001b[39m\n",
      " \u001b[90m [60bf3e95]\u001b[39m\u001b[37m GLPK v0.9.1\u001b[39m\n",
      " \u001b[90m [b6b21f68]\u001b[39m\u001b[37m Ipopt v0.5.4\u001b[39m\n",
      " \u001b[90m [4076af6c]\u001b[39m\u001b[37m JuMP v0.19.1\u001b[39m\n",
      " \u001b[90m [51fcb6bd]\u001b[39m\u001b[37m NamedColors v0.2.0\u001b[39m\n",
      " \u001b[90m [f0f68f2c]\u001b[39m\u001b[37m PlotlyJS v0.12.3+ #17b5821 (https://github.com/sglyon/PlotlyJS.jl.git)\u001b[39m\n",
      " \u001b[90m [e690365d]\u001b[39m\u001b[37m PowerSimulations v0.1.0 #master (https://github.com/nrel/PowerSimulations.jl)\u001b[39m\n",
      " \u001b[90m [bcd98974]\u001b[39m\u001b[37m PowerSystems v0.3.2\u001b[39m\n",
      " \u001b[90m [9e3dc215]\u001b[39m\u001b[37m TimeSeries v0.14.1\u001b[39m\n",
      " \u001b[90m [0f1e0344]\u001b[39m\u001b[37m WebIO v0.8.1+ #4f97d72 (https://github.com/JuliaGizmos/WebIO.jl.git)\u001b[39m\n"
     ]
    }
   ],
   "source": [
    "] status"
   ]
  },
  {
   "cell_type": "code",
   "execution_count": 3,
   "metadata": {
    "slideshow": {
     "slide_type": "fragment"
    }
   },
   "outputs": [
    {
     "data": {
      "text/plain": [
       "OptimizerFactory(GLPK.Optimizer, (), Base.Iterators.Pairs{Union{},Union{},Tuple{},NamedTuple{(),Tuple{}}}())"
      ]
     },
     "execution_count": 3,
     "metadata": {},
     "output_type": "execute_result"
    }
   ],
   "source": [
    "# Modeling Packages\n",
    "using PowerSystems; # Power System Data Model\n",
    "using PowerSimulations; # Power System Modeling\n",
    "using JuMP;         # Optimization Modeling\n",
    "\n",
    "### can use Xpress if you have a local license\n",
    "#using Xpress;          # Optimization Solver\n",
    "#optimizer = with_optimizer(Xpress.Optimizer, OUTPUTLOG=1,MIPTOL=0.00001)\n",
    "\n",
    "### otherwise, use GLPK\n",
    "using GLPK;\n",
    "optimizer = with_optimizer(GLPK.Optimizer)\n"
   ]
  },
  {
   "cell_type": "code",
   "execution_count": 4,
   "metadata": {
    "slideshow": {
     "slide_type": "skip"
    }
   },
   "outputs": [],
   "source": [
    "const PSI = PowerSimulations;\n",
    "const PSY = PowerSystems;"
   ]
  },
  {
   "cell_type": "code",
   "execution_count": 5,
   "metadata": {
    "slideshow": {
     "slide_type": "skip"
    }
   },
   "outputs": [],
   "source": [
    "# Result Inspection Packages\n",
    "using DataFrames;"
   ]
  },
  {
   "cell_type": "markdown",
   "metadata": {
    "slideshow": {
     "slide_type": "skip"
    }
   },
   "source": [
    "# RTS Preloads"
   ]
  },
  {
   "cell_type": "code",
   "execution_count": 6,
   "metadata": {},
   "outputs": [
    {
     "data": {
      "text/plain": [
       "\"/Users/cbarrows/.julia/packages/PowerSystems/a865r/data/RTS_GMLC\""
      ]
     },
     "execution_count": 6,
     "metadata": {},
     "output_type": "execute_result"
    }
   ],
   "source": [
    "\n",
    "BASE_DIR = abspath(joinpath(dirname(Base.find_package(\"PowerSystems\")), \"..\"))\n",
    "DATA_DIR = joinpath(BASE_DIR, \"data\")\n",
    "RTS_GMLC_DIR = joinpath(DATA_DIR, \"RTS_GMLC\")\n",
    "\n"
   ]
  },
  {
   "cell_type": "code",
   "execution_count": 7,
   "metadata": {},
   "outputs": [
    {
     "name": "stderr",
     "output_type": "stream",
     "text": [
      "┌ Info: Parsing csv files in Reserves ...\n",
      "└ @ PowerSystems /Users/cbarrows/.julia/packages/PowerSystems/a865r/src/parsers/cdm_parser.jl:34\n",
      "┌ Info: Parsing csv data in DAY_AHEAD_regional_Flex_Down.csv ...\n",
      "└ @ PowerSystems /Users/cbarrows/.julia/packages/PowerSystems/a865r/src/parsers/cdm_parser.jl:38\n",
      "┌ Info: Parsing csv data in DAY_AHEAD_regional_Flex_Up.csv ...\n",
      "└ @ PowerSystems /Users/cbarrows/.julia/packages/PowerSystems/a865r/src/parsers/cdm_parser.jl:38\n",
      "┌ Info: Parsing csv data in DAY_AHEAD_regional_Reg_Down.csv ...\n",
      "└ @ PowerSystems /Users/cbarrows/.julia/packages/PowerSystems/a865r/src/parsers/cdm_parser.jl:38\n",
      "┌ Info: Parsing csv data in DAY_AHEAD_regional_Reg_Up.csv ...\n",
      "└ @ PowerSystems /Users/cbarrows/.julia/packages/PowerSystems/a865r/src/parsers/cdm_parser.jl:38\n",
      "┌ Info: Parsing csv data in DAY_AHEAD_regional_Spin_Up_R1.csv ...\n",
      "└ @ PowerSystems /Users/cbarrows/.julia/packages/PowerSystems/a865r/src/parsers/cdm_parser.jl:38\n",
      "┌ Info: Parsing csv data in DAY_AHEAD_regional_Spin_Up_R2.csv ...\n",
      "└ @ PowerSystems /Users/cbarrows/.julia/packages/PowerSystems/a865r/src/parsers/cdm_parser.jl:38\n",
      "┌ Info: Parsing csv data in DAY_AHEAD_regional_Spin_Up_R3.csv ...\n",
      "└ @ PowerSystems /Users/cbarrows/.julia/packages/PowerSystems/a865r/src/parsers/cdm_parser.jl:38\n",
      "┌ Info: Parsing csv data in REAL_TIME_regional_Reg_Down.csv ...\n",
      "└ @ PowerSystems /Users/cbarrows/.julia/packages/PowerSystems/a865r/src/parsers/cdm_parser.jl:38\n",
      "┌ Info: Parsing csv data in REAL_TIME_regional_Reg_Up.csv ...\n",
      "└ @ PowerSystems /Users/cbarrows/.julia/packages/PowerSystems/a865r/src/parsers/cdm_parser.jl:38\n",
      "┌ Info: Parsing csv data in REAL_TIME_regional_Spin_Up_R1.csv ...\n",
      "└ @ PowerSystems /Users/cbarrows/.julia/packages/PowerSystems/a865r/src/parsers/cdm_parser.jl:38\n",
      "┌ Info: Parsing csv data in REAL_TIME_regional_Spin_Up_R2.csv ...\n",
      "└ @ PowerSystems /Users/cbarrows/.julia/packages/PowerSystems/a865r/src/parsers/cdm_parser.jl:38\n",
      "┌ Info: Parsing csv data in REAL_TIME_regional_Spin_Up_R3.csv ...\n",
      "└ @ PowerSystems /Users/cbarrows/.julia/packages/PowerSystems/a865r/src/parsers/cdm_parser.jl:38\n",
      "┌ Info: Successfully parsed Reserves\n",
      "└ @ PowerSystems /Users/cbarrows/.julia/packages/PowerSystems/a865r/src/parsers/cdm_parser.jl:48\n",
      "┌ Info: Parsing csv data in branch.csv ...\n",
      "└ @ PowerSystems /Users/cbarrows/.julia/packages/PowerSystems/a865r/src/parsers/cdm_parser.jl:52\n",
      "┌ Info: Successfully parsed branch.csv\n",
      "└ @ PowerSystems /Users/cbarrows/.julia/packages/PowerSystems/a865r/src/parsers/cdm_parser.jl:57\n",
      "┌ Info: Parsing csv data in bus.csv ...\n",
      "└ @ PowerSystems /Users/cbarrows/.julia/packages/PowerSystems/a865r/src/parsers/cdm_parser.jl:52\n",
      "┌ Info: Successfully parsed bus.csv\n",
      "└ @ PowerSystems /Users/cbarrows/.julia/packages/PowerSystems/a865r/src/parsers/cdm_parser.jl:57\n",
      "┌ Info: Parsing csv data in dc_branch.csv ...\n",
      "└ @ PowerSystems /Users/cbarrows/.julia/packages/PowerSystems/a865r/src/parsers/cdm_parser.jl:52\n",
      "┌ Info: Successfully parsed dc_branch.csv\n",
      "└ @ PowerSystems /Users/cbarrows/.julia/packages/PowerSystems/a865r/src/parsers/cdm_parser.jl:57\n",
      "┌ Info: Parsing csv data in gen.csv ...\n",
      "└ @ PowerSystems /Users/cbarrows/.julia/packages/PowerSystems/a865r/src/parsers/cdm_parser.jl:52\n",
      "┌ Info: Successfully parsed gen.csv\n",
      "└ @ PowerSystems /Users/cbarrows/.julia/packages/PowerSystems/a865r/src/parsers/cdm_parser.jl:57\n",
      "┌ Info: Parsing csv data in load.csv ...\n",
      "└ @ PowerSystems /Users/cbarrows/.julia/packages/PowerSystems/a865r/src/parsers/cdm_parser.jl:52\n",
      "┌ Info: Successfully parsed load.csv\n",
      "└ @ PowerSystems /Users/cbarrows/.julia/packages/PowerSystems/a865r/src/parsers/cdm_parser.jl:57\n",
      "┌ Info: Parsing csv data in reserves.csv ...\n",
      "└ @ PowerSystems /Users/cbarrows/.julia/packages/PowerSystems/a865r/src/parsers/cdm_parser.jl:52\n",
      "┌ Info: Successfully parsed reserves.csv\n",
      "└ @ PowerSystems /Users/cbarrows/.julia/packages/PowerSystems/a865r/src/parsers/cdm_parser.jl:57\n",
      "┌ Info: Parsing csv data in simulation_objects.csv ...\n",
      "└ @ PowerSystems /Users/cbarrows/.julia/packages/PowerSystems/a865r/src/parsers/cdm_parser.jl:52\n",
      "┌ Info: Successfully parsed simulation_objects.csv\n",
      "└ @ PowerSystems /Users/cbarrows/.julia/packages/PowerSystems/a865r/src/parsers/cdm_parser.jl:57\n",
      "┌ Info: Parsing csv data in storage.csv ...\n",
      "└ @ PowerSystems /Users/cbarrows/.julia/packages/PowerSystems/a865r/src/parsers/cdm_parser.jl:52\n",
      "┌ Info: Successfully parsed storage.csv\n",
      "└ @ PowerSystems /Users/cbarrows/.julia/packages/PowerSystems/a865r/src/parsers/cdm_parser.jl:57\n",
      "┌ Info: Parsing csv data in timeseries_pointers.csv ...\n",
      "└ @ PowerSystems /Users/cbarrows/.julia/packages/PowerSystems/a865r/src/parsers/cdm_parser.jl:52\n",
      "┌ Info: Successfully parsed timeseries_pointers.csv\n",
      "└ @ PowerSystems /Users/cbarrows/.julia/packages/PowerSystems/a865r/src/parsers/cdm_parser.jl:57\n",
      "┌ Info: parsing timeseries data\n",
      "└ @ PowerSystems /Users/cbarrows/.julia/packages/PowerSystems/a865r/src/parsers/cdm_parser.jl:68\n",
      "┌ Info: parsing timeseries data in /Users/cbarrows/.julia/packages/PowerSystems/a865r/data/RTS_GMLC/../forecasts/RTS_GMLC_forecasts/gen/Hydro/DAY_AHEAD_hydro.csv for 122_HYDRO_1\n",
      "└ @ PowerSystems /Users/cbarrows/.julia/packages/PowerSystems/a865r/src/parsers/cdm_parser.jl:81\n",
      "┌ Info: parsing timeseries data in /Users/cbarrows/.julia/packages/PowerSystems/a865r/data/RTS_GMLC/../forecasts/RTS_GMLC_forecasts/gen/Hydro/DAY_AHEAD_hydro.csv for 122_HYDRO_2\n",
      "└ @ PowerSystems /Users/cbarrows/.julia/packages/PowerSystems/a865r/src/parsers/cdm_parser.jl:81\n",
      "┌ Info: parsing timeseries data in /Users/cbarrows/.julia/packages/PowerSystems/a865r/data/RTS_GMLC/../forecasts/RTS_GMLC_forecasts/gen/Hydro/DAY_AHEAD_hydro.csv for 122_HYDRO_3\n",
      "└ @ PowerSystems /Users/cbarrows/.julia/packages/PowerSystems/a865r/src/parsers/cdm_parser.jl:81\n",
      "┌ Info: parsing timeseries data in /Users/cbarrows/.julia/packages/PowerSystems/a865r/data/RTS_GMLC/../forecasts/RTS_GMLC_forecasts/gen/Hydro/DAY_AHEAD_hydro.csv for 122_HYDRO_4\n",
      "└ @ PowerSystems /Users/cbarrows/.julia/packages/PowerSystems/a865r/src/parsers/cdm_parser.jl:81\n",
      "┌ Info: parsing timeseries data in /Users/cbarrows/.julia/packages/PowerSystems/a865r/data/RTS_GMLC/../forecasts/RTS_GMLC_forecasts/gen/Hydro/DAY_AHEAD_hydro.csv for 122_HYDRO_5\n",
      "└ @ PowerSystems /Users/cbarrows/.julia/packages/PowerSystems/a865r/src/parsers/cdm_parser.jl:81\n",
      "┌ Info: parsing timeseries data in /Users/cbarrows/.julia/packages/PowerSystems/a865r/data/RTS_GMLC/../forecasts/RTS_GMLC_forecasts/gen/Hydro/DAY_AHEAD_hydro.csv for 122_HYDRO_6\n",
      "└ @ PowerSystems /Users/cbarrows/.julia/packages/PowerSystems/a865r/src/parsers/cdm_parser.jl:81\n",
      "┌ Info: parsing timeseries data in /Users/cbarrows/.julia/packages/PowerSystems/a865r/data/RTS_GMLC/../forecasts/RTS_GMLC_forecasts/gen/Hydro/DAY_AHEAD_hydro.csv for 201_HYDRO_4\n",
      "└ @ PowerSystems /Users/cbarrows/.julia/packages/PowerSystems/a865r/src/parsers/cdm_parser.jl:81\n",
      "┌ Info: parsing timeseries data in /Users/cbarrows/.julia/packages/PowerSystems/a865r/data/RTS_GMLC/../forecasts/RTS_GMLC_forecasts/gen/Hydro/DAY_AHEAD_hydro.csv for 215_HYDRO_1\n",
      "└ @ PowerSystems /Users/cbarrows/.julia/packages/PowerSystems/a865r/src/parsers/cdm_parser.jl:81\n",
      "┌ Info: parsing timeseries data in /Users/cbarrows/.julia/packages/PowerSystems/a865r/data/RTS_GMLC/../forecasts/RTS_GMLC_forecasts/gen/Hydro/DAY_AHEAD_hydro.csv for 215_HYDRO_2\n",
      "└ @ PowerSystems /Users/cbarrows/.julia/packages/PowerSystems/a865r/src/parsers/cdm_parser.jl:81\n",
      "┌ Info: parsing timeseries data in /Users/cbarrows/.julia/packages/PowerSystems/a865r/data/RTS_GMLC/../forecasts/RTS_GMLC_forecasts/gen/Hydro/DAY_AHEAD_hydro.csv for 215_HYDRO_3\n",
      "└ @ PowerSystems /Users/cbarrows/.julia/packages/PowerSystems/a865r/src/parsers/cdm_parser.jl:81\n",
      "┌ Info: parsing timeseries data in /Users/cbarrows/.julia/packages/PowerSystems/a865r/data/RTS_GMLC/../forecasts/RTS_GMLC_forecasts/gen/Hydro/DAY_AHEAD_hydro.csv for 222_HYDRO_1\n",
      "└ @ PowerSystems /Users/cbarrows/.julia/packages/PowerSystems/a865r/src/parsers/cdm_parser.jl:81\n",
      "┌ Info: parsing timeseries data in /Users/cbarrows/.julia/packages/PowerSystems/a865r/data/RTS_GMLC/../forecasts/RTS_GMLC_forecasts/gen/Hydro/DAY_AHEAD_hydro.csv for 222_HYDRO_2\n",
      "└ @ PowerSystems /Users/cbarrows/.julia/packages/PowerSystems/a865r/src/parsers/cdm_parser.jl:81\n",
      "┌ Info: parsing timeseries data in /Users/cbarrows/.julia/packages/PowerSystems/a865r/data/RTS_GMLC/../forecasts/RTS_GMLC_forecasts/gen/Hydro/DAY_AHEAD_hydro.csv for 222_HYDRO_3\n",
      "└ @ PowerSystems /Users/cbarrows/.julia/packages/PowerSystems/a865r/src/parsers/cdm_parser.jl:81\n",
      "┌ Info: parsing timeseries data in /Users/cbarrows/.julia/packages/PowerSystems/a865r/data/RTS_GMLC/../forecasts/RTS_GMLC_forecasts/gen/Hydro/DAY_AHEAD_hydro.csv for 222_HYDRO_4\n",
      "└ @ PowerSystems /Users/cbarrows/.julia/packages/PowerSystems/a865r/src/parsers/cdm_parser.jl:81\n",
      "┌ Info: parsing timeseries data in /Users/cbarrows/.julia/packages/PowerSystems/a865r/data/RTS_GMLC/../forecasts/RTS_GMLC_forecasts/gen/Hydro/DAY_AHEAD_hydro.csv for 222_HYDRO_5\n",
      "└ @ PowerSystems /Users/cbarrows/.julia/packages/PowerSystems/a865r/src/parsers/cdm_parser.jl:81\n",
      "┌ Info: parsing timeseries data in /Users/cbarrows/.julia/packages/PowerSystems/a865r/data/RTS_GMLC/../forecasts/RTS_GMLC_forecasts/gen/Hydro/DAY_AHEAD_hydro.csv for 222_HYDRO_6\n",
      "└ @ PowerSystems /Users/cbarrows/.julia/packages/PowerSystems/a865r/src/parsers/cdm_parser.jl:81\n",
      "┌ Info: parsing timeseries data in /Users/cbarrows/.julia/packages/PowerSystems/a865r/data/RTS_GMLC/../forecasts/RTS_GMLC_forecasts/gen/Hydro/DAY_AHEAD_hydro.csv for 322_HYDRO_1\n",
      "└ @ PowerSystems /Users/cbarrows/.julia/packages/PowerSystems/a865r/src/parsers/cdm_parser.jl:81\n",
      "┌ Info: parsing timeseries data in /Users/cbarrows/.julia/packages/PowerSystems/a865r/data/RTS_GMLC/../forecasts/RTS_GMLC_forecasts/gen/Hydro/DAY_AHEAD_hydro.csv for 322_HYDRO_2\n",
      "└ @ PowerSystems /Users/cbarrows/.julia/packages/PowerSystems/a865r/src/parsers/cdm_parser.jl:81\n",
      "┌ Info: parsing timeseries data in /Users/cbarrows/.julia/packages/PowerSystems/a865r/data/RTS_GMLC/../forecasts/RTS_GMLC_forecasts/gen/Hydro/DAY_AHEAD_hydro.csv for 322_HYDRO_3\n",
      "└ @ PowerSystems /Users/cbarrows/.julia/packages/PowerSystems/a865r/src/parsers/cdm_parser.jl:81\n",
      "┌ Info: parsing timeseries data in /Users/cbarrows/.julia/packages/PowerSystems/a865r/data/RTS_GMLC/../forecasts/RTS_GMLC_forecasts/gen/Hydro/DAY_AHEAD_hydro.csv for 322_HYDRO_4\n",
      "└ @ PowerSystems /Users/cbarrows/.julia/packages/PowerSystems/a865r/src/parsers/cdm_parser.jl:81\n",
      "┌ Info: parsing timeseries data in /Users/cbarrows/.julia/packages/PowerSystems/a865r/data/RTS_GMLC/../forecasts/RTS_GMLC_forecasts/gen/Renewable/PV/DAY_AHEAD_pv.csv for 320_PV_1\n",
      "└ @ PowerSystems /Users/cbarrows/.julia/packages/PowerSystems/a865r/src/parsers/cdm_parser.jl:81\n",
      "┌ Info: parsing timeseries data in /Users/cbarrows/.julia/packages/PowerSystems/a865r/data/RTS_GMLC/../forecasts/RTS_GMLC_forecasts/gen/Renewable/PV/DAY_AHEAD_pv.csv for 314_PV_1\n",
      "└ @ PowerSystems /Users/cbarrows/.julia/packages/PowerSystems/a865r/src/parsers/cdm_parser.jl:81\n",
      "┌ Info: parsing timeseries data in /Users/cbarrows/.julia/packages/PowerSystems/a865r/data/RTS_GMLC/../forecasts/RTS_GMLC_forecasts/gen/Renewable/PV/DAY_AHEAD_pv.csv for 314_PV_2\n",
      "└ @ PowerSystems /Users/cbarrows/.julia/packages/PowerSystems/a865r/src/parsers/cdm_parser.jl:81\n",
      "┌ Info: parsing timeseries data in /Users/cbarrows/.julia/packages/PowerSystems/a865r/data/RTS_GMLC/../forecasts/RTS_GMLC_forecasts/gen/Renewable/PV/DAY_AHEAD_pv.csv for 313_PV_1\n",
      "└ @ PowerSystems /Users/cbarrows/.julia/packages/PowerSystems/a865r/src/parsers/cdm_parser.jl:81\n",
      "┌ Info: parsing timeseries data in /Users/cbarrows/.julia/packages/PowerSystems/a865r/data/RTS_GMLC/../forecasts/RTS_GMLC_forecasts/gen/Renewable/PV/DAY_AHEAD_pv.csv for 314_PV_3\n",
      "└ @ PowerSystems /Users/cbarrows/.julia/packages/PowerSystems/a865r/src/parsers/cdm_parser.jl:81\n",
      "┌ Info: parsing timeseries data in /Users/cbarrows/.julia/packages/PowerSystems/a865r/data/RTS_GMLC/../forecasts/RTS_GMLC_forecasts/gen/Renewable/PV/DAY_AHEAD_pv.csv for 314_PV_4\n",
      "└ @ PowerSystems /Users/cbarrows/.julia/packages/PowerSystems/a865r/src/parsers/cdm_parser.jl:81\n",
      "┌ Info: parsing timeseries data in /Users/cbarrows/.julia/packages/PowerSystems/a865r/data/RTS_GMLC/../forecasts/RTS_GMLC_forecasts/gen/Renewable/PV/DAY_AHEAD_pv.csv for 313_PV_2\n",
      "└ @ PowerSystems /Users/cbarrows/.julia/packages/PowerSystems/a865r/src/parsers/cdm_parser.jl:81\n",
      "┌ Info: parsing timeseries data in /Users/cbarrows/.julia/packages/PowerSystems/a865r/data/RTS_GMLC/../forecasts/RTS_GMLC_forecasts/gen/Renewable/PV/DAY_AHEAD_pv.csv for 310_PV_1\n",
      "└ @ PowerSystems /Users/cbarrows/.julia/packages/PowerSystems/a865r/src/parsers/cdm_parser.jl:81\n",
      "┌ Info: parsing timeseries data in /Users/cbarrows/.julia/packages/PowerSystems/a865r/data/RTS_GMLC/../forecasts/RTS_GMLC_forecasts/gen/Renewable/PV/DAY_AHEAD_pv.csv for 324_PV_1\n",
      "└ @ PowerSystems /Users/cbarrows/.julia/packages/PowerSystems/a865r/src/parsers/cdm_parser.jl:81\n",
      "┌ Info: parsing timeseries data in /Users/cbarrows/.julia/packages/PowerSystems/a865r/data/RTS_GMLC/../forecasts/RTS_GMLC_forecasts/gen/Renewable/PV/DAY_AHEAD_pv.csv for 312_PV_1\n",
      "└ @ PowerSystems /Users/cbarrows/.julia/packages/PowerSystems/a865r/src/parsers/cdm_parser.jl:81\n",
      "┌ Info: parsing timeseries data in /Users/cbarrows/.julia/packages/PowerSystems/a865r/data/RTS_GMLC/../forecasts/RTS_GMLC_forecasts/gen/Renewable/PV/DAY_AHEAD_pv.csv for 310_PV_2\n",
      "└ @ PowerSystems /Users/cbarrows/.julia/packages/PowerSystems/a865r/src/parsers/cdm_parser.jl:81\n",
      "┌ Info: parsing timeseries data in /Users/cbarrows/.julia/packages/PowerSystems/a865r/data/RTS_GMLC/../forecasts/RTS_GMLC_forecasts/gen/Renewable/PV/DAY_AHEAD_pv.csv for 324_PV_2\n",
      "└ @ PowerSystems /Users/cbarrows/.julia/packages/PowerSystems/a865r/src/parsers/cdm_parser.jl:81\n",
      "┌ Info: parsing timeseries data in /Users/cbarrows/.julia/packages/PowerSystems/a865r/data/RTS_GMLC/../forecasts/RTS_GMLC_forecasts/gen/Renewable/PV/DAY_AHEAD_pv.csv for 324_PV_3\n",
      "└ @ PowerSystems /Users/cbarrows/.julia/packages/PowerSystems/a865r/src/parsers/cdm_parser.jl:81\n",
      "┌ Info: parsing timeseries data in /Users/cbarrows/.julia/packages/PowerSystems/a865r/data/RTS_GMLC/../forecasts/RTS_GMLC_forecasts/gen/Renewable/PV/DAY_AHEAD_pv.csv for 113_PV_1\n",
      "└ @ PowerSystems /Users/cbarrows/.julia/packages/PowerSystems/a865r/src/parsers/cdm_parser.jl:81\n",
      "┌ Info: parsing timeseries data in /Users/cbarrows/.julia/packages/PowerSystems/a865r/data/RTS_GMLC/../forecasts/RTS_GMLC_forecasts/gen/Renewable/PV/DAY_AHEAD_pv.csv for 319_PV_1\n",
      "└ @ PowerSystems /Users/cbarrows/.julia/packages/PowerSystems/a865r/src/parsers/cdm_parser.jl:81\n",
      "┌ Info: parsing timeseries data in /Users/cbarrows/.julia/packages/PowerSystems/a865r/data/RTS_GMLC/../forecasts/RTS_GMLC_forecasts/gen/Renewable/PV/DAY_AHEAD_pv.csv for 215_PV_1\n",
      "└ @ PowerSystems /Users/cbarrows/.julia/packages/PowerSystems/a865r/src/parsers/cdm_parser.jl:81\n",
      "┌ Info: parsing timeseries data in /Users/cbarrows/.julia/packages/PowerSystems/a865r/data/RTS_GMLC/../forecasts/RTS_GMLC_forecasts/gen/Renewable/PV/DAY_AHEAD_pv.csv for 102_PV_1\n",
      "└ @ PowerSystems /Users/cbarrows/.julia/packages/PowerSystems/a865r/src/parsers/cdm_parser.jl:81\n",
      "┌ Info: parsing timeseries data in /Users/cbarrows/.julia/packages/PowerSystems/a865r/data/RTS_GMLC/../forecasts/RTS_GMLC_forecasts/gen/Renewable/PV/DAY_AHEAD_pv.csv for 101_PV_1\n",
      "└ @ PowerSystems /Users/cbarrows/.julia/packages/PowerSystems/a865r/src/parsers/cdm_parser.jl:81\n",
      "┌ Info: parsing timeseries data in /Users/cbarrows/.julia/packages/PowerSystems/a865r/data/RTS_GMLC/../forecasts/RTS_GMLC_forecasts/gen/Renewable/PV/DAY_AHEAD_pv.csv for 102_PV_2\n",
      "└ @ PowerSystems /Users/cbarrows/.julia/packages/PowerSystems/a865r/src/parsers/cdm_parser.jl:81\n"
     ]
    },
    {
     "name": "stderr",
     "output_type": "stream",
     "text": [
      "┌ Info: parsing timeseries data in /Users/cbarrows/.julia/packages/PowerSystems/a865r/data/RTS_GMLC/../forecasts/RTS_GMLC_forecasts/gen/Renewable/PV/DAY_AHEAD_pv.csv for 104_PV_1\n",
      "└ @ PowerSystems /Users/cbarrows/.julia/packages/PowerSystems/a865r/src/parsers/cdm_parser.jl:81\n",
      "┌ Info: parsing timeseries data in /Users/cbarrows/.julia/packages/PowerSystems/a865r/data/RTS_GMLC/../forecasts/RTS_GMLC_forecasts/gen/Renewable/PV/DAY_AHEAD_pv.csv for 101_PV_2\n",
      "└ @ PowerSystems /Users/cbarrows/.julia/packages/PowerSystems/a865r/src/parsers/cdm_parser.jl:81\n",
      "┌ Info: parsing timeseries data in /Users/cbarrows/.julia/packages/PowerSystems/a865r/data/RTS_GMLC/../forecasts/RTS_GMLC_forecasts/gen/Renewable/PV/DAY_AHEAD_pv.csv for 101_PV_3\n",
      "└ @ PowerSystems /Users/cbarrows/.julia/packages/PowerSystems/a865r/src/parsers/cdm_parser.jl:81\n",
      "┌ Info: parsing timeseries data in /Users/cbarrows/.julia/packages/PowerSystems/a865r/data/RTS_GMLC/../forecasts/RTS_GMLC_forecasts/gen/Renewable/PV/DAY_AHEAD_pv.csv for 101_PV_4\n",
      "└ @ PowerSystems /Users/cbarrows/.julia/packages/PowerSystems/a865r/src/parsers/cdm_parser.jl:81\n",
      "┌ Info: parsing timeseries data in /Users/cbarrows/.julia/packages/PowerSystems/a865r/data/RTS_GMLC/../forecasts/RTS_GMLC_forecasts/gen/Renewable/PV/DAY_AHEAD_pv.csv for 103_PV_1\n",
      "└ @ PowerSystems /Users/cbarrows/.julia/packages/PowerSystems/a865r/src/parsers/cdm_parser.jl:81\n",
      "┌ Info: parsing timeseries data in /Users/cbarrows/.julia/packages/PowerSystems/a865r/data/RTS_GMLC/../forecasts/RTS_GMLC_forecasts/gen/Renewable/PV/DAY_AHEAD_pv.csv for 119_PV_1\n",
      "└ @ PowerSystems /Users/cbarrows/.julia/packages/PowerSystems/a865r/src/parsers/cdm_parser.jl:81\n",
      "┌ Info: parsing timeseries data in /Users/cbarrows/.julia/packages/PowerSystems/a865r/data/RTS_GMLC/../forecasts/RTS_GMLC_forecasts/gen/Renewable/RTPV/DAY_AHEAD_rtpv.csv for 308_RTPV_1\n",
      "└ @ PowerSystems /Users/cbarrows/.julia/packages/PowerSystems/a865r/src/parsers/cdm_parser.jl:81\n",
      "┌ Info: parsing timeseries data in /Users/cbarrows/.julia/packages/PowerSystems/a865r/data/RTS_GMLC/../forecasts/RTS_GMLC_forecasts/gen/Renewable/RTPV/DAY_AHEAD_rtpv.csv for 313_RTPV_1\n",
      "└ @ PowerSystems /Users/cbarrows/.julia/packages/PowerSystems/a865r/src/parsers/cdm_parser.jl:81\n",
      "┌ Info: parsing timeseries data in /Users/cbarrows/.julia/packages/PowerSystems/a865r/data/RTS_GMLC/../forecasts/RTS_GMLC_forecasts/gen/Renewable/RTPV/DAY_AHEAD_rtpv.csv for 313_RTPV_2\n",
      "└ @ PowerSystems /Users/cbarrows/.julia/packages/PowerSystems/a865r/src/parsers/cdm_parser.jl:81\n",
      "┌ Info: parsing timeseries data in /Users/cbarrows/.julia/packages/PowerSystems/a865r/data/RTS_GMLC/../forecasts/RTS_GMLC_forecasts/gen/Renewable/RTPV/DAY_AHEAD_rtpv.csv for 313_RTPV_3\n",
      "└ @ PowerSystems /Users/cbarrows/.julia/packages/PowerSystems/a865r/src/parsers/cdm_parser.jl:81\n",
      "┌ Info: parsing timeseries data in /Users/cbarrows/.julia/packages/PowerSystems/a865r/data/RTS_GMLC/../forecasts/RTS_GMLC_forecasts/gen/Renewable/RTPV/DAY_AHEAD_rtpv.csv for 313_RTPV_4\n",
      "└ @ PowerSystems /Users/cbarrows/.julia/packages/PowerSystems/a865r/src/parsers/cdm_parser.jl:81\n",
      "┌ Info: parsing timeseries data in /Users/cbarrows/.julia/packages/PowerSystems/a865r/data/RTS_GMLC/../forecasts/RTS_GMLC_forecasts/gen/Renewable/RTPV/DAY_AHEAD_rtpv.csv for 313_RTPV_5\n",
      "└ @ PowerSystems /Users/cbarrows/.julia/packages/PowerSystems/a865r/src/parsers/cdm_parser.jl:81\n",
      "┌ Info: parsing timeseries data in /Users/cbarrows/.julia/packages/PowerSystems/a865r/data/RTS_GMLC/../forecasts/RTS_GMLC_forecasts/gen/Renewable/RTPV/DAY_AHEAD_rtpv.csv for 313_RTPV_6\n",
      "└ @ PowerSystems /Users/cbarrows/.julia/packages/PowerSystems/a865r/src/parsers/cdm_parser.jl:81\n",
      "┌ Info: parsing timeseries data in /Users/cbarrows/.julia/packages/PowerSystems/a865r/data/RTS_GMLC/../forecasts/RTS_GMLC_forecasts/gen/Renewable/RTPV/DAY_AHEAD_rtpv.csv for 313_RTPV_7\n",
      "└ @ PowerSystems /Users/cbarrows/.julia/packages/PowerSystems/a865r/src/parsers/cdm_parser.jl:81\n",
      "┌ Info: parsing timeseries data in /Users/cbarrows/.julia/packages/PowerSystems/a865r/data/RTS_GMLC/../forecasts/RTS_GMLC_forecasts/gen/Renewable/RTPV/DAY_AHEAD_rtpv.csv for 313_RTPV_8\n",
      "└ @ PowerSystems /Users/cbarrows/.julia/packages/PowerSystems/a865r/src/parsers/cdm_parser.jl:81\n",
      "┌ Info: parsing timeseries data in /Users/cbarrows/.julia/packages/PowerSystems/a865r/data/RTS_GMLC/../forecasts/RTS_GMLC_forecasts/gen/Renewable/RTPV/DAY_AHEAD_rtpv.csv for 313_RTPV_9\n",
      "└ @ PowerSystems /Users/cbarrows/.julia/packages/PowerSystems/a865r/src/parsers/cdm_parser.jl:81\n",
      "┌ Info: parsing timeseries data in /Users/cbarrows/.julia/packages/PowerSystems/a865r/data/RTS_GMLC/../forecasts/RTS_GMLC_forecasts/gen/Renewable/RTPV/DAY_AHEAD_rtpv.csv for 313_RTPV_10\n",
      "└ @ PowerSystems /Users/cbarrows/.julia/packages/PowerSystems/a865r/src/parsers/cdm_parser.jl:81\n",
      "┌ Info: parsing timeseries data in /Users/cbarrows/.julia/packages/PowerSystems/a865r/data/RTS_GMLC/../forecasts/RTS_GMLC_forecasts/gen/Renewable/RTPV/DAY_AHEAD_rtpv.csv for 313_RTPV_11\n",
      "└ @ PowerSystems /Users/cbarrows/.julia/packages/PowerSystems/a865r/src/parsers/cdm_parser.jl:81\n",
      "┌ Info: parsing timeseries data in /Users/cbarrows/.julia/packages/PowerSystems/a865r/data/RTS_GMLC/../forecasts/RTS_GMLC_forecasts/gen/Renewable/RTPV/DAY_AHEAD_rtpv.csv for 313_RTPV_12\n",
      "└ @ PowerSystems /Users/cbarrows/.julia/packages/PowerSystems/a865r/src/parsers/cdm_parser.jl:81\n",
      "┌ Info: parsing timeseries data in /Users/cbarrows/.julia/packages/PowerSystems/a865r/data/RTS_GMLC/../forecasts/RTS_GMLC_forecasts/gen/Renewable/RTPV/DAY_AHEAD_rtpv.csv for 320_RTPV_1\n",
      "└ @ PowerSystems /Users/cbarrows/.julia/packages/PowerSystems/a865r/src/parsers/cdm_parser.jl:81\n",
      "┌ Info: parsing timeseries data in /Users/cbarrows/.julia/packages/PowerSystems/a865r/data/RTS_GMLC/../forecasts/RTS_GMLC_forecasts/gen/Renewable/RTPV/DAY_AHEAD_rtpv.csv for 320_RTPV_2\n",
      "└ @ PowerSystems /Users/cbarrows/.julia/packages/PowerSystems/a865r/src/parsers/cdm_parser.jl:81\n",
      "┌ Info: parsing timeseries data in /Users/cbarrows/.julia/packages/PowerSystems/a865r/data/RTS_GMLC/../forecasts/RTS_GMLC_forecasts/gen/Renewable/RTPV/DAY_AHEAD_rtpv.csv for 320_RTPV_3\n",
      "└ @ PowerSystems /Users/cbarrows/.julia/packages/PowerSystems/a865r/src/parsers/cdm_parser.jl:81\n",
      "┌ Info: parsing timeseries data in /Users/cbarrows/.julia/packages/PowerSystems/a865r/data/RTS_GMLC/../forecasts/RTS_GMLC_forecasts/gen/Renewable/RTPV/DAY_AHEAD_rtpv.csv for 313_RTPV_13\n",
      "└ @ PowerSystems /Users/cbarrows/.julia/packages/PowerSystems/a865r/src/parsers/cdm_parser.jl:81\n",
      "┌ Info: parsing timeseries data in /Users/cbarrows/.julia/packages/PowerSystems/a865r/data/RTS_GMLC/../forecasts/RTS_GMLC_forecasts/gen/Renewable/RTPV/DAY_AHEAD_rtpv.csv for 320_RTPV_4\n",
      "└ @ PowerSystems /Users/cbarrows/.julia/packages/PowerSystems/a865r/src/parsers/cdm_parser.jl:81\n",
      "┌ Info: parsing timeseries data in /Users/cbarrows/.julia/packages/PowerSystems/a865r/data/RTS_GMLC/../forecasts/RTS_GMLC_forecasts/gen/Renewable/RTPV/DAY_AHEAD_rtpv.csv for 320_RTPV_5\n",
      "└ @ PowerSystems /Users/cbarrows/.julia/packages/PowerSystems/a865r/src/parsers/cdm_parser.jl:81\n",
      "┌ Info: parsing timeseries data in /Users/cbarrows/.julia/packages/PowerSystems/a865r/data/RTS_GMLC/../forecasts/RTS_GMLC_forecasts/gen/Renewable/RTPV/DAY_AHEAD_rtpv.csv for 118_RTPV_1\n",
      "└ @ PowerSystems /Users/cbarrows/.julia/packages/PowerSystems/a865r/src/parsers/cdm_parser.jl:81\n",
      "┌ Info: parsing timeseries data in /Users/cbarrows/.julia/packages/PowerSystems/a865r/data/RTS_GMLC/../forecasts/RTS_GMLC_forecasts/gen/Renewable/RTPV/DAY_AHEAD_rtpv.csv for 118_RTPV_2\n",
      "└ @ PowerSystems /Users/cbarrows/.julia/packages/PowerSystems/a865r/src/parsers/cdm_parser.jl:81\n",
      "┌ Info: parsing timeseries data in /Users/cbarrows/.julia/packages/PowerSystems/a865r/data/RTS_GMLC/../forecasts/RTS_GMLC_forecasts/gen/Renewable/RTPV/DAY_AHEAD_rtpv.csv for 118_RTPV_3\n",
      "└ @ PowerSystems /Users/cbarrows/.julia/packages/PowerSystems/a865r/src/parsers/cdm_parser.jl:81\n",
      "┌ Info: parsing timeseries data in /Users/cbarrows/.julia/packages/PowerSystems/a865r/data/RTS_GMLC/../forecasts/RTS_GMLC_forecasts/gen/Renewable/RTPV/DAY_AHEAD_rtpv.csv for 118_RTPV_4\n",
      "└ @ PowerSystems /Users/cbarrows/.julia/packages/PowerSystems/a865r/src/parsers/cdm_parser.jl:81\n",
      "┌ Info: parsing timeseries data in /Users/cbarrows/.julia/packages/PowerSystems/a865r/data/RTS_GMLC/../forecasts/RTS_GMLC_forecasts/gen/Renewable/RTPV/DAY_AHEAD_rtpv.csv for 118_RTPV_5\n",
      "└ @ PowerSystems /Users/cbarrows/.julia/packages/PowerSystems/a865r/src/parsers/cdm_parser.jl:81\n",
      "┌ Info: parsing timeseries data in /Users/cbarrows/.julia/packages/PowerSystems/a865r/data/RTS_GMLC/../forecasts/RTS_GMLC_forecasts/gen/Renewable/RTPV/DAY_AHEAD_rtpv.csv for 118_RTPV_6\n",
      "└ @ PowerSystems /Users/cbarrows/.julia/packages/PowerSystems/a865r/src/parsers/cdm_parser.jl:81\n",
      "┌ Info: parsing timeseries data in /Users/cbarrows/.julia/packages/PowerSystems/a865r/data/RTS_GMLC/../forecasts/RTS_GMLC_forecasts/gen/Renewable/RTPV/DAY_AHEAD_rtpv.csv for 320_RTPV_6\n",
      "└ @ PowerSystems /Users/cbarrows/.julia/packages/PowerSystems/a865r/src/parsers/cdm_parser.jl:81\n",
      "┌ Info: parsing timeseries data in /Users/cbarrows/.julia/packages/PowerSystems/a865r/data/RTS_GMLC/../forecasts/RTS_GMLC_forecasts/gen/Renewable/RTPV/DAY_AHEAD_rtpv.csv for 118_RTPV_7\n",
      "└ @ PowerSystems /Users/cbarrows/.julia/packages/PowerSystems/a865r/src/parsers/cdm_parser.jl:81\n",
      "┌ Info: parsing timeseries data in /Users/cbarrows/.julia/packages/PowerSystems/a865r/data/RTS_GMLC/../forecasts/RTS_GMLC_forecasts/gen/Renewable/RTPV/DAY_AHEAD_rtpv.csv for 118_RTPV_8\n",
      "└ @ PowerSystems /Users/cbarrows/.julia/packages/PowerSystems/a865r/src/parsers/cdm_parser.jl:81\n",
      "┌ Info: parsing timeseries data in /Users/cbarrows/.julia/packages/PowerSystems/a865r/data/RTS_GMLC/../forecasts/RTS_GMLC_forecasts/gen/Renewable/RTPV/DAY_AHEAD_rtpv.csv for 118_RTPV_9\n",
      "└ @ PowerSystems /Users/cbarrows/.julia/packages/PowerSystems/a865r/src/parsers/cdm_parser.jl:81\n",
      "┌ Info: parsing timeseries data in /Users/cbarrows/.julia/packages/PowerSystems/a865r/data/RTS_GMLC/../forecasts/RTS_GMLC_forecasts/gen/Renewable/RTPV/DAY_AHEAD_rtpv.csv for 118_RTPV_10\n",
      "└ @ PowerSystems /Users/cbarrows/.julia/packages/PowerSystems/a865r/src/parsers/cdm_parser.jl:81\n"
     ]
    },
    {
     "name": "stderr",
     "output_type": "stream",
     "text": [
      "┌ Info: parsing timeseries data in /Users/cbarrows/.julia/packages/PowerSystems/a865r/data/RTS_GMLC/../forecasts/RTS_GMLC_forecasts/gen/Renewable/RTPV/DAY_AHEAD_rtpv.csv for 213_RTPV_1\n",
      "└ @ PowerSystems /Users/cbarrows/.julia/packages/PowerSystems/a865r/src/parsers/cdm_parser.jl:81\n",
      "┌ Info: parsing timeseries data in /Users/cbarrows/.julia/packages/PowerSystems/a865r/data/RTS_GMLC/../forecasts/RTS_GMLC_forecasts/gen/Renewable/WIND/DAY_AHEAD_wind.csv for 309_WIND_1\n",
      "└ @ PowerSystems /Users/cbarrows/.julia/packages/PowerSystems/a865r/src/parsers/cdm_parser.jl:81\n",
      "┌ Info: parsing timeseries data in /Users/cbarrows/.julia/packages/PowerSystems/a865r/data/RTS_GMLC/../forecasts/RTS_GMLC_forecasts/gen/Renewable/WIND/DAY_AHEAD_wind.csv for 317_WIND_1\n",
      "└ @ PowerSystems /Users/cbarrows/.julia/packages/PowerSystems/a865r/src/parsers/cdm_parser.jl:81\n",
      "┌ Info: parsing timeseries data in /Users/cbarrows/.julia/packages/PowerSystems/a865r/data/RTS_GMLC/../forecasts/RTS_GMLC_forecasts/gen/Renewable/WIND/DAY_AHEAD_wind.csv for 303_WIND_1\n",
      "└ @ PowerSystems /Users/cbarrows/.julia/packages/PowerSystems/a865r/src/parsers/cdm_parser.jl:81\n",
      "┌ Info: parsing timeseries data in /Users/cbarrows/.julia/packages/PowerSystems/a865r/data/RTS_GMLC/../forecasts/RTS_GMLC_forecasts/gen/Renewable/WIND/DAY_AHEAD_wind.csv for 122_WIND_1\n",
      "└ @ PowerSystems /Users/cbarrows/.julia/packages/PowerSystems/a865r/src/parsers/cdm_parser.jl:81\n",
      "┌ Info: parsing timeseries data in /Users/cbarrows/.julia/packages/PowerSystems/a865r/data/RTS_GMLC/../forecasts/RTS_GMLC_forecasts/gen/Hydro/DAY_AHEAD_hydro.csv for 122_HYDRO_1\n",
      "└ @ PowerSystems /Users/cbarrows/.julia/packages/PowerSystems/a865r/src/parsers/cdm_parser.jl:81\n",
      "┌ Info: parsing timeseries data in /Users/cbarrows/.julia/packages/PowerSystems/a865r/data/RTS_GMLC/../forecasts/RTS_GMLC_forecasts/gen/Hydro/DAY_AHEAD_hydro.csv for 122_HYDRO_2\n",
      "└ @ PowerSystems /Users/cbarrows/.julia/packages/PowerSystems/a865r/src/parsers/cdm_parser.jl:81\n",
      "┌ Info: parsing timeseries data in /Users/cbarrows/.julia/packages/PowerSystems/a865r/data/RTS_GMLC/../forecasts/RTS_GMLC_forecasts/gen/Hydro/DAY_AHEAD_hydro.csv for 122_HYDRO_3\n",
      "└ @ PowerSystems /Users/cbarrows/.julia/packages/PowerSystems/a865r/src/parsers/cdm_parser.jl:81\n",
      "┌ Info: parsing timeseries data in /Users/cbarrows/.julia/packages/PowerSystems/a865r/data/RTS_GMLC/../forecasts/RTS_GMLC_forecasts/gen/Hydro/DAY_AHEAD_hydro.csv for 122_HYDRO_4\n",
      "└ @ PowerSystems /Users/cbarrows/.julia/packages/PowerSystems/a865r/src/parsers/cdm_parser.jl:81\n",
      "┌ Info: parsing timeseries data in /Users/cbarrows/.julia/packages/PowerSystems/a865r/data/RTS_GMLC/../forecasts/RTS_GMLC_forecasts/gen/Hydro/DAY_AHEAD_hydro.csv for 122_HYDRO_5\n",
      "└ @ PowerSystems /Users/cbarrows/.julia/packages/PowerSystems/a865r/src/parsers/cdm_parser.jl:81\n",
      "┌ Info: parsing timeseries data in /Users/cbarrows/.julia/packages/PowerSystems/a865r/data/RTS_GMLC/../forecasts/RTS_GMLC_forecasts/gen/Hydro/DAY_AHEAD_hydro.csv for 122_HYDRO_6\n",
      "└ @ PowerSystems /Users/cbarrows/.julia/packages/PowerSystems/a865r/src/parsers/cdm_parser.jl:81\n",
      "┌ Info: parsing timeseries data in /Users/cbarrows/.julia/packages/PowerSystems/a865r/data/RTS_GMLC/../forecasts/RTS_GMLC_forecasts/gen/Hydro/DAY_AHEAD_hydro.csv for 201_HYDRO_4\n",
      "└ @ PowerSystems /Users/cbarrows/.julia/packages/PowerSystems/a865r/src/parsers/cdm_parser.jl:81\n",
      "┌ Info: parsing timeseries data in /Users/cbarrows/.julia/packages/PowerSystems/a865r/data/RTS_GMLC/../forecasts/RTS_GMLC_forecasts/gen/Hydro/DAY_AHEAD_hydro.csv for 215_HYDRO_1\n",
      "└ @ PowerSystems /Users/cbarrows/.julia/packages/PowerSystems/a865r/src/parsers/cdm_parser.jl:81\n",
      "┌ Info: parsing timeseries data in /Users/cbarrows/.julia/packages/PowerSystems/a865r/data/RTS_GMLC/../forecasts/RTS_GMLC_forecasts/gen/Hydro/DAY_AHEAD_hydro.csv for 215_HYDRO_2\n",
      "└ @ PowerSystems /Users/cbarrows/.julia/packages/PowerSystems/a865r/src/parsers/cdm_parser.jl:81\n",
      "┌ Info: parsing timeseries data in /Users/cbarrows/.julia/packages/PowerSystems/a865r/data/RTS_GMLC/../forecasts/RTS_GMLC_forecasts/gen/Hydro/DAY_AHEAD_hydro.csv for 215_HYDRO_3\n",
      "└ @ PowerSystems /Users/cbarrows/.julia/packages/PowerSystems/a865r/src/parsers/cdm_parser.jl:81\n",
      "┌ Info: parsing timeseries data in /Users/cbarrows/.julia/packages/PowerSystems/a865r/data/RTS_GMLC/../forecasts/RTS_GMLC_forecasts/gen/Hydro/DAY_AHEAD_hydro.csv for 222_HYDRO_1\n",
      "└ @ PowerSystems /Users/cbarrows/.julia/packages/PowerSystems/a865r/src/parsers/cdm_parser.jl:81\n",
      "┌ Info: parsing timeseries data in /Users/cbarrows/.julia/packages/PowerSystems/a865r/data/RTS_GMLC/../forecasts/RTS_GMLC_forecasts/gen/Hydro/DAY_AHEAD_hydro.csv for 222_HYDRO_2\n",
      "└ @ PowerSystems /Users/cbarrows/.julia/packages/PowerSystems/a865r/src/parsers/cdm_parser.jl:81\n",
      "┌ Info: parsing timeseries data in /Users/cbarrows/.julia/packages/PowerSystems/a865r/data/RTS_GMLC/../forecasts/RTS_GMLC_forecasts/gen/Hydro/DAY_AHEAD_hydro.csv for 222_HYDRO_3\n",
      "└ @ PowerSystems /Users/cbarrows/.julia/packages/PowerSystems/a865r/src/parsers/cdm_parser.jl:81\n",
      "┌ Info: parsing timeseries data in /Users/cbarrows/.julia/packages/PowerSystems/a865r/data/RTS_GMLC/../forecasts/RTS_GMLC_forecasts/gen/Hydro/DAY_AHEAD_hydro.csv for 222_HYDRO_4\n",
      "└ @ PowerSystems /Users/cbarrows/.julia/packages/PowerSystems/a865r/src/parsers/cdm_parser.jl:81\n",
      "┌ Info: parsing timeseries data in /Users/cbarrows/.julia/packages/PowerSystems/a865r/data/RTS_GMLC/../forecasts/RTS_GMLC_forecasts/gen/Hydro/DAY_AHEAD_hydro.csv for 222_HYDRO_5\n",
      "└ @ PowerSystems /Users/cbarrows/.julia/packages/PowerSystems/a865r/src/parsers/cdm_parser.jl:81\n",
      "┌ Info: parsing timeseries data in /Users/cbarrows/.julia/packages/PowerSystems/a865r/data/RTS_GMLC/../forecasts/RTS_GMLC_forecasts/gen/Hydro/DAY_AHEAD_hydro.csv for 222_HYDRO_6\n",
      "└ @ PowerSystems /Users/cbarrows/.julia/packages/PowerSystems/a865r/src/parsers/cdm_parser.jl:81\n",
      "┌ Info: parsing timeseries data in /Users/cbarrows/.julia/packages/PowerSystems/a865r/data/RTS_GMLC/../forecasts/RTS_GMLC_forecasts/gen/Hydro/DAY_AHEAD_hydro.csv for 322_HYDRO_1\n",
      "└ @ PowerSystems /Users/cbarrows/.julia/packages/PowerSystems/a865r/src/parsers/cdm_parser.jl:81\n",
      "┌ Info: parsing timeseries data in /Users/cbarrows/.julia/packages/PowerSystems/a865r/data/RTS_GMLC/../forecasts/RTS_GMLC_forecasts/gen/Hydro/DAY_AHEAD_hydro.csv for 322_HYDRO_2\n",
      "└ @ PowerSystems /Users/cbarrows/.julia/packages/PowerSystems/a865r/src/parsers/cdm_parser.jl:81\n",
      "┌ Info: parsing timeseries data in /Users/cbarrows/.julia/packages/PowerSystems/a865r/data/RTS_GMLC/../forecasts/RTS_GMLC_forecasts/gen/Hydro/DAY_AHEAD_hydro.csv for 322_HYDRO_3\n",
      "└ @ PowerSystems /Users/cbarrows/.julia/packages/PowerSystems/a865r/src/parsers/cdm_parser.jl:81\n",
      "┌ Info: parsing timeseries data in /Users/cbarrows/.julia/packages/PowerSystems/a865r/data/RTS_GMLC/../forecasts/RTS_GMLC_forecasts/gen/Hydro/DAY_AHEAD_hydro.csv for 322_HYDRO_4\n",
      "└ @ PowerSystems /Users/cbarrows/.julia/packages/PowerSystems/a865r/src/parsers/cdm_parser.jl:81\n",
      "┌ Info: parsing timeseries data in /Users/cbarrows/.julia/packages/PowerSystems/a865r/data/RTS_GMLC/../forecasts/RTS_GMLC_forecasts/gen/Renewable/RTPV/DAY_AHEAD_rtpv.csv for 308_RTPV_1\n",
      "└ @ PowerSystems /Users/cbarrows/.julia/packages/PowerSystems/a865r/src/parsers/cdm_parser.jl:81\n",
      "┌ Info: parsing timeseries data in /Users/cbarrows/.julia/packages/PowerSystems/a865r/data/RTS_GMLC/../forecasts/RTS_GMLC_forecasts/gen/Renewable/RTPV/DAY_AHEAD_rtpv.csv for 313_RTPV_1\n",
      "└ @ PowerSystems /Users/cbarrows/.julia/packages/PowerSystems/a865r/src/parsers/cdm_parser.jl:81\n",
      "┌ Info: parsing timeseries data in /Users/cbarrows/.julia/packages/PowerSystems/a865r/data/RTS_GMLC/../forecasts/RTS_GMLC_forecasts/gen/Renewable/RTPV/DAY_AHEAD_rtpv.csv for 313_RTPV_2\n",
      "└ @ PowerSystems /Users/cbarrows/.julia/packages/PowerSystems/a865r/src/parsers/cdm_parser.jl:81\n",
      "┌ Info: parsing timeseries data in /Users/cbarrows/.julia/packages/PowerSystems/a865r/data/RTS_GMLC/../forecasts/RTS_GMLC_forecasts/gen/Renewable/RTPV/DAY_AHEAD_rtpv.csv for 313_RTPV_3\n",
      "└ @ PowerSystems /Users/cbarrows/.julia/packages/PowerSystems/a865r/src/parsers/cdm_parser.jl:81\n",
      "┌ Info: parsing timeseries data in /Users/cbarrows/.julia/packages/PowerSystems/a865r/data/RTS_GMLC/../forecasts/RTS_GMLC_forecasts/gen/Renewable/RTPV/DAY_AHEAD_rtpv.csv for 313_RTPV_4\n",
      "└ @ PowerSystems /Users/cbarrows/.julia/packages/PowerSystems/a865r/src/parsers/cdm_parser.jl:81\n",
      "┌ Info: parsing timeseries data in /Users/cbarrows/.julia/packages/PowerSystems/a865r/data/RTS_GMLC/../forecasts/RTS_GMLC_forecasts/gen/Renewable/RTPV/DAY_AHEAD_rtpv.csv for 313_RTPV_5\n",
      "└ @ PowerSystems /Users/cbarrows/.julia/packages/PowerSystems/a865r/src/parsers/cdm_parser.jl:81\n",
      "┌ Info: parsing timeseries data in /Users/cbarrows/.julia/packages/PowerSystems/a865r/data/RTS_GMLC/../forecasts/RTS_GMLC_forecasts/gen/Renewable/RTPV/DAY_AHEAD_rtpv.csv for 313_RTPV_6\n",
      "└ @ PowerSystems /Users/cbarrows/.julia/packages/PowerSystems/a865r/src/parsers/cdm_parser.jl:81\n",
      "┌ Info: parsing timeseries data in /Users/cbarrows/.julia/packages/PowerSystems/a865r/data/RTS_GMLC/../forecasts/RTS_GMLC_forecasts/gen/Renewable/RTPV/DAY_AHEAD_rtpv.csv for 313_RTPV_7\n",
      "└ @ PowerSystems /Users/cbarrows/.julia/packages/PowerSystems/a865r/src/parsers/cdm_parser.jl:81\n",
      "┌ Info: parsing timeseries data in /Users/cbarrows/.julia/packages/PowerSystems/a865r/data/RTS_GMLC/../forecasts/RTS_GMLC_forecasts/gen/Renewable/RTPV/DAY_AHEAD_rtpv.csv for 313_RTPV_8\n",
      "└ @ PowerSystems /Users/cbarrows/.julia/packages/PowerSystems/a865r/src/parsers/cdm_parser.jl:81\n",
      "┌ Info: parsing timeseries data in /Users/cbarrows/.julia/packages/PowerSystems/a865r/data/RTS_GMLC/../forecasts/RTS_GMLC_forecasts/gen/Renewable/RTPV/DAY_AHEAD_rtpv.csv for 313_RTPV_9\n",
      "└ @ PowerSystems /Users/cbarrows/.julia/packages/PowerSystems/a865r/src/parsers/cdm_parser.jl:81\n",
      "┌ Info: parsing timeseries data in /Users/cbarrows/.julia/packages/PowerSystems/a865r/data/RTS_GMLC/../forecasts/RTS_GMLC_forecasts/gen/Renewable/RTPV/DAY_AHEAD_rtpv.csv for 313_RTPV_10\n",
      "└ @ PowerSystems /Users/cbarrows/.julia/packages/PowerSystems/a865r/src/parsers/cdm_parser.jl:81\n",
      "┌ Info: parsing timeseries data in /Users/cbarrows/.julia/packages/PowerSystems/a865r/data/RTS_GMLC/../forecasts/RTS_GMLC_forecasts/gen/Renewable/RTPV/DAY_AHEAD_rtpv.csv for 313_RTPV_11\n",
      "└ @ PowerSystems /Users/cbarrows/.julia/packages/PowerSystems/a865r/src/parsers/cdm_parser.jl:81\n",
      "┌ Info: parsing timeseries data in /Users/cbarrows/.julia/packages/PowerSystems/a865r/data/RTS_GMLC/../forecasts/RTS_GMLC_forecasts/gen/Renewable/RTPV/DAY_AHEAD_rtpv.csv for 313_RTPV_12\n",
      "└ @ PowerSystems /Users/cbarrows/.julia/packages/PowerSystems/a865r/src/parsers/cdm_parser.jl:81\n"
     ]
    },
    {
     "name": "stderr",
     "output_type": "stream",
     "text": [
      "┌ Info: parsing timeseries data in /Users/cbarrows/.julia/packages/PowerSystems/a865r/data/RTS_GMLC/../forecasts/RTS_GMLC_forecasts/gen/Renewable/RTPV/DAY_AHEAD_rtpv.csv for 320_RTPV_1\n",
      "└ @ PowerSystems /Users/cbarrows/.julia/packages/PowerSystems/a865r/src/parsers/cdm_parser.jl:81\n",
      "┌ Info: parsing timeseries data in /Users/cbarrows/.julia/packages/PowerSystems/a865r/data/RTS_GMLC/../forecasts/RTS_GMLC_forecasts/gen/Renewable/RTPV/DAY_AHEAD_rtpv.csv for 320_RTPV_2\n",
      "└ @ PowerSystems /Users/cbarrows/.julia/packages/PowerSystems/a865r/src/parsers/cdm_parser.jl:81\n",
      "┌ Info: parsing timeseries data in /Users/cbarrows/.julia/packages/PowerSystems/a865r/data/RTS_GMLC/../forecasts/RTS_GMLC_forecasts/gen/Renewable/RTPV/DAY_AHEAD_rtpv.csv for 320_RTPV_3\n",
      "└ @ PowerSystems /Users/cbarrows/.julia/packages/PowerSystems/a865r/src/parsers/cdm_parser.jl:81\n",
      "┌ Info: parsing timeseries data in /Users/cbarrows/.julia/packages/PowerSystems/a865r/data/RTS_GMLC/../forecasts/RTS_GMLC_forecasts/gen/Renewable/RTPV/DAY_AHEAD_rtpv.csv for 313_RTPV_13\n",
      "└ @ PowerSystems /Users/cbarrows/.julia/packages/PowerSystems/a865r/src/parsers/cdm_parser.jl:81\n",
      "┌ Info: parsing timeseries data in /Users/cbarrows/.julia/packages/PowerSystems/a865r/data/RTS_GMLC/../forecasts/RTS_GMLC_forecasts/gen/Renewable/RTPV/DAY_AHEAD_rtpv.csv for 320_RTPV_4\n",
      "└ @ PowerSystems /Users/cbarrows/.julia/packages/PowerSystems/a865r/src/parsers/cdm_parser.jl:81\n",
      "┌ Info: parsing timeseries data in /Users/cbarrows/.julia/packages/PowerSystems/a865r/data/RTS_GMLC/../forecasts/RTS_GMLC_forecasts/gen/Renewable/RTPV/DAY_AHEAD_rtpv.csv for 320_RTPV_5\n",
      "└ @ PowerSystems /Users/cbarrows/.julia/packages/PowerSystems/a865r/src/parsers/cdm_parser.jl:81\n",
      "┌ Info: parsing timeseries data in /Users/cbarrows/.julia/packages/PowerSystems/a865r/data/RTS_GMLC/../forecasts/RTS_GMLC_forecasts/gen/Renewable/RTPV/DAY_AHEAD_rtpv.csv for 118_RTPV_1\n",
      "└ @ PowerSystems /Users/cbarrows/.julia/packages/PowerSystems/a865r/src/parsers/cdm_parser.jl:81\n",
      "┌ Info: parsing timeseries data in /Users/cbarrows/.julia/packages/PowerSystems/a865r/data/RTS_GMLC/../forecasts/RTS_GMLC_forecasts/gen/Renewable/RTPV/DAY_AHEAD_rtpv.csv for 118_RTPV_2\n",
      "└ @ PowerSystems /Users/cbarrows/.julia/packages/PowerSystems/a865r/src/parsers/cdm_parser.jl:81\n",
      "┌ Info: parsing timeseries data in /Users/cbarrows/.julia/packages/PowerSystems/a865r/data/RTS_GMLC/../forecasts/RTS_GMLC_forecasts/gen/Renewable/RTPV/DAY_AHEAD_rtpv.csv for 118_RTPV_3\n",
      "└ @ PowerSystems /Users/cbarrows/.julia/packages/PowerSystems/a865r/src/parsers/cdm_parser.jl:81\n",
      "┌ Info: parsing timeseries data in /Users/cbarrows/.julia/packages/PowerSystems/a865r/data/RTS_GMLC/../forecasts/RTS_GMLC_forecasts/gen/Renewable/RTPV/DAY_AHEAD_rtpv.csv for 118_RTPV_4\n",
      "└ @ PowerSystems /Users/cbarrows/.julia/packages/PowerSystems/a865r/src/parsers/cdm_parser.jl:81\n",
      "┌ Info: parsing timeseries data in /Users/cbarrows/.julia/packages/PowerSystems/a865r/data/RTS_GMLC/../forecasts/RTS_GMLC_forecasts/gen/Renewable/RTPV/DAY_AHEAD_rtpv.csv for 118_RTPV_5\n",
      "└ @ PowerSystems /Users/cbarrows/.julia/packages/PowerSystems/a865r/src/parsers/cdm_parser.jl:81\n",
      "┌ Info: parsing timeseries data in /Users/cbarrows/.julia/packages/PowerSystems/a865r/data/RTS_GMLC/../forecasts/RTS_GMLC_forecasts/gen/Renewable/RTPV/DAY_AHEAD_rtpv.csv for 118_RTPV_6\n",
      "└ @ PowerSystems /Users/cbarrows/.julia/packages/PowerSystems/a865r/src/parsers/cdm_parser.jl:81\n",
      "┌ Info: parsing timeseries data in /Users/cbarrows/.julia/packages/PowerSystems/a865r/data/RTS_GMLC/../forecasts/RTS_GMLC_forecasts/gen/Renewable/RTPV/DAY_AHEAD_rtpv.csv for 320_RTPV_6\n",
      "└ @ PowerSystems /Users/cbarrows/.julia/packages/PowerSystems/a865r/src/parsers/cdm_parser.jl:81\n",
      "┌ Info: parsing timeseries data in /Users/cbarrows/.julia/packages/PowerSystems/a865r/data/RTS_GMLC/../forecasts/RTS_GMLC_forecasts/gen/Renewable/RTPV/DAY_AHEAD_rtpv.csv for 118_RTPV_7\n",
      "└ @ PowerSystems /Users/cbarrows/.julia/packages/PowerSystems/a865r/src/parsers/cdm_parser.jl:81\n",
      "┌ Info: parsing timeseries data in /Users/cbarrows/.julia/packages/PowerSystems/a865r/data/RTS_GMLC/../forecasts/RTS_GMLC_forecasts/gen/Renewable/RTPV/DAY_AHEAD_rtpv.csv for 118_RTPV_8\n",
      "└ @ PowerSystems /Users/cbarrows/.julia/packages/PowerSystems/a865r/src/parsers/cdm_parser.jl:81\n",
      "┌ Info: parsing timeseries data in /Users/cbarrows/.julia/packages/PowerSystems/a865r/data/RTS_GMLC/../forecasts/RTS_GMLC_forecasts/gen/Renewable/RTPV/DAY_AHEAD_rtpv.csv for 118_RTPV_9\n",
      "└ @ PowerSystems /Users/cbarrows/.julia/packages/PowerSystems/a865r/src/parsers/cdm_parser.jl:81\n",
      "┌ Info: parsing timeseries data in /Users/cbarrows/.julia/packages/PowerSystems/a865r/data/RTS_GMLC/../forecasts/RTS_GMLC_forecasts/gen/Renewable/RTPV/DAY_AHEAD_rtpv.csv for 118_RTPV_10\n",
      "└ @ PowerSystems /Users/cbarrows/.julia/packages/PowerSystems/a865r/src/parsers/cdm_parser.jl:81\n",
      "┌ Info: parsing timeseries data in /Users/cbarrows/.julia/packages/PowerSystems/a865r/data/RTS_GMLC/../forecasts/RTS_GMLC_forecasts/gen/Renewable/RTPV/DAY_AHEAD_rtpv.csv for 213_RTPV_1\n",
      "└ @ PowerSystems /Users/cbarrows/.julia/packages/PowerSystems/a865r/src/parsers/cdm_parser.jl:81\n",
      "┌ Warning: File referenced in timeseries_pointers.csv doesn't exist : /Users/cbarrows/.julia/packages/PowerSystems/a865r/data/RTS_GMLC/../timeseries_data_files/Reserves/DAY_AHEAD_regional_Flex_Down.csv\n",
      "└ @ PowerSystems /Users/cbarrows/.julia/packages/PowerSystems/a865r/src/parsers/cdm_parser.jl:94\n",
      "┌ Warning: File referenced in timeseries_pointers.csv doesn't exist : /Users/cbarrows/.julia/packages/PowerSystems/a865r/data/RTS_GMLC/../timeseries_data_files/Reserves/DAY_AHEAD_regional_Flex_Up.csv\n",
      "└ @ PowerSystems /Users/cbarrows/.julia/packages/PowerSystems/a865r/src/parsers/cdm_parser.jl:94\n",
      "┌ Warning: File referenced in timeseries_pointers.csv doesn't exist : /Users/cbarrows/.julia/packages/PowerSystems/a865r/data/RTS_GMLC/../timeseries_data_files/Reserves/DAY_AHEAD_regional_Reg_Down.csv\n",
      "└ @ PowerSystems /Users/cbarrows/.julia/packages/PowerSystems/a865r/src/parsers/cdm_parser.jl:94\n",
      "┌ Warning: File referenced in timeseries_pointers.csv doesn't exist : /Users/cbarrows/.julia/packages/PowerSystems/a865r/data/RTS_GMLC/../timeseries_data_files/Reserves/DAY_AHEAD_regional_Reg_Up.csv\n",
      "└ @ PowerSystems /Users/cbarrows/.julia/packages/PowerSystems/a865r/src/parsers/cdm_parser.jl:94\n",
      "┌ Warning: File referenced in timeseries_pointers.csv doesn't exist : /Users/cbarrows/.julia/packages/PowerSystems/a865r/data/RTS_GMLC/../timeseries_data_files/Reserves/DAY_AHEAD_regional_Spin_Up_R1.csv\n",
      "└ @ PowerSystems /Users/cbarrows/.julia/packages/PowerSystems/a865r/src/parsers/cdm_parser.jl:94\n",
      "┌ Warning: File referenced in timeseries_pointers.csv doesn't exist : /Users/cbarrows/.julia/packages/PowerSystems/a865r/data/RTS_GMLC/../timeseries_data_files/Reserves/DAY_AHEAD_regional_Spin_Up_R2.csv\n",
      "└ @ PowerSystems /Users/cbarrows/.julia/packages/PowerSystems/a865r/src/parsers/cdm_parser.jl:94\n",
      "┌ Warning: File referenced in timeseries_pointers.csv doesn't exist : /Users/cbarrows/.julia/packages/PowerSystems/a865r/data/RTS_GMLC/../timeseries_data_files/Reserves/DAY_AHEAD_regional_Spin_Up_R3.csv\n",
      "└ @ PowerSystems /Users/cbarrows/.julia/packages/PowerSystems/a865r/src/parsers/cdm_parser.jl:94\n",
      "┌ Info: parsing timeseries data in /Users/cbarrows/.julia/packages/PowerSystems/a865r/data/RTS_GMLC/../forecasts/RTS_GMLC_forecasts/load/DAY_AHEAD_regional_Load.csv for Load\n",
      "└ @ PowerSystems /Users/cbarrows/.julia/packages/PowerSystems/a865r/src/parsers/cdm_parser.jl:81\n",
      "┌ Info: parsing timeseries data in /Users/cbarrows/.julia/packages/PowerSystems/a865r/data/RTS_GMLC/../forecasts/RTS_GMLC_forecasts/gen/Renewable/CSP/DAY_AHEAD_Natural_Inflow.csv for 212_CSP_HEAD_STORAGE\n",
      "└ @ PowerSystems /Users/cbarrows/.julia/packages/PowerSystems/a865r/src/parsers/cdm_parser.jl:81\n",
      "┌ Info: parsing timeseries data in /Users/cbarrows/.julia/packages/PowerSystems/a865r/data/RTS_GMLC/../forecasts/RTS_GMLC_forecasts/gen/Renewable/CSP/REAL_TIME_Natural_Inflow.csv for 212_CSP_HEAD_STORAGE\n",
      "└ @ PowerSystems /Users/cbarrows/.julia/packages/PowerSystems/a865r/src/parsers/cdm_parser.jl:81\n",
      "┌ Info: parsing timeseries data in /Users/cbarrows/.julia/packages/PowerSystems/a865r/data/RTS_GMLC/../forecasts/RTS_GMLC_forecasts/gen/Hydro/REAL_TIME_hydro.csv for 122_HYDRO_1\n",
      "└ @ PowerSystems /Users/cbarrows/.julia/packages/PowerSystems/a865r/src/parsers/cdm_parser.jl:81\n",
      "┌ Info: parsing timeseries data in /Users/cbarrows/.julia/packages/PowerSystems/a865r/data/RTS_GMLC/../forecasts/RTS_GMLC_forecasts/gen/Hydro/REAL_TIME_hydro.csv for 122_HYDRO_2\n",
      "└ @ PowerSystems /Users/cbarrows/.julia/packages/PowerSystems/a865r/src/parsers/cdm_parser.jl:81\n",
      "┌ Info: parsing timeseries data in /Users/cbarrows/.julia/packages/PowerSystems/a865r/data/RTS_GMLC/../forecasts/RTS_GMLC_forecasts/gen/Hydro/REAL_TIME_hydro.csv for 122_HYDRO_3\n",
      "└ @ PowerSystems /Users/cbarrows/.julia/packages/PowerSystems/a865r/src/parsers/cdm_parser.jl:81\n",
      "┌ Info: parsing timeseries data in /Users/cbarrows/.julia/packages/PowerSystems/a865r/data/RTS_GMLC/../forecasts/RTS_GMLC_forecasts/gen/Hydro/REAL_TIME_hydro.csv for 122_HYDRO_4\n",
      "└ @ PowerSystems /Users/cbarrows/.julia/packages/PowerSystems/a865r/src/parsers/cdm_parser.jl:81\n",
      "┌ Info: parsing timeseries data in /Users/cbarrows/.julia/packages/PowerSystems/a865r/data/RTS_GMLC/../forecasts/RTS_GMLC_forecasts/gen/Hydro/REAL_TIME_hydro.csv for 122_HYDRO_5\n",
      "└ @ PowerSystems /Users/cbarrows/.julia/packages/PowerSystems/a865r/src/parsers/cdm_parser.jl:81\n",
      "┌ Info: parsing timeseries data in /Users/cbarrows/.julia/packages/PowerSystems/a865r/data/RTS_GMLC/../forecasts/RTS_GMLC_forecasts/gen/Hydro/REAL_TIME_hydro.csv for 122_HYDRO_6\n",
      "└ @ PowerSystems /Users/cbarrows/.julia/packages/PowerSystems/a865r/src/parsers/cdm_parser.jl:81\n",
      "┌ Info: parsing timeseries data in /Users/cbarrows/.julia/packages/PowerSystems/a865r/data/RTS_GMLC/../forecasts/RTS_GMLC_forecasts/gen/Hydro/REAL_TIME_hydro.csv for 201_HYDRO_4\n",
      "└ @ PowerSystems /Users/cbarrows/.julia/packages/PowerSystems/a865r/src/parsers/cdm_parser.jl:81\n",
      "┌ Info: parsing timeseries data in /Users/cbarrows/.julia/packages/PowerSystems/a865r/data/RTS_GMLC/../forecasts/RTS_GMLC_forecasts/gen/Hydro/REAL_TIME_hydro.csv for 215_HYDRO_1\n",
      "└ @ PowerSystems /Users/cbarrows/.julia/packages/PowerSystems/a865r/src/parsers/cdm_parser.jl:81\n",
      "┌ Info: parsing timeseries data in /Users/cbarrows/.julia/packages/PowerSystems/a865r/data/RTS_GMLC/../forecasts/RTS_GMLC_forecasts/gen/Hydro/REAL_TIME_hydro.csv for 215_HYDRO_2\n",
      "└ @ PowerSystems /Users/cbarrows/.julia/packages/PowerSystems/a865r/src/parsers/cdm_parser.jl:81\n",
      "┌ Info: parsing timeseries data in /Users/cbarrows/.julia/packages/PowerSystems/a865r/data/RTS_GMLC/../forecasts/RTS_GMLC_forecasts/gen/Hydro/REAL_TIME_hydro.csv for 215_HYDRO_3\n",
      "└ @ PowerSystems /Users/cbarrows/.julia/packages/PowerSystems/a865r/src/parsers/cdm_parser.jl:81\n",
      "┌ Info: parsing timeseries data in /Users/cbarrows/.julia/packages/PowerSystems/a865r/data/RTS_GMLC/../forecasts/RTS_GMLC_forecasts/gen/Hydro/REAL_TIME_hydro.csv for 222_HYDRO_1\n",
      "└ @ PowerSystems /Users/cbarrows/.julia/packages/PowerSystems/a865r/src/parsers/cdm_parser.jl:81\n",
      "┌ Info: parsing timeseries data in /Users/cbarrows/.julia/packages/PowerSystems/a865r/data/RTS_GMLC/../forecasts/RTS_GMLC_forecasts/gen/Hydro/REAL_TIME_hydro.csv for 222_HYDRO_2\n",
      "└ @ PowerSystems /Users/cbarrows/.julia/packages/PowerSystems/a865r/src/parsers/cdm_parser.jl:81\n",
      "┌ Info: parsing timeseries data in /Users/cbarrows/.julia/packages/PowerSystems/a865r/data/RTS_GMLC/../forecasts/RTS_GMLC_forecasts/gen/Hydro/REAL_TIME_hydro.csv for 222_HYDRO_3\n",
      "└ @ PowerSystems /Users/cbarrows/.julia/packages/PowerSystems/a865r/src/parsers/cdm_parser.jl:81\n",
      "┌ Info: parsing timeseries data in /Users/cbarrows/.julia/packages/PowerSystems/a865r/data/RTS_GMLC/../forecasts/RTS_GMLC_forecasts/gen/Hydro/REAL_TIME_hydro.csv for 222_HYDRO_4\n",
      "└ @ PowerSystems /Users/cbarrows/.julia/packages/PowerSystems/a865r/src/parsers/cdm_parser.jl:81\n",
      "┌ Info: parsing timeseries data in /Users/cbarrows/.julia/packages/PowerSystems/a865r/data/RTS_GMLC/../forecasts/RTS_GMLC_forecasts/gen/Hydro/REAL_TIME_hydro.csv for 222_HYDRO_5\n",
      "└ @ PowerSystems /Users/cbarrows/.julia/packages/PowerSystems/a865r/src/parsers/cdm_parser.jl:81\n",
      "┌ Info: parsing timeseries data in /Users/cbarrows/.julia/packages/PowerSystems/a865r/data/RTS_GMLC/../forecasts/RTS_GMLC_forecasts/gen/Hydro/REAL_TIME_hydro.csv for 222_HYDRO_6\n",
      "└ @ PowerSystems /Users/cbarrows/.julia/packages/PowerSystems/a865r/src/parsers/cdm_parser.jl:81\n",
      "┌ Info: parsing timeseries data in /Users/cbarrows/.julia/packages/PowerSystems/a865r/data/RTS_GMLC/../forecasts/RTS_GMLC_forecasts/gen/Hydro/REAL_TIME_hydro.csv for 322_HYDRO_1\n",
      "└ @ PowerSystems /Users/cbarrows/.julia/packages/PowerSystems/a865r/src/parsers/cdm_parser.jl:81\n",
      "┌ Info: parsing timeseries data in /Users/cbarrows/.julia/packages/PowerSystems/a865r/data/RTS_GMLC/../forecasts/RTS_GMLC_forecasts/gen/Hydro/REAL_TIME_hydro.csv for 322_HYDRO_2\n",
      "└ @ PowerSystems /Users/cbarrows/.julia/packages/PowerSystems/a865r/src/parsers/cdm_parser.jl:81\n",
      "┌ Info: parsing timeseries data in /Users/cbarrows/.julia/packages/PowerSystems/a865r/data/RTS_GMLC/../forecasts/RTS_GMLC_forecasts/gen/Hydro/REAL_TIME_hydro.csv for 322_HYDRO_3\n",
      "└ @ PowerSystems /Users/cbarrows/.julia/packages/PowerSystems/a865r/src/parsers/cdm_parser.jl:81\n",
      "┌ Info: parsing timeseries data in /Users/cbarrows/.julia/packages/PowerSystems/a865r/data/RTS_GMLC/../forecasts/RTS_GMLC_forecasts/gen/Hydro/REAL_TIME_hydro.csv for 322_HYDRO_4\n",
      "└ @ PowerSystems /Users/cbarrows/.julia/packages/PowerSystems/a865r/src/parsers/cdm_parser.jl:81\n",
      "┌ Info: parsing timeseries data in /Users/cbarrows/.julia/packages/PowerSystems/a865r/data/RTS_GMLC/../forecasts/RTS_GMLC_forecasts/gen/Renewable/PV/REAL_TIME_pv.csv for 320_PV_1\n",
      "└ @ PowerSystems /Users/cbarrows/.julia/packages/PowerSystems/a865r/src/parsers/cdm_parser.jl:81\n",
      "┌ Info: parsing timeseries data in /Users/cbarrows/.julia/packages/PowerSystems/a865r/data/RTS_GMLC/../forecasts/RTS_GMLC_forecasts/gen/Renewable/PV/REAL_TIME_pv.csv for 314_PV_1\n",
      "└ @ PowerSystems /Users/cbarrows/.julia/packages/PowerSystems/a865r/src/parsers/cdm_parser.jl:81\n",
      "┌ Info: parsing timeseries data in /Users/cbarrows/.julia/packages/PowerSystems/a865r/data/RTS_GMLC/../forecasts/RTS_GMLC_forecasts/gen/Renewable/PV/REAL_TIME_pv.csv for 314_PV_2\n",
      "└ @ PowerSystems /Users/cbarrows/.julia/packages/PowerSystems/a865r/src/parsers/cdm_parser.jl:81\n",
      "┌ Info: parsing timeseries data in /Users/cbarrows/.julia/packages/PowerSystems/a865r/data/RTS_GMLC/../forecasts/RTS_GMLC_forecasts/gen/Renewable/PV/REAL_TIME_pv.csv for 313_PV_1\n",
      "└ @ PowerSystems /Users/cbarrows/.julia/packages/PowerSystems/a865r/src/parsers/cdm_parser.jl:81\n",
      "┌ Info: parsing timeseries data in /Users/cbarrows/.julia/packages/PowerSystems/a865r/data/RTS_GMLC/../forecasts/RTS_GMLC_forecasts/gen/Renewable/PV/REAL_TIME_pv.csv for 314_PV_3\n",
      "└ @ PowerSystems /Users/cbarrows/.julia/packages/PowerSystems/a865r/src/parsers/cdm_parser.jl:81\n",
      "┌ Info: parsing timeseries data in /Users/cbarrows/.julia/packages/PowerSystems/a865r/data/RTS_GMLC/../forecasts/RTS_GMLC_forecasts/gen/Renewable/PV/REAL_TIME_pv.csv for 314_PV_4\n",
      "└ @ PowerSystems /Users/cbarrows/.julia/packages/PowerSystems/a865r/src/parsers/cdm_parser.jl:81\n",
      "┌ Info: parsing timeseries data in /Users/cbarrows/.julia/packages/PowerSystems/a865r/data/RTS_GMLC/../forecasts/RTS_GMLC_forecasts/gen/Renewable/PV/REAL_TIME_pv.csv for 313_PV_2\n",
      "└ @ PowerSystems /Users/cbarrows/.julia/packages/PowerSystems/a865r/src/parsers/cdm_parser.jl:81\n",
      "┌ Info: parsing timeseries data in /Users/cbarrows/.julia/packages/PowerSystems/a865r/data/RTS_GMLC/../forecasts/RTS_GMLC_forecasts/gen/Renewable/PV/REAL_TIME_pv.csv for 310_PV_1\n",
      "└ @ PowerSystems /Users/cbarrows/.julia/packages/PowerSystems/a865r/src/parsers/cdm_parser.jl:81\n",
      "┌ Info: parsing timeseries data in /Users/cbarrows/.julia/packages/PowerSystems/a865r/data/RTS_GMLC/../forecasts/RTS_GMLC_forecasts/gen/Renewable/PV/REAL_TIME_pv.csv for 324_PV_1\n",
      "└ @ PowerSystems /Users/cbarrows/.julia/packages/PowerSystems/a865r/src/parsers/cdm_parser.jl:81\n",
      "┌ Info: parsing timeseries data in /Users/cbarrows/.julia/packages/PowerSystems/a865r/data/RTS_GMLC/../forecasts/RTS_GMLC_forecasts/gen/Renewable/PV/REAL_TIME_pv.csv for 312_PV_1\n",
      "└ @ PowerSystems /Users/cbarrows/.julia/packages/PowerSystems/a865r/src/parsers/cdm_parser.jl:81\n",
      "┌ Info: parsing timeseries data in /Users/cbarrows/.julia/packages/PowerSystems/a865r/data/RTS_GMLC/../forecasts/RTS_GMLC_forecasts/gen/Renewable/PV/REAL_TIME_pv.csv for 310_PV_2\n",
      "└ @ PowerSystems /Users/cbarrows/.julia/packages/PowerSystems/a865r/src/parsers/cdm_parser.jl:81\n",
      "┌ Info: parsing timeseries data in /Users/cbarrows/.julia/packages/PowerSystems/a865r/data/RTS_GMLC/../forecasts/RTS_GMLC_forecasts/gen/Renewable/PV/REAL_TIME_pv.csv for 324_PV_2\n",
      "└ @ PowerSystems /Users/cbarrows/.julia/packages/PowerSystems/a865r/src/parsers/cdm_parser.jl:81\n",
      "┌ Info: parsing timeseries data in /Users/cbarrows/.julia/packages/PowerSystems/a865r/data/RTS_GMLC/../forecasts/RTS_GMLC_forecasts/gen/Renewable/PV/REAL_TIME_pv.csv for 324_PV_3\n",
      "└ @ PowerSystems /Users/cbarrows/.julia/packages/PowerSystems/a865r/src/parsers/cdm_parser.jl:81\n",
      "┌ Info: parsing timeseries data in /Users/cbarrows/.julia/packages/PowerSystems/a865r/data/RTS_GMLC/../forecasts/RTS_GMLC_forecasts/gen/Renewable/PV/REAL_TIME_pv.csv for 113_PV_1\n",
      "└ @ PowerSystems /Users/cbarrows/.julia/packages/PowerSystems/a865r/src/parsers/cdm_parser.jl:81\n",
      "┌ Info: parsing timeseries data in /Users/cbarrows/.julia/packages/PowerSystems/a865r/data/RTS_GMLC/../forecasts/RTS_GMLC_forecasts/gen/Renewable/PV/REAL_TIME_pv.csv for 319_PV_1\n",
      "└ @ PowerSystems /Users/cbarrows/.julia/packages/PowerSystems/a865r/src/parsers/cdm_parser.jl:81\n",
      "┌ Info: parsing timeseries data in /Users/cbarrows/.julia/packages/PowerSystems/a865r/data/RTS_GMLC/../forecasts/RTS_GMLC_forecasts/gen/Renewable/PV/REAL_TIME_pv.csv for 215_PV_1\n",
      "└ @ PowerSystems /Users/cbarrows/.julia/packages/PowerSystems/a865r/src/parsers/cdm_parser.jl:81\n",
      "┌ Info: parsing timeseries data in /Users/cbarrows/.julia/packages/PowerSystems/a865r/data/RTS_GMLC/../forecasts/RTS_GMLC_forecasts/gen/Renewable/PV/REAL_TIME_pv.csv for 102_PV_1\n",
      "└ @ PowerSystems /Users/cbarrows/.julia/packages/PowerSystems/a865r/src/parsers/cdm_parser.jl:81\n",
      "┌ Info: parsing timeseries data in /Users/cbarrows/.julia/packages/PowerSystems/a865r/data/RTS_GMLC/../forecasts/RTS_GMLC_forecasts/gen/Renewable/PV/REAL_TIME_pv.csv for 101_PV_1\n",
      "└ @ PowerSystems /Users/cbarrows/.julia/packages/PowerSystems/a865r/src/parsers/cdm_parser.jl:81\n"
     ]
    },
    {
     "name": "stderr",
     "output_type": "stream",
     "text": [
      "┌ Info: parsing timeseries data in /Users/cbarrows/.julia/packages/PowerSystems/a865r/data/RTS_GMLC/../forecasts/RTS_GMLC_forecasts/gen/Renewable/PV/REAL_TIME_pv.csv for 102_PV_2\n",
      "└ @ PowerSystems /Users/cbarrows/.julia/packages/PowerSystems/a865r/src/parsers/cdm_parser.jl:81\n",
      "┌ Info: parsing timeseries data in /Users/cbarrows/.julia/packages/PowerSystems/a865r/data/RTS_GMLC/../forecasts/RTS_GMLC_forecasts/gen/Renewable/PV/REAL_TIME_pv.csv for 104_PV_1\n",
      "└ @ PowerSystems /Users/cbarrows/.julia/packages/PowerSystems/a865r/src/parsers/cdm_parser.jl:81\n",
      "┌ Info: parsing timeseries data in /Users/cbarrows/.julia/packages/PowerSystems/a865r/data/RTS_GMLC/../forecasts/RTS_GMLC_forecasts/gen/Renewable/PV/REAL_TIME_pv.csv for 101_PV_2\n",
      "└ @ PowerSystems /Users/cbarrows/.julia/packages/PowerSystems/a865r/src/parsers/cdm_parser.jl:81\n",
      "┌ Info: parsing timeseries data in /Users/cbarrows/.julia/packages/PowerSystems/a865r/data/RTS_GMLC/../forecasts/RTS_GMLC_forecasts/gen/Renewable/PV/REAL_TIME_pv.csv for 101_PV_3\n",
      "└ @ PowerSystems /Users/cbarrows/.julia/packages/PowerSystems/a865r/src/parsers/cdm_parser.jl:81\n",
      "┌ Info: parsing timeseries data in /Users/cbarrows/.julia/packages/PowerSystems/a865r/data/RTS_GMLC/../forecasts/RTS_GMLC_forecasts/gen/Renewable/PV/REAL_TIME_pv.csv for 101_PV_4\n",
      "└ @ PowerSystems /Users/cbarrows/.julia/packages/PowerSystems/a865r/src/parsers/cdm_parser.jl:81\n",
      "┌ Info: parsing timeseries data in /Users/cbarrows/.julia/packages/PowerSystems/a865r/data/RTS_GMLC/../forecasts/RTS_GMLC_forecasts/gen/Renewable/PV/REAL_TIME_pv.csv for 103_PV_1\n",
      "└ @ PowerSystems /Users/cbarrows/.julia/packages/PowerSystems/a865r/src/parsers/cdm_parser.jl:81\n",
      "┌ Info: parsing timeseries data in /Users/cbarrows/.julia/packages/PowerSystems/a865r/data/RTS_GMLC/../forecasts/RTS_GMLC_forecasts/gen/Renewable/PV/REAL_TIME_pv.csv for 119_PV_1\n",
      "└ @ PowerSystems /Users/cbarrows/.julia/packages/PowerSystems/a865r/src/parsers/cdm_parser.jl:81\n",
      "┌ Info: parsing timeseries data in /Users/cbarrows/.julia/packages/PowerSystems/a865r/data/RTS_GMLC/../forecasts/RTS_GMLC_forecasts/gen/Renewable/RTPV/REAL_TIME_rtpv.csv for 308_RTPV_1\n",
      "└ @ PowerSystems /Users/cbarrows/.julia/packages/PowerSystems/a865r/src/parsers/cdm_parser.jl:81\n",
      "┌ Info: parsing timeseries data in /Users/cbarrows/.julia/packages/PowerSystems/a865r/data/RTS_GMLC/../forecasts/RTS_GMLC_forecasts/gen/Renewable/RTPV/REAL_TIME_rtpv.csv for 313_RTPV_1\n",
      "└ @ PowerSystems /Users/cbarrows/.julia/packages/PowerSystems/a865r/src/parsers/cdm_parser.jl:81\n",
      "┌ Info: parsing timeseries data in /Users/cbarrows/.julia/packages/PowerSystems/a865r/data/RTS_GMLC/../forecasts/RTS_GMLC_forecasts/gen/Renewable/RTPV/REAL_TIME_rtpv.csv for 313_RTPV_2\n",
      "└ @ PowerSystems /Users/cbarrows/.julia/packages/PowerSystems/a865r/src/parsers/cdm_parser.jl:81\n",
      "┌ Info: parsing timeseries data in /Users/cbarrows/.julia/packages/PowerSystems/a865r/data/RTS_GMLC/../forecasts/RTS_GMLC_forecasts/gen/Renewable/RTPV/REAL_TIME_rtpv.csv for 313_RTPV_3\n",
      "└ @ PowerSystems /Users/cbarrows/.julia/packages/PowerSystems/a865r/src/parsers/cdm_parser.jl:81\n",
      "┌ Info: parsing timeseries data in /Users/cbarrows/.julia/packages/PowerSystems/a865r/data/RTS_GMLC/../forecasts/RTS_GMLC_forecasts/gen/Renewable/RTPV/REAL_TIME_rtpv.csv for 313_RTPV_4\n",
      "└ @ PowerSystems /Users/cbarrows/.julia/packages/PowerSystems/a865r/src/parsers/cdm_parser.jl:81\n",
      "┌ Info: parsing timeseries data in /Users/cbarrows/.julia/packages/PowerSystems/a865r/data/RTS_GMLC/../forecasts/RTS_GMLC_forecasts/gen/Renewable/RTPV/REAL_TIME_rtpv.csv for 313_RTPV_5\n",
      "└ @ PowerSystems /Users/cbarrows/.julia/packages/PowerSystems/a865r/src/parsers/cdm_parser.jl:81\n",
      "┌ Info: parsing timeseries data in /Users/cbarrows/.julia/packages/PowerSystems/a865r/data/RTS_GMLC/../forecasts/RTS_GMLC_forecasts/gen/Renewable/RTPV/REAL_TIME_rtpv.csv for 313_RTPV_6\n",
      "└ @ PowerSystems /Users/cbarrows/.julia/packages/PowerSystems/a865r/src/parsers/cdm_parser.jl:81\n",
      "┌ Info: parsing timeseries data in /Users/cbarrows/.julia/packages/PowerSystems/a865r/data/RTS_GMLC/../forecasts/RTS_GMLC_forecasts/gen/Renewable/RTPV/REAL_TIME_rtpv.csv for 313_RTPV_7\n",
      "└ @ PowerSystems /Users/cbarrows/.julia/packages/PowerSystems/a865r/src/parsers/cdm_parser.jl:81\n",
      "┌ Info: parsing timeseries data in /Users/cbarrows/.julia/packages/PowerSystems/a865r/data/RTS_GMLC/../forecasts/RTS_GMLC_forecasts/gen/Renewable/RTPV/REAL_TIME_rtpv.csv for 313_RTPV_8\n",
      "└ @ PowerSystems /Users/cbarrows/.julia/packages/PowerSystems/a865r/src/parsers/cdm_parser.jl:81\n",
      "┌ Info: parsing timeseries data in /Users/cbarrows/.julia/packages/PowerSystems/a865r/data/RTS_GMLC/../forecasts/RTS_GMLC_forecasts/gen/Renewable/RTPV/REAL_TIME_rtpv.csv for 313_RTPV_9\n",
      "└ @ PowerSystems /Users/cbarrows/.julia/packages/PowerSystems/a865r/src/parsers/cdm_parser.jl:81\n",
      "┌ Info: parsing timeseries data in /Users/cbarrows/.julia/packages/PowerSystems/a865r/data/RTS_GMLC/../forecasts/RTS_GMLC_forecasts/gen/Renewable/RTPV/REAL_TIME_rtpv.csv for 313_RTPV_10\n",
      "└ @ PowerSystems /Users/cbarrows/.julia/packages/PowerSystems/a865r/src/parsers/cdm_parser.jl:81\n",
      "┌ Info: parsing timeseries data in /Users/cbarrows/.julia/packages/PowerSystems/a865r/data/RTS_GMLC/../forecasts/RTS_GMLC_forecasts/gen/Renewable/RTPV/REAL_TIME_rtpv.csv for 313_RTPV_11\n",
      "└ @ PowerSystems /Users/cbarrows/.julia/packages/PowerSystems/a865r/src/parsers/cdm_parser.jl:81\n",
      "┌ Info: parsing timeseries data in /Users/cbarrows/.julia/packages/PowerSystems/a865r/data/RTS_GMLC/../forecasts/RTS_GMLC_forecasts/gen/Renewable/RTPV/REAL_TIME_rtpv.csv for 313_RTPV_12\n",
      "└ @ PowerSystems /Users/cbarrows/.julia/packages/PowerSystems/a865r/src/parsers/cdm_parser.jl:81\n",
      "┌ Info: parsing timeseries data in /Users/cbarrows/.julia/packages/PowerSystems/a865r/data/RTS_GMLC/../forecasts/RTS_GMLC_forecasts/gen/Renewable/RTPV/REAL_TIME_rtpv.csv for 320_RTPV_1\n",
      "└ @ PowerSystems /Users/cbarrows/.julia/packages/PowerSystems/a865r/src/parsers/cdm_parser.jl:81\n",
      "┌ Info: parsing timeseries data in /Users/cbarrows/.julia/packages/PowerSystems/a865r/data/RTS_GMLC/../forecasts/RTS_GMLC_forecasts/gen/Renewable/RTPV/REAL_TIME_rtpv.csv for 320_RTPV_2\n",
      "└ @ PowerSystems /Users/cbarrows/.julia/packages/PowerSystems/a865r/src/parsers/cdm_parser.jl:81\n",
      "┌ Info: parsing timeseries data in /Users/cbarrows/.julia/packages/PowerSystems/a865r/data/RTS_GMLC/../forecasts/RTS_GMLC_forecasts/gen/Renewable/RTPV/REAL_TIME_rtpv.csv for 320_RTPV_3\n",
      "└ @ PowerSystems /Users/cbarrows/.julia/packages/PowerSystems/a865r/src/parsers/cdm_parser.jl:81\n",
      "┌ Info: parsing timeseries data in /Users/cbarrows/.julia/packages/PowerSystems/a865r/data/RTS_GMLC/../forecasts/RTS_GMLC_forecasts/gen/Renewable/RTPV/REAL_TIME_rtpv.csv for 313_RTPV_13\n",
      "└ @ PowerSystems /Users/cbarrows/.julia/packages/PowerSystems/a865r/src/parsers/cdm_parser.jl:81\n",
      "┌ Info: parsing timeseries data in /Users/cbarrows/.julia/packages/PowerSystems/a865r/data/RTS_GMLC/../forecasts/RTS_GMLC_forecasts/gen/Renewable/RTPV/REAL_TIME_rtpv.csv for 320_RTPV_4\n",
      "└ @ PowerSystems /Users/cbarrows/.julia/packages/PowerSystems/a865r/src/parsers/cdm_parser.jl:81\n",
      "┌ Info: parsing timeseries data in /Users/cbarrows/.julia/packages/PowerSystems/a865r/data/RTS_GMLC/../forecasts/RTS_GMLC_forecasts/gen/Renewable/RTPV/REAL_TIME_rtpv.csv for 320_RTPV_5\n",
      "└ @ PowerSystems /Users/cbarrows/.julia/packages/PowerSystems/a865r/src/parsers/cdm_parser.jl:81\n",
      "┌ Info: parsing timeseries data in /Users/cbarrows/.julia/packages/PowerSystems/a865r/data/RTS_GMLC/../forecasts/RTS_GMLC_forecasts/gen/Renewable/RTPV/REAL_TIME_rtpv.csv for 118_RTPV_1\n",
      "└ @ PowerSystems /Users/cbarrows/.julia/packages/PowerSystems/a865r/src/parsers/cdm_parser.jl:81\n",
      "┌ Info: parsing timeseries data in /Users/cbarrows/.julia/packages/PowerSystems/a865r/data/RTS_GMLC/../forecasts/RTS_GMLC_forecasts/gen/Renewable/RTPV/REAL_TIME_rtpv.csv for 118_RTPV_2\n",
      "└ @ PowerSystems /Users/cbarrows/.julia/packages/PowerSystems/a865r/src/parsers/cdm_parser.jl:81\n",
      "┌ Info: parsing timeseries data in /Users/cbarrows/.julia/packages/PowerSystems/a865r/data/RTS_GMLC/../forecasts/RTS_GMLC_forecasts/gen/Renewable/RTPV/REAL_TIME_rtpv.csv for 118_RTPV_3\n",
      "└ @ PowerSystems /Users/cbarrows/.julia/packages/PowerSystems/a865r/src/parsers/cdm_parser.jl:81\n",
      "┌ Info: parsing timeseries data in /Users/cbarrows/.julia/packages/PowerSystems/a865r/data/RTS_GMLC/../forecasts/RTS_GMLC_forecasts/gen/Renewable/RTPV/REAL_TIME_rtpv.csv for 118_RTPV_4\n",
      "└ @ PowerSystems /Users/cbarrows/.julia/packages/PowerSystems/a865r/src/parsers/cdm_parser.jl:81\n",
      "┌ Info: parsing timeseries data in /Users/cbarrows/.julia/packages/PowerSystems/a865r/data/RTS_GMLC/../forecasts/RTS_GMLC_forecasts/gen/Renewable/RTPV/REAL_TIME_rtpv.csv for 118_RTPV_5\n",
      "└ @ PowerSystems /Users/cbarrows/.julia/packages/PowerSystems/a865r/src/parsers/cdm_parser.jl:81\n",
      "┌ Info: parsing timeseries data in /Users/cbarrows/.julia/packages/PowerSystems/a865r/data/RTS_GMLC/../forecasts/RTS_GMLC_forecasts/gen/Renewable/RTPV/REAL_TIME_rtpv.csv for 118_RTPV_6\n",
      "└ @ PowerSystems /Users/cbarrows/.julia/packages/PowerSystems/a865r/src/parsers/cdm_parser.jl:81\n",
      "┌ Info: parsing timeseries data in /Users/cbarrows/.julia/packages/PowerSystems/a865r/data/RTS_GMLC/../forecasts/RTS_GMLC_forecasts/gen/Renewable/RTPV/REAL_TIME_rtpv.csv for 320_RTPV_6\n",
      "└ @ PowerSystems /Users/cbarrows/.julia/packages/PowerSystems/a865r/src/parsers/cdm_parser.jl:81\n",
      "┌ Info: parsing timeseries data in /Users/cbarrows/.julia/packages/PowerSystems/a865r/data/RTS_GMLC/../forecasts/RTS_GMLC_forecasts/gen/Renewable/RTPV/REAL_TIME_rtpv.csv for 118_RTPV_7\n",
      "└ @ PowerSystems /Users/cbarrows/.julia/packages/PowerSystems/a865r/src/parsers/cdm_parser.jl:81\n",
      "┌ Info: parsing timeseries data in /Users/cbarrows/.julia/packages/PowerSystems/a865r/data/RTS_GMLC/../forecasts/RTS_GMLC_forecasts/gen/Renewable/RTPV/REAL_TIME_rtpv.csv for 118_RTPV_8\n",
      "└ @ PowerSystems /Users/cbarrows/.julia/packages/PowerSystems/a865r/src/parsers/cdm_parser.jl:81\n",
      "┌ Info: parsing timeseries data in /Users/cbarrows/.julia/packages/PowerSystems/a865r/data/RTS_GMLC/../forecasts/RTS_GMLC_forecasts/gen/Renewable/RTPV/REAL_TIME_rtpv.csv for 118_RTPV_9\n",
      "└ @ PowerSystems /Users/cbarrows/.julia/packages/PowerSystems/a865r/src/parsers/cdm_parser.jl:81\n"
     ]
    },
    {
     "name": "stderr",
     "output_type": "stream",
     "text": [
      "┌ Info: parsing timeseries data in /Users/cbarrows/.julia/packages/PowerSystems/a865r/data/RTS_GMLC/../forecasts/RTS_GMLC_forecasts/gen/Renewable/RTPV/REAL_TIME_rtpv.csv for 118_RTPV_10\n",
      "└ @ PowerSystems /Users/cbarrows/.julia/packages/PowerSystems/a865r/src/parsers/cdm_parser.jl:81\n",
      "┌ Info: parsing timeseries data in /Users/cbarrows/.julia/packages/PowerSystems/a865r/data/RTS_GMLC/../forecasts/RTS_GMLC_forecasts/gen/Renewable/RTPV/REAL_TIME_rtpv.csv for 213_RTPV_1\n",
      "└ @ PowerSystems /Users/cbarrows/.julia/packages/PowerSystems/a865r/src/parsers/cdm_parser.jl:81\n",
      "┌ Info: parsing timeseries data in /Users/cbarrows/.julia/packages/PowerSystems/a865r/data/RTS_GMLC/../forecasts/RTS_GMLC_forecasts/gen/Renewable/WIND/REAL_TIME_wind.csv for 309_WIND_1\n",
      "└ @ PowerSystems /Users/cbarrows/.julia/packages/PowerSystems/a865r/src/parsers/cdm_parser.jl:81\n",
      "┌ Info: parsing timeseries data in /Users/cbarrows/.julia/packages/PowerSystems/a865r/data/RTS_GMLC/../forecasts/RTS_GMLC_forecasts/gen/Renewable/WIND/REAL_TIME_wind.csv for 317_WIND_1\n",
      "└ @ PowerSystems /Users/cbarrows/.julia/packages/PowerSystems/a865r/src/parsers/cdm_parser.jl:81\n",
      "┌ Info: parsing timeseries data in /Users/cbarrows/.julia/packages/PowerSystems/a865r/data/RTS_GMLC/../forecasts/RTS_GMLC_forecasts/gen/Renewable/WIND/REAL_TIME_wind.csv for 303_WIND_1\n",
      "└ @ PowerSystems /Users/cbarrows/.julia/packages/PowerSystems/a865r/src/parsers/cdm_parser.jl:81\n",
      "┌ Info: parsing timeseries data in /Users/cbarrows/.julia/packages/PowerSystems/a865r/data/RTS_GMLC/../forecasts/RTS_GMLC_forecasts/gen/Renewable/WIND/REAL_TIME_wind.csv for 122_WIND_1\n",
      "└ @ PowerSystems /Users/cbarrows/.julia/packages/PowerSystems/a865r/src/parsers/cdm_parser.jl:81\n",
      "┌ Info: parsing timeseries data in /Users/cbarrows/.julia/packages/PowerSystems/a865r/data/RTS_GMLC/../forecasts/RTS_GMLC_forecasts/gen/Hydro/REAL_TIME_hydro.csv for 122_HYDRO_1\n",
      "└ @ PowerSystems /Users/cbarrows/.julia/packages/PowerSystems/a865r/src/parsers/cdm_parser.jl:81\n",
      "┌ Info: parsing timeseries data in /Users/cbarrows/.julia/packages/PowerSystems/a865r/data/RTS_GMLC/../forecasts/RTS_GMLC_forecasts/gen/Hydro/REAL_TIME_hydro.csv for 122_HYDRO_2\n",
      "└ @ PowerSystems /Users/cbarrows/.julia/packages/PowerSystems/a865r/src/parsers/cdm_parser.jl:81\n",
      "┌ Info: parsing timeseries data in /Users/cbarrows/.julia/packages/PowerSystems/a865r/data/RTS_GMLC/../forecasts/RTS_GMLC_forecasts/gen/Hydro/REAL_TIME_hydro.csv for 122_HYDRO_3\n",
      "└ @ PowerSystems /Users/cbarrows/.julia/packages/PowerSystems/a865r/src/parsers/cdm_parser.jl:81\n",
      "┌ Info: parsing timeseries data in /Users/cbarrows/.julia/packages/PowerSystems/a865r/data/RTS_GMLC/../forecasts/RTS_GMLC_forecasts/gen/Hydro/REAL_TIME_hydro.csv for 122_HYDRO_4\n",
      "└ @ PowerSystems /Users/cbarrows/.julia/packages/PowerSystems/a865r/src/parsers/cdm_parser.jl:81\n",
      "┌ Info: parsing timeseries data in /Users/cbarrows/.julia/packages/PowerSystems/a865r/data/RTS_GMLC/../forecasts/RTS_GMLC_forecasts/gen/Hydro/REAL_TIME_hydro.csv for 122_HYDRO_5\n",
      "└ @ PowerSystems /Users/cbarrows/.julia/packages/PowerSystems/a865r/src/parsers/cdm_parser.jl:81\n",
      "┌ Info: parsing timeseries data in /Users/cbarrows/.julia/packages/PowerSystems/a865r/data/RTS_GMLC/../forecasts/RTS_GMLC_forecasts/gen/Hydro/REAL_TIME_hydro.csv for 122_HYDRO_6\n",
      "└ @ PowerSystems /Users/cbarrows/.julia/packages/PowerSystems/a865r/src/parsers/cdm_parser.jl:81\n",
      "┌ Info: parsing timeseries data in /Users/cbarrows/.julia/packages/PowerSystems/a865r/data/RTS_GMLC/../forecasts/RTS_GMLC_forecasts/gen/Hydro/REAL_TIME_hydro.csv for 201_HYDRO_4\n",
      "└ @ PowerSystems /Users/cbarrows/.julia/packages/PowerSystems/a865r/src/parsers/cdm_parser.jl:81\n",
      "┌ Info: parsing timeseries data in /Users/cbarrows/.julia/packages/PowerSystems/a865r/data/RTS_GMLC/../forecasts/RTS_GMLC_forecasts/gen/Hydro/REAL_TIME_hydro.csv for 215_HYDRO_1\n",
      "└ @ PowerSystems /Users/cbarrows/.julia/packages/PowerSystems/a865r/src/parsers/cdm_parser.jl:81\n",
      "┌ Info: parsing timeseries data in /Users/cbarrows/.julia/packages/PowerSystems/a865r/data/RTS_GMLC/../forecasts/RTS_GMLC_forecasts/gen/Hydro/REAL_TIME_hydro.csv for 215_HYDRO_2\n",
      "└ @ PowerSystems /Users/cbarrows/.julia/packages/PowerSystems/a865r/src/parsers/cdm_parser.jl:81\n",
      "┌ Info: parsing timeseries data in /Users/cbarrows/.julia/packages/PowerSystems/a865r/data/RTS_GMLC/../forecasts/RTS_GMLC_forecasts/gen/Hydro/REAL_TIME_hydro.csv for 215_HYDRO_3\n",
      "└ @ PowerSystems /Users/cbarrows/.julia/packages/PowerSystems/a865r/src/parsers/cdm_parser.jl:81\n",
      "┌ Info: parsing timeseries data in /Users/cbarrows/.julia/packages/PowerSystems/a865r/data/RTS_GMLC/../forecasts/RTS_GMLC_forecasts/gen/Hydro/REAL_TIME_hydro.csv for 222_HYDRO_1\n",
      "└ @ PowerSystems /Users/cbarrows/.julia/packages/PowerSystems/a865r/src/parsers/cdm_parser.jl:81\n",
      "┌ Info: parsing timeseries data in /Users/cbarrows/.julia/packages/PowerSystems/a865r/data/RTS_GMLC/../forecasts/RTS_GMLC_forecasts/gen/Hydro/REAL_TIME_hydro.csv for 222_HYDRO_2\n",
      "└ @ PowerSystems /Users/cbarrows/.julia/packages/PowerSystems/a865r/src/parsers/cdm_parser.jl:81\n",
      "┌ Info: parsing timeseries data in /Users/cbarrows/.julia/packages/PowerSystems/a865r/data/RTS_GMLC/../forecasts/RTS_GMLC_forecasts/gen/Hydro/REAL_TIME_hydro.csv for 222_HYDRO_3\n",
      "└ @ PowerSystems /Users/cbarrows/.julia/packages/PowerSystems/a865r/src/parsers/cdm_parser.jl:81\n",
      "┌ Info: parsing timeseries data in /Users/cbarrows/.julia/packages/PowerSystems/a865r/data/RTS_GMLC/../forecasts/RTS_GMLC_forecasts/gen/Hydro/REAL_TIME_hydro.csv for 222_HYDRO_4\n",
      "└ @ PowerSystems /Users/cbarrows/.julia/packages/PowerSystems/a865r/src/parsers/cdm_parser.jl:81\n",
      "┌ Info: parsing timeseries data in /Users/cbarrows/.julia/packages/PowerSystems/a865r/data/RTS_GMLC/../forecasts/RTS_GMLC_forecasts/gen/Hydro/REAL_TIME_hydro.csv for 222_HYDRO_5\n",
      "└ @ PowerSystems /Users/cbarrows/.julia/packages/PowerSystems/a865r/src/parsers/cdm_parser.jl:81\n",
      "┌ Info: parsing timeseries data in /Users/cbarrows/.julia/packages/PowerSystems/a865r/data/RTS_GMLC/../forecasts/RTS_GMLC_forecasts/gen/Hydro/REAL_TIME_hydro.csv for 222_HYDRO_6\n",
      "└ @ PowerSystems /Users/cbarrows/.julia/packages/PowerSystems/a865r/src/parsers/cdm_parser.jl:81\n",
      "┌ Info: parsing timeseries data in /Users/cbarrows/.julia/packages/PowerSystems/a865r/data/RTS_GMLC/../forecasts/RTS_GMLC_forecasts/gen/Hydro/REAL_TIME_hydro.csv for 322_HYDRO_1\n",
      "└ @ PowerSystems /Users/cbarrows/.julia/packages/PowerSystems/a865r/src/parsers/cdm_parser.jl:81\n",
      "┌ Info: parsing timeseries data in /Users/cbarrows/.julia/packages/PowerSystems/a865r/data/RTS_GMLC/../forecasts/RTS_GMLC_forecasts/gen/Hydro/REAL_TIME_hydro.csv for 322_HYDRO_2\n",
      "└ @ PowerSystems /Users/cbarrows/.julia/packages/PowerSystems/a865r/src/parsers/cdm_parser.jl:81\n",
      "┌ Info: parsing timeseries data in /Users/cbarrows/.julia/packages/PowerSystems/a865r/data/RTS_GMLC/../forecasts/RTS_GMLC_forecasts/gen/Hydro/REAL_TIME_hydro.csv for 322_HYDRO_3\n",
      "└ @ PowerSystems /Users/cbarrows/.julia/packages/PowerSystems/a865r/src/parsers/cdm_parser.jl:81\n",
      "┌ Info: parsing timeseries data in /Users/cbarrows/.julia/packages/PowerSystems/a865r/data/RTS_GMLC/../forecasts/RTS_GMLC_forecasts/gen/Hydro/REAL_TIME_hydro.csv for 322_HYDRO_4\n",
      "└ @ PowerSystems /Users/cbarrows/.julia/packages/PowerSystems/a865r/src/parsers/cdm_parser.jl:81\n",
      "┌ Info: parsing timeseries data in /Users/cbarrows/.julia/packages/PowerSystems/a865r/data/RTS_GMLC/../forecasts/RTS_GMLC_forecasts/gen/Renewable/RTPV/REAL_TIME_rtpv.csv for 308_RTPV_1\n",
      "└ @ PowerSystems /Users/cbarrows/.julia/packages/PowerSystems/a865r/src/parsers/cdm_parser.jl:81\n",
      "┌ Info: parsing timeseries data in /Users/cbarrows/.julia/packages/PowerSystems/a865r/data/RTS_GMLC/../forecasts/RTS_GMLC_forecasts/gen/Renewable/RTPV/REAL_TIME_rtpv.csv for 313_RTPV_1\n",
      "└ @ PowerSystems /Users/cbarrows/.julia/packages/PowerSystems/a865r/src/parsers/cdm_parser.jl:81\n",
      "┌ Info: parsing timeseries data in /Users/cbarrows/.julia/packages/PowerSystems/a865r/data/RTS_GMLC/../forecasts/RTS_GMLC_forecasts/gen/Renewable/RTPV/REAL_TIME_rtpv.csv for 313_RTPV_2\n",
      "└ @ PowerSystems /Users/cbarrows/.julia/packages/PowerSystems/a865r/src/parsers/cdm_parser.jl:81\n",
      "┌ Info: parsing timeseries data in /Users/cbarrows/.julia/packages/PowerSystems/a865r/data/RTS_GMLC/../forecasts/RTS_GMLC_forecasts/gen/Renewable/RTPV/REAL_TIME_rtpv.csv for 313_RTPV_3\n",
      "└ @ PowerSystems /Users/cbarrows/.julia/packages/PowerSystems/a865r/src/parsers/cdm_parser.jl:81\n",
      "┌ Info: parsing timeseries data in /Users/cbarrows/.julia/packages/PowerSystems/a865r/data/RTS_GMLC/../forecasts/RTS_GMLC_forecasts/gen/Renewable/RTPV/REAL_TIME_rtpv.csv for 313_RTPV_4\n",
      "└ @ PowerSystems /Users/cbarrows/.julia/packages/PowerSystems/a865r/src/parsers/cdm_parser.jl:81\n",
      "┌ Info: parsing timeseries data in /Users/cbarrows/.julia/packages/PowerSystems/a865r/data/RTS_GMLC/../forecasts/RTS_GMLC_forecasts/gen/Renewable/RTPV/REAL_TIME_rtpv.csv for 313_RTPV_5\n",
      "└ @ PowerSystems /Users/cbarrows/.julia/packages/PowerSystems/a865r/src/parsers/cdm_parser.jl:81\n",
      "┌ Info: parsing timeseries data in /Users/cbarrows/.julia/packages/PowerSystems/a865r/data/RTS_GMLC/../forecasts/RTS_GMLC_forecasts/gen/Renewable/RTPV/REAL_TIME_rtpv.csv for 313_RTPV_6\n",
      "└ @ PowerSystems /Users/cbarrows/.julia/packages/PowerSystems/a865r/src/parsers/cdm_parser.jl:81\n",
      "┌ Info: parsing timeseries data in /Users/cbarrows/.julia/packages/PowerSystems/a865r/data/RTS_GMLC/../forecasts/RTS_GMLC_forecasts/gen/Renewable/RTPV/REAL_TIME_rtpv.csv for 313_RTPV_7\n",
      "└ @ PowerSystems /Users/cbarrows/.julia/packages/PowerSystems/a865r/src/parsers/cdm_parser.jl:81\n",
      "┌ Info: parsing timeseries data in /Users/cbarrows/.julia/packages/PowerSystems/a865r/data/RTS_GMLC/../forecasts/RTS_GMLC_forecasts/gen/Renewable/RTPV/REAL_TIME_rtpv.csv for 313_RTPV_8\n",
      "└ @ PowerSystems /Users/cbarrows/.julia/packages/PowerSystems/a865r/src/parsers/cdm_parser.jl:81\n",
      "┌ Info: parsing timeseries data in /Users/cbarrows/.julia/packages/PowerSystems/a865r/data/RTS_GMLC/../forecasts/RTS_GMLC_forecasts/gen/Renewable/RTPV/REAL_TIME_rtpv.csv for 313_RTPV_9\n",
      "└ @ PowerSystems /Users/cbarrows/.julia/packages/PowerSystems/a865r/src/parsers/cdm_parser.jl:81\n",
      "┌ Info: parsing timeseries data in /Users/cbarrows/.julia/packages/PowerSystems/a865r/data/RTS_GMLC/../forecasts/RTS_GMLC_forecasts/gen/Renewable/RTPV/REAL_TIME_rtpv.csv for 313_RTPV_10\n",
      "└ @ PowerSystems /Users/cbarrows/.julia/packages/PowerSystems/a865r/src/parsers/cdm_parser.jl:81\n",
      "┌ Info: parsing timeseries data in /Users/cbarrows/.julia/packages/PowerSystems/a865r/data/RTS_GMLC/../forecasts/RTS_GMLC_forecasts/gen/Renewable/RTPV/REAL_TIME_rtpv.csv for 313_RTPV_11\n",
      "└ @ PowerSystems /Users/cbarrows/.julia/packages/PowerSystems/a865r/src/parsers/cdm_parser.jl:81\n"
     ]
    },
    {
     "name": "stderr",
     "output_type": "stream",
     "text": [
      "┌ Info: parsing timeseries data in /Users/cbarrows/.julia/packages/PowerSystems/a865r/data/RTS_GMLC/../forecasts/RTS_GMLC_forecasts/gen/Renewable/RTPV/REAL_TIME_rtpv.csv for 313_RTPV_12\n",
      "└ @ PowerSystems /Users/cbarrows/.julia/packages/PowerSystems/a865r/src/parsers/cdm_parser.jl:81\n",
      "┌ Info: parsing timeseries data in /Users/cbarrows/.julia/packages/PowerSystems/a865r/data/RTS_GMLC/../forecasts/RTS_GMLC_forecasts/gen/Renewable/RTPV/REAL_TIME_rtpv.csv for 320_RTPV_1\n",
      "└ @ PowerSystems /Users/cbarrows/.julia/packages/PowerSystems/a865r/src/parsers/cdm_parser.jl:81\n",
      "┌ Info: parsing timeseries data in /Users/cbarrows/.julia/packages/PowerSystems/a865r/data/RTS_GMLC/../forecasts/RTS_GMLC_forecasts/gen/Renewable/RTPV/REAL_TIME_rtpv.csv for 320_RTPV_2\n",
      "└ @ PowerSystems /Users/cbarrows/.julia/packages/PowerSystems/a865r/src/parsers/cdm_parser.jl:81\n",
      "┌ Info: parsing timeseries data in /Users/cbarrows/.julia/packages/PowerSystems/a865r/data/RTS_GMLC/../forecasts/RTS_GMLC_forecasts/gen/Renewable/RTPV/REAL_TIME_rtpv.csv for 320_RTPV_3\n",
      "└ @ PowerSystems /Users/cbarrows/.julia/packages/PowerSystems/a865r/src/parsers/cdm_parser.jl:81\n",
      "┌ Info: parsing timeseries data in /Users/cbarrows/.julia/packages/PowerSystems/a865r/data/RTS_GMLC/../forecasts/RTS_GMLC_forecasts/gen/Renewable/RTPV/REAL_TIME_rtpv.csv for 313_RTPV_13\n",
      "└ @ PowerSystems /Users/cbarrows/.julia/packages/PowerSystems/a865r/src/parsers/cdm_parser.jl:81\n",
      "┌ Info: parsing timeseries data in /Users/cbarrows/.julia/packages/PowerSystems/a865r/data/RTS_GMLC/../forecasts/RTS_GMLC_forecasts/gen/Renewable/RTPV/REAL_TIME_rtpv.csv for 320_RTPV_4\n",
      "└ @ PowerSystems /Users/cbarrows/.julia/packages/PowerSystems/a865r/src/parsers/cdm_parser.jl:81\n",
      "┌ Info: parsing timeseries data in /Users/cbarrows/.julia/packages/PowerSystems/a865r/data/RTS_GMLC/../forecasts/RTS_GMLC_forecasts/gen/Renewable/RTPV/REAL_TIME_rtpv.csv for 320_RTPV_5\n",
      "└ @ PowerSystems /Users/cbarrows/.julia/packages/PowerSystems/a865r/src/parsers/cdm_parser.jl:81\n",
      "┌ Info: parsing timeseries data in /Users/cbarrows/.julia/packages/PowerSystems/a865r/data/RTS_GMLC/../forecasts/RTS_GMLC_forecasts/gen/Renewable/RTPV/REAL_TIME_rtpv.csv for 118_RTPV_1\n",
      "└ @ PowerSystems /Users/cbarrows/.julia/packages/PowerSystems/a865r/src/parsers/cdm_parser.jl:81\n",
      "┌ Info: parsing timeseries data in /Users/cbarrows/.julia/packages/PowerSystems/a865r/data/RTS_GMLC/../forecasts/RTS_GMLC_forecasts/gen/Renewable/RTPV/REAL_TIME_rtpv.csv for 118_RTPV_2\n",
      "└ @ PowerSystems /Users/cbarrows/.julia/packages/PowerSystems/a865r/src/parsers/cdm_parser.jl:81\n",
      "┌ Info: parsing timeseries data in /Users/cbarrows/.julia/packages/PowerSystems/a865r/data/RTS_GMLC/../forecasts/RTS_GMLC_forecasts/gen/Renewable/RTPV/REAL_TIME_rtpv.csv for 118_RTPV_3\n",
      "└ @ PowerSystems /Users/cbarrows/.julia/packages/PowerSystems/a865r/src/parsers/cdm_parser.jl:81\n",
      "┌ Info: parsing timeseries data in /Users/cbarrows/.julia/packages/PowerSystems/a865r/data/RTS_GMLC/../forecasts/RTS_GMLC_forecasts/gen/Renewable/RTPV/REAL_TIME_rtpv.csv for 118_RTPV_4\n",
      "└ @ PowerSystems /Users/cbarrows/.julia/packages/PowerSystems/a865r/src/parsers/cdm_parser.jl:81\n",
      "┌ Info: parsing timeseries data in /Users/cbarrows/.julia/packages/PowerSystems/a865r/data/RTS_GMLC/../forecasts/RTS_GMLC_forecasts/gen/Renewable/RTPV/REAL_TIME_rtpv.csv for 118_RTPV_5\n",
      "└ @ PowerSystems /Users/cbarrows/.julia/packages/PowerSystems/a865r/src/parsers/cdm_parser.jl:81\n",
      "┌ Info: parsing timeseries data in /Users/cbarrows/.julia/packages/PowerSystems/a865r/data/RTS_GMLC/../forecasts/RTS_GMLC_forecasts/gen/Renewable/RTPV/REAL_TIME_rtpv.csv for 118_RTPV_6\n",
      "└ @ PowerSystems /Users/cbarrows/.julia/packages/PowerSystems/a865r/src/parsers/cdm_parser.jl:81\n",
      "┌ Info: parsing timeseries data in /Users/cbarrows/.julia/packages/PowerSystems/a865r/data/RTS_GMLC/../forecasts/RTS_GMLC_forecasts/gen/Renewable/RTPV/REAL_TIME_rtpv.csv for 320_RTPV_6\n",
      "└ @ PowerSystems /Users/cbarrows/.julia/packages/PowerSystems/a865r/src/parsers/cdm_parser.jl:81\n",
      "┌ Info: parsing timeseries data in /Users/cbarrows/.julia/packages/PowerSystems/a865r/data/RTS_GMLC/../forecasts/RTS_GMLC_forecasts/gen/Renewable/RTPV/REAL_TIME_rtpv.csv for 118_RTPV_7\n",
      "└ @ PowerSystems /Users/cbarrows/.julia/packages/PowerSystems/a865r/src/parsers/cdm_parser.jl:81\n",
      "┌ Info: parsing timeseries data in /Users/cbarrows/.julia/packages/PowerSystems/a865r/data/RTS_GMLC/../forecasts/RTS_GMLC_forecasts/gen/Renewable/RTPV/REAL_TIME_rtpv.csv for 118_RTPV_8\n",
      "└ @ PowerSystems /Users/cbarrows/.julia/packages/PowerSystems/a865r/src/parsers/cdm_parser.jl:81\n",
      "┌ Info: parsing timeseries data in /Users/cbarrows/.julia/packages/PowerSystems/a865r/data/RTS_GMLC/../forecasts/RTS_GMLC_forecasts/gen/Renewable/RTPV/REAL_TIME_rtpv.csv for 118_RTPV_9\n",
      "└ @ PowerSystems /Users/cbarrows/.julia/packages/PowerSystems/a865r/src/parsers/cdm_parser.jl:81\n",
      "┌ Info: parsing timeseries data in /Users/cbarrows/.julia/packages/PowerSystems/a865r/data/RTS_GMLC/../forecasts/RTS_GMLC_forecasts/gen/Renewable/RTPV/REAL_TIME_rtpv.csv for 118_RTPV_10\n",
      "└ @ PowerSystems /Users/cbarrows/.julia/packages/PowerSystems/a865r/src/parsers/cdm_parser.jl:81\n",
      "┌ Info: parsing timeseries data in /Users/cbarrows/.julia/packages/PowerSystems/a865r/data/RTS_GMLC/../forecasts/RTS_GMLC_forecasts/gen/Renewable/RTPV/REAL_TIME_rtpv.csv for 213_RTPV_1\n",
      "└ @ PowerSystems /Users/cbarrows/.julia/packages/PowerSystems/a865r/src/parsers/cdm_parser.jl:81\n",
      "┌ Warning: File referenced in timeseries_pointers.csv doesn't exist : /Users/cbarrows/.julia/packages/PowerSystems/a865r/data/RTS_GMLC/../timeseries_data_files/Reserves/REAL_TIME_regional_Reg_Down.csv\n",
      "└ @ PowerSystems /Users/cbarrows/.julia/packages/PowerSystems/a865r/src/parsers/cdm_parser.jl:94\n",
      "┌ Warning: File referenced in timeseries_pointers.csv doesn't exist : /Users/cbarrows/.julia/packages/PowerSystems/a865r/data/RTS_GMLC/../timeseries_data_files/Reserves/REAL_TIME_regional_Reg_Up.csv\n",
      "└ @ PowerSystems /Users/cbarrows/.julia/packages/PowerSystems/a865r/src/parsers/cdm_parser.jl:94\n",
      "┌ Warning: File referenced in timeseries_pointers.csv doesn't exist : /Users/cbarrows/.julia/packages/PowerSystems/a865r/data/RTS_GMLC/../timeseries_data_files/Reserves/REAL_TIME_regional_Spin_Up_R1.csv\n",
      "└ @ PowerSystems /Users/cbarrows/.julia/packages/PowerSystems/a865r/src/parsers/cdm_parser.jl:94\n",
      "┌ Warning: File referenced in timeseries_pointers.csv doesn't exist : /Users/cbarrows/.julia/packages/PowerSystems/a865r/data/RTS_GMLC/../timeseries_data_files/Reserves/REAL_TIME_regional_Spin_Up_R2.csv\n",
      "└ @ PowerSystems /Users/cbarrows/.julia/packages/PowerSystems/a865r/src/parsers/cdm_parser.jl:94\n",
      "┌ Warning: File referenced in timeseries_pointers.csv doesn't exist : /Users/cbarrows/.julia/packages/PowerSystems/a865r/data/RTS_GMLC/../timeseries_data_files/Reserves/REAL_TIME_regional_Spin_Up_R3.csv\n",
      "└ @ PowerSystems /Users/cbarrows/.julia/packages/PowerSystems/a865r/src/parsers/cdm_parser.jl:94\n",
      "┌ Info: parsing timeseries data in /Users/cbarrows/.julia/packages/PowerSystems/a865r/data/RTS_GMLC/../forecasts/RTS_GMLC_forecasts/load/REAL_TIME_regional_Load.csv for Load\n",
      "└ @ PowerSystems /Users/cbarrows/.julia/packages/PowerSystems/a865r/src/parsers/cdm_parser.jl:81\n",
      "┌ Info: adding DAY-AHEAD generator forcasats\n",
      "└ @ PowerSystems /Users/cbarrows/.julia/packages/PowerSystems/a865r/src/parsers/cdm_parser.jl:174\n",
      "┌ Info: adding DAY-AHEAD load forcasats\n",
      "└ @ PowerSystems /Users/cbarrows/.julia/packages/PowerSystems/a865r/src/parsers/cdm_parser.jl:176\n",
      "┌ Info: adding REAL-TIME generator forcasats\n",
      "└ @ PowerSystems /Users/cbarrows/.julia/packages/PowerSystems/a865r/src/parsers/cdm_parser.jl:180\n",
      "┌ Info: adding REAL-TIME load forcasats\n",
      "└ @ PowerSystems /Users/cbarrows/.julia/packages/PowerSystems/a865r/src/parsers/cdm_parser.jl:182\n",
      "┌ Info: assigning load scaling factors by load_zone\n",
      "└ @ PowerSystems /Users/cbarrows/.julia/packages/PowerSystems/a865r/src/parsers/dict_to_struct.jl:238\n",
      "┌ Warning: Not assigning time series to gens\n",
      "└ @ PowerSystems /Users/cbarrows/.julia/packages/PowerSystems/a865r/src/parsers/forecast_parser.jl:87\n",
      "┌ Warning: key 'shunt' not found in PowerSystems dictionary, this will result in an empty Shunts array\n",
      "└ @ PowerSystems /Users/cbarrows/.julia/packages/PowerSystems/a865r/src/parsers/dict_to_struct.jl:47\n"
     ]
    },
    {
     "name": "stderr",
     "output_type": "stream",
     "text": [
      "┌ Warning: key 'dcline' not found in PowerSystems dictionary, this will result in an empty DCLines array\n",
      "└ @ PowerSystems /Users/cbarrows/.julia/packages/PowerSystems/a865r/src/parsers/dict_to_struct.jl:52\n",
      "┌ Error: Model doesn't contain a slack bus\n",
      "└ @ PowerSystems /Users/cbarrows/.julia/packages/PowerSystems/a865r/src/utils/IO/system_checks.jl:51\n",
      "┌ Warning: The angle limits provided is larger than 3π/2 radians.\n",
      "│  PowerSystems inferred the data provided in degrees and will transform it to radians\n",
      "└ @ PowerSystems /Users/cbarrows/.julia/packages/PowerSystems/a865r/src/utils/IO/branchdata_checks.jl:19\n",
      "┌ Warning: The angle limits provided is larger than 3π/2 radians.\n",
      "│  PowerSystems inferred the data provided in degrees and will transform it to radians\n",
      "└ @ PowerSystems /Users/cbarrows/.julia/packages/PowerSystems/a865r/src/utils/IO/branchdata_checks.jl:19\n",
      "┌ Warning: The angle limits provided is larger than 3π/2 radians.\n",
      "│  PowerSystems inferred the data provided in degrees and will transform it to radians\n",
      "└ @ PowerSystems /Users/cbarrows/.julia/packages/PowerSystems/a865r/src/utils/IO/branchdata_checks.jl:19\n",
      "┌ Warning: The angle limits provided is larger than 3π/2 radians.\n",
      "│  PowerSystems inferred the data provided in degrees and will transform it to radians\n",
      "└ @ PowerSystems /Users/cbarrows/.julia/packages/PowerSystems/a865r/src/utils/IO/branchdata_checks.jl:19\n",
      "┌ Warning: The angle limits provided is larger than 3π/2 radians.\n",
      "│  PowerSystems inferred the data provided in degrees and will transform it to radians\n",
      "└ @ PowerSystems /Users/cbarrows/.julia/packages/PowerSystems/a865r/src/utils/IO/branchdata_checks.jl:19\n",
      "┌ Warning: The angle limits provided is larger than 3π/2 radians.\n",
      "│  PowerSystems inferred the data provided in degrees and will transform it to radians\n",
      "└ @ PowerSystems /Users/cbarrows/.julia/packages/PowerSystems/a865r/src/utils/IO/branchdata_checks.jl:19\n",
      "┌ Warning: The angle limits provided is larger than 3π/2 radians.\n",
      "│  PowerSystems inferred the data provided in degrees and will transform it to radians\n",
      "└ @ PowerSystems /Users/cbarrows/.julia/packages/PowerSystems/a865r/src/utils/IO/branchdata_checks.jl:19\n",
      "┌ Warning: The angle limits provided is larger than 3π/2 radians.\n",
      "│  PowerSystems inferred the data provided in degrees and will transform it to radians\n",
      "└ @ PowerSystems /Users/cbarrows/.julia/packages/PowerSystems/a865r/src/utils/IO/branchdata_checks.jl:19\n",
      "┌ Warning: The angle limits provided is larger than 3π/2 radians.\n",
      "│  PowerSystems inferred the data provided in degrees and will transform it to radians\n",
      "└ @ PowerSystems /Users/cbarrows/.julia/packages/PowerSystems/a865r/src/utils/IO/branchdata_checks.jl:19\n",
      "┌ Warning: The angle limits provided is larger than 3π/2 radians.\n",
      "│  PowerSystems inferred the data provided in degrees and will transform it to radians\n",
      "└ @ PowerSystems /Users/cbarrows/.julia/packages/PowerSystems/a865r/src/utils/IO/branchdata_checks.jl:19\n",
      "┌ Warning: The angle limits provided is larger than 3π/2 radians.\n",
      "│  PowerSystems inferred the data provided in degrees and will transform it to radians\n",
      "└ @ PowerSystems /Users/cbarrows/.julia/packages/PowerSystems/a865r/src/utils/IO/branchdata_checks.jl:19\n",
      "┌ Warning: The angle limits provided is larger than 3π/2 radians.\n",
      "│  PowerSystems inferred the data provided in degrees and will transform it to radians\n",
      "└ @ PowerSystems /Users/cbarrows/.julia/packages/PowerSystems/a865r/src/utils/IO/branchdata_checks.jl:19\n",
      "┌ Warning: The angle limits provided is larger than 3π/2 radians.\n",
      "│  PowerSystems inferred the data provided in degrees and will transform it to radians\n",
      "└ @ PowerSystems /Users/cbarrows/.julia/packages/PowerSystems/a865r/src/utils/IO/branchdata_checks.jl:19\n",
      "┌ Warning: The angle limits provided is larger than 3π/2 radians.\n",
      "│  PowerSystems inferred the data provided in degrees and will transform it to radians\n",
      "└ @ PowerSystems /Users/cbarrows/.julia/packages/PowerSystems/a865r/src/utils/IO/branchdata_checks.jl:19\n",
      "┌ Warning: The angle limits provided is larger than 3π/2 radians.\n",
      "│  PowerSystems inferred the data provided in degrees and will transform it to radians\n",
      "└ @ PowerSystems /Users/cbarrows/.julia/packages/PowerSystems/a865r/src/utils/IO/branchdata_checks.jl:19\n",
      "┌ Warning: The angle limits provided is larger than 3π/2 radians.\n",
      "│  PowerSystems inferred the data provided in degrees and will transform it to radians\n",
      "└ @ PowerSystems /Users/cbarrows/.julia/packages/PowerSystems/a865r/src/utils/IO/branchdata_checks.jl:19\n",
      "┌ Warning: The angle limits provided is larger than 3π/2 radians.\n",
      "│  PowerSystems inferred the data provided in degrees and will transform it to radians\n",
      "└ @ PowerSystems /Users/cbarrows/.julia/packages/PowerSystems/a865r/src/utils/IO/branchdata_checks.jl:19\n",
      "┌ Warning: The angle limits provided is larger than 3π/2 radians.\n",
      "│  PowerSystems inferred the data provided in degrees and will transform it to radians\n",
      "└ @ PowerSystems /Users/cbarrows/.julia/packages/PowerSystems/a865r/src/utils/IO/branchdata_checks.jl:19\n",
      "┌ Warning: The angle limits provided is larger than 3π/2 radians.\n",
      "│  PowerSystems inferred the data provided in degrees and will transform it to radians\n",
      "└ @ PowerSystems /Users/cbarrows/.julia/packages/PowerSystems/a865r/src/utils/IO/branchdata_checks.jl:19\n",
      "┌ Warning: The angle limits provided is larger than 3π/2 radians.\n",
      "│  PowerSystems inferred the data provided in degrees and will transform it to radians\n",
      "└ @ PowerSystems /Users/cbarrows/.julia/packages/PowerSystems/a865r/src/utils/IO/branchdata_checks.jl:19\n",
      "┌ Warning: The angle limits provided is larger than 3π/2 radians.\n",
      "│  PowerSystems inferred the data provided in degrees and will transform it to radians\n",
      "└ @ PowerSystems /Users/cbarrows/.julia/packages/PowerSystems/a865r/src/utils/IO/branchdata_checks.jl:19\n",
      "┌ Warning: The angle limits provided is larger than 3π/2 radians.\n",
      "│  PowerSystems inferred the data provided in degrees and will transform it to radians\n",
      "└ @ PowerSystems /Users/cbarrows/.julia/packages/PowerSystems/a865r/src/utils/IO/branchdata_checks.jl:19\n",
      "┌ Warning: The angle limits provided is larger than 3π/2 radians.\n",
      "│  PowerSystems inferred the data provided in degrees and will transform it to radians\n",
      "└ @ PowerSystems /Users/cbarrows/.julia/packages/PowerSystems/a865r/src/utils/IO/branchdata_checks.jl:19\n",
      "┌ Warning: The angle limits provided is larger than 3π/2 radians.\n",
      "│  PowerSystems inferred the data provided in degrees and will transform it to radians\n",
      "└ @ PowerSystems /Users/cbarrows/.julia/packages/PowerSystems/a865r/src/utils/IO/branchdata_checks.jl:19\n",
      "┌ Warning: The angle limits provided is larger than 3π/2 radians.\n",
      "│  PowerSystems inferred the data provided in degrees and will transform it to radians\n",
      "└ @ PowerSystems /Users/cbarrows/.julia/packages/PowerSystems/a865r/src/utils/IO/branchdata_checks.jl:19\n",
      "┌ Warning: The angle limits provided is larger than 3π/2 radians.\n",
      "│  PowerSystems inferred the data provided in degrees and will transform it to radians\n",
      "└ @ PowerSystems /Users/cbarrows/.julia/packages/PowerSystems/a865r/src/utils/IO/branchdata_checks.jl:19\n",
      "┌ Warning: The angle limits provided is larger than 3π/2 radians.\n",
      "│  PowerSystems inferred the data provided in degrees and will transform it to radians\n",
      "└ @ PowerSystems /Users/cbarrows/.julia/packages/PowerSystems/a865r/src/utils/IO/branchdata_checks.jl:19\n",
      "┌ Warning: The angle limits provided is larger than 3π/2 radians.\n",
      "│  PowerSystems inferred the data provided in degrees and will transform it to radians\n",
      "└ @ PowerSystems /Users/cbarrows/.julia/packages/PowerSystems/a865r/src/utils/IO/branchdata_checks.jl:19\n",
      "┌ Warning: The angle limits provided is larger than 3π/2 radians.\n",
      "│  PowerSystems inferred the data provided in degrees and will transform it to radians\n",
      "└ @ PowerSystems /Users/cbarrows/.julia/packages/PowerSystems/a865r/src/utils/IO/branchdata_checks.jl:19\n",
      "┌ Warning: The angle limits provided is larger than 3π/2 radians.\n",
      "│  PowerSystems inferred the data provided in degrees and will transform it to radians\n",
      "└ @ PowerSystems /Users/cbarrows/.julia/packages/PowerSystems/a865r/src/utils/IO/branchdata_checks.jl:19\n",
      "┌ Warning: The angle limits provided is larger than 3π/2 radians.\n",
      "│  PowerSystems inferred the data provided in degrees and will transform it to radians\n",
      "└ @ PowerSystems /Users/cbarrows/.julia/packages/PowerSystems/a865r/src/utils/IO/branchdata_checks.jl:19\n",
      "┌ Warning: The angle limits provided is larger than 3π/2 radians.\n",
      "│  PowerSystems inferred the data provided in degrees and will transform it to radians\n",
      "└ @ PowerSystems /Users/cbarrows/.julia/packages/PowerSystems/a865r/src/utils/IO/branchdata_checks.jl:19\n",
      "┌ Warning: The angle limits provided is larger than 3π/2 radians.\n",
      "│  PowerSystems inferred the data provided in degrees and will transform it to radians\n",
      "└ @ PowerSystems /Users/cbarrows/.julia/packages/PowerSystems/a865r/src/utils/IO/branchdata_checks.jl:19\n",
      "┌ Warning: The angle limits provided is larger than 3π/2 radians.\n",
      "│  PowerSystems inferred the data provided in degrees and will transform it to radians\n",
      "└ @ PowerSystems /Users/cbarrows/.julia/packages/PowerSystems/a865r/src/utils/IO/branchdata_checks.jl:19\n",
      "┌ Warning: The angle limits provided is larger than 3π/2 radians.\n",
      "│  PowerSystems inferred the data provided in degrees and will transform it to radians\n",
      "└ @ PowerSystems /Users/cbarrows/.julia/packages/PowerSystems/a865r/src/utils/IO/branchdata_checks.jl:19\n",
      "┌ Warning: The angle limits provided is larger than 3π/2 radians.\n",
      "│  PowerSystems inferred the data provided in degrees and will transform it to radians\n",
      "└ @ PowerSystems /Users/cbarrows/.julia/packages/PowerSystems/a865r/src/utils/IO/branchdata_checks.jl:19\n",
      "┌ Warning: The angle limits provided is larger than 3π/2 radians.\n",
      "│  PowerSystems inferred the data provided in degrees and will transform it to radians\n",
      "└ @ PowerSystems /Users/cbarrows/.julia/packages/PowerSystems/a865r/src/utils/IO/branchdata_checks.jl:19\n",
      "┌ Warning: The angle limits provided is larger than 3π/2 radians.\n",
      "│  PowerSystems inferred the data provided in degrees and will transform it to radians\n",
      "└ @ PowerSystems /Users/cbarrows/.julia/packages/PowerSystems/a865r/src/utils/IO/branchdata_checks.jl:19\n",
      "┌ Warning: The angle limits provided is larger than 3π/2 radians.\n",
      "│  PowerSystems inferred the data provided in degrees and will transform it to radians\n",
      "└ @ PowerSystems /Users/cbarrows/.julia/packages/PowerSystems/a865r/src/utils/IO/branchdata_checks.jl:19\n",
      "┌ Warning: The angle limits provided is larger than 3π/2 radians.\n",
      "│  PowerSystems inferred the data provided in degrees and will transform it to radians\n",
      "└ @ PowerSystems /Users/cbarrows/.julia/packages/PowerSystems/a865r/src/utils/IO/branchdata_checks.jl:19\n"
     ]
    },
    {
     "name": "stderr",
     "output_type": "stream",
     "text": [
      "┌ Warning: The angle limits provided is larger than 3π/2 radians.\n",
      "│  PowerSystems inferred the data provided in degrees and will transform it to radians\n",
      "└ @ PowerSystems /Users/cbarrows/.julia/packages/PowerSystems/a865r/src/utils/IO/branchdata_checks.jl:19\n",
      "┌ Warning: The angle limits provided is larger than 3π/2 radians.\n",
      "│  PowerSystems inferred the data provided in degrees and will transform it to radians\n",
      "└ @ PowerSystems /Users/cbarrows/.julia/packages/PowerSystems/a865r/src/utils/IO/branchdata_checks.jl:19\n",
      "┌ Warning: The angle limits provided is larger than 3π/2 radians.\n",
      "│  PowerSystems inferred the data provided in degrees and will transform it to radians\n",
      "└ @ PowerSystems /Users/cbarrows/.julia/packages/PowerSystems/a865r/src/utils/IO/branchdata_checks.jl:19\n",
      "┌ Warning: The angle limits provided is larger than 3π/2 radians.\n",
      "│  PowerSystems inferred the data provided in degrees and will transform it to radians\n",
      "└ @ PowerSystems /Users/cbarrows/.julia/packages/PowerSystems/a865r/src/utils/IO/branchdata_checks.jl:19\n",
      "┌ Warning: The angle limits provided is larger than 3π/2 radians.\n",
      "│  PowerSystems inferred the data provided in degrees and will transform it to radians\n",
      "└ @ PowerSystems /Users/cbarrows/.julia/packages/PowerSystems/a865r/src/utils/IO/branchdata_checks.jl:19\n",
      "┌ Warning: The angle limits provided is larger than 3π/2 radians.\n",
      "│  PowerSystems inferred the data provided in degrees and will transform it to radians\n",
      "└ @ PowerSystems /Users/cbarrows/.julia/packages/PowerSystems/a865r/src/utils/IO/branchdata_checks.jl:19\n",
      "┌ Warning: The angle limits provided is larger than 3π/2 radians.\n",
      "│  PowerSystems inferred the data provided in degrees and will transform it to radians\n",
      "└ @ PowerSystems /Users/cbarrows/.julia/packages/PowerSystems/a865r/src/utils/IO/branchdata_checks.jl:19\n",
      "┌ Warning: The angle limits provided is larger than 3π/2 radians.\n",
      "│  PowerSystems inferred the data provided in degrees and will transform it to radians\n",
      "└ @ PowerSystems /Users/cbarrows/.julia/packages/PowerSystems/a865r/src/utils/IO/branchdata_checks.jl:19\n",
      "┌ Warning: The angle limits provided is larger than 3π/2 radians.\n",
      "│  PowerSystems inferred the data provided in degrees and will transform it to radians\n",
      "└ @ PowerSystems /Users/cbarrows/.julia/packages/PowerSystems/a865r/src/utils/IO/branchdata_checks.jl:19\n",
      "┌ Warning: The angle limits provided is larger than 3π/2 radians.\n",
      "│  PowerSystems inferred the data provided in degrees and will transform it to radians\n",
      "└ @ PowerSystems /Users/cbarrows/.julia/packages/PowerSystems/a865r/src/utils/IO/branchdata_checks.jl:19\n",
      "┌ Warning: The generator 121_NUCLEAR_1 has a nonbinding ramp up limit.\n",
      "└ @ PowerSystems /Users/cbarrows/.julia/packages/PowerSystems/a865r/src/utils/IO/system_checks.jl:118\n",
      "┌ Warning: The generator 121_NUCLEAR_1 has a nonbinding ramp down limit.\n",
      "└ @ PowerSystems /Users/cbarrows/.julia/packages/PowerSystems/a865r/src/utils/IO/system_checks.jl:121\n"
     ]
    },
    {
     "data": {
      "text/plain": [
       "System:\n",
       "   buses: Bus[Bus(name=\"Abel\"), Bus(name=\"Adams\"), Bus(name=\"Adler\"), Bus(name=\"Agricola\"), Bus(name=\"Aiken\"), Bus(name=\"Alber\"), Bus(name=\"Alder\"), Bus(name=\"Alger\"), Bus(name=\"Ali\"), Bus(name=\"Allen\")  …  Bus(name=\"Chifa\"), Bus(name=\"Chuhsi\"), Bus(name=\"Clark\"), Bus(name=\"Clay\"), Bus(name=\"Clive\"), Bus(name=\"Cobb\"), Bus(name=\"Cole\"), Bus(name=\"Comte\"), Bus(name=\"Curie\"), Bus(name=\"Curtiss\")]\n",
       "   generators: \n",
       "     GenClasses(T:73,R:0,H:0):\n",
       "   thermal: ThermalDispatch[ThermalDispatch(name=\"322_CT_6\"), ThermalDispatch(name=\"321_CC_1\"), ThermalDispatch(name=\"202_STEAM_3\"), ThermalDispatch(name=\"315_STEAM_1\"), ThermalDispatch(name=\"223_CT_4\"), ThermalDispatch(name=\"123_STEAM_2\"), ThermalDispatch(name=\"213_CT_1\"), ThermalDispatch(name=\"223_CT_6\"), ThermalDispatch(name=\"313_CC_1\"), ThermalDispatch(name=\"202_CT_2\")  …  ThermalDispatch(name=\"216_STEAM_1\"), ThermalDispatch(name=\"315_CT_6\"), ThermalDispatch(name=\"201_CT_2\"), ThermalDispatch(name=\"201_STEAM_3\"), ThermalDispatch(name=\"201_CT_1\"), ThermalDispatch(name=\"301_CT_2\"), ThermalDispatch(name=\"302_CT_4\"), ThermalDispatch(name=\"307_CT_1\"), ThermalDispatch(name=\"102_STEAM_4\"), ThermalDispatch(name=\"107_CC_1\")]\n",
       "   renewable: nothing\n",
       "   hydro: nothing\n",
       "     (end generators)\n",
       "   loads: ElectricLoad[PowerLoad(name=\"Bacon\"), PowerLoad(name=\"Cobb\"), PowerLoad(name=\"Cole\"), PowerLoad(name=\"Adams\"), PowerLoad(name=\"Aston\"), PowerLoad(name=\"Curie\"), PowerLoad(name=\"Attlee\"), PowerLoad(name=\"Bajer\"), PowerLoad(name=\"Bates\"), PowerLoad(name=\"Adler\")  …  PowerLoad(name=\"Cabot\"), PowerLoad(name=\"Bayle\"), PowerLoad(name=\"Bede\"), PowerLoad(name=\"Arnold\"), PowerLoad(name=\"Baker\"), PowerLoad(name=\"Barry\"), PowerLoad(name=\"Barkla\"), PowerLoad(name=\"Arne\"), PowerLoad(name=\"Baffin\"), PowerLoad(name=\"Archer\")]\n",
       "   branches: Branch[Line(name=\"A3\"), Line(name=\"A1\"), Line(name=\"A2\"), Line(name=\"A5\"), Line(name=\"A4\"), TapTransformer(name=\"A7\"), Line(name=\"A6\"), Line(name=\"A8\"), Line(name=\"A9\"), Line(name=\"A10\")  …  Line(name=\"C31-2\"), Line(name=\"CB-1\"), Line(name=\"C31-1\"), Line(name=\"C32-2\"), Line(name=\"C32-1\"), Line(name=\"C33-2\"), Line(name=\"C33-1\"), Line(name=\"C34\"), Transformer2W(name=\"C35\"), Line(name=\"CA-1\")]\n",
       "   storage: Storage[GenericBattery(name=\"313_STORAGE_1\")]\n",
       "   basepower: 100.0\n",
       "   time_periods: 2"
      ]
     },
     "execution_count": 7,
     "metadata": {},
     "output_type": "execute_result"
    }
   ],
   "source": [
    "\n",
    "cdm_dict = PSY.csv2ps_dict(RTS_GMLC_DIR, 100.0)\n",
    "\n",
    "# PowerSimulations.jl is under development, until it is finished, some system elements aren't supported\n",
    "# for now, we'll remove them from the System.\n",
    "delete!(cdm_dict,\"dcline\")\n",
    "cdm_dict[\"gen\"][\"Renewable\"][\"PV\"] = Dict{String,Any}()\n",
    "cdm_dict[\"gen\"][\"Renewable\"][\"RTPV\"] = Dict{String,Any}()\n",
    "cdm_dict[\"gen\"][\"Renewable\"][\"WIND\"] = Dict{String,Any}()\n",
    "cdm_dict[\"gen\"][\"Hydro\"] = Dict{String,Any}()\n",
    "delete!(cdm_dict[\"forecast\"][\"DA\"],\"gen\")\n",
    "cdm_dict[\"forecast\"][\"DA\"][\"load\"] = cdm_dict[\"forecast\"][\"DA\"][\"load\"][1:2,:]\n",
    "PSY.assign_ts_data(cdm_dict,cdm_dict[\"forecast\"][\"DA\"])\n",
    "\n",
    "sys_rts = PSY.System(cdm_dict)\n"
   ]
  },
  {
   "cell_type": "markdown",
   "metadata": {
    "slideshow": {
     "slide_type": "slide"
    }
   },
   "source": [
    "# RTS-GMLC"
   ]
  },
  {
   "cell_type": "markdown",
   "metadata": {
    "slideshow": {
     "slide_type": "subslide"
    }
   },
   "source": [
    "## Define the model"
   ]
  },
  {
   "cell_type": "code",
   "execution_count": 11,
   "metadata": {},
   "outputs": [
    {
     "data": {
      "text/plain": [
       "PowerSimulations.PowerOperationModel{EconomicDispatch,CopperPlatePowerModel}(EconomicDispatch, CopperPlatePowerModel, Dict{Symbol,PowerSimulations.DeviceModel}(:ThermalGenerators=>DeviceModel{ThermalGen,ThermalDispatch}(ThermalGen, ThermalDispatch),:RenewableGenerators=>DeviceModel{RenewableGen,RenewableFullDispatch}(RenewableGen, RenewableFullDispatch),:Loads=>DeviceModel{PowerLoad,StaticPowerLoad}(PowerLoad, StaticPowerLoad)), Dict{Symbol,PowerSimulations.DeviceModel}(:Lines=>DeviceModel{Branch,SeriesLine}(Branch, SeriesLine)), Dict{Symbol,PowerSimulations.ServiceModel}(:Reserves=>ServiceModel{Reserve,AbstractReservesForm}(Reserve, AbstractReservesForm)), System(buses:73,GenClasses(T:73,R:0,H:0),loads:73,branches:120,storage:1), PowerSimulations.CanonicalModel(A JuMP Model\n",
       "Minimization problem with:\n",
       "Variables: 584\n",
       "Objective function type: GenericAffExpr{Float64,VariableRef}\n",
       "`VariableRef`-in-`MathOptInterface.GreaterThan{Float64}`: 438 constraints\n",
       "`VariableRef`-in-`MathOptInterface.LessThan{Float64}`: 438 constraints\n",
       "`GenericAffExpr{Float64,VariableRef}`-in-`MathOptInterface.EqualTo{Float64}`: 148 constraints\n",
       "`GenericAffExpr{Float64,VariableRef}`-in-`MathOptInterface.GreaterThan{Float64}`: 438 constraints\n",
       "`GenericAffExpr{Float64,VariableRef}`-in-`MathOptInterface.LessThan{Float64}`: 438 constraints\n",
       "`GenericAffExpr{Float64,VariableRef}`-in-`MathOptInterface.Interval{Float64}`: 146 constraints\n",
       "Model mode: AUTOMATIC\n",
       "CachingOptimizer state: EMPTY_OPTIMIZER\n",
       "Solver name: GLPK, Dict{Symbol,JuMP.Containers.DenseAxisArray}(:Pth=>2-dimensional DenseAxisArray{VariableRef,2,...} with index sets:\n",
       "    Dimension 1, [\"322_CT_6\", \"321_CC_1\", \"202_STEAM_3\", \"315_STEAM_1\", \"223_CT_4\", \"123_STEAM_2\", \"213_CT_1\", \"223_CT_6\", \"313_CC_1\", \"202_CT_2\"  …  \"216_STEAM_1\", \"315_CT_6\", \"201_CT_2\", \"201_STEAM_3\", \"201_CT_1\", \"301_CT_2\", \"302_CT_4\", \"307_CT_1\", \"102_STEAM_4\", \"107_CC_1\"]\n",
       "    Dimension 2, 1:2\n",
       "And data, a 73×2 Array{VariableRef,2}:\n",
       " Pth_{322_CT_6,1}     Pth_{322_CT_6,2}   \n",
       " Pth_{321_CC_1,1}     Pth_{321_CC_1,2}   \n",
       " Pth_{202_STEAM_3,1}  Pth_{202_STEAM_3,2}\n",
       " Pth_{315_STEAM_1,1}  Pth_{315_STEAM_1,2}\n",
       " Pth_{223_CT_4,1}     Pth_{223_CT_4,2}   \n",
       " Pth_{123_STEAM_2,1}  Pth_{123_STEAM_2,2}\n",
       " Pth_{213_CT_1,1}     Pth_{213_CT_1,2}   \n",
       " Pth_{223_CT_6,1}     Pth_{223_CT_6,2}   \n",
       " Pth_{313_CC_1,1}     Pth_{313_CC_1,2}   \n",
       " Pth_{202_CT_2,1}     Pth_{202_CT_2,2}   \n",
       " Pth_{101_STEAM_3,1}  Pth_{101_STEAM_3,2}\n",
       " Pth_{302_CT_1,1}     Pth_{302_CT_1,2}   \n",
       " Pth_{123_CT_1,1}     Pth_{123_CT_1,2}   \n",
       " ⋮                                       \n",
       " Pth_{316_STEAM_1,1}  Pth_{316_STEAM_1,2}\n",
       " Pth_{102_CT_1,1}     Pth_{102_CT_1,2}   \n",
       " Pth_{216_STEAM_1,1}  Pth_{216_STEAM_1,2}\n",
       " Pth_{315_CT_6,1}     Pth_{315_CT_6,2}   \n",
       " Pth_{201_CT_2,1}     Pth_{201_CT_2,2}   \n",
       " Pth_{201_STEAM_3,1}  Pth_{201_STEAM_3,2}\n",
       " Pth_{201_CT_1,1}     Pth_{201_CT_1,2}   \n",
       " Pth_{301_CT_2,1}     Pth_{301_CT_2,2}   \n",
       " Pth_{302_CT_4,1}     Pth_{302_CT_4,2}   \n",
       " Pth_{307_CT_1,1}     Pth_{307_CT_1,2}   \n",
       " Pth_{102_STEAM_4,1}  Pth_{102_STEAM_4,2}\n",
       " Pth_{107_CC_1,1}     Pth_{107_CC_1,2}   ), Dict{Symbol,JuMP.Containers.DenseAxisArray}(:CopperPlateBalance=>1-dimensional DenseAxisArray{ConstraintRef,1,...} with index sets:\n",
       "    Dimension 1, 1:2\n",
       "And data, a 2-element Array{ConstraintRef,1}:\n",
       " Pth_{101_STEAM_3,1} + Pth_{101_STEAM_4,1} + Pth_{101_CT_1,1} + Pth_{101_CT_2,1} + Pth_{102_STEAM_3,1} + Pth_{102_CT_2,1} + Pth_{102_CT_1,1} + Pth_{102_STEAM_4,1} + Pth_{107_CC_1,1} + Pth_{113_CT_3,1} + Pth_{113_CT_2,1} + Pth_{113_CT_1,1} + Pth_{113_CT_4,1} + Pth_{115_STEAM_3,1} + Pth_{115_STEAM_2,1} + Pth_{115_STEAM_1,1} + Pth_{116_STEAM_1,1} + Pth_{118_CC_1,1} + Pth_{121_NUCLEAR_1,1} + Pth_{123_STEAM_2,1} + Pth_{123_CT_1,1} + Pth_{123_STEAM_3,1} + Pth_{123_CT_5,1} + Pth_{123_CT_4,1} + Pth_{201_CT_2,1} + Pth_{201_STEAM_3,1} + Pth_{201_CT_1,1} + Pth_{202_STEAM_3,1} + Pth_{202_CT_2,1} + Pth_{202_CT_1,1} + Pth_{202_STEAM_4,1} + Pth_{207_CT_2,1} + Pth_{207_CT_1,1} + Pth_{213_CT_1,1} + Pth_{213_CT_2,1} + Pth_{213_CC_3,1} + Pth_{215_CT_4,1} + Pth_{215_CT_5,1} + Pth_{216_STEAM_1,1} + Pth_{218_CC_1,1} + Pth_{221_CC_1,1} + Pth_{223_CT_4,1} + Pth_{223_CT_6,1} + Pth_{223_CT_5,1} + Pth_{223_STEAM_3,1} + Pth_{223_STEAM_1,1} + Pth_{223_STEAM_2,1} + Pth_{301_CT_4,1} + Pth_{301_CT_1,1} + Pth_{301_CT_3,1} + Pth_{301_CT_2,1} + Pth_{302_CT_1,1} + Pth_{302_CT_3,1} + Pth_{302_CT_2,1} + Pth_{302_CT_4,1} + Pth_{307_CT_2,1} + Pth_{307_CT_1,1} + Pth_{313_CC_1,1} + Pth_{315_STEAM_1,1} + Pth_{315_CT_7,1} + Pth_{315_STEAM_3,1} + Pth_{315_CT_8,1} + Pth_{315_STEAM_5,1} + Pth_{315_STEAM_4,1} + Pth_{315_STEAM_2,1} + Pth_{315_CT_6,1} + Pth_{316_STEAM_1,1} + Pth_{318_CC_1,1} + Pth_{321_CC_1,1} + Pth_{322_CT_6,1} + Pth_{322_CT_5,1} + Pth_{323_CC_1,1} + Pth_{323_CC_2,1} = 33.37331884200001\n",
       " Pth_{101_STEAM_3,2} + Pth_{101_STEAM_4,2} + Pth_{101_CT_1,2} + Pth_{101_CT_2,2} + Pth_{102_STEAM_3,2} + Pth_{102_CT_2,2} + Pth_{102_CT_1,2} + Pth_{102_STEAM_4,2} + Pth_{107_CC_1,2} + Pth_{113_CT_3,2} + Pth_{113_CT_2,2} + Pth_{113_CT_1,2} + Pth_{113_CT_4,2} + Pth_{115_STEAM_3,2} + Pth_{115_STEAM_2,2} + Pth_{115_STEAM_1,2} + Pth_{116_STEAM_1,2} + Pth_{118_CC_1,2} + Pth_{121_NUCLEAR_1,2} + Pth_{123_STEAM_2,2} + Pth_{123_CT_1,2} + Pth_{123_STEAM_3,2} + Pth_{123_CT_5,2} + Pth_{123_CT_4,2} + Pth_{201_CT_2,2} + Pth_{201_STEAM_3,2} + Pth_{201_CT_1,2} + Pth_{202_STEAM_3,2} + Pth_{202_CT_2,2} + Pth_{202_CT_1,2} + Pth_{202_STEAM_4,2} + Pth_{207_CT_2,2} + Pth_{207_CT_1,2} + Pth_{213_CT_1,2} + Pth_{213_CT_2,2} + Pth_{213_CC_3,2} + Pth_{215_CT_4,2} + Pth_{215_CT_5,2} + Pth_{216_STEAM_1,2} + Pth_{218_CC_1,2} + Pth_{221_CC_1,2} + Pth_{223_CT_4,2} + Pth_{223_CT_6,2} + Pth_{223_CT_5,2} + Pth_{223_STEAM_3,2} + Pth_{223_STEAM_1,2} + Pth_{223_STEAM_2,2} + Pth_{301_CT_4,2} + Pth_{301_CT_1,2} + Pth_{301_CT_3,2} + Pth_{301_CT_2,2} + Pth_{302_CT_1,2} + Pth_{302_CT_3,2} + Pth_{302_CT_2,2} + Pth_{302_CT_4,2} + Pth_{307_CT_2,2} + Pth_{307_CT_1,2} + Pth_{313_CC_1,2} + Pth_{315_STEAM_1,2} + Pth_{315_CT_7,2} + Pth_{315_STEAM_3,2} + Pth_{315_CT_8,2} + Pth_{315_STEAM_5,2} + Pth_{315_STEAM_4,2} + Pth_{315_STEAM_2,2} + Pth_{315_CT_6,2} + Pth_{316_STEAM_1,2} + Pth_{318_CC_1,2} + Pth_{321_CC_1,2} + Pth_{322_CT_6,2} + Pth_{322_CT_5,2} + Pth_{323_CC_1,2} + Pth_{323_CC_2,2} = 32.610458227     ,:thermal_active_range=>2-dimensional DenseAxisArray{ConstraintRef,2,...} with index sets:\n",
       "    Dimension 1, [\"322_CT_6\", \"321_CC_1\", \"202_STEAM_3\", \"315_STEAM_1\", \"223_CT_4\", \"123_STEAM_2\", \"213_CT_1\", \"223_CT_6\", \"313_CC_1\", \"202_CT_2\"  …  \"216_STEAM_1\", \"315_CT_6\", \"201_CT_2\", \"201_STEAM_3\", \"201_CT_1\", \"301_CT_2\", \"302_CT_4\", \"307_CT_1\", \"102_STEAM_4\", \"107_CC_1\"]\n",
       "    Dimension 2, 1:2\n",
       "And data, a 73×2 Array{ConstraintRef,2}:\n",
       " Pth_{322_CT_6,1} ∈ [0.22, 0.55]     Pth_{322_CT_6,2} ∈ [0.22, 0.55]   \n",
       " Pth_{321_CC_1,1} ∈ [1.7, 3.55]      Pth_{321_CC_1,2} ∈ [1.7, 3.55]    \n",
       " Pth_{202_STEAM_3,1} ∈ [0.3, 0.76]   Pth_{202_STEAM_3,2} ∈ [0.3, 0.76] \n",
       " Pth_{315_STEAM_1,1} ∈ [0.05, 0.12]  Pth_{315_STEAM_1,2} ∈ [0.05, 0.12]\n",
       " Pth_{223_CT_4,1} ∈ [0.22, 0.55]     Pth_{223_CT_4,2} ∈ [0.22, 0.55]   \n",
       " Pth_{123_STEAM_2,1} ∈ [0.62, 1.55]  Pth_{123_STEAM_2,2} ∈ [0.62, 1.55]\n",
       " Pth_{213_CT_1,1} ∈ [0.22, 0.55]     Pth_{213_CT_1,2} ∈ [0.22, 0.55]   \n",
       " Pth_{223_CT_6,1} ∈ [0.22, 0.55]     Pth_{223_CT_6,2} ∈ [0.22, 0.55]   \n",
       " Pth_{313_CC_1,1} ∈ [1.7, 3.55]      Pth_{313_CC_1,2} ∈ [1.7, 3.55]    \n",
       " Pth_{202_CT_2,1} ∈ [0.08, 0.2]      Pth_{202_CT_2,2} ∈ [0.08, 0.2]    \n",
       " Pth_{101_STEAM_3,1} ∈ [0.3, 0.76]   Pth_{101_STEAM_3,2} ∈ [0.3, 0.76] \n",
       " Pth_{302_CT_1,1} ∈ [0.08, 0.2]      Pth_{302_CT_1,2} ∈ [0.08, 0.2]    \n",
       " Pth_{123_CT_1,1} ∈ [0.22, 0.55]     Pth_{123_CT_1,2} ∈ [0.22, 0.55]   \n",
       " ⋮                                                                     \n",
       " Pth_{316_STEAM_1,1} ∈ [0.62, 1.55]  Pth_{316_STEAM_1,2} ∈ [0.62, 1.55]\n",
       " Pth_{102_CT_1,1} ∈ [0.08, 0.2]      Pth_{102_CT_1,2} ∈ [0.08, 0.2]    \n",
       " Pth_{216_STEAM_1,1} ∈ [0.62, 1.55]  Pth_{216_STEAM_1,2} ∈ [0.62, 1.55]\n",
       " Pth_{315_CT_6,1} ∈ [0.22, 0.55]     Pth_{315_CT_6,2} ∈ [0.22, 0.55]   \n",
       " Pth_{201_CT_2,1} ∈ [0.08, 0.2]      Pth_{201_CT_2,2} ∈ [0.08, 0.2]    \n",
       " Pth_{201_STEAM_3,1} ∈ [0.3, 0.76]   Pth_{201_STEAM_3,2} ∈ [0.3, 0.76] \n",
       " Pth_{201_CT_1,1} ∈ [0.08, 0.2]      Pth_{201_CT_1,2} ∈ [0.08, 0.2]    \n",
       " Pth_{301_CT_2,1} ∈ [0.08, 0.2]      Pth_{301_CT_2,2} ∈ [0.08, 0.2]    \n",
       " Pth_{302_CT_4,1} ∈ [0.22, 0.55]     Pth_{302_CT_4,2} ∈ [0.22, 0.55]   \n",
       " Pth_{307_CT_1,1} ∈ [0.22, 0.55]     Pth_{307_CT_1,2} ∈ [0.22, 0.55]   \n",
       " Pth_{102_STEAM_4,1} ∈ [0.3, 0.76]   Pth_{102_STEAM_4,2} ∈ [0.3, 0.76] \n",
       " Pth_{107_CC_1,1} ∈ [1.7, 3.55]      Pth_{107_CC_1,2} ∈ [1.7, 3.55]    ), 7000.494498000003 {Pth_{322_CT_6,1}}_{pwl}[1] + 1220.5870799999993 {Pth_{322_CT_6,1}}_{pwl}[2] + 6946.850861999999 {Pth_{322_CT_6,1}}_{pwl}[3] + 7000.494498000003 {Pth_{322_CT_6,2}}_{pwl}[1] + 1220.5870799999993 {Pth_{322_CT_6,2}}_{pwl}[2] + 6946.850861999999 {Pth_{322_CT_6,2}}_{pwl}[3] + 8540.033196984701 {Pth_{321_CC_1,1}}_{pwl}[1] + 4579.41833081282 {Pth_{321_CC_1,1}}_{pwl}[2] + 11002.482048979447 {Pth_{321_CC_1,1}}_{pwl}[3] + 8540.033196984701 {Pth_{321_CC_1,2}}_{pwl}[1] + 4579.41833081282 {Pth_{321_CC_1,2}}_{pwl}[2] + 11002.482048979447 {Pth_{321_CC_1,2}}_{pwl}[3] + 6243.18232635365 {Pth_{202_STEAM_3,1}}_{pwl}[1] + 3523.01029162798 {Pth_{202_STEAM_3,1}}_{pwl}[2] + 7275.581513556132 {Pth_{202_STEAM_3,1}}_{pwl}[3] + 6243.18232635365 {Pth_{202_STEAM_3,2}}_{pwl}[1] + 3523.01029162798 {Pth_{202_STEAM_3,2}}_{pwl}[2] + 7275.581513556132 {Pth_{202_STEAM_3,2}}_{pwl}[3] + 23708.7012670235 {Pth_{315_STEAM_1,1}}_{pwl}[1] + 9636.622006992146 {Pth_{315_STEAM_1,1}}_{pwl}[2] + 40113.978798856886 {Pth_{315_STEAM_1,1}}_{pwl}[3] + 23708.7012670235 {Pth_{315_STEAM_1,2}}_{pwl}[1] + 9636.622006992146 {Pth_{315_STEAM_1,2}}_{pwl}[2] + 40113.978798856886 {Pth_{315_STEAM_1,2}}_{pwl}[3] + 11189.362770000003 {Pth_{223_CT_4,1}}_{pwl}[1] + 510.0032639999962 {Pth_{223_CT_4,1}}_{pwl}[2] + 9560.617590000005 {Pth_{223_CT_4,1}}_{pwl}[3] + 11189.362770000003 {Pth_{223_CT_4,2}}_{pwl}[1] + 510.0032639999962 {Pth_{223_CT_4,2}}_{pwl}[2] + 9560.617590000005 {Pth_{223_CT_4,2}}_{pwl}[3] + 5828.904627000002 {Pth_{123_STEAM_2,1}}_{pwl}[1] + 4550.574873999994 {Pth_{123_STEAM_2,1}}_{pwl}[2] + 10688.756238000004 {Pth_{123_STEAM_2,1}}_{pwl}[3] + 5828.904627000002 {Pth_{123_STEAM_2,2}}_{pwl}[1] + 4550.574873999994 {Pth_{123_STEAM_2,2}}_{pwl}[2] + 10688.756238000004 {Pth_{123_STEAM_2,2}}_{pwl}[3] + 8045.379234000001 {Pth_{213_CT_1,1}}_{pwl}[1] + 1616.3060760000042 {Pth_{213_CT_1,1}}_{pwl}[2] + 7108.9479360000005 {Pth_{213_CT_1,1}}_{pwl}[3] + 8045.379234000001 {Pth_{213_CT_1,2}}_{pwl}[1] + 1616.3060760000042 {Pth_{213_CT_1,2}}_{pwl}[2] + 7108.9479360000005 {Pth_{213_CT_1,2}}_{pwl}[3] + 11189.362770000003 {Pth_{223_CT_6,1}}_{pwl}[1] + 510.0032639999962 {Pth_{223_CT_6,1}}_{pwl}[2] + 9560.617590000005 {Pth_{223_CT_6,1}}_{pwl}[3] + 11189.362770000003 {Pth_{223_CT_6,2}}_{pwl}[1] + 510.0032639999962 {Pth_{223_CT_6,2}}_{pwl}[2] + 9560.617590000005 {Pth_{223_CT_6,2}}_{pwl}[3] + 5909.97167376831 {Pth_{313_CC_1,1}}_{pwl}[1] + 4224.882855211934 {Pth_{313_CC_1,1}}_{pwl}[2] + 13520.654687215501 {Pth_{313_CC_1,1}}_{pwl}[3] + 5909.97167376831 {Pth_{313_CC_1,2}}_{pwl}[1] + 4224.882855211934 {Pth_{313_CC_1,2}}_{pwl}[2] + 13520.654687215501 {Pth_{313_CC_1,2}}_{pwl}[3] + 24329.369520000007 {Pth_{202_CT_2,1}}_{pwl}[1] + 6667.08347999999 {Pth_{202_CT_2,1}}_{pwl}[2] + 24592.244280000024 {Pth_{202_CT_2,1}}_{pwl}[3] + 24329.369520000007 {Pth_{202_CT_2,2}}_{pwl}[1] + 6667.08347999999 {Pth_{202_CT_2,2}}_{pwl}[2] + 24592.244280000024 {Pth_{202_CT_2,2}}_{pwl}[3] + 4195.663525559321 {Pth_{101_STEAM_3,1}}_{pwl}[1] + 1226.0958184334913 {Pth_{101_STEAM_3,1}}_{pwl}[2] + 4762.010638708911 {Pth_{101_STEAM_3,1}}_{pwl}[3] + 4195.663525559321 {Pth_{101_STEAM_3,2}}_{pwl}[1] + 1226.0958184334913 {Pth_{101_STEAM_3,2}}_{pwl}[2] + 4762.010638708911 {Pth_{101_STEAM_3,2}}_{pwl}[3] + 26176.737420000012 {Pth_{302_CT_1,1}}_{pwl}[1] + 9672.549239999993 {Pth_{302_CT_1,1}}_{pwl}[2] + 26506.883280000024 {Pth_{302_CT_1,1}}_{pwl}[3] + 26176.737420000012 {Pth_{302_CT_1,2}}_{pwl}[1] + 9672.549239999993 {Pth_{302_CT_1,2}}_{pwl}[2] + 26506.883280000024 {Pth_{302_CT_1,2}}_{pwl}[3] + 7879.783662000003 {Pth_{123_CT_1,1}}_{pwl}[1] + 2028.351395999999 {Pth_{123_CT_1,1}}_{pwl}[2] + 7665.209118000002 {Pth_{123_CT_1,1}}_{pwl}[3] + 7879.783662000003 {Pth_{123_CT_1,2}}_{pwl}[1] + 2028.351395999999 {Pth_{123_CT_1,2}}_{pwl}[2] + 7665.209118000002 {Pth_{123_CT_1,2}}_{pwl}[3] + 8045.379234000001 {Pth_{113_CT_3,1}}_{pwl}[1] + 1616.3060760000042 {Pth_{113_CT_3,1}}_{pwl}[2] + 7108.9479360000005 {Pth_{113_CT_3,1}}_{pwl}[3] + 8045.379234000001 {Pth_{113_CT_3,2}}_{pwl}[1] + 1616.3060760000042 {Pth_{113_CT_3,2}}_{pwl}[2] + 7108.9479360000005 {Pth_{113_CT_3,2}}_{pwl}[3] + 10137.481038000004 {Pth_{302_CT_3,1}}_{pwl}[1] + 3384.213732 {Pth_{302_CT_3,1}}_{pwl}[2] + 9180.058751999999 {Pth_{302_CT_3,1}}_{pwl}[3] + 10137.481038000004 {Pth_{302_CT_3,2}}_{pwl}[1] + 3384.213732 {Pth_{302_CT_3,2}}_{pwl}[2] + 9180.058751999999 {Pth_{302_CT_3,2}}_{pwl}[3] + 7775.994888000002 {Pth_{215_CT_4,1}}_{pwl}[1] - 198.24822000000074 {Pth_{215_CT_4,1}}_{pwl}[2] + 8591.144922000005 {Pth_{215_CT_4,1}}_{pwl}[3] + 7775.994888000002 {Pth_{215_CT_4,2}}_{pwl}[1] - 198.24822000000074 {Pth_{215_CT_4,2}}_{pwl}[2] + 8591.144922000005 {Pth_{215_CT_4,2}}_{pwl}[3] + 5458.8001239736495 {Pth_{102_STEAM_3,1}}_{pwl}[1] + 3453.6714196195985 {Pth_{102_STEAM_3,1}}_{pwl}[2] + 5701.357499563712 {Pth_{102_STEAM_3,1}}_{pwl}[3] + 5458.8001239736495 {Pth_{102_STEAM_3,2}}_{pwl}[1] + 3453.6714196195985 {Pth_{102_STEAM_3,2}}_{pwl}[2] + 5701.357499563712 {Pth_{102_STEAM_3,2}}_{pwl}[3] + 8540.999784000001 {Pth_{301_CT_4,1}}_{pwl}[1] + 1537.7842320000038 {Pth_{301_CT_4,1}}_{pwl}[2] + 13330.443546000004 {Pth_{301_CT_4,1}}_{pwl}[3] + 8540.999784000001 {Pth_{301_CT_4,2}}_{pwl}[1] + 1537.7842320000038 {Pth_{301_CT_4,2}}_{pwl}[2] + 13330.443546000004 {Pth_{301_CT_4,2}}_{pwl}[3] + 24329.369520000007 {Pth_{202_CT_1,1}}_{pwl}[1] + 6667.08347999999 {Pth_{202_CT_1,1}}_{pwl}[2] + 24592.244280000024 {Pth_{202_CT_1,1}}_{pwl}[3] + 24329.369520000007 {Pth_{202_CT_1,2}}_{pwl}[1] + 6667.08347999999 {Pth_{202_CT_1,2}}_{pwl}[2] + 24592.244280000024 {Pth_{202_CT_1,2}}_{pwl}[3] + 8045.379234000001 {Pth_{113_CT_2,1}}_{pwl}[1] + 1616.3060760000042 {Pth_{113_CT_2,1}}_{pwl}[2] + 7108.9479360000005 {Pth_{113_CT_2,1}}_{pwl}[3] + 8045.379234000001 {Pth_{113_CT_2,2}}_{pwl}[1] + 1616.3060760000042 {Pth_{113_CT_2,2}}_{pwl}[2] + 7108.9479360000005 {Pth_{113_CT_2,2}}_{pwl}[3] + 8688.987264373967 {Pth_{221_CC_1,1}}_{pwl}[1] + 5141.61540313337 {Pth_{221_CC_1,1}}_{pwl}[2] + 12106.683662087455 {Pth_{221_CC_1,1}}_{pwl}[3] + 8688.987264373967 {Pth_{221_CC_1,2}}_{pwl}[1] + 5141.61540313337 {Pth_{221_CC_1,2}}_{pwl}[2] + 12106.683662087455 {Pth_{221_CC_1,2}}_{pwl}[3] + 11189.362770000003 {Pth_{223_CT_5,1}}_{pwl}[1] + 510.0032639999962 {Pth_{223_CT_5,1}}_{pwl}[2] + 9560.617590000005 {Pth_{223_CT_5,1}}_{pwl}[3] + 11189.362770000003 {Pth_{223_CT_5,2}}_{pwl}[1] + 510.0032639999962 {Pth_{223_CT_5,2}}_{pwl}[2] + 9560.617590000005 {Pth_{223_CT_5,2}}_{pwl}[3] + 7920.599472000002 {Pth_{315_CT_7,1}}_{pwl}[1] + 2717.944224000002 {Pth_{315_CT_7,1}}_{pwl}[2] + 8007.284478000004 {Pth_{315_CT_7,1}}_{pwl}[3] + 7920.599472000002 {Pth_{315_CT_7,2}}_{pwl}[1] + 2717.944224000002 {Pth_{315_CT_7,2}}_{pwl}[2] + 8007.284478000004 {Pth_{315_CT_7,2}}_{pwl}[3] + 7775.994888000002 {Pth_{215_CT_5,1}}_{pwl}[1] - 198.24822000000074 {Pth_{215_CT_5,1}}_{pwl}[2] + 8591.144922000005 {Pth_{215_CT_5,1}}_{pwl}[3] + 7775.994888000002 {Pth_{215_CT_5,2}}_{pwl}[1] - 198.24822000000074 {Pth_{215_CT_5,2}}_{pwl}[2] + 8591.144922000005 {Pth_{215_CT_5,2}}_{pwl}[3] + 9928.810825290526 {Pth_{323_CC_1,1}}_{pwl}[1] + 6492.72902950408 {Pth_{323_CC_1,1}}_{pwl}[2] + 8335.9331732974 {Pth_{323_CC_1,1}}_{pwl}[3] + 9928.810825290526 {Pth_{323_CC_1,2}}_{pwl}[1] + 6492.72902950408 {Pth_{323_CC_1,2}}_{pwl}[2] + 8335.9331732974 {Pth_{323_CC_1,2}}_{pwl}[3] + 4195.663525559321 {Pth_{101_STEAM_4,1}}_{pwl}[1] + 1226.0958184334913 {Pth_{101_STEAM_4,1}}_{pwl}[2] + 4762.010638708911 {Pth_{101_STEAM_4,1}}_{pwl}[3] + 4195.663525559321 {Pth_{101_STEAM_4,2}}_{pwl}[1] + 1226.0958184334913 {Pth_{101_STEAM_4,2}}_{pwl}[2] + 4762.010638708911 {Pth_{101_STEAM_4,2}}_{pwl}[3] + 8045.379234000001 {Pth_{113_CT_1,1}}_{pwl}[1] + 1616.3060760000042 {Pth_{113_CT_1,1}}_{pwl}[2] + 7108.9479360000005 {Pth_{113_CT_1,1}}_{pwl}[3] + 8045.379234000001 {Pth_{113_CT_1,2}}_{pwl}[1] + 1616.3060760000042 {Pth_{113_CT_1,2}}_{pwl}[2] + 7108.9479360000005 {Pth_{113_CT_1,2}}_{pwl}[3] + 5658.3056339999985 {Pth_{223_STEAM_3,1}}_{pwl}[1] + 4480.390405999996 {Pth_{223_STEAM_3,1}}_{pwl}[2] + 6650.401141000005 {Pth_{223_STEAM_3,1}}_{pwl}[3] + 5658.3056339999985 {Pth_{223_STEAM_3,2}}_{pwl}[1] + 4480.390405999996 {Pth_{223_STEAM_3,2}}_{pwl}[2] + 6650.401141000005 {Pth_{223_STEAM_3,2}}_{pwl}[3] + 10085.066562649856 {Pth_{318_CC_1,1}}_{pwl}[1] + 4453.367343532837 {Pth_{318_CC_1,1}}_{pwl}[2] + 8065.55075691516 {Pth_{318_CC_1,1}}_{pwl}[3] + 10085.066562649856 {Pth_{318_CC_1,2}}_{pwl}[1] + 4453.367343532837 {Pth_{318_CC_1,2}}_{pwl}[2] + 8065.55075691516 {Pth_{318_CC_1,2}}_{pwl}[3] + 8368.407216000001 {Pth_{307_CT_2,1}}_{pwl}[1] + 1306.8833639999984 {Pth_{307_CT_2,1}}_{pwl}[2] + 9368.977644000008 {Pth_{307_CT_2,1}}_{pwl}[3] + 8368.407216000001 {Pth_{307_CT_2,2}}_{pwl}[1] + 1306.8833639999984 {Pth_{307_CT_2,2}}_{pwl}[2] + 9368.977644000008 {Pth_{307_CT_2,2}}_{pwl}[3] + 8045.379234000001 {Pth_{213_CT_2,1}}_{pwl}[1] + 1616.3060760000042 {Pth_{213_CT_2,1}}_{pwl}[2] + 7108.9479360000005 {Pth_{213_CT_2,1}}_{pwl}[3] + 8045.379234000001 {Pth_{213_CT_2,2}}_{pwl}[1] + 1616.3060760000042 {Pth_{213_CT_2,2}}_{pwl}[2] + 7108.9479360000005 {Pth_{213_CT_2,2}}_{pwl}[3] + 8045.379234000001 {Pth_{113_CT_4,1}}_{pwl}[1] + 1616.3060760000042 {Pth_{113_CT_4,1}}_{pwl}[2] + 7108.9479360000005 {Pth_{113_CT_4,1}}_{pwl}[3] + 8045.379234000001 {Pth_{113_CT_4,2}}_{pwl}[1] + 1616.3060760000042 {Pth_{113_CT_4,2}}_{pwl}[2] + 7108.9479360000005 {Pth_{113_CT_4,2}}_{pwl}[3] + 23708.7012670235 {Pth_{315_STEAM_3,1}}_{pwl}[1] + 9636.622006992146 {Pth_{315_STEAM_3,1}}_{pwl}[2] + 40113.978798856886 {Pth_{315_STEAM_3,1}}_{pwl}[3] + 23708.7012670235 {Pth_{315_STEAM_3,2}}_{pwl}[1] + 9636.622006992146 {Pth_{315_STEAM_3,2}}_{pwl}[2] + 40113.978798856886 {Pth_{315_STEAM_3,2}}_{pwl}[3] + 8481.619837224203 {Pth_{118_CC_1,1}}_{pwl}[1] + 5425.571571956507 {Pth_{118_CC_1,1}}_{pwl}[2] + 10206.064212152081 {Pth_{118_CC_1,1}}_{pwl}[3] + 8481.619837224203 {Pth_{118_CC_1,2}}_{pwl}[1] + 5425.571571956507 {Pth_{118_CC_1,2}}_{pwl}[2] + 10206.064212152081 {Pth_{118_CC_1,2}}_{pwl}[3] + 7920.599472000002 {Pth_{315_CT_8,1}}_{pwl}[1] + 2717.944224000002 {Pth_{315_CT_8,1}}_{pwl}[2] + 8007.284478000004 {Pth_{315_CT_8,1}}_{pwl}[3] + 7920.599472000002 {Pth_{315_CT_8,2}}_{pwl}[1] + 2717.944224000002 {Pth_{315_CT_8,2}}_{pwl}[2] + 8007.284478000004 {Pth_{315_CT_8,2}}_{pwl}[3] + 26176.737420000012 {Pth_{302_CT_2,1}}_{pwl}[1] + 9672.549239999993 {Pth_{302_CT_2,1}}_{pwl}[2] + 26506.883280000024 {Pth_{302_CT_2,1}}_{pwl}[3] + 26176.737420000012 {Pth_{302_CT_2,2}}_{pwl}[1] + 9672.549239999993 {Pth_{302_CT_2,2}}_{pwl}[2] + 26506.883280000024 {Pth_{302_CT_2,2}}_{pwl}[3] + 7868.279559738983 {Pth_{218_CC_1,1}}_{pwl}[1] - 1891.8154085785618 {Pth_{218_CC_1,1}}_{pwl}[2] + 9268.624337491625 {Pth_{218_CC_1,1}}_{pwl}[3] + 7868.279559738983 {Pth_{218_CC_1,2}}_{pwl}[1] - 1891.8154085785618 {Pth_{218_CC_1,2}}_{pwl}[2] + 9268.624337491625 {Pth_{218_CC_1,2}}_{pwl}[3] + 9249.755518074744 {Pth_{213_CC_3,1}}_{pwl}[1] + 4520.269551464136 {Pth_{213_CC_3,1}}_{pwl}[2] + 10328.564171842416 {Pth_{213_CC_3,1}}_{pwl}[3] + 9249.755518074744 {Pth_{213_CC_3,2}}_{pwl}[1] + 4520.269551464136 {Pth_{213_CC_3,2}}_{pwl}[2] + 10328.564171842416 {Pth_{213_CC_3,2}}_{pwl}[3] + 6120.001050000002 {Pth_{115_STEAM_3,1}}_{pwl}[1] + 4157.7955319999965 {Pth_{115_STEAM_3,1}}_{pwl}[2] + 7405.306970000001 {Pth_{115_STEAM_3,1}}_{pwl}[3] + 6120.001050000002 {Pth_{115_STEAM_3,2}}_{pwl}[1] + 4157.7955319999965 {Pth_{115_STEAM_3,2}}_{pwl}[2] + 7405.306970000001 {Pth_{115_STEAM_3,2}}_{pwl}[3] + 9928.810825290526 {Pth_{323_CC_2,1}}_{pwl}[1] + 6492.72902950408 {Pth_{323_CC_2,1}}_{pwl}[2] + 8335.9331732974 {Pth_{323_CC_2,1}}_{pwl}[3] + 9928.810825290526 {Pth_{323_CC_2,2}}_{pwl}[1] + 6492.72902950408 {Pth_{323_CC_2,2}}_{pwl}[2] + 8335.9331732974 {Pth_{323_CC_2,2}}_{pwl}[3] + 29359.17792000001 {Pth_{101_CT_1,1}}_{pwl}[1] + 12083.95943999999 {Pth_{101_CT_1,1}}_{pwl}[2] + 24209.31648000002 {Pth_{101_CT_1,1}}_{pwl}[3] + 29359.17792000001 {Pth_{101_CT_1,2}}_{pwl}[1] + 12083.95943999999 {Pth_{101_CT_1,2}}_{pwl}[2] + 24209.31648000002 {Pth_{101_CT_1,2}}_{pwl}[3] + 39129.60299661033 {Pth_{115_STEAM_2,1}}_{pwl}[1] + 13351.760899671064 {Pth_{115_STEAM_2,1}}_{pwl}[2] + 29600.4668633441 {Pth_{115_STEAM_2,1}}_{pwl}[3] + 39129.60299661033 {Pth_{115_STEAM_2,2}}_{pwl}[1] + 13351.760899671064 {Pth_{115_STEAM_2,2}}_{pwl}[2] + 29600.4668633441 {Pth_{115_STEAM_2,2}}_{pwl}[3] + 29359.17792000001 {Pth_{101_CT_2,1}}_{pwl}[1] + 12083.95943999999 {Pth_{101_CT_2,1}}_{pwl}[2] + 24209.31648000002 {Pth_{101_CT_2,1}}_{pwl}[3] + 29359.17792000001 {Pth_{101_CT_2,2}}_{pwl}[1] + 12083.95943999999 {Pth_{101_CT_2,2}}_{pwl}[2] + 24209.31648000002 {Pth_{101_CT_2,2}}_{pwl}[3] + 7000.494498000003 {Pth_{322_CT_5,1}}_{pwl}[1] + 1220.5870799999993 {Pth_{322_CT_5,1}}_{pwl}[2] + 6946.850861999999 {Pth_{322_CT_5,1}}_{pwl}[3] + 7000.494498000003 {Pth_{322_CT_5,2}}_{pwl}[1] + 1220.5870799999993 {Pth_{322_CT_5,2}}_{pwl}[2] + 6946.850861999999 {Pth_{322_CT_5,2}}_{pwl}[3] + 23708.7012670235 {Pth_{315_STEAM_5,1}}_{pwl}[1] + 9636.622006992146 {Pth_{315_STEAM_5,1}}_{pwl}[2] + 40113.978798856886 {Pth_{315_STEAM_5,1}}_{pwl}[3] + 23708.7012670235 {Pth_{315_STEAM_5,2}}_{pwl}[1] + 9636.622006992146 {Pth_{315_STEAM_5,2}}_{pwl}[2] + 40113.978798856886 {Pth_{315_STEAM_5,2}}_{pwl}[3] + 10266.925464000005 {Pth_{207_CT_2,1}}_{pwl}[1] + 4595.471483999995 {Pth_{207_CT_2,1}}_{pwl}[2] + 11025.322086000002 {Pth_{207_CT_2,1}}_{pwl}[3] + 10266.925464000005 {Pth_{207_CT_2,2}}_{pwl}[1] + 4595.471483999995 {Pth_{207_CT_2,2}}_{pwl}[2] + 11025.322086000002 {Pth_{207_CT_2,2}}_{pwl}[3] + 5995.064240999999 {Pth_{123_STEAM_3,1}}_{pwl}[1] + 3540.5104519999977 {Pth_{123_STEAM_3,1}}_{pwl}[2] + 5723.8393240000005 {Pth_{123_STEAM_3,1}}_{pwl}[3] + 5995.064240999999 {Pth_{123_STEAM_3,2}}_{pwl}[1] + 3540.5104519999977 {Pth_{123_STEAM_3,2}}_{pwl}[2] + 5723.8393240000005 {Pth_{123_STEAM_3,2}}_{pwl}[3] + 5710.309788000002 {Pth_{223_STEAM_1,1}}_{pwl}[1] + 3285.563257999996 {Pth_{223_STEAM_1,1}}_{pwl}[2] + 4499.204917000001 {Pth_{223_STEAM_1,1}}_{pwl}[3] + 5710.309788000002 {Pth_{223_STEAM_1,2}}_{pwl}[1] + 3285.563257999996 {Pth_{223_STEAM_1,2}}_{pwl}[2] + 4499.204917000001 {Pth_{223_STEAM_1,2}}_{pwl}[3] + 7879.783662000003 {Pth_{123_CT_5,1}}_{pwl}[1] + 2028.351395999999 {Pth_{123_CT_5,1}}_{pwl}[2] + 7665.209118000002 {Pth_{123_CT_5,1}}_{pwl}[3] + 7879.783662000003 {Pth_{123_CT_5,2}}_{pwl}[1] + 2028.351395999999 {Pth_{123_CT_5,2}}_{pwl}[2] + 7665.209118000002 {Pth_{123_CT_5,2}}_{pwl}[3] + 26176.737420000012 {Pth_{301_CT_1,1}}_{pwl}[1] + 9672.549239999993 {Pth_{301_CT_1,1}}_{pwl}[2] + 26506.883280000024 {Pth_{301_CT_1,1}}_{pwl}[3] + 26176.737420000012 {Pth_{301_CT_1,2}}_{pwl}[1] + 9672.549239999993 {Pth_{301_CT_1,2}}_{pwl}[2] + 26506.883280000024 {Pth_{301_CT_1,2}}_{pwl}[3] + 5710.309788000002 {Pth_{223_STEAM_2,1}}_{pwl}[1] + 3285.563257999996 {Pth_{223_STEAM_2,1}}_{pwl}[2] + 4499.204917000001 {Pth_{223_STEAM_2,1}}_{pwl}[3] + 5710.309788000002 {Pth_{223_STEAM_2,2}}_{pwl}[1] + 3285.563257999996 {Pth_{223_STEAM_2,2}}_{pwl}[2] + 4499.204917000001 {Pth_{223_STEAM_2,2}}_{pwl}[3] + 6243.18232635365 {Pth_{202_STEAM_4,1}}_{pwl}[1] + 3523.01029162798 {Pth_{202_STEAM_4,1}}_{pwl}[2] + 7275.581513556132 {Pth_{202_STEAM_4,1}}_{pwl}[3] + 6243.18232635365 {Pth_{202_STEAM_4,2}}_{pwl}[1] + 3523.01029162798 {Pth_{202_STEAM_4,2}}_{pwl}[2] + 7275.581513556132 {Pth_{202_STEAM_4,2}}_{pwl}[3] + 5905.642464000001 {Pth_{116_STEAM_1,1}}_{pwl}[1] + 2992.564243999996 {Pth_{116_STEAM_1,1}}_{pwl}[2] + 6032.059066000003 {Pth_{116_STEAM_1,1}}_{pwl}[3] + 5905.642464000001 {Pth_{116_STEAM_1,2}}_{pwl}[1] + 2992.564243999996 {Pth_{116_STEAM_1,2}}_{pwl}[2] + 6032.059066000003 {Pth_{116_STEAM_1,2}}_{pwl}[3] + 23708.7012670235 {Pth_{315_STEAM_4,1}}_{pwl}[1] + 9636.622006992146 {Pth_{315_STEAM_4,1}}_{pwl}[2] + 40113.978798856886 {Pth_{315_STEAM_4,1}}_{pwl}[3] + 23708.7012670235 {Pth_{315_STEAM_4,2}}_{pwl}[1] + 9636.622006992146 {Pth_{315_STEAM_4,2}}_{pwl}[2] + 40113.978798856886 {Pth_{315_STEAM_4,2}}_{pwl}[3] + 39129.60299661033 {Pth_{115_STEAM_1,1}}_{pwl}[1] + 13351.760899671064 {Pth_{115_STEAM_1,1}}_{pwl}[2] + 29600.4668633441 {Pth_{115_STEAM_1,1}}_{pwl}[3] + 39129.60299661033 {Pth_{115_STEAM_1,2}}_{pwl}[1] + 13351.760899671064 {Pth_{115_STEAM_1,2}}_{pwl}[2] + 29600.4668633441 {Pth_{115_STEAM_1,2}}_{pwl}[3] + 23708.7012670235 {Pth_{315_STEAM_2,1}}_{pwl}[1] + 9636.622006992146 {Pth_{315_STEAM_2,1}}_{pwl}[2] + 40113.978798856886 {Pth_{315_STEAM_2,1}}_{pwl}[3] + 23708.7012670235 {Pth_{315_STEAM_2,2}}_{pwl}[1] + 9636.622006992146 {Pth_{315_STEAM_2,2}}_{pwl}[2] + 40113.978798856886 {Pth_{315_STEAM_2,2}}_{pwl}[3] + 241484.32406739393 {Pth_{121_NUCLEAR_1,1}}_{pwl}[1] + 1620.6997568950123 {Pth_{121_NUCLEAR_1,1}}_{pwl}[2] + 1620.7002431049202 {Pth_{121_NUCLEAR_1,1}}_{pwl}[3] + 241484.32406739393 {Pth_{121_NUCLEAR_1,2}}_{pwl}[1] + 1620.6997568950123 {Pth_{121_NUCLEAR_1,2}}_{pwl}[2] + 1620.7002431049202 {Pth_{121_NUCLEAR_1,2}}_{pwl}[3] + 26692.13754000001 {Pth_{102_CT_2,1}}_{pwl}[1] + 7565.411399999987 {Pth_{102_CT_2,1}}_{pwl}[2] + 23098.825860000023 {Pth_{102_CT_2,1}}_{pwl}[3] + 26692.13754000001 {Pth_{102_CT_2,2}}_{pwl}[1] + 7565.411399999987 {Pth_{102_CT_2,2}}_{pwl}[2] + 23098.825860000023 {Pth_{102_CT_2,2}}_{pwl}[3] + 7879.783662000003 {Pth_{123_CT_4,1}}_{pwl}[1] + 2028.351395999999 {Pth_{123_CT_4,1}}_{pwl}[2] + 7665.209118000002 {Pth_{123_CT_4,1}}_{pwl}[3] + 7879.783662000003 {Pth_{123_CT_4,2}}_{pwl}[1] + 2028.351395999999 {Pth_{123_CT_4,2}}_{pwl}[2] + 7665.209118000002 {Pth_{123_CT_4,2}}_{pwl}[3] + 10266.925464000005 {Pth_{207_CT_1,1}}_{pwl}[1] + 4595.471483999995 {Pth_{207_CT_1,1}}_{pwl}[2] + 11025.322086000002 {Pth_{207_CT_1,1}}_{pwl}[3] + 10266.925464000005 {Pth_{207_CT_1,2}}_{pwl}[1] + 4595.471483999995 {Pth_{207_CT_1,2}}_{pwl}[2] + 11025.322086000002 {Pth_{207_CT_1,2}}_{pwl}[3] + 8540.999784000001 {Pth_{301_CT_3,1}}_{pwl}[1] + 1537.7842320000038 {Pth_{301_CT_3,1}}_{pwl}[2] + 13330.443546000004 {Pth_{301_CT_3,1}}_{pwl}[3] + 8540.999784000001 {Pth_{301_CT_3,2}}_{pwl}[1] + 1537.7842320000038 {Pth_{301_CT_3,2}}_{pwl}[2] + 13330.443546000004 {Pth_{301_CT_3,2}}_{pwl}[3] + 6334.993833000002 {Pth_{316_STEAM_1,1}}_{pwl}[1] + 3506.6866119999963 {Pth_{316_STEAM_1,1}}_{pwl}[2] + 7302.355657000006 {Pth_{316_STEAM_1,1}}_{pwl}[3] + 6334.993833000002 {Pth_{316_STEAM_1,2}}_{pwl}[1] + 3506.6866119999963 {Pth_{316_STEAM_1,2}}_{pwl}[2] + 7302.355657000006 {Pth_{316_STEAM_1,2}}_{pwl}[3] + 26692.13754000001 {Pth_{102_CT_1,1}}_{pwl}[1] + 7565.411399999987 {Pth_{102_CT_1,1}}_{pwl}[2] + 23098.825860000023 {Pth_{102_CT_1,1}}_{pwl}[3] + 26692.13754000001 {Pth_{102_CT_1,2}}_{pwl}[1] + 7565.411399999987 {Pth_{102_CT_1,2}}_{pwl}[2] + 23098.825860000023 {Pth_{102_CT_1,2}}_{pwl}[3] + 5572.054842000001 {Pth_{216_STEAM_1,1}}_{pwl}[1] + 4137.078429999997 {Pth_{216_STEAM_1,1}}_{pwl}[2] + 6256.776203 {Pth_{216_STEAM_1,1}}_{pwl}[3] + 5572.054842000001 {Pth_{216_STEAM_1,2}}_{pwl}[1] + 4137.078429999997 {Pth_{216_STEAM_1,2}}_{pwl}[2] + 6256.776203 {Pth_{216_STEAM_1,2}}_{pwl}[3] + 7920.599472000002 {Pth_{315_CT_6,1}}_{pwl}[1] + 2717.944224000002 {Pth_{315_CT_6,1}}_{pwl}[2] + 8007.284478000004 {Pth_{315_CT_6,1}}_{pwl}[3] + 7920.599472000002 {Pth_{315_CT_6,2}}_{pwl}[1] + 2717.944224000002 {Pth_{315_CT_6,2}}_{pwl}[2] + 8007.284478000004 {Pth_{315_CT_6,2}}_{pwl}[3] + 24742.31058000001 {Pth_{201_CT_2,1}}_{pwl}[1] + 4630.32156 {Pth_{201_CT_2,1}}_{pwl}[2] + 31051.304820000012 {Pth_{201_CT_2,1}}_{pwl}[3] + 24742.31058000001 {Pth_{201_CT_2,2}}_{pwl}[1] + 4630.32156 {Pth_{201_CT_2,2}}_{pwl}[2] + 31051.304820000012 {Pth_{201_CT_2,2}}_{pwl}[3] + 6559.4352302614425 {Pth_{201_STEAM_3,1}}_{pwl}[1] + 3903.390622737352 {Pth_{201_STEAM_3,1}}_{pwl}[2] + 6208.053328822471 {Pth_{201_STEAM_3,1}}_{pwl}[3] + 6559.4352302614425 {Pth_{201_STEAM_3,2}}_{pwl}[1] + 3903.390622737352 {Pth_{201_STEAM_3,2}}_{pwl}[2] + 6208.053328822471 {Pth_{201_STEAM_3,2}}_{pwl}[3] + 24742.31058000001 {Pth_{201_CT_1,1}}_{pwl}[1] + 4630.32156 {Pth_{201_CT_1,1}}_{pwl}[2] + 31051.304820000012 {Pth_{201_CT_1,1}}_{pwl}[3] + 24742.31058000001 {Pth_{201_CT_1,2}}_{pwl}[1] + 4630.32156 {Pth_{201_CT_1,2}}_{pwl}[2] + 31051.304820000012 {Pth_{201_CT_1,2}}_{pwl}[3] + 26176.737420000012 {Pth_{301_CT_2,1}}_{pwl}[1] + 9672.549239999993 {Pth_{301_CT_2,1}}_{pwl}[2] + 26506.883280000024 {Pth_{301_CT_2,1}}_{pwl}[3] + 26176.737420000012 {Pth_{301_CT_2,2}}_{pwl}[1] + 9672.549239999993 {Pth_{301_CT_2,2}}_{pwl}[2] + 26506.883280000024 {Pth_{301_CT_2,2}}_{pwl}[3] + 10137.481038000004 {Pth_{302_CT_4,1}}_{pwl}[1] + 3384.213732 {Pth_{302_CT_4,1}}_{pwl}[2] + 9180.058751999999 {Pth_{302_CT_4,1}}_{pwl}[3] + 10137.481038000004 {Pth_{302_CT_4,2}}_{pwl}[1] + 3384.213732 {Pth_{302_CT_4,2}}_{pwl}[2] + 9180.058751999999 {Pth_{302_CT_4,2}}_{pwl}[3] + 8368.407216000001 {Pth_{307_CT_1,1}}_{pwl}[1] + 1306.8833639999984 {Pth_{307_CT_1,1}}_{pwl}[2] + 9368.977644000008 {Pth_{307_CT_1,1}}_{pwl}[3] + 8368.407216000001 {Pth_{307_CT_1,2}}_{pwl}[1] + 1306.8833639999984 {Pth_{307_CT_1,2}}_{pwl}[2] + 9368.977644000008 {Pth_{307_CT_1,2}}_{pwl}[3] + 5458.8001239736495 {Pth_{102_STEAM_4,1}}_{pwl}[1] + 3453.6714196195985 {Pth_{102_STEAM_4,1}}_{pwl}[2] + 5701.357499563712 {Pth_{102_STEAM_4,1}}_{pwl}[3] + 5458.8001239736495 {Pth_{102_STEAM_4,2}}_{pwl}[1] + 3453.6714196195985 {Pth_{102_STEAM_4,2}}_{pwl}[2] + 5701.357499563712 {Pth_{102_STEAM_4,2}}_{pwl}[3] + 8718.193944254219 {Pth_{107_CC_1,1}}_{pwl}[1] + 5004.51210336289 {Pth_{107_CC_1,1}}_{pwl}[2] + 8857.314436557812 {Pth_{107_CC_1,1}}_{pwl}[3] + 8718.193944254219 {Pth_{107_CC_1,2}}_{pwl}[1] + 5004.51210336289 {Pth_{107_CC_1,2}}_{pwl}[2] + 8857.314436557812 {Pth_{107_CC_1,2}}_{pwl}[3], Dict{Symbol,JuMP.Containers.DenseAxisArray}(:var_active=>2-dimensional DenseAxisArray{GenericAffExpr{Float64,VariableRef},2,...} with index sets:\n",
       "    Dimension 1, [101, 102, 103, 104, 105, 106, 107, 108, 109, 110  …  316, 317, 318, 319, 320, 321, 322, 323, 324, 325]\n",
       "    Dimension 2, 1:2\n",
       "And data, a 73×2 Array{GenericAffExpr{Float64,VariableRef},2}:\n",
       " Pth_{101_STEAM_3,1} + Pth_{101_STEAM_4,1} + Pth_{101_CT_1,1} + Pth_{101_CT_2,1} - 0.3732706580968421                                                                                      …  Pth_{101_STEAM_3,2} + Pth_{101_STEAM_4,2} + Pth_{101_CT_1,2} + Pth_{101_CT_2,2} - 0.37353785256                                                                                          \n",
       " Pth_{102_STEAM_3,1} + Pth_{102_CT_2,1} + Pth_{102_CT_1,1} + Pth_{102_STEAM_4,1} - 0.3352523503277193                                                                                         Pth_{102_STEAM_3,2} + Pth_{102_CT_2,2} + Pth_{102_CT_1,2} + Pth_{102_STEAM_4,2} - 0.33549233053999994                                                                                    \n",
       " -0.6221177634947368                                                                                                                                                                          -0.6225630876                                                                                                                                                                            \n",
       " -0.25575952499228066                                                                                                                                                                         -0.25594260267999996                                                                                                                                                                     \n",
       " -0.24539089560070174                                                                                                                                                                         -0.24556655121999996                                                                                                                                                                     \n",
       " -0.4700445324182456                                                                                                                                                                       …  -0.47038099952                                                                                                                                                                           \n",
       " Pth_{107_CC_1,1} - 0.43202622464912277                                                                                                                                                       Pth_{107_CC_1,2} - 0.43233547749999995                                                                                                                                                   \n",
       " -0.59101187532                                                                                                                                                                               -0.59143493322                                                                                                                                                                           \n",
       " -0.6048367145087719                                                                                                                                                                          -0.6052696685                                                                                                                                                                            \n",
       " -0.6739609104526315                                                                                                                                                                          -0.6744433448999999                                                                                                                                                                      \n",
       " 0                                                                                                                                                                                         …  0                                                                                                                                                                                        \n",
       " 0                                                                                                                                                                                            0                                                                                                                                                                                        \n",
       " Pth_{113_CT_3,1} + Pth_{113_CT_2,1} + Pth_{113_CT_1,1} + Pth_{113_CT_4,1} - 0.9158955962561403                                                                                               Pth_{113_CT_3,2} + Pth_{113_CT_2,2} + Pth_{113_CT_1,2} + Pth_{113_CT_4,2} - 0.9165512122999999                                                                                           \n",
       " ⋮                                                                                                                                                                                         ⋱                                                                                                                                                                                           \n",
       " -0.8506295475578948                                                                                                                                                                          -0.8116577030385965                                                                                                                                                                      \n",
       " Pth_{315_STEAM_1,1} + Pth_{315_CT_7,1} + Pth_{315_STEAM_3,1} + Pth_{315_CT_8,1} + Pth_{315_STEAM_5,1} + Pth_{315_STEAM_4,1} + Pth_{315_STEAM_2,1} + Pth_{315_CT_6,1} - 1.389946219463158     Pth_{315_STEAM_1,2} + Pth_{315_CT_7,2} + Pth_{315_STEAM_3,2} + Pth_{315_CT_8,2} + Pth_{315_STEAM_5,2} + Pth_{315_STEAM_4,2} + Pth_{315_STEAM_2,2} + Pth_{315_CT_6,2} - 1.3262654219754386\n",
       " Pth_{316_STEAM_1,1} - 0.43846883894736843                                                                                                                                                    Pth_{316_STEAM_1,2} - 0.4183802592982456                                                                                                                                                 \n",
       " 0                                                                                                                                                                                            0                                                                                                                                                                                        \n",
       " Pth_{318_CC_1,1} - 1.460101233694737                                                                                                                                                      …  Pth_{318_CC_1,2} - 1.393206263463158                                                                                                                                                     \n",
       " -0.7936285984947369                                                                                                                                                                          -0.7572682693298246                                                                                                                                                                      \n",
       " -0.5612401138526316                                                                                                                                                                          -0.5355267319017544                                                                                                                                                                      \n",
       " Pth_{321_CC_1,1}                                                                                                                                                                             Pth_{321_CC_1,2}                                                                                                                                                                         \n",
       " Pth_{322_CT_6,1} + Pth_{322_CT_5,1}                                                                                                                                                          Pth_{322_CT_6,2} + Pth_{322_CT_5,2}                                                                                                                                                      \n",
       " Pth_{323_CC_1,1} + Pth_{323_CC_2,1}                                                                                                                                                       …  Pth_{323_CC_1,2} + Pth_{323_CC_2,2}                                                                                                                                                      \n",
       " 0                                                                                                                                                                                            0                                                                                                                                                                                        \n",
       " 0                                                                                                                                                                                            0                                                                                                                                                                                        ), nothing, Dict{Symbol,Array{PowerSimulations.InitialCondition,N} where N}(), nothing))"
      ]
     },
     "execution_count": 11,
     "metadata": {},
     "output_type": "execute_result"
    }
   ],
   "source": [
    "ED_copperplate = PSI.EconomicDispatch(sys_rts, PSI.CopperPlatePowerModel; optimizer = optimizer, parameters=false)"
   ]
  },
  {
   "cell_type": "markdown",
   "metadata": {
    "slideshow": {
     "slide_type": "subslide"
    }
   },
   "source": [
    "## Run the Simulation"
   ]
  },
  {
   "cell_type": "code",
   "execution_count": 12,
   "metadata": {
    "slideshow": {
     "slide_type": "fragment"
    }
   },
   "outputs": [
    {
     "name": "stderr",
     "output_type": "stream",
     "text": [
      "┌ Warning: MathOptInterface.VariablePrimalStart() is not supported by MathOptInterface.Bridges.LazyBridgeOptimizer{GLPK.Optimizer,MathOptInterface.Utilities.UniversalFallback{MathOptInterface.Bridges.AllBridgedConstraints{Float64}}}. This \n",
      "│   information will be discarded. = information will be discarded.\n",
      "└ @ MathOptInterface.Utilities /Users/cbarrows/.julia/packages/MathOptInterface/C3lip/src/Utilities/copy.jl:133\n"
     ]
    },
    {
     "data": {
      "text/plain": [
       "PowerSimulations.OpertationModelResults(Dict(:Pth=>2×73 DataFrame. Omitted printing of 68 columns\n",
       "│ Row │ 322_CT_6 │ 321_CC_1 │ 202_STEAM_3 │ 315_STEAM_1 │ 223_CT_4 │\n",
       "│     │ \u001b[90mFloat64\u001b[39m  │ \u001b[90mFloat64\u001b[39m  │ \u001b[90mFloat64\u001b[39m     │ \u001b[90mFloat64\u001b[39m     │ \u001b[90mFloat64\u001b[39m  │\n",
       "├─────┼──────────┼──────────┼─────────────┼─────────────┼──────────┤\n",
       "│ 1   │ NaN      │ NaN      │ NaN         │ NaN         │ NaN      │\n",
       "│ 2   │ NaN      │ NaN      │ NaN         │ NaN         │ NaN      │), Dict(:ED=>4.5139e5), Dict{Symbol,Any}(:dual_status=>NO_SOLUTION,:primal_status=>NO_SOLUTION,:termination_status=>INFEASIBLE_OR_UNBOUNDED))"
      ]
     },
     "execution_count": 12,
     "metadata": {},
     "output_type": "execute_result"
    }
   ],
   "source": [
    "solve_op_model!(ED_copperplate)"
   ]
  },
  {
   "cell_type": "markdown",
   "metadata": {},
   "source": [
    "The model is `INFEASIBLE` because we are attempting to run an `EocnomicDispatch` with all generators in the RTS committed and the system is constrained by minimum generation levels that are too high to meet low-load conditions. We can resolve this by relaxing thermal minimum generation levels."
   ]
  },
  {
   "cell_type": "code",
   "execution_count": 13,
   "metadata": {},
   "outputs": [],
   "source": [
    "ED_copperplate.devices[:ThermalGenerators] = PowerSimulations.DeviceModel(ThermalGen, PSI.ThermalDispatchNoMin)\n",
    "PSI.build_op_model!(ED_copperplate; optimizer = optimizer, parameters=false)"
   ]
  },
  {
   "cell_type": "code",
   "execution_count": 14,
   "metadata": {},
   "outputs": [
    {
     "name": "stderr",
     "output_type": "stream",
     "text": [
      "┌ Warning: MathOptInterface.VariablePrimalStart() is not supported by MathOptInterface.Bridges.LazyBridgeOptimizer{GLPK.Optimizer,MathOptInterface.Utilities.UniversalFallback{MathOptInterface.Bridges.AllBridgedConstraints{Float64}}}. This \n",
      "│   information will be discarded. = information will be discarded.\n",
      "└ @ MathOptInterface.Utilities /Users/cbarrows/.julia/packages/MathOptInterface/C3lip/src/Utilities/copy.jl:133\n"
     ]
    },
    {
     "data": {
      "text/plain": [
       "PowerSimulations.OpertationModelResults(Dict(:Pth=>2×73 DataFrame. Omitted printing of 68 columns\n",
       "│ Row │ 322_CT_6 │ 321_CC_1 │ 202_STEAM_3 │ 315_STEAM_1 │ 223_CT_4 │\n",
       "│     │ \u001b[90mFloat64\u001b[39m  │ \u001b[90mFloat64\u001b[39m  │ \u001b[90mFloat64\u001b[39m     │ \u001b[90mFloat64\u001b[39m     │ \u001b[90mFloat64\u001b[39m  │\n",
       "├─────┼──────────┼──────────┼─────────────┼─────────────┼──────────┤\n",
       "│ 1   │ 0.33     │ 1.23     │ 0.46        │ 0.0         │ 0.11     │\n",
       "│ 2   │ 0.33     │ 1.23     │ 0.46        │ 0.0         │ 0.11     │), Dict(:ED=>3.68007e5), Dict{Symbol,Any}(:dual_status=>FEASIBLE_POINT,:primal_status=>FEASIBLE_POINT,:termination_status=>OPTIMAL))"
      ]
     },
     "execution_count": 14,
     "metadata": {},
     "output_type": "execute_result"
    }
   ],
   "source": [
    "solve_op_model!(ED_copperplate)"
   ]
  },
  {
   "cell_type": "code",
   "execution_count": null,
   "metadata": {},
   "outputs": [],
   "source": []
  }
 ],
 "metadata": {
  "@webio": {
   "lastCommId": "E8BE26720817413A916B2C7FDDB416AD",
   "lastKernelId": "42dbf1db-8448-40c4-8f0d-cbe8f78d1c39"
  },
  "anaconda-cloud": {},
  "celltoolbar": "Slideshow",
  "kernelspec": {
   "display_name": "Julia 1.1.0",
   "language": "julia",
   "name": "julia-1.1"
  },
  "language_info": {
   "file_extension": ".jl",
   "mimetype": "application/julia",
   "name": "julia",
   "version": "1.1.0"
  },
  "nbpresent": {
   "slides": {
    "0184d025-1384-429a-b70a-f94f2ac478fe": {
     "id": "0184d025-1384-429a-b70a-f94f2ac478fe",
     "prev": "e7e7616d-3bb9-456e-8c0b-a5006039947a",
     "regions": {
      "63d94883-b8e7-438e-ae89-829cb4e36edc": {
       "attrs": {
        "height": 0.8,
        "width": 0.8,
        "x": 0.1,
        "y": 0.1
       },
       "content": {
        "cell": "a22698ad-0329-4c4b-ac68-bfb9d4ff5463",
        "part": "whole"
       },
       "id": "63d94883-b8e7-438e-ae89-829cb4e36edc"
      }
     }
    },
    "01a44cee-0218-4c32-9f64-4d0eac20596c": {
     "id": "01a44cee-0218-4c32-9f64-4d0eac20596c",
     "prev": "358b686c-6946-48a9-a7f5-de76c7b19c82",
     "regions": {
      "4d2af356-a78f-47f3-8785-ce060f69eab6": {
       "attrs": {
        "height": 0.8,
        "width": 0.8,
        "x": 0.1,
        "y": 0.1
       },
       "content": {
        "cell": "23dbb4d3-d34c-4c21-8866-8f4c074660af",
        "part": "whole"
       },
       "id": "4d2af356-a78f-47f3-8785-ce060f69eab6"
      }
     }
    },
    "0457aed7-3521-4f56-8aec-c528cfcfccda": {
     "id": "0457aed7-3521-4f56-8aec-c528cfcfccda",
     "prev": "58c3233f-0675-48b4-822d-4a2346bb9660",
     "regions": {
      "69f6e41c-89bc-4a71-9473-8add9264f537": {
       "attrs": {
        "height": 0.8,
        "width": 0.8,
        "x": 0.1,
        "y": 0.1
       },
       "content": {
        "cell": "ea344890-ba84-468c-895e-d0fd28b9890f",
        "part": "whole"
       },
       "id": "69f6e41c-89bc-4a71-9473-8add9264f537"
      }
     }
    },
    "05fb7217-6725-4889-ba62-d61de0b451d0": {
     "id": "05fb7217-6725-4889-ba62-d61de0b451d0",
     "prev": "7e8a5807-982b-4477-8df3-f980d9833b71",
     "regions": {
      "80f0a7dc-3a25-4593-955e-af1c6d96a743": {
       "attrs": {
        "height": 0.8,
        "width": 0.8,
        "x": 0.1,
        "y": 0.1
       },
       "content": {
        "cell": "95506e80-0405-45e5-b52b-f59ab5f76e2d",
        "part": "whole"
       },
       "id": "80f0a7dc-3a25-4593-955e-af1c6d96a743"
      }
     }
    },
    "0c918af2-ca55-4039-8ca6-acf4b2d74bc3": {
     "id": "0c918af2-ca55-4039-8ca6-acf4b2d74bc3",
     "prev": "b3455ab9-b5da-4b4f-be59-829158a1e7f8",
     "regions": {
      "75f30432-d612-4155-9661-368d43203a5c": {
       "attrs": {
        "height": 0.8,
        "width": 0.8,
        "x": 0.1,
        "y": 0.1
       },
       "content": {
        "cell": "d6ae95d7-0195-4efb-b01f-e69cadfe0c81",
        "part": "whole"
       },
       "id": "75f30432-d612-4155-9661-368d43203a5c"
      }
     }
    },
    "0daa11e0-e1e6-4ee5-a39f-820fc8952389": {
     "id": "0daa11e0-e1e6-4ee5-a39f-820fc8952389",
     "prev": "265b040e-21c5-4f6a-881e-efb51a6b2178",
     "regions": {
      "cde89b25-cb56-444c-846d-841dfbfea555": {
       "attrs": {
        "height": 0.8,
        "width": 0.8,
        "x": 0.1,
        "y": 0.1
       },
       "content": {
        "cell": "e69886f9-0e0b-4433-adfd-1cb0e0320ef3",
        "part": "whole"
       },
       "id": "cde89b25-cb56-444c-846d-841dfbfea555"
      }
     }
    },
    "10165560-9b66-4e8f-87f4-912f1473e9b9": {
     "id": "10165560-9b66-4e8f-87f4-912f1473e9b9",
     "prev": "9967c9ff-c114-4cb3-b5af-58ff6026caae",
     "regions": {
      "beff4832-16c6-417f-8674-2d610ade5032": {
       "attrs": {
        "height": 0.8,
        "width": 0.8,
        "x": 0.1,
        "y": 0.1
       },
       "content": {
        "cell": "f3624f25-7bd2-40d1-a92f-d130ccc467a6",
        "part": "whole"
       },
       "id": "beff4832-16c6-417f-8674-2d610ade5032"
      }
     }
    },
    "14a51173-dd44-485d-b7bd-58ec0f74a7a4": {
     "id": "14a51173-dd44-485d-b7bd-58ec0f74a7a4",
     "prev": "4f2df6b3-3c1f-4aae-8fbc-80cad14e3717",
     "regions": {
      "9799dd3c-48d0-45a2-94d7-dd261b1415c6": {
       "attrs": {
        "height": 0.8,
        "width": 0.8,
        "x": 0.1,
        "y": 0.1
       },
       "content": {
        "cell": "2675f938-1808-4b88-a7ca-ceca77a6386c",
        "part": "whole"
       },
       "id": "9799dd3c-48d0-45a2-94d7-dd261b1415c6"
      }
     }
    },
    "1574be27-9819-4786-8c8d-fcf6d6ed0c71": {
     "id": "1574be27-9819-4786-8c8d-fcf6d6ed0c71",
     "prev": "7c7cd354-ac3a-4528-9a55-cc635273b4c4",
     "regions": {
      "e7210187-6a90-42b7-974a-e7bb5bf62cf1": {
       "attrs": {
        "height": 0.8,
        "width": 0.8,
        "x": 0.1,
        "y": 0.1
       },
       "content": {
        "cell": "7420fa3e-b20b-436d-863b-5281501f3d6f",
        "part": "whole"
       },
       "id": "e7210187-6a90-42b7-974a-e7bb5bf62cf1"
      }
     }
    },
    "17073b36-3de3-4db8-94ad-8d5d898e55ec": {
     "id": "17073b36-3de3-4db8-94ad-8d5d898e55ec",
     "prev": "8a20ed3e-9f99-4978-912f-0704fc52baa9",
     "regions": {
      "82ff934c-686c-46eb-abbb-6992a47d0b7e": {
       "attrs": {
        "height": 0.8,
        "width": 0.8,
        "x": 0.1,
        "y": 0.1
       },
       "content": {
        "cell": "a49c5342-dbf3-49c2-854a-dd2a0d7e3a90",
        "part": "whole"
       },
       "id": "82ff934c-686c-46eb-abbb-6992a47d0b7e"
      }
     }
    },
    "265b040e-21c5-4f6a-881e-efb51a6b2178": {
     "id": "265b040e-21c5-4f6a-881e-efb51a6b2178",
     "prev": "ae2691d9-55ce-48c4-8bf1-f1dcf0b27bce",
     "regions": {
      "6e6103ee-d829-4310-99e2-74653280e73c": {
       "attrs": {
        "height": 0.8,
        "width": 0.8,
        "x": 0.1,
        "y": 0.1
       },
       "content": {
        "cell": "7bf286cb-7002-4baf-b492-3595aaadf083",
        "part": "whole"
       },
       "id": "6e6103ee-d829-4310-99e2-74653280e73c"
      }
     }
    },
    "26c61762-1703-4205-95d9-ae2de65cfb67": {
     "id": "26c61762-1703-4205-95d9-ae2de65cfb67",
     "prev": "fc29dd40-65f6-4a73-a856-5b22857e897a",
     "regions": {
      "77039d95-a62d-422a-a738-dcd1761dd03c": {
       "attrs": {
        "height": 0.8,
        "width": 0.8,
        "x": 0.1,
        "y": 0.1
       },
       "content": {
        "cell": "2a54d9b6-4757-482b-9e00-e31c056cf849",
        "part": "whole"
       },
       "id": "77039d95-a62d-422a-a738-dcd1761dd03c"
      }
     }
    },
    "2a9b76cf-4bcb-4c1d-95c5-98b5bba7c06a": {
     "id": "2a9b76cf-4bcb-4c1d-95c5-98b5bba7c06a",
     "prev": "10165560-9b66-4e8f-87f4-912f1473e9b9",
     "regions": {
      "8ef14517-652c-4d13-a64d-e8c055cdf48d": {
       "attrs": {
        "height": 0.8,
        "width": 0.8,
        "x": 0.1,
        "y": 0.1
       },
       "content": {
        "cell": "8e25320e-b326-4106-8ae2-8bc173fa630d",
        "part": "whole"
       },
       "id": "8ef14517-652c-4d13-a64d-e8c055cdf48d"
      }
     }
    },
    "34aa4cec-d0cd-4e70-8239-73309960857c": {
     "id": "34aa4cec-d0cd-4e70-8239-73309960857c",
     "prev": "0457aed7-3521-4f56-8aec-c528cfcfccda",
     "regions": {
      "b7e19bc0-a504-4297-9f4a-fa79a4f5201c": {
       "attrs": {
        "height": 0.8,
        "width": 0.8,
        "x": 0.1,
        "y": 0.1
       },
       "content": {
        "cell": "0f995e49-f9dc-4211-ae91-71fee000cb27",
        "part": "whole"
       },
       "id": "b7e19bc0-a504-4297-9f4a-fa79a4f5201c"
      }
     }
    },
    "358b686c-6946-48a9-a7f5-de76c7b19c82": {
     "id": "358b686c-6946-48a9-a7f5-de76c7b19c82",
     "prev": "0daa11e0-e1e6-4ee5-a39f-820fc8952389",
     "regions": {
      "3208f9bd-da59-4bb0-a7b8-69e01eb2f0e9": {
       "attrs": {
        "height": 0.8,
        "width": 0.8,
        "x": 0.1,
        "y": 0.1
       },
       "content": {
        "cell": "78c84a84-a7cd-4e73-b0fb-932b6daa541b",
        "part": "whole"
       },
       "id": "3208f9bd-da59-4bb0-a7b8-69e01eb2f0e9"
      }
     }
    },
    "3863485a-e818-4f02-9ddf-b3d307fdffeb": {
     "id": "3863485a-e818-4f02-9ddf-b3d307fdffeb",
     "prev": "b968b8d1-e2f1-45ab-a783-ea1c6bd1de87",
     "regions": {
      "eab1ee44-32c6-4ad2-a5cc-b465557b850d": {
       "attrs": {
        "height": 0.8,
        "width": 0.8,
        "x": 0.1,
        "y": 0.1
       },
       "content": {
        "cell": "53a7d044-11ec-493f-a774-55e31a821181",
        "part": "whole"
       },
       "id": "eab1ee44-32c6-4ad2-a5cc-b465557b850d"
      }
     }
    },
    "39e415bc-dc48-4e61-8f5c-e94413afbb05": {
     "id": "39e415bc-dc48-4e61-8f5c-e94413afbb05",
     "prev": "72a470f4-7a8f-4a12-afbc-63b7ea726022",
     "regions": {
      "49c6e55a-e4de-464d-a60b-e2292243f7e0": {
       "attrs": {
        "height": 1,
        "width": 1,
        "x": 0,
        "y": 0
       },
       "id": "49c6e55a-e4de-464d-a60b-e2292243f7e0"
      }
     }
    },
    "421afb18-4a72-44cc-9e7c-eee4a1a79522": {
     "id": "421afb18-4a72-44cc-9e7c-eee4a1a79522",
     "prev": "e70c2bf0-572f-4460-86e0-89663cc9d227",
     "regions": {
      "60ad3d4e-8d68-4fec-a4c3-84a88ef2de08": {
       "attrs": {
        "height": 0.8,
        "width": 0.8,
        "x": 0.1,
        "y": 0.1
       },
       "content": {
        "cell": "03483329-37ef-4257-93b2-31b5ad895827",
        "part": "whole"
       },
       "id": "60ad3d4e-8d68-4fec-a4c3-84a88ef2de08"
      }
     }
    },
    "46d33742-9942-479e-81d6-60b7e58f0ef4": {
     "id": "46d33742-9942-479e-81d6-60b7e58f0ef4",
     "prev": "b552927d-6640-40a6-8b86-aaf808d8324c",
     "regions": {
      "dd58989c-da8c-4ca3-af7a-4323efc55946": {
       "attrs": {
        "height": 0.8,
        "width": 0.8,
        "x": 0.1,
        "y": 0.1
       },
       "content": {
        "cell": "28f4fc3e-00b0-45fa-9423-5fb07042e524",
        "part": "source"
       },
       "id": "dd58989c-da8c-4ca3-af7a-4323efc55946"
      }
     }
    },
    "4aaca4e7-0a19-4be9-ae10-4f8c025bb19c": {
     "id": "4aaca4e7-0a19-4be9-ae10-4f8c025bb19c",
     "prev": "c185f0a9-0f12-4bdb-80b8-080297d5103a",
     "regions": {
      "ec8cf162-3cdf-4a5b-a1ec-3086ba1415c5": {
       "attrs": {
        "height": 0.8,
        "width": 0.8,
        "x": 0.1,
        "y": 0.1
       },
       "content": {
        "cell": "115a8071-fef8-4100-a9e3-6ac699c0ccc1",
        "part": "whole"
       },
       "id": "ec8cf162-3cdf-4a5b-a1ec-3086ba1415c5"
      }
     }
    },
    "4ad32d78-93fb-48b6-a1dd-19648968e402": {
     "id": "4ad32d78-93fb-48b6-a1dd-19648968e402",
     "prev": "f37b2c86-9030-46db-84ec-c7d5b1efd8e9",
     "regions": {
      "45b7b4eb-feeb-4ef5-b489-68f0e2e2743b": {
       "attrs": {
        "height": 0.8,
        "width": 0.8,
        "x": 0.1,
        "y": 0.1
       },
       "content": {
        "cell": "5a372df1-0578-4c15-b50e-d15cdd8ce86a",
        "part": "whole"
       },
       "id": "45b7b4eb-feeb-4ef5-b489-68f0e2e2743b"
      }
     }
    },
    "4ce0b7ac-30de-4ba7-ba84-3a3571cd7459": {
     "id": "4ce0b7ac-30de-4ba7-ba84-3a3571cd7459",
     "layout": "manual",
     "prev": "c36c88ed-e016-4418-ba5e-9759493f603d",
     "regions": {
      "018e28f2-ce80-46e2-ba87-5658374d3af3": {
       "attrs": {
        "height": 0.8,
        "width": 0.8,
        "x": 0.1,
        "y": 0.1
       },
       "id": "018e28f2-ce80-46e2-ba87-5658374d3af3"
      }
     }
    },
    "4f2df6b3-3c1f-4aae-8fbc-80cad14e3717": {
     "id": "4f2df6b3-3c1f-4aae-8fbc-80cad14e3717",
     "prev": "8621831b-fe4e-41d1-93b4-f14cbec82d13",
     "regions": {
      "daf51a06-4d43-4cf3-802d-d92cfad25a13": {
       "attrs": {
        "height": 0.8,
        "width": 0.8,
        "x": 0.1,
        "y": 0.1
       },
       "content": {
        "cell": "e04ddcb3-6c58-4afc-bec1-fef821c36412",
        "part": "whole"
       },
       "id": "daf51a06-4d43-4cf3-802d-d92cfad25a13"
      }
     }
    },
    "58c3233f-0675-48b4-822d-4a2346bb9660": {
     "id": "58c3233f-0675-48b4-822d-4a2346bb9660",
     "prev": "26c61762-1703-4205-95d9-ae2de65cfb67",
     "regions": {
      "5c215909-d4e2-41f0-ab5b-955ad1ed21c4": {
       "attrs": {
        "height": 0.8,
        "width": 0.8,
        "x": 0.1,
        "y": 0.1
       },
       "content": {
        "cell": "de425e26-21b5-4fab-91d5-49381aff4c40",
        "part": "whole"
       },
       "id": "5c215909-d4e2-41f0-ab5b-955ad1ed21c4"
      }
     }
    },
    "5fa79401-806e-4c9f-accf-1d6a791fa600": {
     "id": "5fa79401-806e-4c9f-accf-1d6a791fa600",
     "prev": "4ad32d78-93fb-48b6-a1dd-19648968e402",
     "regions": {
      "8fceb85e-afa4-4221-a84f-708d0a610b78": {
       "attrs": {
        "height": 0.8,
        "width": 0.8,
        "x": 0.1,
        "y": 0.1
       },
       "content": {
        "cell": "b768af26-c293-452d-8011-9f8da5962050",
        "part": "whole"
       },
       "id": "8fceb85e-afa4-4221-a84f-708d0a610b78"
      }
     }
    },
    "62cb52f4-48b2-400a-8cb7-127e6fd4fc77": {
     "id": "62cb52f4-48b2-400a-8cb7-127e6fd4fc77",
     "prev": "b22dccf5-6c74-4c01-9199-6f0a1d485070",
     "regions": {
      "2ffe4bdd-956f-4df6-8c1c-aff6725de1d0": {
       "attrs": {
        "height": 0.8,
        "width": 0.8,
        "x": 0.1,
        "y": 0.1
       },
       "content": {
        "cell": "ec576c95-02a0-444c-9c2d-93cde70cbe60",
        "part": "whole"
       },
       "id": "2ffe4bdd-956f-4df6-8c1c-aff6725de1d0"
      }
     }
    },
    "6799c8e2-5169-44e9-b93c-753d9442061c": {
     "id": "6799c8e2-5169-44e9-b93c-753d9442061c",
     "prev": "6b73efd1-874f-4ce7-8d91-902e1d11e172",
     "regions": {
      "6d13a707-1ed9-4b32-a7a8-ceb2d23a488b": {
       "attrs": {
        "height": 0.8,
        "width": 0.8,
        "x": 0.1,
        "y": 0.1
       },
       "content": {
        "cell": "8a3696db-c51d-4bbc-8216-2a380de2ad8a",
        "part": "whole"
       },
       "id": "6d13a707-1ed9-4b32-a7a8-ceb2d23a488b"
      }
     }
    },
    "688ab6c6-60d3-4374-b2b3-05a79becb240": {
     "id": "688ab6c6-60d3-4374-b2b3-05a79becb240",
     "prev": "3863485a-e818-4f02-9ddf-b3d307fdffeb",
     "regions": {
      "67a5ea27-cbd5-43c9-969c-3b1045c642f9": {
       "attrs": {
        "height": 0.8,
        "width": 0.8,
        "x": 0.1,
        "y": 0.1
       },
       "content": {
        "cell": "5fc3ce07-688b-4556-9c2c-5a26ed1b23fc",
        "part": "whole"
       },
       "id": "67a5ea27-cbd5-43c9-969c-3b1045c642f9"
      }
     }
    },
    "6b73efd1-874f-4ce7-8d91-902e1d11e172": {
     "id": "6b73efd1-874f-4ce7-8d91-902e1d11e172",
     "prev": "b4e943fd-ce83-4044-8a01-36295221709a",
     "regions": {
      "da616e0a-a8e1-4ce7-87d5-31abee319278": {
       "attrs": {
        "height": 0.8,
        "width": 0.8,
        "x": 0.1,
        "y": 0.1
       },
       "content": {
        "cell": "05febce4-896d-4af7-a331-4c68a60e31d6",
        "part": "whole"
       },
       "id": "da616e0a-a8e1-4ce7-87d5-31abee319278"
      }
     }
    },
    "70edeafb-e662-4526-87d9-e462f31b823b": {
     "id": "70edeafb-e662-4526-87d9-e462f31b823b",
     "prev": "1574be27-9819-4786-8c8d-fcf6d6ed0c71",
     "regions": {
      "62b3f8da-ad4a-414c-8295-27f69cc04d88": {
       "attrs": {
        "height": 0.8,
        "width": 0.8,
        "x": 0.1,
        "y": 0.1
       },
       "content": {
        "cell": "1c577840-33e2-4b4e-9091-78b604114c61",
        "part": "whole"
       },
       "id": "62b3f8da-ad4a-414c-8295-27f69cc04d88"
      }
     }
    },
    "71a8f7ee-005c-4adf-83c4-3d9c6a43a42d": {
     "id": "71a8f7ee-005c-4adf-83c4-3d9c6a43a42d",
     "prev": "b64e5941-2540-4240-8827-5984442b83ef",
     "regions": {
      "b8561555-0979-49e9-8a37-cb36257dc44d": {
       "attrs": {
        "height": 0.8,
        "width": 0.8,
        "x": 0.1,
        "y": 0.1
       },
       "content": {
        "cell": "862ec794-fd27-4ffd-acac-95acb3ebc058",
        "part": "whole"
       },
       "id": "b8561555-0979-49e9-8a37-cb36257dc44d"
      }
     }
    },
    "7276af48-a856-4f9d-8154-2e72712e68e7": {
     "id": "7276af48-a856-4f9d-8154-2e72712e68e7",
     "prev": "71a8f7ee-005c-4adf-83c4-3d9c6a43a42d",
     "regions": {
      "fc6f33cb-03d0-4db7-97fc-e493d6c42882": {
       "attrs": {
        "height": 0.8,
        "width": 0.8,
        "x": 0.1,
        "y": 0.1
       },
       "content": {
        "cell": "28f4fc3e-00b0-45fa-9423-5fb07042e524",
        "part": "whole"
       },
       "id": "fc6f33cb-03d0-4db7-97fc-e493d6c42882"
      }
     }
    },
    "72a470f4-7a8f-4a12-afbc-63b7ea726022": {
     "id": "72a470f4-7a8f-4a12-afbc-63b7ea726022",
     "layout": "grid",
     "prev": "d6e5dc1c-4f4b-488c-ade1-415bf14a6a5b",
     "regions": {
      "4ac7f33e-0066-439a-91fc-f2da8aebf423": {
       "attrs": {
        "height": 0.6666666666666666,
        "pad": 0.01,
        "treemap:weight": 1,
        "width": 0.5,
        "x": 0,
        "y": 0
       },
       "id": "4ac7f33e-0066-439a-91fc-f2da8aebf423"
      },
      "ea002b11-250b-4486-819a-56352d210e94": {
       "attrs": {
        "height": 0.3333333333333333,
        "pad": 0.01,
        "treemap:weight": 1,
        "width": 1,
        "x": 0,
        "y": 0.6666666666666666
       },
       "content": {
        "cell": "6b5e15ff-d797-48fc-8633-127e07c88700",
        "part": "whole"
       },
       "id": "ea002b11-250b-4486-819a-56352d210e94"
      },
      "f216a551-a17d-4036-a7b3-d82466d64b72": {
       "attrs": {
        "height": 0.6666666666666666,
        "pad": 0.01,
        "treemap:weight": 1,
        "width": 0.5,
        "x": 0.5,
        "y": 0
       },
       "id": "f216a551-a17d-4036-a7b3-d82466d64b72"
      }
     }
    },
    "7be0052a-bf5b-4aec-b3f5-eb2eac87c9a4": {
     "id": "7be0052a-bf5b-4aec-b3f5-eb2eac87c9a4",
     "prev": "7276af48-a856-4f9d-8154-2e72712e68e7",
     "regions": {
      "df712425-f3ef-44c9-a2b0-668f8b8179f3": {
       "attrs": {
        "height": 0.8,
        "width": 0.8,
        "x": 0.1,
        "y": 0.1
       },
       "content": {
        "cell": "b066d2fc-bbc7-422d-b194-9bec2c2fe365",
        "part": "whole"
       },
       "id": "df712425-f3ef-44c9-a2b0-668f8b8179f3"
      }
     }
    },
    "7c7cd354-ac3a-4528-9a55-cc635273b4c4": {
     "id": "7c7cd354-ac3a-4528-9a55-cc635273b4c4",
     "prev": "2a9b76cf-4bcb-4c1d-95c5-98b5bba7c06a",
     "regions": {
      "5fb95a4f-b6f9-4fb6-9ca4-266a41a0a5fd": {
       "attrs": {
        "height": 0.8,
        "width": 0.8,
        "x": 0.1,
        "y": 0.1
       },
       "content": {
        "cell": "fb966b0b-7d3b-4b3c-91f1-ac7bb26e2f98",
        "part": "whole"
       },
       "id": "5fb95a4f-b6f9-4fb6-9ca4-266a41a0a5fd"
      }
     }
    },
    "7ca6c3b2-b480-4ba5-b5e2-85d791cdb5e6": {
     "id": "7ca6c3b2-b480-4ba5-b5e2-85d791cdb5e6",
     "prev": "05fb7217-6725-4889-ba62-d61de0b451d0",
     "regions": {
      "3a36d351-226f-4a2d-9856-05a9d743e19d": {
       "attrs": {
        "height": 0.8,
        "width": 0.8,
        "x": 0.1,
        "y": 0.1
       },
       "content": {
        "cell": "cbe19561-25eb-4786-8aeb-36d8810d3c65",
        "part": "whole"
       },
       "id": "3a36d351-226f-4a2d-9856-05a9d743e19d"
      }
     }
    },
    "7e8a5807-982b-4477-8df3-f980d9833b71": {
     "id": "7e8a5807-982b-4477-8df3-f980d9833b71",
     "prev": "cdbb6cd2-0c90-4c4a-9fe8-867d0c86d211",
     "regions": {
      "db03223f-391c-412a-be04-92f385be7e1e": {
       "attrs": {
        "height": 0.8,
        "width": 0.8,
        "x": 0.1,
        "y": 0.1
       },
       "content": {
        "cell": "9a4137c9-18ef-4f82-95b5-51c23417648c",
        "part": "whole"
       },
       "id": "db03223f-391c-412a-be04-92f385be7e1e"
      }
     }
    },
    "7ee800c4-a395-4724-93ea-f5bbe25ee1c2": {
     "id": "7ee800c4-a395-4724-93ea-f5bbe25ee1c2",
     "prev": "7ca6c3b2-b480-4ba5-b5e2-85d791cdb5e6",
     "regions": {
      "b2410b36-111d-4355-a497-21a05827c24e": {
       "attrs": {
        "height": 0.8,
        "width": 0.8,
        "x": 0.1,
        "y": 0.1
       },
       "content": {
        "cell": "61720fab-88bc-425f-a091-6a2173abf22d",
        "part": "whole"
       },
       "id": "b2410b36-111d-4355-a497-21a05827c24e"
      }
     }
    },
    "8621831b-fe4e-41d1-93b4-f14cbec82d13": {
     "id": "8621831b-fe4e-41d1-93b4-f14cbec82d13",
     "prev": "70edeafb-e662-4526-87d9-e462f31b823b",
     "regions": {
      "dd44c912-01d1-41cd-91f0-7f7c4734308e": {
       "attrs": {
        "height": 0.8,
        "width": 0.8,
        "x": 0.1,
        "y": 0.1
       },
       "content": {
        "cell": "fd9e74a9-bd81-46f2-bfcb-f990cd45cc9a",
        "part": "whole"
       },
       "id": "dd44c912-01d1-41cd-91f0-7f7c4734308e"
      }
     }
    },
    "8a20ed3e-9f99-4978-912f-0704fc52baa9": {
     "id": "8a20ed3e-9f99-4978-912f-0704fc52baa9",
     "prev": "d53ae342-378a-49fa-8aaf-82f13a95253a",
     "regions": {
      "01ffb413-25af-4527-bffb-dc055baafe10": {
       "attrs": {
        "height": 0.8,
        "width": 0.8,
        "x": 0.1,
        "y": 0.1
       },
       "content": {
        "cell": "79719532-17c7-46c6-b536-c1a83187ba03",
        "part": "whole"
       },
       "id": "01ffb413-25af-4527-bffb-dc055baafe10"
      }
     }
    },
    "8c1fa249-ae7a-4ea9-bda7-9c21eab8292d": {
     "id": "8c1fa249-ae7a-4ea9-bda7-9c21eab8292d",
     "prev": "e57091a6-3dbe-44c9-96d5-7acfa77a3962",
     "regions": {
      "7a7a5d36-e142-424d-ace5-358bb5957618": {
       "attrs": {
        "height": 0.8,
        "width": 0.8,
        "x": 0.1,
        "y": 0.1
       },
       "content": {
        "cell": "1d54665b-222f-4261-8f0e-43f18b473361",
        "part": "whole"
       },
       "id": "7a7a5d36-e142-424d-ace5-358bb5957618"
      }
     }
    },
    "98158f56-8333-458a-801b-d20eaf0cdc3a": {
     "id": "98158f56-8333-458a-801b-d20eaf0cdc3a",
     "prev": null,
     "regions": {}
    },
    "9967c9ff-c114-4cb3-b5af-58ff6026caae": {
     "id": "9967c9ff-c114-4cb3-b5af-58ff6026caae",
     "prev": "4ce0b7ac-30de-4ba7-ba84-3a3571cd7459",
     "regions": {
      "0bee0d8b-62cf-4e0f-bcea-b3f5bdb0dd4e": {
       "attrs": {
        "height": 0.8,
        "width": 0.8,
        "x": 0.1,
        "y": 0.1
       },
       "content": {
        "cell": "19655bc8-7ea5-45ae-88de-ebc37a26bcca",
        "part": "whole"
       },
       "id": "0bee0d8b-62cf-4e0f-bcea-b3f5bdb0dd4e"
      }
     }
    },
    "a385fe27-f822-40bc-8622-293e230218c5": {
     "id": "a385fe27-f822-40bc-8622-293e230218c5",
     "prev": "14a51173-dd44-485d-b7bd-58ec0f74a7a4",
     "regions": {
      "a931e9fc-8910-478c-9c32-47464b295039": {
       "attrs": {
        "height": 0.8,
        "width": 0.8,
        "x": 0.1,
        "y": 0.1
       },
       "content": {
        "cell": "9f20dffe-a5bc-40aa-826c-ed127dc27773",
        "part": "whole"
       },
       "id": "a931e9fc-8910-478c-9c32-47464b295039"
      }
     }
    },
    "ae2691d9-55ce-48c4-8bf1-f1dcf0b27bce": {
     "id": "ae2691d9-55ce-48c4-8bf1-f1dcf0b27bce",
     "prev": "a385fe27-f822-40bc-8622-293e230218c5",
     "regions": {
      "ffdd7390-75d5-4a11-9912-8b04e2c686da": {
       "attrs": {
        "height": 0.8,
        "width": 0.8,
        "x": 0.1,
        "y": 0.1
       },
       "content": {
        "cell": "17afc5ee-6049-4f86-a40b-34cb4808d5b3",
        "part": "whole"
       },
       "id": "ffdd7390-75d5-4a11-9912-8b04e2c686da"
      }
     }
    },
    "ae3a2e9a-61f3-409f-9248-436fa8b0f8e7": {
     "id": "ae3a2e9a-61f3-409f-9248-436fa8b0f8e7",
     "prev": "f5929481-b8f6-4c74-a865-b04f901f7e69",
     "regions": {
      "d40ba0dc-6497-4411-bc00-4fad420180f2": {
       "attrs": {
        "height": 0.8,
        "width": 0.8,
        "x": 0.1,
        "y": 0.1
       },
       "content": {
        "cell": "4c2f5def-67a9-4b03-98d0-c8925b8ecb9a",
        "part": "whole"
       },
       "id": "d40ba0dc-6497-4411-bc00-4fad420180f2"
      }
     }
    },
    "b22dccf5-6c74-4c01-9199-6f0a1d485070": {
     "id": "b22dccf5-6c74-4c01-9199-6f0a1d485070",
     "prev": "688ab6c6-60d3-4374-b2b3-05a79becb240",
     "regions": {
      "40dc8bea-2c1a-4f68-82bd-89180c60286e": {
       "attrs": {
        "height": 0.8,
        "width": 0.8,
        "x": 0.1,
        "y": 0.1
       },
       "content": {
        "cell": "c5dca432-fc9f-498b-93ac-66f5349b61ba",
        "part": "whole"
       },
       "id": "40dc8bea-2c1a-4f68-82bd-89180c60286e"
      }
     }
    },
    "b3455ab9-b5da-4b4f-be59-829158a1e7f8": {
     "id": "b3455ab9-b5da-4b4f-be59-829158a1e7f8",
     "prev": "7ee800c4-a395-4724-93ea-f5bbe25ee1c2",
     "regions": {
      "cfc504f2-5ce9-4566-9c25-543b3f134421": {
       "attrs": {
        "height": 0.8,
        "width": 0.8,
        "x": 0.1,
        "y": 0.1
       },
       "content": {
        "cell": "6310c4de-e3d1-49d6-89e2-fb0d73e8b0e8",
        "part": "whole"
       },
       "id": "cfc504f2-5ce9-4566-9c25-543b3f134421"
      }
     }
    },
    "b4e943fd-ce83-4044-8a01-36295221709a": {
     "id": "b4e943fd-ce83-4044-8a01-36295221709a",
     "prev": "39e415bc-dc48-4e61-8f5c-e94413afbb05",
     "regions": {
      "59e989d7-4451-4abd-946e-cf05e1291c42": {
       "attrs": {
        "height": 0.8,
        "width": 0.8,
        "x": 0.1,
        "y": 0.1
       },
       "content": {
        "cell": "bd9a5ac9-a713-41d7-9e48-859953b50f28",
        "part": "whole"
       },
       "id": "59e989d7-4451-4abd-946e-cf05e1291c42"
      }
     }
    },
    "b552927d-6640-40a6-8b86-aaf808d8324c": {
     "id": "b552927d-6640-40a6-8b86-aaf808d8324c",
     "prev": "17073b36-3de3-4db8-94ad-8d5d898e55ec",
     "regions": {
      "69664871-6e53-4a7e-ad05-738fd269960e": {
       "attrs": {
        "height": 0.8,
        "width": 0.8,
        "x": 0.1,
        "y": 0.1
       },
       "content": {
        "cell": "fffddd02-1500-493c-aa01-cbed36711999",
        "part": "source"
       },
       "id": "69664871-6e53-4a7e-ad05-738fd269960e"
      }
     }
    },
    "b64e5941-2540-4240-8827-5984442b83ef": {
     "id": "b64e5941-2540-4240-8827-5984442b83ef",
     "prev": "98158f56-8333-458a-801b-d20eaf0cdc3a",
     "regions": {
      "f0e68525-5714-48d9-8155-a2c35b941af5": {
       "attrs": {
        "height": 0.8,
        "width": 0.8,
        "x": 0.1,
        "y": 0.1
       },
       "content": {
        "cell": "fffddd02-1500-493c-aa01-cbed36711999",
        "part": "whole"
       },
       "id": "f0e68525-5714-48d9-8155-a2c35b941af5"
      }
     }
    },
    "b968b8d1-e2f1-45ab-a783-ea1c6bd1de87": {
     "id": "b968b8d1-e2f1-45ab-a783-ea1c6bd1de87",
     "prev": "5fa79401-806e-4c9f-accf-1d6a791fa600",
     "regions": {
      "81e149ad-d8ae-4c54-afe7-6bc54c0d7500": {
       "attrs": {
        "height": 0.8,
        "width": 0.8,
        "x": 0.1,
        "y": 0.1
       },
       "content": {
        "cell": "09950b3f-1098-4346-b9e1-802bd4fc1eeb",
        "part": "whole"
       },
       "id": "81e149ad-d8ae-4c54-afe7-6bc54c0d7500"
      }
     }
    },
    "c185f0a9-0f12-4bdb-80b8-080297d5103a": {
     "id": "c185f0a9-0f12-4bdb-80b8-080297d5103a",
     "prev": "01a44cee-0218-4c32-9f64-4d0eac20596c",
     "regions": {
      "d415f3df-100f-4549-b868-8debad92018f": {
       "attrs": {
        "height": 0.8,
        "width": 0.8,
        "x": 0.1,
        "y": 0.1
       },
       "content": {
        "cell": "862ec794-fd27-4ffd-acac-95acb3ebc058",
        "part": "source"
       },
       "id": "d415f3df-100f-4549-b868-8debad92018f"
      }
     }
    },
    "c36c88ed-e016-4418-ba5e-9759493f603d": {
     "id": "c36c88ed-e016-4418-ba5e-9759493f603d",
     "prev": "62cb52f4-48b2-400a-8cb7-127e6fd4fc77",
     "regions": {
      "b9790d8a-5f97-4f86-b611-eef7ab81ae2c": {
       "attrs": {
        "height": 0.8,
        "width": 0.8,
        "x": 0.1,
        "y": 0.1
       },
       "content": {
        "cell": "8b06c3ee-b889-4cd7-923f-49fc4dadd763",
        "part": "whole"
       },
       "id": "b9790d8a-5f97-4f86-b611-eef7ab81ae2c"
      }
     }
    },
    "cdbb6cd2-0c90-4c4a-9fe8-867d0c86d211": {
     "id": "cdbb6cd2-0c90-4c4a-9fe8-867d0c86d211",
     "prev": "6799c8e2-5169-44e9-b93c-753d9442061c",
     "regions": {
      "d17169c9-5810-4d81-97c0-ec48e47d800d": {
       "attrs": {
        "height": 0.8,
        "width": 0.8,
        "x": 0.1,
        "y": 0.1
       },
       "content": {
        "cell": "d1f42c7d-b661-4989-9064-5557b44a0751",
        "part": "whole"
       },
       "id": "d17169c9-5810-4d81-97c0-ec48e47d800d"
      }
     }
    },
    "d53ae342-378a-49fa-8aaf-82f13a95253a": {
     "id": "d53ae342-378a-49fa-8aaf-82f13a95253a",
     "prev": "34aa4cec-d0cd-4e70-8239-73309960857c",
     "regions": {
      "659df49b-0ba5-4165-8e38-4d8f95157373": {
       "attrs": {
        "height": 0.8,
        "width": 0.8,
        "x": 0.1,
        "y": 0.1
       },
       "content": {
        "cell": "190bdd82-281f-4049-82ab-80ce9b6dfbf5",
        "part": "whole"
       },
       "id": "659df49b-0ba5-4165-8e38-4d8f95157373"
      }
     }
    },
    "d6e5dc1c-4f4b-488c-ade1-415bf14a6a5b": {
     "id": "d6e5dc1c-4f4b-488c-ade1-415bf14a6a5b",
     "prev": "f7875718-0a89-4f30-8fbf-0e5042e9bca9",
     "regions": {
      "71acbc8c-f47d-4398-b6b1-bd64f348d9b2": {
       "attrs": {
        "height": 0.8,
        "width": 0.8,
        "x": 0.1,
        "y": 0.1
       },
       "content": {
        "cell": "102a8976-eb56-4c13-9eef-9ff713c17608",
        "part": "whole"
       },
       "id": "71acbc8c-f47d-4398-b6b1-bd64f348d9b2"
      }
     }
    },
    "e57091a6-3dbe-44c9-96d5-7acfa77a3962": {
     "id": "e57091a6-3dbe-44c9-96d5-7acfa77a3962",
     "prev": "0c918af2-ca55-4039-8ca6-acf4b2d74bc3",
     "regions": {
      "80844f78-e34c-423c-81a2-d3cce836b6a5": {
       "attrs": {
        "height": 0.8,
        "width": 0.8,
        "x": 0.1,
        "y": 0.1
       },
       "content": {
        "cell": "016c770e-c8ed-4a2a-bc23-2f64f2321f41",
        "part": "whole"
       },
       "id": "80844f78-e34c-423c-81a2-d3cce836b6a5"
      }
     }
    },
    "e70c2bf0-572f-4460-86e0-89663cc9d227": {
     "id": "e70c2bf0-572f-4460-86e0-89663cc9d227",
     "layout": "manual",
     "prev": "7be0052a-bf5b-4aec-b3f5-eb2eac87c9a4",
     "regions": {}
    },
    "e7e7616d-3bb9-456e-8c0b-a5006039947a": {
     "id": "e7e7616d-3bb9-456e-8c0b-a5006039947a",
     "prev": "421afb18-4a72-44cc-9e7c-eee4a1a79522",
     "regions": {
      "92f787f8-3b81-4545-8c56-d25c35499df0": {
       "attrs": {
        "height": 0.8,
        "width": 0.8,
        "x": 0.1,
        "y": 0.1
       },
       "content": {
        "cell": "62b5620b-ddfd-42f3-9261-6747d9eacadf",
        "part": "whole"
       },
       "id": "92f787f8-3b81-4545-8c56-d25c35499df0"
      }
     }
    },
    "f37b2c86-9030-46db-84ec-c7d5b1efd8e9": {
     "id": "f37b2c86-9030-46db-84ec-c7d5b1efd8e9",
     "prev": "46d33742-9942-479e-81d6-60b7e58f0ef4",
     "regions": {
      "d416daa4-62b4-4de9-9c62-eb45fe5612b5": {
       "attrs": {
        "height": 0.8,
        "width": 0.8,
        "x": 0.1,
        "y": 0.1
       },
       "content": {
        "cell": "c3728e5a-18b0-4b7e-b995-5b1b45ac8f94",
        "part": "whole"
       },
       "id": "d416daa4-62b4-4de9-9c62-eb45fe5612b5"
      }
     }
    },
    "f5929481-b8f6-4c74-a865-b04f901f7e69": {
     "id": "f5929481-b8f6-4c74-a865-b04f901f7e69",
     "prev": "4aaca4e7-0a19-4be9-ae10-4f8c025bb19c",
     "regions": {
      "500e31e8-8738-4550-8d60-fd3f125fa1a2": {
       "attrs": {
        "height": 0.8,
        "width": 0.8,
        "x": 0.1,
        "y": 0.1
       },
       "content": {
        "cell": "d603110e-8c30-46b2-a691-949e9556b974",
        "part": "whole"
       },
       "id": "500e31e8-8738-4550-8d60-fd3f125fa1a2"
      }
     }
    },
    "f7875718-0a89-4f30-8fbf-0e5042e9bca9": {
     "id": "f7875718-0a89-4f30-8fbf-0e5042e9bca9",
     "prev": "ae3a2e9a-61f3-409f-9248-436fa8b0f8e7",
     "regions": {
      "8d9db515-14f2-4f8b-8ca9-2b6541b5c542": {
       "attrs": {
        "height": 0.8,
        "width": 0.8,
        "x": 0.1,
        "y": 0.1
       },
       "content": {
        "cell": "f467ede4-b36d-4024-8674-cc79086ad5e2",
        "part": "whole"
       },
       "id": "8d9db515-14f2-4f8b-8ca9-2b6541b5c542"
      }
     }
    },
    "fc29dd40-65f6-4a73-a856-5b22857e897a": {
     "id": "fc29dd40-65f6-4a73-a856-5b22857e897a",
     "prev": "0184d025-1384-429a-b70a-f94f2ac478fe",
     "regions": {
      "11cfe959-1280-4d55-8d96-694672ba3c8f": {
       "attrs": {
        "height": 0.8,
        "width": 0.8,
        "x": 0.1,
        "y": 0.1
       },
       "content": {
        "cell": "30607fb7-2667-4bed-b32a-c9ff15e72912",
        "part": "whole"
       },
       "id": "11cfe959-1280-4d55-8d96-694672ba3c8f"
      }
     }
    },
    "fee26d03-2863-4ebf-ae6c-2d86c04cf9cb": {
     "id": "fee26d03-2863-4ebf-ae6c-2d86c04cf9cb",
     "prev": "8c1fa249-ae7a-4ea9-bda7-9c21eab8292d",
     "regions": {
      "d1083b10-d117-4d69-9bbc-5d786de8ca18": {
       "attrs": {
        "height": 0.8,
        "width": 0.8,
        "x": 0.1,
        "y": 0.1
       },
       "content": {
        "cell": "4a5bf267-5063-45e4-808f-64acdd743e86",
        "part": "whole"
       },
       "id": "d1083b10-d117-4d69-9bbc-5d786de8ca18"
      }
     }
    }
   },
   "themes": {}
  }
 },
 "nbformat": 4,
 "nbformat_minor": 2
}
