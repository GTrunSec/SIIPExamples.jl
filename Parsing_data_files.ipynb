{
 "cells": [
  {
   "cell_type": "markdown",
   "metadata": {},
   "source": [
    "# Parsing System Files Example\n",
    "This notebook is intended to show how the parsing of matpower, pss/e and plexos data can be done to integrate it with the PowerSystems platform. "
   ]
  },
  {
   "cell_type": "code",
   "execution_count": null,
   "metadata": {},
   "outputs": [],
   "source": [
    "] activate env; instantiate"
   ]
  },
  {
   "cell_type": "code",
   "execution_count": null,
   "metadata": {},
   "outputs": [],
   "source": [
    "] st"
   ]
  },
  {
   "cell_type": "markdown",
   "metadata": {},
   "source": [
    "Also, run `] build PowerSystems` (here or in a REPL) to download data necessary to run this notebook"
   ]
  },
  {
   "cell_type": "code",
   "execution_count": null,
   "metadata": {},
   "outputs": [],
   "source": [
    "using PowerSystems\n",
    "using TimeSeries\n",
    "const PSY = PowerSystems\n",
    "const IS = PSY.InfrastructureSystems;"
   ]
  },
  {
   "cell_type": "markdown",
   "metadata": {},
   "source": [
    "- To disable PowerModels warnings \n",
    "  - Edit : PowerModels=>src=>PowerModels.jl :line 21\n",
    "  - Memento.config!(LOGGER, \"warn\")  =>  Memento.config!(LOGGER, \"error\")"
   ]
  },
  {
   "cell_type": "code",
   "execution_count": null,
   "metadata": {},
   "outputs": [],
   "source": [
    "base_dir = dirname(dirname(pathof(PowerSystems)))"
   ]
  },
  {
   "cell_type": "markdown",
   "metadata": {},
   "source": [
    "## Read Data files to create a to PowerSystems `System` object"
   ]
  },
  {
   "cell_type": "markdown",
   "metadata": {},
   "source": [
    "### MATPOWER"
   ]
  },
  {
   "cell_type": "code",
   "execution_count": null,
   "metadata": {},
   "outputs": [],
   "source": [
    "sys_matpower = PSY.parse_standard_files(joinpath(base_dir, \"data/matpower/RTS_GMLC.m\"));"
   ]
  },
  {
   "cell_type": "code",
   "execution_count": null,
   "metadata": {},
   "outputs": [],
   "source": [
    "sys_matpower"
   ]
  },
  {
   "cell_type": "markdown",
   "metadata": {},
   "source": [
    "### PSS/E"
   ]
  },
  {
   "cell_type": "code",
   "execution_count": null,
   "metadata": {},
   "outputs": [],
   "source": [
    "sys_psse = PSY.parse_standard_files(joinpath(base_dir,\"data/psse_raw/RTS-GMLC.RAW\"));"
   ]
  },
  {
   "cell_type": "code",
   "execution_count": null,
   "metadata": {},
   "outputs": [],
   "source": [
    "sys_psse"
   ]
  },
  {
   "cell_type": "markdown",
   "metadata": {},
   "source": [
    "### CDM - Tabular data format adopted by the [RTS-GMLC](https://github.com/gridmod/rts-gmlc)\n",
    "\n",
    "*This format parses the all of time series data and assignes it to the `PowerSystemRaw` object. To generate a valid `System` we need to select one of the forecasts.*"
   ]
  },
  {
   "cell_type": "code",
   "execution_count": null,
   "metadata": {},
   "outputs": [],
   "source": [
    "RTS_GMLC_DIR = joinpath(base_dir,\"data/RTS_GMLC\");\n",
    "\n",
    "#parse in tabular data\n",
    "rawsys = PSY.PowerSystemTableData(RTS_GMLC_DIR,100.0, joinpath(RTS_GMLC_DIR,\"user_descriptors.yaml\"))\n",
    "\n",
    "#create an hourly model from tabular data\n",
    "sys = System(rawsys; forecast_resolution = Dates.Hour(1));"
   ]
  },
  {
   "cell_type": "code",
   "execution_count": null,
   "metadata": {},
   "outputs": [],
   "source": [
    "sys"
   ]
  },
  {
   "cell_type": "markdown",
   "metadata": {},
   "source": [
    "## `System`s created from MATPOWER and PSS/E files don't automatically contain time series data"
   ]
  },
  {
   "cell_type": "code",
   "execution_count": null,
   "metadata": {},
   "outputs": [],
   "source": [
    "FORECASTS_DIR = joinpath(base_dir,\"data/forecasts/\")\n"
   ]
  },
  {
   "cell_type": "code",
   "execution_count": null,
   "metadata": {},
   "outputs": [],
   "source": [
    "sys_5 = PSY.parse_standard_files(joinpath(base_dir, \"data/matpower\", \"case5_re.m\"))"
   ]
  },
  {
   "cell_type": "code",
   "execution_count": null,
   "metadata": {},
   "outputs": [],
   "source": [
    "ts_pointers = IS.read_timeseries_metadata(joinpath(FORECASTS_DIR,\n",
    "                            \"5bus_ts\",\"timeseries_pointers_da.json\"))"
   ]
  },
  {
   "cell_type": "code",
   "execution_count": null,
   "metadata": {},
   "outputs": [],
   "source": [
    "add_forecasts!(sys_5, ts_pointers)\n",
    "sys_5"
   ]
  },
  {
   "cell_type": "markdown",
   "metadata": {},
   "source": [
    "## JSON serialization of data"
   ]
  },
  {
   "cell_type": "code",
   "execution_count": null,
   "metadata": {},
   "outputs": [],
   "source": [
    "path, io = mktemp()\n",
    "@info \"Serializing to $path\"\n",
    "to_json(io, sys)\n",
    "close(io)"
   ]
  },
  {
   "cell_type": "code",
   "execution_count": null,
   "metadata": {},
   "outputs": [],
   "source": [
    "filesize(path)/1000000 #MB"
   ]
  },
  {
   "cell_type": "code",
   "execution_count": null,
   "metadata": {},
   "outputs": [],
   "source": [
    "sys2 = System(path)"
   ]
  },
  {
   "cell_type": "code",
   "execution_count": null,
   "metadata": {},
   "outputs": [],
   "source": []
  },
  {
   "cell_type": "code",
   "execution_count": null,
   "metadata": {},
   "outputs": [],
   "source": []
  },
  {
   "cell_type": "code",
   "execution_count": null,
   "metadata": {},
   "outputs": [],
   "source": []
  },
  {
   "cell_type": "code",
   "execution_count": null,
   "metadata": {},
   "outputs": [],
   "source": []
  }
 ],
 "metadata": {
  "@webio": {
   "lastCommId": null,
   "lastKernelId": null
  },
  "kernelspec": {
   "display_name": "Julia 1.2.0",
   "language": "julia",
   "name": "julia-1.2"
  },
  "language_info": {
   "file_extension": ".jl",
   "mimetype": "application/julia",
   "name": "julia",
   "version": "1.2.0"
  }
 },
 "nbformat": 4,
 "nbformat_minor": 2
}
