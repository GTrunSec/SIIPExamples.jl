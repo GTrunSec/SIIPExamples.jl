{
 "cells": [
  {
   "outputs": [],
   "cell_type": "markdown",
   "source": [
    "# Introduction to [PowerSystems.jl](https://github.com/NREL/PowerSystems.jl)"
   ],
   "metadata": {}
  },
  {
   "outputs": [],
   "cell_type": "markdown",
   "source": [
    "**Originally Contributed by**: Clayton Barrows and Jose Daniel Lara"
   ],
   "metadata": {}
  },
  {
   "outputs": [],
   "cell_type": "markdown",
   "source": [
    "## Introduction"
   ],
   "metadata": {}
  },
  {
   "outputs": [],
   "cell_type": "markdown",
   "source": [
    "This notebook is intended to show a power system data specification framework that exploits the\n",
    "capabilities of Julia to improve performance and allow modelers to develop modular software\n",
    "to create problems with different complexities and enable large scale analysis.\n",
    "\n",
    "### Objective\n",
    "PowerSystems.jl provides a type specification for bulk power system data.\n",
    "The objecitve is to exploit Julia's integration of dynamic types to enable efficient data\n",
    "handling and enable functional dispatch in modeling and analysis applications\n",
    "As explained in Julia's documentation:\n",
    "\n",
    "\"Julia’s type system is dynamic, but gains some of the advantages of static type systems\n",
    "by making it possible to indicate that certain values are of specific types. This can be\n",
    "of great assistance in generating efficient code, but even more significantly, it allows\n",
    "method dispatch on the types of function arguments to be deeply integrated with the language.\"\n",
    "\n",
    "For more details on Julia types, refer to the [documentation](https://docs.julialang.org/en/v1/)\n",
    "\n",
    "\n",
    "## Environment and packages\n",
    "\n",
    "PowerSystems.jl relies on a framework for data handling established in\n",
    "[InfrastructureSystems.jl](https://github.com/NREL/InfrastructureSystems.jl).\n",
    "Users of PowerSystems.jl should not need to interact directly with InfrastructureSystems.jl\n",
    "\n",
    "The examples in this notebook depend upon Julia 1.2 and a specific set of package releases\n",
    "as defined in the `Manifest.toml`."
   ],
   "metadata": {}
  },
  {
   "outputs": [
    {
     "name": "stdout",
     "output_type": "stream",
     "text": [
      "Project SIIPExamples v0.0.1\n",
      "    Status `~/Documents/repos/Examples/Project.toml`\n",
      "  [9961bab8] Cbc v0.6.6\n",
      "  [5ae59095] Colors v0.9.6\n",
      "  [41994980] D3TypeTrees v0.1.1\n",
      "  [a93c6f00] DataFrames v0.20.0\n",
      "  [e2685f51] ECOS v0.10.2\n",
      "  [60bf3e95] GLPK v0.12.1\n",
      "  [2cd47ed4] InfrastructureSystems v0.5.4\n",
      "  [b6b21f68] Ipopt v0.6.1\n",
      "  [2535ab7d] JSON2 v0.3.1\n",
      "  [4076af6c] JuMP v0.20.1\n",
      "  [98b081ad] Literate v2.2.1\n",
      "  [51fcb6bd] NamedColors v0.2.0\n",
      "  [91a5bcdd] Plots v0.28.4\n",
      "  [e690365d] PowerSimulations v0.2.0 #dev0-2 (https://github.com/NREL/PowerSimulations.jl.git)\n",
      "  [bcd98974] PowerSystems v0.8.3\n",
      "  [9e3dc215] TimeSeries v0.16.1\n",
      "  [0f1e0344] WebIO v0.8.13\n"
     ]
    }
   ],
   "cell_type": "code",
   "source": [
    "using Pkg\n",
    "Pkg.status()\n",
    "\n",
    "using SIIPExamples;\n",
    "using PowerSystems;\n",
    "using D3TypeTrees;"
   ],
   "metadata": {},
   "execution_count": 1
  },
  {
   "outputs": [],
   "cell_type": "markdown",
   "source": [
    "## Types in PowerSystems\n",
    "PowerSystems.jl provides a type hierarchy for specifying power system data. Data that\n",
    "describes infrastructure components is held in `struct`s. For example, a `Bus` is defined\n",
    "as follows with fields for the parameters required to describe a bus (along with an\n",
    "`internal` field used by InfrastructureSystems to improve the efficiency of handling data)."
   ],
   "metadata": {}
  },
  {
   "outputs": [
    {
     "name": "stdout",
     "output_type": "stream",
     "text": [
      "mutable struct Bus\n",
      "    number::Int64\n",
      "    name::String\n",
      "    bustype::Union{Nothing, BusType}\n",
      "    angle::Union{Nothing, Float64}\n",
      "    voltage::Union{Nothing, Float64}\n",
      "    voltagelimits::Union{Nothing, NamedTuple{(:min, :max),Tuple{Float64,Float64}}}\n",
      "    basevoltage::Union{Nothing, Float64}\n",
      "    ext::Dict{String,Any}\n",
      "    internal::InfrastructureSystems.InfrastructureSystemsInternal\n",
      "end\n"
     ]
    }
   ],
   "cell_type": "code",
   "source": [
    "print_struct(Bus)"
   ],
   "metadata": {},
   "execution_count": 2
  },
  {
   "outputs": [],
   "cell_type": "markdown",
   "source": [
    "### Type Hierarchy\n",
    "PowerSystems is intended to organize data containers by the behavior of the devices that\n",
    "the data represents. To that end, a type hierarchy has been defined with several levels of\n",
    "abstract types starting with `PowerSystemType`:\n",
    "- `Component`: includes all elements of power system data\n",
    "  - `PowerSystems.Topology`: includes non physical elements describing network connectivity\n",
    "  - `Service`: includes descriptions of system requirements (other than energy balance)\n",
    "  - `Device`: includes descriptions of all the physical devices in a power system\n",
    "- `PowerSystems.TechnicalParams`: includes structs that hold data describing the technical or economic capabilities of `Device`some\n",
    "- `System`: collects all of the `Component`s\n",
    "\n",
    "*The following trees are made with [D3TypeTrees](https://github.com/claytonpbarrows/D3TypeTrees.jl),\n",
    "nodes that represent Structs will show the Fields in the hoverover tooltip.*"
   ],
   "metadata": {}
  },
  {
   "outputs": [
    {
     "output_type": "execute_result",
     "data": {
      "text/plain": "PowerSystemType\n├──PowerSystems.DeviceParameter\n│  ├──TechRenewable\n│  ├──PowerSystems.DynamicComponent\n│  │  ├──PowerSystems.DynamicInverterComponent (6 children)\n│  │  ├──PowerSystems.DynamicGeneratorComponent (5 children)\n│  │  └──PowerSystems.InverterComponent (0 children)\n│  ├──TechThermal\n│  ├──PowerSystems.OperationalCost\n│  │  ├──TwoPartCost (0 children)\n│  │  └──ThreePartCost (0 children)\n│  ├──TechHydro\n│  ├──PowerSystems.ActivePowerControl\n│  │  └──VirtualInertia (0 children)\n│  └──PowerSystems.ReactivePowerControl\n│     └──ReactivePowerDroop (0 children)\n├──Component\n│  ├──Service\n│  │  ├──Reserve (2 children)\n│  │  └──Transfer (0 children)\n│  ├──Device\n│  │  ├──Branch (2 children)\n│  │  ├──StaticInjection (4 children)\n│  │  └──PowerSystems.DynamicInjection (2 children)\n│  └──PowerSystems.Topology\n│     ├──LoadZones (0 children)\n│     ├──Bus (0 children)\n│     └──Arc (0 children)\n└──System\n",
      "text/html": [
       "    <!DOCTYPE html>\n",
       "    <html>\n",
       "    <head>\n",
       "        <meta charset=\"UTF-8\">\n",
       "        <title>Julia D3Tree</title>\n",
       "    </head>\n",
       "    <body>\n",
       "    <div id=\"treeviss9GH3RvW\">\n",
       "    <style>\n",
       "        \n",
       ".node {\n",
       "    cursor: pointer;\n",
       "}\n",
       "\n",
       ".node circle {\n",
       "\t  fill: #fff;\n",
       "\t  stroke: steelblue;\n",
       "\t  stroke-width: 3px;\n",
       "      r: 10;\n",
       "}\n",
       "\n",
       ".node rect {\n",
       "\t  fill: #fff;\n",
       "\t  stroke: steelblue;\n",
       "\t  stroke-width: 3px;\n",
       "      x: -10;\n",
       "      y: -10;\n",
       "      width: 20;\n",
       "      height: 20;\n",
       "}\n",
       "\n",
       ".node path {\n",
       "    fill: #ffffff;\n",
       "    /* stroke: steelblue; */\n",
       "    stroke-width: 2px;\n",
       "}\n",
       ".node text {\n",
       "    font-family: Arial, Helvetica, sans-serif;\n",
       "    font-style: normal;\n",
       "    font-size: 12px;\n",
       "}\n",
       ".link /* path */ {\n",
       "    fill: none;\n",
       "    stroke: #cccccc;\n",
       "    stroke-width: 2px;\n",
       "}\n",
       ".link text {\n",
       "    font-family: Arial, Helvetica, sans-serif;\n",
       "    font-style: normal;\n",
       "    font-size: 12px;\n",
       "}\n",
       ".hover text{\n",
       "    font-family: Arial, Helvetica, sans-serif;\n",
       "    font-style: normal;\n",
       "    font-size: 12px;\n",
       "}\n",
       "\n",
       "/*\n",
       ".svg-container {\n",
       "    display: inline-block;\n",
       "    position: relative;\n",
       "    width: 100%;\n",
       "    padding-bottom: 100%;\n",
       "    vertical-align: top;\n",
       "    overflow: hidden;\n",
       "}\n",
       ".svg-content-responsive {\n",
       "    display: inline-block;\n",
       "    position: absolute;\n",
       "    top: 10px;\n",
       "    left: 0;\n",
       "}\n",
       "*/\n",
       "\n",
       "    </style>\n",
       "    <script>\n",
       "       (function(){\n",
       "        var treeData = {\"children\":[[2,54,97],[3,4,45,46,49,50,52],[],[5,19,44],[6,8,10,13,15,17],[7],[],[9],[],[11,12],[],[],[14],[],[16],[],[18],[],[20,23,28,37,40],[21,22],[],[],[24,25,26,27],[],[],[],[],[29,30,31,32,33,34,35,36],[],[],[],[],[],[],[],[],[38,39],[],[],[41,42,43],[],[],[],[],[],[47,48],[],[],[],[51],[],[53],[],[55,60,93],[56,59],[57,58],[],[],[],[61,71,90],[62,68],[63,64,65,66,67],[],[],[],[],[],[69,70],[],[],[72,74,83,89],[73],[],[75,78,81],[76,77],[],[],[79,80],[],[],[82],[],[84,86,87],[85],[],[],[88],[],[],[91,92],[],[],[94,95,96],[],[],[],[]],\"text\":[\"PowerSystemType\",\"PowerSystems.DeviceParameter\",\"TechRenewable\",\"PowerSystems.DynamicComponent\",\"PowerSystems.DynamicInverterComponent\",\"DCSource\",\"FixedDCSource\",\"OuterControl\",\"VirtualInertiaQdroop\",\"Filter\",\"LCLFilter\",\"PowerSystems.LCFilter\",\"VSControl\",\"CombinedVIwithVZ\",\"FrequencyEstimator\",\"PLL\",\"Converter\",\"AvgCnvFixedDC\",\"PowerSystems.DynamicGeneratorComponent\",\"PSS\",\"PSSFixed\",\"PowerSystems.PSSSimple\",\"AVR\",\"AVRTypeI\",\"AVRSimple\",\"AVRFixed\",\"AVRTypeII\",\"Machine\",\"FullMachine\",\"AndersonFouadMachine\",\"SimpleFullMachine\",\"OneDOneQMachine\",\"SimpleAFMachine\",\"MarconatoMachine\",\"SimpleMarconatoMachine\",\"BaseMachine\",\"PowerSystems.Shaft\",\"FiveMassShaft\",\"SingleMass\",\"TurbineGov\",\"TGFixed\",\"TGTypeII\",\"TGTypeI\",\"PowerSystems.InverterComponent\",\"TechThermal\",\"PowerSystems.OperationalCost\",\"TwoPartCost\",\"ThreePartCost\",\"TechHydro\",\"PowerSystems.ActivePowerControl\",\"VirtualInertia\",\"PowerSystems.ReactivePowerControl\",\"ReactivePowerDroop\",\"Component\",\"Service\",\"Reserve\",\"VariableReserve\",\"StaticReserve\",\"Transfer\",\"Device\",\"Branch\",\"ACBranch\",\"TapTransformer\",\"PhaseShiftingTransformer\",\"Transformer2W\",\"Line\",\"MonitoredLine\",\"DCBranch\",\"VSCDCLine\",\"HVDCLine\",\"StaticInjection\",\"Storage\",\"GenericBattery\",\"Generator\",\"RenewableGen\",\"RenewableDispatch\",\"RenewableFix\",\"HydroGen\",\"HydroFix\",\"HydroDispatch\",\"ThermalGen\",\"ThermalStandard\",\"ElectricLoad\",\"ControllableLoad\",\"InterruptibleLoad\",\"FixedAdmittance\",\"StaticLoad\",\"PowerLoad\",\"Source\",\"PowerSystems.DynamicInjection\",\"DynamicGenerator\",\"DynamicInverter\",\"PowerSystems.Topology\",\"LoadZones\",\"Bus\",\"Arc\",\"System\"],\"tooltip\":[\"Abstract\",\"Abstract\",\"rating\\nprimemover\\nreactivepowerlimits\\npowerfactor\\ninternal\",\"Abstract\",\"Abstract\",\"Abstract\",\"voltage\\next\\nstates\\nn_states\\ninternal\",\"Abstract\",\"active_power\\nreactive_power\\next\\nstates\\nn_states\\ninternal\",\"Abstract\",\"lf\\nrf\\ncf\\nlg\\nrg\\next\\nstates\\nn_states\\ninternal\",\"lf\\nrf\\ncf\\next\\nstates\\nn_states\\ninternal\",\"Abstract\",\"kpv\\nkiv\\nkffv\\nrv\\nlv\\nkpc\\nkic\\nkffi\\nωad\\nkad\\next\\nstates\\nn_states\\ninternal\",\"Abstract\",\"ω_lp\\nkp_pll\\nki_pll\\next\\nstates\\nn_states\\ninternal\",\"Abstract\",\"v_rated\\ns_rated\\next\\nstates\\nn_states\\ninternal\",\"Abstract\",\"Abstract\",\"V_pss\\next\\nstates\\nn_states\\ninternal\",\"K_ω\\nK_p\\next\\nstates\\nn_states\\ninternal\",\"Abstract\",\"Ka\\nKe\\nKf\\nTa\\nTe\\nTf\\nTr\\nVr_max\\nVr_min\\nAe\\nBe\\next\\nstates\\nn_states\\ninternal\",\"Kv\\next\\nstates\\nn_states\\ninternal\",\"Emf\\next\\nstates\\nn_states\\ninternal\",\"K0\\nT1\\nT2\\nT3\\nT4\\nTe\\nTr\\nVr_max\\nVr_min\\nAe\\nBe\\next\\nstates\\nn_states\\ninternal\",\"Abstract\",\"R\\nR_f\\nR_1d\\nR_1q\\nL_d\\nL_q\\nL_ad\\nL_aq\\nL_f1d\\nL_ff\\nL_1d\\nL_1q\\nMVABase\\next\\ninv_d_fluxlink\\ninv_q_fluxlink\\nstates\\nn_states\\ninternal\",\"R\\nXd\\nXq\\nXd_p\\nXq_p\\nXd_pp\\nXq_pp\\nTd0_p\\nTq0_p\\nTd0_pp\\nTq0_pp\\nMVABase\\next\\nstates\\nn_states\\ninternal\",\"R\\nR_f\\nR_1d\\nR_1q\\nL_d\\nL_q\\nL_ad\\nL_aq\\nL_f1d\\nL_ff\\nL_1d\\nL_1q\\nMVABase\\next\\ninv_d_fluxlink\\ninv_q_fluxlink\\nstates\\nn_states\\ninternal\",\"R\\nXd\\nXq\\nXd_p\\nXq_p\\nTd0_p\\nTq0_p\\nMVABase\\next\\nstates\\nn_states\\ninternal\",\"R\\nXd\\nXq\\nXd_p\\nXq_p\\nXd_pp\\nXq_pp\\nTd0_p\\nTq0_p\\nTd0_pp\\nTq0_pp\\nMVABase\\next\\nstates\\nn_states\\ninternal\",\"R\\nXd\\nXq\\nXd_p\\nXq_p\\nXd_pp\\nXq_pp\\nTd0_p\\nTq0_p\\nTd0_pp\\nTq0_pp\\nT_AA\\nMVABase\\next\\nγd\\nγq\\nstates\\nn_states\\ninternal\",\"R\\nXd\\nXq\\nXd_p\\nXq_p\\nXd_pp\\nXq_pp\\nTd0_p\\nTq0_p\\nTd0_pp\\nTq0_pp\\nT_AA\\nMVABase\\next\\nγd\\nγq\\nstates\\nn_states\\ninternal\",\"R\\nXd_p\\neq_p\\nMVABase\\next\\nstates\\nn_states\\ninternal\",\"Abstract\",\"H\\nH_hp\\nH_ip\\nH_lp\\nH_ex\\nD\\nD_hp\\nD_ip\\nD_lp\\nD_ex\\nD_12\\nD_23\\nD_34\\nD_45\\nK_hp\\nK_ip\\nK_lp\\nK_ex\\next\\nstates\\nn_states\\ninternal\",\"H\\nD\\next\\nstates\\nn_states\\ninternal\",\"Abstract\",\"efficiency\\next\\nstates\\nn_states\\ninternal\",\"R\\nT1\\nT2\\nτ_min\\nτ_max\\next\\nstates\\nn_states\\ninternal\",\"R\\nTs\\nTc\\nT3\\nT4\\nT5\\nP_min\\nP_max\\next\\nstates\\nn_states\\ninternal\",\"\",\"rating\\nprimemover\\nfuel\\nactivepowerlimits\\nreactivepowerlimits\\nramplimits\\ntimelimits\\ninternal\",\"Abstract\",\"variable\\nfixed\\n_forecasts\\ninternal\",\"variable\\nfixed\\nstartup\\nshutdn\\n_forecasts\\ninternal\",\"rating\\nprimemover\\nactivepowerlimits\\nreactivepowerlimits\\nramplimits\\ntimelimits\\ninternal\",\"Abstract\",\"Ta\\nkd\\nkω\\nωb\\next\\nstates\\nn_states\\ninternal\",\"Abstract\",\"kq\\nωf\\next\\nstates\\nn_states\\ninternal\",\"Abstract\",\"Abstract\",\"Abstract\",\"name\\ntimeframe\\nrequirement\\next\\n_forecasts\\ninternal\",\"name\\ntimeframe\\nrequirement\\next\\ninternal\",\"name\\ntimeframe\\nrequirement\\next\\n_forecasts\\ninternal\",\"Abstract\",\"Abstract\",\"Abstract\",\"name\\navailable\\nactivepower_flow\\nreactivepower_flow\\narc\\nr\\nx\\nprimaryshunt\\ntap\\nrate\\nservices\\next\\n_forecasts\\ninternal\",\"name\\navailable\\nactivepower_flow\\nreactivepower_flow\\narc\\nr\\nx\\nprimaryshunt\\ntap\\nα\\nrate\\nservices\\next\\n_forecasts\\ninternal\",\"name\\navailable\\nactivepower_flow\\nreactivepower_flow\\narc\\nr\\nx\\nprimaryshunt\\nrate\\nservices\\next\\n_forecasts\\ninternal\",\"name\\navailable\\nactivepower_flow\\nreactivepower_flow\\narc\\nr\\nx\\nb\\nrate\\nanglelimits\\nservices\\next\\n_forecasts\\ninternal\",\"name\\navailable\\nactivepower_flow\\nreactivepower_flow\\narc\\nr\\nx\\nb\\nflowlimits\\nrate\\nanglelimits\\nservices\\next\\n_forecasts\\ninternal\",\"Abstract\",\"name\\navailable\\nactivepower_flow\\narc\\nrectifier_taplimits\\nrectifier_xrc\\nrectifier_firing_angle\\ninverter_taplimits\\ninverter_xrc\\ninverter_firing_angle\\nservices\\next\\n_forecasts\\ninternal\",\"name\\navailable\\nactivepower_flow\\narc\\nactivepowerlimits_from\\nactivepowerlimits_to\\nreactivepowerlimits_from\\nreactivepowerlimits_to\\nloss\\nservices\\next\\n_forecasts\\ninternal\",\"Abstract\",\"Abstract\",\"name\\navailable\\nbus\\nprimemover\\nenergy\\ncapacity\\nrating\\nactivepower\\ninputactivepowerlimits\\noutputactivepowerlimits\\nefficiency\\nreactivepower\\nreactivepowerlimits\\nservices\\next\\n_forecasts\\ninternal\",\"Abstract\",\"Abstract\",\"name\\navailable\\nbus\\nactivepower\\nreactivepower\\ntech\\nop_cost\\nservices\\next\\n_forecasts\\ninternal\",\"name\\navailable\\nbus\\nactivepower\\nreactivepower\\ntech\\nservices\\next\\n_forecasts\\ninternal\",\"Abstract\",\"name\\navailable\\nbus\\nactivepower\\nreactivepower\\ntech\\nservices\\next\\n_forecasts\\ninternal\",\"name\\navailable\\nbus\\nactivepower\\nreactivepower\\ntech\\nop_cost\\nstorage_capacity\\ninflow\\ninitial_storage\\nservices\\next\\n_forecasts\\ninternal\",\"Abstract\",\"name\\navailable\\nbus\\nactivepower\\nreactivepower\\ntech\\nop_cost\\nservices\\next\\n_forecasts\\ninternal\",\"Abstract\",\"Abstract\",\"name\\navailable\\nbus\\nmodel\\nactivepower\\nreactivepower\\nmaxactivepower\\nmaxreactivepower\\nop_cost\\nservices\\next\\n_forecasts\\ninternal\",\"name\\navailable\\nbus\\nY\\nservices\\next\\n_forecasts\\ninternal\",\"Abstract\",\"name\\navailable\\nbus\\nmodel\\nactivepower\\nreactivepower\\nmaxactivepower\\nmaxreactivepower\\nservices\\next\\n_forecasts\\ninternal\",\"name\\navailable\\nbus\\nV_R\\nV_I\\nX_th\\nservices\\next\\ninternal\",\"Abstract\",\"number\\nname\\nbus\\nω_ref\\nV_ref\\nP_ref\\nmachine\\nshaft\\navr\\ntg\\npss\\nn_states\\nstates\\next\",\"number\\nname\\nbus\\nω_ref\\nV_ref\\nP_ref\\nQ_ref\\nMVABase\\nconverter\\noutercontrol\\nvscontrol\\ndc_source\\nfreq_estimator\\nfilter\\nn_states\\nstates\\next\",\"Abstract\",\"number\\nname\\nbuses\\nmaxactivepower\\nmaxreactivepower\\nservices\\n_forecasts\\ninternal\",\"number\\nname\\nbustype\\nangle\\nvoltage\\nvoltagelimits\\nbasevoltage\\next\\ninternal\",\"from\\nto\\ninternal\",\"data\\nbasepower\\nbus_numbers\\nrunchecks\\ninternal\"],\"style\":[\"\",\"\",\"\",\"\",\"\",\"\",\"\",\"\",\"\",\"\",\"\",\"\",\"\",\"\",\"\",\"\",\"\",\"\",\"\",\"\",\"\",\"\",\"\",\"\",\"\",\"\",\"\",\"\",\"\",\"\",\"\",\"\",\"\",\"\",\"\",\"\",\"\",\"\",\"\",\"\",\"\",\"\",\"\",\"\",\"\",\"\",\"\",\"\",\"\",\"\",\"\",\"\",\"\",\"\",\"\",\"\",\"\",\"\",\"\",\"\",\"\",\"\",\"\",\"\",\"\",\"\",\"\",\"\",\"\",\"\",\"\",\"\",\"\",\"\",\"\",\"\",\"\",\"\",\"\",\"\",\"\",\"\",\"\",\"\",\"\",\"\",\"\",\"\",\"\",\"\",\"\",\"\",\"\",\"\",\"\",\"\",\"\"],\"link_style\":[\"\",\"\",\"\",\"\",\"\",\"\",\"\",\"\",\"\",\"\",\"\",\"\",\"\",\"\",\"\",\"\",\"\",\"\",\"\",\"\",\"\",\"\",\"\",\"\",\"\",\"\",\"\",\"\",\"\",\"\",\"\",\"\",\"\",\"\",\"\",\"\",\"\",\"\",\"\",\"\",\"\",\"\",\"\",\"\",\"\",\"\",\"\",\"\",\"\",\"\",\"\",\"\",\"\",\"\",\"\",\"\",\"\",\"\",\"\",\"\",\"\",\"\",\"\",\"\",\"\",\"\",\"\",\"\",\"\",\"\",\"\",\"\",\"\",\"\",\"\",\"\",\"\",\"\",\"\",\"\",\"\",\"\",\"\",\"\",\"\",\"\",\"\",\"\",\"\",\"\",\"\",\"\",\"\",\"\",\"\",\"\",\"\"],\"title\":\"Julia D3Tree\",\"options\":{\"tooltip\":[\"Abstract\",\"Abstract\",\"rating\\nprimemover\\nreactivepowerlimits\\npowerfactor\\ninternal\",\"Abstract\",\"Abstract\",\"Abstract\",\"voltage\\next\\nstates\\nn_states\\ninternal\",\"Abstract\",\"active_power\\nreactive_power\\next\\nstates\\nn_states\\ninternal\",\"Abstract\",\"lf\\nrf\\ncf\\nlg\\nrg\\next\\nstates\\nn_states\\ninternal\",\"lf\\nrf\\ncf\\next\\nstates\\nn_states\\ninternal\",\"Abstract\",\"kpv\\nkiv\\nkffv\\nrv\\nlv\\nkpc\\nkic\\nkffi\\nωad\\nkad\\next\\nstates\\nn_states\\ninternal\",\"Abstract\",\"ω_lp\\nkp_pll\\nki_pll\\next\\nstates\\nn_states\\ninternal\",\"Abstract\",\"v_rated\\ns_rated\\next\\nstates\\nn_states\\ninternal\",\"Abstract\",\"Abstract\",\"V_pss\\next\\nstates\\nn_states\\ninternal\",\"K_ω\\nK_p\\next\\nstates\\nn_states\\ninternal\",\"Abstract\",\"Ka\\nKe\\nKf\\nTa\\nTe\\nTf\\nTr\\nVr_max\\nVr_min\\nAe\\nBe\\next\\nstates\\nn_states\\ninternal\",\"Kv\\next\\nstates\\nn_states\\ninternal\",\"Emf\\next\\nstates\\nn_states\\ninternal\",\"K0\\nT1\\nT2\\nT3\\nT4\\nTe\\nTr\\nVr_max\\nVr_min\\nAe\\nBe\\next\\nstates\\nn_states\\ninternal\",\"Abstract\",\"R\\nR_f\\nR_1d\\nR_1q\\nL_d\\nL_q\\nL_ad\\nL_aq\\nL_f1d\\nL_ff\\nL_1d\\nL_1q\\nMVABase\\next\\ninv_d_fluxlink\\ninv_q_fluxlink\\nstates\\nn_states\\ninternal\",\"R\\nXd\\nXq\\nXd_p\\nXq_p\\nXd_pp\\nXq_pp\\nTd0_p\\nTq0_p\\nTd0_pp\\nTq0_pp\\nMVABase\\next\\nstates\\nn_states\\ninternal\",\"R\\nR_f\\nR_1d\\nR_1q\\nL_d\\nL_q\\nL_ad\\nL_aq\\nL_f1d\\nL_ff\\nL_1d\\nL_1q\\nMVABase\\next\\ninv_d_fluxlink\\ninv_q_fluxlink\\nstates\\nn_states\\ninternal\",\"R\\nXd\\nXq\\nXd_p\\nXq_p\\nTd0_p\\nTq0_p\\nMVABase\\next\\nstates\\nn_states\\ninternal\",\"R\\nXd\\nXq\\nXd_p\\nXq_p\\nXd_pp\\nXq_pp\\nTd0_p\\nTq0_p\\nTd0_pp\\nTq0_pp\\nMVABase\\next\\nstates\\nn_states\\ninternal\",\"R\\nXd\\nXq\\nXd_p\\nXq_p\\nXd_pp\\nXq_pp\\nTd0_p\\nTq0_p\\nTd0_pp\\nTq0_pp\\nT_AA\\nMVABase\\next\\nγd\\nγq\\nstates\\nn_states\\ninternal\",\"R\\nXd\\nXq\\nXd_p\\nXq_p\\nXd_pp\\nXq_pp\\nTd0_p\\nTq0_p\\nTd0_pp\\nTq0_pp\\nT_AA\\nMVABase\\next\\nγd\\nγq\\nstates\\nn_states\\ninternal\",\"R\\nXd_p\\neq_p\\nMVABase\\next\\nstates\\nn_states\\ninternal\",\"Abstract\",\"H\\nH_hp\\nH_ip\\nH_lp\\nH_ex\\nD\\nD_hp\\nD_ip\\nD_lp\\nD_ex\\nD_12\\nD_23\\nD_34\\nD_45\\nK_hp\\nK_ip\\nK_lp\\nK_ex\\next\\nstates\\nn_states\\ninternal\",\"H\\nD\\next\\nstates\\nn_states\\ninternal\",\"Abstract\",\"efficiency\\next\\nstates\\nn_states\\ninternal\",\"R\\nT1\\nT2\\nτ_min\\nτ_max\\next\\nstates\\nn_states\\ninternal\",\"R\\nTs\\nTc\\nT3\\nT4\\nT5\\nP_min\\nP_max\\next\\nstates\\nn_states\\ninternal\",\"\",\"rating\\nprimemover\\nfuel\\nactivepowerlimits\\nreactivepowerlimits\\nramplimits\\ntimelimits\\ninternal\",\"Abstract\",\"variable\\nfixed\\n_forecasts\\ninternal\",\"variable\\nfixed\\nstartup\\nshutdn\\n_forecasts\\ninternal\",\"rating\\nprimemover\\nactivepowerlimits\\nreactivepowerlimits\\nramplimits\\ntimelimits\\ninternal\",\"Abstract\",\"Ta\\nkd\\nkω\\nωb\\next\\nstates\\nn_states\\ninternal\",\"Abstract\",\"kq\\nωf\\next\\nstates\\nn_states\\ninternal\",\"Abstract\",\"Abstract\",\"Abstract\",\"name\\ntimeframe\\nrequirement\\next\\n_forecasts\\ninternal\",\"name\\ntimeframe\\nrequirement\\next\\ninternal\",\"name\\ntimeframe\\nrequirement\\next\\n_forecasts\\ninternal\",\"Abstract\",\"Abstract\",\"Abstract\",\"name\\navailable\\nactivepower_flow\\nreactivepower_flow\\narc\\nr\\nx\\nprimaryshunt\\ntap\\nrate\\nservices\\next\\n_forecasts\\ninternal\",\"name\\navailable\\nactivepower_flow\\nreactivepower_flow\\narc\\nr\\nx\\nprimaryshunt\\ntap\\nα\\nrate\\nservices\\next\\n_forecasts\\ninternal\",\"name\\navailable\\nactivepower_flow\\nreactivepower_flow\\narc\\nr\\nx\\nprimaryshunt\\nrate\\nservices\\next\\n_forecasts\\ninternal\",\"name\\navailable\\nactivepower_flow\\nreactivepower_flow\\narc\\nr\\nx\\nb\\nrate\\nanglelimits\\nservices\\next\\n_forecasts\\ninternal\",\"name\\navailable\\nactivepower_flow\\nreactivepower_flow\\narc\\nr\\nx\\nb\\nflowlimits\\nrate\\nanglelimits\\nservices\\next\\n_forecasts\\ninternal\",\"Abstract\",\"name\\navailable\\nactivepower_flow\\narc\\nrectifier_taplimits\\nrectifier_xrc\\nrectifier_firing_angle\\ninverter_taplimits\\ninverter_xrc\\ninverter_firing_angle\\nservices\\next\\n_forecasts\\ninternal\",\"name\\navailable\\nactivepower_flow\\narc\\nactivepowerlimits_from\\nactivepowerlimits_to\\nreactivepowerlimits_from\\nreactivepowerlimits_to\\nloss\\nservices\\next\\n_forecasts\\ninternal\",\"Abstract\",\"Abstract\",\"name\\navailable\\nbus\\nprimemover\\nenergy\\ncapacity\\nrating\\nactivepower\\ninputactivepowerlimits\\noutputactivepowerlimits\\nefficiency\\nreactivepower\\nreactivepowerlimits\\nservices\\next\\n_forecasts\\ninternal\",\"Abstract\",\"Abstract\",\"name\\navailable\\nbus\\nactivepower\\nreactivepower\\ntech\\nop_cost\\nservices\\next\\n_forecasts\\ninternal\",\"name\\navailable\\nbus\\nactivepower\\nreactivepower\\ntech\\nservices\\next\\n_forecasts\\ninternal\",\"Abstract\",\"name\\navailable\\nbus\\nactivepower\\nreactivepower\\ntech\\nservices\\next\\n_forecasts\\ninternal\",\"name\\navailable\\nbus\\nactivepower\\nreactivepower\\ntech\\nop_cost\\nstorage_capacity\\ninflow\\ninitial_storage\\nservices\\next\\n_forecasts\\ninternal\",\"Abstract\",\"name\\navailable\\nbus\\nactivepower\\nreactivepower\\ntech\\nop_cost\\nservices\\next\\n_forecasts\\ninternal\",\"Abstract\",\"Abstract\",\"name\\navailable\\nbus\\nmodel\\nactivepower\\nreactivepower\\nmaxactivepower\\nmaxreactivepower\\nop_cost\\nservices\\next\\n_forecasts\\ninternal\",\"name\\navailable\\nbus\\nY\\nservices\\next\\n_forecasts\\ninternal\",\"Abstract\",\"name\\navailable\\nbus\\nmodel\\nactivepower\\nreactivepower\\nmaxactivepower\\nmaxreactivepower\\nservices\\next\\n_forecasts\\ninternal\",\"name\\navailable\\nbus\\nV_R\\nV_I\\nX_th\\nservices\\next\\ninternal\",\"Abstract\",\"number\\nname\\nbus\\nω_ref\\nV_ref\\nP_ref\\nmachine\\nshaft\\navr\\ntg\\npss\\nn_states\\nstates\\next\",\"number\\nname\\nbus\\nω_ref\\nV_ref\\nP_ref\\nQ_ref\\nMVABase\\nconverter\\noutercontrol\\nvscontrol\\ndc_source\\nfreq_estimator\\nfilter\\nn_states\\nstates\\next\",\"Abstract\",\"number\\nname\\nbuses\\nmaxactivepower\\nmaxreactivepower\\nservices\\n_forecasts\\ninternal\",\"number\\nname\\nbustype\\nangle\\nvoltage\\nvoltagelimits\\nbasevoltage\\next\\ninternal\",\"from\\nto\\ninternal\",\"data\\nbasepower\\nbus_numbers\\nrunchecks\\ninternal\"],\"text\":[\"PowerSystemType\",\"PowerSystems.DeviceParameter\",\"TechRenewable\",\"PowerSystems.DynamicComponent\",\"PowerSystems.DynamicInverterComponent\",\"DCSource\",\"FixedDCSource\",\"OuterControl\",\"VirtualInertiaQdroop\",\"Filter\",\"LCLFilter\",\"PowerSystems.LCFilter\",\"VSControl\",\"CombinedVIwithVZ\",\"FrequencyEstimator\",\"PLL\",\"Converter\",\"AvgCnvFixedDC\",\"PowerSystems.DynamicGeneratorComponent\",\"PSS\",\"PSSFixed\",\"PowerSystems.PSSSimple\",\"AVR\",\"AVRTypeI\",\"AVRSimple\",\"AVRFixed\",\"AVRTypeII\",\"Machine\",\"FullMachine\",\"AndersonFouadMachine\",\"SimpleFullMachine\",\"OneDOneQMachine\",\"SimpleAFMachine\",\"MarconatoMachine\",\"SimpleMarconatoMachine\",\"BaseMachine\",\"PowerSystems.Shaft\",\"FiveMassShaft\",\"SingleMass\",\"TurbineGov\",\"TGFixed\",\"TGTypeII\",\"TGTypeI\",\"PowerSystems.InverterComponent\",\"TechThermal\",\"PowerSystems.OperationalCost\",\"TwoPartCost\",\"ThreePartCost\",\"TechHydro\",\"PowerSystems.ActivePowerControl\",\"VirtualInertia\",\"PowerSystems.ReactivePowerControl\",\"ReactivePowerDroop\",\"Component\",\"Service\",\"Reserve\",\"VariableReserve\",\"StaticReserve\",\"Transfer\",\"Device\",\"Branch\",\"ACBranch\",\"TapTransformer\",\"PhaseShiftingTransformer\",\"Transformer2W\",\"Line\",\"MonitoredLine\",\"DCBranch\",\"VSCDCLine\",\"HVDCLine\",\"StaticInjection\",\"Storage\",\"GenericBattery\",\"Generator\",\"RenewableGen\",\"RenewableDispatch\",\"RenewableFix\",\"HydroGen\",\"HydroFix\",\"HydroDispatch\",\"ThermalGen\",\"ThermalStandard\",\"ElectricLoad\",\"ControllableLoad\",\"InterruptibleLoad\",\"FixedAdmittance\",\"StaticLoad\",\"PowerLoad\",\"Source\",\"PowerSystems.DynamicInjection\",\"DynamicGenerator\",\"DynamicInverter\",\"PowerSystems.Topology\",\"LoadZones\",\"Bus\",\"Arc\",\"System\"],\"init_expand\":1}};\n",
       "        var rootID = 1-1;\n",
       "        var div = \"treeviss9GH3RvW\";\n",
       "        var initExpand = 1\n",
       "        var initDuration = 750\n",
       "        var svgHeight = 600\n",
       "        if (typeof $ === 'undefined') {\n",
       "    loadScript(\"https://code.jquery.com/jquery-3.1.1.min.js\", run);\n",
       "} else {\n",
       "    run();\n",
       "}\n",
       "\n",
       "function run() {\n",
       "    if (typeof d3 === 'undefined') {\n",
       "        loadScript(\"https://d3js.org/d3.v3.js\", showTree);\n",
       "    } else {\n",
       "        showTree();\n",
       "    }\n",
       "}\n",
       "\n",
       "function loadScript(url, callback)\n",
       "{\n",
       "    console.log(\"starting script load...\")\n",
       "    // Adding the script tag to the head as suggested before\n",
       "    var head = document.getElementsByTagName('head')[0];\n",
       "    var script = document.createElement('script');\n",
       "    script.type = 'text/javascript';\n",
       "    script.src = url;\n",
       "\n",
       "    // Then bind the event to the callback function.\n",
       "    // There are several events for cross browser compatibility.\n",
       "    script.onreadystatechange = callback;\n",
       "    script.onload = callback;\n",
       "\n",
       "    // Fire the loading\n",
       "    head.appendChild(script);\n",
       "}\n",
       "\n",
       "function showTree() {\n",
       "        \n",
       "    // var margin = {top: 20, right: 120, bottom: 20, left: 120},\n",
       "    var margin = {top: 20, right: 120, bottom: 80, left: 120},\n",
       "        width = $(\"#\"+div).width() - margin.right - margin.left,\n",
       "        height = svgHeight - margin.top - margin.bottom;\n",
       "        // TODO make height a parameter of TreeVisualizer\n",
       "\n",
       "    var i = 0,\n",
       "        root;\n",
       "\n",
       "    var tree = d3.layout.tree()\n",
       "        .size([width, height]);\n",
       "\n",
       "    var diagonal = d3.svg.diagonal();\n",
       "        //.projection(function(d) { return [d.y, d.x]; });\n",
       "        // uncomment above to make the tree go horizontally\n",
       "\n",
       "    // see http://stackoverflow.com/questions/16265123/resize-svg-when-window-is-resized-in-d3-js\n",
       "    if (d3.select(\"#\"+div+\"_svg\").empty()) {\n",
       "        $(\".d3twarn\").remove();\n",
       "        d3.select(\"#\"+div).append(\"svg\")\n",
       "            .attr(\"id\", div+\"_svg\")\n",
       "            .attr(\"width\", width + margin.right + margin.left)\n",
       "            .attr(\"height\", height + margin.top + margin.bottom);\n",
       "    }\n",
       "\n",
       "    d3.select(\"#\"+div+\"_svg\").selectAll(\"*\").remove();\n",
       "\n",
       "    var svg = d3.select(\"#\"+div+\"_svg\")\n",
       "        .append(\"g\")\n",
       "            .attr(\"transform\", \"translate(\" + margin.left + \",\" + margin.top + \")\");\n",
       "\n",
       "    // console.log(\"tree data:\");\n",
       "    // console.log(treeData[rootID]);\n",
       "    root = createDisplayNode(rootID, initExpand);\n",
       "    root.x0 = width / 2;\n",
       "    root.y0 = 0;\n",
       "\n",
       "    update(root, initDuration);\n",
       "    console.log(\"tree should appear\");\n",
       "\n",
       "    function createDisplayNode(id, expandLevel) {\n",
       "      var dnode = {\"dataID\":id,\n",
       "                   \"children\": null,\n",
       "                   \"_children\":null};\n",
       "      if (expandLevel > 0) {\n",
       "        initializeChildren(dnode, expandLevel);\n",
       "      }\n",
       "      return dnode;\n",
       "    }\n",
       "\n",
       "    function initializeChildren(d, expandLevel) {\n",
       "      // create children\n",
       "      var children = treeData.children[d.dataID];\n",
       "      d.children = [];\n",
       "      if (children) {\n",
       "        for (var i = 0; i < children.length; i++) {\n",
       "          var cid = children[i]-1;\n",
       "          d.children.push(createDisplayNode(cid, expandLevel-1));\n",
       "        }\n",
       "      }\n",
       "    }\n",
       "\n",
       "    /**\n",
       "     * Recursively called to update each node in the tree.\n",
       "     * \n",
       "     * source is a d3 node that has position, etc.\n",
       "    */\n",
       "    function update(source, duration) {\n",
       "\n",
       "      width = $(\"#\"+div).width() - margin.right - margin.left,\n",
       "      height = $(\"#\"+div).height() - margin.top - margin.bottom;\n",
       "\n",
       "      tree.size([width,height]);\n",
       "      d3.select(\"#\"+div).attr(\"width\", width + margin.right + margin.left)\n",
       "            .attr(\"height\", height + margin.top + margin.bottom);\n",
       "      d3.select(\"#\"+div+\"_svg\").attr(\"width\", width + margin.right + margin.left)\n",
       "             .attr(\"height\", height + margin.top + margin.bottom);\n",
       "\n",
       "\n",
       "      // Compute the new tree layout.\n",
       "      var nodes = tree.nodes(root).reverse(),\n",
       "          links = tree.links(nodes);\n",
       "\n",
       "\n",
       "      // Update the nodes…\n",
       "      var node = svg.selectAll(\"g.node\")\n",
       "          .data(nodes, function(d) { return d.id || (d.id = ++i); });\n",
       "\n",
       "      // Enter any new nodes at the parent's previous position.\n",
       "      var nodeEnter = node.enter().append(\"g\")\n",
       "          .attr(\"class\", \"node\")\n",
       "          .attr(\"transform\", function(d) { return \"translate(\" + source.x0 + \",\" + source.y0 + \")\"; })\n",
       "          .on(\"click\", click)\n",
       "\n",
       "      nodeEnter.append(\"circle\")\n",
       "          .attr(\"r\", \"10px\")\n",
       "          .attr(\"style\", function(d) { return treeData.style[d.dataID]; } )\n",
       "\n",
       "      var tbox = nodeEnter.append(\"text\")\n",
       "          .attr(\"y\", 25)\n",
       "          .attr(\"text-anchor\", \"middle\")\n",
       "          //.text( function(d) { return treeData.text[d.dataID]; } )\n",
       "          .style(\"fill-opacity\", 1e-6);\n",
       "\n",
       "      tbox.each( function(d) {\n",
       "          var el = d3.select(this)\n",
       "          var text = treeData.text[d.dataID];\n",
       "          var lines = text.split('\\n');\n",
       "          for (var i = 0; i < lines.length; i++) {\n",
       "              var tspan = el.append(\"tspan\").text(lines[i]);\n",
       "              if (i > 0) {\n",
       "                  tspan.attr(\"x\", 0).attr(\"dy\", \"1.2em\");\n",
       "              }\n",
       "          }\n",
       "      });\n",
       "\n",
       "      //tooltip\n",
       "      nodeEnter.append(\"title\").text( function(d) { return treeData.tooltip[d.dataID];} );\n",
       "\n",
       "      // Transition nodes to their new position.\n",
       "      var nodeUpdate = node.transition()\n",
       "          .duration(duration)\n",
       "          .attr(\"transform\", function(d) { return \"translate(\" + d.x + \",\" + d.y + \")\"; });\n",
       "\n",
       "      nodeUpdate.select(\"text\")\n",
       "          .style(\"fill-opacity\", 1);\n",
       "\n",
       "      // Transition exiting nodes to the parent's new position.\n",
       "      var nodeExit = node.exit().transition()\n",
       "          .duration(duration)\n",
       "          .attr(\"transform\", function(d) { return \"translate(\" + source.x + \",\" + source.y + \")\"; })\n",
       "          .remove();\n",
       "\n",
       "      nodeExit.select(\"text\")\n",
       "          .style(\"fill-opacity\", 1e-6);\n",
       "\n",
       "      // Update the links…\n",
       "      var link = svg.selectAll(\"path.link\")\n",
       "          .data(links, function(d) { return d.target.id; });\n",
       "\n",
       "      // Enter any new links at the parent's previous position.\n",
       "      // XXX link width should be based on transition data, not node data\n",
       "      link.enter().insert(\"path\", \"g\")\n",
       "          .attr(\"class\", \"link\")\n",
       "          .attr(\"style\", function(d) {\n",
       "              var ls = treeData.link_style[d.target.dataID];\n",
       "              return ls;\n",
       "          } )\n",
       "          .attr(\"d\", function(d) {\n",
       "            var o = {x: source.x0, y: source.y0};\n",
       "            return diagonal({source: o, target: o});\n",
       "          });\n",
       "\n",
       "      // Transition links to their new position.\n",
       "      link.transition()\n",
       "          .duration(duration)\n",
       "          .attr(\"d\", diagonal);\n",
       "\n",
       "      // Transition exiting nodes to the parent's new position.\n",
       "      link.exit().transition()\n",
       "          .duration(duration)\n",
       "          .attr(\"d\", function(d) {\n",
       "            var o = {x: source.x, y: source.y};\n",
       "            return diagonal({source: o, target: o});\n",
       "          })\n",
       "          .remove();\n",
       "\n",
       "      // Stash the old positions for transition.\n",
       "      nodes.forEach(function(d) {\n",
       "        d.x0 = d.x;\n",
       "        d.y0 = d.y;\n",
       "      });\n",
       "    }\n",
       "\n",
       "    // Toggle children on click.\n",
       "    function click(d) {\n",
       "      if (d.children) {\n",
       "        d._children = d.children;\n",
       "        d.children = null;\n",
       "      } else if (d._children) {\n",
       "        d.children = d._children;\n",
       "        d._children = null;\n",
       "      } else {\n",
       "        initializeChildren(d, 1);\n",
       "      }\n",
       "      update(d, 750);\n",
       "    }\n",
       "\n",
       "}\n",
       "\n",
       "        })();\n",
       "    </script>\n",
       "    <p class=\"d3twarn\">\n",
       "    Attempting to display the tree. If the tree is large, this may take some time.\n",
       "    </p>\n",
       "    <p class=\"d3twarn\">\n",
       "    Note: D3Trees.jl requires an internet connection. If no tree appears, please check your connection. To help fix this, please see <a href=\"https://github.com/sisl/D3Trees.jl/issues/10\">this issue</a>. You may also diagnose errors with the javascript console (Ctrl-Shift-J in chrome).\n",
       "    </p>\n",
       "    </div>\n",
       "    </body>\n",
       "    </html>\n",
       "\n"
      ]
     },
     "metadata": {},
     "execution_count": 3
    }
   ],
   "cell_type": "code",
   "source": [
    "TypeTree(PowerSystemType)"
   ],
   "metadata": {},
   "execution_count": 3
  },
  {
   "outputs": [],
   "cell_type": "markdown",
   "source": [
    "### Composite Types\n",
    "Julia composite types provide a useful way unify the representation of technical and\n",
    "economic capabilities of certian components. For example, the standard defintion of a\n",
    "thermal generator (`ThermalStandard`) contains `tech` and `op_cost` fields:"
   ],
   "metadata": {}
  },
  {
   "outputs": [
    {
     "name": "stdout",
     "output_type": "stream",
     "text": [
      "mutable struct ThermalStandard\n",
      "    name::String\n",
      "    available::Bool\n",
      "    bus::Bus\n",
      "    activepower::Float64\n",
      "    reactivepower::Float64\n",
      "    tech::Union{Nothing, TechThermal}\n",
      "    op_cost::ThreePartCost\n",
      "    services::Array{Service,1}\n",
      "    ext::Dict{String,Any}\n",
      "    _forecasts::InfrastructureSystems.Forecasts\n",
      "    internal::InfrastructureSystems.InfrastructureSystemsInternal\n",
      "end\n",
      "mutable struct TechThermal\n",
      "    rating::Float64\n",
      "    primemover::PowerSystems.PrimeMovers\n",
      "    fuel::PowerSystems.ThermalFuels\n",
      "    activepowerlimits::NamedTuple{(:min, :max),Tuple{Float64,Float64}}\n",
      "    reactivepowerlimits::Union{Nothing, NamedTuple{(:min, :max),Tuple{Float64,Float64}}}\n",
      "    ramplimits::Union{Nothing, NamedTuple{(:up, :down),Tuple{Float64,Float64}}}\n",
      "    timelimits::Union{Nothing, NamedTuple{(:up, :down),Tuple{Float64,Float64}}}\n",
      "    internal::InfrastructureSystems.InfrastructureSystemsInternal\n",
      "end\n",
      "mutable struct ThreePartCost\n",
      "    variable::PowerSystems.VariableCost\n",
      "    fixed::Float64\n",
      "    startup::Float64\n",
      "    shutdn::Float64\n",
      "    _forecasts::InfrastructureSystems.Forecasts\n",
      "    internal::InfrastructureSystems.InfrastructureSystemsInternal\n",
      "end\n"
     ]
    }
   ],
   "cell_type": "code",
   "source": [
    "print_struct(ThermalStandard)\n",
    "print_struct(TechThermal)\n",
    "print_struct(ThreePartCost)"
   ],
   "metadata": {},
   "execution_count": 4
  },
  {
   "outputs": [],
   "cell_type": "markdown",
   "source": [
    "### `Forecasts`\n",
    "Every `Component` has a `_forecasts::InfrastructureSystems.Forecasts` field (even composite types).\n",
    "`Forecasts` are used to hold time series information that describes the temporally dependent\n",
    "data of fields within the same struct. For example, the `ThermalStandard._forecasts` field can\n",
    "describe other fields in the struct (`available`, `activepower`, `reactivepower`), while\n",
    "the `ThermalStandard.tech._forecasts` holds data for `rating` and other `TechThermal` fields."
   ],
   "metadata": {}
  },
  {
   "outputs": [],
   "cell_type": "markdown",
   "source": [
    "`Forecast`s themselves can take the form of the following:"
   ],
   "metadata": {}
  },
  {
   "outputs": [
    {
     "output_type": "execute_result",
     "data": {
      "text/plain": "Forecast\n├──ScenarioBased\n├──Probabilistic\n└──Deterministic\n",
      "text/html": [
       "    <!DOCTYPE html>\n",
       "    <html>\n",
       "    <head>\n",
       "        <meta charset=\"UTF-8\">\n",
       "        <title>Julia D3Tree</title>\n",
       "    </head>\n",
       "    <body>\n",
       "    <div id=\"treevisr35Q1in7\">\n",
       "    <style>\n",
       "        \n",
       ".node {\n",
       "    cursor: pointer;\n",
       "}\n",
       "\n",
       ".node circle {\n",
       "\t  fill: #fff;\n",
       "\t  stroke: steelblue;\n",
       "\t  stroke-width: 3px;\n",
       "      r: 10;\n",
       "}\n",
       "\n",
       ".node rect {\n",
       "\t  fill: #fff;\n",
       "\t  stroke: steelblue;\n",
       "\t  stroke-width: 3px;\n",
       "      x: -10;\n",
       "      y: -10;\n",
       "      width: 20;\n",
       "      height: 20;\n",
       "}\n",
       "\n",
       ".node path {\n",
       "    fill: #ffffff;\n",
       "    /* stroke: steelblue; */\n",
       "    stroke-width: 2px;\n",
       "}\n",
       ".node text {\n",
       "    font-family: Arial, Helvetica, sans-serif;\n",
       "    font-style: normal;\n",
       "    font-size: 12px;\n",
       "}\n",
       ".link /* path */ {\n",
       "    fill: none;\n",
       "    stroke: #cccccc;\n",
       "    stroke-width: 2px;\n",
       "}\n",
       ".link text {\n",
       "    font-family: Arial, Helvetica, sans-serif;\n",
       "    font-style: normal;\n",
       "    font-size: 12px;\n",
       "}\n",
       ".hover text{\n",
       "    font-family: Arial, Helvetica, sans-serif;\n",
       "    font-style: normal;\n",
       "    font-size: 12px;\n",
       "}\n",
       "\n",
       "/*\n",
       ".svg-container {\n",
       "    display: inline-block;\n",
       "    position: relative;\n",
       "    width: 100%;\n",
       "    padding-bottom: 100%;\n",
       "    vertical-align: top;\n",
       "    overflow: hidden;\n",
       "}\n",
       ".svg-content-responsive {\n",
       "    display: inline-block;\n",
       "    position: absolute;\n",
       "    top: 10px;\n",
       "    left: 0;\n",
       "}\n",
       "*/\n",
       "\n",
       "    </style>\n",
       "    <script>\n",
       "       (function(){\n",
       "        var treeData = {\"children\":[[2,3,4],[],[],[]],\"text\":[\"Forecast\",\"ScenarioBased\",\"Probabilistic\",\"Deterministic\"],\"tooltip\":[\"Abstract\",\"label\\nscenario_count\\ndata\",\"label\\npercentiles\\ndata\",\"label\\ndata\"],\"style\":[\"\",\"\",\"\",\"\"],\"link_style\":[\"\",\"\",\"\",\"\"],\"title\":\"Julia D3Tree\",\"options\":{\"tooltip\":[\"Abstract\",\"label\\nscenario_count\\ndata\",\"label\\npercentiles\\ndata\",\"label\\ndata\"],\"text\":[\"Forecast\",\"ScenarioBased\",\"Probabilistic\",\"Deterministic\"],\"init_expand\":1}};\n",
       "        var rootID = 1-1;\n",
       "        var div = \"treevisr35Q1in7\";\n",
       "        var initExpand = 1\n",
       "        var initDuration = 750\n",
       "        var svgHeight = 600\n",
       "        if (typeof $ === 'undefined') {\n",
       "    loadScript(\"https://code.jquery.com/jquery-3.1.1.min.js\", run);\n",
       "} else {\n",
       "    run();\n",
       "}\n",
       "\n",
       "function run() {\n",
       "    if (typeof d3 === 'undefined') {\n",
       "        loadScript(\"https://d3js.org/d3.v3.js\", showTree);\n",
       "    } else {\n",
       "        showTree();\n",
       "    }\n",
       "}\n",
       "\n",
       "function loadScript(url, callback)\n",
       "{\n",
       "    console.log(\"starting script load...\")\n",
       "    // Adding the script tag to the head as suggested before\n",
       "    var head = document.getElementsByTagName('head')[0];\n",
       "    var script = document.createElement('script');\n",
       "    script.type = 'text/javascript';\n",
       "    script.src = url;\n",
       "\n",
       "    // Then bind the event to the callback function.\n",
       "    // There are several events for cross browser compatibility.\n",
       "    script.onreadystatechange = callback;\n",
       "    script.onload = callback;\n",
       "\n",
       "    // Fire the loading\n",
       "    head.appendChild(script);\n",
       "}\n",
       "\n",
       "function showTree() {\n",
       "        \n",
       "    // var margin = {top: 20, right: 120, bottom: 20, left: 120},\n",
       "    var margin = {top: 20, right: 120, bottom: 80, left: 120},\n",
       "        width = $(\"#\"+div).width() - margin.right - margin.left,\n",
       "        height = svgHeight - margin.top - margin.bottom;\n",
       "        // TODO make height a parameter of TreeVisualizer\n",
       "\n",
       "    var i = 0,\n",
       "        root;\n",
       "\n",
       "    var tree = d3.layout.tree()\n",
       "        .size([width, height]);\n",
       "\n",
       "    var diagonal = d3.svg.diagonal();\n",
       "        //.projection(function(d) { return [d.y, d.x]; });\n",
       "        // uncomment above to make the tree go horizontally\n",
       "\n",
       "    // see http://stackoverflow.com/questions/16265123/resize-svg-when-window-is-resized-in-d3-js\n",
       "    if (d3.select(\"#\"+div+\"_svg\").empty()) {\n",
       "        $(\".d3twarn\").remove();\n",
       "        d3.select(\"#\"+div).append(\"svg\")\n",
       "            .attr(\"id\", div+\"_svg\")\n",
       "            .attr(\"width\", width + margin.right + margin.left)\n",
       "            .attr(\"height\", height + margin.top + margin.bottom);\n",
       "    }\n",
       "\n",
       "    d3.select(\"#\"+div+\"_svg\").selectAll(\"*\").remove();\n",
       "\n",
       "    var svg = d3.select(\"#\"+div+\"_svg\")\n",
       "        .append(\"g\")\n",
       "            .attr(\"transform\", \"translate(\" + margin.left + \",\" + margin.top + \")\");\n",
       "\n",
       "    // console.log(\"tree data:\");\n",
       "    // console.log(treeData[rootID]);\n",
       "    root = createDisplayNode(rootID, initExpand);\n",
       "    root.x0 = width / 2;\n",
       "    root.y0 = 0;\n",
       "\n",
       "    update(root, initDuration);\n",
       "    console.log(\"tree should appear\");\n",
       "\n",
       "    function createDisplayNode(id, expandLevel) {\n",
       "      var dnode = {\"dataID\":id,\n",
       "                   \"children\": null,\n",
       "                   \"_children\":null};\n",
       "      if (expandLevel > 0) {\n",
       "        initializeChildren(dnode, expandLevel);\n",
       "      }\n",
       "      return dnode;\n",
       "    }\n",
       "\n",
       "    function initializeChildren(d, expandLevel) {\n",
       "      // create children\n",
       "      var children = treeData.children[d.dataID];\n",
       "      d.children = [];\n",
       "      if (children) {\n",
       "        for (var i = 0; i < children.length; i++) {\n",
       "          var cid = children[i]-1;\n",
       "          d.children.push(createDisplayNode(cid, expandLevel-1));\n",
       "        }\n",
       "      }\n",
       "    }\n",
       "\n",
       "    /**\n",
       "     * Recursively called to update each node in the tree.\n",
       "     * \n",
       "     * source is a d3 node that has position, etc.\n",
       "    */\n",
       "    function update(source, duration) {\n",
       "\n",
       "      width = $(\"#\"+div).width() - margin.right - margin.left,\n",
       "      height = $(\"#\"+div).height() - margin.top - margin.bottom;\n",
       "\n",
       "      tree.size([width,height]);\n",
       "      d3.select(\"#\"+div).attr(\"width\", width + margin.right + margin.left)\n",
       "            .attr(\"height\", height + margin.top + margin.bottom);\n",
       "      d3.select(\"#\"+div+\"_svg\").attr(\"width\", width + margin.right + margin.left)\n",
       "             .attr(\"height\", height + margin.top + margin.bottom);\n",
       "\n",
       "\n",
       "      // Compute the new tree layout.\n",
       "      var nodes = tree.nodes(root).reverse(),\n",
       "          links = tree.links(nodes);\n",
       "\n",
       "\n",
       "      // Update the nodes…\n",
       "      var node = svg.selectAll(\"g.node\")\n",
       "          .data(nodes, function(d) { return d.id || (d.id = ++i); });\n",
       "\n",
       "      // Enter any new nodes at the parent's previous position.\n",
       "      var nodeEnter = node.enter().append(\"g\")\n",
       "          .attr(\"class\", \"node\")\n",
       "          .attr(\"transform\", function(d) { return \"translate(\" + source.x0 + \",\" + source.y0 + \")\"; })\n",
       "          .on(\"click\", click)\n",
       "\n",
       "      nodeEnter.append(\"circle\")\n",
       "          .attr(\"r\", \"10px\")\n",
       "          .attr(\"style\", function(d) { return treeData.style[d.dataID]; } )\n",
       "\n",
       "      var tbox = nodeEnter.append(\"text\")\n",
       "          .attr(\"y\", 25)\n",
       "          .attr(\"text-anchor\", \"middle\")\n",
       "          //.text( function(d) { return treeData.text[d.dataID]; } )\n",
       "          .style(\"fill-opacity\", 1e-6);\n",
       "\n",
       "      tbox.each( function(d) {\n",
       "          var el = d3.select(this)\n",
       "          var text = treeData.text[d.dataID];\n",
       "          var lines = text.split('\\n');\n",
       "          for (var i = 0; i < lines.length; i++) {\n",
       "              var tspan = el.append(\"tspan\").text(lines[i]);\n",
       "              if (i > 0) {\n",
       "                  tspan.attr(\"x\", 0).attr(\"dy\", \"1.2em\");\n",
       "              }\n",
       "          }\n",
       "      });\n",
       "\n",
       "      //tooltip\n",
       "      nodeEnter.append(\"title\").text( function(d) { return treeData.tooltip[d.dataID];} );\n",
       "\n",
       "      // Transition nodes to their new position.\n",
       "      var nodeUpdate = node.transition()\n",
       "          .duration(duration)\n",
       "          .attr(\"transform\", function(d) { return \"translate(\" + d.x + \",\" + d.y + \")\"; });\n",
       "\n",
       "      nodeUpdate.select(\"text\")\n",
       "          .style(\"fill-opacity\", 1);\n",
       "\n",
       "      // Transition exiting nodes to the parent's new position.\n",
       "      var nodeExit = node.exit().transition()\n",
       "          .duration(duration)\n",
       "          .attr(\"transform\", function(d) { return \"translate(\" + source.x + \",\" + source.y + \")\"; })\n",
       "          .remove();\n",
       "\n",
       "      nodeExit.select(\"text\")\n",
       "          .style(\"fill-opacity\", 1e-6);\n",
       "\n",
       "      // Update the links…\n",
       "      var link = svg.selectAll(\"path.link\")\n",
       "          .data(links, function(d) { return d.target.id; });\n",
       "\n",
       "      // Enter any new links at the parent's previous position.\n",
       "      // XXX link width should be based on transition data, not node data\n",
       "      link.enter().insert(\"path\", \"g\")\n",
       "          .attr(\"class\", \"link\")\n",
       "          .attr(\"style\", function(d) {\n",
       "              var ls = treeData.link_style[d.target.dataID];\n",
       "              return ls;\n",
       "          } )\n",
       "          .attr(\"d\", function(d) {\n",
       "            var o = {x: source.x0, y: source.y0};\n",
       "            return diagonal({source: o, target: o});\n",
       "          });\n",
       "\n",
       "      // Transition links to their new position.\n",
       "      link.transition()\n",
       "          .duration(duration)\n",
       "          .attr(\"d\", diagonal);\n",
       "\n",
       "      // Transition exiting nodes to the parent's new position.\n",
       "      link.exit().transition()\n",
       "          .duration(duration)\n",
       "          .attr(\"d\", function(d) {\n",
       "            var o = {x: source.x, y: source.y};\n",
       "            return diagonal({source: o, target: o});\n",
       "          })\n",
       "          .remove();\n",
       "\n",
       "      // Stash the old positions for transition.\n",
       "      nodes.forEach(function(d) {\n",
       "        d.x0 = d.x;\n",
       "        d.y0 = d.y;\n",
       "      });\n",
       "    }\n",
       "\n",
       "    // Toggle children on click.\n",
       "    function click(d) {\n",
       "      if (d.children) {\n",
       "        d._children = d.children;\n",
       "        d.children = null;\n",
       "      } else if (d._children) {\n",
       "        d.children = d._children;\n",
       "        d._children = null;\n",
       "      } else {\n",
       "        initializeChildren(d, 1);\n",
       "      }\n",
       "      update(d, 750);\n",
       "    }\n",
       "\n",
       "}\n",
       "\n",
       "        })();\n",
       "    </script>\n",
       "    <p class=\"d3twarn\">\n",
       "    Attempting to display the tree. If the tree is large, this may take some time.\n",
       "    </p>\n",
       "    <p class=\"d3twarn\">\n",
       "    Note: D3Trees.jl requires an internet connection. If no tree appears, please check your connection. To help fix this, please see <a href=\"https://github.com/sisl/D3Trees.jl/issues/10\">this issue</a>. You may also diagnose errors with the javascript console (Ctrl-Shift-J in chrome).\n",
       "    </p>\n",
       "    </div>\n",
       "    </body>\n",
       "    </html>\n",
       "\n"
      ]
     },
     "metadata": {},
     "execution_count": 5
    }
   ],
   "cell_type": "code",
   "source": [
    "TypeTree(Forecast)"
   ],
   "metadata": {},
   "execution_count": 5
  },
  {
   "outputs": [],
   "cell_type": "markdown",
   "source": [
    "In each case, the forecast contains fields for `label` and `data` to identify the `Component`\n",
    "field that the forecast describes, and the time series `data`. For example:"
   ],
   "metadata": {}
  },
  {
   "outputs": [
    {
     "name": "stdout",
     "output_type": "stream",
     "text": [
      "mutable struct Deterministic\n",
      "    label::String\n",
      "    data::TimeSeries.TimeArray\n",
      "end\n"
     ]
    }
   ],
   "cell_type": "code",
   "source": [
    "print_struct(Deterministic)"
   ],
   "metadata": {},
   "execution_count": 6
  },
  {
   "outputs": [],
   "cell_type": "markdown",
   "source": [
    "Examples of how to create and add forecasts to system can be found in the\n",
    "[Add Forecasts Example](../PowerSystems.jl Examples/add_forecasts.ipynb)"
   ],
   "metadata": {}
  },
  {
   "outputs": [],
   "cell_type": "markdown",
   "source": [
    "### System\n",
    "The `System` object collects all of the individual components into a single struct along\n",
    "with some metadta about the system itself (e.g. `basepower`)"
   ],
   "metadata": {}
  },
  {
   "outputs": [
    {
     "name": "stdout",
     "output_type": "stream",
     "text": [
      " struct System\n",
      "    data::InfrastructureSystems.SystemData\n",
      "    basepower::Float64\n",
      "    bus_numbers::Set{Int64}\n",
      "    runchecks::Bool\n",
      "    internal::InfrastructureSystems.InfrastructureSystemsInternal\n",
      "end\n"
     ]
    }
   ],
   "cell_type": "code",
   "source": [
    "print_struct(System)"
   ],
   "metadata": {},
   "execution_count": 7
  },
  {
   "outputs": [],
   "cell_type": "markdown",
   "source": [
    "## Basic example\n",
    "PowerSystems contains a few basic data files (mostly for testing and demosntration)."
   ],
   "metadata": {}
  },
  {
   "outputs": [
    {
     "output_type": "execute_result",
     "data": {
      "text/plain": "5-element Array{Bus,1}:\n Bus(1, \"nodeA\", PowerSystems.PV, 0.0, 1.0, (min = 0.9, max = 1.05), 230.0, Dict{String,Any}(), InfrastructureSystems.InfrastructureSystemsInternal(UUID(\"f5584eda-cf66-4108-8233-8092352255bf\"), nothing)) \n Bus(2, \"nodeB\", PowerSystems.PQ, 0.0, 1.0, (min = 0.9, max = 1.05), 230.0, Dict{String,Any}(), InfrastructureSystems.InfrastructureSystemsInternal(UUID(\"e8bffe2c-4bab-40c4-97e6-2d56cb79bb2f\"), nothing)) \n Bus(3, \"nodeC\", PowerSystems.PV, 0.0, 1.0, (min = 0.9, max = 1.05), 230.0, Dict{String,Any}(), InfrastructureSystems.InfrastructureSystemsInternal(UUID(\"9a383d2b-ef56-4cdf-8724-2016f429e4c0\"), nothing)) \n Bus(4, \"nodeD\", PowerSystems.REF, 0.0, 1.0, (min = 0.9, max = 1.05), 230.0, Dict{String,Any}(), InfrastructureSystems.InfrastructureSystemsInternal(UUID(\"c4522ebb-71de-4317-b563-8b18d4d286c4\"), nothing))\n Bus(5, \"nodeE\", PowerSystems.PV, 0.0, 1.0, (min = 0.9, max = 1.05), 230.0, Dict{String,Any}(), InfrastructureSystems.InfrastructureSystemsInternal(UUID(\"b39d64b6-d5b8-4a4e-980c-ee8744de67bf\"), nothing)) "
     },
     "metadata": {},
     "execution_count": 8
    }
   ],
   "cell_type": "code",
   "source": [
    "BASE_DIR = abspath(joinpath(dirname(Base.find_package(\"PowerSystems\")), \"..\"))\n",
    "include(joinpath(BASE_DIR, \"test\", \"data_5bus_pu.jl\")) #.jl file containing 5-bus system data\n",
    "nodes_5 = nodes5() # function to create 5-bus buses"
   ],
   "metadata": {},
   "execution_count": 8
  },
  {
   "outputs": [],
   "cell_type": "markdown",
   "source": [
    "### Create a `System`"
   ],
   "metadata": {}
  },
  {
   "outputs": [
    {
     "output_type": "execute_result",
     "data": {
      "text/plain": "System\n======\nBase Power: 100.0\n\nComponents\n==========\nNum components: 22\n\n5×3 DataFrame. Omitted printing of 2 columns\n│ Row │ ConcreteType      │\n│     │ \u001b[90mString\u001b[39m            │\n├─────┼───────────────────┤\n│ 1   │ Bus               │\n│ 2   │ Line              │\n│ 3   │ PowerLoad         │\n│ 4   │ RenewableDispatch │\n│ 5   │ ThermalStandard   │\n\nForecasts\n=========\nResolution: 0 minutes\nHorizon: 0\nInitial Times: \nInterval: 0 seconds\nComponents with Forecasts: 0\nTotal Forecasts: 0\n",
      "text/html": [
       "<h1>System</h1>\n",
       "<p><b>Base Power</b>: 100.0</p>\n",
       "<h2>Components</h2>\n",
       "<p><b>Num components</b>: 22</p>\n",
       "<table class=\"data-frame\"><thead><tr><th></th><th>ConcreteType</th><th>SuperTypes</th><th>Count</th></tr><tr><th></th><th>String</th><th>String</th><th>Int64</th></tr></thead><tbody><p>5 rows × 3 columns</p><tr><th>1</th><td>Bus</td><td>Topology &lt;: Component &lt;: PowerSystemType &lt;: InfrastructureSystemsType &lt;: Any</td><td>5</td></tr><tr><th>2</th><td>Line</td><td>ACBranch &lt;: Branch &lt;: Device &lt;: Component &lt;: PowerSystemType &lt;: InfrastructureSystemsType &lt;: Any</td><td>6</td></tr><tr><th>3</th><td>PowerLoad</td><td>StaticLoad &lt;: ElectricLoad &lt;: StaticInjection &lt;: Device &lt;: Component &lt;: PowerSystemType &lt;: InfrastructureSystemsType &lt;: Any</td><td>3</td></tr><tr><th>4</th><td>RenewableDispatch</td><td>RenewableGen &lt;: Generator &lt;: StaticInjection &lt;: Device &lt;: Component &lt;: PowerSystemType &lt;: InfrastructureSystemsType &lt;: Any</td><td>3</td></tr><tr><th>5</th><td>ThermalStandard</td><td>ThermalGen &lt;: Generator &lt;: StaticInjection &lt;: Device &lt;: Component &lt;: PowerSystemType &lt;: InfrastructureSystemsType &lt;: Any</td><td>5</td></tr></tbody></table>\n",
       "\n",
       "<h2>Forecasts</h2>\n",
       "<p><b>Resolution</b>: 0 minutes</p>\n",
       "<p><b>Horizon</b>: 0</p>\n",
       "<p><b>Initial Times</b>: </p>\n",
       "<p><b>Interval</b>: 0 seconds</p>\n",
       "<p><b>Components with Forecasts</b>: 0</p>\n",
       "<p><b>Total Forecasts</b>: 0</p>\n"
      ]
     },
     "metadata": {},
     "execution_count": 9
    }
   ],
   "cell_type": "code",
   "source": [
    "sys = System(nodes_5,\n",
    "             vcat(thermal_generators5(nodes_5), renewable_generators5(nodes_5)),\n",
    "             loads5(nodes_5),\n",
    "             branches5(nodes_5),\n",
    "             nothing,\n",
    "             100.0,\n",
    "             nothing,\n",
    "             nothing)"
   ],
   "metadata": {},
   "execution_count": 9
  },
  {
   "outputs": [],
   "cell_type": "markdown",
   "source": [
    "### Accessing `System` Data\n",
    "PowerSystems provides functional interfaces to all data. The following examples outline\n",
    "the intended approach to accessing data expressed using PowerSystems."
   ],
   "metadata": {}
  },
  {
   "outputs": [],
   "cell_type": "markdown",
   "source": [
    "PowerSystems enforces unique `name` fields between components of a particular concrete type.\n",
    "So, in order to retreive a specific component, the user must specify the type of the component\n",
    "along with the name and system"
   ],
   "metadata": {}
  },
  {
   "outputs": [],
   "cell_type": "markdown",
   "source": [
    "#### Accessing components"
   ],
   "metadata": {}
  },
  {
   "outputs": [
    {
     "name": "stdout",
     "output_type": "stream",
     "text": [
      "get_component(Bus, sys, \"nodeA\") = Bus(1, \"nodeA\", PowerSystems.PV, 0.0, 1.0, (min = 0.9, max = 1.05), 230.0, Dict{String,Any}(), InfrastructureSystems.InfrastructureSystemsInternal(UUID(\"f5584eda-cf66-4108-8233-8092352255bf\"), nothing))\n",
      "get_component(Line, sys, \"1\") = Line(\"1\", true, 0.0, 0.0, Arc(Bus(1, \"nodeA\", PowerSystems.PV, 0.0, 1.0, (min = 0.9, max = 1.05), 230.0, Dict{String,Any}(), InfrastructureSystems.InfrastructureSystemsInternal(UUID(\"f5584eda-cf66-4108-8233-8092352255bf\"), nothing)), Bus(2, \"nodeB\", PowerSystems.PQ, 0.0, 1.0, (min = 0.9, max = 1.05), 230.0, Dict{String,Any}(), InfrastructureSystems.InfrastructureSystemsInternal(UUID(\"e8bffe2c-4bab-40c4-97e6-2d56cb79bb2f\"), nothing)), InfrastructureSystems.InfrastructureSystemsInternal(UUID(\"13006268-41b6-43a3-ae04-89c4e174ebb5\"), nothing)), 0.00281, 0.0281, (from = 0.00356, to = 0.00356), 2.0, (min = -0.7, max = 0.7), Service[], Dict{String,Any}(), InfrastructureSystems.Forecasts(Dict{InfrastructureSystems.ForecastKey,InfrastructureSystems.ForecastInternal}(), InfrastructureSystems.Hdf5TimeSeriesStorage(\"/var/folders/27/2jr8c7gn4j72fvrg4qt81zrw8w_711/T/jl_ANHpDb\")), InfrastructureSystems.InfrastructureSystemsInternal(UUID(\"4f4cd7d8-04da-4c21-a8e5-e828aa446cd3\"), nothing))\n"
     ]
    },
    {
     "output_type": "execute_result",
     "data": {
      "text/plain": "1 (Line):\n   name: 1\n   available: true\n   activepower_flow: 0.0\n   reactivepower_flow: 0.0\n   arc: Arc(Bus(1, \"nodeA\", PowerSystems.PV, 0.0, 1.0, (min = 0.9, max = 1.05), 230.0, Dict{String,Any}(), InfrastructureSystems.InfrastructureSystemsInternal(UUID(\"f5584eda-cf66-4108-8233-8092352255bf\"), nothing)), Bus(2, \"nodeB\", PowerSystems.PQ, 0.0, 1.0, (min = 0.9, max = 1.05), 230.0, Dict{String,Any}(), InfrastructureSystems.InfrastructureSystemsInternal(UUID(\"e8bffe2c-4bab-40c4-97e6-2d56cb79bb2f\"), nothing)), InfrastructureSystems.InfrastructureSystemsInternal(UUID(\"13006268-41b6-43a3-ae04-89c4e174ebb5\"), nothing))\n   r: 0.00281\n   x: 0.0281\n   b: (from = 0.00356, to = 0.00356)\n   rate: 2.0\n   anglelimits: (min = -0.7, max = 0.7)\n   services: Service[]\n   ext: Dict{String,Any}()\n   _forecasts: InfrastructureSystems.Forecasts(Dict{InfrastructureSystems.ForecastKey,InfrastructureSystems.ForecastInternal}(), InfrastructureSystems.Hdf5TimeSeriesStorage(\"/var/folders/27/2jr8c7gn4j72fvrg4qt81zrw8w_711/T/jl_ANHpDb\"))"
     },
     "metadata": {},
     "execution_count": 10
    }
   ],
   "cell_type": "code",
   "source": [
    "@show get_component(Bus, sys, \"nodeA\")\n",
    "@show get_component(Line, sys, \"1\")"
   ],
   "metadata": {},
   "execution_count": 10
  },
  {
   "outputs": [],
   "cell_type": "markdown",
   "source": [
    "Similarly, you can access all the components of a particular type: *note: the return type\n",
    "of get_components is a `FlattenIteratorWrapper`, so call `collect` to get an `Array`"
   ],
   "metadata": {}
  },
  {
   "outputs": [
    {
     "output_type": "execute_result",
     "data": {
      "text/plain": "5-element Array{Bus,1}:\n Bus(1, \"nodeA\", PowerSystems.PV, 0.0, 1.0, (min = 0.9, max = 1.05), 230.0, Dict{String,Any}(), InfrastructureSystems.InfrastructureSystemsInternal(UUID(\"f5584eda-cf66-4108-8233-8092352255bf\"), nothing)) \n Bus(3, \"nodeC\", PowerSystems.PV, 0.0, 1.0, (min = 0.9, max = 1.05), 230.0, Dict{String,Any}(), InfrastructureSystems.InfrastructureSystemsInternal(UUID(\"9a383d2b-ef56-4cdf-8724-2016f429e4c0\"), nothing)) \n Bus(5, \"nodeE\", PowerSystems.PV, 0.0, 1.0, (min = 0.9, max = 1.05), 230.0, Dict{String,Any}(), InfrastructureSystems.InfrastructureSystemsInternal(UUID(\"b39d64b6-d5b8-4a4e-980c-ee8744de67bf\"), nothing)) \n Bus(2, \"nodeB\", PowerSystems.PQ, 0.0, 1.0, (min = 0.9, max = 1.05), 230.0, Dict{String,Any}(), InfrastructureSystems.InfrastructureSystemsInternal(UUID(\"e8bffe2c-4bab-40c4-97e6-2d56cb79bb2f\"), nothing)) \n Bus(4, \"nodeD\", PowerSystems.REF, 0.0, 1.0, (min = 0.9, max = 1.05), 230.0, Dict{String,Any}(), InfrastructureSystems.InfrastructureSystemsInternal(UUID(\"c4522ebb-71de-4317-b563-8b18d4d286c4\"), nothing))"
     },
     "metadata": {},
     "execution_count": 11
    }
   ],
   "cell_type": "code",
   "source": [
    "get_components(Bus, sys) |> collect"
   ],
   "metadata": {},
   "execution_count": 11
  },
  {
   "outputs": [],
   "cell_type": "markdown",
   "source": [
    "`get_components` also works on abstract types:"
   ],
   "metadata": {}
  },
  {
   "outputs": [
    {
     "output_type": "execute_result",
     "data": {
      "text/plain": "6-element Array{Branch,1}:\n Line(\"4\", true, 0.0, 0.0, Arc(Bus(2, \"nodeB\", PowerSystems.PQ, 0.0, 1.0, (min = 0.9, max = 1.05), 230.0, Dict{String,Any}(), InfrastructureSystems.InfrastructureSystemsInternal(UUID(\"e8bffe2c-4bab-40c4-97e6-2d56cb79bb2f\"), nothing)), Bus(3, \"nodeC\", PowerSystems.PV, 0.0, 1.0, (min = 0.9, max = 1.05), 230.0, Dict{String,Any}(), InfrastructureSystems.InfrastructureSystemsInternal(UUID(\"9a383d2b-ef56-4cdf-8724-2016f429e4c0\"), nothing)), InfrastructureSystems.InfrastructureSystemsInternal(UUID(\"3d81c4df-1c94-492e-9378-66b785129754\"), nothing)), 0.00108, 0.0108, (from = 0.00926, to = 0.00926), 11.148, (min = -0.7, max = 0.7), Service[], Dict{String,Any}(), InfrastructureSystems.Forecasts(Dict{InfrastructureSystems.ForecastKey,InfrastructureSystems.ForecastInternal}(), InfrastructureSystems.Hdf5TimeSeriesStorage(\"/var/folders/27/2jr8c7gn4j72fvrg4qt81zrw8w_711/T/jl_ANHpDb\")), InfrastructureSystems.InfrastructureSystemsInternal(UUID(\"05f9bd78-0317-40ae-8081-b5774ab94223\"), nothing))\n Line(\"1\", true, 0.0, 0.0, Arc(Bus(1, \"nodeA\", PowerSystems.PV, 0.0, 1.0, (min = 0.9, max = 1.05), 230.0, Dict{String,Any}(), InfrastructureSystems.InfrastructureSystemsInternal(UUID(\"f5584eda-cf66-4108-8233-8092352255bf\"), nothing)), Bus(2, \"nodeB\", PowerSystems.PQ, 0.0, 1.0, (min = 0.9, max = 1.05), 230.0, Dict{String,Any}(), InfrastructureSystems.InfrastructureSystemsInternal(UUID(\"e8bffe2c-4bab-40c4-97e6-2d56cb79bb2f\"), nothing)), InfrastructureSystems.InfrastructureSystemsInternal(UUID(\"13006268-41b6-43a3-ae04-89c4e174ebb5\"), nothing)), 0.00281, 0.0281, (from = 0.00356, to = 0.00356), 2.0, (min = -0.7, max = 0.7), Service[], Dict{String,Any}(), InfrastructureSystems.Forecasts(Dict{InfrastructureSystems.ForecastKey,InfrastructureSystems.ForecastInternal}(), InfrastructureSystems.Hdf5TimeSeriesStorage(\"/var/folders/27/2jr8c7gn4j72fvrg4qt81zrw8w_711/T/jl_ANHpDb\")), InfrastructureSystems.InfrastructureSystemsInternal(UUID(\"4f4cd7d8-04da-4c21-a8e5-e828aa446cd3\"), nothing))   \n Line(\"5\", true, 0.0, 0.0, Arc(Bus(3, \"nodeC\", PowerSystems.PV, 0.0, 1.0, (min = 0.9, max = 1.05), 230.0, Dict{String,Any}(), InfrastructureSystems.InfrastructureSystemsInternal(UUID(\"9a383d2b-ef56-4cdf-8724-2016f429e4c0\"), nothing)), Bus(4, \"nodeD\", PowerSystems.REF, 0.0, 1.0, (min = 0.9, max = 1.05), 230.0, Dict{String,Any}(), InfrastructureSystems.InfrastructureSystemsInternal(UUID(\"c4522ebb-71de-4317-b563-8b18d4d286c4\"), nothing)), InfrastructureSystems.InfrastructureSystemsInternal(UUID(\"6ac6ffe5-6834-49fc-8fb6-8ede995b7fa8\"), nothing)), 0.00297, 0.0297, (from = 0.00337, to = 0.00337), 40.53, (min = -0.7, max = 0.7), Service[], Dict{String,Any}(), InfrastructureSystems.Forecasts(Dict{InfrastructureSystems.ForecastKey,InfrastructureSystems.ForecastInternal}(), InfrastructureSystems.Hdf5TimeSeriesStorage(\"/var/folders/27/2jr8c7gn4j72fvrg4qt81zrw8w_711/T/jl_ANHpDb\")), InfrastructureSystems.InfrastructureSystemsInternal(UUID(\"a74b8ec8-ace0-4124-9998-6ab7b0e0481c\"), nothing))\n Line(\"2\", true, 0.0, 0.0, Arc(Bus(1, \"nodeA\", PowerSystems.PV, 0.0, 1.0, (min = 0.9, max = 1.05), 230.0, Dict{String,Any}(), InfrastructureSystems.InfrastructureSystemsInternal(UUID(\"f5584eda-cf66-4108-8233-8092352255bf\"), nothing)), Bus(4, \"nodeD\", PowerSystems.REF, 0.0, 1.0, (min = 0.9, max = 1.05), 230.0, Dict{String,Any}(), InfrastructureSystems.InfrastructureSystemsInternal(UUID(\"c4522ebb-71de-4317-b563-8b18d4d286c4\"), nothing)), InfrastructureSystems.InfrastructureSystemsInternal(UUID(\"f22112d2-e36b-4653-99d8-b915c7ab9d01\"), nothing)), 0.00304, 0.0304, (from = 0.00329, to = 0.00329), 2.0, (min = -0.7, max = 0.7), Service[], Dict{String,Any}(), InfrastructureSystems.Forecasts(Dict{InfrastructureSystems.ForecastKey,InfrastructureSystems.ForecastInternal}(), InfrastructureSystems.Hdf5TimeSeriesStorage(\"/var/folders/27/2jr8c7gn4j72fvrg4qt81zrw8w_711/T/jl_ANHpDb\")), InfrastructureSystems.InfrastructureSystemsInternal(UUID(\"865e49ce-6eed-4939-ab59-b2d83ff60b1a\"), nothing))  \n Line(\"6\", true, 0.0, 0.0, Arc(Bus(4, \"nodeD\", PowerSystems.REF, 0.0, 1.0, (min = 0.9, max = 1.05), 230.0, Dict{String,Any}(), InfrastructureSystems.InfrastructureSystemsInternal(UUID(\"c4522ebb-71de-4317-b563-8b18d4d286c4\"), nothing)), Bus(5, \"nodeE\", PowerSystems.PV, 0.0, 1.0, (min = 0.9, max = 1.05), 230.0, Dict{String,Any}(), InfrastructureSystems.InfrastructureSystemsInternal(UUID(\"b39d64b6-d5b8-4a4e-980c-ee8744de67bf\"), nothing)), InfrastructureSystems.InfrastructureSystemsInternal(UUID(\"fe2cf664-6c81-4585-a302-afe0a7a234bd\"), nothing)), 0.00297, 0.0297, (from = 0.00337, to = 0.00337), 2.0, (min = -0.7, max = 0.7), Service[], Dict{String,Any}(), InfrastructureSystems.Forecasts(Dict{InfrastructureSystems.ForecastKey,InfrastructureSystems.ForecastInternal}(), InfrastructureSystems.Hdf5TimeSeriesStorage(\"/var/folders/27/2jr8c7gn4j72fvrg4qt81zrw8w_711/T/jl_ANHpDb\")), InfrastructureSystems.InfrastructureSystemsInternal(UUID(\"61c46141-e3f4-4e77-8771-1db368f24552\"), nothing))  \n Line(\"3\", true, 0.0, 0.0, Arc(Bus(1, \"nodeA\", PowerSystems.PV, 0.0, 1.0, (min = 0.9, max = 1.05), 230.0, Dict{String,Any}(), InfrastructureSystems.InfrastructureSystemsInternal(UUID(\"f5584eda-cf66-4108-8233-8092352255bf\"), nothing)), Bus(5, \"nodeE\", PowerSystems.PV, 0.0, 1.0, (min = 0.9, max = 1.05), 230.0, Dict{String,Any}(), InfrastructureSystems.InfrastructureSystemsInternal(UUID(\"b39d64b6-d5b8-4a4e-980c-ee8744de67bf\"), nothing)), InfrastructureSystems.InfrastructureSystemsInternal(UUID(\"ec8f88aa-dd8b-4415-b4ed-9a2171eafa92\"), nothing)), 0.00064, 0.0064, (from = 0.01563, to = 0.01563), 18.812, (min = -0.7, max = 0.7), Service[], Dict{String,Any}(), InfrastructureSystems.Forecasts(Dict{InfrastructureSystems.ForecastKey,InfrastructureSystems.ForecastInternal}(), InfrastructureSystems.Hdf5TimeSeriesStorage(\"/var/folders/27/2jr8c7gn4j72fvrg4qt81zrw8w_711/T/jl_ANHpDb\")), InfrastructureSystems.InfrastructureSystemsInternal(UUID(\"16ba1f3f-3450-4697-9759-3593e65a8e59\"), nothing))"
     },
     "metadata": {},
     "execution_count": 12
    }
   ],
   "cell_type": "code",
   "source": [
    "get_components(Branch,sys) |> collect"
   ],
   "metadata": {},
   "execution_count": 12
  },
  {
   "outputs": [],
   "cell_type": "markdown",
   "source": [
    "The fields within a component can be accessed using the `get_*` functions:"
   ],
   "metadata": {}
  },
  {
   "outputs": [
    {
     "name": "stdout",
     "output_type": "stream",
     "text": [
      "get_name(bus1) = \"nodeA\"\n",
      "get_voltage(bus1) = 1.0\n"
     ]
    }
   ],
   "cell_type": "code",
   "source": [
    "bus1 = get_component(Bus, sys, \"nodeA\")\n",
    "@show get_name(bus1);\n",
    "@show get_voltage(bus1);"
   ],
   "metadata": {},
   "execution_count": 13
  },
  {
   "outputs": [],
   "cell_type": "markdown",
   "source": [
    "#### Accessing `Forecast`s"
   ],
   "metadata": {}
  },
  {
   "outputs": [],
   "cell_type": "markdown",
   "source": [
    "First we need to add some forecasts to the `System`"
   ],
   "metadata": {}
  },
  {
   "outputs": [],
   "cell_type": "code",
   "source": [
    "loads = collect(get_components(PowerLoad, sys))\n",
    "for (l, ts) in zip(loads, load_timeseries_DA[2])\n",
    "    add_forecast!(sys, l, Deterministic(\"activepower\", ts))\n",
    "end"
   ],
   "metadata": {},
   "execution_count": 14
  },
  {
   "outputs": [],
   "cell_type": "markdown",
   "source": [
    "Now that the system has some forecasts, we can see all of them:"
   ],
   "metadata": {}
  },
  {
   "outputs": [
    {
     "output_type": "execute_result",
     "data": {
      "text/plain": "3-element Array{Any,1}:\n Deterministic(\"activepower\", 24×1 TimeSeries.TimeArray{Float64,1,DateTime,Array{Float64,1}} 2024-01-02T00:00:00 to 2024-01-02T23:00:00)\n Deterministic(\"activepower\", 24×1 TimeSeries.TimeArray{Float64,1,DateTime,Array{Float64,1}} 2024-01-02T00:00:00 to 2024-01-02T23:00:00)\n Deterministic(\"activepower\", 24×1 TimeSeries.TimeArray{Float64,1,DateTime,Array{Float64,1}} 2024-01-02T00:00:00 to 2024-01-02T23:00:00)"
     },
     "metadata": {},
     "execution_count": 15
    }
   ],
   "cell_type": "code",
   "source": [
    "iterate_forecasts(sys) |> collect"
   ],
   "metadata": {},
   "execution_count": 15
  },
  {
   "outputs": [],
   "cell_type": "markdown",
   "source": [
    "If we want to access a specific forecast for a specific component, we need to specify:\n",
    " - Forecast type\n",
    " - `component`\n",
    " - initial_time\n",
    " - label\n",
    "\n",
    "We can find the uinique set of initial times of all the forecasts in the system:"
   ],
   "metadata": {}
  },
  {
   "outputs": [
    {
     "output_type": "execute_result",
     "data": {
      "text/plain": "1-element Array{DateTime,1}:\n 2024-01-02T00:00:00"
     },
     "metadata": {},
     "execution_count": 16
    }
   ],
   "cell_type": "code",
   "source": [
    "get_forecast_initial_times(sys)"
   ],
   "metadata": {},
   "execution_count": 16
  },
  {
   "outputs": [],
   "cell_type": "markdown",
   "source": [
    "Or for a specific component:"
   ],
   "metadata": {}
  },
  {
   "outputs": [
    {
     "name": "stdout",
     "output_type": "stream",
     "text": [
      "initial_times = get_forecast_initial_times(Deterministic, loads[1]) = DateTime[2024-01-02T00:00:00]\n"
     ]
    }
   ],
   "cell_type": "code",
   "source": [
    "@show initial_times = get_forecast_initial_times(Deterministic,loads[1]);"
   ],
   "metadata": {},
   "execution_count": 17
  },
  {
   "outputs": [],
   "cell_type": "markdown",
   "source": [
    "We can find the fields for which a component has a forecast:"
   ],
   "metadata": {}
  },
  {
   "outputs": [
    {
     "name": "stdout",
     "output_type": "stream",
     "text": [
      "labels = collect(get_forecast_keys(loads[1])) = InfrastructureSystems.ForecastKey[InfrastructureSystems.ForecastKey(InfrastructureSystems.DeterministicInternal, 2024-01-02T00:00:00, \"activepower\")]\n"
     ]
    },
    {
     "output_type": "execute_result",
     "data": {
      "text/plain": "1-element Array{InfrastructureSystems.ForecastKey,1}:\n InfrastructureSystems.ForecastKey(InfrastructureSystems.DeterministicInternal, 2024-01-02T00:00:00, \"activepower\")"
     },
     "metadata": {},
     "execution_count": 18
    }
   ],
   "cell_type": "code",
   "source": [
    "@show labels = collect(get_forecast_keys(loads[1]))"
   ],
   "metadata": {},
   "execution_count": 18
  },
  {
   "outputs": [],
   "cell_type": "markdown",
   "source": [
    "---\n",
    "\n",
    "*This notebook was generated using [Literate.jl](https://github.com/fredrikekre/Literate.jl).*"
   ],
   "metadata": {}
  }
 ],
 "nbformat_minor": 3,
 "metadata": {
  "language_info": {
   "file_extension": ".jl",
   "mimetype": "application/julia",
   "name": "julia",
   "version": "1.3.1"
  },
  "kernelspec": {
   "name": "julia-1.3",
   "display_name": "Julia 1.3.1",
   "language": "julia"
  }
 },
 "nbformat": 4
}
