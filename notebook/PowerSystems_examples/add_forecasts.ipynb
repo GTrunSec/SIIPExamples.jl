{
  "cells": [
    {
      "cell_type": "markdown",
      "source": [
        "# Add Forecasts"
      ],
      "metadata": {}
    },
    {
      "cell_type": "markdown",
      "source": [
        "**Originally Contributed by**: Clayton Barrows"
      ],
      "metadata": {}
    },
    {
      "cell_type": "markdown",
      "source": [
        "## Introduction"
      ],
      "metadata": {}
    },
    {
      "cell_type": "markdown",
      "source": [
        "An example of how to parse add time series data to a `System` using [PowerSystems.jl](github.com/NREL/PowerSystems.jl)\n\nFor example, a `System` created by [parsing a MATPOWER file](../../notebook/PowerSystems.jl Examples/parse_matpower.ipynb)\ndoesn't contain any time series data. So a user may want to add forecasts to the `System`\n### Dependencies\nLet's use the 5-bus dataset we parsed in the MATPOWER example"
      ],
      "metadata": {}
    },
    {
      "outputs": [],
      "cell_type": "code",
      "source": [
        "using SIIPExamples\npkgpath = dirname(dirname(pathof(SIIPExamples)))\ninclude(joinpath(pkgpath,\"test/PowerSystems.jl Examples/parse_matpower.jl\"))"
      ],
      "metadata": {},
      "execution_count": null
    },
    {
      "cell_type": "markdown",
      "source": [
        "### Define pointers to time series files\nFor example, if we want to add a bunch of time series files, say one for each load and \none for each renewable generator, we need to define pointers to each .csv file cotaining \nthe time series in the following format (PowerSystems.jl also supports a CSV format for this file)"
      ],
      "metadata": {}
    },
    {
      "outputs": [],
      "cell_type": "code",
      "source": [
        "FORECASTS_DIR = joinpath(base_dir,\"data/forecasts/5bus_ts\")\nfname = joinpath(FORECASTS_DIR,\"timeseries_pointers_da.json\")\nopen(fname,\"r\") do f\n    for line in eachline(f)\n        println(line)\n    end\nend"
      ],
      "metadata": {},
      "execution_count": null
    },
    {
      "cell_type": "markdown",
      "source": [
        "### Map labels to fields in `PowerSystemTypes`\nnext we need to define the fields that each time series file references. The above file\nhas two unique combinations of `category` and `label`, so we need to make a label mapping\nto match each of those to the `component` fields."
      ],
      "metadata": {}
    },
    {
      "outputs": [],
      "cell_type": "code",
      "source": [
        "label_mapping = Dict((\"electricload\",\"MW Load\") => \"maxactivepower\",\n    (\"generator\",\"PMax MW\") => \"rating\")"
      ],
      "metadata": {},
      "execution_count": null
    },
    {
      "cell_type": "markdown",
      "source": [
        "### Read the pointers and label mappings"
      ],
      "metadata": {}
    },
    {
      "outputs": [],
      "cell_type": "code",
      "source": [
        "ts_pointers = IS.read_time_series_metadata(fname, label_mapping)"
      ],
      "metadata": {},
      "execution_count": null
    },
    {
      "cell_type": "markdown",
      "source": [
        "### Read and assign forecasts to `System`"
      ],
      "metadata": {}
    },
    {
      "outputs": [],
      "cell_type": "code",
      "source": [
        "add_forecasts!(sys, ts_pointers)\nsys"
      ],
      "metadata": {},
      "execution_count": null
    }
  ],
  "nbformat_minor": 2,
  "metadata": {
    "language_info": {
      "file_extension": ".jl",
      "mimetype": "application/julia",
      "name": "julia",
      "version": "1.2.0"
    },
    "kernelspec": {
      "name": "julia-1.2",
      "display_name": "Julia 1.2.0",
      "language": "julia"
    }
  },
  "nbformat": 4
}
