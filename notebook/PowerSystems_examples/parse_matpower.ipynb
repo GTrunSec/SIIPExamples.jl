{
 "cells": [
  {
   "outputs": [],
   "cell_type": "markdown",
   "source": [
    "# Parsing MATPOWER Files"
   ],
   "metadata": {}
  },
  {
   "outputs": [],
   "cell_type": "markdown",
   "source": [
    "**Originally Contributed by**: Clayton Barrows"
   ],
   "metadata": {}
  },
  {
   "outputs": [],
   "cell_type": "markdown",
   "source": [
    "## Introduction"
   ],
   "metadata": {}
  },
  {
   "outputs": [],
   "cell_type": "markdown",
   "source": [
    "An example of how to parse MATPOWER files and create a `System` using [PowerSystems.jl](github.com/NREL/PowerSystems.jl)"
   ],
   "metadata": {}
  },
  {
   "outputs": [],
   "cell_type": "markdown",
   "source": [
    "### Environment\n",
    "This notebook depends on the SIIPExamples.jl environment which is loaded by default"
   ],
   "metadata": {}
  },
  {
   "outputs": [
    {
     "name": "stdout",
     "output_type": "stream",
     "text": [
      "Project SIIPExamples v0.0.1\n",
      "    Status `~/Documents/repos/Examples/Project.toml`\n",
      "  [9961bab8] Cbc v0.6.6\n",
      "  [5ae59095] Colors v0.9.6\n",
      "  [41994980] D3TypeTrees v0.1.1\n",
      "  [a93c6f00] DataFrames v0.20.0\n",
      "  [e2685f51] ECOS v0.10.2\n",
      "  [60bf3e95] GLPK v0.12.1\n",
      "  [b6b21f68] Ipopt v0.6.1\n",
      "  [2535ab7d] JSON2 v0.3.1\n",
      "  [4076af6c] JuMP v0.20.1\n",
      "  [98b081ad] Literate v2.2.1\n",
      "  [51fcb6bd] NamedColors v0.2.0\n",
      "  [f0f68f2c] PlotlyJS v0.13.0\n",
      "  [91a5bcdd] Plots v0.28.4\n",
      "  [e690365d] PowerSimulations v0.2.0 #dev0-2 (https://github.com/NREL/PowerSimulations.jl.git)\n",
      "  [bcd98974] PowerSystems v0.8.2\n",
      "  [9e3dc215] TimeSeries v0.16.1\n",
      "  [0f1e0344] WebIO v0.8.13\n"
     ]
    }
   ],
   "cell_type": "code",
   "source": [
    "using Pkg\n",
    "Pkg.status()"
   ],
   "metadata": {},
   "execution_count": 1
  },
  {
   "outputs": [],
   "cell_type": "markdown",
   "source": [
    "### Dependencies"
   ],
   "metadata": {}
  },
  {
   "outputs": [],
   "cell_type": "code",
   "source": [
    "using SIIPExamples\n",
    "using PowerSystems\n",
    "using TimeSeries\n",
    "const PSY = PowerSystems\n",
    "const IS = PSY.InfrastructureSystems;"
   ],
   "metadata": {},
   "execution_count": 2
  },
  {
   "outputs": [],
   "cell_type": "markdown",
   "source": [
    "### Fetch Data\n",
    "PowerSystems.jl links to some test data that is suitable for this example.\n",
    "Let's download the test data"
   ],
   "metadata": {}
  },
  {
   "outputs": [],
   "cell_type": "code",
   "source": [
    "base_dir = PSY.download(PSY.TestData; branch = \"master\");"
   ],
   "metadata": {},
   "execution_count": 3
  },
  {
   "outputs": [],
   "cell_type": "markdown",
   "source": [
    "### Create a `System`"
   ],
   "metadata": {}
  },
  {
   "outputs": [
    {
     "name": "stdout",
     "output_type": "stream",
     "text": [
      "┌ Info: extending matpower format with data: areas 1x3\n",
      "└ @ PowerSystems /Users/cbarrows/.julia/packages/PowerSystems/kNWke/src/parsers/pm_io/matpower.jl:290\n",
      "┌ Info: extending matpower format with data: gen_name 7x4\n",
      "└ @ PowerSystems /Users/cbarrows/.julia/packages/PowerSystems/kNWke/src/parsers/pm_io/matpower.jl:290\n",
      "┌ Info: extending matpower format by appending matrix \"gen_name\" in to \"gen\"\n",
      "└ @ PowerSystems /Users/cbarrows/.julia/packages/PowerSystems/kNWke/src/parsers/pm_io/matpower.jl:625\n",
      "┌ Info: reversing the orientation of branch 6 (4, 3) to be consistent with other parallel branches\n",
      "└ @ PowerSystems /Users/cbarrows/.julia/packages/PowerSystems/kNWke/src/parsers/pm_io/data.jl:1190\n",
      "┌ Info: the voltage setpoint on generator 4 does not match the value at bus 4\n",
      "└ @ PowerSystems /Users/cbarrows/.julia/packages/PowerSystems/kNWke/src/parsers/pm_io/data.jl:1656\n",
      "┌ Info: the voltage setpoint on generator 1 does not match the value at bus 1\n",
      "└ @ PowerSystems /Users/cbarrows/.julia/packages/PowerSystems/kNWke/src/parsers/pm_io/data.jl:1656\n",
      "┌ Info: the voltage setpoint on generator 5 does not match the value at bus 10\n",
      "└ @ PowerSystems /Users/cbarrows/.julia/packages/PowerSystems/kNWke/src/parsers/pm_io/data.jl:1656\n",
      "┌ Info: the voltage setpoint on generator 2 does not match the value at bus 1\n",
      "└ @ PowerSystems /Users/cbarrows/.julia/packages/PowerSystems/kNWke/src/parsers/pm_io/data.jl:1656\n",
      "┌ Info: the voltage setpoint on generator 3 does not match the value at bus 3\n",
      "└ @ PowerSystems /Users/cbarrows/.julia/packages/PowerSystems/kNWke/src/parsers/pm_io/data.jl:1656\n",
      "┌ Info: removing 1 cost terms from generator 4: [4000.0, 0.0]\n",
      "└ @ PowerSystems /Users/cbarrows/.julia/packages/PowerSystems/kNWke/src/parsers/pm_io/data.jl:1839\n",
      "┌ Info: removing 1 cost terms from generator 1: [1400.0, 0.0]\n",
      "└ @ PowerSystems /Users/cbarrows/.julia/packages/PowerSystems/kNWke/src/parsers/pm_io/data.jl:1839\n",
      "┌ Info: removing 1 cost terms from generator 5: [1000.0, 0.0]\n",
      "└ @ PowerSystems /Users/cbarrows/.julia/packages/PowerSystems/kNWke/src/parsers/pm_io/data.jl:1839\n",
      "┌ Info: removing 1 cost terms from generator 2: [1500.0, 0.0]\n",
      "└ @ PowerSystems /Users/cbarrows/.julia/packages/PowerSystems/kNWke/src/parsers/pm_io/data.jl:1839\n",
      "┌ Info: removing 3 cost terms from generator 6: Float64[]\n",
      "└ @ PowerSystems /Users/cbarrows/.julia/packages/PowerSystems/kNWke/src/parsers/pm_io/data.jl:1839\n",
      "┌ Info: removing 3 cost terms from generator 7: Float64[]\n",
      "└ @ PowerSystems /Users/cbarrows/.julia/packages/PowerSystems/kNWke/src/parsers/pm_io/data.jl:1839\n",
      "┌ Info: removing 1 cost terms from generator 3: [3000.0, 0.0]\n",
      "└ @ PowerSystems /Users/cbarrows/.julia/packages/PowerSystems/kNWke/src/parsers/pm_io/data.jl:1839\n",
      "┌ Info: Constructing System from Power Models\n",
      "│   data[\"name\"] = nesta_case5_pjm\n",
      "│   data[\"source_type\"] = matpower\n",
      "└ @ PowerSystems /Users/cbarrows/.julia/packages/PowerSystems/kNWke/src/parsers/pm2ps_parser.jl:20\n",
      "┌ Info: Reading bus data\n",
      "└ @ PowerSystems /Users/cbarrows/.julia/packages/PowerSystems/kNWke/src/parsers/pm2ps_parser.jl:91\n",
      "┌ Info: Reading generator data\n",
      "└ @ PowerSystems /Users/cbarrows/.julia/packages/PowerSystems/kNWke/src/parsers/pm2ps_parser.jl:353\n",
      "┌ Info: Reading branch data\n",
      "└ @ PowerSystems /Users/cbarrows/.julia/packages/PowerSystems/kNWke/src/parsers/pm2ps_parser.jl:503\n",
      "┌ Info: Reading branch data\n",
      "└ @ PowerSystems /Users/cbarrows/.julia/packages/PowerSystems/kNWke/src/parsers/pm2ps_parser.jl:568\n",
      "┌ Info: Reading DC Line data\n",
      "└ @ PowerSystems /Users/cbarrows/.julia/packages/PowerSystems/kNWke/src/parsers/pm2ps_parser.jl:538\n"
     ]
    },
    {
     "output_type": "execute_result",
     "data": {
      "text/plain": "System\n======\nBase Power: 100.0\n\nComponents\n==========\nNum components: 23\n\n7×3 DataFrames.DataFrame. Omitted printing of 2 columns\n│ Row │ ConcreteType             │\n│     │ \u001b[90mString\u001b[39m                   │\n├─────┼──────────────────────────┤\n│ 1   │ Bus                      │\n│ 2   │ Line                     │\n│ 3   │ LoadZones                │\n│ 4   │ PhaseShiftingTransformer │\n│ 5   │ PowerLoad                │\n│ 6   │ RenewableDispatch        │\n│ 7   │ ThermalStandard          │\n\nForecasts\n=========\nResolution: 0 minutes\nHorizon: 0\nInitial Times: \nInterval: 0 seconds\nComponents with Forecasts: 0\nTotal Forecasts: 0\n",
      "text/html": [
       "<h1>System</h1>\n",
       "<p><b>Base Power</b>: 100.0</p>\n",
       "<h2>Components</h2>\n",
       "<p><b>Num components</b>: 23</p>\n",
       "<table class=\"data-frame\"><thead><tr><th></th><th>ConcreteType</th><th>SuperTypes</th><th>Count</th></tr><tr><th></th><th>String</th><th>String</th><th>Int64</th></tr></thead><tbody><p>7 rows × 3 columns</p><tr><th>1</th><td>Bus</td><td>Topology &lt;: Component &lt;: PowerSystemType &lt;: InfrastructureSystemsType &lt;: Any</td><td>5</td></tr><tr><th>2</th><td>Line</td><td>ACBranch &lt;: Branch &lt;: Device &lt;: Component &lt;: PowerSystemType &lt;: InfrastructureSystemsType &lt;: Any</td><td>5</td></tr><tr><th>3</th><td>LoadZones</td><td>Topology &lt;: Component &lt;: PowerSystemType &lt;: InfrastructureSystemsType &lt;: Any</td><td>1</td></tr><tr><th>4</th><td>PhaseShiftingTransformer</td><td>ACBranch &lt;: Branch &lt;: Device &lt;: Component &lt;: PowerSystemType &lt;: InfrastructureSystemsType &lt;: Any</td><td>2</td></tr><tr><th>5</th><td>PowerLoad</td><td>StaticLoad &lt;: ElectricLoad &lt;: StaticInjection &lt;: Device &lt;: Component &lt;: PowerSystemType &lt;: InfrastructureSystemsType &lt;: Any</td><td>3</td></tr><tr><th>6</th><td>RenewableDispatch</td><td>RenewableGen &lt;: Generator &lt;: StaticInjection &lt;: Device &lt;: Component &lt;: PowerSystemType &lt;: InfrastructureSystemsType &lt;: Any</td><td>2</td></tr><tr><th>7</th><td>ThermalStandard</td><td>ThermalGen &lt;: Generator &lt;: StaticInjection &lt;: Device &lt;: Component &lt;: PowerSystemType &lt;: InfrastructureSystemsType &lt;: Any</td><td>5</td></tr></tbody></table>\n",
       "\n",
       "<h2>Forecasts</h2>\n",
       "<p><b>Resolution</b>: 0 minutes</p>\n",
       "<p><b>Horizon</b>: 0</p>\n",
       "<p><b>Initial Times</b>: </p>\n",
       "<p><b>Interval</b>: 0 seconds</p>\n",
       "<p><b>Components with Forecasts</b>: 0</p>\n",
       "<p><b>Total Forecasts</b>: 0</p>\n"
      ]
     },
     "metadata": {},
     "execution_count": 4
    }
   ],
   "cell_type": "code",
   "source": [
    "sys = PSY.parse_standard_files(joinpath(base_dir, \"matpower\", \"case5_re.m\"))\n",
    "sys"
   ],
   "metadata": {},
   "execution_count": 4
  },
  {
   "outputs": [],
   "cell_type": "markdown",
   "source": [
    "---\n",
    "\n",
    "*This notebook was generated using [Literate.jl](https://github.com/fredrikekre/Literate.jl).*"
   ],
   "metadata": {}
  }
 ],
 "nbformat_minor": 3,
 "metadata": {
  "language_info": {
   "file_extension": ".jl",
   "mimetype": "application/julia",
   "name": "julia",
   "version": "1.3.1"
  },
  "kernelspec": {
   "name": "julia-1.3",
   "display_name": "Julia 1.3.1",
   "language": "julia"
  }
 },
 "nbformat": 4
}
