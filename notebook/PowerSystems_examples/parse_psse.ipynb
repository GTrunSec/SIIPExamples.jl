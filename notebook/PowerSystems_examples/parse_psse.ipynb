{
  "cells": [
    {
      "cell_type": "markdown",
      "source": [
        "# Parsing PSS&#x2F;e `*.RAW` Files"
      ],
      "metadata": {}
    },
    {
      "cell_type": "markdown",
      "source": [
        "**Originally Contributed by**: Clayton Barrows"
      ],
      "metadata": {}
    },
    {
      "cell_type": "markdown",
      "source": [
        "## Introduction"
      ],
      "metadata": {}
    },
    {
      "cell_type": "markdown",
      "source": [
        "An example of how to parse PSS/e files and create a `System` using [PowerSystems.jl](github.com/NREL/PowerSystems.jl)"
      ],
      "metadata": {}
    },
    {
      "cell_type": "markdown",
      "source": [
        "### Environment\nThis notebook depends on the SIIPExamples.jl environment which is loaded by default"
      ],
      "metadata": {}
    },
    {
      "outputs": [],
      "cell_type": "code",
      "source": [
        "using Pkg\nPkg.status()"
      ],
      "metadata": {},
      "execution_count": null
    },
    {
      "cell_type": "markdown",
      "source": [
        "### Dependencies"
      ],
      "metadata": {}
    },
    {
      "outputs": [],
      "cell_type": "code",
      "source": [
        "using SIIPExamples\nusing PowerSystems\nusing TimeSeries"
      ],
      "metadata": {},
      "execution_count": null
    },
    {
      "cell_type": "markdown",
      "source": [
        ""
      ],
      "metadata": {}
    },
    {
      "outputs": [],
      "cell_type": "code",
      "source": [
        "const PSY = PowerSystems\nconst IS = PSY.InfrastructureSystems;"
      ],
      "metadata": {},
      "execution_count": null
    },
    {
      "cell_type": "markdown",
      "source": [
        "### Fetch Data\nPowerSystems.jl links to some test data that is suitable for this example. \nLet's download the test data"
      ],
      "metadata": {}
    },
    {
      "outputs": [],
      "cell_type": "code",
      "source": [
        "PSY.download(PSY.TestData; branch = \"master\")\nbase_dir = dirname(dirname(pathof(PowerSystems)));"
      ],
      "metadata": {},
      "execution_count": null
    },
    {
      "cell_type": "markdown",
      "source": [
        "### Create a `System`"
      ],
      "metadata": {}
    },
    {
      "outputs": [],
      "cell_type": "code",
      "source": [
        "sys = PSY.parse_standard_files(joinpath(base_dir,\"data/psse_raw/RTS-GMLC.RAW\"));\n\nsys"
      ],
      "metadata": {},
      "execution_count": null
    }
  ],
  "nbformat_minor": 2,
  "metadata": {
    "language_info": {
      "file_extension": ".jl",
      "mimetype": "application/julia",
      "name": "julia",
      "version": "1.2.0"
    },
    "kernelspec": {
      "name": "julia-1.2",
      "display_name": "Julia 1.2.0",
      "language": "julia"
    }
  },
  "nbformat": 4
}
