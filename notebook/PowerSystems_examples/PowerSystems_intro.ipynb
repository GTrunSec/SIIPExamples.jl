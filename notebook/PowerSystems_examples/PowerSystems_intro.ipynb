{
 "cells": [
  {
   "outputs": [],
   "cell_type": "markdown",
   "source": [
    "# Introduction to [PowerSystems.jl](https://github.com/NREL/PowerSystems.jl)"
   ],
   "metadata": {}
  },
  {
   "outputs": [],
   "cell_type": "markdown",
   "source": [
    "**Originally Contributed by**: Clayton Barrows and Jose Daniel Lara"
   ],
   "metadata": {}
  },
  {
   "outputs": [],
   "cell_type": "markdown",
   "source": [
    "## Introduction"
   ],
   "metadata": {}
  },
  {
   "outputs": [],
   "cell_type": "markdown",
   "source": [
    "This notebook is intended to show a power system data specification framework that exploits the\n",
    "capabilities of Julia to improve performance and allow modelers to develop modular software\n",
    "to create problems with different complexities and enable large scale analysis.\n",
    "\n",
    "### Objective\n",
    "PowerSystems.jl provides a type specification for bulk power system data.\n",
    "The objective is to exploit Julia's integration of dynamic types to enable efficient data\n",
    "handling and enable functional dispatch in modeling and analysis applications\n",
    "As explained in Julia's documentation:\n",
    "\n",
    "\"Julia’s type system is dynamic, but gains some of the advantages of static type systems\n",
    "by making it possible to indicate that certain values are of specific types. This can be\n",
    "of great assistance in generating efficient code, but even more significantly, it allows\n",
    "method dispatch on the types of function arguments to be deeply integrated with the language.\"\n",
    "\n",
    "For more details on Julia types, refer to the [documentation](https://docs.julialang.org/en/v1/)\n",
    "\n",
    "\n",
    "## Environment and packages\n",
    "\n",
    "PowerSystems.jl relies on a framework for data handling established in\n",
    "[InfrastructureSystems.jl](https://github.com/NREL/InfrastructureSystems.jl).\n",
    "Users of PowerSystems.jl should not need to interact directly with InfrastructureSystems.jl\n",
    "\n",
    "The examples in this notebook depend upon Julia 1.2 and a specific set of package releases\n",
    "as defined in the `Manifest.toml`."
   ],
   "metadata": {}
  },
  {
   "outputs": [],
   "cell_type": "code",
   "source": [
    "using Pkg\n",
    "Pkg.status()\n",
    "\n",
    "using SIIPExamples;\n",
    "using PowerSystems;\n",
    "using D3TypeTrees;"
   ],
   "metadata": {},
   "execution_count": null
  },
  {
   "outputs": [],
   "cell_type": "markdown",
   "source": [
    "## Types in PowerSystems\n",
    "PowerSystems.jl provides a type hierarchy for specifying power system data. Data that\n",
    "describes infrastructure components is held in `struct`s. For example, a `Bus` is defined\n",
    "as follows with fields for the parameters required to describe a bus (along with an\n",
    "`internal` field used by InfrastructureSystems to improve the efficiency of handling data)."
   ],
   "metadata": {}
  },
  {
   "outputs": [],
   "cell_type": "code",
   "source": [
    "print_struct(Bus)"
   ],
   "metadata": {},
   "execution_count": null
  },
  {
   "outputs": [],
   "cell_type": "markdown",
   "source": [
    "### Type Hierarchy\n",
    "PowerSystems is intended to organize data containers by the behavior of the devices that\n",
    "the data represents. To that end, a type hierarchy has been defined with several levels of\n",
    "abstract types starting with `PowerSystemType`:\n",
    "- `Component`: includes all elements of power system data\n",
    "  - `PowerSystems.Topology`: includes non physical elements describing network connectivity\n",
    "  - `Service`: includes descriptions of system requirements (other than energy balance)\n",
    "  - `Device`: includes descriptions of all the physical devices in a power system\n",
    "- `PowerSystems.TechnicalParams`: includes structs that hold data describing the technical or economic capabilities of `Device`some\n",
    "- `System`: collects all of the `Component`s\n",
    "\n",
    "*The following trees are made with [D3TypeTrees](https://github.com/claytonpbarrows/D3TypeTrees.jl),\n",
    "nodes that represent Structs will show the Fields in the hoverover tooltip.*"
   ],
   "metadata": {}
  },
  {
   "outputs": [],
   "cell_type": "code",
   "source": [
    "TypeTree(PowerSystemType)"
   ],
   "metadata": {},
   "execution_count": null
  },
  {
   "outputs": [],
   "cell_type": "markdown",
   "source": [
    "### Composite Types\n",
    "Julia composite types provide a useful way unify the representation of technical and\n",
    "economic capabilities of certain components. For example, the standard definition of a\n",
    "thermal generator (`ThermalStandard`) contains `tech` and `op_cost` fields:"
   ],
   "metadata": {}
  },
  {
   "outputs": [],
   "cell_type": "code",
   "source": [
    "print_struct(ThermalStandard)\n",
    "print_struct(TechThermal)\n",
    "print_struct(ThreePartCost)"
   ],
   "metadata": {},
   "execution_count": null
  },
  {
   "outputs": [],
   "cell_type": "markdown",
   "source": [
    "### `Forecasts`\n",
    "Every `Component` has a `_forecasts::InfrastructureSystems.Forecasts` field (even composite types).\n",
    "`Forecasts` are used to hold time series information that describes the temporally dependent\n",
    "data of fields within the same struct. For example, the `ThermalStandard._forecasts` field can\n",
    "describe other fields in the struct (`available`, `activepower`, `reactivepower`), while\n",
    "the `ThermalStandard.tech._forecasts` holds data for `rating` and other `TechThermal` fields."
   ],
   "metadata": {}
  },
  {
   "outputs": [],
   "cell_type": "markdown",
   "source": [
    "`Forecast`s themselves can take the form of the following:"
   ],
   "metadata": {}
  },
  {
   "outputs": [],
   "cell_type": "code",
   "source": [
    "TypeTree(Forecast)"
   ],
   "metadata": {},
   "execution_count": null
  },
  {
   "outputs": [],
   "cell_type": "markdown",
   "source": [
    "In each case, the forecast contains fields for `label` and `data` to identify the `Component`\n",
    "field that the forecast describes, and the time series `data`. For example:"
   ],
   "metadata": {}
  },
  {
   "outputs": [],
   "cell_type": "code",
   "source": [
    "print_struct(Deterministic)"
   ],
   "metadata": {},
   "execution_count": null
  },
  {
   "outputs": [],
   "cell_type": "markdown",
   "source": [
    "Examples of how to create and add forecasts to system can be found in the\n",
    "[Add Forecasts Example](../PowerSystems.jl Examples/add_forecasts.ipynb)"
   ],
   "metadata": {}
  },
  {
   "outputs": [],
   "cell_type": "markdown",
   "source": [
    "### System\n",
    "The `System` object collects all of the individual components into a single struct along\n",
    "with some metadata about the system itself (e.g. `basepower`)"
   ],
   "metadata": {}
  },
  {
   "outputs": [],
   "cell_type": "code",
   "source": [
    "print_struct(System)"
   ],
   "metadata": {},
   "execution_count": null
  },
  {
   "outputs": [],
   "cell_type": "markdown",
   "source": [
    "## Basic example\n",
    "PowerSystems contains a few basic data files (mostly for testing and demonstration)."
   ],
   "metadata": {}
  },
  {
   "outputs": [],
   "cell_type": "code",
   "source": [
    "BASE_DIR = abspath(joinpath(dirname(Base.find_package(\"PowerSystems\")), \"..\"))\n",
    "include(joinpath(BASE_DIR, \"test\", \"data_5bus_pu.jl\")) #.jl file containing 5-bus system data\n",
    "nodes_5 = nodes5() # function to create 5-bus buses"
   ],
   "metadata": {},
   "execution_count": null
  },
  {
   "outputs": [],
   "cell_type": "markdown",
   "source": [
    "### Create a `System`"
   ],
   "metadata": {}
  },
  {
   "outputs": [],
   "cell_type": "code",
   "source": [
    "sys = System(nodes_5,\n",
    "             vcat(thermal_generators5(nodes_5), renewable_generators5(nodes_5)),\n",
    "             loads5(nodes_5),\n",
    "             branches5(nodes_5),\n",
    "             nothing,\n",
    "             100.0,\n",
    "             nothing,\n",
    "             nothing)"
   ],
   "metadata": {},
   "execution_count": null
  },
  {
   "outputs": [],
   "cell_type": "markdown",
   "source": [
    "### Accessing `System` Data\n",
    "PowerSystems provides functional interfaces to all data. The following examples outline\n",
    "the intended approach to accessing data expressed using PowerSystems."
   ],
   "metadata": {}
  },
  {
   "outputs": [],
   "cell_type": "markdown",
   "source": [
    "PowerSystems enforces unique `name` fields between components of a particular concrete type.\n",
    "So, in order to retrieve a specific component, the user must specify the type of the component\n",
    "along with the name and system"
   ],
   "metadata": {}
  },
  {
   "outputs": [],
   "cell_type": "markdown",
   "source": [
    "#### Accessing components"
   ],
   "metadata": {}
  },
  {
   "outputs": [],
   "cell_type": "code",
   "source": [
    "@show get_component(Bus, sys, \"nodeA\")\n",
    "@show get_component(Line, sys, \"1\")"
   ],
   "metadata": {},
   "execution_count": null
  },
  {
   "outputs": [],
   "cell_type": "markdown",
   "source": [
    "Similarly, you can access all the components of a particular type: *note: the return type\n",
    "of get_components is a `FlattenIteratorWrapper`, so call `collect` to get an `Array`"
   ],
   "metadata": {}
  },
  {
   "outputs": [],
   "cell_type": "code",
   "source": [
    "get_components(Bus, sys) |> collect"
   ],
   "metadata": {},
   "execution_count": null
  },
  {
   "outputs": [],
   "cell_type": "markdown",
   "source": [
    "`get_components` also works on abstract types:"
   ],
   "metadata": {}
  },
  {
   "outputs": [],
   "cell_type": "code",
   "source": [
    "get_components(Branch,sys) |> collect"
   ],
   "metadata": {},
   "execution_count": null
  },
  {
   "outputs": [],
   "cell_type": "markdown",
   "source": [
    "The fields within a component can be accessed using the `get_*` functions:"
   ],
   "metadata": {}
  },
  {
   "outputs": [],
   "cell_type": "code",
   "source": [
    "bus1 = get_component(Bus, sys, \"nodeA\")\n",
    "@show get_name(bus1);\n",
    "@show get_voltage(bus1);"
   ],
   "metadata": {},
   "execution_count": null
  },
  {
   "outputs": [],
   "cell_type": "markdown",
   "source": [
    "#### Accessing `Forecast`s"
   ],
   "metadata": {}
  },
  {
   "outputs": [],
   "cell_type": "markdown",
   "source": [
    "First we need to add some forecasts to the `System`"
   ],
   "metadata": {}
  },
  {
   "outputs": [],
   "cell_type": "code",
   "source": [
    "loads = collect(get_components(PowerLoad, sys))\n",
    "for (l, ts) in zip(loads, load_timeseries_DA[2])\n",
    "    add_forecast!(sys, l, Deterministic(\"activepower\", ts))\n",
    "end"
   ],
   "metadata": {},
   "execution_count": null
  },
  {
   "outputs": [],
   "cell_type": "markdown",
   "source": [
    "Now that the system has some forecasts, we can see all of them:"
   ],
   "metadata": {}
  },
  {
   "outputs": [],
   "cell_type": "code",
   "source": [
    "iterate_forecasts(sys) |> collect"
   ],
   "metadata": {},
   "execution_count": null
  },
  {
   "outputs": [],
   "cell_type": "markdown",
   "source": [
    "If we want to access a specific forecast for a specific component, we need to specify:\n",
    " - Forecast type\n",
    " - `component`\n",
    " - initial_time\n",
    " - label\n",
    "\n",
    "We can find the unique set of initial times of all the forecasts in the system:"
   ],
   "metadata": {}
  },
  {
   "outputs": [],
   "cell_type": "code",
   "source": [
    "get_forecast_initial_times(sys)"
   ],
   "metadata": {},
   "execution_count": null
  },
  {
   "outputs": [],
   "cell_type": "markdown",
   "source": [
    "Or for a specific component:"
   ],
   "metadata": {}
  },
  {
   "outputs": [],
   "cell_type": "code",
   "source": [
    "@show initial_times = get_forecast_initial_times(Deterministic,loads[1]);"
   ],
   "metadata": {},
   "execution_count": null
  },
  {
   "outputs": [],
   "cell_type": "markdown",
   "source": [
    "We can find the fields for which a component has a forecast:"
   ],
   "metadata": {}
  },
  {
   "outputs": [],
   "cell_type": "code",
   "source": [
    "@show labels = collect(get_forecast_keys(loads[1]))"
   ],
   "metadata": {},
   "execution_count": null
  },
  {
   "outputs": [],
   "cell_type": "markdown",
   "source": [
    "---\n",
    "\n",
    "*This notebook was generated using [Literate.jl](https://github.com/fredrikekre/Literate.jl).*"
   ],
   "metadata": {}
  }
 ],
 "nbformat_minor": 3,
 "metadata": {
  "language_info": {
   "file_extension": ".jl",
   "mimetype": "application/julia",
   "name": "julia",
   "version": "1.3.1"
  },
  "kernelspec": {
   "name": "julia-1.3",
   "display_name": "Julia 1.3.1",
   "language": "julia"
  }
 },
 "nbformat": 4
}
