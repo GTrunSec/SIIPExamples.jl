{
 "cells": [
  {
   "outputs": [],
   "cell_type": "markdown",
   "source": [
    "# Parsing Tabular Data"
   ],
   "metadata": {}
  },
  {
   "outputs": [],
   "cell_type": "markdown",
   "source": [
    "**Originally Contributed by**: Clayton Barrows"
   ],
   "metadata": {}
  },
  {
   "outputs": [],
   "cell_type": "markdown",
   "source": [
    "## Introduction"
   ],
   "metadata": {}
  },
  {
   "outputs": [],
   "cell_type": "markdown",
   "source": [
    "An example of how to parse tabular files (CSV) files similar to the format established in\n",
    "the [RTS-GMLC](github.com/gridmod/rts-gmlc/RTS_Data/SourceData) and create a `System` using\n",
    "[PowerSystems.jl](github.com/NREL/PowerSystems.jl)"
   ],
   "metadata": {}
  },
  {
   "outputs": [],
   "cell_type": "markdown",
   "source": [
    "### Environment\n",
    "This notebook depends on the SIIPExamples.jl environment which is loaded by default"
   ],
   "metadata": {}
  },
  {
   "outputs": [],
   "cell_type": "code",
   "source": [
    "using Pkg\n",
    "Pkg.status()"
   ],
   "metadata": {},
   "execution_count": null
  },
  {
   "outputs": [],
   "cell_type": "markdown",
   "source": [
    "### Dependencies"
   ],
   "metadata": {}
  },
  {
   "outputs": [],
   "cell_type": "code",
   "source": [
    "using SIIPExamples\n",
    "using PowerSystems\n",
    "using TimeSeries\n",
    "using Dates\n",
    "using Logging\n",
    "const PSY = PowerSystems\n",
    "const IS = PSY.InfrastructureSystems;"
   ],
   "metadata": {},
   "execution_count": null
  },
  {
   "outputs": [],
   "cell_type": "markdown",
   "source": [
    "### Fetch Data\n",
    "PowerSystems.jl links to some test data that is suitable for this example.\n",
    "Let's download the test data"
   ],
   "metadata": {}
  },
  {
   "outputs": [],
   "cell_type": "code",
   "source": [
    "PSY.download(PSY.TestData; branch = \"master\", force=true)\n",
    "base_dir = dirname(dirname(pathof(PowerSystems)));"
   ],
   "metadata": {},
   "execution_count": null
  },
  {
   "outputs": [],
   "cell_type": "markdown",
   "source": [
    "### Configure log messages\n",
    "The tabular data parser can be quite verbose. For the purpose of this demo, we'll configure\n",
    "the console logger to be pretty quiet. But we'll make sure that"
   ],
   "metadata": {}
  },
  {
   "outputs": [],
   "cell_type": "code",
   "source": [
    "logger = IS.configure_logging(console_level = Logging.Error)"
   ],
   "metadata": {},
   "execution_count": null
  },
  {
   "outputs": [],
   "cell_type": "markdown",
   "source": [
    "### The tabular data format relies on a folder containing `*.csv` files and a `user_descriptors.yaml` file\n",
    "First, we'll read the tabular data"
   ],
   "metadata": {}
  },
  {
   "outputs": [],
   "cell_type": "code",
   "source": [
    "RTS_GMLC_DIR = joinpath(base_dir,\"data/RTS_GMLC\");\n",
    "rawsys = PSY.PowerSystemTableData(RTS_GMLC_DIR,100.0, joinpath(RTS_GMLC_DIR,\"user_descriptors.yaml\"))"
   ],
   "metadata": {},
   "execution_count": null
  },
  {
   "outputs": [],
   "cell_type": "markdown",
   "source": [
    "### Create a `System`\n",
    "Next, we'll create a `System` from the `rawsys` data. Since a `System` is predicated on a\n",
    "forecast resolution and the `rawsys` data includes both 5-minute and 1-hour resolution\n",
    "forecasts, we also need to specify which forecasts we want to include in the `Systeem`.\n",
    "The `forecast_resolution` kwarg filters to only include forecsats with a matching resolution."
   ],
   "metadata": {}
  },
  {
   "outputs": [],
   "cell_type": "code",
   "source": [
    "sys = System(rawsys; forecast_resolution = Dates.Hour(1));\n",
    "sys"
   ],
   "metadata": {},
   "execution_count": null
  },
  {
   "outputs": [],
   "cell_type": "markdown",
   "source": [
    "### Log file\n",
    "Above, we configured the logger to send messages to the\n",
    "[tabulardata.log file](../../notebook/PowerSystems_examples/tabulardata.log). So, you can\n",
    "check out that file to see what the parsing process produced.\n",
    "*Note: you may have to run the following `flush` command to populate the log file*"
   ],
   "metadata": {}
  },
  {
   "outputs": [],
   "cell_type": "code",
   "source": [
    "flush(logger)"
   ],
   "metadata": {},
   "execution_count": null
  },
  {
   "outputs": [],
   "cell_type": "markdown",
   "source": [
    "---\n",
    "\n",
    "*This notebook was generated using [Literate.jl](https://github.com/fredrikekre/Literate.jl).*"
   ],
   "metadata": {}
  }
 ],
 "nbformat_minor": 3,
 "metadata": {
  "language_info": {
   "file_extension": ".jl",
   "mimetype": "application/julia",
   "name": "julia",
   "version": "1.3.1"
  },
  "kernelspec": {
   "name": "julia-1.3",
   "display_name": "Julia 1.3.1",
   "language": "julia"
  }
 },
 "nbformat": 4
}
