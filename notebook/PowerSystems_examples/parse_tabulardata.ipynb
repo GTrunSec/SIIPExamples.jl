{
  "cells": [
    {
      "cell_type": "markdown",
      "source": [
        "---\ntitle: Parsing Tabular Data"
      ],
      "metadata": {}
    },
    {
      "cell_type": "markdown",
      "source": [
        "**Originally Contributed by**: Clayton Barrows"
      ],
      "metadata": {}
    },
    {
      "cell_type": "markdown",
      "source": [
        "## Introduction"
      ],
      "metadata": {}
    },
    {
      "cell_type": "markdown",
      "source": [
        "An example of how to parse tabular files (CSV) files similar to the format established in \nthe [RTS-GMLC](github.com/gridmod/rts-gmlc/RTS_Data/SourceData) and create a `System` using \n[PowerSystems.jl](github.com/NREL/PowerSystems.jl)"
      ],
      "metadata": {}
    },
    {
      "cell_type": "markdown",
      "source": [
        "### Environment\nThis notebook depends on the SIIPExamples.jl environment which is loaded by default"
      ],
      "metadata": {}
    },
    {
      "outputs": [],
      "cell_type": "code",
      "source": [
        "using Pkg\nPkg.status()"
      ],
      "metadata": {},
      "execution_count": null
    },
    {
      "cell_type": "markdown",
      "source": [
        "### Dependencies"
      ],
      "metadata": {}
    },
    {
      "outputs": [],
      "cell_type": "code",
      "source": [
        "using SIIPExamples\nusing PowerSystems\nusing TimeSeries\nconst PSY = PowerSystems\nconst IS = PSY.InfrastructureSystems;"
      ],
      "metadata": {},
      "execution_count": null
    },
    {
      "cell_type": "markdown",
      "source": [
        "### Fetch Data\nPowerSystems.jl links to some test data that is suitable for this example. \nLet's download the test data"
      ],
      "metadata": {}
    },
    {
      "outputs": [],
      "cell_type": "code",
      "source": [
        "PSY.download(PSY.TestData; branch = \"master\", force=true)\nbase_dir = dirname(dirname(pathof(PowerSystems)));"
      ],
      "metadata": {},
      "execution_count": null
    },
    {
      "cell_type": "markdown",
      "source": [
        "### The tabular data format relies on a folder containing `*.csv` files and a `user_descriptors.yaml` file\nFirst, we'll read the tabular data"
      ],
      "metadata": {}
    },
    {
      "outputs": [],
      "cell_type": "code",
      "source": [
        "RTS_GMLC_DIR = joinpath(base_dir,\"data/RTS_GMLC\");\nrawsys = PSY.PowerSystemTableData(RTS_GMLC_DIR,100.0, joinpath(RTS_GMLC_DIR,\"user_descriptors.yaml\"))"
      ],
      "metadata": {},
      "execution_count": null
    },
    {
      "cell_type": "markdown",
      "source": [
        "Next, we'll create a `System` from the `rawsys` data. Since a `System` is predicated on a \nforecast resolution and the `rawsys` data includes both 5-minute and 1-hour resolution \nforecasts, we also need to specify which forecasts we want to include in the `Systeem`. \nThe `forecast_resolution` kwarg filters to only include forecsats with a matching resolution."
      ],
      "metadata": {}
    },
    {
      "outputs": [],
      "cell_type": "code",
      "source": [
        "sys = System(rawsys; forecast_resolution = Dates.Hour(1));\n\nsys"
      ],
      "metadata": {},
      "execution_count": null
    }
  ],
  "nbformat_minor": 2,
  "metadata": {
    "language_info": {
      "file_extension": ".jl",
      "mimetype": "application/julia",
      "name": "julia",
      "version": "1.2.0"
    },
    "kernelspec": {
      "name": "julia-1.2",
      "display_name": "Julia 1.2.0",
      "language": "julia"
    }
  },
  "nbformat": 4
}
