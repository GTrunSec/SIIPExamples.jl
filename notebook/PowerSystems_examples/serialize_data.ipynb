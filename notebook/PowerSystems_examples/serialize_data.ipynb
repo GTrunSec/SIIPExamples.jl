{
 "cells": [
  {
   "cell_type": "markdown",
   "metadata": {},
   "source": [
    "# Serializing PowerSystem Data"
   ]
  },
  {
   "cell_type": "markdown",
   "metadata": {},
   "source": [
    "**Originally Contributed by**: Clayton Barrows"
   ]
  },
  {
   "cell_type": "markdown",
   "metadata": {},
   "source": [
    "## Introduction"
   ]
  },
  {
   "cell_type": "markdown",
   "metadata": {},
   "source": [
    "PowerSystems.jl supports serializing/deserializing data with JSON. This notebook\n",
    "provides an example of how to write and read a `System` to/from disk."
   ]
  },
  {
   "cell_type": "markdown",
   "metadata": {},
   "source": [
    "### Dependencies\n",
    "Let's use a dataset from the [tabular data parsing example](../../notebook/PowerSystems_examples/parse_matpower.ipynb)"
   ]
  },
  {
   "cell_type": "code",
   "execution_count": 1,
   "metadata": {},
   "outputs": [
    {
     "name": "stderr",
     "output_type": "stream",
     "text": [
      "┌ Info: Precompiling SIIPExamples [2c79006f-6450-48c4-b124-fbadab4f299d]\n",
      "└ @ Base loading.jl:1273\n"
     ]
    },
    {
     "name": "stdout",
     "output_type": "stream",
     "text": [
      "\u001b[36m\u001b[1mProject \u001b[22m\u001b[39mSIIPExamples v0.0.1\n",
      "\u001b[32m\u001b[1m    Status\u001b[22m\u001b[39m `~/Documents/repos/SIIPExamples.jl/Project.toml`\n",
      " \u001b[90m [9961bab8]\u001b[39m\u001b[37m Cbc v0.6.7\u001b[39m\n",
      " \u001b[90m [41994980]\u001b[39m\u001b[37m D3TypeTrees v0.1.1\u001b[39m\n",
      " \u001b[90m [a93c6f00]\u001b[39m\u001b[37m DataFrames v0.20.0\u001b[39m\n",
      " \u001b[90m [2cd47ed4]\u001b[39m\u001b[37m InfrastructureSystems v0.5.13\u001b[39m\n",
      " \u001b[90m [b6b21f68]\u001b[39m\u001b[37m Ipopt v0.6.1\u001b[39m\n",
      " \u001b[90m [2535ab7d]\u001b[39m\u001b[37m JSON2 v0.3.1\u001b[39m\n",
      " \u001b[90m [4076af6c]\u001b[39m\u001b[37m JuMP v0.21.1\u001b[39m\n",
      " \u001b[90m [98b081ad]\u001b[39m\u001b[37m Literate v2.3.0\u001b[39m\n",
      " \u001b[90m [47be7bcc]\u001b[39m\u001b[37m ORCA v0.3.1\u001b[39m\n",
      " \u001b[90m [f0f68f2c]\u001b[39m\u001b[37m PlotlyJS v0.13.1\u001b[39m\n",
      " \u001b[90m [91a5bcdd]\u001b[39m\u001b[37m Plots v0.29.8\u001b[39m\n",
      "\u001b[31m→\u001b[39m\u001b[90m [5f7eddb3]\u001b[39m\u001b[37m PowerGraphics v0.2.0 #master (https://github.com/NREL-SIIP/PowerGraphics.jl.git)\u001b[39m\n",
      "\u001b[31m→\u001b[39m\u001b[90m [e690365d]\u001b[39m\u001b[37m PowerSimulations v0.3.1 #cb/pg_bugfix (https://github.com/NREL/PowerSimulations.jl.git)\u001b[39m\n",
      " \u001b[90m [bcd98974]\u001b[39m\u001b[37m PowerSystems v0.12.0\u001b[39m\n",
      " \u001b[90m [9e3dc215]\u001b[39m\u001b[37m TimeSeries v0.16.0\u001b[39m\n",
      " \u001b[90m [0f1e0344]\u001b[39m\u001b[37m WebIO v0.8.13\u001b[39m\n",
      " \u001b[90m [ade2ca70]\u001b[39m\u001b[37m Dates \u001b[39m\n",
      " \u001b[90m [56ddb016]\u001b[39m\u001b[37m Logging \u001b[39m\n",
      " \u001b[90m [44cfe95a]\u001b[39m\u001b[37m Pkg \u001b[39m\n",
      " \u001b[90m [9a3f8284]\u001b[39m\u001b[37m Random \u001b[39m\n",
      " \u001b[90m [10745b16]\u001b[39m\u001b[37m Statistics \u001b[39m\n",
      " \u001b[90m [8dfed614]\u001b[39m\u001b[37m Test \u001b[39m\n"
     ]
    },
    {
     "name": "stderr",
     "output_type": "stream",
     "text": [
      "┌ Warning: Some packages (indicated with a red arrow) are not downloaded, use `instantiate` to instantiate the current environment\n",
      "└ @ Pkg.Display /Users/julia/buildbot/worker/package_macos64/build/usr/share/julia/stdlib/v1.3/Pkg/src/Display.jl:233\n",
      "┌ Info: extending matpower format with data: areas 1x3\n",
      "└ @ PowerSystems /Users/cbarrows/.julia/packages/PowerSystems/Zvssm/src/parsers/pm_io/matpower.jl:332\n",
      "┌ Info: extending matpower format with data: gen_name 7x4\n",
      "└ @ PowerSystems /Users/cbarrows/.julia/packages/PowerSystems/Zvssm/src/parsers/pm_io/matpower.jl:332\n",
      "┌ Info: extending matpower format by appending matrix \"gen_name\" in to \"gen\"\n",
      "└ @ PowerSystems /Users/cbarrows/.julia/packages/PowerSystems/Zvssm/src/parsers/pm_io/matpower.jl:664\n",
      "┌ Info: reversing the orientation of branch 6 (4, 3) to be consistent with other parallel branches\n",
      "└ @ PowerSystems /Users/cbarrows/.julia/packages/PowerSystems/Zvssm/src/parsers/pm_io/data.jl:1218\n",
      "┌ Info: the voltage setpoint on generator 4 does not match the value at bus 4\n",
      "└ @ PowerSystems /Users/cbarrows/.julia/packages/PowerSystems/Zvssm/src/parsers/pm_io/data.jl:1686\n",
      "┌ Info: the voltage setpoint on generator 1 does not match the value at bus 1\n",
      "└ @ PowerSystems /Users/cbarrows/.julia/packages/PowerSystems/Zvssm/src/parsers/pm_io/data.jl:1686\n",
      "┌ Info: the voltage setpoint on generator 5 does not match the value at bus 10\n",
      "└ @ PowerSystems /Users/cbarrows/.julia/packages/PowerSystems/Zvssm/src/parsers/pm_io/data.jl:1686\n",
      "┌ Info: the voltage setpoint on generator 2 does not match the value at bus 1\n",
      "└ @ PowerSystems /Users/cbarrows/.julia/packages/PowerSystems/Zvssm/src/parsers/pm_io/data.jl:1686\n",
      "┌ Info: the voltage setpoint on generator 3 does not match the value at bus 3\n",
      "└ @ PowerSystems /Users/cbarrows/.julia/packages/PowerSystems/Zvssm/src/parsers/pm_io/data.jl:1686\n",
      "┌ Info: removing 1 cost terms from generator 4: [4000.0, 0.0]\n",
      "└ @ PowerSystems /Users/cbarrows/.julia/packages/PowerSystems/Zvssm/src/parsers/pm_io/data.jl:1867\n",
      "┌ Info: removing 1 cost terms from generator 1: [1400.0, 0.0]\n",
      "└ @ PowerSystems /Users/cbarrows/.julia/packages/PowerSystems/Zvssm/src/parsers/pm_io/data.jl:1867\n",
      "┌ Info: removing 1 cost terms from generator 5: [1000.0, 0.0]\n",
      "└ @ PowerSystems /Users/cbarrows/.julia/packages/PowerSystems/Zvssm/src/parsers/pm_io/data.jl:1867\n",
      "┌ Info: removing 1 cost terms from generator 2: [1500.0, 0.0]\n",
      "└ @ PowerSystems /Users/cbarrows/.julia/packages/PowerSystems/Zvssm/src/parsers/pm_io/data.jl:1867\n",
      "┌ Info: removing 3 cost terms from generator 6: Float64[]\n",
      "└ @ PowerSystems /Users/cbarrows/.julia/packages/PowerSystems/Zvssm/src/parsers/pm_io/data.jl:1867\n",
      "┌ Info: removing 3 cost terms from generator 7: Float64[]\n",
      "└ @ PowerSystems /Users/cbarrows/.julia/packages/PowerSystems/Zvssm/src/parsers/pm_io/data.jl:1867\n",
      "┌ Info: removing 1 cost terms from generator 3: [3000.0, 0.0]\n",
      "└ @ PowerSystems /Users/cbarrows/.julia/packages/PowerSystems/Zvssm/src/parsers/pm_io/data.jl:1867\n",
      "┌ Info: Constructing System from Power Models\n",
      "│   data[\"name\"] = nesta_case5_pjm\n",
      "│   data[\"source_type\"] = matpower\n",
      "└ @ PowerSystems /Users/cbarrows/.julia/packages/PowerSystems/Zvssm/src/parsers/power_models_data.jl:33\n",
      "┌ Info: Reading bus data\n",
      "└ @ PowerSystems /Users/cbarrows/.julia/packages/PowerSystems/Zvssm/src/parsers/power_models_data.jl:122\n",
      "┌ Info: Reading generator data\n",
      "└ @ PowerSystems /Users/cbarrows/.julia/packages/PowerSystems/Zvssm/src/parsers/power_models_data.jl:382\n",
      "┌ Info: Reading branch data\n",
      "└ @ PowerSystems /Users/cbarrows/.julia/packages/PowerSystems/Zvssm/src/parsers/power_models_data.jl:534\n",
      "┌ Info: Reading branch data\n",
      "└ @ PowerSystems /Users/cbarrows/.julia/packages/PowerSystems/Zvssm/src/parsers/power_models_data.jl:597\n",
      "┌ Info: Reading DC Line data\n",
      "└ @ PowerSystems /Users/cbarrows/.julia/packages/PowerSystems/Zvssm/src/parsers/power_models_data.jl:568\n"
     ]
    },
    {
     "data": {
      "text/html": [
       "<h1>System</h1>\n",
       "<p><b>Base Power</b>: 100.0</p>\n",
       "<h2>Components</h2>\n",
       "<p><b>Num components</b>: 24</p>\n",
       "<table class=\"data-frame\"><thead><tr><th></th><th>ConcreteType</th><th>SuperTypes</th><th>Count</th></tr><tr><th></th><th>String</th><th>String</th><th>Int64</th></tr></thead><tbody><p>8 rows × 3 columns</p><tr><th>1</th><td>Area</td><td>AggregationTopology &lt;: Topology &lt;: Component &lt;: PowerSystemType &lt;: InfrastructureSystemsType &lt;: Any</td><td>1</td></tr><tr><th>2</th><td>Bus</td><td>Topology &lt;: Component &lt;: PowerSystemType &lt;: InfrastructureSystemsType &lt;: Any</td><td>5</td></tr><tr><th>3</th><td>Line</td><td>ACBranch &lt;: Branch &lt;: Device &lt;: Component &lt;: PowerSystemType &lt;: InfrastructureSystemsType &lt;: Any</td><td>5</td></tr><tr><th>4</th><td>LoadZone</td><td>AggregationTopology &lt;: Topology &lt;: Component &lt;: PowerSystemType &lt;: InfrastructureSystemsType &lt;: Any</td><td>1</td></tr><tr><th>5</th><td>PhaseShiftingTransformer</td><td>ACBranch &lt;: Branch &lt;: Device &lt;: Component &lt;: PowerSystemType &lt;: InfrastructureSystemsType &lt;: Any</td><td>2</td></tr><tr><th>6</th><td>PowerLoad</td><td>StaticLoad &lt;: ElectricLoad &lt;: StaticInjection &lt;: Device &lt;: Component &lt;: PowerSystemType &lt;: InfrastructureSystemsType &lt;: Any</td><td>3</td></tr><tr><th>7</th><td>RenewableDispatch</td><td>RenewableGen &lt;: Generator &lt;: StaticInjection &lt;: Device &lt;: Component &lt;: PowerSystemType &lt;: InfrastructureSystemsType &lt;: Any</td><td>2</td></tr><tr><th>8</th><td>ThermalStandard</td><td>ThermalGen &lt;: Generator &lt;: StaticInjection &lt;: Device &lt;: Component &lt;: PowerSystemType &lt;: InfrastructureSystemsType &lt;: Any</td><td>5</td></tr></tbody></table>\n",
       "\n",
       "<h2>Forecasts</h2>\n",
       "<p><b>Resolution</b>: 0 seconds</p>\n",
       "<p><b>Horizon</b>: 0</p>\n",
       "<p><b>Initial Times</b>: </p>\n",
       "<p><b>Interval</b>: 0 seconds</p>\n",
       "<p><b>Components with Forecasts</b>: 0</p>\n",
       "<p><b>Total Forecasts</b>: 0</p>\n"
      ],
      "text/plain": [
       "System\n",
       "======\n",
       "Base Power: 100.0\n",
       "\n",
       "Components\n",
       "==========\n",
       "Num components: 24\n",
       "\n",
       "8×3 DataFrames.DataFrame. Omitted printing of 2 columns\n",
       "│ Row │ ConcreteType             │\n",
       "│     │ \u001b[90mString\u001b[39m                   │\n",
       "├─────┼──────────────────────────┤\n",
       "│ 1   │ Area                     │\n",
       "│ 2   │ Bus                      │\n",
       "│ 3   │ Line                     │\n",
       "│ 4   │ LoadZone                 │\n",
       "│ 5   │ PhaseShiftingTransformer │\n",
       "│ 6   │ PowerLoad                │\n",
       "│ 7   │ RenewableDispatch        │\n",
       "│ 8   │ ThermalStandard          │\n",
       "\n",
       "Forecasts\n",
       "=========\n",
       "Resolution: 0 seconds\n",
       "Horizon: 0\n",
       "Initial Times: \n",
       "Interval: 0 seconds\n",
       "Components with Forecasts: 0\n",
       "Total Forecasts: 0\n"
      ]
     },
     "execution_count": 1,
     "metadata": {},
     "output_type": "execute_result"
    }
   ],
   "source": [
    "using SIIPExamples\n",
    "pkgpath = dirname(dirname(pathof(SIIPExamples)))\n",
    "include(joinpath(pkgpath,\"test\", \"PowerSystems_examples\", \"parse_matpower.jl\"))"
   ]
  },
  {
   "cell_type": "markdown",
   "metadata": {},
   "source": [
    "### Write data to a temporary directory"
   ]
  },
  {
   "cell_type": "code",
   "execution_count": 2,
   "metadata": {},
   "outputs": [
    {
     "name": "stderr",
     "output_type": "stream",
     "text": [
      "┌ Info: Serializing to /var/folders/27/2jr8c7gn4j72fvrg4qt81zrw8w_711/T/jl_TdEvIY\n",
      "└ @ Main In[2]:2\n",
      "┌ Info: Serialized time series data to time_series_storage.h5.\n",
      "└ @ InfrastructureSystems /Users/cbarrows/.julia/packages/InfrastructureSystems/yQ40g/src/time_series_storage.jl:47\n"
     ]
    },
    {
     "data": {
      "text/plain": [
       "0.097418"
      ]
     },
     "execution_count": 2,
     "metadata": {},
     "output_type": "execute_result"
    }
   ],
   "source": [
    "path, io = mktemp()\n",
    "@info \"Serializing to $path\"\n",
    "to_json(io, sys)\n",
    "close(io)\n",
    "\n",
    "filesize(path)/1000000 #MB"
   ]
  },
  {
   "cell_type": "code",
   "execution_count": 3,
   "metadata": {},
   "outputs": [
    {
     "data": {
      "text/plain": [
       "\"/var/folders/27/2jr8c7gn4j72fvrg4qt81zrw8w_711/T/jl_TdEvIY\""
      ]
     },
     "execution_count": 3,
     "metadata": {},
     "output_type": "execute_result"
    }
   ],
   "source": [
    "path"
   ]
  },
  {
   "cell_type": "code",
   "execution_count": null,
   "metadata": {},
   "outputs": [],
   "source": []
  },
  {
   "cell_type": "markdown",
   "metadata": {},
   "source": [
    "### Read the JSON file and create a new `System`"
   ]
  },
  {
   "cell_type": "code",
   "execution_count": 3,
   "metadata": {},
   "outputs": [
    {
     "name": "stdout",
     "output_type": "stream",
     "text": [
      "┌ Info: Loaded time series from storage file existing=time_series_storage.h5 new=/var/folders/27/2jr8c7gn4j72fvrg4qt81zrw8w_711/T/jl_7WLQqP.h5\n",
      "└ @ InfrastructureSystems /Users/cbarrows/.julia/packages/InfrastructureSystems/yQ40g/src/hdf5_time_series_storage.jl:67\n"
     ]
    },
    {
     "data": {
      "text/html": [
       "<h1>System</h1>\n",
       "<p><b>Base Power</b>: 100.0</p>\n",
       "<h2>Components</h2>\n",
       "<p><b>Num components</b>: 24</p>\n",
       "<table class=\"data-frame\"><thead><tr><th></th><th>ConcreteType</th><th>SuperTypes</th><th>Count</th></tr><tr><th></th><th>String</th><th>String</th><th>Int64</th></tr></thead><tbody><p>8 rows × 3 columns</p><tr><th>1</th><td>Area</td><td>AggregationTopology &lt;: Topology &lt;: Component &lt;: PowerSystemType &lt;: InfrastructureSystemsType &lt;: Any</td><td>1</td></tr><tr><th>2</th><td>Bus</td><td>Topology &lt;: Component &lt;: PowerSystemType &lt;: InfrastructureSystemsType &lt;: Any</td><td>5</td></tr><tr><th>3</th><td>Line</td><td>ACBranch &lt;: Branch &lt;: Device &lt;: Component &lt;: PowerSystemType &lt;: InfrastructureSystemsType &lt;: Any</td><td>5</td></tr><tr><th>4</th><td>LoadZone</td><td>AggregationTopology &lt;: Topology &lt;: Component &lt;: PowerSystemType &lt;: InfrastructureSystemsType &lt;: Any</td><td>1</td></tr><tr><th>5</th><td>PhaseShiftingTransformer</td><td>ACBranch &lt;: Branch &lt;: Device &lt;: Component &lt;: PowerSystemType &lt;: InfrastructureSystemsType &lt;: Any</td><td>2</td></tr><tr><th>6</th><td>PowerLoad</td><td>StaticLoad &lt;: ElectricLoad &lt;: StaticInjection &lt;: Device &lt;: Component &lt;: PowerSystemType &lt;: InfrastructureSystemsType &lt;: Any</td><td>3</td></tr><tr><th>7</th><td>RenewableDispatch</td><td>RenewableGen &lt;: Generator &lt;: StaticInjection &lt;: Device &lt;: Component &lt;: PowerSystemType &lt;: InfrastructureSystemsType &lt;: Any</td><td>2</td></tr><tr><th>8</th><td>ThermalStandard</td><td>ThermalGen &lt;: Generator &lt;: StaticInjection &lt;: Device &lt;: Component &lt;: PowerSystemType &lt;: InfrastructureSystemsType &lt;: Any</td><td>5</td></tr></tbody></table>\n",
       "\n",
       "<h2>Forecasts</h2>\n",
       "<p><b>Resolution</b>: 0 seconds</p>\n",
       "<p><b>Horizon</b>: 0</p>\n",
       "<p><b>Initial Times</b>: </p>\n",
       "<p><b>Interval</b>: 0 seconds</p>\n",
       "<p><b>Components with Forecasts</b>: 0</p>\n",
       "<p><b>Total Forecasts</b>: 0</p>\n"
      ],
      "text/plain": [
       "System\n",
       "======\n",
       "Base Power: 100.0\n",
       "\n",
       "Components\n",
       "==========\n",
       "Num components: 24\n",
       "\n",
       "8×3 DataFrames.DataFrame. Omitted printing of 2 columns\n",
       "│ Row │ ConcreteType             │\n",
       "│     │ \u001b[90mString\u001b[39m                   │\n",
       "├─────┼──────────────────────────┤\n",
       "│ 1   │ Area                     │\n",
       "│ 2   │ Bus                      │\n",
       "│ 3   │ Line                     │\n",
       "│ 4   │ LoadZone                 │\n",
       "│ 5   │ PhaseShiftingTransformer │\n",
       "│ 6   │ PowerLoad                │\n",
       "│ 7   │ RenewableDispatch        │\n",
       "│ 8   │ ThermalStandard          │\n",
       "\n",
       "Forecasts\n",
       "=========\n",
       "Resolution: 0 seconds\n",
       "Horizon: 0\n",
       "Initial Times: \n",
       "Interval: 0 seconds\n",
       "Components with Forecasts: 0\n",
       "Total Forecasts: 0\n"
      ]
     },
     "execution_count": 3,
     "metadata": {},
     "output_type": "execute_result"
    }
   ],
   "source": [
    "sys2 = System(path)"
   ]
  },
  {
   "cell_type": "markdown",
   "metadata": {},
   "source": [
    "---\n",
    "\n",
    "*This notebook was generated using [Literate.jl](https://github.com/fredrikekre/Literate.jl).*"
   ]
  }
 ],
 "metadata": {
  "kernelspec": {
   "display_name": "Julia 1.3.1",
   "language": "julia",
   "name": "julia-1.3"
  },
  "language_info": {
   "file_extension": ".jl",
   "mimetype": "application/julia",
   "name": "julia",
   "version": "1.3.1"
  }
 },
 "nbformat": 4,
 "nbformat_minor": 3
}
