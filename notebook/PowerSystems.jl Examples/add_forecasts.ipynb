{
 "cells": [
  {
   "cell_type": "markdown",
   "metadata": {},
   "source": [
    "# Add Forecasts"
   ]
  },
  {
   "cell_type": "markdown",
   "metadata": {},
   "source": [
    "**Originally Contributed by**: Clayton Barrows"
   ]
  },
  {
   "cell_type": "markdown",
   "metadata": {},
   "source": [
    "## Introduction"
   ]
  },
  {
   "cell_type": "markdown",
   "metadata": {},
   "source": [
    "An example of how to parse add time series data to a `System` using [PowerSystems.jl](github.com/NREL/PowerSystems.jl)\n",
    "\n",
    "For example, a `System` created by [parsing a MATPOWER file](../../notebook/PowerSystems.jl Examples/parse_matpower.ipynb)\n",
    "doesn't contain any time series data. So a user may want to add forecasts to the `System`\n",
    "### Dependencies\n",
    "Let's use the 5-bus dataset we parsed in the MATPOWER example"
   ]
  },
  {
   "cell_type": "code",
   "execution_count": 1,
   "metadata": {},
   "outputs": [
    {
     "name": "stdout",
     "output_type": "stream",
     "text": [
      "\u001b[36m\u001b[1mProject \u001b[22m\u001b[39mSIIPExamples v0.0.1\n",
      "\u001b[32m\u001b[1m    Status\u001b[22m\u001b[39m `~/Documents/repos/Examples/Project.toml`\n",
      " \u001b[90m [9961bab8]\u001b[39m\u001b[37m Cbc v0.6.5\u001b[39m\n",
      " \u001b[90m [5ae59095]\u001b[39m\u001b[37m Colors v0.9.6\u001b[39m\n",
      " \u001b[90m [41994980]\u001b[39m\u001b[37m D3TypeTrees v0.1.1\u001b[39m\n",
      " \u001b[90m [a93c6f00]\u001b[39m\u001b[37m DataFrames v0.19.4\u001b[39m\n",
      " \u001b[90m [e2685f51]\u001b[39m\u001b[37m ECOS v0.10.0\u001b[39m\n",
      " \u001b[90m [60bf3e95]\u001b[39m\u001b[37m GLPK v0.12.0\u001b[39m\n",
      " \u001b[90m [b6b21f68]\u001b[39m\u001b[37m Ipopt v0.6.0\u001b[39m\n",
      " \u001b[90m [4076af6c]\u001b[39m\u001b[37m JuMP v0.20.0\u001b[39m\n",
      " \u001b[90m [51fcb6bd]\u001b[39m\u001b[37m NamedColors v0.2.0\u001b[39m\n",
      " \u001b[90m [f0f68f2c]\u001b[39m\u001b[37m PlotlyJS v0.13.0\u001b[39m\n",
      " \u001b[90m [91a5bcdd]\u001b[39m\u001b[37m Plots v0.27.0\u001b[39m\n",
      " \u001b[90m [e690365d]\u001b[39m\u001b[37m PowerSimulations v0.2.0 #jd/updates_to_canonical (https://github.com/NREL/PowerSimulations.jl.git)\u001b[39m\n",
      " \u001b[90m [bcd98974]\u001b[39m\u001b[37m PowerSystems v0.5.1 #master (https://github.com/NREL/PowerSystems.jl.git)\u001b[39m\n",
      " \u001b[90m [9e3dc215]\u001b[39m\u001b[37m TimeSeries v0.16.0\u001b[39m\n",
      " \u001b[90m [44d3d7a6]\u001b[39m\u001b[37m Weave v0.9.1\u001b[39m\n",
      " \u001b[90m [0f1e0344]\u001b[39m\u001b[37m WebIO v0.8.11\u001b[39m\n"
     ]
    },
    {
     "name": "stderr",
     "output_type": "stream",
     "text": [
      "┌ Info: extending matpower format with data: areas 1x3\n",
      "└ @ PowerSystems /Users/cbarrows/.julia/packages/PowerSystems/LKqny/src/parsers/pm_io/matpower.jl:290\n",
      "┌ Info: extending matpower format with data: gen_name 7x4\n",
      "└ @ PowerSystems /Users/cbarrows/.julia/packages/PowerSystems/LKqny/src/parsers/pm_io/matpower.jl:290\n",
      "┌ Info: extending matpower format by appending matrix \"gen_name\" in to \"gen\"\n",
      "└ @ PowerSystems /Users/cbarrows/.julia/packages/PowerSystems/LKqny/src/parsers/pm_io/matpower.jl:625\n",
      "┌ Info: reversing the orientation of branch 6 (4, 3) to be consistent with other parallel branches\n",
      "└ @ PowerSystems /Users/cbarrows/.julia/packages/PowerSystems/LKqny/src/parsers/pm_io/data.jl:1190\n",
      "┌ Info: the voltage setpoint on generator 4 does not match the value at bus 4\n",
      "└ @ PowerSystems /Users/cbarrows/.julia/packages/PowerSystems/LKqny/src/parsers/pm_io/data.jl:1656\n",
      "┌ Info: the voltage setpoint on generator 1 does not match the value at bus 1\n",
      "└ @ PowerSystems /Users/cbarrows/.julia/packages/PowerSystems/LKqny/src/parsers/pm_io/data.jl:1656\n",
      "┌ Info: the voltage setpoint on generator 5 does not match the value at bus 10\n",
      "└ @ PowerSystems /Users/cbarrows/.julia/packages/PowerSystems/LKqny/src/parsers/pm_io/data.jl:1656\n",
      "┌ Info: the voltage setpoint on generator 2 does not match the value at bus 1\n",
      "└ @ PowerSystems /Users/cbarrows/.julia/packages/PowerSystems/LKqny/src/parsers/pm_io/data.jl:1656\n",
      "┌ Info: the voltage setpoint on generator 3 does not match the value at bus 3\n",
      "└ @ PowerSystems /Users/cbarrows/.julia/packages/PowerSystems/LKqny/src/parsers/pm_io/data.jl:1656\n",
      "┌ Info: removing 1 cost terms from generator 4: [4000.0, 0.0]\n",
      "└ @ PowerSystems /Users/cbarrows/.julia/packages/PowerSystems/LKqny/src/parsers/pm_io/data.jl:1839\n",
      "┌ Info: removing 1 cost terms from generator 1: [1400.0, 0.0]\n",
      "└ @ PowerSystems /Users/cbarrows/.julia/packages/PowerSystems/LKqny/src/parsers/pm_io/data.jl:1839\n",
      "┌ Info: removing 1 cost terms from generator 5: [1000.0, 0.0]\n",
      "└ @ PowerSystems /Users/cbarrows/.julia/packages/PowerSystems/LKqny/src/parsers/pm_io/data.jl:1839\n",
      "┌ Info: removing 1 cost terms from generator 2: [1500.0, 0.0]\n",
      "└ @ PowerSystems /Users/cbarrows/.julia/packages/PowerSystems/LKqny/src/parsers/pm_io/data.jl:1839\n",
      "┌ Info: removing 3 cost terms from generator 6: Float64[]\n",
      "└ @ PowerSystems /Users/cbarrows/.julia/packages/PowerSystems/LKqny/src/parsers/pm_io/data.jl:1839\n",
      "┌ Info: removing 3 cost terms from generator 7: Float64[]\n",
      "└ @ PowerSystems /Users/cbarrows/.julia/packages/PowerSystems/LKqny/src/parsers/pm_io/data.jl:1839\n",
      "┌ Info: removing 1 cost terms from generator 3: [3000.0, 0.0]\n",
      "└ @ PowerSystems /Users/cbarrows/.julia/packages/PowerSystems/LKqny/src/parsers/pm_io/data.jl:1839\n",
      "┌ Info: Constructing System from Power Models\n",
      "│   data[\"name\"] = nesta_case5_pjm\n",
      "│   data[\"source_type\"] = matpower\n",
      "└ @ PowerSystems /Users/cbarrows/.julia/packages/PowerSystems/LKqny/src/parsers/pm2ps_parser.jl:20\n",
      "┌ Info: Reading bus data\n",
      "└ @ PowerSystems /Users/cbarrows/.julia/packages/PowerSystems/LKqny/src/parsers/pm2ps_parser.jl:87\n",
      "┌ Info: Reading generator data\n",
      "└ @ PowerSystems /Users/cbarrows/.julia/packages/PowerSystems/LKqny/src/parsers/pm2ps_parser.jl:349\n",
      "┌ Info: Reading branch data\n",
      "└ @ PowerSystems /Users/cbarrows/.julia/packages/PowerSystems/LKqny/src/parsers/pm2ps_parser.jl:494\n",
      "┌ Info: Reading branch data\n",
      "└ @ PowerSystems /Users/cbarrows/.julia/packages/PowerSystems/LKqny/src/parsers/pm2ps_parser.jl:557\n",
      "┌ Info: Reading DC Line data\n",
      "└ @ PowerSystems /Users/cbarrows/.julia/packages/PowerSystems/LKqny/src/parsers/pm2ps_parser.jl:528\n"
     ]
    },
    {
     "data": {
      "text/html": [
       "<h1>System</h1>\n",
       "<p><b>Base Power</b>: 100.0</p>\n",
       "<h2>Components</h2>\n",
       "<p><b>Num components</b>: 23</p>\n",
       "<table class=\"data-frame\"><thead><tr><th></th><th>ConcreteType</th><th>SuperTypes</th><th>Count</th></tr><tr><th></th><th>String</th><th>String</th><th>Int64</th></tr></thead><tbody><p>7 rows × 3 columns</p><tr><th>1</th><td>Bus</td><td>Topology &lt;: Component &lt;: PowerSystemType &lt;: InfrastructureSystemsType &lt;: Any</td><td>5</td></tr><tr><th>2</th><td>Line</td><td>ACBranch &lt;: Branch &lt;: Device &lt;: Component &lt;: PowerSystemType &lt;: InfrastructureSystemsType &lt;: Any</td><td>5</td></tr><tr><th>3</th><td>LoadZones</td><td>Topology &lt;: Component &lt;: PowerSystemType &lt;: InfrastructureSystemsType &lt;: Any</td><td>1</td></tr><tr><th>4</th><td>PhaseShiftingTransformer</td><td>ACBranch &lt;: Branch &lt;: Device &lt;: Component &lt;: PowerSystemType &lt;: InfrastructureSystemsType &lt;: Any</td><td>2</td></tr><tr><th>5</th><td>PowerLoad</td><td>StaticLoad &lt;: ElectricLoad &lt;: Injection &lt;: Device &lt;: Component &lt;: PowerSystemType &lt;: InfrastructureSystemsType &lt;: Any</td><td>3</td></tr><tr><th>6</th><td>RenewableDispatch</td><td>RenewableGen &lt;: Generator &lt;: Injection &lt;: Device &lt;: Component &lt;: PowerSystemType &lt;: InfrastructureSystemsType &lt;: Any</td><td>2</td></tr><tr><th>7</th><td>ThermalStandard</td><td>ThermalGen &lt;: Generator &lt;: Injection &lt;: Device &lt;: Component &lt;: PowerSystemType &lt;: InfrastructureSystemsType &lt;: Any</td><td>5</td></tr></tbody></table>\n",
       "\n",
       "<h2>Forecasts</h2>\n",
       "<p><b>Resolution</b>: 0 minutes</p>\n",
       "<p><b>Horizon</b>: 0</p>\n",
       "<p><b>Initial Times</b>: </p>\n",
       "<p><b>Interval</b>: 0 seconds</p>\n",
       "<p><b>Components with Forecasts</b>: 0</p>\n",
       "<p><b>Total Forecasts</b>: 0</p>\n"
      ],
      "text/plain": [
       "System\n",
       "======\n",
       "Base Power: 100.0\n",
       "\n",
       "Components\n",
       "==========\n",
       "Num components: 23\n",
       "\n",
       "7×3 DataFrames.DataFrame. Omitted printing of 2 columns\n",
       "│ Row │ ConcreteType             │\n",
       "│     │ \u001b[90mString\u001b[39m                   │\n",
       "├─────┼──────────────────────────┤\n",
       "│ 1   │ Bus                      │\n",
       "│ 2   │ Line                     │\n",
       "│ 3   │ LoadZones                │\n",
       "│ 4   │ PhaseShiftingTransformer │\n",
       "│ 5   │ PowerLoad                │\n",
       "│ 6   │ RenewableDispatch        │\n",
       "│ 7   │ ThermalStandard          │\n",
       "\n",
       "Forecasts\n",
       "=========\n",
       "Resolution: 0 minutes\n",
       "Horizon: 0\n",
       "Initial Times: \n",
       "Interval: 0 seconds\n",
       "Components with Forecasts: 0\n",
       "Total Forecasts: 0\n"
      ]
     },
     "execution_count": 1,
     "metadata": {},
     "output_type": "execute_result"
    }
   ],
   "source": [
    "using SIIPExamples\n",
    "pkgpath = dirname(dirname(pathof(SIIPExamples)))\n",
    "include(joinpath(pkgpath,\"script/PowerSystems.jl Examples/parse_matpower.jl\"))"
   ]
  },
  {
   "cell_type": "markdown",
   "metadata": {},
   "source": [
    "### Define pointers to time series files\n",
    "For example, if we want to add a bunch of time series files, say one for each load and \n",
    "one for each renewable generator, we need to define pointers to each .csv file cotaining \n",
    "the time series in the following format (PowerSystems.jl also supports a CSV format for this file)"
   ]
  },
  {
   "cell_type": "code",
   "execution_count": 2,
   "metadata": {},
   "outputs": [
    {
     "name": "stdout",
     "output_type": "stream",
     "text": [
      "[\n",
      "    {\n",
      "        \"simulation\": \"DAY_AHEAD\",\n",
      "        \"category\": \"Generator\",\n",
      "        \"component_name\": \"SolarBusC\",\n",
      "        \"label\": \"PMax MW\",\n",
      "        \"scaling_factor\": 1.0,\n",
      "        \"data_file\": \"./gen/Renewable/PV/da_solar5.csv\"\n",
      "    },\n",
      "    {\n",
      "        \"simulation\": \"REAL_TIME\",\n",
      "        \"category\": \"Generator\",\n",
      "        \"component_name\": \"WindBusA\",\n",
      "        \"label\": \"PMax MW\",\n",
      "        \"scaling_factor\": 1.0,\n",
      "        \"data_file\": \"./gen/Renewable/WIND/da_wind5.csv\"\n",
      "    },\n",
      "    {\n",
      "        \"simulation\": \"REAL_TIME\",\n",
      "        \"category\": \"ElectricLoad\",\n",
      "        \"component_name\": \"bus2\",\n",
      "        \"label\": \"MW Load\",\n",
      "        \"scaling_factor\": 1.0,\n",
      "        \"data_file\": \"./load/da_load5.csv\"\n",
      "    },\n",
      "    {\n",
      "        \"simulation\": \"REAL_TIME\",\n",
      "        \"category\": \"ElectricLoad\",\n",
      "        \"component_name\": \"bus3\",\n",
      "        \"label\": \"MW Load\",\n",
      "        \"scaling_factor\": 1.0,\n",
      "        \"data_file\": \"./load/da_load5.csv\"\n",
      "    },\n",
      "    {\n",
      "        \"simulation\": \"REAL_TIME\",\n",
      "        \"category\": \"ElectricLoad\",\n",
      "        \"component_name\": \"bus4\",\n",
      "        \"label\": \"MW Load\",\n",
      "        \"scaling_factor\": 1.0,\n",
      "        \"data_file\": \"./load/da_load5.csv\"\n",
      "    }\n",
      "]\n"
     ]
    }
   ],
   "source": [
    "FORECASTS_DIR = joinpath(base_dir,\"data/forecasts/5bus_ts\")\n",
    "fname = joinpath(FORECASTS_DIR,\"timeseries_pointers_da.json\")\n",
    "open(fname,\"r\") do f\n",
    "    for line in eachline(f)\n",
    "        println(line)\n",
    "    end\n",
    "end"
   ]
  },
  {
   "cell_type": "markdown",
   "metadata": {},
   "source": [
    "### Map labels to fields in `PowerSystemTypes`\n",
    "next we need to define the fields that each time series file references. The above file\n",
    "has two unique combinations of `category` and `label`, so we need to make a label mapping\n",
    "to match each of those to the `component` fields."
   ]
  },
  {
   "cell_type": "code",
   "execution_count": null,
   "metadata": {},
   "outputs": [],
   "source": [
    "label_mapping = Dict((\"electricload\",\"MW Load\") => \"maxactivepower\",\n",
    "    (\"generator\",\"PMax MW\") => [\"get_tech\",\"get_rating\"])"
   ]
  },
  {
   "cell_type": "markdown",
   "metadata": {},
   "source": [
    "### Read the pointers and label mappings"
   ]
  },
  {
   "cell_type": "code",
   "execution_count": null,
   "metadata": {},
   "outputs": [],
   "source": [
    "ts_pointers = IS.read_time_series_metadata(fname, label_mapping)"
   ]
  },
  {
   "cell_type": "markdown",
   "metadata": {},
   "source": [
    "### Read and assign forecasts to `System`"
   ]
  },
  {
   "cell_type": "code",
   "execution_count": null,
   "metadata": {},
   "outputs": [],
   "source": [
    "add_forecasts!(sys, ts_pointers)\n",
    "sys"
   ]
  }
 ],
 "metadata": {
  "kernelspec": {
   "display_name": "Julia 1.2.0",
   "language": "julia",
   "name": "julia-1.2"
  },
  "language_info": {
   "file_extension": ".jl",
   "mimetype": "application/julia",
   "name": "julia",
   "version": "1.2.0"
  }
 },
 "nbformat": 4,
 "nbformat_minor": 2
}
