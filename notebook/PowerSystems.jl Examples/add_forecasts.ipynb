{
  "cells": [
    {
      "cell_type": "markdown",
      "source": [
        "# Parsing MATPOWER Files"
      ],
      "metadata": {}
    },
    {
      "cell_type": "markdown",
      "source": [
        "**Originally Contributed by**: Clayton Barrows"
      ],
      "metadata": {}
    },
    {
      "cell_type": "markdown",
      "source": [
        "## Introduction"
      ],
      "metadata": {}
    },
    {
      "cell_type": "markdown",
      "source": [
        "An example of how to parse MATPOWER files and create a `System` using [PowerSystems.jl](github.com/NREL/PowerSystems.jl)"
      ],
      "metadata": {}
    },
    {
      "cell_type": "markdown",
      "source": [
        "### Environemnt\nThis notebook depends on the SIIPExamples.jl environment"
      ],
      "metadata": {}
    },
    {
      "outputs": [],
      "cell_type": "code",
      "source": [
        "using Pkg\nPkg.activate(\"../../.\")"
      ],
      "metadata": {},
      "execution_count": null
    },
    {
      "cell_type": "markdown",
      "source": [
        "### Dependencies"
      ],
      "metadata": {}
    },
    {
      "outputs": [],
      "cell_type": "code",
      "source": [
        "using PowerSystems\nusing TimeSeries\nconst PSY = PowerSystems\nconst IS = PSY.InfrastructureSystems;"
      ],
      "metadata": {},
      "execution_count": null
    },
    {
      "cell_type": "markdown",
      "source": [
        "### Fetch Data\nPowerSystems.jl links to some test data that is suitable for this example. \nLet's download the test data"
      ],
      "metadata": {}
    },
    {
      "outputs": [],
      "cell_type": "code",
      "source": [
        "PSY.download(PSY.TestData; branch = \"master\")\nbase_dir = dirname(dirname(pathof(PowerSystems)));"
      ],
      "metadata": {},
      "execution_count": null
    },
    {
      "cell_type": "markdown",
      "source": [
        "### Create a `System`"
      ],
      "metadata": {}
    },
    {
      "outputs": [],
      "cell_type": "code",
      "source": [
        "sys_matpower = PSY.parse_standard_files(joinpath(base_dir, \"data/matpower/RTS_GMLC.m\"));\n\nsys_matpower\n\n\n\n\n\nsys_psse = PSY.parse_standard_files(joinpath(base_dir,\"data/psse_raw/RTS-GMLC.RAW\"));\n\nsys_psse\n\nsys_psse\n\n\n\n\n\nRTS_GMLC_DIR = joinpath(base_dir,\"data/RTS_GMLC\");\n\n#parse in tabular data\nrawsys = PSY.PowerSystemTableData(RTS_GMLC_DIR,100.0, joinpath(RTS_GMLC_DIR,\"user_descriptors.yaml\"))\n\n#create an hourly model from tabular data\nsys = System(rawsys; forecast_resolution = Dates.Hour(1));\n\nsys\n\n\n\n\n\nFORECASTS_DIR = joinpath(base_dir,\"data/forecasts/\")\n\n\nsys_5 = PSY.parse_standard_files(joinpath(base_dir, \"data/matpower\", \"case5_re.m\"))\n\nlabel_mapping = Dict((\"electricload\",\"MW Load\") => \"maxactivepower\",\n    (\"generator\",\"PMax MW\") => \"rating\")\n\nts_pointers = IS.read_time_series_metadata(joinpath(FORECASTS_DIR,\n                            \"5bus_ts\",\"timeseries_pointers_da.json\"), label_mapping)\n\nfieldnames(PowerLoad)\n\nadd_forecasts!(sys_5, ts_pointers)\nsys_5\n\n\n\n\n\n\n\npath, io = mktemp()\n@info \"Serializing to $path\"\nto_json(io, sys)\nclose(io)\n\nfilesize(path)/1000000 #MB\n\nsys2 = System(path)"
      ],
      "metadata": {},
      "execution_count": null
    }
  ],
  "nbformat_minor": 2,
  "metadata": {
    "language_info": {
      "file_extension": ".jl",
      "mimetype": "application/julia",
      "name": "julia",
      "version": "1.2.0"
    },
    "kernelspec": {
      "name": "julia-1.2",
      "display_name": "Julia 1.2.0",
      "language": "julia"
    }
  },
  "nbformat": 4
}
