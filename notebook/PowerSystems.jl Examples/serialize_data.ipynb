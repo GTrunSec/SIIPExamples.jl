{
  "cells": [
    {
      "cell_type": "markdown",
      "source": [
        "# Serializing PowerSystem Data"
      ],
      "metadata": {}
    },
    {
      "cell_type": "markdown",
      "source": [
        "**Originally Contributed by**: Clayton Barrows"
      ],
      "metadata": {}
    },
    {
      "cell_type": "markdown",
      "source": [
        "## Introduction"
      ],
      "metadata": {}
    },
    {
      "cell_type": "markdown",
      "source": [
        "PowerSystems.jl supports serializing/deserializing data with JSON. This notebook \nprovides an example of how to write and read a `System` to/from disk."
      ],
      "metadata": {}
    },
    {
      "cell_type": "markdown",
      "source": [
        "### Dependencies\nLet's use a dataset from one of the parsing examples"
      ],
      "metadata": {}
    },
    {
      "outputs": [],
      "cell_type": "code",
      "source": [
        "include(\"../../script/PowerSystems.jl Examples/parse_tabulardata.jl\")"
      ],
      "metadata": {},
      "execution_count": null
    },
    {
      "cell_type": "markdown",
      "source": [
        "### Write data to a temporary directory"
      ],
      "metadata": {}
    },
    {
      "outputs": [],
      "cell_type": "code",
      "source": [
        "path, io = mktemp()\n@info \"Serializing to $path\"\nto_json(io, sys)\nclose(io)\n\nfilesize(path)/1000000 #MB"
      ],
      "metadata": {},
      "execution_count": null
    },
    {
      "cell_type": "markdown",
      "source": [
        "### Read the JSON file and create a new `System`"
      ],
      "metadata": {}
    },
    {
      "outputs": [],
      "cell_type": "code",
      "source": [
        "sys2 = System(path)"
      ],
      "metadata": {},
      "execution_count": null
    }
  ],
  "nbformat_minor": 2,
  "metadata": {
    "language_info": {
      "file_extension": ".jl",
      "mimetype": "application/julia",
      "name": "julia",
      "version": "1.2.0"
    },
    "kernelspec": {
      "name": "julia-1.2",
      "display_name": "Julia 1.2.0",
      "language": "julia"
    }
  },
  "nbformat": 4
}
