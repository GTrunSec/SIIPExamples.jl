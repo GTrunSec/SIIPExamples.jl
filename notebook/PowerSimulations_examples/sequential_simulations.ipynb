{
  "cells": [
    {
      "cell_type": "markdown",
      "source": [
        "# Sequential Simulations with [PowerSimulations.jl](https:&#x2F;&#x2F;github.com&#x2F;NREL&#x2F;PowerSimulations.jl)"
      ],
      "metadata": {}
    },
    {
      "cell_type": "markdown",
      "source": [
        "**Originally Contributed by**: Clayton Barrows"
      ],
      "metadata": {}
    },
    {
      "cell_type": "markdown",
      "source": [
        "## Introduction"
      ],
      "metadata": {}
    },
    {
      "cell_type": "markdown",
      "source": [
        "PowerSimulations.jl supports simulations that consist of sequential optimization problems \nwhere results from previous problems inform subsequent problems in a variety of ways this \nnotebook demonstrates some of these capabilities to represent electricitty market clearing."
      ],
      "metadata": {}
    },
    {
      "cell_type": "markdown",
      "source": [
        "### Dependencies\nLet's use the basic RTS-GMLC dataset from one of the parsing examples"
      ],
      "metadata": {}
    },
    {
      "outputs": [],
      "cell_type": "code",
      "source": [
        "using SIIPExamples\npkgpath = dirname(dirname(pathof(SIIPExamples)))\ninclude(joinpath(pkgpath,\"test/PowerSystems_examples/parse_tabulardata.jl\"))"
      ],
      "metadata": {},
      "execution_count": null
    },
    {
      "cell_type": "markdown",
      "source": [
        "### Modeling Packages"
      ],
      "metadata": {}
    },
    {
      "outputs": [],
      "cell_type": "code",
      "source": [
        "using DataFrames\nusing PowerSimulations\nusing JuMP\nusing Cbc\nCbc_optimizer = JuMP.with_optimizer(Cbc.Optimizer, logLevel=1, ratioGap=0.1)\n\nconst PSI = PowerSimulations;\nconst PSY = PowerSystems;"
      ],
      "metadata": {},
      "execution_count": null
    },
    {
      "cell_type": "markdown",
      "source": [
        "### Make a system from the 5-minute data"
      ],
      "metadata": {}
    },
    {
      "outputs": [],
      "cell_type": "code",
      "source": [
        "sys_RT = System(rawsys; forecast_resolution = Dates.Minute(5))"
      ],
      "metadata": {},
      "execution_count": null
    },
    {
      "cell_type": "markdown",
      "source": [
        "### Define inittial times for simulatiton\nWe can create a vector of initial times for a system by defining the step length and the \nhorizon. For example, we can create a set of initial times that represent 12hr steps every\n6hrs from the hourly `system`."
      ],
      "metadata": {}
    },
    {
      "outputs": [],
      "cell_type": "code",
      "source": [
        "DA_initial_times = PSY.generate_initial_times(sys, Dates.Hour(6), 12)"
      ],
      "metadata": {},
      "execution_count": null
    },
    {
      "cell_type": "markdown",
      "source": [
        "Similarly, we can create a set of initial times corresponding to 2hr (24x5min) steps every\n1hr from the 5-minute `system`."
      ],
      "metadata": {}
    },
    {
      "outputs": [],
      "cell_type": "code",
      "source": [
        "RT_initial_times = PSY.generate_initial_times(sys_RT, Dates.Hour(1), 24)"
      ],
      "metadata": {},
      "execution_count": null
    },
    {
      "cell_type": "markdown",
      "source": [
        "### Define the reference model for the unit commitment"
      ],
      "metadata": {}
    },
    {
      "outputs": [],
      "cell_type": "code",
      "source": [
        "branches = Dict{Symbol, DeviceModel}(#:L => DeviceModel(PSY.Line, PSI.StaticLine),\n                                     #:T => DeviceModel(PSY.Transformer2W, PSI.StaticTransformer),\n                                     #:TT => DeviceModel(PSY.TapTransformer, PSI.StaticTransformer),\n                                     #:dc_line => DeviceModel(PSY.HVDCLine, PSI.HVDCDispatch)\n                                    )\n\nservices = Dict{Symbol, PSI.ServiceModel}()\n\ndevices = Dict{Symbol, DeviceModel}(:Generators => DeviceModel(PSY.ThermalStandard, PSI.ThermalBasicUnitCommitment),\n                                    :Ren => DeviceModel(PSY.RenewableDispatch, PSI.RenewableFullDispatch),\n                                    :Loads =>  DeviceModel(PSY.PowerLoad, PSI.StaticPowerLoad),\n                                    #:ILoads =>  DeviceModel(PSY.InterruptibleLoad, PSI.StaticPowerLoad),\n                                    )       \n\n\nmodel_ref_uc= OperationsProblemTemplate(CopperPlatePowerModel, devices, branches, services);"
      ],
      "metadata": {},
      "execution_count": null
    },
    {
      "cell_type": "markdown",
      "source": [
        "### Define the reference model for the economic dispatch"
      ],
      "metadata": {}
    },
    {
      "outputs": [],
      "cell_type": "code",
      "source": [
        "branches = Dict{Symbol, DeviceModel}(#:L => DeviceModel(PSY.Line, PSI.StaticLine),\n                                     #:T => DeviceModel(PSY.Transformer2W, PSI.StaticTransformer),\n                                     #:TT => DeviceModel(PSY.TapTransformer, PSI.StaticTransformer),\n                                     #:dc_line => DeviceModel(PSY.HVDCLine, PSI.HVDCDispatch)\n                                        )\n\nservices = Dict{Symbol, PSI.ServiceModel}()\n\ndevices = Dict{Symbol, DeviceModel}(:Generators => DeviceModel(PSY.ThermalStandard, PSI.ThermalDispatch, SemiContinuousFF(:P, :ON)),\n                                    :Ren => DeviceModel(PSY.RenewableDispatch, PSI.RenewableFullDispatch),\n                                    :Loads =>  DeviceModel(PSY.PowerLoad, PSI.StaticPowerLoad),\n                                    #:ILoads =>  DeviceModel(PSY.InterruptibleLoad, PSI.DispatchablePowerLoad),\n                                    )       \n\nmodel_ref_ed= OperationsProblemTemplate(CopperPlatePowerModel, devices, branches, services);"
      ],
      "metadata": {},
      "execution_count": null
    },
    {
      "cell_type": "markdown",
      "source": [
        "## Define the stages\nStages define a model. The actual problem will change as the stage gets updated to represent\ndifferent time periods, but the formulations applied to the components is constant within a stage."
      ],
      "metadata": {}
    },
    {
      "cell_type": "markdown",
      "source": [
        "### Day-Ahead UC stage\nThe UC stage is defined with:\n - formulation = `model_ref_uc`\n - each problem contains 24 time periods\n - each execution steps forward with a 1/2 day interval\n - executed once before moving on to RT stage\n - `System` = `sys`\n - Optimized with the 'Cbc_optimizer'\n - Each exection has information coming from self (0)"
      ],
      "metadata": {}
    },
    {
      "outputs": [],
      "cell_type": "code",
      "source": [
        "DA_stage = Stage(model_ref_uc, \n                 24, \n                 Dates.Hour(12), \n                 1, \n                 sys, \n                 Cbc_optimizer, \n                 Dict(0=> Sequential()))"
      ],
      "metadata": {},
      "execution_count": null
    },
    {
      "cell_type": "markdown",
      "source": [
        "### Real-Time ED stage\nFirst, lets define how the stage get's information from other executions:\n - Information is passed from previous executions of RT problems (`0 => Sequential()`)\n - Information is passed from previous executions of DA problems by gathering results from 12 DA periods (hours) and using each period value in 4 15-minute RT periods (`1 => Synchronize(24,4)`)"
      ],
      "metadata": {}
    },
    {
      "outputs": [],
      "cell_type": "code",
      "source": [
        "chrono = Dict(1 => Synchronize(12,4), 0 => Sequential())"
      ],
      "metadata": {},
      "execution_count": null
    },
    {
      "cell_type": "markdown",
      "source": [
        "The ED stage is defined with:\n - formulation = `model_ref_ed`\n - each problem contains 3 time periods\n - each execution steps forward with a 15 minute interval\n - executed 48x (4x12) before returning to DA stage\n - `System` = `sys_RT`\n - Optimized with the 'Cbc_optimizer'\n - Each exection has information coming from self (0), and DA stage (1). Where DA infromation is"
      ],
      "metadata": {}
    },
    {
      "outputs": [],
      "cell_type": "code",
      "source": [
        "RT_stage = Stage(model_ref_ed, \n                3,\n                Dates.Minute(15),\n                48, \n                sys_RT, \n                Cbc_optimizer, \n                chrono, \n                TimeStatusChange(:ON_ThermalStandard))"
      ],
      "metadata": {},
      "execution_count": null
    },
    {
      "cell_type": "markdown",
      "source": [
        "Put the stages in a dict"
      ],
      "metadata": {}
    },
    {
      "outputs": [],
      "cell_type": "code",
      "source": [
        "stages = Dict(1 => DA_stage,\n              2 => RT_stage)"
      ],
      "metadata": {},
      "execution_count": null
    },
    {
      "cell_type": "markdown",
      "source": [
        "### Build the simulation"
      ],
      "metadata": {}
    },
    {
      "outputs": [],
      "cell_type": "code",
      "source": [
        "mkdir(\"./tmp\")\nsim = Simulation(\"test\", 1, stages, \"./tmp/\"; verbose = true, system_to_file = false, horizon=1)"
      ],
      "metadata": {},
      "execution_count": null
    },
    {
      "cell_type": "markdown",
      "source": [
        "### Execute the simulation"
      ],
      "metadata": {}
    },
    {
      "outputs": [],
      "cell_type": "code",
      "source": [
        "res = execute!(sim, verbose=true)"
      ],
      "metadata": {},
      "execution_count": null
    },
    {
      "cell_type": "markdown",
      "source": [
        "### Examine results"
      ],
      "metadata": {}
    },
    {
      "outputs": [],
      "cell_type": "code",
      "source": [
        "rt_results = load_simulation_results(res,2)"
      ],
      "metadata": {},
      "execution_count": null
    }
  ],
  "nbformat_minor": 2,
  "metadata": {
    "language_info": {
      "file_extension": ".jl",
      "mimetype": "application/julia",
      "name": "julia",
      "version": "1.2.0"
    },
    "kernelspec": {
      "name": "julia-1.2",
      "display_name": "Julia 1.2.0",
      "language": "julia"
    }
  },
  "nbformat": 4
}
