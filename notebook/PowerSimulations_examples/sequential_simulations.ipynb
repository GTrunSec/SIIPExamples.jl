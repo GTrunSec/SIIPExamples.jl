{
 "cells": [
  {
   "outputs": [],
   "cell_type": "markdown",
   "source": [
    "# Sequential Simulations with [PowerSimulations.jl](https://github.com/NREL/PowerSimulations.jl)"
   ],
   "metadata": {}
  },
  {
   "outputs": [],
   "cell_type": "markdown",
   "source": [
    "**Originally Contributed by**: Clayton Barrows"
   ],
   "metadata": {}
  },
  {
   "outputs": [],
   "cell_type": "markdown",
   "source": [
    "## Introduction"
   ],
   "metadata": {}
  },
  {
   "outputs": [],
   "cell_type": "markdown",
   "source": [
    "PowerSimulations.jl supports simulations that consist of sequential optimization problems\n",
    "where results from previous problems inform subsequent problems in a variety of ways. This\n",
    "example demonstrates some of these capabilities to represent electricitty market clearing."
   ],
   "metadata": {}
  },
  {
   "outputs": [],
   "cell_type": "markdown",
   "source": [
    "## Dependencies\n",
    "Since the `OperatiotnsProblem` is the fundamental building block of a sequential\n",
    "simulation in PowerSimulations, we will build on the [OperationsProblem example](../../notebook/PowerSimulations_examples/operations_problems.ipynb)\n",
    "by sourcing it as a dependency."
   ],
   "metadata": {}
  },
  {
   "outputs": [],
   "cell_type": "code",
   "source": [
    "using SIIPExamples\n",
    "pkgpath = dirname(dirname(pathof(SIIPExamples)))\n",
    "include(joinpath(pkgpath,\"test/PowerSimulations_examples/operations_problems.jl\"))"
   ],
   "metadata": {},
   "execution_count": null
  },
  {
   "outputs": [],
   "cell_type": "markdown",
   "source": [
    "### 5-Minute system\n",
    "We had already created a `sys::System` from hourly RTS data in the OperationsProblem example.\n",
    "The RTS data also includes 5-minute resolution time series data. So, we can create another\n",
    "`System`:"
   ],
   "metadata": {}
  },
  {
   "outputs": [],
   "cell_type": "code",
   "source": [
    "sys_RT = System(rawsys; forecast_resolution = Dates.Minute(5))"
   ],
   "metadata": {},
   "execution_count": null
  },
  {
   "outputs": [],
   "cell_type": "markdown",
   "source": [
    "## `OperationsProblemTemplate`s define `Stage`s\n",
    "Sequential simulations in PowerSimulations are created by defining `OperationsProblems`\n",
    "that represent `Stages`, and how information flows between executions of a `Stage` and\n",
    "between different `Stage`s.\n",
    "\n",
    "Let's start by defining a two stage simulation that might look like a typical day-Ahead\n",
    "and real-time electricity market clearing process."
   ],
   "metadata": {}
  },
  {
   "outputs": [],
   "cell_type": "markdown",
   "source": [
    "### Define the reference model for the day-ahead unit commitment\n",
    "We defined a basic UC template in the [OperationsProblem example](../../notebook/PowerSimulations_examples/operations_problems.ipynb)\n",
    "so we can use that."
   ],
   "metadata": {}
  },
  {
   "outputs": [],
   "cell_type": "markdown",
   "source": [
    "print(template_uc)"
   ],
   "metadata": {}
  },
  {
   "outputs": [],
   "cell_type": "markdown",
   "source": [
    "### Define the reference model for the real-time economic dispatch\n",
    "For the most part, this can be pretty similar to the `template_uc` definition. But\n",
    "we should change a few things to be consistent with typical economic dispatch specifications."
   ],
   "metadata": {}
  },
  {
   "outputs": [],
   "cell_type": "markdown",
   "source": [
    "First, let's change the injection device specification to represent `ThermalStandard`\n",
    "generators with a dispatch formulation. Otherwise, we can keep the rest of the injection\n",
    "`DeviceModel`s the same."
   ],
   "metadata": {}
  },
  {
   "outputs": [],
   "cell_type": "code",
   "source": [
    "devices = Dict(:Generators => DeviceModel(ThermalStandard, ThermalDispatchNoMin),\n",
    "                                    :Ren => DeviceModel(RenewableDispatch, RenewableFullDispatch),\n",
    "                                    :Loads =>  DeviceModel(PowerLoad, StaticPowerLoad),\n",
    "                                    :HydroROR => DeviceModel(HydroFix, HydroFixed),\n",
    "                                    :RenFx => DeviceModel(RenewableFix, RenewableFixed),\n",
    "                                    :ILoads =>  DeviceModel(InterruptibleLoad, InterruptiblePowerLoad),\n",
    "                                    )"
   ],
   "metadata": {},
   "execution_count": null
  },
  {
   "outputs": [],
   "cell_type": "markdown",
   "source": [
    "Finally, let's create an economic dispatch `OperationsProblemTemplate` with the new\n",
    "injetion devices dict, and with an empty dict for the services (we can release all\n",
    "reserves in the real-time)."
   ],
   "metadata": {}
  },
  {
   "outputs": [],
   "cell_type": "code",
   "source": [
    "template_ed= OperationsProblemTemplate(CopperPlatePowerModel, devices, branches, Dict());"
   ],
   "metadata": {},
   "execution_count": null
  },
  {
   "outputs": [],
   "cell_type": "markdown",
   "source": [
    "### Define the `Stage`s\n",
    "Stages define models. The actual problem will change as the stage gets updated to represent\n",
    "different time periods, but the formulations applied to the components is constant within\n",
    "a stage. In this case, we want to define two stages with the `OperationsProblemTemplate`s\n",
    "and the `System`s that we've already created."
   ],
   "metadata": {}
  },
  {
   "outputs": [],
   "cell_type": "code",
   "source": [
    "stages_definition = Dict(\"UC\" => Stage(GenericOpProblem, template_uc, sys, Cbc_optimizer),\n",
    "                            \"ED\" => Stage(GenericOpProblem, template_ed, sys_RT, Cbc_optimizer))"
   ],
   "metadata": {},
   "execution_count": null
  },
  {
   "outputs": [],
   "cell_type": "markdown",
   "source": [
    "### `SimulationSequence`\n",
    "Similar to an `OperationsProblemTemplate`, the `SimulationSequence` provides a template of\n",
    "how to execute a sequential set of operations problems."
   ],
   "metadata": {}
  },
  {
   "outputs": [],
   "cell_type": "markdown",
   "source": [
    "print_struct(SimulationSequence)"
   ],
   "metadata": {}
  },
  {
   "outputs": [],
   "cell_type": "markdown",
   "source": [
    "Let's review some of the `SimulationSequence` arguments."
   ],
   "metadata": {}
  },
  {
   "outputs": [],
   "cell_type": "markdown",
   "source": [
    "### Chrologies\n",
    "In PowerSimulations, chronologies define where information is flowing. There are two types\n",
    "of chronogies.\n",
    " - inter-stage chronologies: Define how information flows between stages. e.g. day-ahead\n",
    "solutions are used to inform economic dispatch problems\n",
    " - intra-stage chronologies: Define how information flows between multiple executions of a\n",
    "single stage. e.g. the dispatch setpoints of the first period of an economic dispatch problem\n",
    "are constrained by the ramping limits from setpoints in the final period of the previous problem."
   ],
   "metadata": {}
  },
  {
   "outputs": [],
   "cell_type": "markdown",
   "source": [
    "Let's define an inter-stage chronolgy that synchronizes information from 24 periods of\n",
    "the first stage with a set of executions of the second stage:"
   ],
   "metadata": {}
  },
  {
   "outputs": [],
   "cell_type": "code",
   "source": [
    "inter_stage_chronologies = Dict((\"UC\"=>\"ED\") => Synchronize(periods = 24))"
   ],
   "metadata": {},
   "execution_count": null
  },
  {
   "outputs": [],
   "cell_type": "markdown",
   "source": [
    "Next, let's define an intra-stage chronology (initial condition chronology) that informs\n",
    "problem initial conditions from previous executions of the same stage."
   ],
   "metadata": {}
  },
  {
   "outputs": [],
   "cell_type": "code",
   "source": [
    "ini_cond_chronology = Dict(\"UC\" => Consecutive(), \"ED\" => Consecutive())"
   ],
   "metadata": {},
   "execution_count": null
  },
  {
   "outputs": [],
   "cell_type": "markdown",
   "source": [
    "### `FeedForward` and `Cache`\n",
    "The definition of exactly what information is passed using the defined chronologies is\n",
    "accomplished with `FeedForward` and `Cache` objects. Specifically, `FeedForward` is used\n",
    "to define what to do with information being passed with an inter-stage chronology. Let's\n",
    "define a `FeedForward` that affects the semi-continus range constraints of thermal generators\n",
    "in the economic dispatch problems based on the value of the unit-commitment variables."
   ],
   "metadata": {}
  },
  {
   "outputs": [],
   "cell_type": "code",
   "source": [
    "feed_forward = Dict((\"ED\", :devices, :Generators) => SemiContinuousFF(binary_from_stage = Symbol(PSI.ON),\n",
    "                                                         affected_variables = [Symbol(PSI.REAL_POWER)]))"
   ],
   "metadata": {},
   "execution_count": null
  },
  {
   "outputs": [],
   "cell_type": "markdown",
   "source": [
    "The `Cache` is simply a way to preserve needed information for later use. In the case of\n",
    "a typical day-ahead - real-time market simulaiton, there are many economic dispatch executions\n",
    "in between each unit-commitment execution. Rather than keeping the full set of results from\n",
    "previous unit-commitment simulations in memory to be used in later executions, we can define\n",
    "exactly which results will be needed and carry them through a cache in the economic dispatch\n",
    "problems for later use."
   ],
   "metadata": {}
  },
  {
   "outputs": [],
   "cell_type": "code",
   "source": [
    "cache = Dict(\"ED\" => [TimeStatusChange(PSI.ON, PSY.ThermalStandard)])"
   ],
   "metadata": {},
   "execution_count": null
  },
  {
   "outputs": [],
   "cell_type": "markdown",
   "source": [
    "### Sequencing\n",
    "The stage problem length, look-ahead, and other details surrounding the temporal Sequencing\n",
    "of stages are controled using the `order`, `horizons`, and `intervals` arguments.\n",
    " - order::Dictt(Int, String) : the hierarchical order of stages in the simulation\n",
    " - horizons::Dict(String, Int) : defines the number of time periods in each stage (problem length)\n",
    " - intervals::Dict(String, Dates.Period) : defines the interval with which stage problems\n",
    "advance after each execution. e.g. day-ahead problems have an interval of 24-hours\n",
    "\n",
    "So, to define a typical day-ahead - real-time sequence, we can define the following:\n",
    " - Day ahead problems should represent 48 hours, advancing 24 hours after each execution (24-hour look-ahead)\n",
    " - Real time problems should represent 1 hour (12 5-minute periods), advancing 1 hour after each execution (no look-ahead)"
   ],
   "metadata": {}
  },
  {
   "outputs": [],
   "cell_type": "code",
   "source": [
    "order = Dict(1 => \"UC\", 2 => \"ED\")\n",
    "horizons = Dict(\"UC\" => 48, \"ED\" =>12)\n",
    "intervals = Dict(\"UC\" => Hour(24), \"ED\" => Hour(1))"
   ],
   "metadata": {},
   "execution_count": null
  },
  {
   "outputs": [],
   "cell_type": "markdown",
   "source": [
    "Finally, we can put it all together:"
   ],
   "metadata": {}
  },
  {
   "outputs": [],
   "cell_type": "code",
   "source": [
    "DA_RT_sequence = SimulationSequence(order = order,\n",
    "                                    horizons = horizons,\n",
    "                                    intervals = intervals,\n",
    "                                    intra_stage_chronologies = inter_stage_chronologies,\n",
    "                                    ini_cond_chronology = ini_cond_chronology,\n",
    "                                    feed_forward = feed_forward,\n",
    "                                    cache = cache)"
   ],
   "metadata": {},
   "execution_count": null
  },
  {
   "outputs": [],
   "cell_type": "markdown",
   "source": [
    "## `Simulation`\n",
    "Now, we can build and executte a simulation using the `SimulationSequence` and `Stage`s\n",
    "that we've defined."
   ],
   "metadata": {}
  },
  {
   "outputs": [],
   "cell_type": "code",
   "source": [
    "file_path = tempdir()\n",
    "sim = Simulation(name = \"rts-test\",\n",
    "                steps = 2, step_resolution = Hour(24),\n",
    "                stages = stages_definition,\n",
    "                stages_sequence = DA_RT_sequence,\n",
    "                simulation_folder = file_path)"
   ],
   "metadata": {},
   "execution_count": null
  },
  {
   "outputs": [],
   "cell_type": "markdown",
   "source": [
    "### Build simulaiton"
   ],
   "metadata": {}
  },
  {
   "outputs": [],
   "cell_type": "code",
   "source": [
    "build!(sim)"
   ],
   "metadata": {},
   "execution_count": null
  },
  {
   "outputs": [],
   "cell_type": "markdown",
   "source": [
    "### Execute simulation"
   ],
   "metadata": {}
  },
  {
   "outputs": [],
   "cell_type": "code",
   "source": [
    "sim_results = execute!(sim)"
   ],
   "metadata": {},
   "execution_count": null
  },
  {
   "outputs": [],
   "cell_type": "markdown",
   "source": [
    "## Results"
   ],
   "metadata": {}
  },
  {
   "outputs": [],
   "cell_type": "code",
   "source": [
    "uc_results = load_simulation_results(sim_results, \"UC\");\n",
    "ed_results = load_simulation_results(sim_results, \"ED\");"
   ],
   "metadata": {},
   "execution_count": null
  },
  {
   "outputs": [],
   "cell_type": "markdown",
   "source": [
    "---\n",
    "\n",
    "*This notebook was generated using [Literate.jl](https://github.com/fredrikekre/Literate.jl).*"
   ],
   "metadata": {}
  }
 ],
 "nbformat_minor": 3,
 "metadata": {
  "language_info": {
   "file_extension": ".jl",
   "mimetype": "application/julia",
   "name": "julia",
   "version": "1.3.1"
  },
  "kernelspec": {
   "name": "julia-1.3",
   "display_name": "Julia 1.3.1",
   "language": "julia"
  }
 },
 "nbformat": 4
}
