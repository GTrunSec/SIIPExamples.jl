{
 "cells": [
  {
   "cell_type": "markdown",
   "source": [
    "# Sequential Simulations with [PowerSimulations.jl](https://github.com/NREL-SIIP/PowerSimulations.jl)"
   ],
   "metadata": {}
  },
  {
   "cell_type": "markdown",
   "source": [
    "**Originally Contributed by**: Clayton Barrows"
   ],
   "metadata": {}
  },
  {
   "cell_type": "markdown",
   "source": [
    "## Introduction"
   ],
   "metadata": {}
  },
  {
   "cell_type": "markdown",
   "source": [
    "PowerSimulations.jl supports simulations that consist of sequential optimization problems\n",
    "where results from previous problems inform subsequent problems in a variety of ways. This\n",
    "example demonstrates some of these capabilities to represent electricity market clearing."
   ],
   "metadata": {}
  },
  {
   "cell_type": "markdown",
   "source": [
    "## Dependencies\n",
    "Since the `OperatiotnsProblem` is the fundamental building block of a sequential\n",
    "simulation in PowerSimulations, we will build on the [OperationsProblem example](../../notebook/PowerSimulations_examples/1_operations_problems.ipynb)\n",
    "by sourcing it as a dependency."
   ],
   "metadata": {}
  },
  {
   "outputs": [
    {
     "name": "stdout",
     "output_type": "stream",
     "text": [
      "┌ Info: Parsing csv data in branch.csv ...\n",
      "└ @ PowerSystems /Users/cbarrows/.julia/packages/PowerSystems/YdVQU/src/parsers/power_system_table_data.jl:148\n",
      "┌ Info: Successfully parsed branch.csv\n",
      "└ @ PowerSystems /Users/cbarrows/.julia/packages/PowerSystems/YdVQU/src/parsers/power_system_table_data.jl:153\n",
      "┌ Info: Parsing csv data in bus.csv ...\n",
      "└ @ PowerSystems /Users/cbarrows/.julia/packages/PowerSystems/YdVQU/src/parsers/power_system_table_data.jl:148\n",
      "┌ Info: Successfully parsed bus.csv\n",
      "└ @ PowerSystems /Users/cbarrows/.julia/packages/PowerSystems/YdVQU/src/parsers/power_system_table_data.jl:153\n",
      "┌ Info: Parsing csv data in dc_branch.csv ...\n",
      "└ @ PowerSystems /Users/cbarrows/.julia/packages/PowerSystems/YdVQU/src/parsers/power_system_table_data.jl:148\n",
      "┌ Info: Successfully parsed dc_branch.csv\n",
      "└ @ PowerSystems /Users/cbarrows/.julia/packages/PowerSystems/YdVQU/src/parsers/power_system_table_data.jl:153\n",
      "┌ Info: Parsing csv data in gen.csv ...\n",
      "└ @ PowerSystems /Users/cbarrows/.julia/packages/PowerSystems/YdVQU/src/parsers/power_system_table_data.jl:148\n",
      "┌ Info: Successfully parsed gen.csv\n",
      "└ @ PowerSystems /Users/cbarrows/.julia/packages/PowerSystems/YdVQU/src/parsers/power_system_table_data.jl:153\n",
      "┌ Info: Parsing csv data in reserves.csv ...\n",
      "└ @ PowerSystems /Users/cbarrows/.julia/packages/PowerSystems/YdVQU/src/parsers/power_system_table_data.jl:148\n",
      "┌ Info: Successfully parsed reserves.csv\n",
      "└ @ PowerSystems /Users/cbarrows/.julia/packages/PowerSystems/YdVQU/src/parsers/power_system_table_data.jl:153\n",
      "┌ Info: Parsing csv data in simulation_objects.csv ...\n",
      "└ @ PowerSystems /Users/cbarrows/.julia/packages/PowerSystems/YdVQU/src/parsers/power_system_table_data.jl:148\n",
      "┌ Info: Successfully parsed simulation_objects.csv\n",
      "└ @ PowerSystems /Users/cbarrows/.julia/packages/PowerSystems/YdVQU/src/parsers/power_system_table_data.jl:153\n",
      "┌ Info: Parsing csv data in storage.csv ...\n",
      "└ @ PowerSystems /Users/cbarrows/.julia/packages/PowerSystems/YdVQU/src/parsers/power_system_table_data.jl:148\n",
      "┌ Info: Successfully parsed storage.csv\n",
      "└ @ PowerSystems /Users/cbarrows/.julia/packages/PowerSystems/YdVQU/src/parsers/power_system_table_data.jl:153\n",
      "┌ Info: Parsing csv data in timeseries_pointers.csv ...\n",
      "└ @ PowerSystems /Users/cbarrows/.julia/packages/PowerSystems/YdVQU/src/parsers/power_system_table_data.jl:148\n",
      "┌ Info: Successfully parsed timeseries_pointers.csv\n",
      "└ @ PowerSystems /Users/cbarrows/.julia/packages/PowerSystems/YdVQU/src/parsers/power_system_table_data.jl:153\n",
      "┌ Info: Adding contributing generators for Spin_Up_R1 by category\n",
      "└ @ PowerSystems /Users/cbarrows/.julia/packages/PowerSystems/YdVQU/src/parsers/power_system_table_data.jl:646\n",
      "┌ Info: Adding contributing generators for Spin_Up_R2 by category\n",
      "└ @ PowerSystems /Users/cbarrows/.julia/packages/PowerSystems/YdVQU/src/parsers/power_system_table_data.jl:646\n",
      "┌ Info: Adding contributing generators for Spin_Up_R3 by category\n",
      "└ @ PowerSystems /Users/cbarrows/.julia/packages/PowerSystems/YdVQU/src/parsers/power_system_table_data.jl:646\n",
      "┌ Info: Adding contributing generators for Flex_Up by category\n",
      "└ @ PowerSystems /Users/cbarrows/.julia/packages/PowerSystems/YdVQU/src/parsers/power_system_table_data.jl:646\n",
      "┌ Info: Adding contributing generators for Flex_Down by category\n",
      "└ @ PowerSystems /Users/cbarrows/.julia/packages/PowerSystems/YdVQU/src/parsers/power_system_table_data.jl:646\n",
      "┌ Info: Adding contributing generators for Reg_Up by category\n",
      "└ @ PowerSystems /Users/cbarrows/.julia/packages/PowerSystems/YdVQU/src/parsers/power_system_table_data.jl:646\n",
      "┌ Info: Adding contributing generators for Reg_Down by category\n",
      "└ @ PowerSystems /Users/cbarrows/.julia/packages/PowerSystems/YdVQU/src/parsers/power_system_table_data.jl:646\n",
      "┌ Info: FixedOutput for HydroDispatch is not compatible with the provision of reserve services\n",
      "└ @ PowerSimulations /Users/cbarrows/.julia/packages/PowerSimulations/bBECC/src/services_models/services_constructor.jl:39\n",
      "┌ Info: FixedOutput for RenewableFix is not compatible with the provision of reserve services\n",
      "└ @ PowerSimulations /Users/cbarrows/.julia/packages/PowerSimulations/bBECC/src/services_models/services_constructor.jl:39\n",
      "┌ Info: FixedOutput for HydroDispatch is not compatible with the provision of reserve services\n",
      "└ @ PowerSimulations /Users/cbarrows/.julia/packages/PowerSimulations/bBECC/src/services_models/services_constructor.jl:39\n",
      "┌ Info: FixedOutput for RenewableFix is not compatible with the provision of reserve services\n",
      "└ @ PowerSimulations /Users/cbarrows/.julia/packages/PowerSimulations/bBECC/src/services_models/services_constructor.jl:39\n",
      "┌ Warning: The data doesn't include devices of type InterruptibleLoad, consider changing the device models\n",
      "└ @ PowerSimulations /Users/cbarrows/.julia/packages/PowerSimulations/bBECC/src/devices_models/device_constructors/common/constructor_validations.jl:3\n",
      "┌ Warning: Data doesn't contain generators with ramp limits, consider adjusting your formulation\n",
      "└ @ PowerSimulations /Users/cbarrows/.julia/packages/PowerSimulations/bBECC/src/devices_models/devices/thermal_generation.jl:385\n",
      "┌ Info: Generator 202_CT_2 has a nonbinding time limits. Constraints Skipped\n",
      "└ @ PowerSimulations /Users/cbarrows/.julia/packages/PowerSimulations/bBECC/src/devices_models/devices/thermal_generation.jl:450\n",
      "┌ Info: Generator 302_CT_1 has a nonbinding time limits. Constraints Skipped\n",
      "└ @ PowerSimulations /Users/cbarrows/.julia/packages/PowerSimulations/bBECC/src/devices_models/devices/thermal_generation.jl:450\n",
      "┌ Info: Generator 202_CT_1 has a nonbinding time limits. Constraints Skipped\n",
      "└ @ PowerSimulations /Users/cbarrows/.julia/packages/PowerSimulations/bBECC/src/devices_models/devices/thermal_generation.jl:450\n",
      "┌ Info: Generator 114_SYNC_COND_1 has a nonbinding time limits. Constraints Skipped\n",
      "└ @ PowerSimulations /Users/cbarrows/.julia/packages/PowerSimulations/bBECC/src/devices_models/devices/thermal_generation.jl:450\n",
      "┌ Info: Generator 302_CT_2 has a nonbinding time limits. Constraints Skipped\n",
      "└ @ PowerSimulations /Users/cbarrows/.julia/packages/PowerSimulations/bBECC/src/devices_models/devices/thermal_generation.jl:450\n",
      "┌ Info: Generator 101_CT_1 has a nonbinding time limits. Constraints Skipped\n",
      "└ @ PowerSimulations /Users/cbarrows/.julia/packages/PowerSimulations/bBECC/src/devices_models/devices/thermal_generation.jl:450\n",
      "┌ Info: Generator 314_SYNC_COND_1 has a nonbinding time limits. Constraints Skipped\n",
      "└ @ PowerSimulations /Users/cbarrows/.julia/packages/PowerSimulations/bBECC/src/devices_models/devices/thermal_generation.jl:450\n",
      "┌ Info: Generator 101_CT_2 has a nonbinding time limits. Constraints Skipped\n",
      "└ @ PowerSimulations /Users/cbarrows/.julia/packages/PowerSimulations/bBECC/src/devices_models/devices/thermal_generation.jl:450\n",
      "┌ Info: Generator 214_SYNC_COND_1 has a nonbinding time limits. Constraints Skipped\n",
      "└ @ PowerSimulations /Users/cbarrows/.julia/packages/PowerSimulations/bBECC/src/devices_models/devices/thermal_generation.jl:450\n",
      "┌ Info: Generator 301_CT_1 has a nonbinding time limits. Constraints Skipped\n",
      "└ @ PowerSimulations /Users/cbarrows/.julia/packages/PowerSimulations/bBECC/src/devices_models/devices/thermal_generation.jl:450\n",
      "┌ Info: Generator 102_CT_2 has a nonbinding time limits. Constraints Skipped\n",
      "└ @ PowerSimulations /Users/cbarrows/.julia/packages/PowerSimulations/bBECC/src/devices_models/devices/thermal_generation.jl:450\n",
      "┌ Info: Generator 102_CT_1 has a nonbinding time limits. Constraints Skipped\n",
      "└ @ PowerSimulations /Users/cbarrows/.julia/packages/PowerSimulations/bBECC/src/devices_models/devices/thermal_generation.jl:450\n",
      "┌ Info: Generator 201_CT_2 has a nonbinding time limits. Constraints Skipped\n",
      "└ @ PowerSimulations /Users/cbarrows/.julia/packages/PowerSimulations/bBECC/src/devices_models/devices/thermal_generation.jl:450\n",
      "┌ Info: Generator 201_CT_1 has a nonbinding time limits. Constraints Skipped\n",
      "└ @ PowerSimulations /Users/cbarrows/.julia/packages/PowerSimulations/bBECC/src/devices_models/devices/thermal_generation.jl:450\n",
      "┌ Info: Generator 301_CT_2 has a nonbinding time limits. Constraints Skipped\n",
      "└ @ PowerSimulations /Users/cbarrows/.julia/packages/PowerSimulations/bBECC/src/devices_models/devices/thermal_generation.jl:450\n"
     ]
    },
    {
     "output_type": "execute_result",
     "data": {
      "text/plain": "\nOperations Problem Specification\n============================================\n\n  transmission:  CopperPlatePowerModel\n============================================\n  devices: \n      ILoads:\n        device_type = InterruptibleLoad\n        formulation = InterruptiblePowerLoad\n      HydroROR:\n        device_type = HydroDispatch\n        formulation = FixedOutput\n      Generators:\n        device_type = ThermalStandard\n        formulation = ThermalStandardUnitCommitment\n      Ren:\n        device_type = RenewableDispatch\n        formulation = RenewableFullDispatch\n      Loads:\n        device_type = PowerLoad\n        formulation = StaticPowerLoad\n      RenFx:\n        device_type = RenewableFix\n        formulation = FixedOutput\n============================================\n  branches: \n      T:\n        device_type = Transformer2W\n        formulation = StaticTransformer\n      TT:\n        device_type = TapTransformer\n        formulation = StaticTransformer\n      L:\n        device_type = Line\n        formulation = StaticLine\n============================================\n  services: \n      ReserveDown:\n        service_type = VariableReserve{ReserveDown}\n        formulation = RangeReserve\n      ReserveUp:\n        service_type = VariableReserve{ReserveUp}\n        formulation = RangeReserve\n============================================\n"
     },
     "metadata": {},
     "execution_count": 1
    }
   ],
   "cell_type": "code",
   "source": [
    "using SIIPExamples\n",
    "pkgpath = dirname(dirname(pathof(SIIPExamples)))\n",
    "include(joinpath(pkgpath, \"test\", \"PowerSimulations_examples\", \"1_operations_problems.jl\"))"
   ],
   "metadata": {},
   "execution_count": 1
  },
  {
   "cell_type": "markdown",
   "source": [
    "### 5-Minute system\n",
    "We had already created a `sys::System` from hourly RTS data in the OperationsProblem example.\n",
    "The RTS data also includes 5-minute resolution time series data. So, we can create another\n",
    "`System`:"
   ],
   "metadata": {}
  },
  {
   "outputs": [
    {
     "name": "stdout",
     "output_type": "stream",
     "text": [
      "┌ Info: Adding contributing generators for Spin_Up_R1 by category\n",
      "└ @ PowerSystems /Users/cbarrows/.julia/packages/PowerSystems/YdVQU/src/parsers/power_system_table_data.jl:646\n",
      "┌ Info: Adding contributing generators for Spin_Up_R2 by category\n",
      "└ @ PowerSystems /Users/cbarrows/.julia/packages/PowerSystems/YdVQU/src/parsers/power_system_table_data.jl:646\n",
      "┌ Info: Adding contributing generators for Spin_Up_R3 by category\n",
      "└ @ PowerSystems /Users/cbarrows/.julia/packages/PowerSystems/YdVQU/src/parsers/power_system_table_data.jl:646\n",
      "┌ Info: Adding contributing generators for Flex_Up by category\n",
      "└ @ PowerSystems /Users/cbarrows/.julia/packages/PowerSystems/YdVQU/src/parsers/power_system_table_data.jl:646\n",
      "┌ Info: Adding contributing generators for Flex_Down by category\n",
      "└ @ PowerSystems /Users/cbarrows/.julia/packages/PowerSystems/YdVQU/src/parsers/power_system_table_data.jl:646\n",
      "┌ Info: Adding contributing generators for Reg_Up by category\n",
      "└ @ PowerSystems /Users/cbarrows/.julia/packages/PowerSystems/YdVQU/src/parsers/power_system_table_data.jl:646\n",
      "┌ Info: Adding contributing generators for Reg_Down by category\n",
      "└ @ PowerSystems /Users/cbarrows/.julia/packages/PowerSystems/YdVQU/src/parsers/power_system_table_data.jl:646\n"
     ]
    },
    {
     "output_type": "execute_result",
     "data": {
      "text/plain": "System\n======\nBase Power: 100.0\n\nComponents\n==========\nNum components: 434\n\n15×3 DataFrame. Omitted printing of 2 columns\n│ Row │ ConcreteType                 │\n│     │ \u001b[90mString\u001b[39m                       │\n├─────┼──────────────────────────────┤\n│ 1   │ Area                         │\n│ 2   │ Bus                          │\n│ 3   │ GenericBattery               │\n│ 4   │ HVDCLine                     │\n│ 5   │ HydroDispatch                │\n│ 6   │ Line                         │\n│ 7   │ LoadZone                     │\n│ 8   │ PowerLoad                    │\n│ 9   │ RenewableDispatch            │\n│ 10  │ RenewableFix                 │\n│ 11  │ TapTransformer               │\n│ 12  │ ThermalStandard              │\n│ 13  │ Transformer2W                │\n│ 14  │ VariableReserve{ReserveDown} │\n│ 15  │ VariableReserve{ReserveUp}   │\n\nForecasts\n=========\nResolution: 5 minutes\nHorizon: 105408\nInitial Times: 2020-01-01T00:00:00\nInterval: 0 seconds\nComponents with Forecasts: 137\nTotal Forecasts: 188\n",
      "text/html": [
       "<h1>System</h1>\n",
       "<p><b>Base Power</b>: 100.0</p>\n",
       "<h2>Components</h2>\n",
       "<p><b>Num components</b>: 434</p>\n",
       "<table class=\"data-frame\"><thead><tr><th></th><th>ConcreteType</th><th>SuperTypes</th><th>Count</th></tr><tr><th></th><th>String</th><th>String</th><th>Int64</th></tr></thead><tbody><p>15 rows × 3 columns</p><tr><th>1</th><td>Area</td><td>AggregationTopology &lt;: Topology &lt;: Component &lt;: PowerSystemType &lt;: InfrastructureSystemsType &lt;: Any</td><td>3</td></tr><tr><th>2</th><td>Bus</td><td>Topology &lt;: Component &lt;: PowerSystemType &lt;: InfrastructureSystemsType &lt;: Any</td><td>73</td></tr><tr><th>3</th><td>GenericBattery</td><td>Storage &lt;: StaticInjection &lt;: Device &lt;: Component &lt;: PowerSystemType &lt;: InfrastructureSystemsType &lt;: Any</td><td>1</td></tr><tr><th>4</th><td>HVDCLine</td><td>DCBranch &lt;: Branch &lt;: Device &lt;: Component &lt;: PowerSystemType &lt;: InfrastructureSystemsType &lt;: Any</td><td>1</td></tr><tr><th>5</th><td>HydroDispatch</td><td>HydroGen &lt;: Generator &lt;: StaticInjection &lt;: Device &lt;: Component &lt;: PowerSystemType &lt;: InfrastructureSystemsType &lt;: Any</td><td>20</td></tr><tr><th>6</th><td>Line</td><td>ACBranch &lt;: Branch &lt;: Device &lt;: Component &lt;: PowerSystemType &lt;: InfrastructureSystemsType &lt;: Any</td><td>104</td></tr><tr><th>7</th><td>LoadZone</td><td>AggregationTopology &lt;: Topology &lt;: Component &lt;: PowerSystemType &lt;: InfrastructureSystemsType &lt;: Any</td><td>21</td></tr><tr><th>8</th><td>PowerLoad</td><td>StaticLoad &lt;: ElectricLoad &lt;: StaticInjection &lt;: Device &lt;: Component &lt;: PowerSystemType &lt;: InfrastructureSystemsType &lt;: Any</td><td>51</td></tr><tr><th>9</th><td>RenewableDispatch</td><td>RenewableGen &lt;: Generator &lt;: StaticInjection &lt;: Device &lt;: Component &lt;: PowerSystemType &lt;: InfrastructureSystemsType &lt;: Any</td><td>30</td></tr><tr><th>10</th><td>RenewableFix</td><td>RenewableGen &lt;: Generator &lt;: StaticInjection &lt;: Device &lt;: Component &lt;: PowerSystemType &lt;: InfrastructureSystemsType &lt;: Any</td><td>31</td></tr><tr><th>11</th><td>TapTransformer</td><td>ACBranch &lt;: Branch &lt;: Device &lt;: Component &lt;: PowerSystemType &lt;: InfrastructureSystemsType &lt;: Any</td><td>15</td></tr><tr><th>12</th><td>ThermalStandard</td><td>ThermalGen &lt;: Generator &lt;: StaticInjection &lt;: Device &lt;: Component &lt;: PowerSystemType &lt;: InfrastructureSystemsType &lt;: Any</td><td>76</td></tr><tr><th>13</th><td>Transformer2W</td><td>ACBranch &lt;: Branch &lt;: Device &lt;: Component &lt;: PowerSystemType &lt;: InfrastructureSystemsType &lt;: Any</td><td>1</td></tr><tr><th>14</th><td>VariableReserve{ReserveDown}</td><td>Reserve{ReserveDown} &lt;: Service &lt;: Component &lt;: PowerSystemType &lt;: InfrastructureSystemsType &lt;: Any</td><td>2</td></tr><tr><th>15</th><td>VariableReserve{ReserveUp}</td><td>Reserve{ReserveUp} &lt;: Service &lt;: Component &lt;: PowerSystemType &lt;: InfrastructureSystemsType &lt;: Any</td><td>5</td></tr></tbody></table>\n",
       "\n",
       "<h2>Forecasts</h2>\n",
       "<p><b>Resolution</b>: 5 minutes</p>\n",
       "<p><b>Horizon</b>: 105408</p>\n",
       "<p><b>Initial Times</b>: 2020-01-01T00:00:00</p>\n",
       "<p><b>Interval</b>: 0 seconds</p>\n",
       "<p><b>Components with Forecasts</b>: 137</p>\n",
       "<p><b>Total Forecasts</b>: 188</p>\n"
      ]
     },
     "metadata": {},
     "execution_count": 2
    }
   ],
   "cell_type": "code",
   "source": [
    "sys_RT = System(rawsys; forecast_resolution = Dates.Minute(5))"
   ],
   "metadata": {},
   "execution_count": 2
  },
  {
   "cell_type": "markdown",
   "source": [
    "The RTS dataset has some large RE and load forecast errors that create infeasible\n",
    "simulations. Until we enable formulations with slack variables, we need to increase the\n",
    "amount of reserve held to handle the forecast error."
   ],
   "metadata": {}
  },
  {
   "outputs": [
    {
     "output_type": "execute_result",
     "data": {
      "text/plain": "5.0"
     },
     "metadata": {},
     "execution_count": 3
    }
   ],
   "cell_type": "code",
   "source": [
    "get_component(VariableReserve{ReserveUp}, sys, \"Flex_Up\").requirement = 5.0"
   ],
   "metadata": {},
   "execution_count": 3
  },
  {
   "cell_type": "markdown",
   "source": [
    "## `OperationsProblemTemplate`s define `Stage`s\n",
    "Sequential simulations in PowerSimulations are created by defining `OperationsProblems`\n",
    "that represent `Stages`, and how information flows between executions of a `Stage` and\n",
    "between different `Stage`s.\n",
    "\n",
    "Let's start by defining a two stage simulation that might look like a typical day-Ahead\n",
    "and real-time electricity market clearing process."
   ],
   "metadata": {}
  },
  {
   "cell_type": "markdown",
   "source": [
    "### Define the reference model for the day-ahead unit commitment"
   ],
   "metadata": {}
  },
  {
   "outputs": [
    {
     "output_type": "execute_result",
     "data": {
      "text/plain": "\nOperations Problem Specification\n============================================\n\n  transmission:  CopperPlatePowerModel\n============================================\n  devices: \n      HydroROR:\n        device_type = HydroDispatch\n        formulation = HydroDispatchRunOfRiver\n      Generators:\n        device_type = ThermalStandard\n        formulation = ThermalStandardUnitCommitment\n      Ren:\n        device_type = RenewableDispatch\n        formulation = RenewableFullDispatch\n      Loads:\n        device_type = PowerLoad\n        formulation = StaticPowerLoad\n      RenFx:\n        device_type = RenewableFix\n        formulation = FixedOutput\n============================================\n  branches: \n      T:\n        device_type = Transformer2W\n        formulation = StaticTransformer\n      TT:\n        device_type = TapTransformer\n        formulation = StaticTransformer\n      L:\n        device_type = Line\n        formulation = StaticLine\n      DC:\n        device_type = HVDCLine\n        formulation = HVDCDispatch\n============================================\n  services: \n      ReserveDown:\n        service_type = VariableReserve{ReserveDown}\n        formulation = RangeReserve\n      ReserveUp:\n        service_type = VariableReserve{ReserveUp}\n        formulation = RangeReserve\n============================================\n"
     },
     "metadata": {},
     "execution_count": 4
    }
   ],
   "cell_type": "code",
   "source": [
    "devices = Dict(\n",
    "    :Generators => DeviceModel(ThermalStandard, ThermalStandardUnitCommitment),\n",
    "    :Ren => DeviceModel(RenewableDispatch, RenewableFullDispatch),\n",
    "    :Loads => DeviceModel(PowerLoad, StaticPowerLoad),\n",
    "    :HydroROR => DeviceModel(HydroDispatch, HydroDispatchRunOfRiver),\n",
    "    :RenFx => DeviceModel(RenewableFix, FixedOutput),\n",
    ")\n",
    "template_uc = template_unit_commitment(devices = devices)"
   ],
   "metadata": {},
   "execution_count": 4
  },
  {
   "cell_type": "markdown",
   "source": [
    "### Define the reference model for the real-time economic dispatch"
   ],
   "metadata": {}
  },
  {
   "outputs": [
    {
     "output_type": "execute_result",
     "data": {
      "text/plain": "\nOperations Problem Specification\n============================================\n\n  transmission:  CopperPlatePowerModel\n============================================\n  devices: \n      HydroROR:\n        device_type = HydroDispatch\n        formulation = HydroDispatchRunOfRiver\n      Generators:\n        device_type = ThermalStandard\n        formulation = ThermalDispatch\n      Ren:\n        device_type = RenewableDispatch\n        formulation = RenewableFullDispatch\n      Loads:\n        device_type = PowerLoad\n        formulation = StaticPowerLoad\n      RenFx:\n        device_type = RenewableFix\n        formulation = FixedOutput\n============================================\n  branches: \n      T:\n        device_type = Transformer2W\n        formulation = StaticTransformer\n      TT:\n        device_type = TapTransformer\n        formulation = StaticTransformer\n      L:\n        device_type = Line\n        formulation = StaticLine\n      DC:\n        device_type = HVDCLine\n        formulation = HVDCDispatch\n============================================\n  services: \n============================================\n"
     },
     "metadata": {},
     "execution_count": 5
    }
   ],
   "cell_type": "code",
   "source": [
    "devices = Dict(\n",
    "    :Generators => DeviceModel(ThermalStandard, ThermalDispatch),\n",
    "    :Ren => DeviceModel(RenewableDispatch, RenewableFullDispatch),\n",
    "    :Loads => DeviceModel(PowerLoad, StaticPowerLoad),\n",
    "    :HydroROR => DeviceModel(HydroDispatch, HydroDispatchRunOfRiver),\n",
    "    :RenFx => DeviceModel(RenewableFix, FixedOutput),\n",
    ")\n",
    "template_ed = template_economic_dispatch(devices = devices)"
   ],
   "metadata": {},
   "execution_count": 5
  },
  {
   "cell_type": "markdown",
   "source": [
    "### Define the `Stage`s\n",
    "Stages define models. The actual problem will change as the stage gets updated to represent\n",
    "different time periods, but the formulations applied to the components is constant within\n",
    "a stage. In this case, we want to define two stages with the `OperationsProblemTemplate`s\n",
    "and the `System`s that we've already created."
   ],
   "metadata": {}
  },
  {
   "outputs": [
    {
     "output_type": "execute_result",
     "data": {
      "text/plain": "Dict{String,Stage{GenericOpProblem}} with 2 entries:\n  \"ED\" => Stage()…\n  \"UC\" => Stage()…"
     },
     "metadata": {},
     "execution_count": 6
    }
   ],
   "cell_type": "code",
   "source": [
    "stages_definition = Dict(\n",
    "    \"UC\" => Stage(GenericOpProblem, template_uc, sys, solver),\n",
    "    \"ED\" => Stage(GenericOpProblem, template_ed, sys_RT, solver),\n",
    ")"
   ],
   "metadata": {},
   "execution_count": 6
  },
  {
   "cell_type": "markdown",
   "source": [
    "### `SimulationSequence`\n",
    "Similar to an `OperationsProblemTemplate`, the `SimulationSequence` provides a template of\n",
    "how to execute a sequential set of operations problems."
   ],
   "metadata": {}
  },
  {
   "cell_type": "markdown",
   "source": [
    "print_struct(SimulationSequence)"
   ],
   "metadata": {}
  },
  {
   "cell_type": "markdown",
   "source": [
    "Let's review some of the `SimulationSequence` arguments."
   ],
   "metadata": {}
  },
  {
   "cell_type": "markdown",
   "source": [
    "### Chronologies\n",
    "In PowerSimulations, chronologies define where information is flowing. There are two types\n",
    "of chronologies.\n",
    " - inter-stage chronologies: Define how information flows between stages. e.g. day-ahead\n",
    "solutions are used to inform economic dispatch problems\n",
    " - intra-stage chronologies: Define how information flows between multiple executions of a\n",
    "single stage. e.g. the dispatch setpoints of the first period of an economic dispatch problem\n",
    "are constrained by the ramping limits from setpoints in the final period of the previous problem."
   ],
   "metadata": {}
  },
  {
   "cell_type": "markdown",
   "source": [
    "Let's define an inter-stage chronolgy that synchronizes information from 24 periods of\n",
    "the first stage with a set of executions of the second stage:"
   ],
   "metadata": {}
  },
  {
   "outputs": [
    {
     "output_type": "execute_result",
     "data": {
      "text/plain": "Dict{Pair{String,String},Synchronize} with 1 entry:\n  \"UC\"=>\"ED\" => Synchronize(24)"
     },
     "metadata": {},
     "execution_count": 7
    }
   ],
   "cell_type": "code",
   "source": [
    "feedforward_chronologies = Dict((\"UC\" => \"ED\") => Synchronize(periods = 24))"
   ],
   "metadata": {},
   "execution_count": 7
  },
  {
   "cell_type": "markdown",
   "source": [
    "### `FeedForward` and `Cache`\n",
    "The definition of exactly what information is passed using the defined chronologies is\n",
    "accomplished with `FeedForward` and `Cache` objects. Specifically, `FeedForward` is used\n",
    "to define what to do with information being passed with an inter-stage chronology. Let's\n",
    "define a `FeedForward` that affects the semi-continuous range constraints of thermal generators\n",
    "in the economic dispatch problems based on the value of the unit-commitment variables."
   ],
   "metadata": {}
  },
  {
   "outputs": [
    {
     "output_type": "execute_result",
     "data": {
      "text/plain": "Dict{Tuple{String,Symbol,Symbol},SemiContinuousFF} with 1 entry:\n  (\"ED\", :devices, :Generators) => SemiContinuousFF(:On, Symbol[:P], nothing)"
     },
     "metadata": {},
     "execution_count": 8
    }
   ],
   "cell_type": "code",
   "source": [
    "feedforward = Dict(\n",
    "    (\"ED\", :devices, :Generators) => SemiContinuousFF(\n",
    "        binary_from_stage = PSI.ON,\n",
    "        affected_variables = [PSI.ACTIVE_POWER],\n",
    "    ),\n",
    ")"
   ],
   "metadata": {},
   "execution_count": 8
  },
  {
   "cell_type": "markdown",
   "source": [
    "The `Cache` is simply a way to preserve needed information for later use. In the case of\n",
    "a typical day-ahead - real-time market simulation, there are many economic dispatch executions\n",
    "in between each unit-commitment execution. Rather than keeping the full set of results from\n",
    "previous unit-commitment simulations in memory to be used in later executions, we can define\n",
    "exactly which results will be needed and carry them through a cache in the economic dispatch\n",
    "problems for later use."
   ],
   "metadata": {}
  },
  {
   "outputs": [
    {
     "output_type": "execute_result",
     "data": {
      "text/plain": "Dict{Tuple{String},TimeStatusChange} with 1 entry:\n  (\"UC\",) => TimeStatusChange(ThermalStandard, 1-dimensional DenseAxisArray{Dic…"
     },
     "metadata": {},
     "execution_count": 9
    }
   ],
   "cell_type": "code",
   "source": [
    "cache = Dict((\"UC\",) => TimeStatusChange(PSY.ThermalStandard, PSI.ON))"
   ],
   "metadata": {},
   "execution_count": 9
  },
  {
   "cell_type": "markdown",
   "source": [
    "### Sequencing\n",
    "The stage problem length, look-ahead, and other details surrounding the temporal Sequencing\n",
    "of stages are controlled using the `order`, `horizons`, and `intervals` arguments.\n",
    " - order::Dict(Int, String) : the hierarchical order of stages in the simulation\n",
    " - horizons::Dict(String, Int) : defines the number of time periods in each stage (problem length)\n",
    " - intervals::Dict(String, Dates.Period) : defines the interval with which stage problems\n",
    "advance after each execution. e.g. day-ahead problems have an interval of 24-hours\n",
    "\n",
    "So, to define a typical day-ahead - real-time sequence, we can define the following:\n",
    " - Day ahead problems should represent 48 hours, advancing 24 hours after each execution (24-hour look-ahead)\n",
    " - Real time problems should represent 1 hour (12 5-minute periods), advancing 1 hour after each execution (no look-ahead)"
   ],
   "metadata": {}
  },
  {
   "outputs": [
    {
     "output_type": "execute_result",
     "data": {
      "text/plain": "Dict{String,Tuple{Hour,Consecutive}} with 2 entries:\n  \"ED\" => (1 hour, Consecutive())\n  \"UC\" => (24 hours, Consecutive())"
     },
     "metadata": {},
     "execution_count": 10
    }
   ],
   "cell_type": "code",
   "source": [
    "order = Dict(1 => \"UC\", 2 => \"ED\")\n",
    "horizons = Dict(\"UC\" => 24, \"ED\" => 12)\n",
    "intervals = Dict(\"UC\" => (Hour(24), Consecutive()), \"ED\" => (Hour(1), Consecutive()))"
   ],
   "metadata": {},
   "execution_count": 10
  },
  {
   "cell_type": "markdown",
   "source": [
    "Finally, we can put it all together:"
   ],
   "metadata": {}
  },
  {
   "outputs": [
    {
     "output_type": "execute_result",
     "data": {
      "text/plain": "Feed Forward Chronology\n-----------------------\n\nED: SemiContinuousFF -> Generators\n\n                     UC--┐ from : On\n                         |\n┌----┬----┬----┬----┬----┼----┬----┬----┬----┬----┬----┐\n|    |    |    |    |    |    |    |    |    |    |    |\n|    |    |    |    |    |    |    |    |    |    |    |\n└─ED └─ED └─ED └─ED └─ED └─ED └─ED └─ED └─ED └─ED └─ED └─ED ... (x24) to : [\"P\"]\n\nInitial Condition Chronology\n----------------------------\n\n1\n|\n|\n2 --> 2 ... (x24)   \n"
     },
     "metadata": {},
     "execution_count": 11
    }
   ],
   "cell_type": "code",
   "source": [
    "DA_RT_sequence = SimulationSequence(\n",
    "    step_resolution = Hour(24),\n",
    "    order = order,\n",
    "    horizons = horizons,\n",
    "    intervals = intervals,\n",
    "    ini_cond_chronology = InterStageChronology(),\n",
    "    feedforward_chronologies = feedforward_chronologies,\n",
    "    feedforward = feedforward,\n",
    "    cache = cache,\n",
    ")"
   ],
   "metadata": {},
   "execution_count": 11
  },
  {
   "cell_type": "markdown",
   "source": [
    "## `Simulation`\n",
    "Now, we can build and execute a simulation using the `SimulationSequence` and `Stage`s\n",
    "that we've defined."
   ],
   "metadata": {}
  },
  {
   "outputs": [
    {
     "output_type": "execute_result",
     "data": {
      "text/plain": "Simulation()\n"
     },
     "metadata": {},
     "execution_count": 12
    }
   ],
   "cell_type": "code",
   "source": [
    "sim = Simulation(\n",
    "    name = \"rts-test\",\n",
    "    steps = 1,\n",
    "    stages = stages_definition,\n",
    "    stages_sequence = DA_RT_sequence,\n",
    "    simulation_folder = rts_dir,\n",
    ")"
   ],
   "metadata": {},
   "execution_count": 12
  },
  {
   "cell_type": "markdown",
   "source": [
    "### Build simulation"
   ],
   "metadata": {}
  },
  {
   "outputs": [],
   "cell_type": "code",
   "source": [
    "build!(sim)"
   ],
   "metadata": {},
   "execution_count": 13
  },
  {
   "cell_type": "markdown",
   "source": [
    "### Execute simulation"
   ],
   "metadata": {}
  },
  {
   "outputs": [
    {
     "name": "stdout",
     "output_type": "stream",
     "text": [
      "Executing Step 1\n",
      "Welcome to the CBC MILP Solver \n",
      "Version: 2.10.3 \n",
      "Build Date: Oct  7 2019 \n",
      "\n",
      "command line - Cbc_C_Interface -ratioGap 0.5 -logLevel 1 -solve -quit (default strategy 1)\n",
      "ratioGap was changed from 0 to 0.5\n",
      "Continuous objective value is 305848 - 0.12 seconds\n",
      "Cgl0003I 209 fixed, 0 tightened bounds, 644 strengthened rows, 48 substitutions\n",
      "Cgl0003I 0 fixed, 0 tightened bounds, 732 strengthened rows, 0 substitutions\n",
      "Cgl0003I 0 fixed, 0 tightened bounds, 621 strengthened rows, 0 substitutions\n",
      "Cgl0003I 0 fixed, 0 tightened bounds, 501 strengthened rows, 0 substitutions\n",
      "Cgl0003I 0 fixed, 0 tightened bounds, 280 strengthened rows, 0 substitutions\n",
      "Cgl0003I 0 fixed, 0 tightened bounds, 213 strengthened rows, 0 substitutions\n",
      "Cgl0003I 0 fixed, 0 tightened bounds, 181 strengthened rows, 0 substitutions\n",
      "Cgl0003I 0 fixed, 0 tightened bounds, 151 strengthened rows, 0 substitutions\n",
      "Cgl0003I 0 fixed, 0 tightened bounds, 143 strengthened rows, 0 substitutions\n",
      "Cgl0004I processed model has 5671 rows, 11879 columns (2417 integer (2417 of which binary)) and 32074 elements\n",
      "Cbc0045I Trying just fixing integer variables (and fixingish SOS).\n",
      "Cbc0045I MIPStart solution provided values for 3228 of 2417 integer variables, 77 variables are still fractional.\n",
      "Cbc0038I Full problem 5671 rows 11879 columns, reduced to 5665 rows 11879 columns\n",
      "Cbc0038I Probing was tried 0 times and created 0 cuts of which 0 were active after adding rounds of cuts (0.000 seconds)\n",
      "Cbc0045I Mini branch and bound defined values for remaining variables in 4.30 seconds.\n",
      "Cbc0045I MIPStart provided solution with cost 308229\n",
      "Cbc0012I Integer solution of 308229.28 found by Reduced search after 0 iterations and 0 nodes (5.56 seconds)\n",
      "Cbc0038I Full problem 5671 rows 11879 columns, reduced to 836 rows 2568 columns\n",
      "Cbc0011I Exiting as integer gap of 2381.4202 less than 1e-10 or 50%\n",
      "Cbc0001I Search completed - best objective 308229.2824785259, took 0 iterations and 0 nodes (5.74 seconds)\n",
      "Cbc0035I Maximum depth 0, 0 variables fixed on reduced cost\n",
      "Cuts at root node changed objective from 305848 to 305848\n",
      "Probing was tried 0 times and created 0 cuts of which 0 were active after adding rounds of cuts (0.000 seconds)\n",
      "Gomory was tried 0 times and created 0 cuts of which 0 were active after adding rounds of cuts (0.000 seconds)\n",
      "Knapsack was tried 0 times and created 0 cuts of which 0 were active after adding rounds of cuts (0.000 seconds)\n",
      "Clique was tried 0 times and created 0 cuts of which 0 were active after adding rounds of cuts (0.000 seconds)\n",
      "MixedIntegerRounding2 was tried 0 times and created 0 cuts of which 0 were active after adding rounds of cuts (0.000 seconds)\n",
      "FlowCover was tried 0 times and created 0 cuts of which 0 were active after adding rounds of cuts (0.000 seconds)\n",
      "TwoMirCuts was tried 0 times and created 0 cuts of which 0 were active after adding rounds of cuts (0.000 seconds)\n",
      "ZeroHalf was tried 0 times and created 0 cuts of which 0 were active after adding rounds of cuts (0.000 seconds)\n",
      "\n",
      "Result - Optimal solution found (within gap tolerance)\n",
      "\n",
      "Objective value:                308229.28247853\n",
      "Lower bound:                    305847.862\n",
      "Gap:                            0.01\n",
      "Enumerated nodes:               0\n",
      "Total iterations:               0\n",
      "Time (CPU seconds):             5.93\n",
      "Time (Wallclock seconds):       6.40\n",
      "\n",
      "Total time (CPU seconds):       5.93   (Wallclock seconds):       6.40\n",
      "\n",
      "Welcome to the CBC MILP Solver \n",
      "Version: 2.10.3 \n",
      "Build Date: Oct  7 2019 \n",
      "\n",
      "command line - Cbc_C_Interface -ratioGap 0.5 -logLevel 1 -solve -quit (default strategy 1)\n",
      "ratioGap was changed from 0 to 0.5\n",
      "Continuous objective value is 1.10008e+06 - 0.40 seconds\n",
      "Cgl0003I 46 fixed, 0 tightened bounds, 1150 strengthened rows, 0 substitutions\n",
      "Cgl0003I 0 fixed, 0 tightened bounds, 58 strengthened rows, 0 substitutions\n",
      "Cgl0003I 0 fixed, 0 tightened bounds, 1104 strengthened rows, 0 substitutions\n",
      "Cgl0003I 0 fixed, 0 tightened bounds, 1039 strengthened rows, 0 substitutions\n",
      "Cgl0003I 0 fixed, 0 tightened bounds, 933 strengthened rows, 0 substitutions\n",
      "Cgl0003I 0 fixed, 0 tightened bounds, 452 strengthened rows, 0 substitutions\n",
      "Cgl0003I 0 fixed, 0 tightened bounds, 423 strengthened rows, 0 substitutions\n",
      "Cgl0003I 0 fixed, 0 tightened bounds, 391 strengthened rows, 0 substitutions\n",
      "Cgl0003I 0 fixed, 0 tightened bounds, 382 strengthened rows, 0 substitutions\n",
      "Cgl0003I 0 fixed, 0 tightened bounds, 344 strengthened rows, 0 substitutions\n",
      "Cgl0004I processed model has 11356 rows, 23531 columns (5083 integer (5083 of which binary)) and 64278 elements\n",
      "Cbc0045I Trying just fixing integer variables (and fixingish SOS).\n",
      "Cbc0045I MIPStart solution provided values for 6456 of 5083 integer variables, 121 variables are still fractional.\n",
      "Cbc0038I Full problem 11356 rows 23531 columns, reduced to 11351 rows 23531 columns\n",
      "Cbc0038I Probing was tried 0 times and created 0 cuts of which 0 were active after adding rounds of cuts (0.000 seconds)\n",
      "Cbc0045I Mini branch and bound defined values for remaining variables in 7.79 seconds.\n",
      "Cbc0045I MIPStart provided solution with cost 1.12941e+06\n",
      "Cbc0012I Integer solution of 1129412 found by Reduced search after 0 iterations and 0 nodes (11.65 seconds)\n",
      "Cbc0038I Full problem 11356 rows 23531 columns, reduced to 1892 rows 5977 columns\n",
      "Cbc0011I Exiting as integer gap of 29330.525 less than 1e-10 or 50%\n",
      "Cbc0001I Search completed - best objective 1129412.014720373, took 0 iterations and 0 nodes (12.18 seconds)\n",
      "Cbc0035I Maximum depth 0, 0 variables fixed on reduced cost\n",
      "Cuts at root node changed objective from 1.10008e+06 to 1.10008e+06\n",
      "Probing was tried 0 times and created 0 cuts of which 0 were active after adding rounds of cuts (0.000 seconds)\n",
      "Gomory was tried 0 times and created 0 cuts of which 0 were active after adding rounds of cuts (0.000 seconds)\n",
      "Knapsack was tried 0 times and created 0 cuts of which 0 were active after adding rounds of cuts (0.000 seconds)\n",
      "Clique was tried 0 times and created 0 cuts of which 0 were active after adding rounds of cuts (0.000 seconds)\n",
      "MixedIntegerRounding2 was tried 0 times and created 0 cuts of which 0 were active after adding rounds of cuts (0.000 seconds)\n",
      "FlowCover was tried 0 times and created 0 cuts of which 0 were active after adding rounds of cuts (0.000 seconds)\n",
      "TwoMirCuts was tried 0 times and created 0 cuts of which 0 were active after adding rounds of cuts (0.000 seconds)\n",
      "ZeroHalf was tried 0 times and created 0 cuts of which 0 were active after adding rounds of cuts (0.000 seconds)\n",
      "\n",
      "Result - Optimal solution found (within gap tolerance)\n",
      "\n",
      "Objective value:                1129412.01472037\n",
      "Lower bound:                    1100081.490\n",
      "Gap:                            0.03\n",
      "Enumerated nodes:               0\n",
      "Total iterations:               0\n",
      "Time (CPU seconds):             12.64\n",
      "Time (Wallclock seconds):       13.76\n",
      "\n",
      "Total time (CPU seconds):       12.64   (Wallclock seconds):       13.76\n",
      "\n",
      "Welcome to the CBC MILP Solver \n",
      "Version: 2.10.3 \n",
      "Build Date: Oct  7 2019 \n",
      "\n",
      "command line - Cbc_C_Interface -ratioGap 0.5 -logLevel 1 -solve -quit (default strategy 1)\n",
      "ratioGap was changed from 0 to 0.5\n",
      "Presolve 192 (-3120) rows, 672 (-4344) columns and 672 (-7644) elements\n",
      "Perturbing problem by 0.001% of 275.29435 - largest nonzero change 3.0098984e-05 ( 1.3026813e-05%) - largest zero change 0\n",
      "0  Obj 0 Primal inf 110.87981 (192)\n",
      "78  Obj 10908.01 Primal inf 43.799886 (114)\n",
      "156  Obj 16197.386 Primal inf 10.799964 (36)\n",
      "192  Obj 17841.109\n",
      "Optimal - objective value 17841.107\n",
      "After Postsolve, objective 17841.107, infeasibilities - dual 30584.785 (192), primal 0 (0)\n",
      "Presolved model was optimal, full model needs cleaning up\n",
      "0  Obj 17841.107\n",
      "Optimal - objective value 17841.107\n",
      "Optimal objective 17841.10739 - 192 iterations time 0.012, Presolve 0.00\n",
      "Total time (CPU seconds):       0.01   (Wallclock seconds):       0.01\n",
      "\n",
      "Welcome to the CBC MILP Solver \n",
      "Version: 2.10.3 \n",
      "Build Date: Oct  7 2019 \n",
      "\n",
      "command line - Cbc_C_Interface -ratioGap 0.5 -logLevel 1 -solve -quit (default strategy 1)\n",
      "ratioGap was changed from 0 to 0.5\n",
      "Presolve 192 (-3120) rows, 672 (-4344) columns and 672 (-7644) elements\n",
      "Perturbing problem by 0.001% of 275.29435 - largest nonzero change 3.0098984e-05 ( 1.3026813e-05%) - largest zero change 0\n",
      "0  Obj 0 Primal inf 110.87981 (192)\n",
      "78  Obj 10908.01 Primal inf 43.799886 (114)\n",
      "156  Obj 16197.386 Primal inf 10.799964 (36)\n",
      "192  Obj 17841.109\n",
      "Optimal - objective value 17841.107\n",
      "After Postsolve, objective 17841.107, infeasibilities - dual 30584.785 (192), primal 0 (0)\n",
      "Presolved model was optimal, full model needs cleaning up\n",
      "0  Obj 17841.107\n",
      "Optimal - objective value 17841.107\n",
      "Optimal objective 17841.10739 - 192 iterations time 0.012, Presolve 0.00\n",
      "Total time (CPU seconds):       0.01   (Wallclock seconds):       0.01\n",
      "\n",
      "Welcome to the CBC MILP Solver \n",
      "Version: 2.10.3 \n",
      "Build Date: Oct  7 2019 \n",
      "\n",
      "command line - Cbc_C_Interface -ratioGap 0.5 -logLevel 1 -solve -quit (default strategy 1)\n",
      "ratioGap was changed from 0 to 0.5\n",
      "Presolve 192 (-3120) rows, 672 (-4344) columns and 672 (-7644) elements\n",
      "Perturbing problem by 0.001% of 275.29435 - largest nonzero change 3.0098984e-05 ( 1.3026813e-05%) - largest zero change 0\n",
      "0  Obj 0 Primal inf 110.87981 (192)\n",
      "78  Obj 10908.01 Primal inf 43.799886 (114)\n",
      "156  Obj 16197.386 Primal inf 10.799964 (36)\n",
      "192  Obj 17841.109\n",
      "Optimal - objective value 17841.107\n",
      "After Postsolve, objective 17841.107, infeasibilities - dual 30584.785 (192), primal 0 (0)\n",
      "Presolved model was optimal, full model needs cleaning up\n",
      "0  Obj 17841.107\n",
      "Optimal - objective value 17841.107\n",
      "Optimal objective 17841.10739 - 192 iterations time 0.012, Presolve 0.00\n",
      "Total time (CPU seconds):       0.01   (Wallclock seconds):       0.01\n",
      "\n",
      "Welcome to the CBC MILP Solver \n",
      "Version: 2.10.3 \n",
      "Build Date: Oct  7 2019 \n",
      "\n",
      "command line - Cbc_C_Interface -ratioGap 0.5 -logLevel 1 -solve -quit (default strategy 1)\n",
      "ratioGap was changed from 0 to 0.5\n",
      "Presolve 204 (-3108) rows, 720 (-4296) columns and 720 (-7596) elements\n",
      "Perturbing problem by 0.001% of 878.06035 - largest nonzero change 9.6545711e-05 ( 1.8067022e-05%) - largest zero change 0\n",
      "0  Obj 0 Primal inf 111.8398 (204)\n",
      "79  Obj 11030.569 Primal inf 44.139875 (125)\n",
      "158  Obj 16430.798 Primal inf 11.159954 (46)\n",
      "204  Obj 18539.156\n",
      "Optimal - objective value 18539.154\n",
      "After Postsolve, objective 18539.154, infeasibilities - dual 39310.364 (204), primal 0 (0)\n",
      "Presolved model was optimal, full model needs cleaning up\n",
      "0  Obj 18539.154\n",
      "Optimal - objective value 18539.154\n",
      "Optimal objective 18539.15372 - 204 iterations time 0.012, Presolve 0.00\n",
      "Total time (CPU seconds):       0.01   (Wallclock seconds):       0.01\n",
      "\n",
      "Welcome to the CBC MILP Solver \n",
      "Version: 2.10.3 \n",
      "Build Date: Oct  7 2019 \n",
      "\n",
      "command line - Cbc_C_Interface -ratioGap 0.5 -logLevel 1 -solve -quit (default strategy 1)\n",
      "ratioGap was changed from 0 to 0.5\n",
      "Presolve 204 (-3108) rows, 720 (-4296) columns and 720 (-7596) elements\n",
      "Perturbing problem by 0.001% of 878.06035 - largest nonzero change 9.6545711e-05 ( 1.8067022e-05%) - largest zero change 0\n",
      "0  Obj 0 Primal inf 111.8398 (204)\n",
      "79  Obj 11030.569 Primal inf 44.139875 (125)\n",
      "158  Obj 16430.798 Primal inf 11.159954 (46)\n",
      "204  Obj 18539.156\n",
      "Optimal - objective value 18539.154\n",
      "After Postsolve, objective 18539.154, infeasibilities - dual 39310.364 (204), primal 0 (0)\n",
      "Presolved model was optimal, full model needs cleaning up\n",
      "0  Obj 18539.154\n",
      "Optimal - objective value 18539.154\n",
      "Optimal objective 18539.15372 - 204 iterations time 0.012, Presolve 0.00\n",
      "Total time (CPU seconds):       0.01   (Wallclock seconds):       0.01\n",
      "\n",
      "Welcome to the CBC MILP Solver \n",
      "Version: 2.10.3 \n",
      "Build Date: Oct  7 2019 \n",
      "\n",
      "command line - Cbc_C_Interface -ratioGap 0.5 -logLevel 1 -solve -quit (default strategy 1)\n",
      "ratioGap was changed from 0 to 0.5\n",
      "Presolve 204 (-3108) rows, 720 (-4296) columns and 720 (-7596) elements\n",
      "Perturbing problem by 0.001% of 878.06035 - largest nonzero change 9.6545711e-05 ( 1.8067022e-05%) - largest zero change 0\n",
      "0  Obj 0 Primal inf 111.8398 (204)\n",
      "79  Obj 11030.569 Primal inf 44.139875 (125)\n",
      "158  Obj 16430.798 Primal inf 11.159954 (46)\n",
      "204  Obj 18539.156\n",
      "Optimal - objective value 18539.154\n",
      "After Postsolve, objective 18539.154, infeasibilities - dual 39310.364 (204), primal 0 (0)\n",
      "Presolved model was optimal, full model needs cleaning up\n",
      "0  Obj 18539.154\n",
      "Optimal - objective value 18539.154\n",
      "Optimal objective 18539.15372 - 204 iterations time 0.012, Presolve 0.00\n",
      "Total time (CPU seconds):       0.01   (Wallclock seconds):       0.01\n",
      "\n",
      "Welcome to the CBC MILP Solver \n",
      "Version: 2.10.3 \n",
      "Build Date: Oct  7 2019 \n",
      "\n",
      "command line - Cbc_C_Interface -ratioGap 0.5 -logLevel 1 -solve -quit (default strategy 1)\n",
      "ratioGap was changed from 0 to 0.5\n",
      "Presolve 216 (-3096) rows, 768 (-4248) columns and 768 (-7548) elements\n",
      "Perturbing problem by 0.001% of 878.06035 - largest nonzero change 9.6545711e-05 ( 1.8067022e-05%) - largest zero change 0\n",
      "0  Obj 0 Primal inf 114.47978 (216)\n",
      "79  Obj 10997.573 Primal inf 46.779863 (137)\n",
      "158  Obj 16400.219 Primal inf 13.799942 (58)\n",
      "216  Obj 19052.526\n",
      "Optimal - objective value 19052.523\n",
      "After Postsolve, objective 19052.523, infeasibilities - dual 41643.862 (216), primal 0 (0)\n",
      "Presolved model was optimal, full model needs cleaning up\n",
      "0  Obj 19052.523\n",
      "Optimal - objective value 19052.523\n",
      "Optimal objective 19052.52332 - 216 iterations time 0.012, Presolve 0.00\n",
      "Total time (CPU seconds):       0.01   (Wallclock seconds):       0.01\n",
      "\n",
      "Welcome to the CBC MILP Solver \n",
      "Version: 2.10.3 \n",
      "Build Date: Oct  7 2019 \n",
      "\n",
      "command line - Cbc_C_Interface -ratioGap 0.5 -logLevel 1 -solve -quit (default strategy 1)\n",
      "ratioGap was changed from 0 to 0.5\n",
      "Presolve 192 (-3120) rows, 672 (-4344) columns and 672 (-7644) elements\n",
      "Perturbing problem by 0.001% of 275.29435 - largest nonzero change 3.0098984e-05 ( 1.3026813e-05%) - largest zero change 0\n",
      "0  Obj 0 Primal inf 110.87981 (192)\n",
      "78  Obj 10908.01 Primal inf 43.799886 (114)\n",
      "156  Obj 16197.386 Primal inf 10.799964 (36)\n",
      "192  Obj 17841.109\n",
      "Optimal - objective value 17841.107\n",
      "After Postsolve, objective 17841.107, infeasibilities - dual 30584.785 (192), primal 0 (0)\n",
      "Presolved model was optimal, full model needs cleaning up\n",
      "0  Obj 17841.107\n",
      "Optimal - objective value 17841.107\n",
      "Optimal objective 17841.10739 - 192 iterations time 0.012, Presolve 0.00\n",
      "Total time (CPU seconds):       0.01   (Wallclock seconds):       0.01\n",
      "\n",
      "Welcome to the CBC MILP Solver \n",
      "Version: 2.10.3 \n",
      "Build Date: Oct  7 2019 \n",
      "\n",
      "command line - Cbc_C_Interface -ratioGap 0.5 -logLevel 1 -solve -quit (default strategy 1)\n",
      "ratioGap was changed from 0 to 0.5\n",
      "Presolve 192 (-3120) rows, 672 (-4344) columns and 672 (-7644) elements\n",
      "Perturbing problem by 0.001% of 275.29435 - largest nonzero change 3.0098984e-05 ( 1.3026813e-05%) - largest zero change 0\n",
      "0  Obj 0 Primal inf 110.87981 (192)\n",
      "78  Obj 10908.01 Primal inf 43.799886 (114)\n",
      "156  Obj 16197.386 Primal inf 10.799964 (36)\n",
      "192  Obj 17841.109\n",
      "Optimal - objective value 17841.107\n",
      "After Postsolve, objective 17841.107, infeasibilities - dual 30584.785 (192), primal 0 (0)\n",
      "Presolved model was optimal, full model needs cleaning up\n",
      "0  Obj 17841.107\n",
      "Optimal - objective value 17841.107\n",
      "Optimal objective 17841.10739 - 192 iterations time 0.012, Presolve 0.00\n",
      "Total time (CPU seconds):       0.01   (Wallclock seconds):       0.01\n",
      "\n",
      "Welcome to the CBC MILP Solver \n",
      "Version: 2.10.3 \n",
      "Build Date: Oct  7 2019 \n",
      "\n",
      "command line - Cbc_C_Interface -ratioGap 0.5 -logLevel 1 -solve -quit (default strategy 1)\n",
      "ratioGap was changed from 0 to 0.5\n",
      "Presolve 192 (-3120) rows, 672 (-4344) columns and 672 (-7644) elements\n",
      "Perturbing problem by 0.001% of 275.29435 - largest nonzero change 3.0098984e-05 ( 1.3026813e-05%) - largest zero change 0\n",
      "0  Obj 0 Primal inf 110.87981 (192)\n",
      "78  Obj 10908.01 Primal inf 43.799886 (114)\n",
      "156  Obj 16197.386 Primal inf 10.799964 (36)\n",
      "192  Obj 17841.109\n",
      "Optimal - objective value 17841.107\n",
      "After Postsolve, objective 17841.107, infeasibilities - dual 30584.785 (192), primal 0 (0)\n",
      "Presolved model was optimal, full model needs cleaning up\n",
      "0  Obj 17841.107\n",
      "Optimal - objective value 17841.107\n",
      "Optimal objective 17841.10739 - 192 iterations time 0.012, Presolve 0.00\n",
      "Total time (CPU seconds):       0.01   (Wallclock seconds):       0.01\n",
      "\n",
      "Welcome to the CBC MILP Solver \n",
      "Version: 2.10.3 \n",
      "Build Date: Oct  7 2019 \n",
      "\n",
      "command line - Cbc_C_Interface -ratioGap 0.5 -logLevel 1 -solve -quit (default strategy 1)\n",
      "ratioGap was changed from 0 to 0.5\n",
      "Presolve 192 (-3120) rows, 672 (-4344) columns and 672 (-7644) elements\n",
      "Perturbing problem by 0.001% of 275.29435 - largest nonzero change 3.0098984e-05 ( 1.3026813e-05%) - largest zero change 0\n",
      "0  Obj 0 Primal inf 110.87981 (192)\n",
      "78  Obj 10908.01 Primal inf 43.799886 (114)\n",
      "156  Obj 16197.386 Primal inf 10.799964 (36)\n",
      "192  Obj 17841.109\n",
      "Optimal - objective value 17841.107\n",
      "After Postsolve, objective 17841.107, infeasibilities - dual 30584.785 (192), primal 0 (0)\n",
      "Presolved model was optimal, full model needs cleaning up\n",
      "0  Obj 17841.107\n",
      "Optimal - objective value 17841.107\n",
      "Optimal objective 17841.10739 - 192 iterations time 0.012, Presolve 0.00\n",
      "Total time (CPU seconds):       0.01   (Wallclock seconds):       0.01\n",
      "\n",
      "Welcome to the CBC MILP Solver \n",
      "Version: 2.10.3 \n",
      "Build Date: Oct  7 2019 \n",
      "\n",
      "command line - Cbc_C_Interface -ratioGap 0.5 -logLevel 1 -solve -quit (default strategy 1)\n",
      "ratioGap was changed from 0 to 0.5\n",
      "Presolve 196 (-3116) rows, 736 (-4280) columns and 800 (-7516) elements\n",
      "Perturbing problem by 0.001% of 275.29435 - largest nonzero change 3.0472167e-05 ( 1.281457e-05%) - largest zero change 3.021794e-05\n",
      "0  Obj 0.00075914205 Primal inf 113.38951 (196)\n",
      "78  Obj 10402.613 Primal inf 51.252916 (124)\n",
      "156  Obj 15991.856 Primal inf 15.975558 (54)\n",
      "216  Obj 18175.415\n",
      "Optimal - objective value 18175.413\n",
      "After Postsolve, objective 18175.413, infeasibilities - dual 48029.641 (327), primal 0 (0)\n",
      "Presolved model was optimal, full model needs cleaning up\n",
      "0  Obj 18175.413\n",
      "Optimal - objective value 18175.413\n",
      "Optimal objective 18175.41289 - 216 iterations time 0.012, Presolve 0.00\n",
      "Total time (CPU seconds):       0.01   (Wallclock seconds):       0.01\n",
      "\n",
      "Welcome to the CBC MILP Solver \n",
      "Version: 2.10.3 \n",
      "Build Date: Oct  7 2019 \n",
      "\n",
      "command line - Cbc_C_Interface -ratioGap 0.5 -logLevel 1 -solve -quit (default strategy 1)\n",
      "ratioGap was changed from 0 to 0.5\n",
      "Presolve 204 (-3108) rows, 864 (-4152) columns and 1056 (-7260) elements\n",
      "Perturbing problem by 0.001% of 275.29435 - largest nonzero change 2.8475265e-05 ( 1.2860614e-05%) - largest zero change 2.8285383e-05\n",
      "0  Obj 0.00219612 Primal inf 148.89889 (204)\n",
      "79  Obj 4452.9989 Primal inf 158.14558 (176)\n",
      "158  Obj 16344.885 Primal inf 91.718968 (121)\n",
      "237  Obj 23435.93 Primal inf 36.378919 (55)\n",
      "297  Obj 23614.699\n",
      "Optimal - objective value 23614.694\n",
      "After Postsolve, objective 23614.694, infeasibilities - dual 94964.606 (588), primal 0 (0)\n",
      "Presolved model was optimal, full model needs cleaning up\n",
      "0  Obj 23614.694\n",
      "Optimal - objective value 23614.694\n",
      "Optimal objective 23614.69371 - 297 iterations time 0.012, Presolve 0.00\n",
      "Total time (CPU seconds):       0.01   (Wallclock seconds):       0.01\n",
      "\n",
      "Welcome to the CBC MILP Solver \n",
      "Version: 2.10.3 \n",
      "Build Date: Oct  7 2019 \n",
      "\n",
      "command line - Cbc_C_Interface -ratioGap 0.5 -logLevel 1 -solve -quit (default strategy 1)\n",
      "ratioGap was changed from 0 to 0.5\n",
      "Presolve 204 (-3108) rows, 864 (-4152) columns and 1056 (-7260) elements\n",
      "Perturbing problem by 0.001% of 275.29435 - largest nonzero change 2.8475265e-05 ( 1.2860614e-05%) - largest zero change 2.8285383e-05\n",
      "0  Obj 0.00219612 Primal inf 173.04949 (204)\n",
      "79  Obj 5788.4388 Primal inf 172.84258 (172)\n",
      "158  Obj 20026.925 Primal inf 113.27872 (127)\n",
      "237  Obj 26434.787 Primal inf 46.834117 (57)\n",
      "312  Obj 27618.977\n",
      "Optimal - objective value 27618.971\n",
      "After Postsolve, objective 27618.971, infeasibilities - dual 100407.16 (588), primal 0 (0)\n",
      "Presolved model was optimal, full model needs cleaning up\n",
      "0  Obj 27618.971\n",
      "Optimal - objective value 27618.971\n",
      "Optimal objective 27618.9706 - 312 iterations time 0.012, Presolve 0.00\n",
      "Total time (CPU seconds):       0.01   (Wallclock seconds):       0.01\n",
      "\n",
      "Welcome to the CBC MILP Solver \n",
      "Version: 2.10.3 \n",
      "Build Date: Oct  7 2019 \n",
      "\n",
      "command line - Cbc_C_Interface -ratioGap 0.5 -logLevel 1 -solve -quit (default strategy 1)\n",
      "ratioGap was changed from 0 to 0.5\n",
      "Presolve 204 (-3108) rows, 864 (-4152) columns and 1056 (-7260) elements\n",
      "Perturbing problem by 0.001% of 275.29435 - largest nonzero change 2.8475265e-05 ( 1.2860614e-05%) - largest zero change 2.8285383e-05\n",
      "0  Obj 0.00219612 Primal inf 180.96334 (204)\n",
      "79  Obj 5586.9099 Primal inf 181.54029 (174)\n",
      "158  Obj 20595.36 Primal inf 118.96435 (121)\n",
      "237  Obj 27309.012 Primal inf 48.203528 (60)\n",
      "316  Obj 28964.937\n",
      "Optimal - objective value 28964.931\n",
      "After Postsolve, objective 28964.931, infeasibilities - dual 101779.67 (588), primal 0 (0)\n",
      "Presolved model was optimal, full model needs cleaning up\n",
      "0  Obj 28964.931\n",
      "Optimal - objective value 28964.931\n",
      "Optimal objective 28964.93115 - 316 iterations time 0.012, Presolve 0.00\n",
      "Total time (CPU seconds):       0.01   (Wallclock seconds):       0.01\n",
      "\n",
      "Welcome to the CBC MILP Solver \n",
      "Version: 2.10.3 \n",
      "Build Date: Oct  7 2019 \n",
      "\n",
      "command line - Cbc_C_Interface -ratioGap 0.5 -logLevel 1 -solve -quit (default strategy 1)\n",
      "ratioGap was changed from 0 to 0.5\n",
      "Presolve 216 (-3096) rows, 924 (-4092) columns and 1128 (-7188) elements\n",
      "Perturbing problem by 0.001% of 281.27276 - largest nonzero change 3.1599309e-05 ( 1.3201928e-05%) - largest zero change 3.1319946e-05\n",
      "0  Obj 0.0028877085 Primal inf 210.3922 (216)\n",
      "79  Obj 7848.9831 Primal inf 185.53347 (185)\n",
      "158  Obj 22782.118 Primal inf 127.16405 (135)\n",
      "237  Obj 28509.261 Primal inf 60.802532 (82)\n",
      "316  Obj 32945.506 Primal inf 12.145832 (22)\n",
      "342  Obj 32979.04\n",
      "Optimal - objective value 32979.033\n",
      "After Postsolve, objective 32979.033, infeasibilities - dual 101907.42 (588), primal 0 (0)\n",
      "Presolved model was optimal, full model needs cleaning up\n",
      "0  Obj 32979.033\n",
      "Optimal - objective value 32979.033\n",
      "Optimal objective 32979.03263 - 342 iterations time 0.012, Presolve 0.00\n",
      "Total time (CPU seconds):       0.01   (Wallclock seconds):       0.01\n",
      "\n",
      "Welcome to the CBC MILP Solver \n",
      "Version: 2.10.3 \n",
      "Build Date: Oct  7 2019 \n",
      "\n",
      "command line - Cbc_C_Interface -ratioGap 0.5 -logLevel 1 -solve -quit (default strategy 1)\n",
      "ratioGap was changed from 0 to 0.5\n",
      "Presolve 252 (-3060) rows, 1093 (-3923) columns and 1333 (-6983) elements\n",
      "Perturbing problem by 0.001% of 301.0328 - largest nonzero change 3.3214989e-05 ( 1.327102e-05%) - largest zero change 3.2993013e-05\n",
      "0  Obj 827.82681 Primal inf 291.61349 (252)\n",
      "80  Obj 11583.145 Primal inf 283.3967 (216)\n",
      "160  Obj 28150.616 Primal inf 182.44995 (164)\n",
      "240  Obj 40001.717 Primal inf 90.302071 (119)\n",
      "320  Obj 48005.485 Primal inf 39.848703 (56)\n",
      "387  Obj 48922.875\n",
      "Optimal - objective value 48922.864\n",
      "After Postsolve, objective 48922.864, infeasibilities - dual 69172.642 (385), primal 0 (0)\n",
      "Presolved model was optimal, full model needs cleaning up\n",
      "0  Obj 48922.864\n",
      "Optimal - objective value 48922.864\n",
      "Optimal objective 48922.86384 - 387 iterations time 0.012, Presolve 0.00\n",
      "Total time (CPU seconds):       0.01   (Wallclock seconds):       0.01\n",
      "\n",
      "Welcome to the CBC MILP Solver \n",
      "Version: 2.10.3 \n",
      "Build Date: Oct  7 2019 \n",
      "\n",
      "command line - Cbc_C_Interface -ratioGap 0.5 -logLevel 1 -solve -quit (default strategy 1)\n",
      "ratioGap was changed from 0 to 0.5\n",
      "Presolve 288 (-3024) rows, 1272 (-3744) columns and 1548 (-6768) elements\n",
      "Perturbing problem by 0.001% of 892.80824 - largest nonzero change 9.2389743e-05 ( 1.8378076e-05%) - largest zero change 9.2223811e-05\n",
      "0  Obj 827.83553 Primal inf 342.92802 (288)\n",
      "80  Obj 16103.647 Primal inf 289.35343 (244)\n",
      "160  Obj 36364.256 Primal inf 176.23669 (197)\n",
      "240  Obj 46954.233 Primal inf 84.762548 (141)\n",
      "320  Obj 56177.442 Primal inf 39.216326 (65)\n",
      "400  Obj 59752.025 Primal inf 3.0636666 (9)\n",
      "414  Obj 59758.34\n",
      "Optimal - objective value 59758.31\n",
      "After Postsolve, objective 59758.31, infeasibilities - dual 55688.826 (288), primal 0 (0)\n",
      "Presolved model was optimal, full model needs cleaning up\n",
      "0  Obj 59758.31\n",
      "Optimal - objective value 59758.31\n",
      "Optimal objective 59758.31 - 414 iterations time 0.012, Presolve 0.00\n",
      "Total time (CPU seconds):       0.01   (Wallclock seconds):       0.01\n",
      "\n",
      "Welcome to the CBC MILP Solver \n",
      "Version: 2.10.3 \n",
      "Build Date: Oct  7 2019 \n",
      "\n",
      "command line - Cbc_C_Interface -ratioGap 0.5 -logLevel 1 -solve -quit (default strategy 1)\n",
      "ratioGap was changed from 0 to 0.5\n",
      "Presolve 276 (-3036) rows, 1212 (-3804) columns and 1476 (-6840) elements\n",
      "Perturbing problem by 0.001% of 892.80824 - largest nonzero change 9.0902078e-05 ( 1.8378076e-05%) - largest zero change 9.0882247e-05\n",
      "0  Obj 827.83506 Primal inf 339.13419 (276)\n",
      "80  Obj 15349.125 Primal inf 292.27823 (236)\n",
      "160  Obj 33861.025 Primal inf 182.27489 (187)\n",
      "240  Obj 46420.648 Primal inf 93.414192 (147)\n",
      "320  Obj 56310.247 Primal inf 50.085034 (70)\n",
      "400  Obj 58398.024 Primal inf 4.6990677 (13)\n",
      "415  Obj 58933.989\n",
      "Optimal - objective value 58933.959\n",
      "After Postsolve, objective 58933.959, infeasibilities - dual 55462.313 (288), primal 0 (0)\n",
      "Presolved model was optimal, full model needs cleaning up\n",
      "0  Obj 58933.959\n",
      "Optimal - objective value 58933.959\n",
      "Optimal objective 58933.95933 - 415 iterations time 0.012, Presolve 0.00\n",
      "Total time (CPU seconds):       0.01   (Wallclock seconds):       0.01\n",
      "\n",
      "Welcome to the CBC MILP Solver \n",
      "Version: 2.10.3 \n",
      "Build Date: Oct  7 2019 \n",
      "\n",
      "command line - Cbc_C_Interface -ratioGap 0.5 -logLevel 1 -solve -quit (default strategy 1)\n",
      "ratioGap was changed from 0 to 0.5\n",
      "Presolve 276 (-3036) rows, 1212 (-3804) columns and 1476 (-6840) elements\n",
      "Perturbing problem by 0.001% of 892.80824 - largest nonzero change 9.0902078e-05 ( 1.8378076e-05%) - largest zero change 9.0882247e-05\n",
      "0  Obj 827.83506 Primal inf 316.8481 (276)\n",
      "80  Obj 16210.124 Primal inf 265.05464 (232)\n",
      "160  Obj 32643.994 Primal inf 169.67708 (186)\n",
      "240  Obj 43358.004 Primal inf 84.019437 (132)\n",
      "320  Obj 52410.1 Primal inf 34.971212 (70)\n",
      "400  Obj 54677.817 Primal inf 1.3230172 (5)\n",
      "406  Obj 54679.821\n",
      "Optimal - objective value 54679.794\n",
      "After Postsolve, objective 54679.794, infeasibilities - dual 54425.938 (288), primal 0 (0)\n",
      "Presolved model was optimal, full model needs cleaning up\n",
      "0  Obj 54679.794\n",
      "Optimal - objective value 54679.794\n",
      "Optimal objective 54679.79408 - 406 iterations time 0.012, Presolve 0.00\n",
      "Total time (CPU seconds):       0.01   (Wallclock seconds):       0.01\n",
      "\n",
      "Welcome to the CBC MILP Solver \n",
      "Version: 2.10.3 \n",
      "Build Date: Oct  7 2019 \n",
      "\n",
      "command line - Cbc_C_Interface -ratioGap 0.5 -logLevel 1 -solve -quit (default strategy 1)\n",
      "ratioGap was changed from 0 to 0.5\n",
      "Presolve 240 (-3072) rows, 1044 (-3972) columns and 1272 (-7044) elements\n",
      "Perturbing problem by 0.001% of 301.0328 - largest nonzero change 3.2084216e-05 ( 1.3320872e-05%) - largest zero change 3.2051146e-05\n",
      "0  Obj 827.82672 Primal inf 286.19433 (240)\n",
      "79  Obj 10620.752 Primal inf 301.31226 (209)\n",
      "158  Obj 27979.656 Primal inf 165.30573 (153)\n",
      "237  Obj 40328.906 Primal inf 76.620073 (93)\n",
      "316  Obj 47785.688 Primal inf 21.561402 (32)\n",
      "361  Obj 47890.118\n",
      "Optimal - objective value 47890.107\n",
      "After Postsolve, objective 47890.107, infeasibilities - dual 52123.383 (288), primal 0 (0)\n",
      "Presolved model was optimal, full model needs cleaning up\n",
      "0  Obj 47890.107\n",
      "Optimal - objective value 47890.107\n",
      "Optimal objective 47890.10708 - 361 iterations time 0.012, Presolve 0.00\n",
      "Total time (CPU seconds):       0.01   (Wallclock seconds):       0.01\n",
      "\n",
      "Welcome to the CBC MILP Solver \n",
      "Version: 2.10.3 \n",
      "Build Date: Oct  7 2019 \n",
      "\n",
      "command line - Cbc_C_Interface -ratioGap 0.5 -logLevel 1 -solve -quit (default strategy 1)\n",
      "ratioGap was changed from 0 to 0.5\n",
      "Presolve 204 (-3108) rows, 865 (-4151) columns and 1057 (-7259) elements\n",
      "Perturbing problem by 0.001% of 301.0328 - largest nonzero change 3.3709772e-05 ( 1.3320872e-05%) - largest zero change 3.3659151e-05\n",
      "0  Obj 758.84085 Primal inf 250.44687 (204)\n",
      "79  Obj 15207.268 Primal inf 223.07148 (165)\n",
      "158  Obj 33673.399 Primal inf 86.106978 (95)\n",
      "237  Obj 41575.557 Primal inf 11.004794 (25)\n",
      "265  Obj 42270.769\n",
      "Optimal - objective value 42270.759\n",
      "After Postsolve, objective 42270.759, infeasibilities - dual 54222.136 (288), primal 0 (0)\n",
      "Presolved model was optimal, full model needs cleaning up\n",
      "0  Obj 42270.759\n",
      "Optimal - objective value 42270.759\n",
      "Optimal objective 42270.75913 - 265 iterations time 0.012, Presolve 0.00\n",
      "Total time (CPU seconds):       0.01   (Wallclock seconds):       0.01\n",
      "\n",
      "Welcome to the CBC MILP Solver \n",
      "Version: 2.10.3 \n",
      "Build Date: Oct  7 2019 \n",
      "\n",
      "command line - Cbc_C_Interface -ratioGap 0.5 -logLevel 1 -solve -quit (default strategy 1)\n",
      "ratioGap was changed from 0 to 0.5\n",
      "Presolve 168 (-3144) rows, 709 (-4307) columns and 865 (-7451) elements\n",
      "Perturbing problem by 0.001% of 301.0328 - largest nonzero change 3.3710648e-05 ( 1.3368739e-05%) - largest zero change 3.3659151e-05\n",
      "0  Obj 758.84033 Primal inf 236.73292 (168)\n",
      "78  Obj 22856.231 Primal inf 135.31461 (116)\n",
      "156  Obj 36490.293 Primal inf 46.572501 (59)\n",
      "215  Obj 40819.091\n",
      "Optimal - objective value 40819.082\n",
      "After Postsolve, objective 40819.082, infeasibilities - dual 61551.695 (288), primal 0 (0)\n",
      "Presolved model was optimal, full model needs cleaning up\n",
      "0  Obj 40819.082\n",
      "Optimal - objective value 40819.082\n",
      "Optimal objective 40819.08182 - 215 iterations time 0.012, Presolve 0.00\n",
      "Total time (CPU seconds):       0.01   (Wallclock seconds):       0.01\n",
      "\n"
     ]
    },
    {
     "output_type": "execute_result",
     "data": {
      "text/plain": "Simulation Results Reference\n\nResults Folder: /Users/cbarrows/Documents/repos/SIIPExamples.jl/RTS-GMLC-master/rts-test/19/results\n\nReference Tables\n\nstage-UC\n\nP__ThermalStandard: dataframe size (1, 3)\n\nP__RenewableDispatch: dataframe size (1, 3)\n\nReg_Down__VariableReserve_ReserveDown: dataframe size (1, 3)\n\nparameter_P_PowerLoad: dataframe size (1, 3)\n\nFlex_Down__VariableReserve_ReserveDown: dataframe size (1, 3)\n\nparameter_service_requirement_VariableReserve_ReserveDown: dataframe size (1, 3)\n\nReg_Up__VariableReserve_ReserveUp: dataframe size (1, 3)\n\nP__HydroDispatch: dataframe size (1, 3)\n\nparameter_P_RenewableDispatch: dataframe size (1, 3)\n\nSpin_Up_R2__VariableReserve_ReserveUp: dataframe size (1, 3)\n\nparameter_service_requirement_VariableReserve_ReserveUp: dataframe size (1, 3)\n\nparameter_P_RenewableFix: dataframe size (1, 3)\n\nOn__ThermalStandard: dataframe size (1, 3)\n\nparameter_P_HydroDispatch: dataframe size (1, 3)\n\nFlex_Up__VariableReserve_ReserveUp: dataframe size (1, 3)\n\nStart__ThermalStandard: dataframe size (1, 3)\n\nStop__ThermalStandard: dataframe size (1, 3)\n\nSpin_Up_R1__VariableReserve_ReserveUp: dataframe size (1, 3)\n\nSpin_Up_R3__VariableReserve_ReserveUp: dataframe size (1, 3)\n\nstage-ED\n\nparameter_P_HydroDispatch: dataframe size (24, 3)\n\nparameter_P_RenewableDispatch: dataframe size (24, 3)\n\nP__ThermalStandard: dataframe size (24, 3)\n\nP__RenewableDispatch: dataframe size (24, 3)\n\nparameter_P_RenewableFix: dataframe size (24, 3)\n\nparameter_P_PowerLoad: dataframe size (24, 3)\n\nP__HydroDispatch: dataframe size (24, 3)\n\nstage-UC\n\ntime length: 24\n\nstage-ED\n\ntime length: 12\n\n",
      "text/html": [
       "<h1>Simulation Results Reference</h1>\n",
       "<p><b>Results Folder:</b> /Users/cbarrows/Documents/repos/SIIPExamples.jl/RTS-GMLC-master/rts-test/19/results</p>\n",
       "<h2>Reference Tables</h2>\n",
       "<p><b>stage-UC</b></p>\n",
       "<p>P__ThermalStandard: dataframe size (1, 3)</p>\n",
       "<p>P__RenewableDispatch: dataframe size (1, 3)</p>\n",
       "<p>Reg_Down__VariableReserve_ReserveDown: dataframe size (1, 3)</p>\n",
       "<p>parameter_P_PowerLoad: dataframe size (1, 3)</p>\n",
       "<p>Flex_Down__VariableReserve_ReserveDown: dataframe size (1, 3)</p>\n",
       "<p>parameter_service_requirement_VariableReserve_ReserveDown: dataframe size (1, 3)</p>\n",
       "<p>Reg_Up__VariableReserve_ReserveUp: dataframe size (1, 3)</p>\n",
       "<p>P__HydroDispatch: dataframe size (1, 3)</p>\n",
       "<p>parameter_P_RenewableDispatch: dataframe size (1, 3)</p>\n",
       "<p>Spin_Up_R2__VariableReserve_ReserveUp: dataframe size (1, 3)</p>\n",
       "<p>parameter_service_requirement_VariableReserve_ReserveUp: dataframe size (1, 3)</p>\n",
       "<p>parameter_P_RenewableFix: dataframe size (1, 3)</p>\n",
       "<p>On__ThermalStandard: dataframe size (1, 3)</p>\n",
       "<p>parameter_P_HydroDispatch: dataframe size (1, 3)</p>\n",
       "<p>Flex_Up__VariableReserve_ReserveUp: dataframe size (1, 3)</p>\n",
       "<p>Start__ThermalStandard: dataframe size (1, 3)</p>\n",
       "<p>Stop__ThermalStandard: dataframe size (1, 3)</p>\n",
       "<p>Spin_Up_R1__VariableReserve_ReserveUp: dataframe size (1, 3)</p>\n",
       "<p>Spin_Up_R3__VariableReserve_ReserveUp: dataframe size (1, 3)</p>\n",
       "<p><b>stage-ED</b></p>\n",
       "<p>parameter_P_HydroDispatch: dataframe size (24, 3)</p>\n",
       "<p>parameter_P_RenewableDispatch: dataframe size (24, 3)</p>\n",
       "<p>P__ThermalStandard: dataframe size (24, 3)</p>\n",
       "<p>P__RenewableDispatch: dataframe size (24, 3)</p>\n",
       "<p>parameter_P_RenewableFix: dataframe size (24, 3)</p>\n",
       "<p>parameter_P_PowerLoad: dataframe size (24, 3)</p>\n",
       "<p>P__HydroDispatch: dataframe size (24, 3)</p>\n",
       "<p><b>stage-UC</b></p>\n",
       "<p>time length: 24</p>\n",
       "<p><b>stage-ED</b></p>\n",
       "<p>time length: 12</p>\n"
      ]
     },
     "metadata": {},
     "execution_count": 14
    }
   ],
   "cell_type": "code",
   "source": [
    "sim_results = execute!(sim)"
   ],
   "metadata": {},
   "execution_count": 14
  },
  {
   "cell_type": "markdown",
   "source": [
    "## Results"
   ],
   "metadata": {}
  },
  {
   "outputs": [
    {
     "name": "stdout",
     "output_type": "stream",
     "text": [
      "Welcome to the CBC MILP Solver \n",
      "Version: 2.10.3 \n",
      "Build Date: Oct  7 2019 \n",
      "\n",
      "command line - Cbc_C_Interface -ratioGap 0.5 -logLevel 1 -solve -quit (default strategy 1)\n",
      "ratioGap was changed from 0 to 0.5\n",
      "Presolve 168 (-3144) rows, 708 (-4308) columns and 864 (-7452) elements\n",
      "Perturbing problem by 0.001% of 301.0328 - largest nonzero change 3.3710648e-05 ( 1.3368739e-05%) - largest zero change 3.3659151e-05\n",
      "0  Obj 827.82553 Primal inf 196.65557 (168)\n",
      "78  Obj 13329.718 Primal inf 154.81497 (122)\n",
      "156  Obj 28181.414 Primal inf 45.495886 (58)\n",
      "227  Obj 33016.646\n",
      "Optimal - objective value 33016.639\n",
      "After Postsolve, objective 33016.639, infeasibilities - dual 52844.658 (287), primal 0 (0)\n",
      "Presolved model was optimal, full model needs cleaning up\n",
      "0  Obj 33016.639\n",
      "Optimal - objective value 33016.639\n",
      "Optimal objective 33016.63866 - 227 iterations time 0.012, Presolve 0.00\n",
      "Total time (CPU seconds):       0.01   (Wallclock seconds):       0.01\n",
      "\n"
     ]
    }
   ],
   "cell_type": "code",
   "source": [
    "uc_results = load_simulation_results(sim_results, \"UC\");\n",
    "ed_results = load_simulation_results(sim_results, \"ED\");"
   ],
   "metadata": {},
   "execution_count": 15
  },
  {
   "cell_type": "markdown",
   "source": [
    "## Plotting\n",
    "Take a look at the examples in [the plotting folder.](../../notebook/PowerSimulations_examples/Plotting)"
   ],
   "metadata": {}
  },
  {
   "cell_type": "markdown",
   "source": [
    "---\n",
    "\n",
    "*This notebook was generated using [Literate.jl](https://github.com/fredrikekre/Literate.jl).*"
   ],
   "metadata": {}
  }
 ],
 "nbformat_minor": 3,
 "metadata": {
  "language_info": {
   "file_extension": ".jl",
   "mimetype": "application/julia",
   "name": "julia",
   "version": "1.3.1"
  },
  "kernelspec": {
   "name": "julia-1.3",
   "display_name": "Julia 1.3.1",
   "language": "julia"
  }
 },
 "nbformat": 4
}
