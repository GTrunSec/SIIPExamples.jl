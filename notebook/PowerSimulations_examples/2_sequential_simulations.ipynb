{
 "cells": [
  {
   "cell_type": "markdown",
   "source": [
    "# Sequential Simulations with [PowerSimulations.jl](https://github.com/NREL-SIIP/PowerSimulations.jl)"
   ],
   "metadata": {}
  },
  {
   "cell_type": "markdown",
   "source": [
    "**Originally Contributed by**: Clayton Barrows"
   ],
   "metadata": {}
  },
  {
   "cell_type": "markdown",
   "source": [
    "## Introduction"
   ],
   "metadata": {}
  },
  {
   "cell_type": "markdown",
   "source": [
    "PowerSimulations.jl supports simulations that consist of sequential optimization problems\n",
    "where results from previous problems inform subsequent problems in a variety of ways. This\n",
    "example demonstrates some of these capabilities to represent electricity market clearing."
   ],
   "metadata": {}
  },
  {
   "cell_type": "markdown",
   "source": [
    "## Dependencies\n",
    "Since the `OperatiotnsProblem` is the fundamental building block of a sequential\n",
    "simulation in PowerSimulations, we will build on the [OperationsProblem example](../../notebook/PowerSimulations_examples/1_operations_problems.ipynb)\n",
    "by sourcing it as a dependency."
   ],
   "metadata": {}
  },
  {
   "outputs": [
    {
     "name": "stdout",
     "output_type": "stream",
     "text": [
      "┌ Info: Parsing csv data in branch.csv ...\n",
      "└ @ PowerSystems /Users/cbarrows/.julia/packages/PowerSystems/kfHHW/src/parsers/power_system_table_data.jl:148\n",
      "┌ Info: Successfully parsed branch.csv\n",
      "└ @ PowerSystems /Users/cbarrows/.julia/packages/PowerSystems/kfHHW/src/parsers/power_system_table_data.jl:153\n",
      "┌ Info: Parsing csv data in bus.csv ...\n",
      "└ @ PowerSystems /Users/cbarrows/.julia/packages/PowerSystems/kfHHW/src/parsers/power_system_table_data.jl:148\n",
      "┌ Info: Successfully parsed bus.csv\n",
      "└ @ PowerSystems /Users/cbarrows/.julia/packages/PowerSystems/kfHHW/src/parsers/power_system_table_data.jl:153\n",
      "┌ Info: Parsing csv data in dc_branch.csv ...\n",
      "└ @ PowerSystems /Users/cbarrows/.julia/packages/PowerSystems/kfHHW/src/parsers/power_system_table_data.jl:148\n",
      "┌ Info: Successfully parsed dc_branch.csv\n",
      "└ @ PowerSystems /Users/cbarrows/.julia/packages/PowerSystems/kfHHW/src/parsers/power_system_table_data.jl:153\n",
      "┌ Info: Parsing csv data in gen.csv ...\n",
      "└ @ PowerSystems /Users/cbarrows/.julia/packages/PowerSystems/kfHHW/src/parsers/power_system_table_data.jl:148\n",
      "┌ Info: Successfully parsed gen.csv\n",
      "└ @ PowerSystems /Users/cbarrows/.julia/packages/PowerSystems/kfHHW/src/parsers/power_system_table_data.jl:153\n",
      "┌ Info: Parsing csv data in reserves.csv ...\n",
      "└ @ PowerSystems /Users/cbarrows/.julia/packages/PowerSystems/kfHHW/src/parsers/power_system_table_data.jl:148\n",
      "┌ Info: Successfully parsed reserves.csv\n",
      "└ @ PowerSystems /Users/cbarrows/.julia/packages/PowerSystems/kfHHW/src/parsers/power_system_table_data.jl:153\n",
      "┌ Info: Parsing csv data in simulation_objects.csv ...\n",
      "└ @ PowerSystems /Users/cbarrows/.julia/packages/PowerSystems/kfHHW/src/parsers/power_system_table_data.jl:148\n",
      "┌ Info: Successfully parsed simulation_objects.csv\n",
      "└ @ PowerSystems /Users/cbarrows/.julia/packages/PowerSystems/kfHHW/src/parsers/power_system_table_data.jl:153\n",
      "┌ Info: Parsing csv data in storage.csv ...\n",
      "└ @ PowerSystems /Users/cbarrows/.julia/packages/PowerSystems/kfHHW/src/parsers/power_system_table_data.jl:148\n",
      "┌ Info: Successfully parsed storage.csv\n",
      "└ @ PowerSystems /Users/cbarrows/.julia/packages/PowerSystems/kfHHW/src/parsers/power_system_table_data.jl:153\n",
      "┌ Info: Parsing csv data in timeseries_pointers.csv ...\n",
      "└ @ PowerSystems /Users/cbarrows/.julia/packages/PowerSystems/kfHHW/src/parsers/power_system_table_data.jl:148\n",
      "┌ Info: Successfully parsed timeseries_pointers.csv\n",
      "└ @ PowerSystems /Users/cbarrows/.julia/packages/PowerSystems/kfHHW/src/parsers/power_system_table_data.jl:153\n",
      "┌ Info: Adding contributing generators for Spin_Up_R1 by category\n",
      "└ @ PowerSystems /Users/cbarrows/.julia/packages/PowerSystems/kfHHW/src/parsers/power_system_table_data.jl:645\n",
      "┌ Info: Adding contributing generators for Spin_Up_R2 by category\n",
      "└ @ PowerSystems /Users/cbarrows/.julia/packages/PowerSystems/kfHHW/src/parsers/power_system_table_data.jl:645\n",
      "┌ Info: Adding contributing generators for Spin_Up_R3 by category\n",
      "└ @ PowerSystems /Users/cbarrows/.julia/packages/PowerSystems/kfHHW/src/parsers/power_system_table_data.jl:645\n",
      "┌ Info: Adding contributing generators for Flex_Up by category\n",
      "└ @ PowerSystems /Users/cbarrows/.julia/packages/PowerSystems/kfHHW/src/parsers/power_system_table_data.jl:645\n",
      "┌ Info: Adding contributing generators for Flex_Down by category\n",
      "└ @ PowerSystems /Users/cbarrows/.julia/packages/PowerSystems/kfHHW/src/parsers/power_system_table_data.jl:645\n",
      "┌ Info: Adding contributing generators for Reg_Up by category\n",
      "└ @ PowerSystems /Users/cbarrows/.julia/packages/PowerSystems/kfHHW/src/parsers/power_system_table_data.jl:645\n",
      "┌ Info: Adding contributing generators for Reg_Down by category\n",
      "└ @ PowerSystems /Users/cbarrows/.julia/packages/PowerSystems/kfHHW/src/parsers/power_system_table_data.jl:645\n",
      "┌ Info: FixedOutput for HydroDispatch is not compatible with the provision of reserve services\n",
      "└ @ PowerSimulations /Users/cbarrows/.julia/packages/PowerSimulations/at16K/src/services_models/services_constructor.jl:39\n",
      "┌ Info: FixedOutput for RenewableFix is not compatible with the provision of reserve services\n",
      "└ @ PowerSimulations /Users/cbarrows/.julia/packages/PowerSimulations/at16K/src/services_models/services_constructor.jl:39\n",
      "┌ Info: FixedOutput for HydroDispatch is not compatible with the provision of reserve services\n",
      "└ @ PowerSimulations /Users/cbarrows/.julia/packages/PowerSimulations/at16K/src/services_models/services_constructor.jl:39\n",
      "┌ Info: FixedOutput for RenewableFix is not compatible with the provision of reserve services\n",
      "└ @ PowerSimulations /Users/cbarrows/.julia/packages/PowerSimulations/at16K/src/services_models/services_constructor.jl:39\n",
      "┌ Warning: The data doesn't include devices of type InterruptibleLoad, consider changing the device models\n",
      "└ @ PowerSimulations /Users/cbarrows/.julia/packages/PowerSimulations/at16K/src/devices_models/device_constructors/common/constructor_validations.jl:3\n",
      "┌ Warning: Data doesn't contain generators with ramp limits, consider adjusting your formulation\n",
      "└ @ PowerSimulations /Users/cbarrows/.julia/packages/PowerSimulations/at16K/src/devices_models/devices/thermal_generation.jl:366\n"
     ]
    },
    {
     "output_type": "execute_result",
     "data": {
      "text/plain": "\nOperations Problem Specification\n============================================\n\n  transmission:  CopperPlatePowerModel\n============================================\n  devices: \n      ILoads:\n        device_type = InterruptibleLoad\n        formulation = InterruptiblePowerLoad\n      HydroROR:\n        device_type = HydroDispatch\n        formulation = FixedOutput\n      Generators:\n        device_type = ThermalStandard\n        formulation = ThermalStandardUnitCommitment\n      Ren:\n        device_type = RenewableDispatch\n        formulation = RenewableFullDispatch\n      Loads:\n        device_type = PowerLoad\n        formulation = StaticPowerLoad\n      RenFx:\n        device_type = RenewableFix\n        formulation = FixedOutput\n============================================\n  branches: \n      T:\n        device_type = Transformer2W\n        formulation = StaticTransformer\n      TT:\n        device_type = TapTransformer\n        formulation = StaticTransformer\n      L:\n        device_type = Line\n        formulation = StaticLine\n============================================\n  services: \n      ReserveDown:\n        service_type = VariableReserve{ReserveDown}\n        formulation = RangeReserve\n      ReserveUp:\n        service_type = VariableReserve{ReserveUp}\n        formulation = RangeReserve\n============================================\n"
     },
     "metadata": {},
     "execution_count": 1
    }
   ],
   "cell_type": "code",
   "source": [
    "using SIIPExamples\n",
    "pkgpath = dirname(dirname(pathof(SIIPExamples)))\n",
    "include(joinpath(pkgpath, \"test\", \"PowerSimulations_examples\", \"1_operations_problems.jl\"))"
   ],
   "metadata": {},
   "execution_count": 1
  },
  {
   "cell_type": "markdown",
   "source": [
    "### 5-Minute system\n",
    "We had already created a `sys::System` from hourly RTS data in the OperationsProblem example.\n",
    "The RTS data also includes 5-minute resolution time series data. So, we can create another\n",
    "`System`:"
   ],
   "metadata": {}
  },
  {
   "outputs": [
    {
     "name": "stdout",
     "output_type": "stream",
     "text": [
      "┌ Info: Adding contributing generators for Spin_Up_R1 by category\n",
      "└ @ PowerSystems /Users/cbarrows/.julia/packages/PowerSystems/kfHHW/src/parsers/power_system_table_data.jl:645\n",
      "┌ Info: Adding contributing generators for Spin_Up_R2 by category\n",
      "└ @ PowerSystems /Users/cbarrows/.julia/packages/PowerSystems/kfHHW/src/parsers/power_system_table_data.jl:645\n",
      "┌ Info: Adding contributing generators for Spin_Up_R3 by category\n",
      "└ @ PowerSystems /Users/cbarrows/.julia/packages/PowerSystems/kfHHW/src/parsers/power_system_table_data.jl:645\n",
      "┌ Info: Adding contributing generators for Flex_Up by category\n",
      "└ @ PowerSystems /Users/cbarrows/.julia/packages/PowerSystems/kfHHW/src/parsers/power_system_table_data.jl:645\n",
      "┌ Info: Adding contributing generators for Flex_Down by category\n",
      "└ @ PowerSystems /Users/cbarrows/.julia/packages/PowerSystems/kfHHW/src/parsers/power_system_table_data.jl:645\n",
      "┌ Info: Adding contributing generators for Reg_Up by category\n",
      "└ @ PowerSystems /Users/cbarrows/.julia/packages/PowerSystems/kfHHW/src/parsers/power_system_table_data.jl:645\n",
      "┌ Info: Adding contributing generators for Reg_Down by category\n",
      "└ @ PowerSystems /Users/cbarrows/.julia/packages/PowerSystems/kfHHW/src/parsers/power_system_table_data.jl:645\n"
     ]
    },
    {
     "output_type": "execute_result",
     "data": {
      "text/plain": "System\n======\nBase Power: 100.0\n\nComponents\n==========\nNum components: 434\n\n15×3 DataFrame. Omitted printing of 2 columns\n│ Row │ ConcreteType                 │\n│     │ \u001b[90mString\u001b[39m                       │\n├─────┼──────────────────────────────┤\n│ 1   │ Area                         │\n│ 2   │ Bus                          │\n│ 3   │ GenericBattery               │\n│ 4   │ HVDCLine                     │\n│ 5   │ HydroDispatch                │\n│ 6   │ Line                         │\n│ 7   │ LoadZone                     │\n│ 8   │ PowerLoad                    │\n│ 9   │ RenewableDispatch            │\n│ 10  │ RenewableFix                 │\n│ 11  │ TapTransformer               │\n│ 12  │ ThermalStandard              │\n│ 13  │ Transformer2W                │\n│ 14  │ VariableReserve{ReserveDown} │\n│ 15  │ VariableReserve{ReserveUp}   │\n\nForecasts\n=========\nResolution: 5 minutes\nHorizon: 105408\nInitial Times: 2020-01-01T00:00:00\nInterval: 0 seconds\nComponents with Forecasts: 137\nTotal Forecasts: 188\n",
      "text/html": [
       "<h1>System</h1>\n",
       "<p><b>Base Power</b>: 100.0</p>\n",
       "<h2>Components</h2>\n",
       "<p><b>Num components</b>: 434</p>\n",
       "<table class=\"data-frame\"><thead><tr><th></th><th>ConcreteType</th><th>SuperTypes</th><th>Count</th></tr><tr><th></th><th>String</th><th>String</th><th>Int64</th></tr></thead><tbody><p>15 rows × 3 columns</p><tr><th>1</th><td>Area</td><td>AggregationTopology &lt;: Topology &lt;: Component &lt;: PowerSystemType &lt;: InfrastructureSystemsType &lt;: Any</td><td>3</td></tr><tr><th>2</th><td>Bus</td><td>Topology &lt;: Component &lt;: PowerSystemType &lt;: InfrastructureSystemsType &lt;: Any</td><td>73</td></tr><tr><th>3</th><td>GenericBattery</td><td>Storage &lt;: StaticInjection &lt;: Device &lt;: Component &lt;: PowerSystemType &lt;: InfrastructureSystemsType &lt;: Any</td><td>1</td></tr><tr><th>4</th><td>HVDCLine</td><td>DCBranch &lt;: Branch &lt;: Device &lt;: Component &lt;: PowerSystemType &lt;: InfrastructureSystemsType &lt;: Any</td><td>1</td></tr><tr><th>5</th><td>HydroDispatch</td><td>HydroGen &lt;: Generator &lt;: StaticInjection &lt;: Device &lt;: Component &lt;: PowerSystemType &lt;: InfrastructureSystemsType &lt;: Any</td><td>20</td></tr><tr><th>6</th><td>Line</td><td>ACBranch &lt;: Branch &lt;: Device &lt;: Component &lt;: PowerSystemType &lt;: InfrastructureSystemsType &lt;: Any</td><td>104</td></tr><tr><th>7</th><td>LoadZone</td><td>AggregationTopology &lt;: Topology &lt;: Component &lt;: PowerSystemType &lt;: InfrastructureSystemsType &lt;: Any</td><td>21</td></tr><tr><th>8</th><td>PowerLoad</td><td>StaticLoad &lt;: ElectricLoad &lt;: StaticInjection &lt;: Device &lt;: Component &lt;: PowerSystemType &lt;: InfrastructureSystemsType &lt;: Any</td><td>51</td></tr><tr><th>9</th><td>RenewableDispatch</td><td>RenewableGen &lt;: Generator &lt;: StaticInjection &lt;: Device &lt;: Component &lt;: PowerSystemType &lt;: InfrastructureSystemsType &lt;: Any</td><td>30</td></tr><tr><th>10</th><td>RenewableFix</td><td>RenewableGen &lt;: Generator &lt;: StaticInjection &lt;: Device &lt;: Component &lt;: PowerSystemType &lt;: InfrastructureSystemsType &lt;: Any</td><td>31</td></tr><tr><th>11</th><td>TapTransformer</td><td>ACBranch &lt;: Branch &lt;: Device &lt;: Component &lt;: PowerSystemType &lt;: InfrastructureSystemsType &lt;: Any</td><td>15</td></tr><tr><th>12</th><td>ThermalStandard</td><td>ThermalGen &lt;: Generator &lt;: StaticInjection &lt;: Device &lt;: Component &lt;: PowerSystemType &lt;: InfrastructureSystemsType &lt;: Any</td><td>76</td></tr><tr><th>13</th><td>Transformer2W</td><td>ACBranch &lt;: Branch &lt;: Device &lt;: Component &lt;: PowerSystemType &lt;: InfrastructureSystemsType &lt;: Any</td><td>1</td></tr><tr><th>14</th><td>VariableReserve{ReserveDown}</td><td>Reserve{ReserveDown} &lt;: Service &lt;: Component &lt;: PowerSystemType &lt;: InfrastructureSystemsType &lt;: Any</td><td>2</td></tr><tr><th>15</th><td>VariableReserve{ReserveUp}</td><td>Reserve{ReserveUp} &lt;: Service &lt;: Component &lt;: PowerSystemType &lt;: InfrastructureSystemsType &lt;: Any</td><td>5</td></tr></tbody></table>\n",
       "\n",
       "<h2>Forecasts</h2>\n",
       "<p><b>Resolution</b>: 5 minutes</p>\n",
       "<p><b>Horizon</b>: 105408</p>\n",
       "<p><b>Initial Times</b>: 2020-01-01T00:00:00</p>\n",
       "<p><b>Interval</b>: 0 seconds</p>\n",
       "<p><b>Components with Forecasts</b>: 137</p>\n",
       "<p><b>Total Forecasts</b>: 188</p>\n"
      ]
     },
     "metadata": {},
     "execution_count": 2
    }
   ],
   "cell_type": "code",
   "source": [
    "sys_RT = System(rawsys; forecast_resolution = Dates.Minute(5))"
   ],
   "metadata": {},
   "execution_count": 2
  },
  {
   "cell_type": "markdown",
   "source": [
    "The RTS dataset has some large RE and load forecast errors that create infeasible\n",
    "simulations. Until we enable formulations with slack variables, we need to increase the\n",
    "amount of reserve held to handle the forecast error."
   ],
   "metadata": {}
  },
  {
   "outputs": [
    {
     "output_type": "execute_result",
     "data": {
      "text/plain": "5.0"
     },
     "metadata": {},
     "execution_count": 3
    }
   ],
   "cell_type": "code",
   "source": [
    "get_component(VariableReserve{ReserveUp}, sys, \"Flex_Up\").requirement = 5.0"
   ],
   "metadata": {},
   "execution_count": 3
  },
  {
   "cell_type": "markdown",
   "source": [
    "## `OperationsProblemTemplate`s define `Stage`s\n",
    "Sequential simulations in PowerSimulations are created by defining `OperationsProblems`\n",
    "that represent `Stages`, and how information flows between executions of a `Stage` and\n",
    "between different `Stage`s.\n",
    "\n",
    "Let's start by defining a two stage simulation that might look like a typical day-Ahead\n",
    "and real-time electricity market clearing process."
   ],
   "metadata": {}
  },
  {
   "cell_type": "markdown",
   "source": [
    "### Define the reference model for the day-ahead unit commitment"
   ],
   "metadata": {}
  },
  {
   "outputs": [
    {
     "output_type": "execute_result",
     "data": {
      "text/plain": "\nOperations Problem Specification\n============================================\n\n  transmission:  CopperPlatePowerModel\n============================================\n  devices: \n      HydroROR:\n        device_type = HydroDispatch\n        formulation = HydroDispatchRunOfRiver\n      Generators:\n        device_type = ThermalStandard\n        formulation = ThermalStandardUnitCommitment\n      Ren:\n        device_type = RenewableDispatch\n        formulation = RenewableFullDispatch\n      Loads:\n        device_type = PowerLoad\n        formulation = StaticPowerLoad\n      RenFx:\n        device_type = RenewableFix\n        formulation = FixedOutput\n============================================\n  branches: \n      T:\n        device_type = Transformer2W\n        formulation = StaticTransformer\n      TT:\n        device_type = TapTransformer\n        formulation = StaticTransformer\n      L:\n        device_type = Line\n        formulation = StaticLine\n      DC:\n        device_type = HVDCLine\n        formulation = HVDCDispatch\n============================================\n  services: \n      ReserveDown:\n        service_type = VariableReserve{ReserveDown}\n        formulation = RangeReserve\n      ReserveUp:\n        service_type = VariableReserve{ReserveUp}\n        formulation = RangeReserve\n============================================\n"
     },
     "metadata": {},
     "execution_count": 4
    }
   ],
   "cell_type": "code",
   "source": [
    "devices = Dict(\n",
    "    :Generators => DeviceModel(ThermalStandard, ThermalStandardUnitCommitment),\n",
    "    :Ren => DeviceModel(RenewableDispatch, RenewableFullDispatch),\n",
    "    :Loads => DeviceModel(PowerLoad, StaticPowerLoad),\n",
    "    :HydroROR => DeviceModel(HydroDispatch, HydroDispatchRunOfRiver),\n",
    "    :RenFx => DeviceModel(RenewableFix, FixedOutput),\n",
    ")\n",
    "template_uc = template_unit_commitment(devices = devices)"
   ],
   "metadata": {},
   "execution_count": 4
  },
  {
   "cell_type": "markdown",
   "source": [
    "### Define the reference model for the real-time economic dispatch"
   ],
   "metadata": {}
  },
  {
   "outputs": [
    {
     "output_type": "execute_result",
     "data": {
      "text/plain": "\nOperations Problem Specification\n============================================\n\n  transmission:  CopperPlatePowerModel\n============================================\n  devices: \n      HydroROR:\n        device_type = HydroDispatch\n        formulation = HydroDispatchRunOfRiver\n      Generators:\n        device_type = ThermalStandard\n        formulation = ThermalDispatch\n      Ren:\n        device_type = RenewableDispatch\n        formulation = RenewableFullDispatch\n      Loads:\n        device_type = PowerLoad\n        formulation = StaticPowerLoad\n      RenFx:\n        device_type = RenewableFix\n        formulation = FixedOutput\n============================================\n  branches: \n      T:\n        device_type = Transformer2W\n        formulation = StaticTransformer\n      TT:\n        device_type = TapTransformer\n        formulation = StaticTransformer\n      L:\n        device_type = Line\n        formulation = StaticLine\n      DC:\n        device_type = HVDCLine\n        formulation = HVDCDispatch\n============================================\n  services: \n============================================\n"
     },
     "metadata": {},
     "execution_count": 5
    }
   ],
   "cell_type": "code",
   "source": [
    "devices = Dict(\n",
    "    :Generators => DeviceModel(ThermalStandard, ThermalDispatch),\n",
    "    :Ren => DeviceModel(RenewableDispatch, RenewableFullDispatch),\n",
    "    :Loads => DeviceModel(PowerLoad, StaticPowerLoad),\n",
    "    :HydroROR => DeviceModel(HydroDispatch, HydroDispatchRunOfRiver),\n",
    "    :RenFx => DeviceModel(RenewableFix, FixedOutput),\n",
    ")\n",
    "template_ed = template_economic_dispatch(devices = devices)"
   ],
   "metadata": {},
   "execution_count": 5
  },
  {
   "cell_type": "markdown",
   "source": [
    "### Define the `Stage`s\n",
    "Stages define models. The actual problem will change as the stage gets updated to represent\n",
    "different time periods, but the formulations applied to the components is constant within\n",
    "a stage. In this case, we want to define two stages with the `OperationsProblemTemplate`s\n",
    "and the `System`s that we've already created."
   ],
   "metadata": {}
  },
  {
   "outputs": [
    {
     "output_type": "execute_result",
     "data": {
      "text/plain": "Dict{String,Stage{GenericOpProblem}} with 2 entries:\n  \"ED\" => Stage()…\n  \"UC\" => Stage()…"
     },
     "metadata": {},
     "execution_count": 6
    }
   ],
   "cell_type": "code",
   "source": [
    "stages_definition = Dict(\n",
    "    \"UC\" => Stage(GenericOpProblem, template_uc, sys, solver),\n",
    "    \"ED\" => Stage(GenericOpProblem, template_ed, sys_RT, solver),\n",
    ")"
   ],
   "metadata": {},
   "execution_count": 6
  },
  {
   "cell_type": "markdown",
   "source": [
    "### `SimulationSequence`\n",
    "Similar to an `OperationsProblemTemplate`, the `SimulationSequence` provides a template of\n",
    "how to execute a sequential set of operations problems."
   ],
   "metadata": {}
  },
  {
   "cell_type": "markdown",
   "source": [
    "print_struct(SimulationSequence)"
   ],
   "metadata": {}
  },
  {
   "cell_type": "markdown",
   "source": [
    "Let's review some of the `SimulationSequence` arguments."
   ],
   "metadata": {}
  },
  {
   "cell_type": "markdown",
   "source": [
    "### Chronologies\n",
    "In PowerSimulations, chronologies define where information is flowing. There are two types\n",
    "of chronologies.\n",
    " - inter-stage chronologies: Define how information flows between stages. e.g. day-ahead\n",
    "solutions are used to inform economic dispatch problems\n",
    " - intra-stage chronologies: Define how information flows between multiple executions of a\n",
    "single stage. e.g. the dispatch setpoints of the first period of an economic dispatch problem\n",
    "are constrained by the ramping limits from setpoints in the final period of the previous problem."
   ],
   "metadata": {}
  },
  {
   "cell_type": "markdown",
   "source": [
    "Let's define an inter-stage chronology that synchronizes information from 24 periods of\n",
    "the first stage with a set of executions of the second stage:"
   ],
   "metadata": {}
  },
  {
   "outputs": [
    {
     "output_type": "execute_result",
     "data": {
      "text/plain": "Dict{Pair{String,String},Synchronize} with 1 entry:\n  \"UC\"=>\"ED\" => Synchronize(24)"
     },
     "metadata": {},
     "execution_count": 7
    }
   ],
   "cell_type": "code",
   "source": [
    "feedforward_chronologies = Dict((\"UC\" => \"ED\") => Synchronize(periods = 24))"
   ],
   "metadata": {},
   "execution_count": 7
  },
  {
   "cell_type": "markdown",
   "source": [
    "### `FeedForward` and `Cache`\n",
    "The definition of exactly what information is passed using the defined chronologies is\n",
    "accomplished with `FeedForward` and `Cache` objects. Specifically, `FeedForward` is used\n",
    "to define what to do with information being passed with an inter-stage chronology. Let's\n",
    "define a `FeedForward` that affects the semi-continuous range constraints of thermal generators\n",
    "in the economic dispatch problems based on the value of the unit-commitment variables."
   ],
   "metadata": {}
  },
  {
   "outputs": [
    {
     "output_type": "execute_result",
     "data": {
      "text/plain": "Dict{Tuple{String,Symbol,Symbol},SemiContinuousFF} with 1 entry:\n  (\"ED\", :devices, :Generators) => SemiContinuousFF(:On, [:P], nothing)"
     },
     "metadata": {},
     "execution_count": 8
    }
   ],
   "cell_type": "code",
   "source": [
    "feedforward = Dict(\n",
    "    (\"ED\", :devices, :Generators) => SemiContinuousFF(\n",
    "        binary_source_stage = PSI.ON,\n",
    "        affected_variables = [PSI.ACTIVE_POWER],\n",
    "    ),\n",
    ")"
   ],
   "metadata": {},
   "execution_count": 8
  },
  {
   "cell_type": "markdown",
   "source": [
    "The `Cache` is simply a way to preserve needed information for later use. In the case of\n",
    "a typical day-ahead - real-time market simulation, there are many economic dispatch executions\n",
    "in between each unit-commitment execution. Rather than keeping the full set of results from\n",
    "previous unit-commitment simulations in memory to be used in later executions, we can define\n",
    "exactly which results will be needed and carry them through a cache in the economic dispatch\n",
    "problems for later use."
   ],
   "metadata": {}
  },
  {
   "outputs": [
    {
     "output_type": "execute_result",
     "data": {
      "text/plain": "Dict{Tuple{String},TimeStatusChange} with 1 entry:\n  (\"UC\",) => TimeStatusChange(ThermalStandard, 1-dimensional DenseAxisArray{Dic…"
     },
     "metadata": {},
     "execution_count": 9
    }
   ],
   "cell_type": "code",
   "source": [
    "cache = Dict((\"UC\",) => TimeStatusChange(ThermalStandard, PSI.ON))"
   ],
   "metadata": {},
   "execution_count": 9
  },
  {
   "cell_type": "markdown",
   "source": [
    "### Sequencing\n",
    "The stage problem length, look-ahead, and other details surrounding the temporal Sequencing\n",
    "of stages are controlled using the `order`, `horizons`, and `intervals` arguments.\n",
    " - order::Dict(Int, String) : the hierarchical order of stages in the simulation\n",
    " - horizons::Dict(String, Int) : defines the number of time periods in each stage (problem length)\n",
    " - intervals::Dict(String, Dates.Period) : defines the interval with which stage problems\n",
    "advance after each execution. e.g. day-ahead problems have an interval of 24-hours\n",
    "\n",
    "So, to define a typical day-ahead - real-time sequence, we can define the following:\n",
    " - Day ahead problems should represent 48 hours, advancing 24 hours after each execution (24-hour look-ahead)\n",
    " - Real time problems should represent 1 hour (12 5-minute periods), advancing 1 hour after each execution (no look-ahead)"
   ],
   "metadata": {}
  },
  {
   "outputs": [
    {
     "output_type": "execute_result",
     "data": {
      "text/plain": "Dict{String,Tuple{Hour,Consecutive}} with 2 entries:\n  \"ED\" => (1 hour, Consecutive())\n  \"UC\" => (24 hours, Consecutive())"
     },
     "metadata": {},
     "execution_count": 10
    }
   ],
   "cell_type": "code",
   "source": [
    "order = Dict(1 => \"UC\", 2 => \"ED\")\n",
    "horizons = Dict(\"UC\" => 24, \"ED\" => 12)\n",
    "intervals = Dict(\"UC\" => (Hour(24), Consecutive()), \"ED\" => (Hour(1), Consecutive()))"
   ],
   "metadata": {},
   "execution_count": 10
  },
  {
   "cell_type": "markdown",
   "source": [
    "Finally, we can put it all together:"
   ],
   "metadata": {}
  },
  {
   "outputs": [
    {
     "output_type": "execute_result",
     "data": {
      "text/plain": "Feed Forward Chronology\n-----------------------\n\nED: SemiContinuousFF -> Generators\n\n                     UC--┐ from : On\n                         |\n┌----┬----┬----┬----┬----┼----┬----┬----┬----┬----┬----┐\n|    |    |    |    |    |    |    |    |    |    |    |\n|    |    |    |    |    |    |    |    |    |    |    |\n└─ED └─ED └─ED └─ED └─ED └─ED └─ED └─ED └─ED └─ED └─ED └─ED ... (x24) to : [\"P\"]\n\nInitial Condition Chronology\n----------------------------\n\n1\n|\n|\n2 --> 2 ... (x24)   \n"
     },
     "metadata": {},
     "execution_count": 11
    }
   ],
   "cell_type": "code",
   "source": [
    "DA_RT_sequence = SimulationSequence(\n",
    "    step_resolution = Hour(24),\n",
    "    order = order,\n",
    "    horizons = horizons,\n",
    "    intervals = intervals,\n",
    "    ini_cond_chronology = InterStageChronology(),\n",
    "    feedforward_chronologies = feedforward_chronologies,\n",
    "    feedforward = feedforward,\n",
    "    cache = cache,\n",
    ")"
   ],
   "metadata": {},
   "execution_count": 11
  },
  {
   "cell_type": "markdown",
   "source": [
    "## `Simulation`\n",
    "Now, we can build and execute a simulation using the `SimulationSequence` and `Stage`s\n",
    "that we've defined."
   ],
   "metadata": {}
  },
  {
   "outputs": [
    {
     "output_type": "execute_result",
     "data": {
      "text/plain": "Simulation()\n"
     },
     "metadata": {},
     "execution_count": 12
    }
   ],
   "cell_type": "code",
   "source": [
    "sim = Simulation(\n",
    "    name = \"rts-test\",\n",
    "    steps = 1,\n",
    "    stages = stages_definition,\n",
    "    stages_sequence = DA_RT_sequence,\n",
    "    simulation_folder = rts_dir,\n",
    ")"
   ],
   "metadata": {},
   "execution_count": 12
  },
  {
   "cell_type": "markdown",
   "source": [
    "### Build simulation"
   ],
   "metadata": {}
  },
  {
   "outputs": [],
   "cell_type": "code",
   "source": [
    "build!(sim)"
   ],
   "metadata": {},
   "execution_count": 13
  },
  {
   "cell_type": "markdown",
   "source": [
    "### Execute simulation"
   ],
   "metadata": {}
  },
  {
   "outputs": [
    {
     "name": "stdout",
     "output_type": "stream",
     "text": [
      "Executing Step 1\n",
      "Welcome to the CBC MILP Solver \n",
      "Version: 2.10.3 \n",
      "Build Date: May 23 2020 \n",
      "\n",
      "command line - Cbc_C_Interface -ratioGap 0.5 -logLevel 1 -solve -quit (default strategy 1)\n",
      "ratioGap was changed from 0 to 0.5\n",
      "Presolve 168 (-3144) rows, 675 (-4341) columns and 831 (-7485) elements\n",
      "Perturbing problem by 0.001% of 301.0328 - largest nonzero change 3.3710648e-05 ( 1.327102e-05%) - largest zero change 3.3659151e-05\n",
      "0  Obj 1592.364 Primal inf 192.62223 (168)\n",
      "78  Obj 13862.653 Primal inf 152.28411 (122)\n",
      "156  Obj 28185.725 Primal inf 47.676089 (65)\n",
      "231  Obj 33016.646\n",
      "Optimal - objective value 33016.639\n",
      "After Postsolve, objective 33016.639, infeasibilities - dual 52844.658 (287), primal 0 (0)\n",
      "Presolved model was optimal, full model needs cleaning up\n",
      "0  Obj 33016.639\n",
      "Optimal - objective value 33016.639\n",
      "Optimal objective 33016.63866 - 231 iterations time 0.012, Presolve 0.00\n",
      "Total time (CPU seconds):       0.01   (Wallclock seconds):       0.01\n",
      "\n",
      "Welcome to the CBC MILP Solver \n",
      "Version: 2.10.3 \n",
      "Build Date: May 23 2020 \n",
      "\n",
      "command line - Cbc_C_Interface -ratioGap 0.5 -logLevel 1 -solve -quit (default strategy 1)\n",
      "ratioGap was changed from 0 to 0.5\n",
      "Continuous objective value is 1.10008e+06 - 0.37 seconds\n",
      "Cgl0003I 46 fixed, 0 tightened bounds, 1150 strengthened rows, 0 substitutions\n",
      "Cgl0003I 0 fixed, 0 tightened bounds, 60 strengthened rows, 0 substitutions\n",
      "Cgl0003I 0 fixed, 0 tightened bounds, 1104 strengthened rows, 0 substitutions\n",
      "Cgl0003I 0 fixed, 0 tightened bounds, 1039 strengthened rows, 0 substitutions\n",
      "Cgl0003I 0 fixed, 0 tightened bounds, 936 strengthened rows, 0 substitutions\n",
      "Cgl0003I 0 fixed, 0 tightened bounds, 449 strengthened rows, 0 substitutions\n",
      "Cgl0003I 0 fixed, 0 tightened bounds, 423 strengthened rows, 0 substitutions\n",
      "Cgl0003I 0 fixed, 0 tightened bounds, 391 strengthened rows, 0 substitutions\n",
      "Cgl0003I 0 fixed, 0 tightened bounds, 382 strengthened rows, 0 substitutions\n",
      "Cgl0003I 0 fixed, 0 tightened bounds, 345 strengthened rows, 0 substitutions\n",
      "Cgl0004I processed model has 11358 rows, 23531 columns (5083 integer (5083 of which binary)) and 64294 elements\n",
      "Cbc0045I Trying just fixing integer variables (and fixingish SOS).\n",
      "Cbc0045I MIPStart solution provided values for 6456 of 5083 integer variables, 121 variables are still fractional.\n",
      "Cbc0038I Full problem 11358 rows 23531 columns, reduced to 11353 rows 23531 columns\n",
      "Cbc0038I Probing was tried 0 times and created 0 cuts of which 0 were active after adding rounds of cuts (0.000 seconds)\n",
      "Cbc0045I Mini branch and bound defined values for remaining variables in 7.69 seconds.\n",
      "Cbc0045I MIPStart provided solution with cost 1.12941e+06\n",
      "Cbc0012I Integer solution of 1129412 found by Reduced search after 0 iterations and 0 nodes (11.40 seconds)\n",
      "Cbc0038I Full problem 11358 rows 23531 columns, reduced to 1892 rows 5918 columns\n",
      "Cbc0011I Exiting as integer gap of 29330.525 less than 1e-10 or 50%\n",
      "Cbc0001I Search completed - best objective 1129412.014734538, took 0 iterations and 0 nodes (11.90 seconds)\n",
      "Cbc0035I Maximum depth 0, 0 variables fixed on reduced cost\n",
      "Cuts at root node changed objective from 1.10008e+06 to 1.10008e+06\n",
      "Probing was tried 0 times and created 0 cuts of which 0 were active after adding rounds of cuts (0.000 seconds)\n",
      "Gomory was tried 0 times and created 0 cuts of which 0 were active after adding rounds of cuts (0.000 seconds)\n",
      "Knapsack was tried 0 times and created 0 cuts of which 0 were active after adding rounds of cuts (0.000 seconds)\n",
      "Clique was tried 0 times and created 0 cuts of which 0 were active after adding rounds of cuts (0.000 seconds)\n",
      "MixedIntegerRounding2 was tried 0 times and created 0 cuts of which 0 were active after adding rounds of cuts (0.000 seconds)\n",
      "FlowCover was tried 0 times and created 0 cuts of which 0 were active after adding rounds of cuts (0.000 seconds)\n",
      "TwoMirCuts was tried 0 times and created 0 cuts of which 0 were active after adding rounds of cuts (0.000 seconds)\n",
      "ZeroHalf was tried 0 times and created 0 cuts of which 0 were active after adding rounds of cuts (0.000 seconds)\n",
      "\n",
      "Result - Optimal solution found (within gap tolerance)\n",
      "\n",
      "Objective value:                1129412.01473454\n",
      "Lower bound:                    1100081.490\n",
      "Gap:                            0.03\n",
      "Enumerated nodes:               0\n",
      "Total iterations:               0\n",
      "Time (CPU seconds):             12.30\n",
      "Time (Wallclock seconds):       13.46\n",
      "\n",
      "Total time (CPU seconds):       12.30   (Wallclock seconds):       13.46\n",
      "\n",
      "Welcome to the CBC MILP Solver \n",
      "Version: 2.10.3 \n",
      "Build Date: May 23 2020 \n",
      "\n",
      "command line - Cbc_C_Interface -ratioGap 0.5 -logLevel 1 -solve -quit (default strategy 1)\n",
      "ratioGap was changed from 0 to 0.5\n",
      "Presolve 192 (-3120) rows, 636 (-4380) columns and 636 (-7680) elements\n",
      "Perturbing problem by 0.001% of 275.29435 - largest nonzero change 3.0098984e-05 ( 1.3026813e-05%) - largest zero change 0\n",
      "0  Obj 0 Primal inf 110.87981 (192)\n",
      "78  Obj 10875.647 Primal inf 43.799886 (114)\n",
      "156  Obj 16210.652 Primal inf 10.799964 (36)\n",
      "192  Obj 17841.109\n",
      "Optimal - objective value 17841.107\n",
      "After Postsolve, objective 17841.107, infeasibilities - dual 30584.785 (192), primal 0 (0)\n",
      "Presolved model was optimal, full model needs cleaning up\n",
      "0  Obj 17841.107\n",
      "Optimal - objective value 17841.107\n",
      "Optimal objective 17841.10739 - 192 iterations time 0.012, Presolve 0.00\n",
      "Total time (CPU seconds):       0.01   (Wallclock seconds):       0.01\n",
      "\n",
      "Welcome to the CBC MILP Solver \n",
      "Version: 2.10.3 \n",
      "Build Date: May 23 2020 \n",
      "\n",
      "command line - Cbc_C_Interface -ratioGap 0.5 -logLevel 1 -solve -quit (default strategy 1)\n",
      "ratioGap was changed from 0 to 0.5\n",
      "Presolve 192 (-3120) rows, 636 (-4380) columns and 636 (-7680) elements\n",
      "Perturbing problem by 0.001% of 275.29435 - largest nonzero change 3.0098984e-05 ( 1.3026813e-05%) - largest zero change 0\n",
      "0  Obj 0 Primal inf 110.87981 (192)\n",
      "78  Obj 10875.647 Primal inf 43.799886 (114)\n",
      "156  Obj 16210.652 Primal inf 10.799964 (36)\n",
      "192  Obj 17841.109\n",
      "Optimal - objective value 17841.107\n",
      "After Postsolve, objective 17841.107, infeasibilities - dual 30584.785 (192), primal 0 (0)\n",
      "Presolved model was optimal, full model needs cleaning up\n",
      "0  Obj 17841.107\n",
      "Optimal - objective value 17841.107\n",
      "Optimal objective 17841.10739 - 192 iterations time 0.002, Presolve 0.00\n",
      "Total time (CPU seconds):       0.00   (Wallclock seconds):       0.01\n",
      "\n",
      "Welcome to the CBC MILP Solver \n",
      "Version: 2.10.3 \n",
      "Build Date: May 23 2020 \n",
      "\n",
      "command line - Cbc_C_Interface -ratioGap 0.5 -logLevel 1 -solve -quit (default strategy 1)\n",
      "ratioGap was changed from 0 to 0.5\n",
      "Presolve 192 (-3120) rows, 636 (-4380) columns and 636 (-7680) elements\n",
      "Perturbing problem by 0.001% of 275.29435 - largest nonzero change 3.0098984e-05 ( 1.3026813e-05%) - largest zero change 0\n",
      "0  Obj 0 Primal inf 110.87981 (192)\n",
      "78  Obj 10875.647 Primal inf 43.799886 (114)\n",
      "156  Obj 16210.652 Primal inf 10.799964 (36)\n",
      "192  Obj 17841.109\n",
      "Optimal - objective value 17841.107\n",
      "After Postsolve, objective 17841.107, infeasibilities - dual 30584.785 (192), primal 0 (0)\n",
      "Presolved model was optimal, full model needs cleaning up\n",
      "0  Obj 17841.107\n",
      "Optimal - objective value 17841.107\n",
      "Optimal objective 17841.10739 - 192 iterations time 0.002, Presolve 0.00\n",
      "Total time (CPU seconds):       0.00   (Wallclock seconds):       0.01\n",
      "\n",
      "Welcome to the CBC MILP Solver \n",
      "Version: 2.10.3 \n",
      "Build Date: May 23 2020 \n",
      "\n",
      "command line - Cbc_C_Interface -ratioGap 0.5 -logLevel 1 -solve -quit (default strategy 1)\n",
      "ratioGap was changed from 0 to 0.5\n",
      "Presolve 204 (-3108) rows, 684 (-4332) columns and 684 (-7632) elements\n",
      "Perturbing problem by 0.001% of 878.06035 - largest nonzero change 9.6545711e-05 ( 1.8067022e-05%) - largest zero change 0\n",
      "0  Obj 0 Primal inf 111.8398 (204)\n",
      "79  Obj 11002.663 Primal inf 44.139875 (125)\n",
      "158  Obj 16326.916 Primal inf 11.159954 (46)\n",
      "204  Obj 18539.156\n",
      "Optimal - objective value 18539.154\n",
      "After Postsolve, objective 18539.154, infeasibilities - dual 39310.364 (204), primal 0 (0)\n",
      "Presolved model was optimal, full model needs cleaning up\n",
      "0  Obj 18539.154\n",
      "Optimal - objective value 18539.154\n",
      "Optimal objective 18539.15372 - 204 iterations time 0.002, Presolve 0.00\n",
      "Total time (CPU seconds):       0.00   (Wallclock seconds):       0.01\n",
      "\n",
      "Welcome to the CBC MILP Solver \n",
      "Version: 2.10.3 \n",
      "Build Date: May 23 2020 \n",
      "\n",
      "command line - Cbc_C_Interface -ratioGap 0.5 -logLevel 1 -solve -quit (default strategy 1)\n",
      "ratioGap was changed from 0 to 0.5\n",
      "Presolve 204 (-3108) rows, 684 (-4332) columns and 684 (-7632) elements\n",
      "Perturbing problem by 0.001% of 878.06035 - largest nonzero change 9.6545711e-05 ( 1.8067022e-05%) - largest zero change 0\n",
      "0  Obj 0 Primal inf 111.8398 (204)\n",
      "79  Obj 11002.663 Primal inf 44.139875 (125)\n",
      "158  Obj 16326.916 Primal inf 11.159954 (46)\n",
      "204  Obj 18539.156\n",
      "Optimal - objective value 18539.154\n",
      "After Postsolve, objective 18539.154, infeasibilities - dual 39310.364 (204), primal 0 (0)\n",
      "Presolved model was optimal, full model needs cleaning up\n",
      "0  Obj 18539.154\n",
      "Optimal - objective value 18539.154\n",
      "Optimal objective 18539.15372 - 204 iterations time 0.012, Presolve 0.00\n",
      "Total time (CPU seconds):       0.01   (Wallclock seconds):       0.01\n",
      "\n",
      "Welcome to the CBC MILP Solver \n",
      "Version: 2.10.3 \n",
      "Build Date: May 23 2020 \n",
      "\n",
      "command line - Cbc_C_Interface -ratioGap 0.5 -logLevel 1 -solve -quit (default strategy 1)\n",
      "ratioGap was changed from 0 to 0.5\n",
      "Presolve 204 (-3108) rows, 684 (-4332) columns and 684 (-7632) elements\n",
      "Perturbing problem by 0.001% of 878.06035 - largest nonzero change 9.6545711e-05 ( 1.8067022e-05%) - largest zero change 0\n",
      "0  Obj 0 Primal inf 111.8398 (204)\n",
      "79  Obj 11002.663 Primal inf 44.139875 (125)\n",
      "158  Obj 16326.916 Primal inf 11.159954 (46)\n",
      "204  Obj 18539.156\n",
      "Optimal - objective value 18539.154\n",
      "After Postsolve, objective 18539.154, infeasibilities - dual 39310.364 (204), primal 0 (0)\n",
      "Presolved model was optimal, full model needs cleaning up\n",
      "0  Obj 18539.154\n",
      "Optimal - objective value 18539.154\n",
      "Optimal objective 18539.15372 - 204 iterations time 0.012, Presolve 0.00\n",
      "Total time (CPU seconds):       0.01   (Wallclock seconds):       0.01\n",
      "\n",
      "Welcome to the CBC MILP Solver \n",
      "Version: 2.10.3 \n",
      "Build Date: May 23 2020 \n",
      "\n",
      "command line - Cbc_C_Interface -ratioGap 0.5 -logLevel 1 -solve -quit (default strategy 1)\n",
      "ratioGap was changed from 0 to 0.5\n",
      "Presolve 216 (-3096) rows, 732 (-4284) columns and 732 (-7584) elements\n",
      "Perturbing problem by 0.001% of 878.06035 - largest nonzero change 9.6545711e-05 ( 1.8067022e-05%) - largest zero change 0\n",
      "0  Obj 0 Primal inf 114.47978 (216)\n",
      "79  Obj 10987.481 Primal inf 46.779863 (137)\n",
      "158  Obj 16416.069 Primal inf 13.799942 (58)\n",
      "216  Obj 19052.526\n",
      "Optimal - objective value 19052.523\n",
      "After Postsolve, objective 19052.523, infeasibilities - dual 41643.862 (216), primal 0 (0)\n",
      "Presolved model was optimal, full model needs cleaning up\n",
      "0  Obj 19052.523\n",
      "Optimal - objective value 19052.523\n",
      "Optimal objective 19052.52332 - 216 iterations time 0.012, Presolve 0.00\n",
      "Total time (CPU seconds):       0.01   (Wallclock seconds):       0.01\n",
      "\n",
      "Welcome to the CBC MILP Solver \n",
      "Version: 2.10.3 \n",
      "Build Date: May 23 2020 \n",
      "\n",
      "command line - Cbc_C_Interface -ratioGap 0.5 -logLevel 1 -solve -quit (default strategy 1)\n",
      "ratioGap was changed from 0 to 0.5\n",
      "Presolve 192 (-3120) rows, 636 (-4380) columns and 636 (-7680) elements\n",
      "Perturbing problem by 0.001% of 275.29435 - largest nonzero change 3.0098984e-05 ( 1.3026813e-05%) - largest zero change 0\n",
      "0  Obj 0 Primal inf 110.87981 (192)\n",
      "78  Obj 10875.647 Primal inf 43.799886 (114)\n",
      "156  Obj 16210.652 Primal inf 10.799964 (36)\n",
      "192  Obj 17841.109\n",
      "Optimal - objective value 17841.107\n",
      "After Postsolve, objective 17841.107, infeasibilities - dual 30584.785 (192), primal 0 (0)\n",
      "Presolved model was optimal, full model needs cleaning up\n",
      "0  Obj 17841.107\n",
      "Optimal - objective value 17841.107\n",
      "Optimal objective 17841.10739 - 192 iterations time 0.012, Presolve 0.00\n",
      "Total time (CPU seconds):       0.01   (Wallclock seconds):       0.01\n",
      "\n",
      "Welcome to the CBC MILP Solver \n",
      "Version: 2.10.3 \n",
      "Build Date: May 23 2020 \n",
      "\n",
      "command line - Cbc_C_Interface -ratioGap 0.5 -logLevel 1 -solve -quit (default strategy 1)\n",
      "ratioGap was changed from 0 to 0.5\n",
      "Presolve 192 (-3120) rows, 636 (-4380) columns and 636 (-7680) elements\n",
      "Perturbing problem by 0.001% of 275.29435 - largest nonzero change 3.0098984e-05 ( 1.3026813e-05%) - largest zero change 0\n",
      "0  Obj 0 Primal inf 110.87981 (192)\n",
      "78  Obj 10875.647 Primal inf 43.799886 (114)\n",
      "156  Obj 16210.652 Primal inf 10.799964 (36)\n",
      "192  Obj 17841.109\n",
      "Optimal - objective value 17841.107\n",
      "After Postsolve, objective 17841.107, infeasibilities - dual 30584.785 (192), primal 0 (0)\n",
      "Presolved model was optimal, full model needs cleaning up\n",
      "0  Obj 17841.107\n",
      "Optimal - objective value 17841.107\n",
      "Optimal objective 17841.10739 - 192 iterations time 0.012, Presolve 0.00\n",
      "Total time (CPU seconds):       0.01   (Wallclock seconds):       0.01\n",
      "\n",
      "Welcome to the CBC MILP Solver \n",
      "Version: 2.10.3 \n",
      "Build Date: May 23 2020 \n",
      "\n",
      "command line - Cbc_C_Interface -ratioGap 0.5 -logLevel 1 -solve -quit (default strategy 1)\n",
      "ratioGap was changed from 0 to 0.5\n",
      "Presolve 192 (-3120) rows, 638 (-4378) columns and 638 (-7678) elements\n",
      "Perturbing problem by 0.001% of 275.29435 - largest nonzero change 3.0098984e-05 ( 1.3026813e-05%) - largest zero change 0\n",
      "0  Obj 0 Primal inf 110.87981 (192)\n",
      "78  Obj 10872.283 Primal inf 43.799886 (114)\n",
      "156  Obj 16214.7 Primal inf 10.799964 (36)\n",
      "192  Obj 17841.109\n",
      "Optimal - objective value 17841.107\n",
      "After Postsolve, objective 17841.107, infeasibilities - dual 30584.785 (192), primal 0 (0)\n",
      "Presolved model was optimal, full model needs cleaning up\n",
      "0  Obj 17841.107\n",
      "Optimal - objective value 17841.107\n",
      "Optimal objective 17841.10739 - 192 iterations time 0.012, Presolve 0.00\n",
      "Total time (CPU seconds):       0.01   (Wallclock seconds):       0.01\n",
      "\n",
      "Welcome to the CBC MILP Solver \n",
      "Version: 2.10.3 \n",
      "Build Date: May 23 2020 \n",
      "\n",
      "command line - Cbc_C_Interface -ratioGap 0.5 -logLevel 1 -solve -quit (default strategy 1)\n",
      "ratioGap was changed from 0 to 0.5\n",
      "Presolve 192 (-3120) rows, 638 (-4378) columns and 638 (-7678) elements\n",
      "Perturbing problem by 0.001% of 275.29435 - largest nonzero change 3.0098984e-05 ( 1.3026813e-05%) - largest zero change 0\n",
      "0  Obj 0 Primal inf 110.87981 (192)\n",
      "78  Obj 10872.283 Primal inf 43.799886 (114)\n",
      "156  Obj 16214.7 Primal inf 10.799964 (36)\n",
      "192  Obj 17841.109\n",
      "Optimal - objective value 17841.107\n",
      "After Postsolve, objective 17841.107, infeasibilities - dual 30584.785 (192), primal 0 (0)\n",
      "Presolved model was optimal, full model needs cleaning up\n",
      "0  Obj 17841.107\n",
      "Optimal - objective value 17841.107\n",
      "Optimal objective 17841.10739 - 192 iterations time 0.012, Presolve 0.01\n",
      "Total time (CPU seconds):       0.01   (Wallclock seconds):       0.01\n",
      "\n",
      "Welcome to the CBC MILP Solver \n",
      "Version: 2.10.3 \n",
      "Build Date: May 23 2020 \n",
      "\n",
      "command line - Cbc_C_Interface -ratioGap 0.5 -logLevel 1 -solve -quit (default strategy 1)\n",
      "ratioGap was changed from 0 to 0.5\n",
      "Presolve 196 (-3116) rows, 700 (-4316) columns and 764 (-7552) elements\n",
      "Perturbing problem by 0.001% of 275.29435 - largest nonzero change 3.0472167e-05 ( 1.281457e-05%) - largest zero change 3.021794e-05\n",
      "0  Obj 0.00075914205 Primal inf 113.38951 (196)\n",
      "78  Obj 10425.626 Primal inf 51.252916 (124)\n",
      "156  Obj 16011.97 Primal inf 16.141604 (55)\n",
      "216  Obj 18175.415\n",
      "Optimal - objective value 18175.413\n",
      "After Postsolve, objective 18175.413, infeasibilities - dual 48029.641 (327), primal 0 (0)\n",
      "Presolved model was optimal, full model needs cleaning up\n",
      "0  Obj 18175.413\n",
      "Optimal - objective value 18175.413\n",
      "Optimal objective 18175.41289 - 216 iterations time 0.012, Presolve 0.00\n",
      "Total time (CPU seconds):       0.01   (Wallclock seconds):       0.01\n",
      "\n",
      "Welcome to the CBC MILP Solver \n",
      "Version: 2.10.3 \n",
      "Build Date: May 23 2020 \n",
      "\n",
      "command line - Cbc_C_Interface -ratioGap 0.5 -logLevel 1 -solve -quit (default strategy 1)\n",
      "ratioGap was changed from 0 to 0.5\n",
      "Presolve 204 (-3108) rows, 829 (-4187) columns and 1021 (-7295) elements\n",
      "Perturbing problem by 0.001% of 275.29435 - largest nonzero change 2.9037194e-05 ( 1.3119877e-05%) - largest zero change 2.8824184e-05\n",
      "0  Obj 0.002209309 Primal inf 148.89889 (204)\n",
      "79  Obj 5242.8674 Primal inf 159.08021 (174)\n",
      "158  Obj 16111.384 Primal inf 84.280416 (117)\n",
      "237  Obj 23435.254 Primal inf 37.608567 (58)\n",
      "294  Obj 23614.699\n",
      "Optimal - objective value 23614.694\n",
      "After Postsolve, objective 23614.694, infeasibilities - dual 94964.606 (588), primal 0 (0)\n",
      "Presolved model was optimal, full model needs cleaning up\n",
      "0  Obj 23614.694\n",
      "Optimal - objective value 23614.694\n",
      "Optimal objective 23614.69371 - 294 iterations time 0.012, Presolve 0.00\n",
      "Total time (CPU seconds):       0.01   (Wallclock seconds):       0.01\n",
      "\n",
      "Welcome to the CBC MILP Solver \n",
      "Version: 2.10.3 \n",
      "Build Date: May 23 2020 \n",
      "\n",
      "command line - Cbc_C_Interface -ratioGap 0.5 -logLevel 1 -solve -quit (default strategy 1)\n",
      "ratioGap was changed from 0 to 0.5\n",
      "Presolve 204 (-3108) rows, 829 (-4187) columns and 1021 (-7295) elements\n",
      "Perturbing problem by 0.001% of 275.29435 - largest nonzero change 2.9037194e-05 ( 1.3119877e-05%) - largest zero change 2.8824184e-05\n",
      "0  Obj 0.002209309 Primal inf 173.04949 (204)\n",
      "79  Obj 5621.7867 Primal inf 167.10304 (170)\n",
      "158  Obj 20117.39 Primal inf 111.35966 (124)\n",
      "237  Obj 27416.753 Primal inf 48.70588 (59)\n",
      "308  Obj 27618.977\n",
      "Optimal - objective value 27618.971\n",
      "After Postsolve, objective 27618.971, infeasibilities - dual 100407.16 (588), primal 0 (0)\n",
      "Presolved model was optimal, full model needs cleaning up\n",
      "0  Obj 27618.971\n",
      "Optimal - objective value 27618.971\n",
      "Optimal objective 27618.9706 - 308 iterations time 0.012, Presolve 0.00\n",
      "Total time (CPU seconds):       0.01   (Wallclock seconds):       0.01\n",
      "\n",
      "Welcome to the CBC MILP Solver \n",
      "Version: 2.10.3 \n",
      "Build Date: May 23 2020 \n",
      "\n",
      "command line - Cbc_C_Interface -ratioGap 0.5 -logLevel 1 -solve -quit (default strategy 1)\n",
      "ratioGap was changed from 0 to 0.5\n",
      "Presolve 204 (-3108) rows, 829 (-4187) columns and 1021 (-7295) elements\n",
      "Perturbing problem by 0.001% of 275.29435 - largest nonzero change 2.9037194e-05 ( 1.3119877e-05%) - largest zero change 2.8824184e-05\n",
      "0  Obj 0.002209309 Primal inf 180.96334 (204)\n",
      "79  Obj 6939.0209 Primal inf 177.19732 (174)\n",
      "158  Obj 20508.728 Primal inf 107.759 (125)\n",
      "237  Obj 27825.869 Primal inf 45.769091 (59)\n",
      "310  Obj 28964.937\n",
      "Optimal - objective value 28964.931\n",
      "After Postsolve, objective 28964.931, infeasibilities - dual 101779.67 (588), primal 0 (0)\n",
      "Presolved model was optimal, full model needs cleaning up\n",
      "0  Obj 28964.931\n",
      "Optimal - objective value 28964.931\n",
      "Optimal objective 28964.93115 - 310 iterations time 0.012, Presolve 0.00\n",
      "Total time (CPU seconds):       0.01   (Wallclock seconds):       0.01\n",
      "\n",
      "Welcome to the CBC MILP Solver \n",
      "Version: 2.10.3 \n",
      "Build Date: May 23 2020 \n",
      "\n",
      "command line - Cbc_C_Interface -ratioGap 0.5 -logLevel 1 -solve -quit (default strategy 1)\n",
      "ratioGap was changed from 0 to 0.5\n",
      "Presolve 216 (-3096) rows, 889 (-4127) columns and 1093 (-7223) elements\n",
      "Perturbing problem by 0.001% of 281.27276 - largest nonzero change 3.1599309e-05 ( 1.3201928e-05%) - largest zero change 3.1319946e-05\n",
      "0  Obj 0.0028877085 Primal inf 210.3922 (216)\n",
      "79  Obj 7848.9831 Primal inf 185.53347 (185)\n",
      "158  Obj 22854.158 Primal inf 125.03473 (135)\n",
      "237  Obj 29474.89 Primal inf 54.779362 (79)\n",
      "316  Obj 32948.324 Primal inf 9.5217261 (22)\n",
      "338  Obj 32979.04\n",
      "Optimal - objective value 32979.033\n",
      "After Postsolve, objective 32979.033, infeasibilities - dual 101907.42 (588), primal 0 (0)\n",
      "Presolved model was optimal, full model needs cleaning up\n",
      "0  Obj 32979.033\n",
      "Optimal - objective value 32979.033\n",
      "Optimal objective 32979.03263 - 338 iterations time 0.012, Presolve 0.00\n",
      "Total time (CPU seconds):       0.01   (Wallclock seconds):       0.01\n",
      "\n",
      "Welcome to the CBC MILP Solver \n",
      "Version: 2.10.3 \n",
      "Build Date: May 23 2020 \n",
      "\n",
      "command line - Cbc_C_Interface -ratioGap 0.5 -logLevel 1 -solve -quit (default strategy 1)\n",
      "ratioGap was changed from 0 to 0.5\n",
      "Presolve 252 (-3060) rows, 1045 (-3971) columns and 1285 (-7031) elements\n",
      "Perturbing problem by 0.001% of 301.0328 - largest nonzero change 3.2084216e-05 ( 1.3320872e-05%) - largest zero change 3.2051146e-05\n",
      "0  Obj 1661.3504 Primal inf 287.21349 (252)\n",
      "80  Obj 12424.292 Primal inf 284.86613 (217)\n",
      "160  Obj 28747.567 Primal inf 179.66845 (166)\n",
      "240  Obj 40464.754 Primal inf 97.81918 (112)\n",
      "320  Obj 48530.683 Primal inf 32.559629 (52)\n",
      "387  Obj 48922.875\n",
      "Optimal - objective value 48922.864\n",
      "After Postsolve, objective 48922.864, infeasibilities - dual 69172.642 (385), primal 0 (0)\n",
      "Presolved model was optimal, full model needs cleaning up\n",
      "0  Obj 48922.864\n",
      "Optimal - objective value 48922.864\n",
      "Optimal objective 48922.86384 - 387 iterations time 0.012, Presolve 0.00\n",
      "Total time (CPU seconds):       0.01   (Wallclock seconds):       0.01\n",
      "\n",
      "Welcome to the CBC MILP Solver \n",
      "Version: 2.10.3 \n",
      "Build Date: May 23 2020 \n",
      "\n",
      "command line - Cbc_C_Interface -ratioGap 0.5 -logLevel 1 -solve -quit (default strategy 1)\n",
      "ratioGap was changed from 0 to 0.5\n",
      "Presolve 288 (-3024) rows, 1226 (-3790) columns and 1502 (-6814) elements\n",
      "Perturbing problem by 0.001% of 892.80824 - largest nonzero change 9.7894666e-05 ( 1.8378076e-05%) - largest zero change 9.7330404e-05\n",
      "0  Obj 1661.3599 Primal inf 338.52802 (288)\n",
      "80  Obj 18223.642 Primal inf 289.73733 (242)\n",
      "160  Obj 36479.676 Primal inf 189.89369 (192)\n",
      "240  Obj 48547.496 Primal inf 80.003178 (134)\n",
      "320  Obj 56274.328 Primal inf 35.004619 (62)\n",
      "400  Obj 59758.164 Primal inf 0.17346254 (2)\n",
      "403  Obj 59758.342\n",
      "Optimal - objective value 59758.31\n",
      "After Postsolve, objective 59758.31, infeasibilities - dual 55688.826 (288), primal 0 (0)\n",
      "Presolved model was optimal, full model needs cleaning up\n",
      "0  Obj 59758.31\n",
      "Optimal - objective value 59758.31\n",
      "Optimal objective 59758.31 - 403 iterations time 0.012, Presolve 0.00\n",
      "Total time (CPU seconds):       0.01   (Wallclock seconds):       0.01\n",
      "\n",
      "Welcome to the CBC MILP Solver \n",
      "Version: 2.10.3 \n",
      "Build Date: May 23 2020 \n",
      "\n",
      "command line - Cbc_C_Interface -ratioGap 0.5 -logLevel 1 -solve -quit (default strategy 1)\n",
      "ratioGap was changed from 0 to 0.5\n",
      "Presolve 276 (-3036) rows, 1166 (-3850) columns and 1430 (-6886) elements\n",
      "Perturbing problem by 0.001% of 892.80824 - largest nonzero change 9.7894666e-05 ( 1.8230161e-05%) - largest zero change 9.7330404e-05\n",
      "0  Obj 1661.3596 Primal inf 334.73419 (276)\n",
      "80  Obj 15631.351 Primal inf 290.57251 (234)\n",
      "160  Obj 34516.71 Primal inf 191.07163 (197)\n",
      "240  Obj 47317.552 Primal inf 89.028646 (136)\n",
      "320  Obj 56648.428 Primal inf 36.562407 (63)\n",
      "397  Obj 58933.99\n",
      "Optimal - objective value 58933.959\n",
      "After Postsolve, objective 58933.959, infeasibilities - dual 55462.313 (288), primal 0 (0)\n",
      "Presolved model was optimal, full model needs cleaning up\n",
      "0  Obj 58933.959\n",
      "Optimal - objective value 58933.959\n",
      "Optimal objective 58933.95933 - 397 iterations time 0.012, Presolve 0.00\n",
      "Total time (CPU seconds):       0.01   (Wallclock seconds):       0.01\n",
      "\n",
      "Welcome to the CBC MILP Solver \n",
      "Version: 2.10.3 \n",
      "Build Date: May 23 2020 \n",
      "\n",
      "command line - Cbc_C_Interface -ratioGap 0.5 -logLevel 1 -solve -quit (default strategy 1)\n",
      "ratioGap was changed from 0 to 0.5\n",
      "Presolve 276 (-3036) rows, 1166 (-3850) columns and 1430 (-6886) elements\n",
      "Perturbing problem by 0.001% of 892.80824 - largest nonzero change 9.7894666e-05 ( 1.8230161e-05%) - largest zero change 9.7330404e-05\n",
      "0  Obj 1661.3596 Primal inf 312.4481 (276)\n",
      "80  Obj 14520.765 Primal inf 281.34677 (230)\n",
      "160  Obj 33472.134 Primal inf 168.53536 (187)\n",
      "240  Obj 44239.96 Primal inf 89.479663 (140)\n",
      "320  Obj 52387.75 Primal inf 40.311344 (79)\n",
      "400  Obj 54676.577 Primal inf 2.6616262 (10)\n",
      "407  Obj 54679.823\n",
      "Optimal - objective value 54679.794\n",
      "After Postsolve, objective 54679.794, infeasibilities - dual 54425.938 (288), primal 0 (0)\n",
      "Presolved model was optimal, full model needs cleaning up\n",
      "0  Obj 54679.794\n",
      "Optimal - objective value 54679.794\n",
      "Optimal objective 54679.79408 - 407 iterations time 0.012, Presolve 0.00\n",
      "Total time (CPU seconds):       0.01   (Wallclock seconds):       0.01\n",
      "\n",
      "Welcome to the CBC MILP Solver \n",
      "Version: 2.10.3 \n",
      "Build Date: May 23 2020 \n",
      "\n",
      "command line - Cbc_C_Interface -ratioGap 0.5 -logLevel 1 -solve -quit (default strategy 1)\n",
      "ratioGap was changed from 0 to 0.5\n",
      "Presolve 240 (-3072) rows, 996 (-4020) columns and 1224 (-7092) elements\n",
      "Perturbing problem by 0.001% of 301.0328 - largest nonzero change 3.2084216e-05 ( 1.3320872e-05%) - largest zero change 3.2051146e-05\n",
      "0  Obj 1661.3504 Primal inf 281.79433 (240)\n",
      "79  Obj 11245.895 Primal inf 297.7156 (209)\n",
      "158  Obj 28297.927 Primal inf 177.62459 (155)\n",
      "237  Obj 40152.703 Primal inf 76.369926 (102)\n",
      "316  Obj 47782.472 Primal inf 22.930344 (33)\n",
      "363  Obj 47890.118\n",
      "Optimal - objective value 47890.107\n",
      "After Postsolve, objective 47890.107, infeasibilities - dual 52123.383 (288), primal 0 (0)\n",
      "Presolved model was optimal, full model needs cleaning up\n",
      "0  Obj 47890.107\n",
      "Optimal - objective value 47890.107\n",
      "Optimal objective 47890.10708 - 363 iterations time 0.012, Presolve 0.00\n",
      "Total time (CPU seconds):       0.01   (Wallclock seconds):       0.01\n",
      "\n",
      "Welcome to the CBC MILP Solver \n",
      "Version: 2.10.3 \n",
      "Build Date: May 23 2020 \n",
      "\n",
      "command line - Cbc_C_Interface -ratioGap 0.5 -logLevel 1 -solve -quit (default strategy 1)\n",
      "ratioGap was changed from 0 to 0.5\n",
      "Presolve 204 (-3108) rows, 828 (-4188) columns and 1020 (-7296) elements\n",
      "Perturbing problem by 0.001% of 301.0328 - largest nonzero change 3.3709772e-05 ( 1.3330186e-05%) - largest zero change 3.3659151e-05\n",
      "0  Obj 1661.3497 Primal inf 245.6802 (204)\n",
      "79  Obj 15241.939 Primal inf 217.91241 (162)\n",
      "158  Obj 33743.527 Primal inf 98.435851 (101)\n",
      "237  Obj 41678.116 Primal inf 11.233615 (25)\n",
      "262  Obj 42270.769\n",
      "Optimal - objective value 42270.759\n",
      "After Postsolve, objective 42270.759, infeasibilities - dual 54222.136 (288), primal 0 (0)\n",
      "Presolved model was optimal, full model needs cleaning up\n",
      "0  Obj 42270.759\n",
      "Optimal - objective value 42270.759\n",
      "Optimal objective 42270.75913 - 262 iterations time 0.012, Presolve 0.00\n",
      "Total time (CPU seconds):       0.01   (Wallclock seconds):       0.01\n",
      "\n",
      "Welcome to the CBC MILP Solver \n",
      "Version: 2.10.3 \n",
      "Build Date: May 23 2020 \n",
      "\n",
      "command line - Cbc_C_Interface -ratioGap 0.5 -logLevel 1 -solve -quit (default strategy 1)\n",
      "ratioGap was changed from 0 to 0.5\n",
      "Presolve 168 (-3144) rows, 672 (-4344) columns and 828 (-7488) elements\n",
      "Perturbing problem by 0.001% of 301.0328 - largest nonzero change 3.3710648e-05 ( 1.327102e-05%) - largest zero change 3.3659151e-05\n",
      "0  Obj 1661.3492 Primal inf 231.96626 (168)\n",
      "78  Obj 22756.637 Primal inf 137.56822 (117)\n",
      "156  Obj 36129.836 Primal inf 50.612638 (63)\n",
      "218  Obj 40819.091\n",
      "Optimal - objective value 40819.082\n",
      "After Postsolve, objective 40819.082, infeasibilities - dual 61551.695 (288), primal 0 (0)\n",
      "Presolved model was optimal, full model needs cleaning up\n",
      "0  Obj 40819.082\n",
      "Optimal - objective value 40819.082\n",
      "Optimal objective 40819.08182 - 218 iterations time 0.012, Presolve 0.00\n",
      "Total time (CPU seconds):       0.01   (Wallclock seconds):       0.01\n",
      "\n"
     ]
    },
    {
     "output_type": "execute_result",
     "data": {
      "text/plain": "Simulation Results Reference\n\nResults Folder: /Users/cbarrows/Documents/repos/SIIPExamples.jl/RTS-GMLC-master/rts-test/27/results\n\nReference Tables\n\nstage-UC\n\nP__ThermalStandard: dataframe size (1, 3)\n\nP__RenewableDispatch: dataframe size (1, 3)\n\nReg_Down__VariableReserve_ReserveDown: dataframe size (1, 3)\n\nparameter_P_PowerLoad: dataframe size (1, 3)\n\nFlex_Down__VariableReserve_ReserveDown: dataframe size (1, 3)\n\nparameter_service_requirement_VariableReserve_ReserveDown: dataframe size (1, 3)\n\nReg_Up__VariableReserve_ReserveUp: dataframe size (1, 3)\n\nP__HydroDispatch: dataframe size (1, 3)\n\nparameter_P_RenewableDispatch: dataframe size (1, 3)\n\nSpin_Up_R2__VariableReserve_ReserveUp: dataframe size (1, 3)\n\nparameter_service_requirement_VariableReserve_ReserveUp: dataframe size (1, 3)\n\nparameter_P_RenewableFix: dataframe size (1, 3)\n\nOn__ThermalStandard: dataframe size (1, 3)\n\nparameter_P_HydroDispatch: dataframe size (1, 3)\n\nFlex_Up__VariableReserve_ReserveUp: dataframe size (1, 3)\n\nStart__ThermalStandard: dataframe size (1, 3)\n\nStop__ThermalStandard: dataframe size (1, 3)\n\nSpin_Up_R1__VariableReserve_ReserveUp: dataframe size (1, 3)\n\nSpin_Up_R3__VariableReserve_ReserveUp: dataframe size (1, 3)\n\nstage-ED\n\nparameter_P_HydroDispatch: dataframe size (24, 3)\n\nparameter_P_RenewableDispatch: dataframe size (24, 3)\n\nP__ThermalStandard: dataframe size (24, 3)\n\nP__RenewableDispatch: dataframe size (24, 3)\n\nparameter_P_RenewableFix: dataframe size (24, 3)\n\nparameter_P_PowerLoad: dataframe size (24, 3)\n\nP__HydroDispatch: dataframe size (24, 3)\n\nstage-UC\n\ntime length: 24\n\nstage-ED\n\ntime length: 12\n\n",
      "text/html": [
       "<h1>Simulation Results Reference</h1>\n",
       "<p><b>Results Folder:</b> /Users/cbarrows/Documents/repos/SIIPExamples.jl/RTS-GMLC-master/rts-test/27/results</p>\n",
       "<h2>Reference Tables</h2>\n",
       "<p><b>stage-UC</b></p>\n",
       "<p>P__ThermalStandard: dataframe size (1, 3)</p>\n",
       "<p>P__RenewableDispatch: dataframe size (1, 3)</p>\n",
       "<p>Reg_Down__VariableReserve_ReserveDown: dataframe size (1, 3)</p>\n",
       "<p>parameter_P_PowerLoad: dataframe size (1, 3)</p>\n",
       "<p>Flex_Down__VariableReserve_ReserveDown: dataframe size (1, 3)</p>\n",
       "<p>parameter_service_requirement_VariableReserve_ReserveDown: dataframe size (1, 3)</p>\n",
       "<p>Reg_Up__VariableReserve_ReserveUp: dataframe size (1, 3)</p>\n",
       "<p>P__HydroDispatch: dataframe size (1, 3)</p>\n",
       "<p>parameter_P_RenewableDispatch: dataframe size (1, 3)</p>\n",
       "<p>Spin_Up_R2__VariableReserve_ReserveUp: dataframe size (1, 3)</p>\n",
       "<p>parameter_service_requirement_VariableReserve_ReserveUp: dataframe size (1, 3)</p>\n",
       "<p>parameter_P_RenewableFix: dataframe size (1, 3)</p>\n",
       "<p>On__ThermalStandard: dataframe size (1, 3)</p>\n",
       "<p>parameter_P_HydroDispatch: dataframe size (1, 3)</p>\n",
       "<p>Flex_Up__VariableReserve_ReserveUp: dataframe size (1, 3)</p>\n",
       "<p>Start__ThermalStandard: dataframe size (1, 3)</p>\n",
       "<p>Stop__ThermalStandard: dataframe size (1, 3)</p>\n",
       "<p>Spin_Up_R1__VariableReserve_ReserveUp: dataframe size (1, 3)</p>\n",
       "<p>Spin_Up_R3__VariableReserve_ReserveUp: dataframe size (1, 3)</p>\n",
       "<p><b>stage-ED</b></p>\n",
       "<p>parameter_P_HydroDispatch: dataframe size (24, 3)</p>\n",
       "<p>parameter_P_RenewableDispatch: dataframe size (24, 3)</p>\n",
       "<p>P__ThermalStandard: dataframe size (24, 3)</p>\n",
       "<p>P__RenewableDispatch: dataframe size (24, 3)</p>\n",
       "<p>parameter_P_RenewableFix: dataframe size (24, 3)</p>\n",
       "<p>parameter_P_PowerLoad: dataframe size (24, 3)</p>\n",
       "<p>P__HydroDispatch: dataframe size (24, 3)</p>\n",
       "<p><b>stage-UC</b></p>\n",
       "<p>time length: 24</p>\n",
       "<p><b>stage-ED</b></p>\n",
       "<p>time length: 12</p>\n"
      ]
     },
     "metadata": {},
     "execution_count": 14
    }
   ],
   "cell_type": "code",
   "source": [
    "sim_results = execute!(sim)"
   ],
   "metadata": {},
   "execution_count": 14
  },
  {
   "cell_type": "markdown",
   "source": [
    "## Results"
   ],
   "metadata": {}
  },
  {
   "outputs": [],
   "cell_type": "code",
   "source": [
    "uc_results = load_simulation_results(sim_results, \"UC\");\n",
    "ed_results = load_simulation_results(sim_results, \"ED\");"
   ],
   "metadata": {},
   "execution_count": 15
  },
  {
   "cell_type": "markdown",
   "source": [
    "## Plotting\n",
    "Take a look at the examples in [the plotting folder.](../../notebook/PowerSimulations_examples/Plotting)"
   ],
   "metadata": {}
  },
  {
   "cell_type": "markdown",
   "source": [
    "---\n",
    "\n",
    "*This notebook was generated using [Literate.jl](https://github.com/fredrikekre/Literate.jl).*"
   ],
   "metadata": {}
  }
 ],
 "nbformat_minor": 3,
 "metadata": {
  "language_info": {
   "file_extension": ".jl",
   "mimetype": "application/julia",
   "name": "julia",
   "version": "1.4.0"
  },
  "kernelspec": {
   "name": "julia-1.4",
   "display_name": "Julia 1.4.0",
   "language": "julia"
  }
 },
 "nbformat": 4
}
