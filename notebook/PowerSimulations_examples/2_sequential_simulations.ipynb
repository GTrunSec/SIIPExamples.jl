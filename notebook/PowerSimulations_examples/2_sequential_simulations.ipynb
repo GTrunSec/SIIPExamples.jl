{
 "cells": [
  {
   "cell_type": "markdown",
   "source": [
    "# Sequential Simulations with [PowerSimulations.jl](https://github.com/NREL-SIIP/PowerSimulations.jl)"
   ],
   "metadata": {}
  },
  {
   "cell_type": "markdown",
   "source": [
    "**Originally Contributed by**: Clayton Barrows"
   ],
   "metadata": {}
  },
  {
   "cell_type": "markdown",
   "source": [
    "## Introduction"
   ],
   "metadata": {}
  },
  {
   "cell_type": "markdown",
   "source": [
    "PowerSimulations.jl supports simulations that consist of sequential optimization problems\n",
    "where results from previous problems inform subsequent problems in a variety of ways. This\n",
    "example demonstrates some of these capabilities to represent electricity market clearing."
   ],
   "metadata": {}
  },
  {
   "cell_type": "markdown",
   "source": [
    "## Dependencies\n",
    "Since the `OperatiotnsProblem` is the fundamental building block of a sequential\n",
    "simulation in PowerSimulations, we will build on the [OperationsProblem example](../../notebook/PowerSimulations_examples/1_operations_problems.ipynb)\n",
    "by sourcing it as a dependency."
   ],
   "metadata": {}
  },
  {
   "outputs": [
    {
     "name": "stdout",
     "output_type": "stream",
     "text": [
      "┌ Info: Parsing csv data in branch.csv ...\n",
      "└ @ PowerSystems /Users/cbarrows/.julia/packages/PowerSystems/m5IPy/src/parsers/power_system_table_data.jl:148\n",
      "┌ Info: Successfully parsed branch.csv\n",
      "└ @ PowerSystems /Users/cbarrows/.julia/packages/PowerSystems/m5IPy/src/parsers/power_system_table_data.jl:153\n",
      "┌ Info: Parsing csv data in bus.csv ...\n",
      "└ @ PowerSystems /Users/cbarrows/.julia/packages/PowerSystems/m5IPy/src/parsers/power_system_table_data.jl:148\n",
      "┌ Info: Successfully parsed bus.csv\n",
      "└ @ PowerSystems /Users/cbarrows/.julia/packages/PowerSystems/m5IPy/src/parsers/power_system_table_data.jl:153\n",
      "┌ Info: Parsing csv data in dc_branch.csv ...\n",
      "└ @ PowerSystems /Users/cbarrows/.julia/packages/PowerSystems/m5IPy/src/parsers/power_system_table_data.jl:148\n",
      "┌ Info: Successfully parsed dc_branch.csv\n",
      "└ @ PowerSystems /Users/cbarrows/.julia/packages/PowerSystems/m5IPy/src/parsers/power_system_table_data.jl:153\n",
      "┌ Info: Parsing csv data in gen.csv ...\n",
      "└ @ PowerSystems /Users/cbarrows/.julia/packages/PowerSystems/m5IPy/src/parsers/power_system_table_data.jl:148\n",
      "┌ Info: Successfully parsed gen.csv\n",
      "└ @ PowerSystems /Users/cbarrows/.julia/packages/PowerSystems/m5IPy/src/parsers/power_system_table_data.jl:153\n",
      "┌ Info: Parsing csv data in reserves.csv ...\n",
      "└ @ PowerSystems /Users/cbarrows/.julia/packages/PowerSystems/m5IPy/src/parsers/power_system_table_data.jl:148\n",
      "┌ Info: Successfully parsed reserves.csv\n",
      "└ @ PowerSystems /Users/cbarrows/.julia/packages/PowerSystems/m5IPy/src/parsers/power_system_table_data.jl:153\n",
      "┌ Info: Parsing csv data in simulation_objects.csv ...\n",
      "└ @ PowerSystems /Users/cbarrows/.julia/packages/PowerSystems/m5IPy/src/parsers/power_system_table_data.jl:148\n",
      "┌ Info: Successfully parsed simulation_objects.csv\n",
      "└ @ PowerSystems /Users/cbarrows/.julia/packages/PowerSystems/m5IPy/src/parsers/power_system_table_data.jl:153\n",
      "┌ Info: Parsing csv data in storage.csv ...\n",
      "└ @ PowerSystems /Users/cbarrows/.julia/packages/PowerSystems/m5IPy/src/parsers/power_system_table_data.jl:148\n",
      "┌ Info: Successfully parsed storage.csv\n",
      "└ @ PowerSystems /Users/cbarrows/.julia/packages/PowerSystems/m5IPy/src/parsers/power_system_table_data.jl:153\n",
      "┌ Info: Parsing csv data in timeseries_pointers.csv ...\n",
      "└ @ PowerSystems /Users/cbarrows/.julia/packages/PowerSystems/m5IPy/src/parsers/power_system_table_data.jl:148\n",
      "┌ Info: Successfully parsed timeseries_pointers.csv\n",
      "└ @ PowerSystems /Users/cbarrows/.julia/packages/PowerSystems/m5IPy/src/parsers/power_system_table_data.jl:153\n",
      "┌ Info: Adding contributing generators for Spin_Up_R1 by category\n",
      "└ @ PowerSystems /Users/cbarrows/.julia/packages/PowerSystems/m5IPy/src/parsers/power_system_table_data.jl:643\n",
      "┌ Info: Adding contributing generators for Spin_Up_R2 by category\n",
      "└ @ PowerSystems /Users/cbarrows/.julia/packages/PowerSystems/m5IPy/src/parsers/power_system_table_data.jl:643\n",
      "┌ Info: Adding contributing generators for Spin_Up_R3 by category\n",
      "└ @ PowerSystems /Users/cbarrows/.julia/packages/PowerSystems/m5IPy/src/parsers/power_system_table_data.jl:643\n",
      "┌ Info: Adding contributing generators for Flex_Up by category\n",
      "└ @ PowerSystems /Users/cbarrows/.julia/packages/PowerSystems/m5IPy/src/parsers/power_system_table_data.jl:643\n",
      "┌ Info: Adding contributing generators for Flex_Down by category\n",
      "└ @ PowerSystems /Users/cbarrows/.julia/packages/PowerSystems/m5IPy/src/parsers/power_system_table_data.jl:643\n",
      "┌ Info: Adding contributing generators for Reg_Up by category\n",
      "└ @ PowerSystems /Users/cbarrows/.julia/packages/PowerSystems/m5IPy/src/parsers/power_system_table_data.jl:643\n",
      "┌ Info: Adding contributing generators for Reg_Down by category\n",
      "└ @ PowerSystems /Users/cbarrows/.julia/packages/PowerSystems/m5IPy/src/parsers/power_system_table_data.jl:643\n",
      "Welcome to the CBC MILP Solver \n",
      "Version: 2.10.3 \n",
      "Build Date: Oct  7 2019 \n",
      "\n",
      "command line - Cbc_C_Interface -ratioGap 0.5 -logLevel 1 -solve -quit (default strategy 1)\n",
      "ratioGap was changed from 0 to 0.5\n",
      "Continuous objective value is 305848 - 0.09 seconds\n",
      "Cgl0003I 207 fixed, 0 tightened bounds, 660 strengthened rows, 48 substitutions\n",
      "Cgl0003I 0 fixed, 0 tightened bounds, 731 strengthened rows, 0 substitutions\n",
      "Cgl0003I 0 fixed, 0 tightened bounds, 628 strengthened rows, 0 substitutions\n",
      "Cgl0003I 0 fixed, 0 tightened bounds, 502 strengthened rows, 0 substitutions\n",
      "Cgl0003I 0 fixed, 0 tightened bounds, 277 strengthened rows, 0 substitutions\n",
      "Cgl0003I 0 fixed, 0 tightened bounds, 206 strengthened rows, 0 substitutions\n",
      "Cgl0003I 0 fixed, 0 tightened bounds, 171 strengthened rows, 0 substitutions\n",
      "Cgl0003I 0 fixed, 0 tightened bounds, 147 strengthened rows, 0 substitutions\n",
      "Cgl0003I 0 fixed, 0 tightened bounds, 136 strengthened rows, 0 substitutions\n",
      "Cgl0004I processed model has 5679 rows, 11881 columns (2419 integer (2419 of which binary)) and 32035 elements\n",
      "Cbc0045I Trying just fixing integer variables (and fixingish SOS).\n",
      "Cbc0045I MIPStart solution provided values for 3228 of 2419 integer variables, 77 variables are still fractional.\n",
      "Cbc0038I Full problem 5679 rows 11881 columns, reduced to 5674 rows 11881 columns\n",
      "Cbc0038I Probing was tried 0 times and created 0 cuts of which 0 were active after adding rounds of cuts (0.000 seconds)\n",
      "Cbc0045I Mini branch and bound defined values for remaining variables in 3.82 seconds.\n",
      "Cbc0045I MIPStart provided solution with cost 308640\n",
      "Cbc0012I Integer solution of 308640.32 found by Reduced search after 0 iterations and 0 nodes (4.92 seconds)\n",
      "Cbc0038I Full problem 5679 rows 11881 columns, reduced to 965 rows 2695 columns\n",
      "Cbc0011I Exiting as integer gap of 2792.4529 less than 1e-10 or 50%\n",
      "Cbc0001I Search completed - best objective 308640.3151784803, took 0 iterations and 0 nodes (5.07 seconds)\n",
      "Cbc0035I Maximum depth 0, 0 variables fixed on reduced cost\n",
      "Cuts at root node changed objective from 305848 to 305848\n",
      "Probing was tried 0 times and created 0 cuts of which 0 were active after adding rounds of cuts (0.000 seconds)\n",
      "Gomory was tried 0 times and created 0 cuts of which 0 were active after adding rounds of cuts (0.000 seconds)\n",
      "Knapsack was tried 0 times and created 0 cuts of which 0 were active after adding rounds of cuts (0.000 seconds)\n",
      "Clique was tried 0 times and created 0 cuts of which 0 were active after adding rounds of cuts (0.000 seconds)\n",
      "MixedIntegerRounding2 was tried 0 times and created 0 cuts of which 0 were active after adding rounds of cuts (0.000 seconds)\n",
      "FlowCover was tried 0 times and created 0 cuts of which 0 were active after adding rounds of cuts (0.000 seconds)\n",
      "TwoMirCuts was tried 0 times and created 0 cuts of which 0 were active after adding rounds of cuts (0.000 seconds)\n",
      "ZeroHalf was tried 0 times and created 0 cuts of which 0 were active after adding rounds of cuts (0.000 seconds)\n",
      "\n",
      "Result - Optimal solution found (within gap tolerance)\n",
      "\n",
      "Objective value:                308640.31517848\n",
      "Lower bound:                    305847.862\n",
      "Gap:                            0.01\n",
      "Enumerated nodes:               0\n",
      "Total iterations:               0\n",
      "Time (CPU seconds):             5.24\n",
      "Time (Wallclock seconds):       5.61\n",
      "\n",
      "Total time (CPU seconds):       5.24   (Wallclock seconds):       5.61\n",
      "\n",
      "┌ Warning: The data doesn't include devices of type PowerSystems.InterruptibleLoad, consider changing the device models\n",
      "└ @ PowerSimulations /Users/cbarrows/Documents/repos/PowerSimulations.jl/src/devices_models/device_constructors/common/constructor_validations.jl:4\n",
      "┌ Warning: Data doesn't contain generators with ramp limits, consider adjusting your formulation\n",
      "└ @ PowerSimulations /Users/cbarrows/Documents/repos/PowerSimulations.jl/src/devices_models/devices/thermal_generation.jl:385\n",
      "┌ Info: Generator 202_CT_2 has a nonbinding time limits. Constraints Skipped\n",
      "└ @ PowerSimulations /Users/cbarrows/Documents/repos/PowerSimulations.jl/src/devices_models/devices/thermal_generation.jl:450\n",
      "┌ Info: Generator 302_CT_1 has a nonbinding time limits. Constraints Skipped\n",
      "└ @ PowerSimulations /Users/cbarrows/Documents/repos/PowerSimulations.jl/src/devices_models/devices/thermal_generation.jl:450\n",
      "┌ Info: Generator 202_CT_1 has a nonbinding time limits. Constraints Skipped\n",
      "└ @ PowerSimulations /Users/cbarrows/Documents/repos/PowerSimulations.jl/src/devices_models/devices/thermal_generation.jl:450\n",
      "┌ Info: Generator 114_SYNC_COND_1 has a nonbinding time limits. Constraints Skipped\n",
      "└ @ PowerSimulations /Users/cbarrows/Documents/repos/PowerSimulations.jl/src/devices_models/devices/thermal_generation.jl:450\n",
      "┌ Info: Generator 302_CT_2 has a nonbinding time limits. Constraints Skipped\n",
      "└ @ PowerSimulations /Users/cbarrows/Documents/repos/PowerSimulations.jl/src/devices_models/devices/thermal_generation.jl:450\n",
      "┌ Info: Generator 101_CT_1 has a nonbinding time limits. Constraints Skipped\n",
      "└ @ PowerSimulations /Users/cbarrows/Documents/repos/PowerSimulations.jl/src/devices_models/devices/thermal_generation.jl:450\n",
      "┌ Info: Generator 314_SYNC_COND_1 has a nonbinding time limits. Constraints Skipped\n",
      "└ @ PowerSimulations /Users/cbarrows/Documents/repos/PowerSimulations.jl/src/devices_models/devices/thermal_generation.jl:450\n",
      "┌ Info: Generator 101_CT_2 has a nonbinding time limits. Constraints Skipped\n",
      "└ @ PowerSimulations /Users/cbarrows/Documents/repos/PowerSimulations.jl/src/devices_models/devices/thermal_generation.jl:450\n",
      "┌ Info: Generator 214_SYNC_COND_1 has a nonbinding time limits. Constraints Skipped\n",
      "└ @ PowerSimulations /Users/cbarrows/Documents/repos/PowerSimulations.jl/src/devices_models/devices/thermal_generation.jl:450\n",
      "┌ Info: Generator 301_CT_1 has a nonbinding time limits. Constraints Skipped\n",
      "└ @ PowerSimulations /Users/cbarrows/Documents/repos/PowerSimulations.jl/src/devices_models/devices/thermal_generation.jl:450\n",
      "┌ Info: Generator 102_CT_2 has a nonbinding time limits. Constraints Skipped\n",
      "└ @ PowerSimulations /Users/cbarrows/Documents/repos/PowerSimulations.jl/src/devices_models/devices/thermal_generation.jl:450\n",
      "┌ Info: Generator 102_CT_1 has a nonbinding time limits. Constraints Skipped\n",
      "└ @ PowerSimulations /Users/cbarrows/Documents/repos/PowerSimulations.jl/src/devices_models/devices/thermal_generation.jl:450\n",
      "┌ Info: Generator 201_CT_2 has a nonbinding time limits. Constraints Skipped\n",
      "└ @ PowerSimulations /Users/cbarrows/Documents/repos/PowerSimulations.jl/src/devices_models/devices/thermal_generation.jl:450\n",
      "┌ Info: Generator 201_CT_1 has a nonbinding time limits. Constraints Skipped\n",
      "└ @ PowerSimulations /Users/cbarrows/Documents/repos/PowerSimulations.jl/src/devices_models/devices/thermal_generation.jl:450\n",
      "┌ Info: Generator 301_CT_2 has a nonbinding time limits. Constraints Skipped\n",
      "└ @ PowerSimulations /Users/cbarrows/Documents/repos/PowerSimulations.jl/src/devices_models/devices/thermal_generation.jl:450\n"
     ]
    },
    {
     "output_type": "execute_result",
     "data": {
      "text/plain": "\nOperations Problem Specification\n============================================\n\n  transmission:  PowerSimulations.CopperPlatePowerModel\n============================================\n  devices: \n      ILoads:\n        device_type = PowerSystems.InterruptibleLoad\n        formulation = PowerSimulations.InterruptiblePowerLoad\n      HydroROR:\n        device_type = PowerSystems.HydroDispatch\n        formulation = PowerSimulations.HydroFixed\n      Generators:\n        device_type = PowerSystems.ThermalStandard\n        formulation = PowerSimulations.ThermalStandardUnitCommitment\n      Ren:\n        device_type = PowerSystems.RenewableDispatch\n        formulation = PowerSimulations.RenewableFullDispatch\n      Loads:\n        device_type = PowerSystems.PowerLoad\n        formulation = PowerSimulations.StaticPowerLoad\n      RenFx:\n        device_type = PowerSystems.RenewableFix\n        formulation = PowerSimulations.RenewableFixed\n============================================\n  branches: \n      T:\n        device_type = PowerSystems.Transformer2W\n        formulation = PowerSimulations.StaticTransformer\n      TT:\n        device_type = PowerSystems.TapTransformer\n        formulation = PowerSimulations.StaticTransformer\n      L:\n        device_type = PowerSystems.Line\n        formulation = PowerSimulations.StaticLine\n============================================\n  services: \n      ReserveDown:\n        service_type = PowerSystems.VariableReserve{PowerSystems.ReserveDown}\n        formulation = PowerSimulations.RangeReserve\n      ReserveUp:\n        service_type = PowerSystems.VariableReserve{PowerSystems.ReserveUp}\n        formulation = PowerSimulations.RangeReserve\n============================================\n"
     },
     "metadata": {},
     "execution_count": 1
    }
   ],
   "cell_type": "code",
   "source": [
    "using SIIPExamples\n",
    "pkgpath = dirname(dirname(pathof(SIIPExamples)))\n",
    "include(joinpath(pkgpath, \"test\", \"PowerSimulations_examples\", \"1_operations_problems.jl\"))"
   ],
   "metadata": {},
   "execution_count": 1
  },
  {
   "cell_type": "markdown",
   "source": [
    "### 5-Minute system\n",
    "We had already created a `sys::System` from hourly RTS data in the OperationsProblem example.\n",
    "The RTS data also includes 5-minute resolution time series data. So, we can create another\n",
    "`System`:"
   ],
   "metadata": {}
  },
  {
   "outputs": [
    {
     "name": "stdout",
     "output_type": "stream",
     "text": [
      "┌ Info: Adding contributing generators for Spin_Up_R1 by category\n",
      "└ @ PowerSystems /Users/cbarrows/.julia/packages/PowerSystems/m5IPy/src/parsers/power_system_table_data.jl:643\n",
      "┌ Info: Adding contributing generators for Spin_Up_R2 by category\n",
      "└ @ PowerSystems /Users/cbarrows/.julia/packages/PowerSystems/m5IPy/src/parsers/power_system_table_data.jl:643\n",
      "┌ Info: Adding contributing generators for Spin_Up_R3 by category\n",
      "└ @ PowerSystems /Users/cbarrows/.julia/packages/PowerSystems/m5IPy/src/parsers/power_system_table_data.jl:643\n",
      "┌ Info: Adding contributing generators for Flex_Up by category\n",
      "└ @ PowerSystems /Users/cbarrows/.julia/packages/PowerSystems/m5IPy/src/parsers/power_system_table_data.jl:643\n",
      "┌ Info: Adding contributing generators for Flex_Down by category\n",
      "└ @ PowerSystems /Users/cbarrows/.julia/packages/PowerSystems/m5IPy/src/parsers/power_system_table_data.jl:643\n",
      "┌ Info: Adding contributing generators for Reg_Up by category\n",
      "└ @ PowerSystems /Users/cbarrows/.julia/packages/PowerSystems/m5IPy/src/parsers/power_system_table_data.jl:643\n",
      "┌ Info: Adding contributing generators for Reg_Down by category\n",
      "└ @ PowerSystems /Users/cbarrows/.julia/packages/PowerSystems/m5IPy/src/parsers/power_system_table_data.jl:643\n"
     ]
    },
    {
     "output_type": "execute_result",
     "data": {
      "text/plain": "System\n======\nBase Power: 100.0\n\nComponents\n==========\nNum components: 434\n\n15×3 DataFrames.DataFrame. Omitted printing of 2 columns\n│ Row │ ConcreteType                              │\n│     │ \u001b[90mString\u001b[39m                                    │\n├─────┼───────────────────────────────────────────┤\n│ 1   │ Area                                      │\n│ 2   │ Bus                                       │\n│ 3   │ GenericBattery                            │\n│ 4   │ HVDCLine                                  │\n│ 5   │ HydroDispatch                             │\n│ 6   │ Line                                      │\n│ 7   │ LoadZone                                  │\n│ 8   │ PowerLoad                                 │\n│ 9   │ RenewableDispatch                         │\n│ 10  │ RenewableFix                              │\n│ 11  │ TapTransformer                            │\n│ 12  │ ThermalStandard                           │\n│ 13  │ Transformer2W                             │\n│ 14  │ VariableReserve{PowerSystems.ReserveDown} │\n│ 15  │ VariableReserve{PowerSystems.ReserveUp}   │\n\nForecasts\n=========\nResolution: 5 minutes\nHorizon: 105408\nInitial Times: 2020-01-01T00:00:00\nInterval: 0 seconds\nComponents with Forecasts: 137\nTotal Forecasts: 188\n",
      "text/html": [
       "<h1>System</h1>\n",
       "<p><b>Base Power</b>: 100.0</p>\n",
       "<h2>Components</h2>\n",
       "<p><b>Num components</b>: 434</p>\n",
       "<table class=\"data-frame\"><thead><tr><th></th><th>ConcreteType</th><th>SuperTypes</th><th>Count</th></tr><tr><th></th><th>String</th><th>String</th><th>Int64</th></tr></thead><tbody><p>15 rows × 3 columns</p><tr><th>1</th><td>Area</td><td>AggregationTopology &lt;: Topology &lt;: Component &lt;: PowerSystemType &lt;: InfrastructureSystemsType &lt;: Any</td><td>3</td></tr><tr><th>2</th><td>Bus</td><td>Topology &lt;: Component &lt;: PowerSystemType &lt;: InfrastructureSystemsType &lt;: Any</td><td>73</td></tr><tr><th>3</th><td>GenericBattery</td><td>Storage &lt;: StaticInjection &lt;: Device &lt;: Component &lt;: PowerSystemType &lt;: InfrastructureSystemsType &lt;: Any</td><td>1</td></tr><tr><th>4</th><td>HVDCLine</td><td>DCBranch &lt;: Branch &lt;: Device &lt;: Component &lt;: PowerSystemType &lt;: InfrastructureSystemsType &lt;: Any</td><td>1</td></tr><tr><th>5</th><td>HydroDispatch</td><td>HydroGen &lt;: Generator &lt;: StaticInjection &lt;: Device &lt;: Component &lt;: PowerSystemType &lt;: InfrastructureSystemsType &lt;: Any</td><td>20</td></tr><tr><th>6</th><td>Line</td><td>ACBranch &lt;: Branch &lt;: Device &lt;: Component &lt;: PowerSystemType &lt;: InfrastructureSystemsType &lt;: Any</td><td>104</td></tr><tr><th>7</th><td>LoadZone</td><td>AggregationTopology &lt;: Topology &lt;: Component &lt;: PowerSystemType &lt;: InfrastructureSystemsType &lt;: Any</td><td>21</td></tr><tr><th>8</th><td>PowerLoad</td><td>StaticLoad &lt;: ElectricLoad &lt;: StaticInjection &lt;: Device &lt;: Component &lt;: PowerSystemType &lt;: InfrastructureSystemsType &lt;: Any</td><td>51</td></tr><tr><th>9</th><td>RenewableDispatch</td><td>RenewableGen &lt;: Generator &lt;: StaticInjection &lt;: Device &lt;: Component &lt;: PowerSystemType &lt;: InfrastructureSystemsType &lt;: Any</td><td>30</td></tr><tr><th>10</th><td>RenewableFix</td><td>RenewableGen &lt;: Generator &lt;: StaticInjection &lt;: Device &lt;: Component &lt;: PowerSystemType &lt;: InfrastructureSystemsType &lt;: Any</td><td>31</td></tr><tr><th>11</th><td>TapTransformer</td><td>ACBranch &lt;: Branch &lt;: Device &lt;: Component &lt;: PowerSystemType &lt;: InfrastructureSystemsType &lt;: Any</td><td>15</td></tr><tr><th>12</th><td>ThermalStandard</td><td>ThermalGen &lt;: Generator &lt;: StaticInjection &lt;: Device &lt;: Component &lt;: PowerSystemType &lt;: InfrastructureSystemsType &lt;: Any</td><td>76</td></tr><tr><th>13</th><td>Transformer2W</td><td>ACBranch &lt;: Branch &lt;: Device &lt;: Component &lt;: PowerSystemType &lt;: InfrastructureSystemsType &lt;: Any</td><td>1</td></tr><tr><th>14</th><td>VariableReserve{PowerSystems.ReserveDown}</td><td>Reserve{PowerSystems.ReserveDown} &lt;: Service &lt;: Component &lt;: PowerSystemType &lt;: InfrastructureSystemsType &lt;: Any</td><td>2</td></tr><tr><th>15</th><td>VariableReserve{PowerSystems.ReserveUp}</td><td>Reserve{PowerSystems.ReserveUp} &lt;: Service &lt;: Component &lt;: PowerSystemType &lt;: InfrastructureSystemsType &lt;: Any</td><td>5</td></tr></tbody></table>\n",
       "\n",
       "<h2>Forecasts</h2>\n",
       "<p><b>Resolution</b>: 5 minutes</p>\n",
       "<p><b>Horizon</b>: 105408</p>\n",
       "<p><b>Initial Times</b>: 2020-01-01T00:00:00</p>\n",
       "<p><b>Interval</b>: 0 seconds</p>\n",
       "<p><b>Components with Forecasts</b>: 137</p>\n",
       "<p><b>Total Forecasts</b>: 188</p>\n"
      ]
     },
     "metadata": {},
     "execution_count": 2
    }
   ],
   "cell_type": "code",
   "source": [
    "sys_RT = System(rawsys; forecast_resolution = Dates.Minute(5))"
   ],
   "metadata": {},
   "execution_count": 2
  },
  {
   "cell_type": "markdown",
   "source": [
    "The RTS dataset has some large RE and load forecast errors that create infeasible\n",
    "simulations. Until we enable formulations with slack variables, we need to increase the\n",
    "amount of reserve held to handle the forecast error."
   ],
   "metadata": {}
  },
  {
   "outputs": [
    {
     "output_type": "execute_result",
     "data": {
      "text/plain": "5.0"
     },
     "metadata": {},
     "execution_count": 3
    }
   ],
   "cell_type": "code",
   "source": [
    "get_component(VariableReserve{ReserveUp}, sys, \"Flex_Up\").requirement = 5.0"
   ],
   "metadata": {},
   "execution_count": 3
  },
  {
   "cell_type": "markdown",
   "source": [
    "## `OperationsProblemTemplate`s define `Stage`s\n",
    "Sequential simulations in PowerSimulations are created by defining `OperationsProblems`\n",
    "that represent `Stages`, and how information flows between executions of a `Stage` and\n",
    "between different `Stage`s.\n",
    "\n",
    "Let's start by defining a two stage simulation that might look like a typical day-Ahead\n",
    "and real-time electricity market clearing process."
   ],
   "metadata": {}
  },
  {
   "cell_type": "markdown",
   "source": [
    "### Define the reference model for the day-ahead unit commitment"
   ],
   "metadata": {}
  },
  {
   "outputs": [
    {
     "output_type": "execute_result",
     "data": {
      "text/plain": "\nOperations Problem Specification\n============================================\n\n  transmission:  PowerSimulations.CopperPlatePowerModel\n============================================\n  devices: \n      HydroROR:\n        device_type = PowerSystems.HydroDispatch\n        formulation = PowerSimulations.HydroDispatchRunOfRiver\n      Generators:\n        device_type = PowerSystems.ThermalStandard\n        formulation = PowerSimulations.ThermalStandardUnitCommitment\n      Ren:\n        device_type = PowerSystems.RenewableDispatch\n        formulation = PowerSimulations.RenewableFullDispatch\n      Loads:\n        device_type = PowerSystems.PowerLoad\n        formulation = PowerSimulations.StaticPowerLoad\n      RenFx:\n        device_type = PowerSystems.RenewableFix\n        formulation = PowerSimulations.RenewableFixed\n============================================\n  branches: \n      T:\n        device_type = PowerSystems.Transformer2W\n        formulation = PowerSimulations.StaticTransformer\n      TT:\n        device_type = PowerSystems.TapTransformer\n        formulation = PowerSimulations.StaticTransformer\n      L:\n        device_type = PowerSystems.Line\n        formulation = PowerSimulations.StaticLine\n      DC:\n        device_type = PowerSystems.HVDCLine\n        formulation = PowerSimulations.HVDCDispatch\n============================================\n  services: \n      ReserveDown:\n        service_type = PowerSystems.VariableReserve{PowerSystems.ReserveDown}\n        formulation = PowerSimulations.RangeReserve\n      ReserveUp:\n        service_type = PowerSystems.VariableReserve{PowerSystems.ReserveUp}\n        formulation = PowerSimulations.RangeReserve\n============================================\n"
     },
     "metadata": {},
     "execution_count": 4
    }
   ],
   "cell_type": "code",
   "source": [
    "devices = Dict(\n",
    "    :Generators => DeviceModel(ThermalStandard, ThermalStandardUnitCommitment),\n",
    "    :Ren => DeviceModel(RenewableDispatch, RenewableFullDispatch),\n",
    "    :Loads => DeviceModel(PowerLoad, StaticPowerLoad),\n",
    "    :HydroROR => DeviceModel(HydroDispatch, HydroDispatchRunOfRiver),\n",
    "    :RenFx => DeviceModel(RenewableFix, RenewableFixed),\n",
    ")\n",
    "template_uc = template_unit_commitment(devices = devices)"
   ],
   "metadata": {},
   "execution_count": 4
  },
  {
   "cell_type": "markdown",
   "source": [
    "### Define the reference model for the real-time economic dispatch"
   ],
   "metadata": {}
  },
  {
   "outputs": [
    {
     "output_type": "execute_result",
     "data": {
      "text/plain": "\nOperations Problem Specification\n============================================\n\n  transmission:  PowerSimulations.CopperPlatePowerModel\n============================================\n  devices: \n      HydroROR:\n        device_type = PowerSystems.HydroDispatch\n        formulation = PowerSimulations.HydroDispatchRunOfRiver\n      Generators:\n        device_type = PowerSystems.ThermalStandard\n        formulation = PowerSimulations.ThermalDispatch\n      Ren:\n        device_type = PowerSystems.RenewableDispatch\n        formulation = PowerSimulations.RenewableFullDispatch\n      Loads:\n        device_type = PowerSystems.PowerLoad\n        formulation = PowerSimulations.StaticPowerLoad\n      RenFx:\n        device_type = PowerSystems.RenewableFix\n        formulation = PowerSimulations.RenewableFixed\n============================================\n  branches: \n      T:\n        device_type = PowerSystems.Transformer2W\n        formulation = PowerSimulations.StaticTransformer\n      TT:\n        device_type = PowerSystems.TapTransformer\n        formulation = PowerSimulations.StaticTransformer\n      L:\n        device_type = PowerSystems.Line\n        formulation = PowerSimulations.StaticLine\n      DC:\n        device_type = PowerSystems.HVDCLine\n        formulation = PowerSimulations.HVDCDispatch\n============================================\n  services: \n============================================\n"
     },
     "metadata": {},
     "execution_count": 5
    }
   ],
   "cell_type": "code",
   "source": [
    "devices = Dict(\n",
    "    :Generators => DeviceModel(ThermalStandard, ThermalDispatch),\n",
    "    :Ren => DeviceModel(RenewableDispatch, RenewableFullDispatch),\n",
    "    :Loads => DeviceModel(PowerLoad, StaticPowerLoad),\n",
    "    :HydroROR => DeviceModel(HydroDispatch, HydroDispatchRunOfRiver),\n",
    "    :RenFx => DeviceModel(RenewableFix, RenewableFixed),\n",
    ")\n",
    "template_ed = template_economic_dispatch(devices = devices)"
   ],
   "metadata": {},
   "execution_count": 5
  },
  {
   "cell_type": "markdown",
   "source": [
    "### Define the `Stage`s\n",
    "Stages define models. The actual problem will change as the stage gets updated to represent\n",
    "different time periods, but the formulations applied to the components is constant within\n",
    "a stage. In this case, we want to define two stages with the `OperationsProblemTemplate`s\n",
    "and the `System`s that we've already created."
   ],
   "metadata": {}
  },
  {
   "outputs": [
    {
     "output_type": "execute_result",
     "data": {
      "text/plain": "Dict{String,PowerSimulations.Stage{PowerSimulations.GenericOpProblem}} with 2 entries:\n  \"ED\" => Stage()…\n  \"UC\" => Stage()…"
     },
     "metadata": {},
     "execution_count": 6
    }
   ],
   "cell_type": "code",
   "source": [
    "stages_definition = Dict(\n",
    "    \"UC\" => Stage(GenericOpProblem, template_uc, sys, solver),\n",
    "    \"ED\" => Stage(GenericOpProblem, template_ed, sys_RT, solver),\n",
    ")"
   ],
   "metadata": {},
   "execution_count": 6
  },
  {
   "cell_type": "markdown",
   "source": [
    "### `SimulationSequence`\n",
    "Similar to an `OperationsProblemTemplate`, the `SimulationSequence` provides a template of\n",
    "how to execute a sequential set of operations problems."
   ],
   "metadata": {}
  },
  {
   "cell_type": "markdown",
   "source": [
    "print_struct(SimulationSequence)"
   ],
   "metadata": {}
  },
  {
   "cell_type": "markdown",
   "source": [
    "Let's review some of the `SimulationSequence` arguments."
   ],
   "metadata": {}
  },
  {
   "cell_type": "markdown",
   "source": [
    "### Chronologies\n",
    "In PowerSimulations, chronologies define where information is flowing. There are two types\n",
    "of chronologies.\n",
    " - inter-stage chronologies: Define how information flows between stages. e.g. day-ahead\n",
    "solutions are used to inform economic dispatch problems\n",
    " - intra-stage chronologies: Define how information flows between multiple executions of a\n",
    "single stage. e.g. the dispatch setpoints of the first period of an economic dispatch problem\n",
    "are constrained by the ramping limits from setpoints in the final period of the previous problem."
   ],
   "metadata": {}
  },
  {
   "cell_type": "markdown",
   "source": [
    "Let's define an inter-stage chronolgy that synchronizes information from 24 periods of\n",
    "the first stage with a set of executions of the second stage:"
   ],
   "metadata": {}
  },
  {
   "outputs": [
    {
     "output_type": "execute_result",
     "data": {
      "text/plain": "Dict{Pair{String,String},PowerSimulations.Synchronize} with 1 entry:\n  \"UC\"=>\"ED\" => Synchronize(24)"
     },
     "metadata": {},
     "execution_count": 7
    }
   ],
   "cell_type": "code",
   "source": [
    "feedforward_chronologies = Dict((\"UC\" => \"ED\") => Synchronize(periods = 24))"
   ],
   "metadata": {},
   "execution_count": 7
  },
  {
   "cell_type": "markdown",
   "source": [
    "### `FeedForward` and `Cache`\n",
    "The definition of exactly what information is passed using the defined chronologies is\n",
    "accomplished with `FeedForward` and `Cache` objects. Specifically, `FeedForward` is used\n",
    "to define what to do with information being passed with an inter-stage chronology. Let's\n",
    "define a `FeedForward` that affects the semi-continuous range constraints of thermal generators\n",
    "in the economic dispatch problems based on the value of the unit-commitment variables."
   ],
   "metadata": {}
  },
  {
   "outputs": [
    {
     "output_type": "execute_result",
     "data": {
      "text/plain": "Dict{Tuple{String,Symbol,Symbol},PowerSimulations.SemiContinuousFF} with 1 entry:\n  (\"ED\", :devices, :Generators) => SemiContinuousFF(:On, Symbol[:P], nothing)"
     },
     "metadata": {},
     "execution_count": 8
    }
   ],
   "cell_type": "code",
   "source": [
    "feedforward = Dict(\n",
    "    (\"ED\", :devices, :Generators) => SemiContinuousFF(\n",
    "        binary_from_stage = PSI.ON,\n",
    "        affected_variables = [PSI.ACTIVE_POWER],\n",
    "    ),\n",
    ")"
   ],
   "metadata": {},
   "execution_count": 8
  },
  {
   "cell_type": "markdown",
   "source": [
    "The `Cache` is simply a way to preserve needed information for later use. In the case of\n",
    "a typical day-ahead - real-time market simulation, there are many economic dispatch executions\n",
    "in between each unit-commitment execution. Rather than keeping the full set of results from\n",
    "previous unit-commitment simulations in memory to be used in later executions, we can define\n",
    "exactly which results will be needed and carry them through a cache in the economic dispatch\n",
    "problems for later use."
   ],
   "metadata": {}
  },
  {
   "outputs": [
    {
     "output_type": "execute_result",
     "data": {
      "text/plain": "Dict{Tuple{String},PowerSimulations.TimeStatusChange} with 1 entry:\n  (\"UC\",) => TimeStatusChange(ThermalStandard, 1-dimensional DenseAxisArray{Dic…"
     },
     "metadata": {},
     "execution_count": 9
    }
   ],
   "cell_type": "code",
   "source": [
    "cache = Dict((\"UC\",) => TimeStatusChange(PSY.ThermalStandard, PSI.ON))"
   ],
   "metadata": {},
   "execution_count": 9
  },
  {
   "cell_type": "markdown",
   "source": [
    "### Sequencing\n",
    "The stage problem length, look-ahead, and other details surrounding the temporal Sequencing\n",
    "of stages are controlled using the `order`, `horizons`, and `intervals` arguments.\n",
    " - order::Dict(Int, String) : the hierarchical order of stages in the simulation\n",
    " - horizons::Dict(String, Int) : defines the number of time periods in each stage (problem length)\n",
    " - intervals::Dict(String, Dates.Period) : defines the interval with which stage problems\n",
    "advance after each execution. e.g. day-ahead problems have an interval of 24-hours\n",
    "\n",
    "So, to define a typical day-ahead - real-time sequence, we can define the following:\n",
    " - Day ahead problems should represent 48 hours, advancing 24 hours after each execution (24-hour look-ahead)\n",
    " - Real time problems should represent 1 hour (12 5-minute periods), advancing 1 hour after each execution (no look-ahead)"
   ],
   "metadata": {}
  },
  {
   "outputs": [
    {
     "output_type": "execute_result",
     "data": {
      "text/plain": "Dict{String,Tuple{Dates.Hour,PowerSimulations.Consecutive}} with 2 entries:\n  \"ED\" => (1 hour, Consecutive())\n  \"UC\" => (24 hours, Consecutive())"
     },
     "metadata": {},
     "execution_count": 10
    }
   ],
   "cell_type": "code",
   "source": [
    "order = Dict(1 => \"UC\", 2 => \"ED\")\n",
    "horizons = Dict(\"UC\" => 24, \"ED\" => 12)\n",
    "intervals = Dict(\"UC\" => (Hour(24), Consecutive()), \"ED\" => (Hour(1), Consecutive()))"
   ],
   "metadata": {},
   "execution_count": 10
  },
  {
   "cell_type": "markdown",
   "source": [
    "Finally, we can put it all together:"
   ],
   "metadata": {}
  },
  {
   "outputs": [
    {
     "output_type": "execute_result",
     "data": {
      "text/plain": "Feed Forward Chronology\n-----------------------\n\nED: PowerSimulations.SemiContinuousFF -> Generators\n\n                     UC--┐ from : On\n                         |\n┌----┬----┬----┬----┬----┼----┬----┬----┬----┬----┬----┐\n|    |    |    |    |    |    |    |    |    |    |    |\n|    |    |    |    |    |    |    |    |    |    |    |\n└─ED └─ED └─ED └─ED └─ED └─ED └─ED └─ED └─ED └─ED └─ED └─ED ... (x24) to : [\"P\"]\n\nInitial Condition Chronology\n----------------------------\n\n1\n|\n|\n2 --> 2 ... (x24)   \n"
     },
     "metadata": {},
     "execution_count": 11
    }
   ],
   "cell_type": "code",
   "source": [
    "DA_RT_sequence = SimulationSequence(\n",
    "    step_resolution = Hour(24),\n",
    "    order = order,\n",
    "    horizons = horizons,\n",
    "    intervals = intervals,\n",
    "    ini_cond_chronology = InterStageChronology(),\n",
    "    feedforward_chronologies = feedforward_chronologies,\n",
    "    feedforward = feedforward,\n",
    "    cache = cache,\n",
    ")"
   ],
   "metadata": {},
   "execution_count": 11
  },
  {
   "cell_type": "markdown",
   "source": [
    "## `Simulation`\n",
    "Now, we can build and execute a simulation using the `SimulationSequence` and `Stage`s\n",
    "that we've defined."
   ],
   "metadata": {}
  },
  {
   "outputs": [
    {
     "output_type": "execute_result",
     "data": {
      "text/plain": "Simulation()\n"
     },
     "metadata": {},
     "execution_count": 12
    }
   ],
   "cell_type": "code",
   "source": [
    "sim = Simulation(\n",
    "    name = \"rts-test\",\n",
    "    steps = 1,\n",
    "    stages = stages_definition,\n",
    "    stages_sequence = DA_RT_sequence,\n",
    "    simulation_folder = rts_dir,\n",
    ")"
   ],
   "metadata": {},
   "execution_count": 12
  },
  {
   "cell_type": "markdown",
   "source": [
    "### Build simulation"
   ],
   "metadata": {}
  },
  {
   "outputs": [],
   "cell_type": "code",
   "source": [
    "build!(sim)"
   ],
   "metadata": {},
   "execution_count": 13
  },
  {
   "cell_type": "markdown",
   "source": [
    "### Execute simulation"
   ],
   "metadata": {}
  },
  {
   "outputs": [
    {
     "name": "stdout",
     "output_type": "stream",
     "text": [
      "Executing Step 1\n",
      "Welcome to the CBC MILP Solver \n",
      "Version: 2.10.3 \n",
      "Build Date: Oct  7 2019 \n",
      "\n",
      "command line - Cbc_C_Interface -ratioGap 0.5 -logLevel 1 -solve -quit (default strategy 1)\n",
      "ratioGap was changed from 0 to 0.5\n",
      "Continuous objective value is 1.09972e+06 - 0.33 seconds\n",
      "Cgl0003I 46 fixed, 0 tightened bounds, 1150 strengthened rows, 0 substitutions\n",
      "Cgl0003I 0 fixed, 0 tightened bounds, 48 strengthened rows, 0 substitutions\n",
      "Cgl0003I 0 fixed, 0 tightened bounds, 1104 strengthened rows, 0 substitutions\n",
      "Cgl0003I 0 fixed, 0 tightened bounds, 1039 strengthened rows, 0 substitutions\n",
      "Cgl0003I 0 fixed, 0 tightened bounds, 934 strengthened rows, 0 substitutions\n",
      "Cgl0003I 0 fixed, 0 tightened bounds, 428 strengthened rows, 0 substitutions\n",
      "Cgl0003I 0 fixed, 0 tightened bounds, 406 strengthened rows, 0 substitutions\n",
      "Cgl0003I 0 fixed, 0 tightened bounds, 372 strengthened rows, 0 substitutions\n",
      "Cgl0003I 0 fixed, 0 tightened bounds, 361 strengthened rows, 0 substitutions\n",
      "Cgl0003I 0 fixed, 0 tightened bounds, 324 strengthened rows, 0 substitutions\n",
      "Cgl0004I processed model has 11687 rows, 23853 columns (5085 integer (5085 of which binary)) and 64410 elements\n",
      "Cbc0045I Trying just fixing integer variables (and fixingish SOS).\n",
      "Cbc0045I MIPStart solution provided values for 6456 of 5085 integer variables, 111 variables are still fractional.\n",
      "Cbc0038I Full problem 11687 rows 23853 columns, reduced to 11685 rows 23853 columns\n",
      "Cbc0038I Probing was tried 0 times and created 0 cuts of which 0 were active after adding rounds of cuts (0.000 seconds)\n",
      "Cbc0045I Mini branch and bound defined values for remaining variables in 6.98 seconds.\n",
      "Cbc0045I MIPStart provided solution with cost 1.119e+06\n",
      "Cbc0012I Integer solution of 1118996.6 found by Reduced search after 0 iterations and 0 nodes (10.17 seconds)\n",
      "Cbc0038I Full problem 11687 rows 23853 columns, reduced to 2192 rows 6238 columns\n",
      "Cbc0011I Exiting as integer gap of 19276.132 less than 1e-10 or 50%\n",
      "Cbc0001I Search completed - best objective 1118996.560103436, took 0 iterations and 0 nodes (10.61 seconds)\n",
      "Cbc0035I Maximum depth 0, 0 variables fixed on reduced cost\n",
      "Cuts at root node changed objective from 1.09972e+06 to 1.09972e+06\n",
      "Probing was tried 0 times and created 0 cuts of which 0 were active after adding rounds of cuts (0.000 seconds)\n",
      "Gomory was tried 0 times and created 0 cuts of which 0 were active after adding rounds of cuts (0.000 seconds)\n",
      "Knapsack was tried 0 times and created 0 cuts of which 0 were active after adding rounds of cuts (0.000 seconds)\n",
      "Clique was tried 0 times and created 0 cuts of which 0 were active after adding rounds of cuts (0.000 seconds)\n",
      "MixedIntegerRounding2 was tried 0 times and created 0 cuts of which 0 were active after adding rounds of cuts (0.000 seconds)\n",
      "FlowCover was tried 0 times and created 0 cuts of which 0 were active after adding rounds of cuts (0.000 seconds)\n",
      "TwoMirCuts was tried 0 times and created 0 cuts of which 0 were active after adding rounds of cuts (0.000 seconds)\n",
      "ZeroHalf was tried 0 times and created 0 cuts of which 0 were active after adding rounds of cuts (0.000 seconds)\n",
      "\n",
      "Result - Optimal solution found (within gap tolerance)\n",
      "\n",
      "Objective value:                1118996.56010344\n",
      "Lower bound:                    1099720.429\n",
      "Gap:                            0.02\n",
      "Enumerated nodes:               0\n",
      "Total iterations:               0\n",
      "Time (CPU seconds):             11.02\n",
      "Time (Wallclock seconds):       12.02\n",
      "\n",
      "Total time (CPU seconds):       11.02   (Wallclock seconds):       12.02\n",
      "\n",
      "Welcome to the CBC MILP Solver \n",
      "Version: 2.10.3 \n",
      "Build Date: Oct  7 2019 \n",
      "\n",
      "command line - Cbc_C_Interface -ratioGap 0.5 -logLevel 1 -solve -quit (default strategy 1)\n",
      "ratioGap was changed from 0 to 0.5\n",
      "Presolve 192 (-3120) rows, 673 (-4343) columns and 673 (-7643) elements\n",
      "Perturbing problem by 0.001% of 275.29435 - largest nonzero change 3.0098984e-05 ( 1.3113264e-05%) - largest zero change 0\n",
      "0  Obj 0 Primal inf 110.87981 (192)\n",
      "78  Obj 10895.209 Primal inf 43.799886 (114)\n",
      "156  Obj 16197.386 Primal inf 10.799964 (36)\n",
      "192  Obj 17841.109\n",
      "Optimal - objective value 17841.107\n",
      "After Postsolve, objective 17841.107, infeasibilities - dual 30584.785 (192), primal 0 (0)\n",
      "Presolved model was optimal, full model needs cleaning up\n",
      "0  Obj 17841.107\n",
      "Optimal - objective value 17841.107\n",
      "Optimal objective 17841.10739 - 192 iterations time 0.012, Presolve 0.00\n",
      "Total time (CPU seconds):       0.01   (Wallclock seconds):       0.01\n",
      "\n",
      "Welcome to the CBC MILP Solver \n",
      "Version: 2.10.3 \n",
      "Build Date: Oct  7 2019 \n",
      "\n",
      "command line - Cbc_C_Interface -ratioGap 0.5 -logLevel 1 -solve -quit (default strategy 1)\n",
      "ratioGap was changed from 0 to 0.5\n",
      "Presolve 192 (-3120) rows, 673 (-4343) columns and 673 (-7643) elements\n",
      "Perturbing problem by 0.001% of 275.29435 - largest nonzero change 3.0098984e-05 ( 1.3113264e-05%) - largest zero change 0\n",
      "0  Obj 0 Primal inf 110.87981 (192)\n",
      "78  Obj 10895.209 Primal inf 43.799886 (114)\n",
      "156  Obj 16197.386 Primal inf 10.799964 (36)\n",
      "192  Obj 17841.109\n",
      "Optimal - objective value 17841.107\n",
      "After Postsolve, objective 17841.107, infeasibilities - dual 30584.785 (192), primal 0 (0)\n",
      "Presolved model was optimal, full model needs cleaning up\n",
      "0  Obj 17841.107\n",
      "Optimal - objective value 17841.107\n",
      "Optimal objective 17841.10739 - 192 iterations time 0.012, Presolve 0.00\n",
      "Total time (CPU seconds):       0.01   (Wallclock seconds):       0.01\n",
      "\n",
      "Welcome to the CBC MILP Solver \n",
      "Version: 2.10.3 \n",
      "Build Date: Oct  7 2019 \n",
      "\n",
      "command line - Cbc_C_Interface -ratioGap 0.5 -logLevel 1 -solve -quit (default strategy 1)\n",
      "ratioGap was changed from 0 to 0.5\n",
      "Presolve 192 (-3120) rows, 673 (-4343) columns and 673 (-7643) elements\n",
      "Perturbing problem by 0.001% of 275.29435 - largest nonzero change 3.0098984e-05 ( 1.3113264e-05%) - largest zero change 0\n",
      "0  Obj 0 Primal inf 110.87981 (192)\n",
      "78  Obj 10895.209 Primal inf 43.799886 (114)\n",
      "156  Obj 16197.386 Primal inf 10.799964 (36)\n",
      "192  Obj 17841.109\n",
      "Optimal - objective value 17841.107\n",
      "After Postsolve, objective 17841.107, infeasibilities - dual 30584.785 (192), primal 0 (0)\n",
      "Presolved model was optimal, full model needs cleaning up\n",
      "0  Obj 17841.107\n",
      "Optimal - objective value 17841.107\n",
      "Optimal objective 17841.10739 - 192 iterations time 0.012, Presolve 0.00\n",
      "Total time (CPU seconds):       0.01   (Wallclock seconds):       0.01\n",
      "\n",
      "Welcome to the CBC MILP Solver \n",
      "Version: 2.10.3 \n",
      "Build Date: Oct  7 2019 \n",
      "\n",
      "command line - Cbc_C_Interface -ratioGap 0.5 -logLevel 1 -solve -quit (default strategy 1)\n",
      "ratioGap was changed from 0 to 0.5\n",
      "Presolve 192 (-3120) rows, 673 (-4343) columns and 673 (-7643) elements\n",
      "Perturbing problem by 0.001% of 275.29435 - largest nonzero change 3.0098984e-05 ( 1.3113264e-05%) - largest zero change 0\n",
      "0  Obj 0 Primal inf 110.87981 (192)\n",
      "78  Obj 10895.209 Primal inf 43.799886 (114)\n",
      "156  Obj 16197.386 Primal inf 10.799964 (36)\n",
      "192  Obj 17841.109\n",
      "Optimal - objective value 17841.107\n",
      "After Postsolve, objective 17841.107, infeasibilities - dual 30584.785 (192), primal 0 (0)\n",
      "Presolved model was optimal, full model needs cleaning up\n",
      "0  Obj 17841.107\n",
      "Optimal - objective value 17841.107\n",
      "Optimal objective 17841.10739 - 192 iterations time 0.012, Presolve 0.00\n",
      "Total time (CPU seconds):       0.01   (Wallclock seconds):       0.01\n",
      "\n",
      "Welcome to the CBC MILP Solver \n",
      "Version: 2.10.3 \n",
      "Build Date: Oct  7 2019 \n",
      "\n",
      "command line - Cbc_C_Interface -ratioGap 0.5 -logLevel 1 -solve -quit (default strategy 1)\n",
      "ratioGap was changed from 0 to 0.5\n",
      "Presolve 192 (-3120) rows, 673 (-4343) columns and 673 (-7643) elements\n",
      "Perturbing problem by 0.001% of 275.29435 - largest nonzero change 3.0098984e-05 ( 1.3113264e-05%) - largest zero change 0\n",
      "0  Obj 0 Primal inf 110.87981 (192)\n",
      "78  Obj 10895.209 Primal inf 43.799886 (114)\n",
      "156  Obj 16197.386 Primal inf 10.799964 (36)\n",
      "192  Obj 17841.109\n",
      "Optimal - objective value 17841.107\n",
      "After Postsolve, objective 17841.107, infeasibilities - dual 30584.785 (192), primal 0 (0)\n",
      "Presolved model was optimal, full model needs cleaning up\n",
      "0  Obj 17841.107\n",
      "Optimal - objective value 17841.107\n",
      "Optimal objective 17841.10739 - 192 iterations time 0.012, Presolve 0.00\n",
      "Total time (CPU seconds):       0.01   (Wallclock seconds):       0.01\n",
      "\n",
      "Welcome to the CBC MILP Solver \n",
      "Version: 2.10.3 \n",
      "Build Date: Oct  7 2019 \n",
      "\n",
      "command line - Cbc_C_Interface -ratioGap 0.5 -logLevel 1 -solve -quit (default strategy 1)\n",
      "ratioGap was changed from 0 to 0.5\n",
      "Presolve 204 (-3108) rows, 721 (-4295) columns and 721 (-7595) elements\n",
      "Perturbing problem by 0.001% of 275.29435 - largest nonzero change 3.0472167e-05 ( 1.3113264e-05%) - largest zero change 0\n",
      "0  Obj 0 Primal inf 113.5198 (204)\n",
      "79  Obj 11032.611 Primal inf 45.819875 (125)\n",
      "158  Obj 16349.398 Primal inf 12.839954 (46)\n",
      "204  Obj 18354.479\n",
      "Optimal - objective value 18354.477\n",
      "After Postsolve, objective 18354.477, infeasibilities - dual 32918.283 (204), primal 0 (0)\n",
      "Presolved model was optimal, full model needs cleaning up\n",
      "0  Obj 18354.477\n",
      "Optimal - objective value 18354.477\n",
      "Optimal objective 18354.47699 - 204 iterations time 0.012, Presolve 0.00\n",
      "Total time (CPU seconds):       0.01   (Wallclock seconds):       0.01\n",
      "\n",
      "Welcome to the CBC MILP Solver \n",
      "Version: 2.10.3 \n",
      "Build Date: Oct  7 2019 \n",
      "\n",
      "command line - Cbc_C_Interface -ratioGap 0.5 -logLevel 1 -solve -quit (default strategy 1)\n",
      "ratioGap was changed from 0 to 0.5\n",
      "Presolve 216 (-3096) rows, 768 (-4248) columns and 768 (-7548) elements\n",
      "Perturbing problem by 0.001% of 878.06035 - largest nonzero change 9.6431411e-05 ( 1.7982675e-05%) - largest zero change 0\n",
      "0  Obj 0 Primal inf 114.47978 (216)\n",
      "79  Obj 10997.573 Primal inf 46.779863 (137)\n",
      "158  Obj 16398.755 Primal inf 13.799942 (58)\n",
      "216  Obj 19052.526\n",
      "Optimal - objective value 19052.523\n",
      "After Postsolve, objective 19052.523, infeasibilities - dual 41643.862 (216), primal 0 (0)\n",
      "Presolved model was optimal, full model needs cleaning up\n",
      "0  Obj 19052.523\n",
      "Optimal - objective value 19052.523\n",
      "Optimal objective 19052.52332 - 216 iterations time 0.012, Presolve 0.00\n",
      "Total time (CPU seconds):       0.01   (Wallclock seconds):       0.01\n",
      "\n",
      "Welcome to the CBC MILP Solver \n",
      "Version: 2.10.3 \n",
      "Build Date: Oct  7 2019 \n",
      "\n",
      "command line - Cbc_C_Interface -ratioGap 0.5 -logLevel 1 -solve -quit (default strategy 1)\n",
      "ratioGap was changed from 0 to 0.5\n",
      "Presolve 204 (-3108) rows, 720 (-4296) columns and 720 (-7596) elements\n",
      "Perturbing problem by 0.001% of 275.29435 - largest nonzero change 3.0227331e-05 ( 1.2965996e-05%) - largest zero change 0\n",
      "0  Obj 0 Primal inf 113.5198 (204)\n",
      "79  Obj 11032.611 Primal inf 45.819875 (125)\n",
      "158  Obj 16356.031 Primal inf 12.839954 (46)\n",
      "204  Obj 18354.479\n",
      "Optimal - objective value 18354.477\n",
      "After Postsolve, objective 18354.477, infeasibilities - dual 32918.283 (204), primal 0 (0)\n",
      "Presolved model was optimal, full model needs cleaning up\n",
      "0  Obj 18354.477\n",
      "Optimal - objective value 18354.477\n",
      "Optimal objective 18354.47699 - 204 iterations time 0.012, Presolve 0.00\n",
      "Total time (CPU seconds):       0.01   (Wallclock seconds):       0.01\n",
      "\n",
      "Welcome to the CBC MILP Solver \n",
      "Version: 2.10.3 \n",
      "Build Date: Oct  7 2019 \n",
      "\n",
      "command line - Cbc_C_Interface -ratioGap 0.5 -logLevel 1 -solve -quit (default strategy 1)\n",
      "ratioGap was changed from 0 to 0.5\n",
      "Presolve 192 (-3120) rows, 672 (-4344) columns and 672 (-7644) elements\n",
      "Perturbing problem by 0.001% of 275.29435 - largest nonzero change 3.0098984e-05 ( 1.3026813e-05%) - largest zero change 0\n",
      "0  Obj 0 Primal inf 110.87981 (192)\n",
      "78  Obj 10908.01 Primal inf 43.799886 (114)\n",
      "156  Obj 16197.386 Primal inf 10.799964 (36)\n",
      "192  Obj 17841.109\n",
      "Optimal - objective value 17841.107\n",
      "After Postsolve, objective 17841.107, infeasibilities - dual 30584.785 (192), primal 0 (0)\n",
      "Presolved model was optimal, full model needs cleaning up\n",
      "0  Obj 17841.107\n",
      "Optimal - objective value 17841.107\n",
      "Optimal objective 17841.10739 - 192 iterations time 0.012, Presolve 0.00\n",
      "Total time (CPU seconds):       0.01   (Wallclock seconds):       0.01\n",
      "\n",
      "Welcome to the CBC MILP Solver \n",
      "Version: 2.10.3 \n",
      "Build Date: Oct  7 2019 \n",
      "\n",
      "command line - Cbc_C_Interface -ratioGap 0.5 -logLevel 1 -solve -quit (default strategy 1)\n",
      "ratioGap was changed from 0 to 0.5\n",
      "Presolve 192 (-3120) rows, 672 (-4344) columns and 672 (-7644) elements\n",
      "Perturbing problem by 0.001% of 275.29435 - largest nonzero change 3.0098984e-05 ( 1.3026813e-05%) - largest zero change 0\n",
      "0  Obj 0 Primal inf 110.87981 (192)\n",
      "78  Obj 10908.01 Primal inf 43.799886 (114)\n",
      "156  Obj 16197.386 Primal inf 10.799964 (36)\n",
      "192  Obj 17841.109\n",
      "Optimal - objective value 17841.107\n",
      "After Postsolve, objective 17841.107, infeasibilities - dual 30584.785 (192), primal 0 (0)\n",
      "Presolved model was optimal, full model needs cleaning up\n",
      "0  Obj 17841.107\n",
      "Optimal - objective value 17841.107\n",
      "Optimal objective 17841.10739 - 192 iterations time 0.012, Presolve 0.00\n",
      "Total time (CPU seconds):       0.01   (Wallclock seconds):       0.01\n",
      "\n",
      "Welcome to the CBC MILP Solver \n",
      "Version: 2.10.3 \n",
      "Build Date: Oct  7 2019 \n",
      "\n",
      "command line - Cbc_C_Interface -ratioGap 0.5 -logLevel 1 -solve -quit (default strategy 1)\n",
      "ratioGap was changed from 0 to 0.5\n",
      "Presolve 192 (-3120) rows, 672 (-4344) columns and 672 (-7644) elements\n",
      "Perturbing problem by 0.001% of 275.29435 - largest nonzero change 3.0098984e-05 ( 1.3026813e-05%) - largest zero change 0\n",
      "0  Obj 0 Primal inf 110.87981 (192)\n",
      "78  Obj 10908.01 Primal inf 43.799886 (114)\n",
      "156  Obj 16197.386 Primal inf 10.799964 (36)\n",
      "192  Obj 17841.109\n",
      "Optimal - objective value 17841.107\n",
      "After Postsolve, objective 17841.107, infeasibilities - dual 30584.785 (192), primal 0 (0)\n",
      "Presolved model was optimal, full model needs cleaning up\n",
      "0  Obj 17841.107\n",
      "Optimal - objective value 17841.107\n",
      "Optimal objective 17841.10739 - 192 iterations time 0.012, Presolve 0.00\n",
      "Total time (CPU seconds):       0.01   (Wallclock seconds):       0.01\n",
      "\n",
      "Welcome to the CBC MILP Solver \n",
      "Version: 2.10.3 \n",
      "Build Date: Oct  7 2019 \n",
      "\n",
      "command line - Cbc_C_Interface -ratioGap 0.5 -logLevel 1 -solve -quit (default strategy 1)\n",
      "ratioGap was changed from 0 to 0.5\n",
      "Presolve 196 (-3116) rows, 737 (-4279) columns and 801 (-7515) elements\n",
      "Perturbing problem by 0.001% of 275.29435 - largest nonzero change 3.0430128e-05 ( 1.3113264e-05%) - largest zero change 3.021794e-05\n",
      "0  Obj 0.00075914205 Primal inf 113.38951 (196)\n",
      "78  Obj 10397.206 Primal inf 51.952916 (124)\n",
      "156  Obj 15997.188 Primal inf 16.525697 (57)\n",
      "217  Obj 18175.415\n",
      "Optimal - objective value 18175.413\n",
      "After Postsolve, objective 18175.413, infeasibilities - dual 48029.641 (327), primal 0 (0)\n",
      "Presolved model was optimal, full model needs cleaning up\n",
      "0  Obj 18175.413\n",
      "Optimal - objective value 18175.413\n",
      "Optimal objective 18175.41289 - 217 iterations time 0.012, Presolve 0.00\n",
      "Total time (CPU seconds):       0.01   (Wallclock seconds):       0.01\n",
      "\n",
      "Welcome to the CBC MILP Solver \n",
      "Version: 2.10.3 \n",
      "Build Date: Oct  7 2019 \n",
      "\n",
      "command line - Cbc_C_Interface -ratioGap 0.5 -logLevel 1 -solve -quit (default strategy 1)\n",
      "ratioGap was changed from 0 to 0.5\n",
      "Presolve 204 (-3108) rows, 864 (-4152) columns and 1056 (-7260) elements\n",
      "Perturbing problem by 0.001% of 275.29435 - largest nonzero change 2.8475265e-05 ( 1.2860614e-05%) - largest zero change 2.8285383e-05\n",
      "0  Obj 0.00219612 Primal inf 148.89889 (204)\n",
      "79  Obj 4452.9989 Primal inf 158.14558 (176)\n",
      "158  Obj 16344.885 Primal inf 91.718968 (121)\n",
      "237  Obj 23435.93 Primal inf 36.378919 (55)\n",
      "297  Obj 23614.699\n",
      "Optimal - objective value 23614.694\n",
      "After Postsolve, objective 23614.694, infeasibilities - dual 94964.606 (588), primal 0 (0)\n",
      "Presolved model was optimal, full model needs cleaning up\n",
      "0  Obj 23614.694\n",
      "Optimal - objective value 23614.694\n",
      "Optimal objective 23614.69371 - 297 iterations time 0.012, Presolve 0.00\n",
      "Total time (CPU seconds):       0.01   (Wallclock seconds):       0.01\n",
      "\n",
      "Welcome to the CBC MILP Solver \n",
      "Version: 2.10.3 \n",
      "Build Date: Oct  7 2019 \n",
      "\n",
      "command line - Cbc_C_Interface -ratioGap 0.5 -logLevel 1 -solve -quit (default strategy 1)\n",
      "ratioGap was changed from 0 to 0.5\n",
      "Presolve 204 (-3108) rows, 864 (-4152) columns and 1056 (-7260) elements\n",
      "Perturbing problem by 0.001% of 275.29435 - largest nonzero change 2.8475265e-05 ( 1.2860614e-05%) - largest zero change 2.8285383e-05\n",
      "0  Obj 0.00219612 Primal inf 173.04949 (204)\n",
      "79  Obj 5788.4388 Primal inf 172.84258 (172)\n",
      "158  Obj 20026.925 Primal inf 113.27872 (127)\n",
      "237  Obj 26434.787 Primal inf 46.834117 (57)\n",
      "312  Obj 27618.977\n",
      "Optimal - objective value 27618.971\n",
      "After Postsolve, objective 27618.971, infeasibilities - dual 100407.16 (588), primal 0 (0)\n",
      "Presolved model was optimal, full model needs cleaning up\n",
      "0  Obj 27618.971\n",
      "Optimal - objective value 27618.971\n",
      "Optimal objective 27618.9706 - 312 iterations time 0.012, Presolve 0.00\n",
      "Total time (CPU seconds):       0.01   (Wallclock seconds):       0.01\n",
      "\n",
      "Welcome to the CBC MILP Solver \n",
      "Version: 2.10.3 \n",
      "Build Date: Oct  7 2019 \n",
      "\n",
      "command line - Cbc_C_Interface -ratioGap 0.5 -logLevel 1 -solve -quit (default strategy 1)\n",
      "ratioGap was changed from 0 to 0.5\n",
      "Presolve 204 (-3108) rows, 864 (-4152) columns and 1056 (-7260) elements\n",
      "Perturbing problem by 0.001% of 275.29435 - largest nonzero change 2.8475265e-05 ( 1.2860614e-05%) - largest zero change 2.8285383e-05\n",
      "0  Obj 0.00219612 Primal inf 180.96334 (204)\n",
      "79  Obj 5586.9099 Primal inf 181.54029 (174)\n",
      "158  Obj 20595.36 Primal inf 118.96435 (121)\n",
      "237  Obj 27309.012 Primal inf 48.203528 (60)\n",
      "316  Obj 28964.937\n",
      "Optimal - objective value 28964.931\n",
      "After Postsolve, objective 28964.931, infeasibilities - dual 101779.67 (588), primal 0 (0)\n",
      "Presolved model was optimal, full model needs cleaning up\n",
      "0  Obj 28964.931\n",
      "Optimal - objective value 28964.931\n",
      "Optimal objective 28964.93115 - 316 iterations time 0.012, Presolve 0.00\n",
      "Total time (CPU seconds):       0.01   (Wallclock seconds):       0.01\n",
      "\n",
      "Welcome to the CBC MILP Solver \n",
      "Version: 2.10.3 \n",
      "Build Date: Oct  7 2019 \n",
      "\n",
      "command line - Cbc_C_Interface -ratioGap 0.5 -logLevel 1 -solve -quit (default strategy 1)\n",
      "ratioGap was changed from 0 to 0.5\n",
      "Presolve 216 (-3096) rows, 912 (-4104) columns and 1116 (-7200) elements\n",
      "Perturbing problem by 0.001% of 275.29435 - largest nonzero change 3.0948699e-05 ( 1.2860614e-05%) - largest zero change 3.0828844e-05\n",
      "0  Obj 827.82525 Primal inf 205.9922 (216)\n",
      "79  Obj 8557.1971 Primal inf 194.55183 (182)\n",
      "158  Obj 24293.816 Primal inf 121.45431 (128)\n",
      "237  Obj 30984.404 Primal inf 51.520905 (72)\n",
      "316  Obj 34455.044 Primal inf 7.4927557 (17)\n",
      "337  Obj 34465.486\n",
      "Optimal - objective value 34465.478\n",
      "After Postsolve, objective 34465.478, infeasibilities - dual 103339.14 (588), primal 0 (0)\n",
      "Presolved model was optimal, full model needs cleaning up\n",
      "0  Obj 34465.478\n",
      "Optimal - objective value 34465.478\n",
      "Optimal objective 34465.47827 - 337 iterations time 0.012, Presolve 0.00\n",
      "Total time (CPU seconds):       0.01   (Wallclock seconds):       0.01\n",
      "\n",
      "Welcome to the CBC MILP Solver \n",
      "Version: 2.10.3 \n",
      "Build Date: Oct  7 2019 \n",
      "\n",
      "command line - Cbc_C_Interface -ratioGap 0.5 -logLevel 1 -solve -quit (default strategy 1)\n",
      "ratioGap was changed from 0 to 0.5\n",
      "Presolve 252 (-3060) rows, 1092 (-3924) columns and 1332 (-6984) elements\n",
      "Perturbing problem by 0.001% of 301.0328 - largest nonzero change 3.2084216e-05 ( 1.327102e-05%) - largest zero change 3.2051146e-05\n",
      "0  Obj 827.82671 Primal inf 291.61349 (252)\n",
      "80  Obj 12644.309 Primal inf 280.10542 (216)\n",
      "160  Obj 27275.024 Primal inf 171.87644 (156)\n",
      "240  Obj 40352.118 Primal inf 92.611502 (109)\n",
      "320  Obj 47869.181 Primal inf 32.055581 (47)\n",
      "382  Obj 48922.875\n",
      "Optimal - objective value 48922.864\n",
      "After Postsolve, objective 48922.864, infeasibilities - dual 69172.642 (385), primal 0 (0)\n",
      "Presolved model was optimal, full model needs cleaning up\n",
      "0  Obj 48922.864\n",
      "Optimal - objective value 48922.864\n",
      "Optimal objective 48922.86384 - 382 iterations time 0.012, Presolve 0.00\n",
      "Total time (CPU seconds):       0.01   (Wallclock seconds):       0.01\n",
      "\n",
      "Welcome to the CBC MILP Solver \n",
      "Version: 2.10.3 \n",
      "Build Date: Oct  7 2019 \n",
      "\n",
      "command line - Cbc_C_Interface -ratioGap 0.5 -logLevel 1 -solve -quit (default strategy 1)\n",
      "ratioGap was changed from 0 to 0.5\n",
      "Presolve 288 (-3024) rows, 1272 (-3744) columns and 1548 (-6768) elements\n",
      "Perturbing problem by 0.001% of 892.80824 - largest nonzero change 9.7657937e-05 ( 1.8378076e-05%) - largest zero change 9.7330404e-05\n",
      "0  Obj 827.83606 Primal inf 342.92802 (288)\n",
      "80  Obj 13724.212 Primal inf 298.67987 (242)\n",
      "160  Obj 33204.295 Primal inf 187.05371 (203)\n",
      "240  Obj 45801.899 Primal inf 102.71747 (155)\n",
      "320  Obj 54680.854 Primal inf 47.668157 (83)\n",
      "400  Obj 58096.813 Primal inf 7.0722695 (28)\n",
      "432  Obj 59871.659\n",
      "Optimal - objective value 59871.628\n",
      "After Postsolve, objective 59871.628, infeasibilities - dual 55709.391 (288), primal 0 (0)\n",
      "Presolved model was optimal, full model needs cleaning up\n",
      "0  Obj 59871.628\n",
      "Optimal - objective value 59871.628\n",
      "Optimal objective 59871.62765 - 432 iterations time 0.012, Presolve 0.00\n",
      "Total time (CPU seconds):       0.01   (Wallclock seconds):       0.01\n",
      "\n",
      "Welcome to the CBC MILP Solver \n",
      "Version: 2.10.3 \n",
      "Build Date: Oct  7 2019 \n",
      "\n",
      "command line - Cbc_C_Interface -ratioGap 0.5 -logLevel 1 -solve -quit (default strategy 1)\n",
      "ratioGap was changed from 0 to 0.5\n",
      "Presolve 264 (-3048) rows, 1155 (-3861) columns and 1407 (-6909) elements\n",
      "Perturbing problem by 0.001% of 364.52406 - largest nonzero change 4.088209e-05 ( 1.3763107e-05%) - largest zero change 4.0841327e-05\n",
      "0  Obj 827.82807 Primal inf 339.1342 (264)\n",
      "80  Obj 13717.219 Primal inf 330.32175 (226)\n",
      "160  Obj 34747.347 Primal inf 178.36962 (171)\n",
      "240  Obj 46473.08 Primal inf 89.350425 (124)\n",
      "320  Obj 56277.823 Primal inf 41.770025 (49)\n",
      "389  Obj 57940.701\n",
      "Optimal - objective value 57940.686\n",
      "After Postsolve, objective 57940.686, infeasibilities - dual 55462.313 (288), primal 0 (0)\n",
      "Presolved model was optimal, full model needs cleaning up\n",
      "0  Obj 57940.686\n",
      "Optimal - objective value 57940.686\n",
      "Optimal objective 57940.68579 - 389 iterations time 0.012, Presolve 0.00\n",
      "Total time (CPU seconds):       0.01   (Wallclock seconds):       0.01\n",
      "\n",
      "Welcome to the CBC MILP Solver \n",
      "Version: 2.10.3 \n",
      "Build Date: Oct  7 2019 \n",
      "\n",
      "command line - Cbc_C_Interface -ratioGap 0.5 -logLevel 1 -solve -quit (default strategy 1)\n",
      "ratioGap was changed from 0 to 0.5\n",
      "Presolve 264 (-3048) rows, 1153 (-3863) columns and 1405 (-6911) elements\n",
      "Perturbing problem by 0.001% of 878.06035 - largest nonzero change 9.6554028e-05 ( 1.8194211e-05%) - largest zero change 9.5884587e-05\n",
      "0  Obj 827.83469 Primal inf 316.84811 (264)\n",
      "80  Obj 19088.831 Primal inf 256.88183 (218)\n",
      "160  Obj 37200.221 Primal inf 150.31207 (156)\n",
      "240  Obj 48084.634 Primal inf 67.671119 (97)\n",
      "320  Obj 54868.428 Primal inf 22.802083 (34)\n",
      "358  Obj 55880.588\n",
      "Optimal - objective value 55880.559\n",
      "After Postsolve, objective 55880.559, infeasibilities - dual 55871.746 (288), primal 0 (0)\n",
      "Presolved model was optimal, full model needs cleaning up\n",
      "0  Obj 55880.559\n",
      "Optimal - objective value 55880.559\n",
      "Optimal objective 55880.55946 - 358 iterations time 0.012, Presolve 0.00\n",
      "Total time (CPU seconds):       0.01   (Wallclock seconds):       0.01\n",
      "\n",
      "Welcome to the CBC MILP Solver \n",
      "Version: 2.10.3 \n",
      "Build Date: Oct  7 2019 \n",
      "\n",
      "command line - Cbc_C_Interface -ratioGap 0.5 -logLevel 1 -solve -quit (default strategy 1)\n",
      "ratioGap was changed from 0 to 0.5\n",
      "Presolve 204 (-3108) rows, 877 (-4139) columns and 1069 (-7247) elements\n",
      "Perturbing problem by 0.001% of 301.0328 - largest nonzero change 3.3303458e-05 ( 1.3335254e-05%) - largest zero change 3.2943149e-05\n",
      "0  Obj 827.82601 Primal inf 286.19437 (204)\n",
      "79  Obj 16979.427 Primal inf 254.31819 (166)\n",
      "158  Obj 36808.916 Primal inf 110.88303 (109)\n",
      "237  Obj 46932.943 Primal inf 39.288512 (45)\n",
      "286  Obj 49755.791\n",
      "Optimal - objective value 49755.78\n",
      "After Postsolve, objective 49755.78, infeasibilities - dual 56027.986 (288), primal 0 (0)\n",
      "Presolved model was optimal, full model needs cleaning up\n",
      "0  Obj 49755.78\n",
      "Optimal - objective value 49755.78\n",
      "Optimal objective 49755.77972 - 286 iterations time 0.012, Presolve 0.00\n",
      "Total time (CPU seconds):       0.01   (Wallclock seconds):       0.01\n",
      "\n",
      "Welcome to the CBC MILP Solver \n",
      "Version: 2.10.3 \n",
      "Build Date: Oct  7 2019 \n",
      "\n",
      "command line - Cbc_C_Interface -ratioGap 0.5 -logLevel 1 -solve -quit (default strategy 1)\n",
      "ratioGap was changed from 0 to 0.5\n",
      "Presolve 192 (-3120) rows, 816 (-4200) columns and 996 (-7320) elements\n",
      "Perturbing problem by 0.001% of 301.0328 - largest nonzero change 3.3279764e-05 ( 1.327102e-05%) - largest zero change 3.2943149e-05\n",
      "0  Obj 827.82586 Primal inf 250.08021 (192)\n",
      "78  Obj 17157.438 Primal inf 206.00426 (149)\n",
      "156  Obj 36184.767 Primal inf 77.254455 (84)\n",
      "234  Obj 43162.891 Primal inf 5.5925194 (10)\n",
      "247  Obj 43172.19\n",
      "Optimal - objective value 43172.18\n",
      "After Postsolve, objective 43172.18, infeasibilities - dual 54730.441 (288), primal 0 (0)\n",
      "Presolved model was optimal, full model needs cleaning up\n",
      "0  Obj 43172.18\n",
      "Optimal - objective value 43172.18\n",
      "Optimal objective 43172.18034 - 247 iterations time 0.012, Presolve 0.00\n",
      "Total time (CPU seconds):       0.01   (Wallclock seconds):       0.01\n",
      "\n",
      "Welcome to the CBC MILP Solver \n",
      "Version: 2.10.3 \n",
      "Build Date: Oct  7 2019 \n",
      "\n",
      "command line - Cbc_C_Interface -ratioGap 0.5 -logLevel 1 -solve -quit (default strategy 1)\n",
      "ratioGap was changed from 0 to 0.5\n",
      "Presolve 168 (-3144) rows, 708 (-4308) columns and 864 (-7452) elements\n",
      "Perturbing problem by 0.001% of 301.0328 - largest nonzero change 3.3279764e-05 ( 1.2783425e-05%) - largest zero change 3.2943149e-05\n",
      "0  Obj 827.82542 Primal inf 236.36625 (168)\n",
      "78  Obj 22472.227 Primal inf 151.86291 (121)\n",
      "156  Obj 37047.843 Primal inf 48.075533 (59)\n",
      "214  Obj 41494.543\n",
      "Optimal - objective value 41494.534\n",
      "After Postsolve, objective 41494.534, infeasibilities - dual 58490.683 (288), primal 0 (0)\n",
      "Presolved model was optimal, full model needs cleaning up\n",
      "0  Obj 41494.534\n",
      "Optimal - objective value 41494.534\n",
      "Optimal objective 41494.53388 - 214 iterations time 0.012, Presolve 0.00\n",
      "Total time (CPU seconds):       0.01   (Wallclock seconds):       0.01\n",
      "\n",
      "Welcome to the CBC MILP Solver \n",
      "Version: 2.10.3 \n",
      "Build Date: Oct  7 2019 \n",
      "\n",
      "command line - Cbc_C_Interface -ratioGap 0.5 -logLevel 1 -solve -quit (default strategy 1)\n",
      "ratioGap was changed from 0 to 0.5\n",
      "Presolve 156 (-3156) rows, 660 (-4356) columns and 804 (-7512) elements\n",
      "Perturbing problem by 0.001% of 301.0328 - largest nonzero change 3.2148362e-05 ( 1.3073088e-05%) - largest zero change 3.2099551e-05\n",
      "0  Obj 0.0024413301 Primal inf 201.05558 (156)\n",
      "78  Obj 18258.319 Primal inf 114.02449 (103)\n",
      "156  Obj 31835.189 Primal inf 25.679364 (34)\n",
      "189  Obj 33892.419\n",
      "Optimal - objective value 33892.411\n",
      "After Postsolve, objective 33892.411, infeasibilities - dual 56154.232 (287), primal 0 (0)\n",
      "Presolved model was optimal, full model needs cleaning up\n",
      "0  Obj 33892.411\n",
      "Optimal - objective value 33892.411\n",
      "Optimal objective 33892.41145 - 189 iterations time 0.012, Presolve 0.00\n",
      "Total time (CPU seconds):       0.01   (Wallclock seconds):       0.01\n",
      "\n"
     ]
    },
    {
     "output_type": "execute_result",
     "data": {
      "text/plain": "Simulation Results Reference\n\nResults Folder: /Users/cbarrows/Documents/repos/SIIPExamples.jl/RTS-GMLC-master/rts-test/4/results\n\nReference Tables\n\nstage-UC\n\nFlex_Up__PowerSystems.VariableReserve{PowerSystems.ReserveUp}: dataframe size (1, 3)\n\nparameter_P_PowerSystems.PowerLoad: dataframe size (1, 3)\n\nparameter_P_PowerSystems.RenewableDispatch: dataframe size (1, 3)\n\nSpin_Up_R1__PowerSystems.VariableReserve{PowerSystems.ReserveUp}: dataframe size (1, 3)\n\nparameter_service_requirement_PowerSystems.VariableReserve{PowerSystems.ReserveUp}: dataframe size (1, 3)\n\nSpin_Up_R3__PowerSystems.VariableReserve{PowerSystems.ReserveUp}: dataframe size (1, 3)\n\nparameter_P_PowerSystems.RenewableFix: dataframe size (1, 3)\n\nSpin_Up_R2__PowerSystems.VariableReserve{PowerSystems.ReserveUp}: dataframe size (1, 3)\n\nFlex_Down__PowerSystems.VariableReserve{PowerSystems.ReserveDown}: dataframe size (1, 3)\n\nStop__PowerSystems.ThermalStandard: dataframe size (1, 3)\n\nP__PowerSystems.ThermalStandard: dataframe size (1, 3)\n\nP__PowerSystems.RenewableDispatch: dataframe size (1, 3)\n\nReg_Up__PowerSystems.VariableReserve{PowerSystems.ReserveUp}: dataframe size (1, 3)\n\nP__PowerSystems.HydroDispatch: dataframe size (1, 3)\n\nOn__PowerSystems.ThermalStandard: dataframe size (1, 3)\n\nReg_Down__PowerSystems.VariableReserve{PowerSystems.ReserveDown}: dataframe size (1, 3)\n\nparameter_P_PowerSystems.HydroDispatch: dataframe size (1, 3)\n\nStart__PowerSystems.ThermalStandard: dataframe size (1, 3)\n\nparameter_service_requirement_PowerSystems.VariableReserve{PowerSystems.ReserveDown}: dataframe size (1, 3)\n\nstage-ED\n\nparameter_P_PowerSystems.RenewableFix: dataframe size (24, 3)\n\nP__PowerSystems.HydroDispatch: dataframe size (24, 3)\n\nparameter_P_PowerSystems.PowerLoad: dataframe size (24, 3)\n\nparameter_P_PowerSystems.RenewableDispatch: dataframe size (24, 3)\n\nP__PowerSystems.ThermalStandard: dataframe size (24, 3)\n\nP__PowerSystems.RenewableDispatch: dataframe size (24, 3)\n\nparameter_P_PowerSystems.HydroDispatch: dataframe size (24, 3)\n\nstage-UC\n\ntime length: 24\n\nstage-ED\n\ntime length: 12\n\n",
      "text/html": [
       "<h1>Simulation Results Reference</h1>\n",
       "<p><b>Results Folder:</b> /Users/cbarrows/Documents/repos/SIIPExamples.jl/RTS-GMLC-master/rts-test/4/results</p>\n",
       "<h2>Reference Tables</h2>\n",
       "<p><b>stage-UC</b></p>\n",
       "<p>Flex_Up__PowerSystems.VariableReserve{PowerSystems.ReserveUp}: dataframe size (1, 3)</p>\n",
       "<p>parameter_P_PowerSystems.PowerLoad: dataframe size (1, 3)</p>\n",
       "<p>parameter_P_PowerSystems.RenewableDispatch: dataframe size (1, 3)</p>\n",
       "<p>Spin_Up_R1__PowerSystems.VariableReserve{PowerSystems.ReserveUp}: dataframe size (1, 3)</p>\n",
       "<p>parameter_service_requirement_PowerSystems.VariableReserve{PowerSystems.ReserveUp}: dataframe size (1, 3)</p>\n",
       "<p>Spin_Up_R3__PowerSystems.VariableReserve{PowerSystems.ReserveUp}: dataframe size (1, 3)</p>\n",
       "<p>parameter_P_PowerSystems.RenewableFix: dataframe size (1, 3)</p>\n",
       "<p>Spin_Up_R2__PowerSystems.VariableReserve{PowerSystems.ReserveUp}: dataframe size (1, 3)</p>\n",
       "<p>Flex_Down__PowerSystems.VariableReserve{PowerSystems.ReserveDown}: dataframe size (1, 3)</p>\n",
       "<p>Stop__PowerSystems.ThermalStandard: dataframe size (1, 3)</p>\n",
       "<p>P__PowerSystems.ThermalStandard: dataframe size (1, 3)</p>\n",
       "<p>P__PowerSystems.RenewableDispatch: dataframe size (1, 3)</p>\n",
       "<p>Reg_Up__PowerSystems.VariableReserve{PowerSystems.ReserveUp}: dataframe size (1, 3)</p>\n",
       "<p>P__PowerSystems.HydroDispatch: dataframe size (1, 3)</p>\n",
       "<p>On__PowerSystems.ThermalStandard: dataframe size (1, 3)</p>\n",
       "<p>Reg_Down__PowerSystems.VariableReserve{PowerSystems.ReserveDown}: dataframe size (1, 3)</p>\n",
       "<p>parameter_P_PowerSystems.HydroDispatch: dataframe size (1, 3)</p>\n",
       "<p>Start__PowerSystems.ThermalStandard: dataframe size (1, 3)</p>\n",
       "<p>parameter_service_requirement_PowerSystems.VariableReserve{PowerSystems.ReserveDown}: dataframe size (1, 3)</p>\n",
       "<p><b>stage-ED</b></p>\n",
       "<p>parameter_P_PowerSystems.RenewableFix: dataframe size (24, 3)</p>\n",
       "<p>P__PowerSystems.HydroDispatch: dataframe size (24, 3)</p>\n",
       "<p>parameter_P_PowerSystems.PowerLoad: dataframe size (24, 3)</p>\n",
       "<p>parameter_P_PowerSystems.RenewableDispatch: dataframe size (24, 3)</p>\n",
       "<p>P__PowerSystems.ThermalStandard: dataframe size (24, 3)</p>\n",
       "<p>P__PowerSystems.RenewableDispatch: dataframe size (24, 3)</p>\n",
       "<p>parameter_P_PowerSystems.HydroDispatch: dataframe size (24, 3)</p>\n",
       "<p><b>stage-UC</b></p>\n",
       "<p>time length: 24</p>\n",
       "<p><b>stage-ED</b></p>\n",
       "<p>time length: 12</p>\n"
      ]
     },
     "metadata": {},
     "execution_count": 14
    }
   ],
   "cell_type": "code",
   "source": [
    "sim_results = execute!(sim)"
   ],
   "metadata": {},
   "execution_count": 14
  },
  {
   "cell_type": "markdown",
   "source": [
    "## Results"
   ],
   "metadata": {}
  },
  {
   "outputs": [],
   "cell_type": "code",
   "source": [
    "uc_results = load_simulation_results(sim_results, \"UC\");\n",
    "ed_results = load_simulation_results(sim_results, \"ED\");"
   ],
   "metadata": {},
   "execution_count": 15
  },
  {
   "cell_type": "markdown",
   "source": [
    "## Plotting\n",
    "Take a look at the examples in [the plotting folder.](../../notebook/PowerSimulations_examples/Plotting)"
   ],
   "metadata": {}
  },
  {
   "cell_type": "markdown",
   "source": [
    "---\n",
    "\n",
    "*This notebook was generated using [Literate.jl](https://github.com/fredrikekre/Literate.jl).*"
   ],
   "metadata": {}
  }
 ],
 "nbformat_minor": 3,
 "metadata": {
  "language_info": {
   "file_extension": ".jl",
   "mimetype": "application/julia",
   "name": "julia",
   "version": "1.3.1"
  },
  "kernelspec": {
   "name": "julia-1.3",
   "display_name": "Julia 1.3.1",
   "language": "julia"
  }
 },
 "nbformat": 4
}
