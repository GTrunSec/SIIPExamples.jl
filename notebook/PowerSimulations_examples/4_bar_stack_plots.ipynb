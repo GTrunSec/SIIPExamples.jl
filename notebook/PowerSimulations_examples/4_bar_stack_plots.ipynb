{
 "cells": [
  {
   "outputs": [],
   "cell_type": "markdown",
   "source": [
    "#Bar and stack plots with [PowerGraphics.jl](github.com/nrel-siip/PowerGraphics.jl)\n",
    "PowerGraphics also provides some basic specifications for plotting `SimulationResults`.\n",
    "This example demonstrates some simple plotting capabilities using different Plots.julia\n",
    "backends.\n",
    "\n",
    "The plotting capabilities use the Julia Plots package which can generate plots using\n",
    "several different graphics packages. We'll use GR.jl and PlotlyJS.jl.\n",
    "\n",
    "## Dependencies"
   ],
   "metadata": {}
  },
  {
   "outputs": [],
   "cell_type": "code",
   "source": [
    "using SIIPExamples #for path locations\n",
    "using PowerSimulations #to load results\n",
    "using PowerGraphics"
   ],
   "metadata": {},
   "execution_count": null
  },
  {
   "outputs": [],
   "cell_type": "markdown",
   "source": [
    "### Results file\n",
    "If you have already run some of the other examples, you should have generated some results.\n",
    "You can load the results into memory with:"
   ],
   "metadata": {}
  },
  {
   "outputs": [],
   "cell_type": "code",
   "source": [
    "pkgpath = dirname(dirname(pathof(SIIPExamples)))\n",
    "simulation_folder = joinpath(pkgpath, \"RTS-GMLC-master\", \"rts-test\")\n",
    "simulation_folder = joinpath(simulation_folder, readdir(simulation_folder)[end])\n",
    "res = load_simulation_results(simulation_folder, \"UC\")\n",
    "\n",
    "# Plots"
   ],
   "metadata": {},
   "execution_count": null
  },
  {
   "outputs": [],
   "cell_type": "markdown",
   "source": [
    "By default, PowerGraphics uses the GR graphics package as the backend for Plots.jl to\n",
    "generate figures. This creates static plots and should execute without any extra steps.\n",
    "For example, we can create a stacked bar_plot:"
   ],
   "metadata": {}
  },
  {
   "outputs": [],
   "cell_type": "code",
   "source": [
    "gr() # loads the GR backend\n",
    "bar_plot(res)"
   ],
   "metadata": {},
   "execution_count": null
  },
  {
   "outputs": [],
   "cell_type": "markdown",
   "source": [
    "However, interactive plotting can generate much more insightful figures, especially when\n",
    "creating somewhat complex stacked figures. So, we can use the PlotlyJS backend for Plots,\n",
    "but it requires that PlotlyJS.jl, and ORCA.jl (if in a notebook, WebIO.jl is required too)\n",
    "are installed in your Project.toml. To startup the PlotlyJS backend, run:"
   ],
   "metadata": {}
  },
  {
   "outputs": [],
   "cell_type": "code",
   "source": [
    "plotlyjs()"
   ],
   "metadata": {},
   "execution_count": null
  },
  {
   "outputs": [],
   "cell_type": "markdown",
   "source": [
    "Now we can create stacked bar plots that can be inspected interactively."
   ],
   "metadata": {}
  },
  {
   "outputs": [],
   "cell_type": "code",
   "source": [
    "bar_plot(res)"
   ],
   "metadata": {},
   "execution_count": null
  },
  {
   "outputs": [],
   "cell_type": "markdown",
   "source": [
    "Similarly, we can create a stack plot for any combination of variable to see the time\n",
    "series values."
   ],
   "metadata": {}
  },
  {
   "outputs": [],
   "cell_type": "code",
   "source": [
    "stack_plot(res, [:P__ThermalStandard,:P__RenewableDispatch])"
   ],
   "metadata": {},
   "execution_count": null
  },
  {
   "outputs": [],
   "cell_type": "markdown",
   "source": [
    "Or, we can create a series of stack plots for every variable in the dictionary:\n",
    "```julia\n",
    "stack_plot(res)\n",
    "```"
   ],
   "metadata": {}
  },
  {
   "outputs": [],
   "cell_type": "markdown",
   "source": [
    "---\n",
    "\n",
    "*This notebook was generated using [Literate.jl](https://github.com/fredrikekre/Literate.jl).*"
   ],
   "metadata": {}
  }
 ],
 "nbformat_minor": 3,
 "metadata": {
  "language_info": {
   "file_extension": ".jl",
   "mimetype": "application/julia",
   "name": "julia",
   "version": "1.3.1"
  },
  "kernelspec": {
   "name": "julia-1.3",
   "display_name": "Julia 1.3.1",
   "language": "julia"
  }
 },
 "nbformat": 4
}
