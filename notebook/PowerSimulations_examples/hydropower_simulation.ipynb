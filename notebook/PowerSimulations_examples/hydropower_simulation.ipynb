{
 "cells": [
  {
   "cell_type": "markdown",
   "metadata": {},
   "source": [
    "# Hydropower Simulations with [PowerSimulations.jl](https://github.com/NREL/PowerSimulations.jl)"
   ]
  },
  {
   "cell_type": "markdown",
   "metadata": {},
   "source": [
    "**Originally Contributed by**: Clayton Barrows and Sourabh Dalvi"
   ]
  },
  {
   "cell_type": "markdown",
   "metadata": {},
   "source": [
    "## Introduction"
   ]
  },
  {
   "cell_type": "markdown",
   "metadata": {},
   "source": [
    "PowerSimulations.jl supports simulations that consist of sequential optimization problems\n",
    "where results from previous problems inform subsequent problems in a variety of ways.\n",
    "This example demonstrates a few of the options for modeling hydropower generation."
   ]
  },
  {
   "cell_type": "markdown",
   "metadata": {},
   "source": [
    "## Dependencies"
   ]
  },
  {
   "cell_type": "code",
   "execution_count": 44,
   "metadata": {},
   "outputs": [
    {
     "data": {
      "text/plain": [
       "\"/Users/cbarrows/Documents/repos/Examples\""
      ]
     },
     "execution_count": 44,
     "metadata": {},
     "output_type": "execute_result"
    }
   ],
   "source": [
    "using SIIPExamples\n",
    "pkgpath = dirname(dirname(pathof(SIIPExamples)))"
   ]
  },
  {
   "cell_type": "markdown",
   "metadata": {},
   "source": [
    "### Modeling Packages"
   ]
  },
  {
   "cell_type": "code",
   "execution_count": null,
   "metadata": {},
   "outputs": [],
   "source": [
    "using InfrastructureSystems\n",
    "const IS = InfrastructureSystems\n",
    "using PowerSystems\n",
    "const PSY = PowerSystems\n",
    "using PowerSimulations\n",
    "const PSI = PowerSimulations\n",
    "using D3TypeTrees"
   ]
  },
  {
   "cell_type": "markdown",
   "metadata": {},
   "source": [
    "### Data management packages"
   ]
  },
  {
   "cell_type": "code",
   "execution_count": null,
   "metadata": {},
   "outputs": [],
   "source": [
    "using Dates\n",
    "using DataFrames"
   ]
  },
  {
   "cell_type": "markdown",
   "metadata": {},
   "source": [
    "### Optimization packages"
   ]
  },
  {
   "cell_type": "code",
   "execution_count": null,
   "metadata": {},
   "outputs": [],
   "source": [
    "using JuMP\n",
    "using Cbc # solver\n",
    "Cbc_optimizer = JuMP.with_optimizer(Cbc.Optimizer, logLevel = 1, ratioGap = 0.5)"
   ]
  },
  {
   "cell_type": "markdown",
   "metadata": {},
   "source": [
    "### Data\n",
    "There is a meaningless test dataset assembled in the\n",
    "[make_hydropower_data.jl](../../script/PowerSimulations_examples/make_hydro_data.jl) script."
   ]
  },
  {
   "cell_type": "code",
   "execution_count": 45,
   "metadata": {},
   "outputs": [
    {
     "name": "stderr",
     "output_type": "stream",
     "text": [
      "┌ Warning: Invalid range\n",
      "│   valid_info.struct_name = Bus\n",
      "│   field_name = voltage\n",
      "│   field_value = 1.07\n",
      "│   valid_range = voltagelimits\n",
      "│   valid_info.ist_struct = Bus(6, \"Bus 6\", PowerSystems.PV, -0.24818581963359368, 1.07, (min = 0.94, max = 1.06), 13.8, Dict{String,Any}(), InfrastructureSystems.InfrastructureSystemsInternal(UUID(\"72a7ac7f-6a97-4a9a-a86e-b9108f495129\"), nothing))\n",
      "└ @ InfrastructureSystems /Users/cbarrows/.julia/packages/InfrastructureSystems/Tjbyn/src/validation.jl:202\n",
      "┌ Warning: Invalid range\n",
      "│   valid_info.struct_name = Bus\n",
      "│   field_name = voltage\n",
      "│   field_value = 1.062\n",
      "│   valid_range = voltagelimits\n",
      "│   valid_info.ist_struct = Bus(7, \"Bus 7\", PowerSystems.PQ, -0.23335052099164186, 1.062, (min = 0.94, max = 1.06), 13.8, Dict{String,Any}(), InfrastructureSystems.InfrastructureSystemsInternal(UUID(\"3fd4e0bd-e71a-44ee-a1f8-97f06772cf47\"), nothing))\n",
      "└ @ InfrastructureSystems /Users/cbarrows/.julia/packages/InfrastructureSystems/Tjbyn/src/validation.jl:202\n",
      "┌ Warning: Invalid range\n",
      "│   valid_info.struct_name = Bus\n",
      "│   field_name = voltage\n",
      "│   field_value = 1.09\n",
      "│   valid_range = voltagelimits\n",
      "│   valid_info.ist_struct = Bus(8, \"Bus 8\", PowerSystems.PV, -0.2331759880664424, 1.09, (min = 0.94, max = 1.06), 18.0, Dict{String,Any}(), InfrastructureSystems.InfrastructureSystemsInternal(UUID(\"361fe9bb-b239-44a9-a2e8-e8b9428c64bb\"), nothing))\n",
      "└ @ InfrastructureSystems /Users/cbarrows/.julia/packages/InfrastructureSystems/Tjbyn/src/validation.jl:202\n",
      "┌ Warning: Invalid range\n",
      "│   valid_info.struct_name = ThermalStandard\n",
      "│   field_name = reactivepower\n",
      "│   field_value = -0.169\n",
      "│   valid_range = tech.reactivepowerlimits\n",
      "│   valid_info.ist_struct = ThermalStandard(\"Bus1\", true, Bus(1, \"Bus 1\", PowerSystems.REF, 0.0, 1.06, (min = 0.94, max = 1.06), 69.0, Dict{String,Any}(), InfrastructureSystems.InfrastructureSystemsInternal(UUID(\"e07f936b-b429-4325-9882-fc23b6a91bc3\"), nothing)), 2.0, -0.169, TechThermal(2.324, PowerSystems.ST, PowerSystems.COAL, (min = 0.0, max = 3.332), (min = 0.0, max = 0.1), nothing, nothing, InfrastructureSystems.InfrastructureSystemsInternal(UUID(\"d7487ca5-c1c3-4a94-be44-310041e2e5e3\"), nothing)), ThreePartCost(PowerSystems.VariableCost{Tuple{Float64,Float64}}((430.292599, 2000.0)), 0.0, 0.0, 0.0, InfrastructureSystems.Forecasts(Dict{InfrastructureSystems.ForecastKey,InfrastructureSystems.ForecastInternal}(), nothing), InfrastructureSystems.InfrastructureSystemsInternal(UUID(\"4fa2525f-dee1-4b25-955b-cbb2610375e1\"), nothing)), Service[], Dict{String,Any}(), InfrastructureSystems.Forecasts(Dict{InfrastructureSystems.ForecastKey,InfrastructureSystems.ForecastInternal}(), nothing), InfrastructureSystems.InfrastructureSystemsInternal(UUID(\"2dca2520-e6c2-404e-88c7-d112f50d2a3b\"), nothing))\n",
      "└ @ InfrastructureSystems /Users/cbarrows/.julia/packages/InfrastructureSystems/Tjbyn/src/validation.jl:202\n",
      "┌ Warning: Rate provided for Line(\"Line9\", true, 0.0, 0.0, Arc(Bus(6, \"Bus 6\", PowerSystems.PV, -0.24818581963359368, 1.07, (min = 0.94, max = 1.06), 13.8, Dict{String,Any}(), InfrastructureSystems.InfrastructureSystemsInternal(UUID(\"72a7ac7f-6a97-4a9a-a86e-b9108f495129\"), nothing)), Bus(12, \"Bus 12\", PowerSystems.PQ, -0.2630211182755455, 1.055, (min = 0.94, max = 1.06), 13.8, Dict{String,Any}(), InfrastructureSystems.InfrastructureSystemsInternal(UUID(\"9a3f2614-2c74-4e6a-84d6-1f25a381f35e\"), nothing)), InfrastructureSystems.InfrastructureSystemsInternal(UUID(\"acafcaf0-def0-4c65-a7b4-7a74c491cb3b\"), nothing)), 0.12291, 0.25581, (from = 0.0, to = 0.0), 2.02, (min = -1.04, max = 1.04), Service[], Dict{String,Any}(), InfrastructureSystems.Forecasts(Dict{InfrastructureSystems.ForecastKey,InfrastructureSystems.ForecastInternal}(), nothing), InfrastructureSystems.InfrastructureSystemsInternal(UUID(\"cd63604d-51ac-46a5-9229-88dd8d1bc043\"), nothing)) is 27.876, NaN times larger the expected SIL NaN in the range of (min = 12.0, max = 13.0).\n",
      "└ @ PowerSystems /Users/cbarrows/.julia/packages/PowerSystems/0r9L9/src/utils/IO/branchdata_checks.jl:156\n",
      "┌ Warning: Invalid range\n",
      "│   valid_info.struct_name = Bus\n",
      "│   field_name = voltage\n",
      "│   field_value = 1.07\n",
      "│   valid_range = voltagelimits\n",
      "│   valid_info.ist_struct = Bus(6, \"Bus 6\", PowerSystems.PV, -0.24818581963359368, 1.07, (min = 0.94, max = 1.06), 13.8, Dict{String,Any}(), InfrastructureSystems.InfrastructureSystemsInternal(UUID(\"3bc6c90b-3e58-474d-9d3b-afe7d38d7c36\"), nothing))\n",
      "└ @ InfrastructureSystems /Users/cbarrows/.julia/packages/InfrastructureSystems/Tjbyn/src/validation.jl:202\n",
      "┌ Warning: Invalid range\n",
      "│   valid_info.struct_name = Bus\n",
      "│   field_name = voltage\n",
      "│   field_value = 1.062\n",
      "│   valid_range = voltagelimits\n",
      "│   valid_info.ist_struct = Bus(7, \"Bus 7\", PowerSystems.PQ, -0.23335052099164186, 1.062, (min = 0.94, max = 1.06), 13.8, Dict{String,Any}(), InfrastructureSystems.InfrastructureSystemsInternal(UUID(\"a501d779-8bf6-4d99-83a8-b10b9cf000e0\"), nothing))\n",
      "└ @ InfrastructureSystems /Users/cbarrows/.julia/packages/InfrastructureSystems/Tjbyn/src/validation.jl:202\n",
      "┌ Warning: Invalid range\n",
      "│   valid_info.struct_name = Bus\n",
      "│   field_name = voltage\n",
      "│   field_value = 1.09\n",
      "│   valid_range = voltagelimits\n",
      "│   valid_info.ist_struct = Bus(8, \"Bus 8\", PowerSystems.PV, -0.2331759880664424, 1.09, (min = 0.94, max = 1.06), 18.0, Dict{String,Any}(), InfrastructureSystems.InfrastructureSystemsInternal(UUID(\"4a43f706-1d86-4e36-a657-66ee13465d90\"), nothing))\n",
      "└ @ InfrastructureSystems /Users/cbarrows/.julia/packages/InfrastructureSystems/Tjbyn/src/validation.jl:202\n",
      "┌ Warning: Invalid range\n",
      "│   valid_info.struct_name = ThermalStandard\n",
      "│   field_name = reactivepower\n",
      "│   field_value = -0.169\n",
      "│   valid_range = tech.reactivepowerlimits\n",
      "│   valid_info.ist_struct = ThermalStandard(\"Bus1\", true, Bus(1, \"Bus 1\", PowerSystems.REF, 0.0, 1.06, (min = 0.94, max = 1.06), 69.0, Dict{String,Any}(), InfrastructureSystems.InfrastructureSystemsInternal(UUID(\"fece8052-73e3-455e-ae2e-157f6fa7b09a\"), nothing)), 2.0, -0.169, TechThermal(2.324, PowerSystems.ST, PowerSystems.COAL, (min = 0.0, max = 3.332), (min = 0.0, max = 0.1), nothing, nothing, InfrastructureSystems.InfrastructureSystemsInternal(UUID(\"ec4d90ac-c343-4b97-b8fd-341d54f26d28\"), nothing)), ThreePartCost(PowerSystems.VariableCost{Tuple{Float64,Float64}}((430.292599, 2000.0)), 0.0, 0.0, 0.0, InfrastructureSystems.Forecasts(Dict{InfrastructureSystems.ForecastKey,InfrastructureSystems.ForecastInternal}(), nothing), InfrastructureSystems.InfrastructureSystemsInternal(UUID(\"79881a61-0dd2-4344-a032-923164b3bf35\"), nothing)), Service[], Dict{String,Any}(), InfrastructureSystems.Forecasts(Dict{InfrastructureSystems.ForecastKey,InfrastructureSystems.ForecastInternal}(), nothing), InfrastructureSystems.InfrastructureSystemsInternal(UUID(\"502b35c2-32a6-4844-bf6f-e7d9123acec6\"), nothing))\n",
      "└ @ InfrastructureSystems /Users/cbarrows/.julia/packages/InfrastructureSystems/Tjbyn/src/validation.jl:202\n",
      "┌ Warning: Rate provided for Line(\"Line9\", true, 0.0, 0.0, Arc(Bus(6, \"Bus 6\", PowerSystems.PV, -0.24818581963359368, 1.07, (min = 0.94, max = 1.06), 13.8, Dict{String,Any}(), InfrastructureSystems.InfrastructureSystemsInternal(UUID(\"3bc6c90b-3e58-474d-9d3b-afe7d38d7c36\"), nothing)), Bus(12, \"Bus 12\", PowerSystems.PQ, -0.2630211182755455, 1.055, (min = 0.94, max = 1.06), 13.8, Dict{String,Any}(), InfrastructureSystems.InfrastructureSystemsInternal(UUID(\"55687bd4-3307-4613-887c-9e77d33abc32\"), nothing)), InfrastructureSystems.InfrastructureSystemsInternal(UUID(\"2ab1526e-8450-41eb-91b3-1b988a86893a\"), nothing)), 0.12291, 0.25581, (from = 0.0, to = 0.0), 2.02, (min = -1.04, max = 1.04), Service[], Dict{String,Any}(), InfrastructureSystems.Forecasts(Dict{InfrastructureSystems.ForecastKey,InfrastructureSystems.ForecastInternal}(), nothing), InfrastructureSystems.InfrastructureSystemsInternal(UUID(\"bdd1fdd3-4631-4b80-a099-360145717e28\"), nothing)) is 27.876, NaN times larger the expected SIL NaN in the range of (min = 12.0, max = 13.0).\n",
      "└ @ PowerSystems /Users/cbarrows/.julia/packages/PowerSystems/0r9L9/src/utils/IO/branchdata_checks.jl:156\n"
     ]
    }
   ],
   "source": [
    "include(joinpath(pkgpath,\"script/PowerSimulations_examples/make_hydro_data.jl\"))"
   ]
  },
  {
   "cell_type": "markdown",
   "metadata": {},
   "source": [
    "## Two PowerSimulations features determine hydropower representation."
   ]
  },
  {
   "cell_type": "markdown",
   "metadata": {},
   "source": [
    "### Hydropower `DeviceModel`s"
   ]
  },
  {
   "cell_type": "markdown",
   "metadata": {},
   "source": [
    "First, the assignment of device formulations to particular device types gives us control\n",
    "over the representation of devices. This is accomplished by defining `DeviceModel`\n",
    "instances. For hydro power representations, we have two available generator types in\n",
    "PowerSystems:"
   ]
  },
  {
   "cell_type": "code",
   "execution_count": 42,
   "metadata": {},
   "outputs": [
    {
     "data": {
      "text/html": [
       "    <!DOCTYPE html>\n",
       "    <html>\n",
       "    <head>\n",
       "        <meta charset=\"UTF-8\">\n",
       "        <title>Julia D3Tree</title>\n",
       "    </head>\n",
       "    <body>\n",
       "    <div id=\"treevispEt0IUA5\">\n",
       "    <style>\n",
       "        \n",
       ".node {\n",
       "    cursor: pointer;\n",
       "}\n",
       "\n",
       ".node circle {\n",
       "\t  fill: #fff;\n",
       "\t  stroke: steelblue;\n",
       "\t  stroke-width: 3px;\n",
       "      r: 10;\n",
       "}\n",
       "\n",
       ".node rect {\n",
       "\t  fill: #fff;\n",
       "\t  stroke: steelblue;\n",
       "\t  stroke-width: 3px;\n",
       "      x: -10;\n",
       "      y: -10;\n",
       "      width: 20;\n",
       "      height: 20;\n",
       "}\n",
       "\n",
       ".node path {\n",
       "    fill: #ffffff;\n",
       "    /* stroke: steelblue; */\n",
       "    stroke-width: 2px;\n",
       "}\n",
       ".node text {\n",
       "    font-family: Arial, Helvetica, sans-serif;\n",
       "    font-style: normal;\n",
       "    font-size: 12px;\n",
       "}\n",
       ".link /* path */ {\n",
       "    fill: none;\n",
       "    stroke: #cccccc;\n",
       "    stroke-width: 2px;\n",
       "}\n",
       ".link text {\n",
       "    font-family: Arial, Helvetica, sans-serif;\n",
       "    font-style: normal;\n",
       "    font-size: 12px;\n",
       "}\n",
       ".hover text{\n",
       "    font-family: Arial, Helvetica, sans-serif;\n",
       "    font-style: normal;\n",
       "    font-size: 12px;\n",
       "}\n",
       "\n",
       "/*\n",
       ".svg-container {\n",
       "    display: inline-block;\n",
       "    position: relative;\n",
       "    width: 100%;\n",
       "    padding-bottom: 100%;\n",
       "    vertical-align: top;\n",
       "    overflow: hidden;\n",
       "}\n",
       ".svg-content-responsive {\n",
       "    display: inline-block;\n",
       "    position: absolute;\n",
       "    top: 10px;\n",
       "    left: 0;\n",
       "}\n",
       "*/\n",
       "\n",
       "    </style>\n",
       "    <script>\n",
       "       (function(){\n",
       "        var treeData = {\"children\":[[2,3],[],[]],\"text\":[\"HydroGen\",\"HydroFix\",\"HydroDispatch\"],\"tooltip\":[\"Abstract\",\"name\\navailable\\nbus\\nactivepower\\nreactivepower\\ntech\\nservices\\next\\n_forecasts\\ninternal\",\"name\\navailable\\nbus\\nactivepower\\nreactivepower\\ntech\\nop_cost\\nstorage_capacity\\ninflow\\ninitial_storage\\nservices\\next\\n_forecasts\\ninternal\"],\"style\":[\"\",\"\",\"\"],\"link_style\":[\"\",\"\",\"\"],\"title\":\"Julia D3Tree\",\"options\":{\"tooltip\":[\"Abstract\",\"name\\navailable\\nbus\\nactivepower\\nreactivepower\\ntech\\nservices\\next\\n_forecasts\\ninternal\",\"name\\navailable\\nbus\\nactivepower\\nreactivepower\\ntech\\nop_cost\\nstorage_capacity\\ninflow\\ninitial_storage\\nservices\\next\\n_forecasts\\ninternal\"],\"text\":[\"HydroGen\",\"HydroFix\",\"HydroDispatch\"],\"init_expand\":1}};\n",
       "        var rootID = 1-1;\n",
       "        var div = \"treevispEt0IUA5\";\n",
       "        var initExpand = 1\n",
       "        var initDuration = 750\n",
       "        var svgHeight = 600\n",
       "        if (typeof $ === 'undefined') {\n",
       "    loadScript(\"https://code.jquery.com/jquery-3.1.1.min.js\", run);\n",
       "} else {\n",
       "    run();\n",
       "}\n",
       "\n",
       "function run() {\n",
       "    if (typeof d3 === 'undefined') {\n",
       "        loadScript(\"https://d3js.org/d3.v3.js\", showTree);\n",
       "    } else {\n",
       "        showTree();\n",
       "    }\n",
       "}\n",
       "\n",
       "function loadScript(url, callback)\n",
       "{\n",
       "    console.log(\"starting script load...\")\n",
       "    // Adding the script tag to the head as suggested before\n",
       "    var head = document.getElementsByTagName('head')[0];\n",
       "    var script = document.createElement('script');\n",
       "    script.type = 'text/javascript';\n",
       "    script.src = url;\n",
       "\n",
       "    // Then bind the event to the callback function.\n",
       "    // There are several events for cross browser compatibility.\n",
       "    script.onreadystatechange = callback;\n",
       "    script.onload = callback;\n",
       "\n",
       "    // Fire the loading\n",
       "    head.appendChild(script);\n",
       "}\n",
       "\n",
       "function showTree() {\n",
       "        \n",
       "    // var margin = {top: 20, right: 120, bottom: 20, left: 120},\n",
       "    var margin = {top: 20, right: 120, bottom: 80, left: 120},\n",
       "        width = $(\"#\"+div).width() - margin.right - margin.left,\n",
       "        height = svgHeight - margin.top - margin.bottom;\n",
       "        // TODO make height a parameter of TreeVisualizer\n",
       "\n",
       "    var i = 0,\n",
       "        root;\n",
       "\n",
       "    var tree = d3.layout.tree()\n",
       "        .size([width, height]);\n",
       "\n",
       "    var diagonal = d3.svg.diagonal();\n",
       "        //.projection(function(d) { return [d.y, d.x]; });\n",
       "        // uncomment above to make the tree go horizontally\n",
       "\n",
       "    // see http://stackoverflow.com/questions/16265123/resize-svg-when-window-is-resized-in-d3-js\n",
       "    if (d3.select(\"#\"+div+\"_svg\").empty()) {\n",
       "        $(\".d3twarn\").remove();\n",
       "        d3.select(\"#\"+div).append(\"svg\")\n",
       "            .attr(\"id\", div+\"_svg\")\n",
       "            .attr(\"width\", width + margin.right + margin.left)\n",
       "            .attr(\"height\", height + margin.top + margin.bottom);\n",
       "    }\n",
       "\n",
       "    d3.select(\"#\"+div+\"_svg\").selectAll(\"*\").remove();\n",
       "\n",
       "    var svg = d3.select(\"#\"+div+\"_svg\")\n",
       "        .append(\"g\")\n",
       "            .attr(\"transform\", \"translate(\" + margin.left + \",\" + margin.top + \")\");\n",
       "\n",
       "    // console.log(\"tree data:\");\n",
       "    // console.log(treeData[rootID]);\n",
       "    root = createDisplayNode(rootID, initExpand);\n",
       "    root.x0 = width / 2;\n",
       "    root.y0 = 0;\n",
       "\n",
       "    update(root, initDuration);\n",
       "    console.log(\"tree should appear\");\n",
       "\n",
       "    function createDisplayNode(id, expandLevel) {\n",
       "      var dnode = {\"dataID\":id,\n",
       "                   \"children\": null,\n",
       "                   \"_children\":null};\n",
       "      if (expandLevel > 0) {\n",
       "        initializeChildren(dnode, expandLevel);\n",
       "      }\n",
       "      return dnode;\n",
       "    }\n",
       "\n",
       "    function initializeChildren(d, expandLevel) {\n",
       "      // create children\n",
       "      var children = treeData.children[d.dataID];\n",
       "      d.children = [];\n",
       "      if (children) {\n",
       "        for (var i = 0; i < children.length; i++) {\n",
       "          var cid = children[i]-1;\n",
       "          d.children.push(createDisplayNode(cid, expandLevel-1));\n",
       "        }\n",
       "      }\n",
       "    }\n",
       "\n",
       "    /**\n",
       "     * Recursively called to update each node in the tree.\n",
       "     * \n",
       "     * source is a d3 node that has position, etc.\n",
       "    */\n",
       "    function update(source, duration) {\n",
       "\n",
       "      width = $(\"#\"+div).width() - margin.right - margin.left,\n",
       "      height = $(\"#\"+div).height() - margin.top - margin.bottom;\n",
       "\n",
       "      tree.size([width,height]);\n",
       "      d3.select(\"#\"+div).attr(\"width\", width + margin.right + margin.left)\n",
       "            .attr(\"height\", height + margin.top + margin.bottom);\n",
       "      d3.select(\"#\"+div+\"_svg\").attr(\"width\", width + margin.right + margin.left)\n",
       "             .attr(\"height\", height + margin.top + margin.bottom);\n",
       "\n",
       "\n",
       "      // Compute the new tree layout.\n",
       "      var nodes = tree.nodes(root).reverse(),\n",
       "          links = tree.links(nodes);\n",
       "\n",
       "\n",
       "      // Update the nodes…\n",
       "      var node = svg.selectAll(\"g.node\")\n",
       "          .data(nodes, function(d) { return d.id || (d.id = ++i); });\n",
       "\n",
       "      // Enter any new nodes at the parent's previous position.\n",
       "      var nodeEnter = node.enter().append(\"g\")\n",
       "          .attr(\"class\", \"node\")\n",
       "          .attr(\"transform\", function(d) { return \"translate(\" + source.x0 + \",\" + source.y0 + \")\"; })\n",
       "          .on(\"click\", click)\n",
       "\n",
       "      nodeEnter.append(\"circle\")\n",
       "          .attr(\"r\", \"10px\")\n",
       "          .attr(\"style\", function(d) { return treeData.style[d.dataID]; } )\n",
       "\n",
       "      var tbox = nodeEnter.append(\"text\")\n",
       "          .attr(\"y\", 25)\n",
       "          .attr(\"text-anchor\", \"middle\")\n",
       "          //.text( function(d) { return treeData.text[d.dataID]; } )\n",
       "          .style(\"fill-opacity\", 1e-6);\n",
       "\n",
       "      tbox.each( function(d) {\n",
       "          var el = d3.select(this)\n",
       "          var text = treeData.text[d.dataID];\n",
       "          var lines = text.split('\\n');\n",
       "          for (var i = 0; i < lines.length; i++) {\n",
       "              var tspan = el.append(\"tspan\").text(lines[i]);\n",
       "              if (i > 0) {\n",
       "                  tspan.attr(\"x\", 0).attr(\"dy\", \"1.2em\");\n",
       "              }\n",
       "          }\n",
       "      });\n",
       "\n",
       "      //tooltip\n",
       "      nodeEnter.append(\"title\").text( function(d) { return treeData.tooltip[d.dataID];} );\n",
       "\n",
       "      // Transition nodes to their new position.\n",
       "      var nodeUpdate = node.transition()\n",
       "          .duration(duration)\n",
       "          .attr(\"transform\", function(d) { return \"translate(\" + d.x + \",\" + d.y + \")\"; });\n",
       "\n",
       "      nodeUpdate.select(\"text\")\n",
       "          .style(\"fill-opacity\", 1);\n",
       "\n",
       "      // Transition exiting nodes to the parent's new position.\n",
       "      var nodeExit = node.exit().transition()\n",
       "          .duration(duration)\n",
       "          .attr(\"transform\", function(d) { return \"translate(\" + source.x + \",\" + source.y + \")\"; })\n",
       "          .remove();\n",
       "\n",
       "      nodeExit.select(\"text\")\n",
       "          .style(\"fill-opacity\", 1e-6);\n",
       "\n",
       "      // Update the links…\n",
       "      var link = svg.selectAll(\"path.link\")\n",
       "          .data(links, function(d) { return d.target.id; });\n",
       "\n",
       "      // Enter any new links at the parent's previous position.\n",
       "      // XXX link width should be based on transition data, not node data\n",
       "      link.enter().insert(\"path\", \"g\")\n",
       "          .attr(\"class\", \"link\")\n",
       "          .attr(\"style\", function(d) {\n",
       "              var ls = treeData.link_style[d.target.dataID];\n",
       "              return ls;\n",
       "          } )\n",
       "          .attr(\"d\", function(d) {\n",
       "            var o = {x: source.x0, y: source.y0};\n",
       "            return diagonal({source: o, target: o});\n",
       "          });\n",
       "\n",
       "      // Transition links to their new position.\n",
       "      link.transition()\n",
       "          .duration(duration)\n",
       "          .attr(\"d\", diagonal);\n",
       "\n",
       "      // Transition exiting nodes to the parent's new position.\n",
       "      link.exit().transition()\n",
       "          .duration(duration)\n",
       "          .attr(\"d\", function(d) {\n",
       "            var o = {x: source.x, y: source.y};\n",
       "            return diagonal({source: o, target: o});\n",
       "          })\n",
       "          .remove();\n",
       "\n",
       "      // Stash the old positions for transition.\n",
       "      nodes.forEach(function(d) {\n",
       "        d.x0 = d.x;\n",
       "        d.y0 = d.y;\n",
       "      });\n",
       "    }\n",
       "\n",
       "    // Toggle children on click.\n",
       "    function click(d) {\n",
       "      if (d.children) {\n",
       "        d._children = d.children;\n",
       "        d.children = null;\n",
       "      } else if (d._children) {\n",
       "        d.children = d._children;\n",
       "        d._children = null;\n",
       "      } else {\n",
       "        initializeChildren(d, 1);\n",
       "      }\n",
       "      update(d, 750);\n",
       "    }\n",
       "\n",
       "}\n",
       "\n",
       "        })();\n",
       "    </script>\n",
       "    <p class=\"d3twarn\">\n",
       "    Attempting to display the tree. If the tree is large, this may take some time.\n",
       "    </p>\n",
       "    <p class=\"d3twarn\">\n",
       "    Note: D3Trees.jl requires an internet connection. If no tree appears, please check your connection. To help fix this, please see <a href=\"https://github.com/sisl/D3Trees.jl/issues/10\">this issue</a>. You may also diagnose errors with the javascript console (Ctrl-Shift-J in chrome).\n",
       "    </p>\n",
       "    </div>\n",
       "    </body>\n",
       "    </html>\n",
       "\n"
      ],
      "text/plain": [
       "HydroGen\n",
       "├──HydroFix\n",
       "└──HydroDispatch\n"
      ]
     },
     "execution_count": 42,
     "metadata": {},
     "output_type": "execute_result"
    }
   ],
   "source": [
    "TypeTree(PSY.HydroGen)"
   ]
  },
  {
   "cell_type": "markdown",
   "metadata": {},
   "source": [
    "And in PowerSimulations, we have several available formulations that can be applied to\n",
    "the hydropower generation devices:"
   ]
  },
  {
   "cell_type": "code",
   "execution_count": null,
   "metadata": {},
   "outputs": [],
   "source": [
    "TypeTree(PSI.AbstractHydroFormulation)"
   ]
  },
  {
   "cell_type": "markdown",
   "metadata": {},
   "source": [
    "Let's see what some of the different combinations create. First, let's apply the\n",
    "`HydroDispatchRunOfRiver` formulation to the `HydroDispatch` generators, and the\n",
    "`HydroFixed` formulation to `HydroFix` generators."
   ]
  },
  {
   "cell_type": "code",
   "execution_count": null,
   "metadata": {},
   "outputs": [],
   "source": [
    "devices = Dict{Symbol,DeviceModel}(:Hyd1 => DeviceModel(HydroDispatch, HydroDispatchRunOfRiver),\n",
    "    :Hyd2 => DeviceModel(HydroFix, HydroFixed),\n",
    ");\n",
    "\n",
    "template = PSI.OperationsProblemTemplate(CopperPlatePowerModel, devices, Dict(), Dict());\n",
    "\n",
    "op_problem = PSI.OperationsProblem(GenericOpProblem, template, c_sys5_hy, horizon = 2)"
   ]
  },
  {
   "cell_type": "markdown",
   "metadata": {},
   "source": [
    "Now we can see the resulting JuMP model:"
   ]
  },
  {
   "cell_type": "code",
   "execution_count": null,
   "metadata": {},
   "outputs": [],
   "source": [
    "op_problem.psi_container.JuMPmodel"
   ]
  },
  {
   "cell_type": "markdown",
   "metadata": {},
   "source": [
    "Next, let's apply the `HydroDispatchReservoirFlow` formulation to the `HydroDispatch` generators, and the\n",
    "`HydroDispatchRunOfRiver` formulation to `HydroFix` generators."
   ]
  },
  {
   "cell_type": "code",
   "execution_count": null,
   "metadata": {},
   "outputs": [],
   "source": [
    "devices = Dict{Symbol,DeviceModel}(:Hyd1 => DeviceModel(HydroDispatch, HydroDispatchReservoirFlow),\n",
    "    :Hyd2 => DeviceModel(HydroFix, HydroDispatchRunOfRiver),\n",
    ");\n",
    "\n",
    "template = PSI.OperationsProblemTemplate(CopperPlatePowerModel, devices, Dict(), Dict());\n",
    "\n",
    "op_problem = PSI.OperationsProblem(GenericOpProblem, template, c_sys5_hy, horizon = 2)"
   ]
  },
  {
   "cell_type": "markdown",
   "metadata": {},
   "source": [
    "And, the resulting JuMP model:"
   ]
  },
  {
   "cell_type": "code",
   "execution_count": null,
   "metadata": {},
   "outputs": [],
   "source": [
    "op_problem.psi_container.JuMPmodel"
   ]
  },
  {
   "cell_type": "markdown",
   "metadata": {},
   "source": [
    "Next, let's apply the `HydroDispatchReservoirStorage` formulation to the `HydroDispatch` generators, and the\n",
    "`HydroDispatchRunOfRiver` formulation to `HydroFix` generators."
   ]
  },
  {
   "cell_type": "code",
   "execution_count": null,
   "metadata": {},
   "outputs": [],
   "source": [
    "devices = Dict{Symbol,DeviceModel}(:Hyd1 => DeviceModel(HydroDispatch, HydroDispatchReservoirStorage),\n",
    "    :Hyd2 => DeviceModel(HydroFix, HydroDispatchRunOfRiver),\n",
    ");\n",
    "\n",
    "template = PSI.OperationsProblemTemplate(CopperPlatePowerModel, devices, Dict(), Dict());\n",
    "\n",
    "op_problem = PSI.OperationsProblem(GenericOpProblem, template, c_sys5_hy, horizon = 2)"
   ]
  },
  {
   "cell_type": "markdown",
   "metadata": {},
   "source": [
    "-"
   ]
  },
  {
   "cell_type": "code",
   "execution_count": null,
   "metadata": {},
   "outputs": [],
   "source": [
    "op_problem.psi_container.JuMPmodel"
   ]
  },
  {
   "cell_type": "markdown",
   "metadata": {},
   "source": [
    "Finally, let's see the `HydroCommitmentReservoirFlow` formulation applied to the `HydroDispatch` generators, and the\n",
    "`HydroDispatchRunOfRiver` formulation to `HydroFix` generators."
   ]
  },
  {
   "cell_type": "code",
   "execution_count": null,
   "metadata": {},
   "outputs": [],
   "source": [
    "devices = Dict{Symbol,DeviceModel}(:Hyd1 => DeviceModel(HydroDispatch, HydroCommitmentReservoirStorage),\n",
    "    :Hyd2 => DeviceModel(HydroFix, HydroDispatchRunOfRiver),\n",
    ");\n",
    "\n",
    "template = PSI.OperationsProblemTemplate(CopperPlatePowerModel, devices, Dict(), Dict());\n",
    "\n",
    "op_problem = PSI.OperationsProblem(GenericOpProblem, template, c_sys5_hy, horizon = 2)"
   ]
  },
  {
   "cell_type": "markdown",
   "metadata": {},
   "source": [
    "-"
   ]
  },
  {
   "cell_type": "code",
   "execution_count": null,
   "metadata": {},
   "outputs": [],
   "source": [
    "op_problem.psi_container.JuMPmodel"
   ]
  },
  {
   "cell_type": "markdown",
   "metadata": {},
   "source": [
    "### Multi-Stage `SimulationSequence`"
   ]
  },
  {
   "cell_type": "markdown",
   "metadata": {},
   "source": [
    "UC model template"
   ]
  },
  {
   "cell_type": "code",
   "execution_count": null,
   "metadata": {},
   "outputs": [],
   "source": [
    "devices = Dict(:Generators => DeviceModel(ThermalStandard, ThermalBasicUnitCommitment),\n",
    "    :Loads => DeviceModel(PowerLoad, StaticPowerLoad),\n",
    "    :HydroDispatch => DeviceModel(HydroDispatch, HydroDispatchRunOfRiver),\n",
    ")\n",
    "template_uc = OperationsProblemTemplate(CopperPlatePowerModel, devices, Dict(), Dict());"
   ]
  },
  {
   "cell_type": "markdown",
   "metadata": {},
   "source": [
    "ED model template"
   ]
  },
  {
   "cell_type": "code",
   "execution_count": null,
   "metadata": {},
   "outputs": [],
   "source": [
    "devices = Dict(:Generators => DeviceModel(ThermalStandard, ThermalDispatchNoMin),\n",
    "    :Ren => DeviceModel(RenewableDispatch, RenewableFullDispatch),\n",
    "    :Loads => DeviceModel(PowerLoad, StaticPowerLoad),\n",
    "    :ILoads => DeviceModel(InterruptibleLoad, DispatchablePowerLoad),\n",
    "    :HydroDispatch => DeviceModel(HydroDispatch, HydroDispatchReservoirFlow),\n",
    ")\n",
    "template_ed = OperationsProblemTemplate(CopperPlatePowerModel, devices, Dict(), Dict());"
   ]
  },
  {
   "cell_type": "markdown",
   "metadata": {},
   "source": [
    "Simulaiton setup"
   ]
  },
  {
   "cell_type": "code",
   "execution_count": null,
   "metadata": {},
   "outputs": [],
   "source": [
    "stages_definition = Dict(\"UC\" => Stage(GenericOpProblem, template_uc, c_sys5_hy, Cbc_optimizer),\n",
    "    \"ED\" => Stage(GenericOpProblem, template_ed, c_sys5_hy_ed, Cbc_optimizer),\n",
    ")\n",
    "\n",
    "sequence = SimulationSequence(order = Dict(1 => \"UC\", 2 => \"ED\"),\n",
    "    intra_stage_chronologies = Dict((\"UC\" => \"ED\") => Synchronize(periods = 24)),\n",
    "    horizons = Dict(\"UC\" => 24, \"ED\" => 12),\n",
    "    intervals = Dict(\"UC\" => Hour(24), \"ED\" => Hour(1)),\n",
    "    feed_forward = Dict((\"ED\", :devices, :Generators) => SemiContinuousFF(binary_from_stage = Symbol(PSI.ON),\n",
    "            affected_variables = [Symbol(PSI.REAL_POWER)],\n",
    "        ),\n",
    "        (\"ED\", :devices, :HydroDispatch) => IntegralLimitFF(variable_from_stage = Symbol(PSI.REAL_POWER),\n",
    "            affected_variables = [Symbol(PSI.REAL_POWER)],\n",
    "        ),\n",
    "    ),\n",
    "    cache = Dict(\"ED\" => [TimeStatusChange(Symbol(PSI.ON))]),\n",
    "\n",
    "    ini_cond_chronology = Dict(\"UC\" => Consecutive(), \"ED\" => Consecutive()),\n",
    "\n",
    ")\n",
    "sim = Simulation(name = \"hydro\",\n",
    "    steps = 2,\n",
    "    step_resolution = Hour(24),\n",
    "    stages = stages_definition,\n",
    "    stages_sequence = sequence,\n",
    "    simulation_folder = file_path,\n",
    "    verbose = true,\n",
    ")\n",
    "\n",
    "build!(sim)\n",
    "\n",
    "\n",
    "sim_results = execute!(sim; verbose = true)"
   ]
  },
  {
   "cell_type": "markdown",
   "metadata": {},
   "source": [
    "---\n",
    "\n",
    "*This notebook was generated using [Literate.jl](https://github.com/fredrikekre/Literate.jl).*"
   ]
  }
 ],
 "metadata": {
  "kernelspec": {
   "display_name": "Julia 1.3.1",
   "language": "julia",
   "name": "julia-1.3"
  },
  "language_info": {
   "file_extension": ".jl",
   "mimetype": "application/julia",
   "name": "julia",
   "version": "1.3.1"
  }
 },
 "nbformat": 4,
 "nbformat_minor": 3
}
