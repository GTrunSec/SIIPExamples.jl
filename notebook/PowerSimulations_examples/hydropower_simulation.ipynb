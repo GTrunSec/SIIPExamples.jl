{
 "cells": [
  {
   "outputs": [],
   "cell_type": "markdown",
   "source": [
    "# Hydropower Simulations with [PowerSimulations.jl](https://github.com/NREL/PowerSimulations.jl)"
   ],
   "metadata": {}
  },
  {
   "outputs": [],
   "cell_type": "markdown",
   "source": [
    "**Originally Contributed by**: Clayton Barrows and Sourabh Dalvi"
   ],
   "metadata": {}
  },
  {
   "outputs": [],
   "cell_type": "markdown",
   "source": [
    "## Introduction"
   ],
   "metadata": {}
  },
  {
   "outputs": [],
   "cell_type": "markdown",
   "source": [
    "PowerSimulations.jl supports simulations that consist of sequential optimization problems\n",
    "where results from previous problems inform subsequent problems in a variety of ways.\n",
    "This example demonstrates a few of the options for modeling hydropower generation."
   ],
   "metadata": {}
  },
  {
   "outputs": [],
   "cell_type": "markdown",
   "source": [
    "## Dependencies"
   ],
   "metadata": {}
  },
  {
   "outputs": [],
   "cell_type": "code",
   "source": [
    "using SIIPExamples\n",
    "pkgpath = dirname(dirname(pathof(SIIPExamples)))"
   ],
   "metadata": {},
   "execution_count": null
  },
  {
   "outputs": [],
   "cell_type": "markdown",
   "source": [
    "### Modeling Packages"
   ],
   "metadata": {}
  },
  {
   "outputs": [],
   "cell_type": "code",
   "source": [
    "using InfrastructureSystems\n",
    "const IS = InfrastructureSystems\n",
    "using PowerSystems\n",
    "const PSY = PowerSystems\n",
    "using PowerSimulations\n",
    "const PSI = PowerSimulations\n",
    "using D3TypeTrees"
   ],
   "metadata": {},
   "execution_count": null
  },
  {
   "outputs": [],
   "cell_type": "markdown",
   "source": [
    "### Data management packages"
   ],
   "metadata": {}
  },
  {
   "outputs": [],
   "cell_type": "code",
   "source": [
    "using Dates\n",
    "using DataFrames"
   ],
   "metadata": {},
   "execution_count": null
  },
  {
   "outputs": [],
   "cell_type": "markdown",
   "source": [
    "### Optimization packages"
   ],
   "metadata": {}
  },
  {
   "outputs": [],
   "cell_type": "code",
   "source": [
    "using JuMP\n",
    "using Cbc # solver\n",
    "Cbc_optimizer = JuMP.with_optimizer(Cbc.Optimizer, logLevel = 1, ratioGap = 0.5)"
   ],
   "metadata": {},
   "execution_count": null
  },
  {
   "outputs": [],
   "cell_type": "markdown",
   "source": [
    "### Data\n",
    "There is a meaningless test dataset assembled in the\n",
    "[make_hydropower_data.jl](../../script/PowerSimulations_examples/make_hydro_data.jl) script."
   ],
   "metadata": {}
  },
  {
   "outputs": [],
   "cell_type": "code",
   "source": [
    "include(joinpath(pkgpath, \"script/PowerSimulations_examples/make_hydro_data.jl\"))"
   ],
   "metadata": {},
   "execution_count": null
  },
  {
   "outputs": [],
   "cell_type": "markdown",
   "source": [
    "## Two PowerSimulations features determine hydropower representation.\n",
    "There are two prinicpal ways that we can customize hydropower representation in\n",
    "PowerSimulations. First, we can play with the formulation applied to hydropower generators\n",
    "using the `DeviceModel`. We can also adjust how simulaitons are configured to represent\n",
    "different decison making processes and the information flow between those processes."
   ],
   "metadata": {}
  },
  {
   "outputs": [],
   "cell_type": "markdown",
   "source": [
    "### Hydropower `DeviceModel`s"
   ],
   "metadata": {}
  },
  {
   "outputs": [],
   "cell_type": "markdown",
   "source": [
    "First, the assignment of device formulations to particular device types gives us control\n",
    "over the representation of devices. This is accomplished by defining `DeviceModel`\n",
    "instances. For hydro power representations, we have two available generator types in\n",
    "PowerSystems:"
   ],
   "metadata": {}
  },
  {
   "outputs": [],
   "cell_type": "code",
   "source": [
    "TypeTree(PSY.HydroGen)"
   ],
   "metadata": {},
   "execution_count": null
  },
  {
   "outputs": [],
   "cell_type": "markdown",
   "source": [
    "And in PowerSimulations, we have several available formulations that can be applied to\n",
    "the hydropower generation devices:"
   ],
   "metadata": {}
  },
  {
   "outputs": [],
   "cell_type": "code",
   "source": [
    "TypeTree(PSI.AbstractHydroFormulation, scopesep=\"\\n\", init_expand = 5)"
   ],
   "metadata": {},
   "execution_count": null
  },
  {
   "outputs": [],
   "cell_type": "markdown",
   "source": [
    "Let's see what some of the different combinations create. First, let's apply the\n",
    "`HydroDispatchRunOfRiver` formulation to the `HydroEnergyReservoir` generators, and the\n",
    "`HydroFixed` formulation to `HydroDispatch` generators.\n",
    " - The `HydroFixed` formulaton just acts\n",
    "like a load subtractor, forcing the system to accept it's generation.\n",
    " - The `HydroDispatchRunOfRiver` formulation represents the the energy flowing out of\n",
    "a reservoir. The model can choose to produce power with that energy or just let it spill by."
   ],
   "metadata": {}
  },
  {
   "outputs": [],
   "cell_type": "code",
   "source": [
    "devices = Dict{Symbol,DeviceModel}(\n",
    "    :Hyd1 => DeviceModel(HydroEnergyReservoir, HydroDispatchRunOfRiver),\n",
    "    :Hyd2 => DeviceModel(HydroDispatch, HydroFixed),\n",
    "    :Load => DeviceModel(PowerLoad, StaticPowerLoad),\n",
    ");\n",
    "\n",
    "template = PSI.OperationsProblemTemplate(CopperPlatePowerModel, devices, Dict(), Dict());\n",
    "\n",
    "op_problem = PSI.OperationsProblem(GenericOpProblem, template, c_sys5_hy, horizon = 2)"
   ],
   "metadata": {},
   "execution_count": null
  },
  {
   "outputs": [],
   "cell_type": "markdown",
   "source": [
    "Now we can see the resulting JuMP model:"
   ],
   "metadata": {}
  },
  {
   "outputs": [],
   "cell_type": "code",
   "source": [
    "op_problem.psi_container.JuMPmodel"
   ],
   "metadata": {},
   "execution_count": null
  },
  {
   "outputs": [],
   "cell_type": "markdown",
   "source": [
    "The first two constraints are the power balance constraints that require the generation\n",
    "from the controllable `HydroEnergyReservoir` generators to be equal to the load (flat 10.0 for all time periods)\n",
    "minus the generation from the `HydroDispatch` generators [1.97, 1.983, ...]. The 3rd and 4th\n",
    "constraints limit the output of the `HydroEnergyReservoir` generator to the limit defined by the\n",
    "`max_activepwoer` forecast. And the last 4 constraints are the lower and upper bounds of\n",
    "the `HydroEnergyReservoir` operating range."
   ],
   "metadata": {}
  },
  {
   "outputs": [],
   "cell_type": "markdown",
   "source": [
    "Next, let's apply the `HydroDispatchReservoirFlow` formulation to the `HydroEnergyReservoir` generators."
   ],
   "metadata": {}
  },
  {
   "outputs": [],
   "cell_type": "code",
   "source": [
    "devices = Dict{Symbol,DeviceModel}(\n",
    "    :Hyd1 => DeviceModel(HydroEnergyReservoir, HydroDispatchReservoirFlow),\n",
    "    :Load => DeviceModel(PowerLoad, StaticPowerLoad),\n",
    ");\n",
    "\n",
    "template = PSI.OperationsProblemTemplate(CopperPlatePowerModel, devices, Dict(), Dict());\n",
    "\n",
    "op_problem = PSI.OperationsProblem(GenericOpProblem, template, c_sys5_hy, horizon = 2)"
   ],
   "metadata": {},
   "execution_count": null
  },
  {
   "outputs": [],
   "cell_type": "markdown",
   "source": [
    "And, the resulting JuMP model:"
   ],
   "metadata": {}
  },
  {
   "outputs": [],
   "cell_type": "code",
   "source": [
    "op_problem.psi_container.JuMPmodel"
   ],
   "metadata": {},
   "execution_count": null
  },
  {
   "outputs": [],
   "cell_type": "markdown",
   "source": [
    "Finally, let's apply the `HydroDispatchReservoirStorage` formulation to the `HydroEnergyReservoir` generators."
   ],
   "metadata": {}
  },
  {
   "outputs": [],
   "cell_type": "code",
   "source": [
    "devices = Dict{Symbol,DeviceModel}(\n",
    "    :Hyd1 => DeviceModel(HydroEnergyReservoir, HydroDispatchReservoirStorage),\n",
    "    :Load => DeviceModel(PowerLoad, StaticPowerLoad),\n",
    ");\n",
    "\n",
    "template = PSI.OperationsProblemTemplate(CopperPlatePowerModel, devices, Dict(), Dict());\n",
    "\n",
    "op_problem = PSI.OperationsProblem(GenericOpProblem, template, c_sys5_hy, horizon = 2)"
   ],
   "metadata": {},
   "execution_count": null
  },
  {
   "outputs": [],
   "cell_type": "code",
   "source": [
    "op_problem.psi_container.JuMPmodel"
   ],
   "metadata": {},
   "execution_count": null
  },
  {
   "outputs": [],
   "cell_type": "markdown",
   "source": [
    "### Multi-Stage `SimulationSequence`\n",
    "The purpsoe of a multi-stage simulaiton is to represent scheduling decisions consistently\n",
    "with the time scales that govern different elements of power systems."
   ],
   "metadata": {}
  },
  {
   "outputs": [],
   "cell_type": "markdown",
   "source": [
    "Multi-Day to Daily Simulation:"
   ],
   "metadata": {}
  },
  {
   "outputs": [],
   "cell_type": "markdown",
   "source": [
    "In the multi-day model, we'll use a really simple representation of all system devices\n",
    "so that we can maintain computational tractability while getting an estimate of system\n",
    "requirements/capabilities."
   ],
   "metadata": {}
  },
  {
   "outputs": [],
   "cell_type": "code",
   "source": [
    "devices = Dict(\n",
    "    :Generators => DeviceModel(ThermalStandard, ThermalDispatchNoMin),\n",
    "    :Loads => DeviceModel(PowerLoad, StaticPowerLoad),\n",
    "    :HydroEnergyReservoir => DeviceModel(HydroEnergyReservoir, HydroDispatchReservoirStorage),\n",
    ")\n",
    "template_md = OperationsProblemTemplate(CopperPlatePowerModel, devices, Dict(), Dict());"
   ],
   "metadata": {},
   "execution_count": null
  },
  {
   "outputs": [],
   "cell_type": "markdown",
   "source": [
    "For the daily model, we can increase the modeling detail since we'll be solving shorter\n",
    "problems."
   ],
   "metadata": {}
  },
  {
   "outputs": [],
   "cell_type": "code",
   "source": [
    "devices = Dict(\n",
    "    :Generators => DeviceModel(ThermalStandard, ThermalDispatchNoMin),\n",
    "    :Loads => DeviceModel(PowerLoad, StaticPowerLoad),\n",
    "    :HydroEnergyReservoir => DeviceModel(HydroEnergyReservoir, HydroDispatchReservoirFlow),\n",
    ")\n",
    "template_da = OperationsProblemTemplate(CopperPlatePowerModel, devices, Dict(), Dict());"
   ],
   "metadata": {},
   "execution_count": null
  },
  {
   "outputs": [],
   "cell_type": "code",
   "source": [
    "stages_definition = Dict(\n",
    "    \"MD\" => Stage(GenericOpProblem, template_md, c_sys5_hy_wk, Cbc_optimizer),\n",
    "    \"DA\" => Stage(GenericOpProblem, template_da, c_sys5_hy_uc, Cbc_optimizer),\n",
    ")"
   ],
   "metadata": {},
   "execution_count": null
  },
  {
   "outputs": [],
   "cell_type": "markdown",
   "source": [
    "Thsi builds the sequence and passes the the enregy dispatch schedule for the `HydroEnergyReservoir`\n",
    "generatorfrom the \"MD\" stage to the \"DA\" stage in the form of an energy limit over the\n",
    "synchronized periods."
   ],
   "metadata": {}
  },
  {
   "outputs": [],
   "cell_type": "code",
   "source": [
    "sequence = SimulationSequence(\n",
    "    order = Dict(1 => \"MD\", 2 => \"DA\"),\n",
    "    intra_stage_chronologies = Dict((\"MD\" => \"DA\") => Synchronize(periods = 2)),\n",
    "    horizons = Dict(\"MD\" => 2, \"DA\" => 24),\n",
    "    intervals = Dict(\"MD\" => Hour(48), \"DA\" => Hour(24)),\n",
    "    feed_forward = Dict(\n",
    "        (\"DA\", :devices, :HydroEnergyReservoir) =>\n",
    "                IntegralLimitFF(variable_from_stage = :P, affected_variables = [:P]),\n",
    "    ),\n",
    "    ini_cond_chronology = Dict(\"MD\" => Consecutive(), \"DA\" => Consecutive()),\n",
    ")"
   ],
   "metadata": {},
   "execution_count": null
  },
  {
   "outputs": [],
   "cell_type": "code",
   "source": [
    "file_path = tempdir()\n",
    "\n",
    "sim = Simulation(\n",
    "    name = \"hydro\",\n",
    "    steps = 1,\n",
    "    step_resolution = Hour(48),\n",
    "    stages = stages_definition,\n",
    "    stages_sequence = sequence,\n",
    "    simulation_folder = file_path,\n",
    "    verbose = true,\n",
    ")\n",
    "\n",
    "build!(sim)"
   ],
   "metadata": {},
   "execution_count": null
  },
  {
   "outputs": [],
   "cell_type": "markdown",
   "source": [
    "We can look at the \"MD\" Model"
   ],
   "metadata": {}
  },
  {
   "outputs": [],
   "cell_type": "code",
   "source": [
    "sim.stages[\"MD\"].internal.psi_container.JuMPmodel"
   ],
   "metadata": {},
   "execution_count": null
  },
  {
   "outputs": [],
   "cell_type": "markdown",
   "source": [
    "And we can look at the \"DA\" model"
   ],
   "metadata": {}
  },
  {
   "outputs": [],
   "cell_type": "code",
   "source": [
    "sim.stages[\"DA\"].internal.psi_container.JuMPmodel"
   ],
   "metadata": {},
   "execution_count": null
  },
  {
   "outputs": [],
   "cell_type": "markdown",
   "source": [
    "And we can execute the simulation by running the following command\n",
    "```julia"
   ],
   "metadata": {}
  },
  {
   "outputs": [],
   "cell_type": "code",
   "source": [
    "#sim_results = execute!(sim)\n",
    "#```"
   ],
   "metadata": {},
   "execution_count": null
  },
  {
   "outputs": [],
   "cell_type": "markdown",
   "source": [
    "3-Stage Simulation:"
   ],
   "metadata": {}
  },
  {
   "outputs": [],
   "cell_type": "code",
   "source": [
    "stages_definition = Dict(\n",
    "    \"MD\" => Stage(GenericOpProblem, template_md, c_sys5_hy_wk, Cbc_optimizer),\n",
    "    \"DA\" => Stage(GenericOpProblem, template_da, c_sys5_hy_uc, Cbc_optimizer),\n",
    "    \"ED\" => Stage(GenericOpProblem, template_da, c_sys5_hy_ed, Cbc_optimizer),\n",
    ")\n",
    "\n",
    "sequence = SimulationSequence(\n",
    "    order = Dict(1 => \"MD\", 2 => \"DA\", 3 => \"ED\"),\n",
    "    intra_stage_chronologies = Dict(\n",
    "        (\"MD\" => \"DA\") => Synchronize(periods = 2),\n",
    "        (\"DA\" => \"ED\") => Synchronize(periods = 24),\n",
    "    ),\n",
    "    horizons = Dict(\"MD\" => 2, \"DA\" => 24, \"ED\" => 12),\n",
    "    intervals = Dict(\"MD\" => Hour(48), \"DA\" => Hour(24), \"ED\" => Hour(1)),\n",
    "    feed_forward = Dict(\n",
    "        (\"DA\", :devices, :HydroEnergyReservoir) => IntegralLimitFF(\n",
    "            variable_from_stage = Symbol(PSI.ACTIVE_POWER),\n",
    "            affected_variables = [Symbol(PSI.ACTIVE_POWER)],\n",
    "        ),\n",
    "        (\"ED\", :devices, :HydroEnergyReservoir) => IntegralLimitFF(\n",
    "            variable_from_stage = Symbol(PSI.ACTIVE_POWER),\n",
    "            affected_variables = [Symbol(PSI.ACTIVE_POWER)],\n",
    "        ),\n",
    "    ),\n",
    "    ini_cond_chronology = Dict(\n",
    "        \"MD\" => Consecutive(),\n",
    "        \"DA\" => Consecutive(),\n",
    "        \"ED\" => Consecutive(),\n",
    "    ),\n",
    ")"
   ],
   "metadata": {},
   "execution_count": null
  },
  {
   "outputs": [],
   "cell_type": "code",
   "source": [
    "sim = Simulation(\n",
    "    name = \"hydro\",\n",
    "    steps = 1,\n",
    "    step_resolution = Hour(48),\n",
    "    stages = stages_definition,\n",
    "    stages_sequence = sequence,\n",
    "    simulation_folder = file_path,\n",
    "    verbose = true,\n",
    ")"
   ],
   "metadata": {},
   "execution_count": null
  },
  {
   "outputs": [],
   "cell_type": "code",
   "source": [
    "build!(sim)"
   ],
   "metadata": {},
   "execution_count": null
  },
  {
   "outputs": [],
   "cell_type": "markdown",
   "source": [
    "We can look at the \"MD\" Model"
   ],
   "metadata": {}
  },
  {
   "outputs": [],
   "cell_type": "code",
   "source": [
    "sim.stages[\"MD\"].internal.psi_container.JuMPmodel"
   ],
   "metadata": {},
   "execution_count": null
  },
  {
   "outputs": [],
   "cell_type": "markdown",
   "source": [
    "And we can look at the \"DA\" model"
   ],
   "metadata": {}
  },
  {
   "outputs": [],
   "cell_type": "code",
   "source": [
    "sim.stages[\"DA\"].internal.psi_container.JuMPmodel"
   ],
   "metadata": {},
   "execution_count": null
  },
  {
   "outputs": [],
   "cell_type": "markdown",
   "source": [
    "And we can look at the \"ED\" model"
   ],
   "metadata": {}
  },
  {
   "outputs": [],
   "cell_type": "code",
   "source": [
    "sim.stages[\"ED\"].internal.psi_container.JuMPmodel"
   ],
   "metadata": {},
   "execution_count": null
  },
  {
   "outputs": [],
   "cell_type": "markdown",
   "source": [
    "---\n",
    "\n",
    "*This notebook was generated using [Literate.jl](https://github.com/fredrikekre/Literate.jl).*"
   ],
   "metadata": {}
  }
 ],
 "nbformat_minor": 3,
 "metadata": {
  "language_info": {
   "file_extension": ".jl",
   "mimetype": "application/julia",
   "name": "julia",
   "version": "1.3.1"
  },
  "kernelspec": {
   "name": "julia-1.3",
   "display_name": "Julia 1.3.1",
   "language": "julia"
  }
 },
 "nbformat": 4
}
