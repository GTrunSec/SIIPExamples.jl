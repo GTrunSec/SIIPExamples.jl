{
 "cells": [
  {
   "outputs": [],
   "cell_type": "markdown",
   "source": [
    "# Hydropower Simulations with [PowerSimulations.jl](https://github.com/NREL/PowerSimulations.jl)"
   ],
   "metadata": {}
  },
  {
   "outputs": [],
   "cell_type": "markdown",
   "source": [
    "**Originally Contributed by**: Clayton Barrows and Sourabh Dalvi"
   ],
   "metadata": {}
  },
  {
   "outputs": [],
   "cell_type": "markdown",
   "source": [
    "## Introduction"
   ],
   "metadata": {}
  },
  {
   "outputs": [],
   "cell_type": "markdown",
   "source": [
    "PowerSimulations.jl supports simulations that consist of sequential optimization problems\n",
    "where results from previous problems inform subsequent problems in a variety of ways.\n",
    "This example demonstrates a few of the options for modeling hydropower generation."
   ],
   "metadata": {}
  },
  {
   "outputs": [],
   "cell_type": "markdown",
   "source": [
    "## Dependencies"
   ],
   "metadata": {}
  },
  {
   "outputs": [],
   "cell_type": "code",
   "source": [
    "using SIIPExamples\n",
    "pkgpath = dirname(dirname(pathof(SIIPExamples)))"
   ],
   "metadata": {},
   "execution_count": null
  },
  {
   "outputs": [],
   "cell_type": "markdown",
   "source": [
    "### Modeling Packages"
   ],
   "metadata": {}
  },
  {
   "outputs": [],
   "cell_type": "code",
   "source": [
    "using InfrastructureSystems\n",
    "const IS = InfrastructureSystems\n",
    "using PowerSystems\n",
    "const PSY = PowerSystems\n",
    "using PowerSimulations\n",
    "const PSI = PowerSimulations\n",
    "using D3TypeTrees"
   ],
   "metadata": {},
   "execution_count": null
  },
  {
   "outputs": [],
   "cell_type": "markdown",
   "source": [
    "### Data management packages"
   ],
   "metadata": {}
  },
  {
   "outputs": [],
   "cell_type": "code",
   "source": [
    "using Dates\n",
    "using DataFrames"
   ],
   "metadata": {},
   "execution_count": null
  },
  {
   "outputs": [],
   "cell_type": "markdown",
   "source": [
    "### Optimization packages"
   ],
   "metadata": {}
  },
  {
   "outputs": [],
   "cell_type": "code",
   "source": [
    "using JuMP\n",
    "using Cbc # solver\n",
    "Cbc_optimizer = JuMP.with_optimizer(Cbc.Optimizer, logLevel = 1, ratioGap = 0.5)"
   ],
   "metadata": {},
   "execution_count": null
  },
  {
   "outputs": [],
   "cell_type": "markdown",
   "source": [
    "### Data\n",
    "There is a meaningless test dataset assembled in the\n",
    "[make_hydropower_data.jl](../../script/PowerSimulations_examples/make_hydro_data.jl) script."
   ],
   "metadata": {}
  },
  {
   "outputs": [],
   "cell_type": "code",
   "source": [
    "include(joinpath(pkgpath, \"script/PowerSimulations_examples/make_hydro_data.jl\"))"
   ],
   "metadata": {},
   "execution_count": null
  },
  {
   "outputs": [],
   "cell_type": "markdown",
   "source": [
    "## Two PowerSimulations features determine hydropower representation.\n",
    "There are two prinicpal ways that we can customize hydropower representation in\n",
    "PowerSimulations. First, we can play with the formulation applied to hydropower generators\n",
    "using the `DeviceModel`. We can also adjust how simulaitons are configured to represent\n",
    "different decison making processes and the information flow between those processes."
   ],
   "metadata": {}
  },
  {
   "outputs": [],
   "cell_type": "markdown",
   "source": [
    "### Hydropower `DeviceModel`s"
   ],
   "metadata": {}
  },
  {
   "outputs": [],
   "cell_type": "markdown",
   "source": [
    "First, the assignment of device formulations to particular device types gives us control\n",
    "over the representation of devices. This is accomplished by defining `DeviceModel`\n",
    "instances. For hydro power representations, we have two available generator types in\n",
    "PowerSystems:"
   ],
   "metadata": {}
  },
  {
   "outputs": [],
   "cell_type": "code",
   "source": [
    "TypeTree(PSY.HydroGen)"
   ],
   "metadata": {},
   "execution_count": null
  },
  {
   "outputs": [],
   "cell_type": "markdown",
   "source": [
    "And in PowerSimulations, we have several available formulations that can be applied to\n",
    "the hydropower generation devices:"
   ],
   "metadata": {}
  },
  {
   "outputs": [],
   "cell_type": "code",
   "source": [
    "TypeTree(PSI.AbstractHydroFormulation)"
   ],
   "metadata": {},
   "execution_count": null
  },
  {
   "outputs": [],
   "cell_type": "markdown",
   "source": [
    "Let's see what some of the different combinations create. First, let's apply the\n",
    "`HydroDispatchRunOfRiver` formulation to the `HydroDispatch` generators, and the\n",
    "`HydroFixed` formulation to `HydroFix` generators."
   ],
   "metadata": {}
  },
  {
   "outputs": [],
   "cell_type": "code",
   "source": [
    "devices = Dict{Symbol,DeviceModel}(\n",
    "    :Hyd1 => DeviceModel(HydroDispatch, HydroDispatchRunOfRiver),\n",
    "    :Hyd2 => DeviceModel(HydroFix, HydroFixed),\n",
    "    :Load => DeviceModel(PowerLoad, StaticPowerLoad)\n",
    ");\n",
    "\n",
    "template = PSI.OperationsProblemTemplate(CopperPlatePowerModel, devices, Dict(), Dict());\n",
    "\n",
    "op_problem = PSI.OperationsProblem(GenericOpProblem, template, c_sys5_hy, horizon = 2)"
   ],
   "metadata": {},
   "execution_count": null
  },
  {
   "outputs": [],
   "cell_type": "markdown",
   "source": [
    "Now we can see the resulting JuMP model:"
   ],
   "metadata": {}
  },
  {
   "outputs": [],
   "cell_type": "code",
   "source": [
    "op_problem.psi_container.JuMPmodel"
   ],
   "metadata": {},
   "execution_count": null
  },
  {
   "outputs": [],
   "cell_type": "markdown",
   "source": [
    "Next, let's apply the `HydroDispatchReservoirFlow` formulation to the `HydroDispatch` generators, and the\n",
    "`HydroDispatchRunOfRiver` formulation to `HydroFix` generators."
   ],
   "metadata": {}
  },
  {
   "outputs": [],
   "cell_type": "code",
   "source": [
    "devices = Dict{Symbol,DeviceModel}(\n",
    "    :Hyd1 => DeviceModel(HydroDispatch, HydroDispatchReservoirFlow),\n",
    "    :Hyd2 => DeviceModel(HydroFix, HydroDispatchRunOfRiver),\n",
    "    :Load => DeviceModel(PowerLoad, StaticPowerLoad)\n",
    ");\n",
    "\n",
    "template = PSI.OperationsProblemTemplate(CopperPlatePowerModel, devices, Dict(), Dict());\n",
    "\n",
    "op_problem = PSI.OperationsProblem(GenericOpProblem, template, c_sys5_hy, horizon = 2)"
   ],
   "metadata": {},
   "execution_count": null
  },
  {
   "outputs": [],
   "cell_type": "markdown",
   "source": [
    "And, the resulting JuMP model:"
   ],
   "metadata": {}
  },
  {
   "outputs": [],
   "cell_type": "code",
   "source": [
    "op_problem.psi_container.JuMPmodel"
   ],
   "metadata": {},
   "execution_count": null
  },
  {
   "outputs": [],
   "cell_type": "markdown",
   "source": [
    "Next, let's apply the `HydroDispatchReservoirStorage` formulation to the `HydroDispatch` generators, and the\n",
    "`HydroDispatchRunOfRiver` formulation to `HydroFix` generators."
   ],
   "metadata": {}
  },
  {
   "outputs": [],
   "cell_type": "code",
   "source": [
    "devices = Dict{Symbol,DeviceModel}(\n",
    "    :Hyd1 => DeviceModel(HydroDispatch, HydroDispatchReservoirStorage),\n",
    "    :Hyd2 => DeviceModel(HydroFix, HydroDispatchRunOfRiver),\n",
    "    :Load => DeviceModel(PowerLoad, StaticPowerLoad)\n",
    ");\n",
    "\n",
    "template = PSI.OperationsProblemTemplate(CopperPlatePowerModel, devices, Dict(), Dict());\n",
    "\n",
    "op_problem = PSI.OperationsProblem(GenericOpProblem, template, c_sys5_hy, horizon = 2)"
   ],
   "metadata": {},
   "execution_count": null
  },
  {
   "outputs": [],
   "cell_type": "markdown",
   "source": [
    "-"
   ],
   "metadata": {}
  },
  {
   "outputs": [],
   "cell_type": "code",
   "source": [
    "op_problem.psi_container.JuMPmodel"
   ],
   "metadata": {},
   "execution_count": null
  },
  {
   "outputs": [],
   "cell_type": "markdown",
   "source": [
    "Finally, let's see the `HydroCommitmentReservoirFlow` formulation applied to the `HydroDispatch` generators, and the\n",
    "`HydroDispatchRunOfRiver` formulation to `HydroFix` generators."
   ],
   "metadata": {}
  },
  {
   "outputs": [],
   "cell_type": "code",
   "source": [
    "devices = Dict{Symbol,DeviceModel}(\n",
    "    :Hyd1 => DeviceModel(HydroDispatch, HydroCommitmentReservoirStorage),\n",
    "    :Hyd2 => DeviceModel(HydroFix, HydroDispatchRunOfRiver),\n",
    "    :Load => DeviceModel(PowerLoad, StaticPowerLoad)\n",
    ");\n",
    "\n",
    "template = PSI.OperationsProblemTemplate(CopperPlatePowerModel, devices, Dict(), Dict());\n",
    "\n",
    "op_problem = PSI.OperationsProblem(GenericOpProblem, template, c_sys5_hy, horizon = 2)"
   ],
   "metadata": {},
   "execution_count": null
  },
  {
   "outputs": [],
   "cell_type": "markdown",
   "source": [
    "-"
   ],
   "metadata": {}
  },
  {
   "outputs": [],
   "cell_type": "code",
   "source": [
    "op_problem.psi_container.JuMPmodel"
   ],
   "metadata": {},
   "execution_count": null
  },
  {
   "outputs": [],
   "cell_type": "markdown",
   "source": [
    "### Multi-Stage `SimulationSequence`\n",
    "The purpsoe of a multi-stage simulaiton is to represent scheduling decisions consistently\n",
    "with the time scales that govern different elements of power systems."
   ],
   "metadata": {}
  },
  {
   "outputs": [],
   "cell_type": "markdown",
   "source": [
    "UC model template"
   ],
   "metadata": {}
  },
  {
   "outputs": [],
   "cell_type": "code",
   "source": [
    "devices = Dict(\n",
    "    :Generators => DeviceModel(ThermalStandard, ThermalBasicUnitCommitment),\n",
    "    :Loads => DeviceModel(PowerLoad, StaticPowerLoad),\n",
    "    :HydroDispatch => DeviceModel(HydroDispatch, HydroDispatchRunOfRiver),\n",
    ")\n",
    "template_uc = OperationsProblemTemplate(CopperPlatePowerModel, devices, Dict(), Dict());"
   ],
   "metadata": {},
   "execution_count": null
  },
  {
   "outputs": [],
   "cell_type": "markdown",
   "source": [
    "ED model template"
   ],
   "metadata": {}
  },
  {
   "outputs": [],
   "cell_type": "code",
   "source": [
    "devices = Dict(\n",
    "    :Generators => DeviceModel(ThermalStandard, ThermalDispatchNoMin),\n",
    "    :Ren => DeviceModel(RenewableDispatch, RenewableFullDispatch),\n",
    "    :Loads => DeviceModel(PowerLoad, StaticPowerLoad),\n",
    "    :ILoads => DeviceModel(InterruptibleLoad, DispatchablePowerLoad),\n",
    "    :HydroDispatch => DeviceModel(HydroDispatch, HydroDispatchReservoirFlow),\n",
    ")\n",
    "template_ed = OperationsProblemTemplate(CopperPlatePowerModel, devices, Dict(), Dict());"
   ],
   "metadata": {},
   "execution_count": null
  },
  {
   "outputs": [],
   "cell_type": "markdown",
   "source": [
    "Simulaiton setup"
   ],
   "metadata": {}
  },
  {
   "outputs": [],
   "cell_type": "code",
   "source": [
    "stages_definition = Dict(\n",
    "    \"UC\" => Stage(GenericOpProblem, template_uc, c_sys5_hy_uc, Cbc_optimizer),\n",
    "    \"ED\" => Stage(GenericOpProblem, template_ed, c_sys5_hy_ed, Cbc_optimizer),\n",
    ")\n",
    "\n",
    "sequence = SimulationSequence(\n",
    "    order = Dict(1 => \"UC\", 2 => \"ED\"),\n",
    "    intra_stage_chronologies = Dict((\"UC\" => \"ED\") => Synchronize(periods = 24)),\n",
    "    horizons = Dict(\"UC\" => 24, \"ED\" => 12),\n",
    "    intervals = Dict(\"UC\" => Hour(24), \"ED\" => Hour(1)),\n",
    "    feed_forward = Dict(\n",
    "        (\"ED\", :devices, :Generators) => SemiContinuousFF(\n",
    "            binary_from_stage = Symbol(PSI.ON),\n",
    "            affected_variables = [Symbol(PSI.REAL_POWER)],\n",
    "        ),\n",
    "        (\"ED\", :devices, :HydroDispatch) => IntegralLimitFF(\n",
    "            variable_from_stage = Symbol(PSI.REAL_POWER),\n",
    "            affected_variables = [Symbol(PSI.REAL_POWER)],\n",
    "        ),\n",
    "    ),\n",
    "    cache = Dict(\"ED\" => [TimeStatusChange(PSI.ON, PSY.ThermalStandard)]),\n",
    "\n",
    "    ini_cond_chronology = Dict(\"UC\" => Consecutive(), \"ED\" => Consecutive()),\n",
    "\n",
    ")\n",
    "\n",
    "file_path = tempdir()\n",
    "sim = Simulation(\n",
    "    name = \"hydro\",\n",
    "    steps = 2,\n",
    "    step_resolution = Hour(24),\n",
    "    stages = stages_definition,\n",
    "    stages_sequence = sequence,\n",
    "    simulation_folder = file_path,\n",
    "    verbose = true,\n",
    ")\n",
    "\n",
    "build!(sim)\n",
    "\n",
    "\n",
    "sim_results = execute!(sim; verbose = true)"
   ],
   "metadata": {},
   "execution_count": null
  },
  {
   "outputs": [],
   "cell_type": "markdown",
   "source": [
    "### Multi-Day to Daily"
   ],
   "metadata": {}
  },
  {
   "outputs": [],
   "cell_type": "markdown",
   "source": [
    "In the multi-day model, we'll use a really simple representation of all system devices\n",
    "so thatt we can maintain computational tractability while getting an estimate of system\n",
    "requirements/capabilities."
   ],
   "metadata": {}
  },
  {
   "outputs": [],
   "cell_type": "code",
   "source": [
    "devices = Dict(\n",
    "    :Generators => DeviceModel(ThermalStandard, ThermalDispatchNoMin),\n",
    "    :Loads => DeviceModel(PowerLoad, StaticPowerLoad),\n",
    "    :HydroDispatch => DeviceModel(HydroDispatch, HydroDispatchReservoirStorage),\n",
    ")\n",
    "template_md = OperationsProblemTemplate(CopperPlatePowerModel, devices, Dict(), Dict());"
   ],
   "metadata": {},
   "execution_count": null
  },
  {
   "outputs": [],
   "cell_type": "markdown",
   "source": [
    "For the daily model, we can increase the modeling detail since we'll be solving shorter\n",
    "problems."
   ],
   "metadata": {}
  },
  {
   "outputs": [],
   "cell_type": "code",
   "source": [
    "devices = Dict(\n",
    "    :Generators => DeviceModel(ThermalStandard, ThermalDispatchNoMin),\n",
    "    :Loads => DeviceModel(PowerLoad, StaticPowerLoad),\n",
    "    :HydroDispatch => DeviceModel(HydroDispatch, HydroDispatchReservoirFlow),\n",
    ")\n",
    "template_da = OperationsProblemTemplate(CopperPlatePowerModel, devices, Dict(), Dict());"
   ],
   "metadata": {},
   "execution_count": null
  },
  {
   "outputs": [],
   "cell_type": "code",
   "source": [
    "stages_definition = Dict(\n",
    "    \"MD\" => Stage(GenericOpProblem, template_md, c_sys5_hy_wk, Cbc_optimizer),\n",
    "    \"DA\" => Stage(GenericOpProblem, template_da, c_sys5_hy_uc, Cbc_optimizer),\n",
    ")\n",
    "\n",
    "sequence = SimulationSequence(\n",
    "    order = Dict(1 => \"MD\", 2 => \"DA\"),\n",
    "    intra_stage_chronologies = Dict((\"MD\" => \"DA\") => Synchronize(periods = 2)),\n",
    "    horizons = Dict(\"MD\" => 2, \"DA\" => 24),\n",
    "    intervals = Dict(\"MD\" => Hour(48), \"DA\" => Hour(24)),\n",
    "    feed_forward = Dict(\n",
    "        (\"DA\", :devices, :HydroDispatch) =>\n",
    "                IntegralLimitFF(variable_from_stage = :P, affected_variables = [:P]),\n",
    "    ),"
   ],
   "metadata": {},
   "execution_count": null
  },
  {
   "outputs": [],
   "cell_type": "markdown",
   "source": [
    "Dont know why this doesn't work, could be fixed in the new update\n",
    "cache = Dict(\"UC\" => [TimeStatusChange(:ON_ThermalStandard)]),"
   ],
   "metadata": {}
  },
  {
   "outputs": [],
   "cell_type": "code",
   "source": [
    "    ini_cond_chronology = Dict(\"MD\" => Consecutive(), \"DA\" => Consecutive()),\n",
    ")\n",
    "\n",
    "sim = Simulation(\n",
    "    name = \"hydro\",\n",
    "    steps = 1,\n",
    "    step_resolution = Hour(48),\n",
    "    stages = stages_definition,\n",
    "    stages_sequence = sequence,\n",
    "    simulation_folder = file_path,\n",
    "    verbose = true,\n",
    ")\n",
    "\n",
    "build!(sim)"
   ],
   "metadata": {},
   "execution_count": null
  },
  {
   "outputs": [],
   "cell_type": "markdown",
   "source": [
    "---\n",
    "\n",
    "*This notebook was generated using [Literate.jl](https://github.com/fredrikekre/Literate.jl).*"
   ],
   "metadata": {}
  }
 ],
 "nbformat_minor": 3,
 "metadata": {
  "language_info": {
   "file_extension": ".jl",
   "mimetype": "application/julia",
   "name": "julia",
   "version": "1.3.1"
  },
  "kernelspec": {
   "name": "julia-1.3",
   "display_name": "Julia 1.3.1",
   "language": "julia"
  }
 },
 "nbformat": 4
}
