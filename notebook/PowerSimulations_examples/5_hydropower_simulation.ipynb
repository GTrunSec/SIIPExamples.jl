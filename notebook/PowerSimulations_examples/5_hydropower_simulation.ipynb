{
 "cells": [
  {
   "outputs": [],
   "cell_type": "markdown",
   "source": [
    "# Hydropower Simulations with [PowerSimulations.jl](https://github.com/NREL/PowerSimulations.jl)"
   ],
   "metadata": {}
  },
  {
   "outputs": [],
   "cell_type": "markdown",
   "source": [
    "**Originally Contributed by**: Clayton Barrows and Sourabh Dalvi"
   ],
   "metadata": {}
  },
  {
   "outputs": [],
   "cell_type": "markdown",
   "source": [
    "## Introduction"
   ],
   "metadata": {}
  },
  {
   "outputs": [],
   "cell_type": "markdown",
   "source": [
    "PowerSimulations.jl supports simulations that consist of sequential optimization problems\n",
    "where results from previous problems inform subsequent problems in a variety of ways.\n",
    "This example demonstrates a few of the options for modeling hydropower generation."
   ],
   "metadata": {}
  },
  {
   "outputs": [],
   "cell_type": "markdown",
   "source": [
    "## Dependencies"
   ],
   "metadata": {}
  },
  {
   "outputs": [
    {
     "output_type": "execute_result",
     "data": {
      "text/plain": "\"/Users/cbarrows/Documents/repos/SIIPExamples.jl\""
     },
     "metadata": {},
     "execution_count": 1
    }
   ],
   "cell_type": "code",
   "source": [
    "using SIIPExamples\n",
    "pkgpath = dirname(dirname(pathof(SIIPExamples)))"
   ],
   "metadata": {},
   "execution_count": 1
  },
  {
   "outputs": [],
   "cell_type": "markdown",
   "source": [
    "### Modeling Packages"
   ],
   "metadata": {}
  },
  {
   "outputs": [],
   "cell_type": "code",
   "source": [
    "using InfrastructureSystems\n",
    "const IS = InfrastructureSystems\n",
    "using PowerSystems\n",
    "const PSY = PowerSystems\n",
    "using PowerSimulations\n",
    "const PSI = PowerSimulations\n",
    "using D3TypeTrees"
   ],
   "metadata": {},
   "execution_count": 2
  },
  {
   "outputs": [],
   "cell_type": "markdown",
   "source": [
    "### Data management packages"
   ],
   "metadata": {}
  },
  {
   "outputs": [],
   "cell_type": "code",
   "source": [
    "using Dates\n",
    "using DataFrames"
   ],
   "metadata": {},
   "execution_count": 3
  },
  {
   "outputs": [],
   "cell_type": "markdown",
   "source": [
    "### Optimization packages"
   ],
   "metadata": {}
  },
  {
   "outputs": [
    {
     "output_type": "execute_result",
     "data": {
      "text/plain": "MathOptInterface.OptimizerWithAttributes(Cbc.Optimizer, Pair{MathOptInterface.AbstractOptimizerAttribute,Any}[MathOptInterface.RawParameter(\"logLevel\") => 1, MathOptInterface.RawParameter(\"ratioGap\") => 0.5])"
     },
     "metadata": {},
     "execution_count": 4
    }
   ],
   "cell_type": "code",
   "source": [
    "using JuMP\n",
    "using Cbc # solver\n",
    "solver = optimizer_with_attributes(Cbc.Optimizer, \"logLevel\" => 1, \"ratioGap\" => 0.5)"
   ],
   "metadata": {},
   "execution_count": 4
  },
  {
   "outputs": [],
   "cell_type": "markdown",
   "source": [
    "### Data\n",
    "There is a meaningless test dataset assembled in the\n",
    "[make_hydropower_data.jl](../../script/PowerSimulations_examples/make_hydro_data.jl) script."
   ],
   "metadata": {}
  },
  {
   "outputs": [
    {
     "name": "stdout",
     "output_type": "stream",
     "text": [
      "┌ Warning: Invalid range\n",
      "│   valid_info.struct_name = Bus\n",
      "│   field_name = voltage\n",
      "│   field_value = 1.07\n",
      "│   valid_range = voltagelimits\n",
      "│   valid_info.ist_struct = PowerSystems.Bus(6, \"Bus 6\", PowerSystems.BusTypes.PV, -0.24818581963359368, 1.07, (min = 0.94, max = 1.06), 13.8, nothing, nothing, Dict{String,Any}(), InfrastructureSystems.InfrastructureSystemsInternal(UUID(\"7f60e2a5-59d2-4607-9207-7c3ba70b72dd\"), nothing))\n",
      "└ @ InfrastructureSystems /Users/cbarrows/.julia/packages/InfrastructureSystems/yQ40g/src/validation.jl:209\n",
      "┌ Warning: Invalid range\n",
      "│   valid_info.struct_name = Bus\n",
      "│   field_name = voltage\n",
      "│   field_value = 1.062\n",
      "│   valid_range = voltagelimits\n",
      "│   valid_info.ist_struct = PowerSystems.Bus(7, \"Bus 7\", PowerSystems.BusTypes.PQ, -0.23335052099164186, 1.062, (min = 0.94, max = 1.06), 13.8, nothing, nothing, Dict{String,Any}(), InfrastructureSystems.InfrastructureSystemsInternal(UUID(\"764b1fb8-f5ea-4180-b897-0aeca54b2681\"), nothing))\n",
      "└ @ InfrastructureSystems /Users/cbarrows/.julia/packages/InfrastructureSystems/yQ40g/src/validation.jl:209\n",
      "┌ Warning: Invalid range\n",
      "│   valid_info.struct_name = Bus\n",
      "│   field_name = voltage\n",
      "│   field_value = 1.09\n",
      "│   valid_range = voltagelimits\n",
      "│   valid_info.ist_struct = PowerSystems.Bus(8, \"Bus 8\", PowerSystems.BusTypes.PV, -0.2331759880664424, 1.09, (min = 0.94, max = 1.06), 18.0, nothing, nothing, Dict{String,Any}(), InfrastructureSystems.InfrastructureSystemsInternal(UUID(\"d6f4984d-fa67-42bb-9319-01a2a100f01f\"), nothing))\n",
      "└ @ InfrastructureSystems /Users/cbarrows/.julia/packages/InfrastructureSystems/yQ40g/src/validation.jl:209\n",
      "┌ Warning: Invalid range\n",
      "│   valid_info.struct_name = ThermalStandard\n",
      "│   field_name = reactivepower\n",
      "│   field_value = -0.169\n",
      "│   valid_range = tech.reactivepowerlimits\n",
      "│   valid_info.ist_struct = PowerSystems.ThermalStandard(\"Bus1\", true, PowerSystems.Bus(1, \"Bus 1\", PowerSystems.BusTypes.REF, 0.0, 1.06, (min = 0.94, max = 1.06), 69.0, nothing, nothing, Dict{String,Any}(), InfrastructureSystems.InfrastructureSystemsInternal(UUID(\"f8a5add1-d3b8-4708-85b2-5f54dccd315c\"), nothing)), 2.0, -0.169, PowerSystems.TechThermal(2.324, PowerSystems.PrimeMovers.ST, PowerSystems.ThermalFuels.COAL, (min = 0.0, max = 3.332), (min = 0.0, max = 0.1), nothing, nothing, InfrastructureSystems.InfrastructureSystemsInternal(UUID(\"2f029c66-5053-4196-b722-a9342b3c0161\"), nothing)), PowerSystems.ThreePartCost(PowerSystems.VariableCost{Tuple{Float64,Float64}}((430.292599, 2000.0)), 0.0, 0.0, 0.0, InfrastructureSystems.Forecasts(Dict{InfrastructureSystems.ForecastKey,InfrastructureSystems.ForecastInternal}(), nothing), InfrastructureSystems.InfrastructureSystemsInternal(UUID(\"ed5115e5-d57c-4a77-8c17-b52b52a286c6\"), nothing)), PowerSystems.Service[], Dict{String,Any}(), InfrastructureSystems.Forecasts(Dict{InfrastructureSystems.ForecastKey,InfrastructureSystems.ForecastInternal}(), nothing), InfrastructureSystems.InfrastructureSystemsInternal(UUID(\"b0e1790f-6991-458b-b26a-12af691a95fe\"), nothing))\n",
      "└ @ InfrastructureSystems /Users/cbarrows/.julia/packages/InfrastructureSystems/yQ40g/src/validation.jl:209\n",
      "┌ Warning: Invalid range\n",
      "│   valid_info.struct_name = Bus\n",
      "│   field_name = voltage\n",
      "│   field_value = 1.07\n",
      "│   valid_range = voltagelimits\n",
      "│   valid_info.ist_struct = PowerSystems.Bus(6, \"Bus 6\", PowerSystems.BusTypes.PV, -0.24818581963359368, 1.07, (min = 0.94, max = 1.06), 13.8, nothing, nothing, Dict{String,Any}(), InfrastructureSystems.InfrastructureSystemsInternal(UUID(\"c2b94cd0-9a55-4b00-bc2c-42fafa00714c\"), nothing))\n",
      "└ @ InfrastructureSystems /Users/cbarrows/.julia/packages/InfrastructureSystems/yQ40g/src/validation.jl:209\n",
      "┌ Warning: Invalid range\n",
      "│   valid_info.struct_name = Bus\n",
      "│   field_name = voltage\n",
      "│   field_value = 1.062\n",
      "│   valid_range = voltagelimits\n",
      "│   valid_info.ist_struct = PowerSystems.Bus(7, \"Bus 7\", PowerSystems.BusTypes.PQ, -0.23335052099164186, 1.062, (min = 0.94, max = 1.06), 13.8, nothing, nothing, Dict{String,Any}(), InfrastructureSystems.InfrastructureSystemsInternal(UUID(\"f88e929d-b47a-48bf-bc34-cf1bbbf591f6\"), nothing))\n",
      "└ @ InfrastructureSystems /Users/cbarrows/.julia/packages/InfrastructureSystems/yQ40g/src/validation.jl:209\n",
      "┌ Warning: Invalid range\n",
      "│   valid_info.struct_name = Bus\n",
      "│   field_name = voltage\n",
      "│   field_value = 1.09\n",
      "│   valid_range = voltagelimits\n",
      "│   valid_info.ist_struct = PowerSystems.Bus(8, \"Bus 8\", PowerSystems.BusTypes.PV, -0.2331759880664424, 1.09, (min = 0.94, max = 1.06), 18.0, nothing, nothing, Dict{String,Any}(), InfrastructureSystems.InfrastructureSystemsInternal(UUID(\"e30f403e-aa52-4593-959c-87ff263cd659\"), nothing))\n",
      "└ @ InfrastructureSystems /Users/cbarrows/.julia/packages/InfrastructureSystems/yQ40g/src/validation.jl:209\n",
      "┌ Warning: Invalid range\n",
      "│   valid_info.struct_name = ThermalStandard\n",
      "│   field_name = reactivepower\n",
      "│   field_value = -0.169\n",
      "│   valid_range = tech.reactivepowerlimits\n",
      "│   valid_info.ist_struct = PowerSystems.ThermalStandard(\"Bus1\", true, PowerSystems.Bus(1, \"Bus 1\", PowerSystems.BusTypes.REF, 0.0, 1.06, (min = 0.94, max = 1.06), 69.0, nothing, nothing, Dict{String,Any}(), InfrastructureSystems.InfrastructureSystemsInternal(UUID(\"156f6c1a-ff75-4a94-bc1b-82909a29d4e9\"), nothing)), 2.0, -0.169, PowerSystems.TechThermal(2.324, PowerSystems.PrimeMovers.ST, PowerSystems.ThermalFuels.COAL, (min = 0.0, max = 3.332), (min = 0.0, max = 0.1), nothing, nothing, InfrastructureSystems.InfrastructureSystemsInternal(UUID(\"98dcddd0-f8ae-453f-887f-474e0adc8369\"), nothing)), PowerSystems.ThreePartCost(PowerSystems.VariableCost{Tuple{Float64,Float64}}((430.292599, 2000.0)), 0.0, 0.0, 0.0, InfrastructureSystems.Forecasts(Dict{InfrastructureSystems.ForecastKey,InfrastructureSystems.ForecastInternal}(), nothing), InfrastructureSystems.InfrastructureSystemsInternal(UUID(\"baa67a47-ef46-443e-b53d-53ed371cda9d\"), nothing)), PowerSystems.Service[], Dict{String,Any}(), InfrastructureSystems.Forecasts(Dict{InfrastructureSystems.ForecastKey,InfrastructureSystems.ForecastInternal}(), nothing), InfrastructureSystems.InfrastructureSystemsInternal(UUID(\"f2c8d261-b622-4615-bc02-980c98973884\"), nothing))\n",
      "└ @ InfrastructureSystems /Users/cbarrows/.julia/packages/InfrastructureSystems/yQ40g/src/validation.jl:209\n",
      "┌ Info: Created InMemoryTimeSeriesStorage\n",
      "└ @ InfrastructureSystems /Users/cbarrows/.julia/packages/InfrastructureSystems/yQ40g/src/in_memory_time_series_storage.jl:24\n",
      "┌ Info: Created InMemoryTimeSeriesStorage\n",
      "└ @ InfrastructureSystems /Users/cbarrows/.julia/packages/InfrastructureSystems/yQ40g/src/in_memory_time_series_storage.jl:24\n",
      "┌ Info: Created InMemoryTimeSeriesStorage\n",
      "└ @ InfrastructureSystems /Users/cbarrows/.julia/packages/InfrastructureSystems/yQ40g/src/in_memory_time_series_storage.jl:24\n",
      "┌ Info: Created InMemoryTimeSeriesStorage\n",
      "└ @ InfrastructureSystems /Users/cbarrows/.julia/packages/InfrastructureSystems/yQ40g/src/in_memory_time_series_storage.jl:24\n"
     ]
    }
   ],
   "cell_type": "code",
   "source": [
    "include(joinpath(pkgpath, \"script\", \"PowerSimulations_examples\", \"make_hydro_data.jl\"))"
   ],
   "metadata": {},
   "execution_count": 5
  },
  {
   "outputs": [],
   "cell_type": "markdown",
   "source": [
    "## Two PowerSimulations features determine hydropower representation.\n",
    "There are two principal ways that we can customize hydropower representation in\n",
    "PowerSimulations. First, we can play with the formulation applied to hydropower generators\n",
    "using the `DeviceModel`. We can also adjust how simulations are configured to represent\n",
    "different decision making processes and the information flow between those processes."
   ],
   "metadata": {}
  },
  {
   "outputs": [],
   "cell_type": "markdown",
   "source": [
    "### Hydropower `DeviceModel`s"
   ],
   "metadata": {}
  },
  {
   "outputs": [],
   "cell_type": "markdown",
   "source": [
    "First, the assignment of device formulations to particular device types gives us control\n",
    "over the representation of devices. This is accomplished by defining `DeviceModel`\n",
    "instances. For hydro power representations, we have two available generator types in\n",
    "PowerSystems:"
   ],
   "metadata": {}
  },
  {
   "outputs": [
    {
     "output_type": "execute_result",
     "data": {
      "text/plain": "PowerSystems.HydroGen\n├──PowerSystems.HydroDispatch\n└──PowerSystems.HydroEnergyReservoir\n",
      "text/html": [
       "    <!DOCTYPE html>\n",
       "    <html>\n",
       "    <head>\n",
       "        <meta charset=\"UTF-8\">\n",
       "        <title>Julia D3Tree</title>\n",
       "    </head>\n",
       "    <body>\n",
       "    <div id=\"treevisoPEtjOT1\">\n",
       "    <style>\n",
       "        \n",
       ".node {\n",
       "    cursor: pointer;\n",
       "}\n",
       "\n",
       ".node circle {\n",
       "\t  fill: #fff;\n",
       "\t  stroke: steelblue;\n",
       "\t  stroke-width: 3px;\n",
       "      r: 10;\n",
       "}\n",
       "\n",
       ".node rect {\n",
       "\t  fill: #fff;\n",
       "\t  stroke: steelblue;\n",
       "\t  stroke-width: 3px;\n",
       "      x: -10;\n",
       "      y: -10;\n",
       "      width: 20;\n",
       "      height: 20;\n",
       "}\n",
       "\n",
       ".node path {\n",
       "    fill: #ffffff;\n",
       "    /* stroke: steelblue; */\n",
       "    stroke-width: 2px;\n",
       "}\n",
       ".node text {\n",
       "    font-family: Arial, Helvetica, sans-serif;\n",
       "    font-style: normal;\n",
       "    font-size: 12px;\n",
       "}\n",
       ".link /* path */ {\n",
       "    fill: none;\n",
       "    stroke: #cccccc;\n",
       "    stroke-width: 2px;\n",
       "}\n",
       ".link text {\n",
       "    font-family: Arial, Helvetica, sans-serif;\n",
       "    font-style: normal;\n",
       "    font-size: 12px;\n",
       "}\n",
       ".hover text{\n",
       "    font-family: Arial, Helvetica, sans-serif;\n",
       "    font-style: normal;\n",
       "    font-size: 12px;\n",
       "}\n",
       "\n",
       "/*\n",
       ".svg-container {\n",
       "    display: inline-block;\n",
       "    position: relative;\n",
       "    width: 100%;\n",
       "    padding-bottom: 100%;\n",
       "    vertical-align: top;\n",
       "    overflow: hidden;\n",
       "}\n",
       ".svg-content-responsive {\n",
       "    display: inline-block;\n",
       "    position: absolute;\n",
       "    top: 10px;\n",
       "    left: 0;\n",
       "}\n",
       "*/\n",
       "\n",
       "    </style>\n",
       "    <script>\n",
       "       (function(){\n",
       "        var treeData = {\"children\":[[2,3],[],[]],\"text\":[\"PowerSystems.HydroGen\",\"PowerSystems.HydroDispatch\",\"PowerSystems.HydroEnergyReservoir\"],\"tooltip\":[\"Abstract\",\"name\\navailable\\nbus\\nactivepower\\nreactivepower\\ntech\\nservices\\next\\nforecasts\\ninternal\",\"name\\navailable\\nbus\\nactivepower\\nreactivepower\\ntech\\nop_cost\\nstorage_capacity\\ninflow\\ninitial_storage\\nservices\\next\\nforecasts\\ninternal\"],\"style\":[\"\",\"\",\"\"],\"link_style\":[\"\",\"\",\"\"],\"title\":\"Julia D3Tree\",\"options\":{\"tooltip\":[\"Abstract\",\"name\\navailable\\nbus\\nactivepower\\nreactivepower\\ntech\\nservices\\next\\nforecasts\\ninternal\",\"name\\navailable\\nbus\\nactivepower\\nreactivepower\\ntech\\nop_cost\\nstorage_capacity\\ninflow\\ninitial_storage\\nservices\\next\\nforecasts\\ninternal\"],\"text\":[\"PowerSystems.HydroGen\",\"PowerSystems.HydroDispatch\",\"PowerSystems.HydroEnergyReservoir\"],\"init_expand\":1}};\n",
       "        var rootID = 1-1;\n",
       "        var div = \"treevisoPEtjOT1\";\n",
       "        var initExpand = 1\n",
       "        var initDuration = 750\n",
       "        var svgHeight = 600\n",
       "        if (typeof $ === 'undefined') {\n",
       "    loadScript(\"https://code.jquery.com/jquery-3.1.1.min.js\", run);\n",
       "} else {\n",
       "    run();\n",
       "}\n",
       "\n",
       "function run() {\n",
       "    if (typeof d3 === 'undefined') {\n",
       "        loadScript(\"https://d3js.org/d3.v3.js\", showTree);\n",
       "    } else {\n",
       "        showTree();\n",
       "    }\n",
       "}\n",
       "\n",
       "function loadScript(url, callback)\n",
       "{\n",
       "    console.log(\"starting script load...\")\n",
       "    // Adding the script tag to the head as suggested before\n",
       "    var head = document.getElementsByTagName('head')[0];\n",
       "    var script = document.createElement('script');\n",
       "    script.type = 'text/javascript';\n",
       "    script.src = url;\n",
       "\n",
       "    // Then bind the event to the callback function.\n",
       "    // There are several events for cross browser compatibility.\n",
       "    script.onreadystatechange = callback;\n",
       "    script.onload = callback;\n",
       "\n",
       "    // Fire the loading\n",
       "    head.appendChild(script);\n",
       "}\n",
       "\n",
       "function showTree() {\n",
       "        \n",
       "    // var margin = {top: 20, right: 120, bottom: 20, left: 120},\n",
       "    var margin = {top: 20, right: 120, bottom: 80, left: 120},\n",
       "        width = $(\"#\"+div).width() - margin.right - margin.left,\n",
       "        height = svgHeight - margin.top - margin.bottom;\n",
       "        // TODO make height a parameter of TreeVisualizer\n",
       "\n",
       "    var i = 0,\n",
       "        root;\n",
       "\n",
       "    var tree = d3.layout.tree()\n",
       "        .size([width, height]);\n",
       "\n",
       "    var diagonal = d3.svg.diagonal();\n",
       "        //.projection(function(d) { return [d.y, d.x]; });\n",
       "        // uncomment above to make the tree go horizontally\n",
       "\n",
       "    // see http://stackoverflow.com/questions/16265123/resize-svg-when-window-is-resized-in-d3-js\n",
       "    if (d3.select(\"#\"+div+\"_svg\").empty()) {\n",
       "        $(\".d3twarn\").remove();\n",
       "        d3.select(\"#\"+div).append(\"svg\")\n",
       "            .attr(\"id\", div+\"_svg\")\n",
       "            .attr(\"width\", width + margin.right + margin.left)\n",
       "            .attr(\"height\", height + margin.top + margin.bottom);\n",
       "    }\n",
       "\n",
       "    d3.select(\"#\"+div+\"_svg\").selectAll(\"*\").remove();\n",
       "\n",
       "    var svg = d3.select(\"#\"+div+\"_svg\")\n",
       "        .append(\"g\")\n",
       "            .attr(\"transform\", \"translate(\" + margin.left + \",\" + margin.top + \")\");\n",
       "\n",
       "    // console.log(\"tree data:\");\n",
       "    // console.log(treeData[rootID]);\n",
       "    root = createDisplayNode(rootID, initExpand);\n",
       "    root.x0 = width / 2;\n",
       "    root.y0 = 0;\n",
       "\n",
       "    update(root, initDuration);\n",
       "    console.log(\"tree should appear\");\n",
       "\n",
       "    function createDisplayNode(id, expandLevel) {\n",
       "      var dnode = {\"dataID\":id,\n",
       "                   \"children\": null,\n",
       "                   \"_children\":null};\n",
       "      if (expandLevel > 0) {\n",
       "        initializeChildren(dnode, expandLevel);\n",
       "      }\n",
       "      return dnode;\n",
       "    }\n",
       "\n",
       "    function initializeChildren(d, expandLevel) {\n",
       "      // create children\n",
       "      var children = treeData.children[d.dataID];\n",
       "      d.children = [];\n",
       "      if (children) {\n",
       "        for (var i = 0; i < children.length; i++) {\n",
       "          var cid = children[i]-1;\n",
       "          d.children.push(createDisplayNode(cid, expandLevel-1));\n",
       "        }\n",
       "      }\n",
       "    }\n",
       "\n",
       "    /**\n",
       "     * Recursively called to update each node in the tree.\n",
       "     * \n",
       "     * source is a d3 node that has position, etc.\n",
       "    */\n",
       "    function update(source, duration) {\n",
       "\n",
       "      width = $(\"#\"+div).width() - margin.right - margin.left,\n",
       "      height = $(\"#\"+div).height() - margin.top - margin.bottom;\n",
       "\n",
       "      tree.size([width,height]);\n",
       "      d3.select(\"#\"+div).attr(\"width\", width + margin.right + margin.left)\n",
       "            .attr(\"height\", height + margin.top + margin.bottom);\n",
       "      d3.select(\"#\"+div+\"_svg\").attr(\"width\", width + margin.right + margin.left)\n",
       "             .attr(\"height\", height + margin.top + margin.bottom);\n",
       "\n",
       "\n",
       "      // Compute the new tree layout.\n",
       "      var nodes = tree.nodes(root).reverse(),\n",
       "          links = tree.links(nodes);\n",
       "\n",
       "\n",
       "      // Update the nodes…\n",
       "      var node = svg.selectAll(\"g.node\")\n",
       "          .data(nodes, function(d) { return d.id || (d.id = ++i); });\n",
       "\n",
       "      // Enter any new nodes at the parent's previous position.\n",
       "      var nodeEnter = node.enter().append(\"g\")\n",
       "          .attr(\"class\", \"node\")\n",
       "          .attr(\"transform\", function(d) { return \"translate(\" + source.x0 + \",\" + source.y0 + \")\"; })\n",
       "          .on(\"click\", click)\n",
       "\n",
       "      nodeEnter.append(\"circle\")\n",
       "          .attr(\"r\", \"10px\")\n",
       "          .attr(\"style\", function(d) { return treeData.style[d.dataID]; } )\n",
       "\n",
       "      var tbox = nodeEnter.append(\"text\")\n",
       "          .attr(\"y\", 25)\n",
       "          .attr(\"text-anchor\", \"middle\")\n",
       "          //.text( function(d) { return treeData.text[d.dataID]; } )\n",
       "          .style(\"fill-opacity\", 1e-6);\n",
       "\n",
       "      tbox.each( function(d) {\n",
       "          var el = d3.select(this)\n",
       "          var text = treeData.text[d.dataID];\n",
       "          var lines = text.split('\\n');\n",
       "          for (var i = 0; i < lines.length; i++) {\n",
       "              var tspan = el.append(\"tspan\").text(lines[i]);\n",
       "              if (i > 0) {\n",
       "                  tspan.attr(\"x\", 0).attr(\"dy\", \"1.2em\");\n",
       "              }\n",
       "          }\n",
       "      });\n",
       "\n",
       "      //tooltip\n",
       "      nodeEnter.append(\"title\").text( function(d) { return treeData.tooltip[d.dataID];} );\n",
       "\n",
       "      // Transition nodes to their new position.\n",
       "      var nodeUpdate = node.transition()\n",
       "          .duration(duration)\n",
       "          .attr(\"transform\", function(d) { return \"translate(\" + d.x + \",\" + d.y + \")\"; });\n",
       "\n",
       "      nodeUpdate.select(\"text\")\n",
       "          .style(\"fill-opacity\", 1);\n",
       "\n",
       "      // Transition exiting nodes to the parent's new position.\n",
       "      var nodeExit = node.exit().transition()\n",
       "          .duration(duration)\n",
       "          .attr(\"transform\", function(d) { return \"translate(\" + source.x + \",\" + source.y + \")\"; })\n",
       "          .remove();\n",
       "\n",
       "      nodeExit.select(\"text\")\n",
       "          .style(\"fill-opacity\", 1e-6);\n",
       "\n",
       "      // Update the links…\n",
       "      var link = svg.selectAll(\"path.link\")\n",
       "          .data(links, function(d) { return d.target.id; });\n",
       "\n",
       "      // Enter any new links at the parent's previous position.\n",
       "      // XXX link width should be based on transition data, not node data\n",
       "      link.enter().insert(\"path\", \"g\")\n",
       "          .attr(\"class\", \"link\")\n",
       "          .attr(\"style\", function(d) {\n",
       "              var ls = treeData.link_style[d.target.dataID];\n",
       "              return ls;\n",
       "          } )\n",
       "          .attr(\"d\", function(d) {\n",
       "            var o = {x: source.x0, y: source.y0};\n",
       "            return diagonal({source: o, target: o});\n",
       "          });\n",
       "\n",
       "      // Transition links to their new position.\n",
       "      link.transition()\n",
       "          .duration(duration)\n",
       "          .attr(\"d\", diagonal);\n",
       "\n",
       "      // Transition exiting nodes to the parent's new position.\n",
       "      link.exit().transition()\n",
       "          .duration(duration)\n",
       "          .attr(\"d\", function(d) {\n",
       "            var o = {x: source.x, y: source.y};\n",
       "            return diagonal({source: o, target: o});\n",
       "          })\n",
       "          .remove();\n",
       "\n",
       "      // Stash the old positions for transition.\n",
       "      nodes.forEach(function(d) {\n",
       "        d.x0 = d.x;\n",
       "        d.y0 = d.y;\n",
       "      });\n",
       "    }\n",
       "\n",
       "    // Toggle children on click.\n",
       "    function click(d) {\n",
       "      if (d.children) {\n",
       "        d._children = d.children;\n",
       "        d.children = null;\n",
       "      } else if (d._children) {\n",
       "        d.children = d._children;\n",
       "        d._children = null;\n",
       "      } else {\n",
       "        initializeChildren(d, 1);\n",
       "      }\n",
       "      update(d, 750);\n",
       "    }\n",
       "\n",
       "}\n",
       "\n",
       "        })();\n",
       "    </script>\n",
       "    <p class=\"d3twarn\">\n",
       "    Attempting to display the tree. If the tree is large, this may take some time.\n",
       "    </p>\n",
       "    <p class=\"d3twarn\">\n",
       "    Note: D3Trees.jl requires an internet connection. If no tree appears, please check your connection. To help fix this, please see <a href=\"https://github.com/sisl/D3Trees.jl/issues/10\">this issue</a>. You may also diagnose errors with the javascript console (Ctrl-Shift-J in chrome).\n",
       "    </p>\n",
       "    </div>\n",
       "    </body>\n",
       "    </html>\n",
       "\n"
      ]
     },
     "metadata": {},
     "execution_count": 6
    }
   ],
   "cell_type": "code",
   "source": [
    "TypeTree(PSY.HydroGen)"
   ],
   "metadata": {},
   "execution_count": 6
  },
  {
   "outputs": [],
   "cell_type": "markdown",
   "source": [
    "And in PowerSimulations, we have several available formulations that can be applied to\n",
    "the hydropower generation devices:"
   ],
   "metadata": {}
  },
  {
   "outputs": [
    {
     "output_type": "execute_result",
     "data": {
      "text/plain": "PowerSimulations\nAbstractHydroFormulation\n├──PowerSimulations\n│  AbstractHydroDispatchFormulation\n│  ├──PowerSimulations\n│  │  HydroDispatchRunOfRiver\n│  └──PowerSimulations\n│     AbstractHydroReservoirFormulation\n│     ├──PowerSimulations\n│     │  HydroDispatchReservoirStorage (0 children)\n│     └──PowerSimulations\n│        HydroDispatchReservoirFlow (0 children)\n├──PowerSimulations\n│  HydroFixed\n└──PowerSimulations\n   AbstractHydroUnitCommitment\n",
      "text/html": [
       "    <!DOCTYPE html>\n",
       "    <html>\n",
       "    <head>\n",
       "        <meta charset=\"UTF-8\">\n",
       "        <title>Julia D3Tree</title>\n",
       "    </head>\n",
       "    <body>\n",
       "    <div id=\"treeviseeKtyIWB\">\n",
       "    <style>\n",
       "        \n",
       ".node {\n",
       "    cursor: pointer;\n",
       "}\n",
       "\n",
       ".node circle {\n",
       "\t  fill: #fff;\n",
       "\t  stroke: steelblue;\n",
       "\t  stroke-width: 3px;\n",
       "      r: 10;\n",
       "}\n",
       "\n",
       ".node rect {\n",
       "\t  fill: #fff;\n",
       "\t  stroke: steelblue;\n",
       "\t  stroke-width: 3px;\n",
       "      x: -10;\n",
       "      y: -10;\n",
       "      width: 20;\n",
       "      height: 20;\n",
       "}\n",
       "\n",
       ".node path {\n",
       "    fill: #ffffff;\n",
       "    /* stroke: steelblue; */\n",
       "    stroke-width: 2px;\n",
       "}\n",
       ".node text {\n",
       "    font-family: Arial, Helvetica, sans-serif;\n",
       "    font-style: normal;\n",
       "    font-size: 12px;\n",
       "}\n",
       ".link /* path */ {\n",
       "    fill: none;\n",
       "    stroke: #cccccc;\n",
       "    stroke-width: 2px;\n",
       "}\n",
       ".link text {\n",
       "    font-family: Arial, Helvetica, sans-serif;\n",
       "    font-style: normal;\n",
       "    font-size: 12px;\n",
       "}\n",
       ".hover text{\n",
       "    font-family: Arial, Helvetica, sans-serif;\n",
       "    font-style: normal;\n",
       "    font-size: 12px;\n",
       "}\n",
       "\n",
       "/*\n",
       ".svg-container {\n",
       "    display: inline-block;\n",
       "    position: relative;\n",
       "    width: 100%;\n",
       "    padding-bottom: 100%;\n",
       "    vertical-align: top;\n",
       "    overflow: hidden;\n",
       "}\n",
       ".svg-content-responsive {\n",
       "    display: inline-block;\n",
       "    position: absolute;\n",
       "    top: 10px;\n",
       "    left: 0;\n",
       "}\n",
       "*/\n",
       "\n",
       "    </style>\n",
       "    <script>\n",
       "       (function(){\n",
       "        var treeData = {\"children\":[[2,7,8],[3,4],[],[5,6],[],[],[],[]],\"text\":[\"PowerSimulations\\nAbstractHydroFormulation\",\"PowerSimulations\\nAbstractHydroDispatchFormulation\",\"PowerSimulations\\nHydroDispatchRunOfRiver\",\"PowerSimulations\\nAbstractHydroReservoirFormulation\",\"PowerSimulations\\nHydroDispatchReservoirStorage\",\"PowerSimulations\\nHydroDispatchReservoirFlow\",\"PowerSimulations\\nHydroFixed\",\"PowerSimulations\\nAbstractHydroUnitCommitment\"],\"tooltip\":[\"Abstract\",\"Abstract\",\"\",\"Abstract\",\"\",\"\",\"\",\"\"],\"style\":[\"\",\"\",\"\",\"\",\"\",\"\",\"\",\"\"],\"link_style\":[\"\",\"\",\"\",\"\",\"\",\"\",\"\",\"\"],\"title\":\"Julia D3Tree\",\"options\":{\"tooltip\":[\"Abstract\",\"Abstract\",\"\",\"Abstract\",\"\",\"\",\"\",\"\"],\"text\":[\"PowerSimulations\\nAbstractHydroFormulation\",\"PowerSimulations\\nAbstractHydroDispatchFormulation\",\"PowerSimulations\\nHydroDispatchRunOfRiver\",\"PowerSimulations\\nAbstractHydroReservoirFormulation\",\"PowerSimulations\\nHydroDispatchReservoirStorage\",\"PowerSimulations\\nHydroDispatchReservoirFlow\",\"PowerSimulations\\nHydroFixed\",\"PowerSimulations\\nAbstractHydroUnitCommitment\"],\"init_expand\":5}};\n",
       "        var rootID = 1-1;\n",
       "        var div = \"treeviseeKtyIWB\";\n",
       "        var initExpand = 5\n",
       "        var initDuration = 750\n",
       "        var svgHeight = 600\n",
       "        if (typeof $ === 'undefined') {\n",
       "    loadScript(\"https://code.jquery.com/jquery-3.1.1.min.js\", run);\n",
       "} else {\n",
       "    run();\n",
       "}\n",
       "\n",
       "function run() {\n",
       "    if (typeof d3 === 'undefined') {\n",
       "        loadScript(\"https://d3js.org/d3.v3.js\", showTree);\n",
       "    } else {\n",
       "        showTree();\n",
       "    }\n",
       "}\n",
       "\n",
       "function loadScript(url, callback)\n",
       "{\n",
       "    console.log(\"starting script load...\")\n",
       "    // Adding the script tag to the head as suggested before\n",
       "    var head = document.getElementsByTagName('head')[0];\n",
       "    var script = document.createElement('script');\n",
       "    script.type = 'text/javascript';\n",
       "    script.src = url;\n",
       "\n",
       "    // Then bind the event to the callback function.\n",
       "    // There are several events for cross browser compatibility.\n",
       "    script.onreadystatechange = callback;\n",
       "    script.onload = callback;\n",
       "\n",
       "    // Fire the loading\n",
       "    head.appendChild(script);\n",
       "}\n",
       "\n",
       "function showTree() {\n",
       "        \n",
       "    // var margin = {top: 20, right: 120, bottom: 20, left: 120},\n",
       "    var margin = {top: 20, right: 120, bottom: 80, left: 120},\n",
       "        width = $(\"#\"+div).width() - margin.right - margin.left,\n",
       "        height = svgHeight - margin.top - margin.bottom;\n",
       "        // TODO make height a parameter of TreeVisualizer\n",
       "\n",
       "    var i = 0,\n",
       "        root;\n",
       "\n",
       "    var tree = d3.layout.tree()\n",
       "        .size([width, height]);\n",
       "\n",
       "    var diagonal = d3.svg.diagonal();\n",
       "        //.projection(function(d) { return [d.y, d.x]; });\n",
       "        // uncomment above to make the tree go horizontally\n",
       "\n",
       "    // see http://stackoverflow.com/questions/16265123/resize-svg-when-window-is-resized-in-d3-js\n",
       "    if (d3.select(\"#\"+div+\"_svg\").empty()) {\n",
       "        $(\".d3twarn\").remove();\n",
       "        d3.select(\"#\"+div).append(\"svg\")\n",
       "            .attr(\"id\", div+\"_svg\")\n",
       "            .attr(\"width\", width + margin.right + margin.left)\n",
       "            .attr(\"height\", height + margin.top + margin.bottom);\n",
       "    }\n",
       "\n",
       "    d3.select(\"#\"+div+\"_svg\").selectAll(\"*\").remove();\n",
       "\n",
       "    var svg = d3.select(\"#\"+div+\"_svg\")\n",
       "        .append(\"g\")\n",
       "            .attr(\"transform\", \"translate(\" + margin.left + \",\" + margin.top + \")\");\n",
       "\n",
       "    // console.log(\"tree data:\");\n",
       "    // console.log(treeData[rootID]);\n",
       "    root = createDisplayNode(rootID, initExpand);\n",
       "    root.x0 = width / 2;\n",
       "    root.y0 = 0;\n",
       "\n",
       "    update(root, initDuration);\n",
       "    console.log(\"tree should appear\");\n",
       "\n",
       "    function createDisplayNode(id, expandLevel) {\n",
       "      var dnode = {\"dataID\":id,\n",
       "                   \"children\": null,\n",
       "                   \"_children\":null};\n",
       "      if (expandLevel > 0) {\n",
       "        initializeChildren(dnode, expandLevel);\n",
       "      }\n",
       "      return dnode;\n",
       "    }\n",
       "\n",
       "    function initializeChildren(d, expandLevel) {\n",
       "      // create children\n",
       "      var children = treeData.children[d.dataID];\n",
       "      d.children = [];\n",
       "      if (children) {\n",
       "        for (var i = 0; i < children.length; i++) {\n",
       "          var cid = children[i]-1;\n",
       "          d.children.push(createDisplayNode(cid, expandLevel-1));\n",
       "        }\n",
       "      }\n",
       "    }\n",
       "\n",
       "    /**\n",
       "     * Recursively called to update each node in the tree.\n",
       "     * \n",
       "     * source is a d3 node that has position, etc.\n",
       "    */\n",
       "    function update(source, duration) {\n",
       "\n",
       "      width = $(\"#\"+div).width() - margin.right - margin.left,\n",
       "      height = $(\"#\"+div).height() - margin.top - margin.bottom;\n",
       "\n",
       "      tree.size([width,height]);\n",
       "      d3.select(\"#\"+div).attr(\"width\", width + margin.right + margin.left)\n",
       "            .attr(\"height\", height + margin.top + margin.bottom);\n",
       "      d3.select(\"#\"+div+\"_svg\").attr(\"width\", width + margin.right + margin.left)\n",
       "             .attr(\"height\", height + margin.top + margin.bottom);\n",
       "\n",
       "\n",
       "      // Compute the new tree layout.\n",
       "      var nodes = tree.nodes(root).reverse(),\n",
       "          links = tree.links(nodes);\n",
       "\n",
       "\n",
       "      // Update the nodes…\n",
       "      var node = svg.selectAll(\"g.node\")\n",
       "          .data(nodes, function(d) { return d.id || (d.id = ++i); });\n",
       "\n",
       "      // Enter any new nodes at the parent's previous position.\n",
       "      var nodeEnter = node.enter().append(\"g\")\n",
       "          .attr(\"class\", \"node\")\n",
       "          .attr(\"transform\", function(d) { return \"translate(\" + source.x0 + \",\" + source.y0 + \")\"; })\n",
       "          .on(\"click\", click)\n",
       "\n",
       "      nodeEnter.append(\"circle\")\n",
       "          .attr(\"r\", \"10px\")\n",
       "          .attr(\"style\", function(d) { return treeData.style[d.dataID]; } )\n",
       "\n",
       "      var tbox = nodeEnter.append(\"text\")\n",
       "          .attr(\"y\", 25)\n",
       "          .attr(\"text-anchor\", \"middle\")\n",
       "          //.text( function(d) { return treeData.text[d.dataID]; } )\n",
       "          .style(\"fill-opacity\", 1e-6);\n",
       "\n",
       "      tbox.each( function(d) {\n",
       "          var el = d3.select(this)\n",
       "          var text = treeData.text[d.dataID];\n",
       "          var lines = text.split('\\n');\n",
       "          for (var i = 0; i < lines.length; i++) {\n",
       "              var tspan = el.append(\"tspan\").text(lines[i]);\n",
       "              if (i > 0) {\n",
       "                  tspan.attr(\"x\", 0).attr(\"dy\", \"1.2em\");\n",
       "              }\n",
       "          }\n",
       "      });\n",
       "\n",
       "      //tooltip\n",
       "      nodeEnter.append(\"title\").text( function(d) { return treeData.tooltip[d.dataID];} );\n",
       "\n",
       "      // Transition nodes to their new position.\n",
       "      var nodeUpdate = node.transition()\n",
       "          .duration(duration)\n",
       "          .attr(\"transform\", function(d) { return \"translate(\" + d.x + \",\" + d.y + \")\"; });\n",
       "\n",
       "      nodeUpdate.select(\"text\")\n",
       "          .style(\"fill-opacity\", 1);\n",
       "\n",
       "      // Transition exiting nodes to the parent's new position.\n",
       "      var nodeExit = node.exit().transition()\n",
       "          .duration(duration)\n",
       "          .attr(\"transform\", function(d) { return \"translate(\" + source.x + \",\" + source.y + \")\"; })\n",
       "          .remove();\n",
       "\n",
       "      nodeExit.select(\"text\")\n",
       "          .style(\"fill-opacity\", 1e-6);\n",
       "\n",
       "      // Update the links…\n",
       "      var link = svg.selectAll(\"path.link\")\n",
       "          .data(links, function(d) { return d.target.id; });\n",
       "\n",
       "      // Enter any new links at the parent's previous position.\n",
       "      // XXX link width should be based on transition data, not node data\n",
       "      link.enter().insert(\"path\", \"g\")\n",
       "          .attr(\"class\", \"link\")\n",
       "          .attr(\"style\", function(d) {\n",
       "              var ls = treeData.link_style[d.target.dataID];\n",
       "              return ls;\n",
       "          } )\n",
       "          .attr(\"d\", function(d) {\n",
       "            var o = {x: source.x0, y: source.y0};\n",
       "            return diagonal({source: o, target: o});\n",
       "          });\n",
       "\n",
       "      // Transition links to their new position.\n",
       "      link.transition()\n",
       "          .duration(duration)\n",
       "          .attr(\"d\", diagonal);\n",
       "\n",
       "      // Transition exiting nodes to the parent's new position.\n",
       "      link.exit().transition()\n",
       "          .duration(duration)\n",
       "          .attr(\"d\", function(d) {\n",
       "            var o = {x: source.x, y: source.y};\n",
       "            return diagonal({source: o, target: o});\n",
       "          })\n",
       "          .remove();\n",
       "\n",
       "      // Stash the old positions for transition.\n",
       "      nodes.forEach(function(d) {\n",
       "        d.x0 = d.x;\n",
       "        d.y0 = d.y;\n",
       "      });\n",
       "    }\n",
       "\n",
       "    // Toggle children on click.\n",
       "    function click(d) {\n",
       "      if (d.children) {\n",
       "        d._children = d.children;\n",
       "        d.children = null;\n",
       "      } else if (d._children) {\n",
       "        d.children = d._children;\n",
       "        d._children = null;\n",
       "      } else {\n",
       "        initializeChildren(d, 1);\n",
       "      }\n",
       "      update(d, 750);\n",
       "    }\n",
       "\n",
       "}\n",
       "\n",
       "        })();\n",
       "    </script>\n",
       "    <p class=\"d3twarn\">\n",
       "    Attempting to display the tree. If the tree is large, this may take some time.\n",
       "    </p>\n",
       "    <p class=\"d3twarn\">\n",
       "    Note: D3Trees.jl requires an internet connection. If no tree appears, please check your connection. To help fix this, please see <a href=\"https://github.com/sisl/D3Trees.jl/issues/10\">this issue</a>. You may also diagnose errors with the javascript console (Ctrl-Shift-J in chrome).\n",
       "    </p>\n",
       "    </div>\n",
       "    </body>\n",
       "    </html>\n",
       "\n"
      ]
     },
     "metadata": {},
     "execution_count": 7
    }
   ],
   "cell_type": "code",
   "source": [
    "TypeTree(PSI.AbstractHydroFormulation, scopesep=\"\\n\", init_expand = 5)"
   ],
   "metadata": {},
   "execution_count": 7
  },
  {
   "outputs": [],
   "cell_type": "markdown",
   "source": [
    "Let's see what some of the different combinations create. First, let's apply the\n",
    "`HydroDispatchRunOfRiver` formulation to the `HydroEnergyReservoir` generators, and the\n",
    "`HydroFixed` formulation to `HydroDispatch` generators.\n",
    " - The `HydroFixed` formulation just acts\n",
    "like a load subtractor, forcing the system to accept it's generation.\n",
    " - The `HydroDispatchRunOfRiver` formulation represents the the energy flowing out of\n",
    "a reservoir. The model can choose to produce power with that energy or just let it spill by."
   ],
   "metadata": {}
  },
  {
   "outputs": [
    {
     "output_type": "execute_result",
     "data": {
      "text/plain": "\nOperations Problem Specification\n============================================\n\n  transmission:  PowerSimulations.CopperPlatePowerModel\n============================================\n  devices: \n      Load:\n        device_type = PowerSystems.PowerLoad\n        formulation = PowerSimulations.StaticPowerLoad\n      Hyd1:\n        device_type = PowerSystems.HydroEnergyReservoir\n        formulation = PowerSimulations.HydroDispatchRunOfRiver\n      Hyd2:\n        device_type = PowerSystems.HydroDispatch\n        formulation = PowerSimulations.HydroFixed\n============================================\n  branches: \n============================================\n  services: \n============================================\n"
     },
     "metadata": {},
     "execution_count": 8
    }
   ],
   "cell_type": "code",
   "source": [
    "devices = Dict{Symbol,DeviceModel}(\n",
    "    :Hyd1 => DeviceModel(HydroEnergyReservoir, HydroDispatchRunOfRiver),\n",
    "    :Hyd2 => DeviceModel(HydroDispatch, HydroFixed),\n",
    "    :Load => DeviceModel(PowerLoad, StaticPowerLoad),\n",
    ");\n",
    "\n",
    "template = PSI.OperationsProblemTemplate(CopperPlatePowerModel, devices, Dict(), Dict());\n",
    "\n",
    "op_problem = PSI.OperationsProblem(GenericOpProblem, template, c_sys5_hy, horizon = 2)"
   ],
   "metadata": {},
   "execution_count": 8
  },
  {
   "outputs": [],
   "cell_type": "markdown",
   "source": [
    "Now we can see the resulting JuMP model:"
   ],
   "metadata": {}
  },
  {
   "outputs": [
    {
     "output_type": "execute_result",
     "data": {
      "text/plain": "A JuMP Model\nMinimization problem with:\nVariables: 2\nObjective function type: JuMP.GenericAffExpr{Float64,JuMP.VariableRef}\n`JuMP.GenericAffExpr{Float64,JuMP.VariableRef}`-in-`MathOptInterface.EqualTo{Float64}`: 2 constraints\n`JuMP.GenericAffExpr{Float64,JuMP.VariableRef}`-in-`MathOptInterface.LessThan{Float64}`: 2 constraints\n`JuMP.VariableRef`-in-`MathOptInterface.GreaterThan{Float64}`: 2 constraints\n`JuMP.VariableRef`-in-`MathOptInterface.LessThan{Float64}`: 2 constraints\nModel mode: AUTOMATIC\nCachingOptimizer state: NO_OPTIMIZER\nSolver name: No optimizer attached.",
      "text/latex": "$$ \\begin{alignat*}{1}\\min\\quad & 0\\\\\n\\text{Subject to} \\quad & P__PowerSystems.HydroEnergyReservoir_{HydroEnergyReservoir, 1} = 8.029589176\\\\\n & P__PowerSystems.HydroEnergyReservoir_{HydroEnergyReservoir, 2} = 8.016417262000001\\\\\n & P__PowerSystems.HydroEnergyReservoir_{HydroEnergyReservoir, 1} \\leq 17.8322179572\\\\\n & P__PowerSystems.HydroEnergyReservoir_{HydroEnergyReservoir, 2} \\leq 17.9514237789\\\\\n & P__PowerSystems.HydroEnergyReservoir_{HydroEnergyReservoir, 1} \\geq 3.0\\\\\n & P__PowerSystems.HydroEnergyReservoir_{HydroEnergyReservoir, 2} \\geq 3.0\\\\\n & P__PowerSystems.HydroEnergyReservoir_{HydroEnergyReservoir, 1} \\leq 18.1\\\\\n & P__PowerSystems.HydroEnergyReservoir_{HydroEnergyReservoir, 2} \\leq 18.1\\\\\n\\end{alignat*}\n $$"
     },
     "metadata": {},
     "execution_count": 9
    }
   ],
   "cell_type": "code",
   "source": [
    "op_problem.psi_container.JuMPmodel"
   ],
   "metadata": {},
   "execution_count": 9
  },
  {
   "outputs": [],
   "cell_type": "markdown",
   "source": [
    "The first two constraints are the power balance constraints that require the generation\n",
    "from the controllable `HydroEnergyReservoir` generators to be equal to the load (flat 10.0 for all time periods)\n",
    "minus the generation from the `HydroDispatch` generators [1.97, 1.983, ...]. The 3rd and 4th\n",
    "constraints limit the output of the `HydroEnergyReservoir` generator to the limit defined by the\n",
    "`max_activepwoer` forecast. And the last 4 constraints are the lower and upper bounds of\n",
    "the `HydroEnergyReservoir` operating range."
   ],
   "metadata": {}
  },
  {
   "outputs": [],
   "cell_type": "markdown",
   "source": [
    "Next, let's apply the `HydroDispatchReservoirFlow` formulation to the `HydroEnergyReservoir` generators."
   ],
   "metadata": {}
  },
  {
   "outputs": [
    {
     "output_type": "execute_result",
     "data": {
      "text/plain": "\nOperations Problem Specification\n============================================\n\n  transmission:  PowerSimulations.CopperPlatePowerModel\n============================================\n  devices: \n      Load:\n        device_type = PowerSystems.PowerLoad\n        formulation = PowerSimulations.StaticPowerLoad\n      Hyd1:\n        device_type = PowerSystems.HydroEnergyReservoir\n        formulation = PowerSimulations.HydroDispatchReservoirFlow\n============================================\n  branches: \n============================================\n  services: \n============================================\n"
     },
     "metadata": {},
     "execution_count": 10
    }
   ],
   "cell_type": "code",
   "source": [
    "devices = Dict{Symbol,DeviceModel}(\n",
    "    :Hyd1 => DeviceModel(HydroEnergyReservoir, HydroDispatchReservoirFlow),\n",
    "    :Load => DeviceModel(PowerLoad, StaticPowerLoad),\n",
    ");\n",
    "\n",
    "template = PSI.OperationsProblemTemplate(CopperPlatePowerModel, devices, Dict(), Dict());\n",
    "\n",
    "op_problem = PSI.OperationsProblem(GenericOpProblem, template, c_sys5_hy, horizon = 2)"
   ],
   "metadata": {},
   "execution_count": 10
  },
  {
   "outputs": [],
   "cell_type": "markdown",
   "source": [
    "And, the resulting JuMP model:"
   ],
   "metadata": {}
  },
  {
   "outputs": [
    {
     "output_type": "execute_result",
     "data": {
      "text/plain": "A JuMP Model\nMinimization problem with:\nVariables: 2\nObjective function type: JuMP.GenericAffExpr{Float64,JuMP.VariableRef}\n`JuMP.GenericAffExpr{Float64,JuMP.VariableRef}`-in-`MathOptInterface.EqualTo{Float64}`: 2 constraints\n`JuMP.GenericAffExpr{Float64,JuMP.VariableRef}`-in-`MathOptInterface.GreaterThan{Float64}`: 2 constraints\n`JuMP.GenericAffExpr{Float64,JuMP.VariableRef}`-in-`MathOptInterface.LessThan{Float64}`: 3 constraints\n`JuMP.VariableRef`-in-`MathOptInterface.GreaterThan{Float64}`: 2 constraints\n`JuMP.VariableRef`-in-`MathOptInterface.LessThan{Float64}`: 2 constraints\nModel mode: AUTOMATIC\nCachingOptimizer state: NO_OPTIMIZER\nSolver name: No optimizer attached.",
      "text/latex": "$$ \\begin{alignat*}{1}\\min\\quad & 0\\\\\n\\text{Subject to} \\quad & P__PowerSystems.HydroEnergyReservoir_{HydroEnergyReservoir, 1} = 10.0\\\\\n & P__PowerSystems.HydroEnergyReservoir_{HydroEnergyReservoir, 2} = 10.0\\\\\n & P__PowerSystems.HydroEnergyReservoir_{HydroEnergyReservoir, 1} \\geq 3.0\\\\\n & P__PowerSystems.HydroEnergyReservoir_{HydroEnergyReservoir, 2} \\geq 3.0\\\\\n & P__PowerSystems.HydroEnergyReservoir_{HydroEnergyReservoir, 1} \\leq 18.1\\\\\n & P__PowerSystems.HydroEnergyReservoir_{HydroEnergyReservoir, 2} \\leq 18.1\\\\\n & P__PowerSystems.HydroEnergyReservoir_{HydroEnergyReservoir, 1} + P__PowerSystems.HydroEnergyReservoir_{HydroEnergyReservoir, 2} \\leq 39.53993562\\\\\n & P__PowerSystems.HydroEnergyReservoir_{HydroEnergyReservoir, 1} \\geq 3.0\\\\\n & P__PowerSystems.HydroEnergyReservoir_{HydroEnergyReservoir, 2} \\geq 3.0\\\\\n & P__PowerSystems.HydroEnergyReservoir_{HydroEnergyReservoir, 1} \\leq 18.1\\\\\n & P__PowerSystems.HydroEnergyReservoir_{HydroEnergyReservoir, 2} \\leq 18.1\\\\\n\\end{alignat*}\n $$"
     },
     "metadata": {},
     "execution_count": 11
    }
   ],
   "cell_type": "code",
   "source": [
    "op_problem.psi_container.JuMPmodel"
   ],
   "metadata": {},
   "execution_count": 11
  },
  {
   "outputs": [],
   "cell_type": "markdown",
   "source": [
    "Finally, let's apply the `HydroDispatchReservoirStorage` formulation to the `HydroEnergyReservoir` generators."
   ],
   "metadata": {}
  },
  {
   "outputs": [
    {
     "output_type": "execute_result",
     "data": {
      "text/plain": "\nOperations Problem Specification\n============================================\n\n  transmission:  PowerSimulations.CopperPlatePowerModel\n============================================\n  devices: \n      Load:\n        device_type = PowerSystems.PowerLoad\n        formulation = PowerSimulations.StaticPowerLoad\n      Hyd1:\n        device_type = PowerSystems.HydroEnergyReservoir\n        formulation = PowerSimulations.HydroDispatchReservoirStorage\n============================================\n  branches: \n============================================\n  services: \n============================================\n"
     },
     "metadata": {},
     "execution_count": 12
    }
   ],
   "cell_type": "code",
   "source": [
    "devices = Dict{Symbol,DeviceModel}(\n",
    "    :Hyd1 => DeviceModel(HydroEnergyReservoir, HydroDispatchReservoirStorage),\n",
    "    :Load => DeviceModel(PowerLoad, StaticPowerLoad),\n",
    ");\n",
    "\n",
    "template = PSI.OperationsProblemTemplate(CopperPlatePowerModel, devices, Dict(), Dict());\n",
    "\n",
    "op_problem = PSI.OperationsProblem(GenericOpProblem, template, c_sys5_hy, horizon = 2)"
   ],
   "metadata": {},
   "execution_count": 12
  },
  {
   "outputs": [
    {
     "output_type": "execute_result",
     "data": {
      "text/plain": "A JuMP Model\nMinimization problem with:\nVariables: 6\nObjective function type: JuMP.GenericAffExpr{Float64,JuMP.VariableRef}\n`JuMP.GenericAffExpr{Float64,JuMP.VariableRef}`-in-`MathOptInterface.EqualTo{Float64}`: 4 constraints\n`JuMP.GenericAffExpr{Float64,JuMP.VariableRef}`-in-`MathOptInterface.GreaterThan{Float64}`: 2 constraints\n`JuMP.GenericAffExpr{Float64,JuMP.VariableRef}`-in-`MathOptInterface.LessThan{Float64}`: 2 constraints\n`JuMP.VariableRef`-in-`MathOptInterface.GreaterThan{Float64}`: 6 constraints\n`JuMP.VariableRef`-in-`MathOptInterface.LessThan{Float64}`: 4 constraints\nModel mode: AUTOMATIC\nCachingOptimizer state: NO_OPTIMIZER\nSolver name: No optimizer attached.",
      "text/latex": "$$ \\begin{alignat*}{1}\\min\\quad & 0\\\\\n\\text{Subject to} \\quad & E__PowerSystems.HydroEnergyReservoir_{HydroEnergyReservoir, 1} + Sp__PowerSystems.HydroEnergyReservoir_{HydroEnergyReservoir, 1} + P__PowerSystems.HydroEnergyReservoir_{HydroEnergyReservoir, 1} = 6.970410824\\\\\n & E__PowerSystems.HydroEnergyReservoir_{HydroEnergyReservoir, 2} - E__PowerSystems.HydroEnergyReservoir_{HydroEnergyReservoir, 1} + Sp__PowerSystems.HydroEnergyReservoir_{HydroEnergyReservoir, 2} + P__PowerSystems.HydroEnergyReservoir_{HydroEnergyReservoir, 2} = 1.983582738\\\\\n & P__PowerSystems.HydroEnergyReservoir_{HydroEnergyReservoir, 1} = 10.0\\\\\n & P__PowerSystems.HydroEnergyReservoir_{HydroEnergyReservoir, 2} = 10.0\\\\\n & P__PowerSystems.HydroEnergyReservoir_{HydroEnergyReservoir, 1} \\geq 3.0\\\\\n & P__PowerSystems.HydroEnergyReservoir_{HydroEnergyReservoir, 2} \\geq 3.0\\\\\n & P__PowerSystems.HydroEnergyReservoir_{HydroEnergyReservoir, 1} \\leq 18.1\\\\\n & P__PowerSystems.HydroEnergyReservoir_{HydroEnergyReservoir, 2} \\leq 18.1\\\\\n & P__PowerSystems.HydroEnergyReservoir_{HydroEnergyReservoir, 1} \\geq 3.0\\\\\n & P__PowerSystems.HydroEnergyReservoir_{HydroEnergyReservoir, 2} \\geq 3.0\\\\\n & E__PowerSystems.HydroEnergyReservoir_{HydroEnergyReservoir, 1} \\geq 0.0\\\\\n & E__PowerSystems.HydroEnergyReservoir_{HydroEnergyReservoir, 2} \\geq 0.0\\\\\n & Sp__PowerSystems.HydroEnergyReservoir_{HydroEnergyReservoir, 1} \\geq 0.0\\\\\n & Sp__PowerSystems.HydroEnergyReservoir_{HydroEnergyReservoir, 2} \\geq 0.0\\\\\n & P__PowerSystems.HydroEnergyReservoir_{HydroEnergyReservoir, 1} \\leq 18.1\\\\\n & P__PowerSystems.HydroEnergyReservoir_{HydroEnergyReservoir, 2} \\leq 18.1\\\\\n & E__PowerSystems.HydroEnergyReservoir_{HydroEnergyReservoir, 1} \\leq 10.0\\\\\n & E__PowerSystems.HydroEnergyReservoir_{HydroEnergyReservoir, 2} \\leq 10.0\\\\\n\\end{alignat*}\n $$"
     },
     "metadata": {},
     "execution_count": 13
    }
   ],
   "cell_type": "code",
   "source": [
    "op_problem.psi_container.JuMPmodel"
   ],
   "metadata": {},
   "execution_count": 13
  },
  {
   "outputs": [],
   "cell_type": "markdown",
   "source": [
    "### Multi-Stage `SimulationSequence`\n",
    "The purpose of a multi-stage simulation is to represent scheduling decisions consistently\n",
    "with the time scales that govern different elements of power systems."
   ],
   "metadata": {}
  },
  {
   "outputs": [],
   "cell_type": "markdown",
   "source": [
    "Multi-Day to Daily Simulation:"
   ],
   "metadata": {}
  },
  {
   "outputs": [],
   "cell_type": "markdown",
   "source": [
    "In the multi-day model, we'll use a really simple representation of all system devices\n",
    "so that we can maintain computational tractability while getting an estimate of system\n",
    "requirements/capabilities."
   ],
   "metadata": {}
  },
  {
   "outputs": [],
   "cell_type": "code",
   "source": [
    "devices = Dict(\n",
    "    :Generators => DeviceModel(ThermalStandard, ThermalDispatchNoMin),\n",
    "    :Loads => DeviceModel(PowerLoad, StaticPowerLoad),\n",
    "    :HydroEnergyReservoir => DeviceModel(HydroEnergyReservoir, HydroDispatchReservoirStorage),\n",
    ")\n",
    "template_md = OperationsProblemTemplate(CopperPlatePowerModel, devices, Dict(), Dict());"
   ],
   "metadata": {},
   "execution_count": 14
  },
  {
   "outputs": [],
   "cell_type": "markdown",
   "source": [
    "For the daily model, we can increase the modeling detail since we'll be solving shorter\n",
    "problems."
   ],
   "metadata": {}
  },
  {
   "outputs": [],
   "cell_type": "code",
   "source": [
    "devices = Dict(\n",
    "    :Generators => DeviceModel(ThermalStandard, ThermalDispatchNoMin),\n",
    "    :Loads => DeviceModel(PowerLoad, StaticPowerLoad),\n",
    "    :HydroEnergyReservoir => DeviceModel(HydroEnergyReservoir, HydroDispatchReservoirStorage),\n",
    ")\n",
    "template_da = OperationsProblemTemplate(CopperPlatePowerModel, devices, Dict(), Dict());"
   ],
   "metadata": {},
   "execution_count": 15
  },
  {
   "outputs": [
    {
     "output_type": "execute_result",
     "data": {
      "text/plain": "Dict{String,PowerSimulations.Stage{PowerSimulations.GenericOpProblem}} with 2 entries:\n  \"DA\" => Stage()…\n  \"MD\" => Stage()…"
     },
     "metadata": {},
     "execution_count": 16
    }
   ],
   "cell_type": "code",
   "source": [
    "stages_definition = Dict(\n",
    "    \"MD\" => Stage(GenericOpProblem, template_md, c_sys5_hy_wk, solver),\n",
    "    \"DA\" => Stage(GenericOpProblem, template_da, c_sys5_hy_uc, solver),\n",
    ")"
   ],
   "metadata": {},
   "execution_count": 16
  },
  {
   "outputs": [],
   "cell_type": "markdown",
   "source": [
    "This builds the sequence and passes the the energy dispatch schedule for the `HydroEnergyReservoir`\n",
    "generator from the \"MD\" stage to the \"DA\" stage in the form of an energy limit over the\n",
    "synchronized periods."
   ],
   "metadata": {}
  },
  {
   "outputs": [],
   "cell_type": "code",
   "source": [
    "sequence = SimulationSequence(\n",
    "    step_resolution = Hour(48),\n",
    "    order = Dict(1 => \"MD\", 2 => \"DA\"),\n",
    "    feedforward_chronologies = Dict((\"MD\" => \"DA\") => Synchronize(periods = 2)),\n",
    "    horizons = Dict(\"MD\" => 2, \"DA\" => 24),\n",
    "    intervals = Dict(\n",
    "        \"MD\" => (Hour(48), Consecutive()),\n",
    "        \"DA\" => (Hour(24), Consecutive()),\n",
    "    ),\n",
    "    feedforward = Dict(\n",
    "        (\"DA\", :devices, :HydroEnergyReservoir) => IntegralLimitFF(\n",
    "            variable_from_stage = PSI.ACTIVE_POWER,\n",
    "            affected_variables = [PSI.ACTIVE_POWER],\n",
    "        ),\n",
    "    ),\n",
    "    cache = Dict( (\"MD\", \"DA\") => StoredEnergy(PSY.HydroEnergyReservoir, PSI.ENERGY)),\n",
    "    ini_cond_chronology = InterStageChronology(),\n",
    ");"
   ],
   "metadata": {},
   "execution_count": 17
  },
  {
   "outputs": [
    {
     "name": "stdout",
     "output_type": "stream",
     "text": [
      "┌ Info: Building Stage 2-DA\n",
      "└ @ PowerSimulations /Users/cbarrows/.julia/packages/PowerSimulations/32SZy/src/core/simulation.jl:354\n",
      "┌ Info: Building Stage 1-MD\n",
      "└ @ PowerSimulations /Users/cbarrows/.julia/packages/PowerSimulations/32SZy/src/core/simulation.jl:354\n",
      "┌ Info: \n",
      "│  ───────────────────────────────────────────────────────────────────────────\n",
      "│                                     Time                   Allocations      \n",
      "│                             ──────────────────────   ───────────────────────\n",
      "│       Tot / % measured:          619ms / 100%            50.7MiB / 100%     \n",
      "│ \n",
      "│  Section            ncalls     time   %tot     avg     alloc   %tot      avg\n",
      "│  ───────────────────────────────────────────────────────────────────────────\n",
      "│  Build Simulation        1    619ms   100%   619ms   50.7MiB  100%   50.7MiB\n",
      "│    Build Stage DA        1    488ms  78.7%   488ms   39.8MiB  78.5%  39.8MiB\n",
      "│    Build Stage MD        1   6.27ms  1.01%  6.27ms    292KiB  0.56%   292KiB\n",
      "│  ───────────────────────────────────────────────────────────────────────────\n",
      "└ @ PowerSimulations /Users/cbarrows/.julia/packages/PowerSimulations/32SZy/src/core/simulation.jl:419\n"
     ]
    }
   ],
   "cell_type": "code",
   "source": [
    "file_path = tempdir()\n",
    "\n",
    "sim = Simulation(\n",
    "    name = \"hydro\",\n",
    "    steps = 1,\n",
    "    stages = stages_definition,\n",
    "    stages_sequence = sequence,\n",
    "    simulation_folder = file_path,\n",
    ")\n",
    "\n",
    "build!(sim)"
   ],
   "metadata": {},
   "execution_count": 18
  },
  {
   "outputs": [],
   "cell_type": "markdown",
   "source": [
    "We can look at the \"MD\" Model"
   ],
   "metadata": {}
  },
  {
   "outputs": [
    {
     "output_type": "execute_result",
     "data": {
      "text/plain": "A JuMP Model\nMinimization problem with:\nVariables: 16\nObjective function type: JuMP.GenericAffExpr{Float64,JuMP.VariableRef}\n`JuMP.GenericAffExpr{Float64,JuMP.VariableRef}`-in-`MathOptInterface.EqualTo{Float64}`: 4 constraints\n`JuMP.GenericAffExpr{Float64,JuMP.VariableRef}`-in-`MathOptInterface.GreaterThan{Float64}`: 12 constraints\n`JuMP.GenericAffExpr{Float64,JuMP.VariableRef}`-in-`MathOptInterface.LessThan{Float64}`: 12 constraints\n`JuMP.VariableRef`-in-`MathOptInterface.GreaterThan{Float64}`: 16 constraints\n`JuMP.VariableRef`-in-`MathOptInterface.LessThan{Float64}`: 14 constraints\nModel mode: AUTOMATIC\nCachingOptimizer state: EMPTY_OPTIMIZER\nSolver name: COIN Branch-and-Cut (Cbc)",
      "text/latex": "$$ \\begin{alignat*}{1}\\min\\quad & 72000 P__PowerSystems.ThermalStandard_{Solitude, 1} + 72000 P__PowerSystems.ThermalStandard_{Solitude, 2} + 36000 P__PowerSystems.ThermalStandard_{Park City, 1} + 36000 P__PowerSystems.ThermalStandard_{Park City, 2} + 33600 P__PowerSystems.ThermalStandard_{Alta, 1} + 33600 P__PowerSystems.ThermalStandard_{Alta, 2} + 24000 P__PowerSystems.ThermalStandard_{Brighton, 1} + 24000 P__PowerSystems.ThermalStandard_{Brighton, 2} + 96000 P__PowerSystems.ThermalStandard_{Sundance, 1} + 96000 P__PowerSystems.ThermalStandard_{Sundance, 2}\\\\\n\\text{Subject to} \\quad & E__PowerSystems.HydroEnergyReservoir_{HydroEnergyReservoir, 1} + 24 P__PowerSystems.HydroEnergyReservoir_{HydroEnergyReservoir, 1} + 24 Sp__PowerSystems.HydroEnergyReservoir_{HydroEnergyReservoir, 1} = 0.0\\\\\n & E__PowerSystems.HydroEnergyReservoir_{HydroEnergyReservoir, 2} - E__PowerSystems.HydroEnergyReservoir_{HydroEnergyReservoir, 1} + 24 P__PowerSystems.HydroEnergyReservoir_{HydroEnergyReservoir, 2} + 24 Sp__PowerSystems.HydroEnergyReservoir_{HydroEnergyReservoir, 2} = 0.0\\\\\n & P__PowerSystems.ThermalStandard_{Park City, 1} + P__PowerSystems.ThermalStandard_{Alta, 1} + P__PowerSystems.ThermalStandard_{Solitude, 1} + P__PowerSystems.HydroEnergyReservoir_{HydroEnergyReservoir, 1} + P__PowerSystems.ThermalStandard_{Sundance, 1} + P__PowerSystems.ThermalStandard_{Brighton, 1} = 0.0\\\\\n & P__PowerSystems.ThermalStandard_{Park City, 2} + P__PowerSystems.ThermalStandard_{Alta, 2} + P__PowerSystems.ThermalStandard_{Solitude, 2} + P__PowerSystems.HydroEnergyReservoir_{HydroEnergyReservoir, 2} + P__PowerSystems.ThermalStandard_{Sundance, 2} + P__PowerSystems.ThermalStandard_{Brighton, 2} = 0.0\\\\\n & P__PowerSystems.ThermalStandard_{Solitude, 1} \\geq 0.0\\\\\n & P__PowerSystems.ThermalStandard_{Solitude, 2} \\geq 0.0\\\\\n & P__PowerSystems.ThermalStandard_{Park City, 1} \\geq 0.0\\\\\n & P__PowerSystems.ThermalStandard_{Park City, 2} \\geq 0.0\\\\\n & P__PowerSystems.ThermalStandard_{Alta, 1} \\geq 0.0\\\\\n & P__PowerSystems.ThermalStandard_{Alta, 2} \\geq 0.0\\\\\n & P__PowerSystems.ThermalStandard_{Brighton, 1} \\geq 0.0\\\\\n & P__PowerSystems.ThermalStandard_{Brighton, 2} \\geq 0.0\\\\\n & P__PowerSystems.ThermalStandard_{Sundance, 1} \\geq 0.0\\\\\n & P__PowerSystems.ThermalStandard_{Sundance, 2} \\geq 0.0\\\\\n & P__PowerSystems.HydroEnergyReservoir_{HydroEnergyReservoir, 1} \\geq 3.0\\\\\n & P__PowerSystems.HydroEnergyReservoir_{HydroEnergyReservoir, 2} \\geq 3.0\\\\\n & P__PowerSystems.ThermalStandard_{Solitude, 1} \\leq 5.2\\\\\n & P__PowerSystems.ThermalStandard_{Solitude, 2} \\leq 5.2\\\\\n & P__PowerSystems.ThermalStandard_{Park City, 1} \\leq 1.7\\\\\n & P__PowerSystems.ThermalStandard_{Park City, 2} \\leq 1.7\\\\\n & P__PowerSystems.ThermalStandard_{Alta, 1} \\leq 0.4\\\\\n & P__PowerSystems.ThermalStandard_{Alta, 2} \\leq 0.4\\\\\n & P__PowerSystems.ThermalStandard_{Brighton, 1} \\leq 6.0\\\\\n & P__PowerSystems.ThermalStandard_{Brighton, 2} \\leq 6.0\\\\\n & P__PowerSystems.ThermalStandard_{Sundance, 1} \\leq 2.0\\\\\n & P__PowerSystems.ThermalStandard_{Sundance, 2} \\leq 2.0\\\\\n & P__PowerSystems.HydroEnergyReservoir_{HydroEnergyReservoir, 1} \\leq 18.1\\\\\n & P__PowerSystems.HydroEnergyReservoir_{HydroEnergyReservoir, 2} \\leq 18.1\\\\\n & P__PowerSystems.ThermalStandard_{Solitude, 1} \\geq 0.0\\\\\n & P__PowerSystems.ThermalStandard_{Park City, 1} \\geq 0.0\\\\\n & P__PowerSystems.ThermalStandard_{Alta, 1} \\geq 0.0\\\\\n & P__PowerSystems.ThermalStandard_{Brighton, 1} \\geq 0.0\\\\\n & P__PowerSystems.ThermalStandard_{Sundance, 1} \\geq 0.0\\\\\n & P__PowerSystems.ThermalStandard_{Solitude, 2} \\geq 0.0\\\\\n & P__PowerSystems.ThermalStandard_{Park City, 2} \\geq 0.0\\\\\n & P__PowerSystems.ThermalStandard_{Alta, 2} \\geq 0.0\\\\\n & P__PowerSystems.ThermalStandard_{Brighton, 2} \\geq 0.0\\\\\n & P__PowerSystems.ThermalStandard_{Sundance, 2} \\geq 0.0\\\\\n & P__PowerSystems.HydroEnergyReservoir_{HydroEnergyReservoir, 1} \\geq 3.0\\\\\n & P__PowerSystems.HydroEnergyReservoir_{HydroEnergyReservoir, 2} \\geq 3.0\\\\\n & E__PowerSystems.HydroEnergyReservoir_{HydroEnergyReservoir, 1} \\geq 0.0\\\\\n & E__PowerSystems.HydroEnergyReservoir_{HydroEnergyReservoir, 2} \\geq 0.0\\\\\n & Sp__PowerSystems.HydroEnergyReservoir_{HydroEnergyReservoir, 1} \\geq 0.0\\\\\n & Sp__PowerSystems.HydroEnergyReservoir_{HydroEnergyReservoir, 2} \\geq 0.0\\\\\n & P__PowerSystems.ThermalStandard_{Solitude, 1} \\leq 5.2\\\\\n & P__PowerSystems.ThermalStandard_{Park City, 1} \\leq 1.7\\\\\n & P__PowerSystems.ThermalStandard_{Alta, 1} \\leq 0.4\\\\\n & P__PowerSystems.ThermalStandard_{Brighton, 1} \\leq 6.0\\\\\n & P__PowerSystems.ThermalStandard_{Sundance, 1} \\leq 2.0\\\\\n & P__PowerSystems.ThermalStandard_{Solitude, 2} \\leq 5.2\\\\\n & P__PowerSystems.ThermalStandard_{Park City, 2} \\leq 1.7\\\\\n & P__PowerSystems.ThermalStandard_{Alta, 2} \\leq 0.4\\\\\n & P__PowerSystems.ThermalStandard_{Brighton, 2} \\leq 6.0\\\\\n & P__PowerSystems.ThermalStandard_{Sundance, 2} \\leq 2.0\\\\\n & P__PowerSystems.HydroEnergyReservoir_{HydroEnergyReservoir, 1} \\leq 18.1\\\\\n & P__PowerSystems.HydroEnergyReservoir_{HydroEnergyReservoir, 2} \\leq 18.1\\\\\n & E__PowerSystems.HydroEnergyReservoir_{HydroEnergyReservoir, 1} \\leq 10.0\\\\\n & E__PowerSystems.HydroEnergyReservoir_{HydroEnergyReservoir, 2} \\leq 10.0\\\\\n\\end{alignat*}\n $$"
     },
     "metadata": {},
     "execution_count": 19
    }
   ],
   "cell_type": "code",
   "source": [
    "sim.stages[\"MD\"].internal.psi_container.JuMPmodel"
   ],
   "metadata": {},
   "execution_count": 19
  },
  {
   "outputs": [],
   "cell_type": "markdown",
   "source": [
    "And we can look at the \"DA\" model"
   ],
   "metadata": {}
  },
  {
   "outputs": [
    {
     "output_type": "execute_result",
     "data": {
      "text/plain": "A JuMP Model\nMinimization problem with:\nVariables: 192\nObjective function type: JuMP.GenericAffExpr{Float64,JuMP.VariableRef}\n`JuMP.GenericAffExpr{Float64,JuMP.VariableRef}`-in-`MathOptInterface.EqualTo{Float64}`: 48 constraints\n`JuMP.GenericAffExpr{Float64,JuMP.VariableRef}`-in-`MathOptInterface.GreaterThan{Float64}`: 144 constraints\n`JuMP.GenericAffExpr{Float64,JuMP.VariableRef}`-in-`MathOptInterface.LessThan{Float64}`: 145 constraints\n`JuMP.VariableRef`-in-`MathOptInterface.GreaterThan{Float64}`: 192 constraints\n`JuMP.VariableRef`-in-`MathOptInterface.LessThan{Float64}`: 168 constraints\nModel mode: AUTOMATIC\nCachingOptimizer state: EMPTY_OPTIMIZER\nSolver name: COIN Branch-and-Cut (Cbc)",
      "text/latex": "$$ \\begin{alignat*}{1}\\min\\quad & 3000 P__PowerSystems.ThermalStandard_{Solitude, 1} + 3000 P__PowerSystems.ThermalStandard_{Solitude, 2} + 3000 P__PowerSystems.ThermalStandard_{Solitude, 3} + 3000 P__PowerSystems.ThermalStandard_{Solitude, 4} + 3000 P__PowerSystems.ThermalStandard_{Solitude, 5} + 3000 P__PowerSystems.ThermalStandard_{Solitude, 6} + 3000 P__PowerSystems.ThermalStandard_{Solitude, 7} + 3000 P__PowerSystems.ThermalStandard_{Solitude, 8} + 3000 P__PowerSystems.ThermalStandard_{Solitude, 9} + 3000 P__PowerSystems.ThermalStandard_{Solitude, 10} + 3000 P__PowerSystems.ThermalStandard_{Solitude, 11} + 3000 P__PowerSystems.ThermalStandard_{Solitude, 12} + 3000 P__PowerSystems.ThermalStandard_{Solitude, 13} + 3000 P__PowerSystems.ThermalStandard_{Solitude, 14} + 3000 P__PowerSystems.ThermalStandard_{Solitude, 15} + 3000 P__PowerSystems.ThermalStandard_{Solitude, 16} + 3000 P__PowerSystems.ThermalStandard_{Solitude, 17} + 3000 P__PowerSystems.ThermalStandard_{Solitude, 18} + 3000 P__PowerSystems.ThermalStandard_{Solitude, 19} + 3000 P__PowerSystems.ThermalStandard_{Solitude, 20} + 3000 P__PowerSystems.ThermalStandard_{Solitude, 21} + 3000 P__PowerSystems.ThermalStandard_{Solitude, 22} + 3000 P__PowerSystems.ThermalStandard_{Solitude, 23} + 3000 P__PowerSystems.ThermalStandard_{Solitude, 24} + 1500 P__PowerSystems.ThermalStandard_{Park City, 1} + 1500 P__PowerSystems.ThermalStandard_{Park City, 2} + 1500 P__PowerSystems.ThermalStandard_{Park City, 3} + 1500 P__PowerSystems.ThermalStandard_{Park City, 4} + 1500 P__PowerSystems.ThermalStandard_{Park City, 5} + 1500 P__PowerSystems.ThermalStandard_{Park City, 6} + 1500 P__PowerSystems.ThermalStandard_{Park City, 7} + 1500 P__PowerSystems.ThermalStandard_{Park City, 8} + 1500 P__PowerSystems.ThermalStandard_{Park City, 9} + 1500 P__PowerSystems.ThermalStandard_{Park City, 10} + 1500 P__PowerSystems.ThermalStandard_{Park City, 11} + 1500 P__PowerSystems.ThermalStandard_{Park City, 12} + 1500 P__PowerSystems.ThermalStandard_{Park City, 13} + 1500 P__PowerSystems.ThermalStandard_{Park City, 14} + 1500 P__PowerSystems.ThermalStandard_{Park City, 15} + 1500 P__PowerSystems.ThermalStandard_{Park City, 16} + 1500 P__PowerSystems.ThermalStandard_{Park City, 17} + 1500 P__PowerSystems.ThermalStandard_{Park City, 18} + 1500 P__PowerSystems.ThermalStandard_{Park City, 19} + 1500 P__PowerSystems.ThermalStandard_{Park City, 20} + 1500 P__PowerSystems.ThermalStandard_{Park City, 21} + 1500 P__PowerSystems.ThermalStandard_{Park City, 22} + 1500 P__PowerSystems.ThermalStandard_{Park City, 23} + 1500 P__PowerSystems.ThermalStandard_{Park City, 24} + 1400 P__PowerSystems.ThermalStandard_{Alta, 1} + 1400 P__PowerSystems.ThermalStandard_{Alta, 2} + 1400 P__PowerSystems.ThermalStandard_{Alta, 3} + 1400 P__PowerSystems.ThermalStandard_{Alta, 4} + 1400 P__PowerSystems.ThermalStandard_{Alta, 5} + 1400 P__PowerSystems.ThermalStandard_{Alta, 6} + 1400 P__PowerSystems.ThermalStandard_{Alta, 7} + 1400 P__PowerSystems.ThermalStandard_{Alta, 8} + 1400 P__PowerSystems.ThermalStandard_{Alta, 9} + 1400 P__PowerSystems.ThermalStandard_{Alta, 10} + 1400 P__PowerSystems.ThermalStandard_{Alta, 11} + 1400 P__PowerSystems.ThermalStandard_{Alta, 12} + 1400 P__PowerSystems.ThermalStandard_{Alta, 13} + 1400 P__PowerSystems.ThermalStandard_{Alta, 14} + 1400 P__PowerSystems.ThermalStandard_{Alta, 15} + 1400 P__PowerSystems.ThermalStandard_{Alta, 16} + 1400 P__PowerSystems.ThermalStandard_{Alta, 17} + 1400 P__PowerSystems.ThermalStandard_{Alta, 18} + 1400 P__PowerSystems.ThermalStandard_{Alta, 19} + 1400 P__PowerSystems.ThermalStandard_{Alta, 20} + 1400 P__PowerSystems.ThermalStandard_{Alta, 21} + 1400 P__PowerSystems.ThermalStandard_{Alta, 22} + 1400 P__PowerSystems.ThermalStandard_{Alta, 23} + 1400 P__PowerSystems.ThermalStandard_{Alta, 24} + 1000 P__PowerSystems.ThermalStandard_{Brighton, 1} + 1000 P__PowerSystems.ThermalStandard_{Brighton, 2} + 1000 P__PowerSystems.ThermalStandard_{Brighton, 3} + 1000 P__PowerSystems.ThermalStandard_{Brighton, 4} + 1000 P__PowerSystems.ThermalStandard_{Brighton, 5} + 1000 P__PowerSystems.ThermalStandard_{Brighton, 6} + 1000 P__PowerSystems.ThermalStandard_{Brighton, 7} + 1000 P__PowerSystems.ThermalStandard_{Brighton, 8} + 1000 P__PowerSystems.ThermalStandard_{Brighton, 9} + 1000 P__PowerSystems.ThermalStandard_{Brighton, 10} + 1000 P__PowerSystems.ThermalStandard_{Brighton, 11} + 1000 P__PowerSystems.ThermalStandard_{Brighton, 12} + 1000 P__PowerSystems.ThermalStandard_{Brighton, 13} + 1000 P__PowerSystems.ThermalStandard_{Brighton, 14} + 1000 P__PowerSystems.ThermalStandard_{Brighton, 15} + 1000 P__PowerSystems.ThermalStandard_{Brighton, 16} + 1000 P__PowerSystems.ThermalStandard_{Brighton, 17} + 1000 P__PowerSystems.ThermalStandard_{Brighton, 18} + 1000 P__PowerSystems.ThermalStandard_{Brighton, 19} + 1000 P__PowerSystems.ThermalStandard_{Brighton, 20} + 1000 P__PowerSystems.ThermalStandard_{Brighton, 21} + 1000 P__PowerSystems.ThermalStandard_{Brighton, 22} + 1000 P__PowerSystems.ThermalStandard_{Brighton, 23} + 1000 P__PowerSystems.ThermalStandard_{Brighton, 24} + 4000 P__PowerSystems.ThermalStandard_{Sundance, 1} + 4000 P__PowerSystems.ThermalStandard_{Sundance, 2} + 4000 P__PowerSystems.ThermalStandard_{Sundance, 3} + 4000 P__PowerSystems.ThermalStandard_{Sundance, 4} + 4000 P__PowerSystems.ThermalStandard_{Sundance, 5} + 4000 P__PowerSystems.ThermalStandard_{Sundance, 6} + 4000 P__PowerSystems.ThermalStandard_{Sundance, 7} + 4000 P__PowerSystems.ThermalStandard_{Sundance, 8} + 4000 P__PowerSystems.ThermalStandard_{Sundance, 9} + 4000 P__PowerSystems.ThermalStandard_{Sundance, 10} + 4000 P__PowerSystems.ThermalStandard_{Sundance, 11} + 4000 P__PowerSystems.ThermalStandard_{Sundance, 12} + 4000 P__PowerSystems.ThermalStandard_{Sundance, 13} + 4000 P__PowerSystems.ThermalStandard_{Sundance, 14} + 4000 P__PowerSystems.ThermalStandard_{Sundance, 15} + 4000 P__PowerSystems.ThermalStandard_{Sundance, 16} + 4000 P__PowerSystems.ThermalStandard_{Sundance, 17} + 4000 P__PowerSystems.ThermalStandard_{Sundance, 18} + 4000 P__PowerSystems.ThermalStandard_{Sundance, 19} + 4000 P__PowerSystems.ThermalStandard_{Sundance, 20} + 4000 P__PowerSystems.ThermalStandard_{Sundance, 21} + 4000 P__PowerSystems.ThermalStandard_{Sundance, 22} + 4000 P__PowerSystems.ThermalStandard_{Sundance, 23} + 4000 P__PowerSystems.ThermalStandard_{Sundance, 24}\\\\\n\\text{Subject to} \\quad & E__PowerSystems.HydroEnergyReservoir_{HydroEnergyReservoir, 1} + P__PowerSystems.HydroEnergyReservoir_{HydroEnergyReservoir, 1} + Sp__PowerSystems.HydroEnergyReservoir_{HydroEnergyReservoir, 1} = 0.0\\\\\n & E__PowerSystems.HydroEnergyReservoir_{HydroEnergyReservoir, 2} - E__PowerSystems.HydroEnergyReservoir_{HydroEnergyReservoir, 1} + P__PowerSystems.HydroEnergyReservoir_{HydroEnergyReservoir, 2} + Sp__PowerSystems.HydroEnergyReservoir_{HydroEnergyReservoir, 2} = 0.0\\\\\n & E__PowerSystems.HydroEnergyReservoir_{HydroEnergyReservoir, 3} - E__PowerSystems.HydroEnergyReservoir_{HydroEnergyReservoir, 2} + P__PowerSystems.HydroEnergyReservoir_{HydroEnergyReservoir, 3} + Sp__PowerSystems.HydroEnergyReservoir_{HydroEnergyReservoir, 3} = 0.0\\\\\n & E__PowerSystems.HydroEnergyReservoir_{HydroEnergyReservoir, 4} - E__PowerSystems.HydroEnergyReservoir_{HydroEnergyReservoir, 3} + P__PowerSystems.HydroEnergyReservoir_{HydroEnergyReservoir, 4} + Sp__PowerSystems.HydroEnergyReservoir_{HydroEnergyReservoir, 4} = 0.0\\\\\n & E__PowerSystems.HydroEnergyReservoir_{HydroEnergyReservoir, 5} - E__PowerSystems.HydroEnergyReservoir_{HydroEnergyReservoir, 4} + P__PowerSystems.HydroEnergyReservoir_{HydroEnergyReservoir, 5} + Sp__PowerSystems.HydroEnergyReservoir_{HydroEnergyReservoir, 5} = 0.0\\\\\n & E__PowerSystems.HydroEnergyReservoir_{HydroEnergyReservoir, 6} - E__PowerSystems.HydroEnergyReservoir_{HydroEnergyReservoir, 5} + P__PowerSystems.HydroEnergyReservoir_{HydroEnergyReservoir, 6} + Sp__PowerSystems.HydroEnergyReservoir_{HydroEnergyReservoir, 6} = 0.0\\\\\n & E__PowerSystems.HydroEnergyReservoir_{HydroEnergyReservoir, 7} - E__PowerSystems.HydroEnergyReservoir_{HydroEnergyReservoir, 6} + P__PowerSystems.HydroEnergyReservoir_{HydroEnergyReservoir, 7} + Sp__PowerSystems.HydroEnergyReservoir_{HydroEnergyReservoir, 7} = 0.0\\\\\n & E__PowerSystems.HydroEnergyReservoir_{HydroEnergyReservoir, 8} - E__PowerSystems.HydroEnergyReservoir_{HydroEnergyReservoir, 7} + P__PowerSystems.HydroEnergyReservoir_{HydroEnergyReservoir, 8} + Sp__PowerSystems.HydroEnergyReservoir_{HydroEnergyReservoir, 8} = 0.0\\\\\n & E__PowerSystems.HydroEnergyReservoir_{HydroEnergyReservoir, 9} - E__PowerSystems.HydroEnergyReservoir_{HydroEnergyReservoir, 8} + P__PowerSystems.HydroEnergyReservoir_{HydroEnergyReservoir, 9} + Sp__PowerSystems.HydroEnergyReservoir_{HydroEnergyReservoir, 9} = 0.0\\\\\n & E__PowerSystems.HydroEnergyReservoir_{HydroEnergyReservoir, 10} - E__PowerSystems.HydroEnergyReservoir_{HydroEnergyReservoir, 9} + P__PowerSystems.HydroEnergyReservoir_{HydroEnergyReservoir, 10} + Sp__PowerSystems.HydroEnergyReservoir_{HydroEnergyReservoir, 10} = 0.0\\\\\n & E__PowerSystems.HydroEnergyReservoir_{HydroEnergyReservoir, 11} - E__PowerSystems.HydroEnergyReservoir_{HydroEnergyReservoir, 10} + P__PowerSystems.HydroEnergyReservoir_{HydroEnergyReservoir, 11} + Sp__PowerSystems.HydroEnergyReservoir_{HydroEnergyReservoir, 11} = 0.0\\\\\n & E__PowerSystems.HydroEnergyReservoir_{HydroEnergyReservoir, 12} - E__PowerSystems.HydroEnergyReservoir_{HydroEnergyReservoir, 11} + P__PowerSystems.HydroEnergyReservoir_{HydroEnergyReservoir, 12} + Sp__PowerSystems.HydroEnergyReservoir_{HydroEnergyReservoir, 12} = 0.0\\\\\n & E__PowerSystems.HydroEnergyReservoir_{HydroEnergyReservoir, 13} - E__PowerSystems.HydroEnergyReservoir_{HydroEnergyReservoir, 12} + P__PowerSystems.HydroEnergyReservoir_{HydroEnergyReservoir, 13} + Sp__PowerSystems.HydroEnergyReservoir_{HydroEnergyReservoir, 13} = 0.0\\\\\n & E__PowerSystems.HydroEnergyReservoir_{HydroEnergyReservoir, 14} - E__PowerSystems.HydroEnergyReservoir_{HydroEnergyReservoir, 13} + P__PowerSystems.HydroEnergyReservoir_{HydroEnergyReservoir, 14} + Sp__PowerSystems.HydroEnergyReservoir_{HydroEnergyReservoir, 14} = 0.0\\\\\n & E__PowerSystems.HydroEnergyReservoir_{HydroEnergyReservoir, 15} - E__PowerSystems.HydroEnergyReservoir_{HydroEnergyReservoir, 14} + P__PowerSystems.HydroEnergyReservoir_{HydroEnergyReservoir, 15} + Sp__PowerSystems.HydroEnergyReservoir_{HydroEnergyReservoir, 15} = 0.0\\\\\n & E__PowerSystems.HydroEnergyReservoir_{HydroEnergyReservoir, 16} - E__PowerSystems.HydroEnergyReservoir_{HydroEnergyReservoir, 15} + P__PowerSystems.HydroEnergyReservoir_{HydroEnergyReservoir, 16} + Sp__PowerSystems.HydroEnergyReservoir_{HydroEnergyReservoir, 16} = 0.0\\\\\n & E__PowerSystems.HydroEnergyReservoir_{HydroEnergyReservoir, 17} - E__PowerSystems.HydroEnergyReservoir_{HydroEnergyReservoir, 16} + P__PowerSystems.HydroEnergyReservoir_{HydroEnergyReservoir, 17} + Sp__PowerSystems.HydroEnergyReservoir_{HydroEnergyReservoir, 17} = 0.0\\\\\n & E__PowerSystems.HydroEnergyReservoir_{HydroEnergyReservoir, 18} - E__PowerSystems.HydroEnergyReservoir_{HydroEnergyReservoir, 17} + P__PowerSystems.HydroEnergyReservoir_{HydroEnergyReservoir, 18} + Sp__PowerSystems.HydroEnergyReservoir_{HydroEnergyReservoir, 18} = 0.0\\\\\n & E__PowerSystems.HydroEnergyReservoir_{HydroEnergyReservoir, 19} - E__PowerSystems.HydroEnergyReservoir_{HydroEnergyReservoir, 18} + P__PowerSystems.HydroEnergyReservoir_{HydroEnergyReservoir, 19} + Sp__PowerSystems.HydroEnergyReservoir_{HydroEnergyReservoir, 19} = 0.0\\\\\n & E__PowerSystems.HydroEnergyReservoir_{HydroEnergyReservoir, 20} - E__PowerSystems.HydroEnergyReservoir_{HydroEnergyReservoir, 19} + P__PowerSystems.HydroEnergyReservoir_{HydroEnergyReservoir, 20} + Sp__PowerSystems.HydroEnergyReservoir_{HydroEnergyReservoir, 20} = 0.0\\\\\n & E__PowerSystems.HydroEnergyReservoir_{HydroEnergyReservoir, 21} - E__PowerSystems.HydroEnergyReservoir_{HydroEnergyReservoir, 20} + P__PowerSystems.HydroEnergyReservoir_{HydroEnergyReservoir, 21} + Sp__PowerSystems.HydroEnergyReservoir_{HydroEnergyReservoir, 21} = 0.0\\\\\n & E__PowerSystems.HydroEnergyReservoir_{HydroEnergyReservoir, 22} - E__PowerSystems.HydroEnergyReservoir_{HydroEnergyReservoir, 21} + P__PowerSystems.HydroEnergyReservoir_{HydroEnergyReservoir, 22} + Sp__PowerSystems.HydroEnergyReservoir_{HydroEnergyReservoir, 22} = 0.0\\\\\n & E__PowerSystems.HydroEnergyReservoir_{HydroEnergyReservoir, 23} - E__PowerSystems.HydroEnergyReservoir_{HydroEnergyReservoir, 22} + P__PowerSystems.HydroEnergyReservoir_{HydroEnergyReservoir, 23} + Sp__PowerSystems.HydroEnergyReservoir_{HydroEnergyReservoir, 23} = 0.0\\\\\n & E__PowerSystems.HydroEnergyReservoir_{HydroEnergyReservoir, 24} - E__PowerSystems.HydroEnergyReservoir_{HydroEnergyReservoir, 23} + P__PowerSystems.HydroEnergyReservoir_{HydroEnergyReservoir, 24} + Sp__PowerSystems.HydroEnergyReservoir_{HydroEnergyReservoir, 24} = 0.0\\\\\n & P__PowerSystems.ThermalStandard_{Park City, 1} + P__PowerSystems.ThermalStandard_{Alta, 1} + P__PowerSystems.ThermalStandard_{Solitude, 1} + P__PowerSystems.HydroEnergyReservoir_{HydroEnergyReservoir, 1} + P__PowerSystems.ThermalStandard_{Sundance, 1} + P__PowerSystems.ThermalStandard_{Brighton, 1} = 0.0\\\\\n & P__PowerSystems.ThermalStandard_{Park City, 2} + P__PowerSystems.ThermalStandard_{Alta, 2} + P__PowerSystems.ThermalStandard_{Solitude, 2} + P__PowerSystems.HydroEnergyReservoir_{HydroEnergyReservoir, 2} + P__PowerSystems.ThermalStandard_{Sundance, 2} + P__PowerSystems.ThermalStandard_{Brighton, 2} = 0.0\\\\\n & P__PowerSystems.ThermalStandard_{Park City, 3} + P__PowerSystems.ThermalStandard_{Alta, 3} + P__PowerSystems.ThermalStandard_{Solitude, 3} + P__PowerSystems.HydroEnergyReservoir_{HydroEnergyReservoir, 3} + P__PowerSystems.ThermalStandard_{Sundance, 3} + P__PowerSystems.ThermalStandard_{Brighton, 3} = 0.0\\\\\n & P__PowerSystems.ThermalStandard_{Park City, 4} + P__PowerSystems.ThermalStandard_{Alta, 4} + P__PowerSystems.ThermalStandard_{Solitude, 4} + P__PowerSystems.HydroEnergyReservoir_{HydroEnergyReservoir, 4} + P__PowerSystems.ThermalStandard_{Sundance, 4} + P__PowerSystems.ThermalStandard_{Brighton, 4} = 0.0\\\\\n & P__PowerSystems.ThermalStandard_{Park City, 5} + P__PowerSystems.ThermalStandard_{Alta, 5} + P__PowerSystems.ThermalStandard_{Solitude, 5} + P__PowerSystems.HydroEnergyReservoir_{HydroEnergyReservoir, 5} + P__PowerSystems.ThermalStandard_{Sundance, 5} + P__PowerSystems.ThermalStandard_{Brighton, 5} = 0.0\\\\\n & P__PowerSystems.ThermalStandard_{Park City, 6} + P__PowerSystems.ThermalStandard_{Alta, 6} + P__PowerSystems.ThermalStandard_{Solitude, 6} + P__PowerSystems.HydroEnergyReservoir_{HydroEnergyReservoir, 6} + P__PowerSystems.ThermalStandard_{Sundance, 6} + P__PowerSystems.ThermalStandard_{Brighton, 6} = 0.0\\\\\n & P__PowerSystems.ThermalStandard_{Park City, 7} + P__PowerSystems.ThermalStandard_{Alta, 7} + P__PowerSystems.ThermalStandard_{Solitude, 7} + P__PowerSystems.HydroEnergyReservoir_{HydroEnergyReservoir, 7} + P__PowerSystems.ThermalStandard_{Sundance, 7} + P__PowerSystems.ThermalStandard_{Brighton, 7} = 0.0\\\\\n & P__PowerSystems.ThermalStandard_{Park City, 8} + P__PowerSystems.ThermalStandard_{Alta, 8} + P__PowerSystems.ThermalStandard_{Solitude, 8} + P__PowerSystems.HydroEnergyReservoir_{HydroEnergyReservoir, 8} + P__PowerSystems.ThermalStandard_{Sundance, 8} + P__PowerSystems.ThermalStandard_{Brighton, 8} = 0.0\\\\\n & P__PowerSystems.ThermalStandard_{Park City, 9} + P__PowerSystems.ThermalStandard_{Alta, 9} + P__PowerSystems.ThermalStandard_{Solitude, 9} + P__PowerSystems.HydroEnergyReservoir_{HydroEnergyReservoir, 9} + P__PowerSystems.ThermalStandard_{Sundance, 9} + P__PowerSystems.ThermalStandard_{Brighton, 9} = 0.0\\\\\n & P__PowerSystems.ThermalStandard_{Park City, 10} + P__PowerSystems.ThermalStandard_{Alta, 10} + P__PowerSystems.ThermalStandard_{Solitude, 10} + P__PowerSystems.HydroEnergyReservoir_{HydroEnergyReservoir, 10} + P__PowerSystems.ThermalStandard_{Sundance, 10} + P__PowerSystems.ThermalStandard_{Brighton, 10} = 0.0\\\\\n & P__PowerSystems.ThermalStandard_{Park City, 11} + P__PowerSystems.ThermalStandard_{Alta, 11} + P__PowerSystems.ThermalStandard_{Solitude, 11} + P__PowerSystems.HydroEnergyReservoir_{HydroEnergyReservoir, 11} + P__PowerSystems.ThermalStandard_{Sundance, 11} + P__PowerSystems.ThermalStandard_{Brighton, 11} = 0.0\\\\\n & P__PowerSystems.ThermalStandard_{Park City, 12} + P__PowerSystems.ThermalStandard_{Alta, 12} + P__PowerSystems.ThermalStandard_{Solitude, 12} + P__PowerSystems.HydroEnergyReservoir_{HydroEnergyReservoir, 12} + P__PowerSystems.ThermalStandard_{Sundance, 12} + P__PowerSystems.ThermalStandard_{Brighton, 12} = 0.0\\\\\n & P__PowerSystems.ThermalStandard_{Park City, 13} + P__PowerSystems.ThermalStandard_{Alta, 13} + P__PowerSystems.ThermalStandard_{Solitude, 13} + P__PowerSystems.HydroEnergyReservoir_{HydroEnergyReservoir, 13} + P__PowerSystems.ThermalStandard_{Sundance, 13} + P__PowerSystems.ThermalStandard_{Brighton, 13} = 0.0\\\\\n & P__PowerSystems.ThermalStandard_{Park City, 14} + P__PowerSystems.ThermalStandard_{Alta, 14} + P__PowerSystems.ThermalStandard_{Solitude, 14} + P__PowerSystems.HydroEnergyReservoir_{HydroEnergyReservoir, 14} + P__PowerSystems.ThermalStandard_{Sundance, 14} + P__PowerSystems.ThermalStandard_{Brighton, 14} = 0.0\\\\\n & P__PowerSystems.ThermalStandard_{Park City, 15} + P__PowerSystems.ThermalStandard_{Alta, 15} + P__PowerSystems.ThermalStandard_{Solitude, 15} + P__PowerSystems.HydroEnergyReservoir_{HydroEnergyReservoir, 15} + P__PowerSystems.ThermalStandard_{Sundance, 15} + P__PowerSystems.ThermalStandard_{Brighton, 15} = 0.0\\\\\n & P__PowerSystems.ThermalStandard_{Park City, 16} + P__PowerSystems.ThermalStandard_{Alta, 16} + P__PowerSystems.ThermalStandard_{Solitude, 16} + P__PowerSystems.HydroEnergyReservoir_{HydroEnergyReservoir, 16} + P__PowerSystems.ThermalStandard_{Sundance, 16} + P__PowerSystems.ThermalStandard_{Brighton, 16} = 0.0\\\\\n & P__PowerSystems.ThermalStandard_{Park City, 17} + P__PowerSystems.ThermalStandard_{Alta, 17} + P__PowerSystems.ThermalStandard_{Solitude, 17} + P__PowerSystems.HydroEnergyReservoir_{HydroEnergyReservoir, 17} + P__PowerSystems.ThermalStandard_{Sundance, 17} + P__PowerSystems.ThermalStandard_{Brighton, 17} = 0.0\\\\\n & P__PowerSystems.ThermalStandard_{Park City, 18} + P__PowerSystems.ThermalStandard_{Alta, 18} + P__PowerSystems.ThermalStandard_{Solitude, 18} + P__PowerSystems.HydroEnergyReservoir_{HydroEnergyReservoir, 18} + P__PowerSystems.ThermalStandard_{Sundance, 18} + P__PowerSystems.ThermalStandard_{Brighton, 18} = 0.0\\\\\n & P__PowerSystems.ThermalStandard_{Park City, 19} + P__PowerSystems.ThermalStandard_{Alta, 19} + P__PowerSystems.ThermalStandard_{Solitude, 19} + P__PowerSystems.HydroEnergyReservoir_{HydroEnergyReservoir, 19} + P__PowerSystems.ThermalStandard_{Sundance, 19} + P__PowerSystems.ThermalStandard_{Brighton, 19} = 0.0\\\\\n & P__PowerSystems.ThermalStandard_{Park City, 20} + P__PowerSystems.ThermalStandard_{Alta, 20} + P__PowerSystems.ThermalStandard_{Solitude, 20} + P__PowerSystems.HydroEnergyReservoir_{HydroEnergyReservoir, 20} + P__PowerSystems.ThermalStandard_{Sundance, 20} + P__PowerSystems.ThermalStandard_{Brighton, 20} = 0.0\\\\\n & P__PowerSystems.ThermalStandard_{Park City, 21} + P__PowerSystems.ThermalStandard_{Alta, 21} + P__PowerSystems.ThermalStandard_{Solitude, 21} + P__PowerSystems.HydroEnergyReservoir_{HydroEnergyReservoir, 21} + P__PowerSystems.ThermalStandard_{Sundance, 21} + P__PowerSystems.ThermalStandard_{Brighton, 21} = 0.0\\\\\n & P__PowerSystems.ThermalStandard_{Park City, 22} + P__PowerSystems.ThermalStandard_{Alta, 22} + P__PowerSystems.ThermalStandard_{Solitude, 22} + P__PowerSystems.HydroEnergyReservoir_{HydroEnergyReservoir, 22} + P__PowerSystems.ThermalStandard_{Sundance, 22} + P__PowerSystems.ThermalStandard_{Brighton, 22} = 0.0\\\\\n & P__PowerSystems.ThermalStandard_{Park City, 23} + P__PowerSystems.ThermalStandard_{Alta, 23} + P__PowerSystems.ThermalStandard_{Solitude, 23} + P__PowerSystems.HydroEnergyReservoir_{HydroEnergyReservoir, 23} + P__PowerSystems.ThermalStandard_{Sundance, 23} + P__PowerSystems.ThermalStandard_{Brighton, 23} = 0.0\\\\\n & P__PowerSystems.ThermalStandard_{Park City, 24} + P__PowerSystems.ThermalStandard_{Alta, 24} + P__PowerSystems.ThermalStandard_{Solitude, 24} + P__PowerSystems.HydroEnergyReservoir_{HydroEnergyReservoir, 24} + P__PowerSystems.ThermalStandard_{Sundance, 24} + P__PowerSystems.ThermalStandard_{Brighton, 24} = 0.0\\\\\n & P__PowerSystems.ThermalStandard_{Solitude, 1} \\geq 0.0\\\\\n & P__PowerSystems.ThermalStandard_{Solitude, 2} \\geq 0.0\\\\\n & P__PowerSystems.ThermalStandard_{Solitude, 3} \\geq 0.0\\\\\n & P__PowerSystems.ThermalStandard_{Solitude, 4} \\geq 0.0\\\\\n & P__PowerSystems.ThermalStandard_{Solitude, 5} \\geq 0.0\\\\\n & P__PowerSystems.ThermalStandard_{Solitude, 6} \\geq 0.0\\\\\n & P__PowerSystems.ThermalStandard_{Solitude, 7} \\geq 0.0\\\\\n & P__PowerSystems.ThermalStandard_{Solitude, 8} \\geq 0.0\\\\\n & P__PowerSystems.ThermalStandard_{Solitude, 9} \\geq 0.0\\\\\n & P__PowerSystems.ThermalStandard_{Solitude, 10} \\geq 0.0\\\\\n & P__PowerSystems.ThermalStandard_{Solitude, 11} \\geq 0.0\\\\\n & P__PowerSystems.ThermalStandard_{Solitude, 12} \\geq 0.0\\\\\n & P__PowerSystems.ThermalStandard_{Solitude, 13} \\geq 0.0\\\\\n & P__PowerSystems.ThermalStandard_{Solitude, 14} \\geq 0.0\\\\\n & P__PowerSystems.ThermalStandard_{Solitude, 15} \\geq 0.0\\\\\n & P__PowerSystems.ThermalStandard_{Solitude, 16} \\geq 0.0\\\\\n & P__PowerSystems.ThermalStandard_{Solitude, 17} \\geq 0.0\\\\\n & P__PowerSystems.ThermalStandard_{Solitude, 18} \\geq 0.0\\\\\n & P__PowerSystems.ThermalStandard_{Solitude, 19} \\geq 0.0\\\\\n & P__PowerSystems.ThermalStandard_{Solitude, 20} \\geq 0.0\\\\\n & P__PowerSystems.ThermalStandard_{Solitude, 21} \\geq 0.0\\\\\n & P__PowerSystems.ThermalStandard_{Solitude, 22} \\geq 0.0\\\\\n & P__PowerSystems.ThermalStandard_{Solitude, 23} \\geq 0.0\\\\\n & P__PowerSystems.ThermalStandard_{Solitude, 24} \\geq 0.0\\\\\n & P__PowerSystems.ThermalStandard_{Park City, 1} \\geq 0.0\\\\\n & P__PowerSystems.ThermalStandard_{Park City, 2} \\geq 0.0\\\\\n & P__PowerSystems.ThermalStandard_{Park City, 3} \\geq 0.0\\\\\n & P__PowerSystems.ThermalStandard_{Park City, 4} \\geq 0.0\\\\\n & P__PowerSystems.ThermalStandard_{Park City, 5} \\geq 0.0\\\\\n & P__PowerSystems.ThermalStandard_{Park City, 6} \\geq 0.0\\\\\n & P__PowerSystems.ThermalStandard_{Park City, 7} \\geq 0.0\\\\\n & P__PowerSystems.ThermalStandard_{Park City, 8} \\geq 0.0\\\\\n & P__PowerSystems.ThermalStandard_{Park City, 9} \\geq 0.0\\\\\n & P__PowerSystems.ThermalStandard_{Park City, 10} \\geq 0.0\\\\\n & P__PowerSystems.ThermalStandard_{Park City, 11} \\geq 0.0\\\\\n & P__PowerSystems.ThermalStandard_{Park City, 12} \\geq 0.0\\\\\n & P__PowerSystems.ThermalStandard_{Park City, 13} \\geq 0.0\\\\\n & P__PowerSystems.ThermalStandard_{Park City, 14} \\geq 0.0\\\\\n & P__PowerSystems.ThermalStandard_{Park City, 15} \\geq 0.0\\\\\n & P__PowerSystems.ThermalStandard_{Park City, 16} \\geq 0.0\\\\\n & P__PowerSystems.ThermalStandard_{Park City, 17} \\geq 0.0\\\\\n & P__PowerSystems.ThermalStandard_{Park City, 18} \\geq 0.0\\\\\n & P__PowerSystems.ThermalStandard_{Park City, 19} \\geq 0.0\\\\\n & P__PowerSystems.ThermalStandard_{Park City, 20} \\geq 0.0\\\\\n & P__PowerSystems.ThermalStandard_{Park City, 21} \\geq 0.0\\\\\n & P__PowerSystems.ThermalStandard_{Park City, 22} \\geq 0.0\\\\\n & P__PowerSystems.ThermalStandard_{Park City, 23} \\geq 0.0\\\\\n & P__PowerSystems.ThermalStandard_{Park City, 24} \\geq 0.0\\\\\n & P__PowerSystems.ThermalStandard_{Alta, 1} \\geq 0.0\\\\\n & P__PowerSystems.ThermalStandard_{Alta, 2} \\geq 0.0\\\\\n & P__PowerSystems.ThermalStandard_{Alta, 3} \\geq 0.0\\\\\n & P__PowerSystems.ThermalStandard_{Alta, 4} \\geq 0.0\\\\\n & P__PowerSystems.ThermalStandard_{Alta, 5} \\geq 0.0\\\\\n & P__PowerSystems.ThermalStandard_{Alta, 6} \\geq 0.0\\\\\n & P__PowerSystems.ThermalStandard_{Alta, 7} \\geq 0.0\\\\\n & P__PowerSystems.ThermalStandard_{Alta, 8} \\geq 0.0\\\\\n & P__PowerSystems.ThermalStandard_{Alta, 9} \\geq 0.0\\\\\n & P__PowerSystems.ThermalStandard_{Alta, 10} \\geq 0.0\\\\\n & P__PowerSystems.ThermalStandard_{Alta, 11} \\geq 0.0\\\\\n & P__PowerSystems.ThermalStandard_{Alta, 12} \\geq 0.0\\\\\n & P__PowerSystems.ThermalStandard_{Alta, 13} \\geq 0.0\\\\\n & P__PowerSystems.ThermalStandard_{Alta, 14} \\geq 0.0\\\\\n & P__PowerSystems.ThermalStandard_{Alta, 15} \\geq 0.0\\\\\n & P__PowerSystems.ThermalStandard_{Alta, 16} \\geq 0.0\\\\\n & P__PowerSystems.ThermalStandard_{Alta, 17} \\geq 0.0\\\\\n & P__PowerSystems.ThermalStandard_{Alta, 18} \\geq 0.0\\\\\n & P__PowerSystems.ThermalStandard_{Alta, 19} \\geq 0.0\\\\\n & P__PowerSystems.ThermalStandard_{Alta, 20} \\geq 0.0\\\\\n & P__PowerSystems.ThermalStandard_{Alta, 21} \\geq 0.0\\\\\n & P__PowerSystems.ThermalStandard_{Alta, 22} \\geq 0.0\\\\\n & P__PowerSystems.ThermalStandard_{Alta, 23} \\geq 0.0\\\\\n & P__PowerSystems.ThermalStandard_{Alta, 24} \\geq 0.0\\\\\n & P__PowerSystems.ThermalStandard_{Brighton, 1} \\geq 0.0\\\\\n & P__PowerSystems.ThermalStandard_{Brighton, 2} \\geq 0.0\\\\\n & P__PowerSystems.ThermalStandard_{Brighton, 3} \\geq 0.0\\\\\n & P__PowerSystems.ThermalStandard_{Brighton, 4} \\geq 0.0\\\\\n & P__PowerSystems.ThermalStandard_{Brighton, 5} \\geq 0.0\\\\\n & P__PowerSystems.ThermalStandard_{Brighton, 6} \\geq 0.0\\\\\n & P__PowerSystems.ThermalStandard_{Brighton, 7} \\geq 0.0\\\\\n & P__PowerSystems.ThermalStandard_{Brighton, 8} \\geq 0.0\\\\\n & P__PowerSystems.ThermalStandard_{Brighton, 9} \\geq 0.0\\\\\n & P__PowerSystems.ThermalStandard_{Brighton, 10} \\geq 0.0\\\\\n & P__PowerSystems.ThermalStandard_{Brighton, 11} \\geq 0.0\\\\\n & P__PowerSystems.ThermalStandard_{Brighton, 12} \\geq 0.0\\\\\n & P__PowerSystems.ThermalStandard_{Brighton, 13} \\geq 0.0\\\\\n & P__PowerSystems.ThermalStandard_{Brighton, 14} \\geq 0.0\\\\\n & P__PowerSystems.ThermalStandard_{Brighton, 15} \\geq 0.0\\\\\n & P__PowerSystems.ThermalStandard_{Brighton, 16} \\geq 0.0\\\\\n & P__PowerSystems.ThermalStandard_{Brighton, 17} \\geq 0.0\\\\\n & P__PowerSystems.ThermalStandard_{Brighton, 18} \\geq 0.0\\\\\n & P__PowerSystems.ThermalStandard_{Brighton, 19} \\geq 0.0\\\\\n & P__PowerSystems.ThermalStandard_{Brighton, 20} \\geq 0.0\\\\\n & P__PowerSystems.ThermalStandard_{Brighton, 21} \\geq 0.0\\\\\n & P__PowerSystems.ThermalStandard_{Brighton, 22} \\geq 0.0\\\\\n & P__PowerSystems.ThermalStandard_{Brighton, 23} \\geq 0.0\\\\\n & P__PowerSystems.ThermalStandard_{Brighton, 24} \\geq 0.0\\\\\n & P__PowerSystems.ThermalStandard_{Sundance, 1} \\geq 0.0\\\\\n & P__PowerSystems.ThermalStandard_{Sundance, 2} \\geq 0.0\\\\\n & P__PowerSystems.ThermalStandard_{Sundance, 3} \\geq 0.0\\\\\n & P__PowerSystems.ThermalStandard_{Sundance, 4} \\geq 0.0\\\\\n & P__PowerSystems.ThermalStandard_{Sundance, 5} \\geq 0.0\\\\\n & P__PowerSystems.ThermalStandard_{Sundance, 6} \\geq 0.0\\\\\n & P__PowerSystems.ThermalStandard_{Sundance, 7} \\geq 0.0\\\\\n & P__PowerSystems.ThermalStandard_{Sundance, 8} \\geq 0.0\\\\\n & P__PowerSystems.ThermalStandard_{Sundance, 9} \\geq 0.0\\\\\n & P__PowerSystems.ThermalStandard_{Sundance, 10} \\geq 0.0\\\\\n & P__PowerSystems.ThermalStandard_{Sundance, 11} \\geq 0.0\\\\\n & P__PowerSystems.ThermalStandard_{Sundance, 12} \\geq 0.0\\\\\n & P__PowerSystems.ThermalStandard_{Sundance, 13} \\geq 0.0\\\\\n & P__PowerSystems.ThermalStandard_{Sundance, 14} \\geq 0.0\\\\\n & P__PowerSystems.ThermalStandard_{Sundance, 15} \\geq 0.0\\\\\n & P__PowerSystems.ThermalStandard_{Sundance, 16} \\geq 0.0\\\\\n & P__PowerSystems.ThermalStandard_{Sundance, 17} \\geq 0.0\\\\\n & P__PowerSystems.ThermalStandard_{Sundance, 18} \\geq 0.0\\\\\n & P__PowerSystems.ThermalStandard_{Sundance, 19} \\geq 0.0\\\\\n & P__PowerSystems.ThermalStandard_{Sundance, 20} \\geq 0.0\\\\\n & P__PowerSystems.ThermalStandard_{Sundance, 21} \\geq 0.0\\\\\n & P__PowerSystems.ThermalStandard_{Sundance, 22} \\geq 0.0\\\\\n & P__PowerSystems.ThermalStandard_{Sundance, 23} \\geq 0.0\\\\\n & P__PowerSystems.ThermalStandard_{Sundance, 24} \\geq 0.0\\\\\n & P__PowerSystems.HydroEnergyReservoir_{HydroEnergyReservoir, 1} \\geq 3.0\\\\\n & P__PowerSystems.HydroEnergyReservoir_{HydroEnergyReservoir, 2} \\geq 3.0\\\\\n & P__PowerSystems.HydroEnergyReservoir_{HydroEnergyReservoir, 3} \\geq 3.0\\\\\n & P__PowerSystems.HydroEnergyReservoir_{HydroEnergyReservoir, 4} \\geq 3.0\\\\\n & P__PowerSystems.HydroEnergyReservoir_{HydroEnergyReservoir, 5} \\geq 3.0\\\\\n & P__PowerSystems.HydroEnergyReservoir_{HydroEnergyReservoir, 6} \\geq 3.0\\\\\n & P__PowerSystems.HydroEnergyReservoir_{HydroEnergyReservoir, 7} \\geq 3.0\\\\\n & P__PowerSystems.HydroEnergyReservoir_{HydroEnergyReservoir, 8} \\geq 3.0\\\\\n & P__PowerSystems.HydroEnergyReservoir_{HydroEnergyReservoir, 9} \\geq 3.0\\\\\n & P__PowerSystems.HydroEnergyReservoir_{HydroEnergyReservoir, 10} \\geq 3.0\\\\\n & P__PowerSystems.HydroEnergyReservoir_{HydroEnergyReservoir, 11} \\geq 3.0\\\\\n & P__PowerSystems.HydroEnergyReservoir_{HydroEnergyReservoir, 12} \\geq 3.0\\\\\n & P__PowerSystems.HydroEnergyReservoir_{HydroEnergyReservoir, 13} \\geq 3.0\\\\\n & P__PowerSystems.HydroEnergyReservoir_{HydroEnergyReservoir, 14} \\geq 3.0\\\\\n & P__PowerSystems.HydroEnergyReservoir_{HydroEnergyReservoir, 15} \\geq 3.0\\\\\n & P__PowerSystems.HydroEnergyReservoir_{HydroEnergyReservoir, 16} \\geq 3.0\\\\\n & P__PowerSystems.HydroEnergyReservoir_{HydroEnergyReservoir, 17} \\geq 3.0\\\\\n & P__PowerSystems.HydroEnergyReservoir_{HydroEnergyReservoir, 18} \\geq 3.0\\\\\n & P__PowerSystems.HydroEnergyReservoir_{HydroEnergyReservoir, 19} \\geq 3.0\\\\\n & P__PowerSystems.HydroEnergyReservoir_{HydroEnergyReservoir, 20} \\geq 3.0\\\\\n & P__PowerSystems.HydroEnergyReservoir_{HydroEnergyReservoir, 21} \\geq 3.0\\\\\n & P__PowerSystems.HydroEnergyReservoir_{HydroEnergyReservoir, 22} \\geq 3.0\\\\\n & P__PowerSystems.HydroEnergyReservoir_{HydroEnergyReservoir, 23} \\geq 3.0\\\\\n & P__PowerSystems.HydroEnergyReservoir_{HydroEnergyReservoir, 24} \\geq 3.0\\\\\n & P__PowerSystems.ThermalStandard_{Solitude, 1} \\leq 5.2\\\\\n & P__PowerSystems.ThermalStandard_{Solitude, 2} \\leq 5.2\\\\\n & P__PowerSystems.ThermalStandard_{Solitude, 3} \\leq 5.2\\\\\n & P__PowerSystems.ThermalStandard_{Solitude, 4} \\leq 5.2\\\\\n & P__PowerSystems.ThermalStandard_{Solitude, 5} \\leq 5.2\\\\\n & P__PowerSystems.ThermalStandard_{Solitude, 6} \\leq 5.2\\\\\n & P__PowerSystems.ThermalStandard_{Solitude, 7} \\leq 5.2\\\\\n & P__PowerSystems.ThermalStandard_{Solitude, 8} \\leq 5.2\\\\\n & P__PowerSystems.ThermalStandard_{Solitude, 9} \\leq 5.2\\\\\n & P__PowerSystems.ThermalStandard_{Solitude, 10} \\leq 5.2\\\\\n & P__PowerSystems.ThermalStandard_{Solitude, 11} \\leq 5.2\\\\\n & P__PowerSystems.ThermalStandard_{Solitude, 12} \\leq 5.2\\\\\n & P__PowerSystems.ThermalStandard_{Solitude, 13} \\leq 5.2\\\\\n & P__PowerSystems.ThermalStandard_{Solitude, 14} \\leq 5.2\\\\\n & P__PowerSystems.ThermalStandard_{Solitude, 15} \\leq 5.2\\\\\n & P__PowerSystems.ThermalStandard_{Solitude, 16} \\leq 5.2\\\\\n & P__PowerSystems.ThermalStandard_{Solitude, 17} \\leq 5.2\\\\\n & P__PowerSystems.ThermalStandard_{Solitude, 18} \\leq 5.2\\\\\n & P__PowerSystems.ThermalStandard_{Solitude, 19} \\leq 5.2\\\\\n & P__PowerSystems.ThermalStandard_{Solitude, 20} \\leq 5.2\\\\\n & P__PowerSystems.ThermalStandard_{Solitude, 21} \\leq 5.2\\\\\n & P__PowerSystems.ThermalStandard_{Solitude, 22} \\leq 5.2\\\\\n & P__PowerSystems.ThermalStandard_{Solitude, 23} \\leq 5.2\\\\\n & P__PowerSystems.ThermalStandard_{Solitude, 24} \\leq 5.2\\\\\n & P__PowerSystems.ThermalStandard_{Park City, 1} \\leq 1.7\\\\\n & P__PowerSystems.ThermalStandard_{Park City, 2} \\leq 1.7\\\\\n & P__PowerSystems.ThermalStandard_{Park City, 3} \\leq 1.7\\\\\n & P__PowerSystems.ThermalStandard_{Park City, 4} \\leq 1.7\\\\\n & P__PowerSystems.ThermalStandard_{Park City, 5} \\leq 1.7\\\\\n & P__PowerSystems.ThermalStandard_{Park City, 6} \\leq 1.7\\\\\n & P__PowerSystems.ThermalStandard_{Park City, 7} \\leq 1.7\\\\\n & P__PowerSystems.ThermalStandard_{Park City, 8} \\leq 1.7\\\\\n & P__PowerSystems.ThermalStandard_{Park City, 9} \\leq 1.7\\\\\n & P__PowerSystems.ThermalStandard_{Park City, 10} \\leq 1.7\\\\\n & P__PowerSystems.ThermalStandard_{Park City, 11} \\leq 1.7\\\\\n & P__PowerSystems.ThermalStandard_{Park City, 12} \\leq 1.7\\\\\n & P__PowerSystems.ThermalStandard_{Park City, 13} \\leq 1.7\\\\\n & P__PowerSystems.ThermalStandard_{Park City, 14} \\leq 1.7\\\\\n & P__PowerSystems.ThermalStandard_{Park City, 15} \\leq 1.7\\\\\n & P__PowerSystems.ThermalStandard_{Park City, 16} \\leq 1.7\\\\\n & P__PowerSystems.ThermalStandard_{Park City, 17} \\leq 1.7\\\\\n & P__PowerSystems.ThermalStandard_{Park City, 18} \\leq 1.7\\\\\n & P__PowerSystems.ThermalStandard_{Park City, 19} \\leq 1.7\\\\\n & P__PowerSystems.ThermalStandard_{Park City, 20} \\leq 1.7\\\\\n & P__PowerSystems.ThermalStandard_{Park City, 21} \\leq 1.7\\\\\n & P__PowerSystems.ThermalStandard_{Park City, 22} \\leq 1.7\\\\\n & P__PowerSystems.ThermalStandard_{Park City, 23} \\leq 1.7\\\\\n & P__PowerSystems.ThermalStandard_{Park City, 24} \\leq 1.7\\\\\n & P__PowerSystems.ThermalStandard_{Alta, 1} \\leq 0.4\\\\\n & P__PowerSystems.ThermalStandard_{Alta, 2} \\leq 0.4\\\\\n & P__PowerSystems.ThermalStandard_{Alta, 3} \\leq 0.4\\\\\n & P__PowerSystems.ThermalStandard_{Alta, 4} \\leq 0.4\\\\\n & P__PowerSystems.ThermalStandard_{Alta, 5} \\leq 0.4\\\\\n & P__PowerSystems.ThermalStandard_{Alta, 6} \\leq 0.4\\\\\n & P__PowerSystems.ThermalStandard_{Alta, 7} \\leq 0.4\\\\\n & P__PowerSystems.ThermalStandard_{Alta, 8} \\leq 0.4\\\\\n & P__PowerSystems.ThermalStandard_{Alta, 9} \\leq 0.4\\\\\n & P__PowerSystems.ThermalStandard_{Alta, 10} \\leq 0.4\\\\\n & P__PowerSystems.ThermalStandard_{Alta, 11} \\leq 0.4\\\\\n & P__PowerSystems.ThermalStandard_{Alta, 12} \\leq 0.4\\\\\n & P__PowerSystems.ThermalStandard_{Alta, 13} \\leq 0.4\\\\\n & P__PowerSystems.ThermalStandard_{Alta, 14} \\leq 0.4\\\\\n & P__PowerSystems.ThermalStandard_{Alta, 15} \\leq 0.4\\\\\n & P__PowerSystems.ThermalStandard_{Alta, 16} \\leq 0.4\\\\\n & P__PowerSystems.ThermalStandard_{Alta, 17} \\leq 0.4\\\\\n & P__PowerSystems.ThermalStandard_{Alta, 18} \\leq 0.4\\\\\n & P__PowerSystems.ThermalStandard_{Alta, 19} \\leq 0.4\\\\\n & P__PowerSystems.ThermalStandard_{Alta, 20} \\leq 0.4\\\\\n & P__PowerSystems.ThermalStandard_{Alta, 21} \\leq 0.4\\\\\n & P__PowerSystems.ThermalStandard_{Alta, 22} \\leq 0.4\\\\\n & P__PowerSystems.ThermalStandard_{Alta, 23} \\leq 0.4\\\\\n & P__PowerSystems.ThermalStandard_{Alta, 24} \\leq 0.4\\\\\n & P__PowerSystems.ThermalStandard_{Brighton, 1} \\leq 6.0\\\\\n & P__PowerSystems.ThermalStandard_{Brighton, 2} \\leq 6.0\\\\\n & P__PowerSystems.ThermalStandard_{Brighton, 3} \\leq 6.0\\\\\n & P__PowerSystems.ThermalStandard_{Brighton, 4} \\leq 6.0\\\\\n & P__PowerSystems.ThermalStandard_{Brighton, 5} \\leq 6.0\\\\\n & P__PowerSystems.ThermalStandard_{Brighton, 6} \\leq 6.0\\\\\n & P__PowerSystems.ThermalStandard_{Brighton, 7} \\leq 6.0\\\\\n & P__PowerSystems.ThermalStandard_{Brighton, 8} \\leq 6.0\\\\\n & P__PowerSystems.ThermalStandard_{Brighton, 9} \\leq 6.0\\\\\n & P__PowerSystems.ThermalStandard_{Brighton, 10} \\leq 6.0\\\\\n & P__PowerSystems.ThermalStandard_{Brighton, 11} \\leq 6.0\\\\\n & P__PowerSystems.ThermalStandard_{Brighton, 12} \\leq 6.0\\\\\n & P__PowerSystems.ThermalStandard_{Brighton, 13} \\leq 6.0\\\\\n & P__PowerSystems.ThermalStandard_{Brighton, 14} \\leq 6.0\\\\\n & P__PowerSystems.ThermalStandard_{Brighton, 15} \\leq 6.0\\\\\n & P__PowerSystems.ThermalStandard_{Brighton, 16} \\leq 6.0\\\\\n & P__PowerSystems.ThermalStandard_{Brighton, 17} \\leq 6.0\\\\\n & P__PowerSystems.ThermalStandard_{Brighton, 18} \\leq 6.0\\\\\n & P__PowerSystems.ThermalStandard_{Brighton, 19} \\leq 6.0\\\\\n & P__PowerSystems.ThermalStandard_{Brighton, 20} \\leq 6.0\\\\\n & P__PowerSystems.ThermalStandard_{Brighton, 21} \\leq 6.0\\\\\n & P__PowerSystems.ThermalStandard_{Brighton, 22} \\leq 6.0\\\\\n & P__PowerSystems.ThermalStandard_{Brighton, 23} \\leq 6.0\\\\\n & P__PowerSystems.ThermalStandard_{Brighton, 24} \\leq 6.0\\\\\n & P__PowerSystems.ThermalStandard_{Sundance, 1} \\leq 2.0\\\\\n & P__PowerSystems.ThermalStandard_{Sundance, 2} \\leq 2.0\\\\\n & P__PowerSystems.ThermalStandard_{Sundance, 3} \\leq 2.0\\\\\n & P__PowerSystems.ThermalStandard_{Sundance, 4} \\leq 2.0\\\\\n & P__PowerSystems.ThermalStandard_{Sundance, 5} \\leq 2.0\\\\\n & P__PowerSystems.ThermalStandard_{Sundance, 6} \\leq 2.0\\\\\n & P__PowerSystems.ThermalStandard_{Sundance, 7} \\leq 2.0\\\\\n & P__PowerSystems.ThermalStandard_{Sundance, 8} \\leq 2.0\\\\\n & P__PowerSystems.ThermalStandard_{Sundance, 9} \\leq 2.0\\\\\n & P__PowerSystems.ThermalStandard_{Sundance, 10} \\leq 2.0\\\\\n & P__PowerSystems.ThermalStandard_{Sundance, 11} \\leq 2.0\\\\\n & P__PowerSystems.ThermalStandard_{Sundance, 12} \\leq 2.0\\\\\n & P__PowerSystems.ThermalStandard_{Sundance, 13} \\leq 2.0\\\\\n & P__PowerSystems.ThermalStandard_{Sundance, 14} \\leq 2.0\\\\\n & P__PowerSystems.ThermalStandard_{Sundance, 15} \\leq 2.0\\\\\n & P__PowerSystems.ThermalStandard_{Sundance, 16} \\leq 2.0\\\\\n & P__PowerSystems.ThermalStandard_{Sundance, 17} \\leq 2.0\\\\\n & P__PowerSystems.ThermalStandard_{Sundance, 18} \\leq 2.0\\\\\n & P__PowerSystems.ThermalStandard_{Sundance, 19} \\leq 2.0\\\\\n & P__PowerSystems.ThermalStandard_{Sundance, 20} \\leq 2.0\\\\\n & P__PowerSystems.ThermalStandard_{Sundance, 21} \\leq 2.0\\\\\n & P__PowerSystems.ThermalStandard_{Sundance, 22} \\leq 2.0\\\\\n & P__PowerSystems.ThermalStandard_{Sundance, 23} \\leq 2.0\\\\\n & P__PowerSystems.ThermalStandard_{Sundance, 24} \\leq 2.0\\\\\n & P__PowerSystems.HydroEnergyReservoir_{HydroEnergyReservoir, 1} \\leq 18.1\\\\\n & P__PowerSystems.HydroEnergyReservoir_{HydroEnergyReservoir, 2} \\leq 18.1\\\\\n & P__PowerSystems.HydroEnergyReservoir_{HydroEnergyReservoir, 3} \\leq 18.1\\\\\n & P__PowerSystems.HydroEnergyReservoir_{HydroEnergyReservoir, 4} \\leq 18.1\\\\\n & P__PowerSystems.HydroEnergyReservoir_{HydroEnergyReservoir, 5} \\leq 18.1\\\\\n & P__PowerSystems.HydroEnergyReservoir_{HydroEnergyReservoir, 6} \\leq 18.1\\\\\n & P__PowerSystems.HydroEnergyReservoir_{HydroEnergyReservoir, 7} \\leq 18.1\\\\\n & P__PowerSystems.HydroEnergyReservoir_{HydroEnergyReservoir, 8} \\leq 18.1\\\\\n & P__PowerSystems.HydroEnergyReservoir_{HydroEnergyReservoir, 9} \\leq 18.1\\\\\n & P__PowerSystems.HydroEnergyReservoir_{HydroEnergyReservoir, 10} \\leq 18.1\\\\\n & P__PowerSystems.HydroEnergyReservoir_{HydroEnergyReservoir, 11} \\leq 18.1\\\\\n & P__PowerSystems.HydroEnergyReservoir_{HydroEnergyReservoir, 12} \\leq 18.1\\\\\n & P__PowerSystems.HydroEnergyReservoir_{HydroEnergyReservoir, 13} \\leq 18.1\\\\\n & P__PowerSystems.HydroEnergyReservoir_{HydroEnergyReservoir, 14} \\leq 18.1\\\\\n & P__PowerSystems.HydroEnergyReservoir_{HydroEnergyReservoir, 15} \\leq 18.1\\\\\n & P__PowerSystems.HydroEnergyReservoir_{HydroEnergyReservoir, 16} \\leq 18.1\\\\\n & P__PowerSystems.HydroEnergyReservoir_{HydroEnergyReservoir, 17} \\leq 18.1\\\\\n & P__PowerSystems.HydroEnergyReservoir_{HydroEnergyReservoir, 18} \\leq 18.1\\\\\n & P__PowerSystems.HydroEnergyReservoir_{HydroEnergyReservoir, 19} \\leq 18.1\\\\\n & P__PowerSystems.HydroEnergyReservoir_{HydroEnergyReservoir, 20} \\leq 18.1\\\\\n & P__PowerSystems.HydroEnergyReservoir_{HydroEnergyReservoir, 21} \\leq 18.1\\\\\n & P__PowerSystems.HydroEnergyReservoir_{HydroEnergyReservoir, 22} \\leq 18.1\\\\\n & P__PowerSystems.HydroEnergyReservoir_{HydroEnergyReservoir, 23} \\leq 18.1\\\\\n & P__PowerSystems.HydroEnergyReservoir_{HydroEnergyReservoir, 24} \\leq 18.1\\\\\n & 0.041666666666666664 P__PowerSystems.HydroEnergyReservoir_{HydroEnergyReservoir, 1} + 0.041666666666666664 P__PowerSystems.HydroEnergyReservoir_{HydroEnergyReservoir, 2} + 0.041666666666666664 P__PowerSystems.HydroEnergyReservoir_{HydroEnergyReservoir, 3} + 0.041666666666666664 P__PowerSystems.HydroEnergyReservoir_{HydroEnergyReservoir, 4} + 0.041666666666666664 P__PowerSystems.HydroEnergyReservoir_{HydroEnergyReservoir, 5} + 0.041666666666666664 P__PowerSystems.HydroEnergyReservoir_{HydroEnergyReservoir, 6} + 0.041666666666666664 P__PowerSystems.HydroEnergyReservoir_{HydroEnergyReservoir, 7} + 0.041666666666666664 P__PowerSystems.HydroEnergyReservoir_{HydroEnergyReservoir, 8} + 0.041666666666666664 P__PowerSystems.HydroEnergyReservoir_{HydroEnergyReservoir, 9} + 0.041666666666666664 P__PowerSystems.HydroEnergyReservoir_{HydroEnergyReservoir, 10} + 0.041666666666666664 P__PowerSystems.HydroEnergyReservoir_{HydroEnergyReservoir, 11} + 0.041666666666666664 P__PowerSystems.HydroEnergyReservoir_{HydroEnergyReservoir, 12} + 0.041666666666666664 P__PowerSystems.HydroEnergyReservoir_{HydroEnergyReservoir, 13} + 0.041666666666666664 P__PowerSystems.HydroEnergyReservoir_{HydroEnergyReservoir, 14} + 0.041666666666666664 P__PowerSystems.HydroEnergyReservoir_{HydroEnergyReservoir, 15} + 0.041666666666666664 P__PowerSystems.HydroEnergyReservoir_{HydroEnergyReservoir, 16} + 0.041666666666666664 P__PowerSystems.HydroEnergyReservoir_{HydroEnergyReservoir, 17} + 0.041666666666666664 P__PowerSystems.HydroEnergyReservoir_{HydroEnergyReservoir, 18} + 0.041666666666666664 P__PowerSystems.HydroEnergyReservoir_{HydroEnergyReservoir, 19} + 0.041666666666666664 P__PowerSystems.HydroEnergyReservoir_{HydroEnergyReservoir, 20} + 0.041666666666666664 P__PowerSystems.HydroEnergyReservoir_{HydroEnergyReservoir, 21} + 0.041666666666666664 P__PowerSystems.HydroEnergyReservoir_{HydroEnergyReservoir, 22} + 0.041666666666666664 P__PowerSystems.HydroEnergyReservoir_{HydroEnergyReservoir, 23} + 0.041666666666666664 P__PowerSystems.HydroEnergyReservoir_{HydroEnergyReservoir, 24} \\leq 0.0\\\\\n & P__PowerSystems.ThermalStandard_{Solitude, 1} \\geq 0.0\\\\\n & P__PowerSystems.ThermalStandard_{Park City, 1} \\geq 0.0\\\\\n & P__PowerSystems.ThermalStandard_{Alta, 1} \\geq 0.0\\\\\n & P__PowerSystems.ThermalStandard_{Brighton, 1} \\geq 0.0\\\\\n & P__PowerSystems.ThermalStandard_{Sundance, 1} \\geq 0.0\\\\\n & P__PowerSystems.ThermalStandard_{Solitude, 2} \\geq 0.0\\\\\n & P__PowerSystems.ThermalStandard_{Park City, 2} \\geq 0.0\\\\\n & P__PowerSystems.ThermalStandard_{Alta, 2} \\geq 0.0\\\\\n & P__PowerSystems.ThermalStandard_{Brighton, 2} \\geq 0.0\\\\\n & P__PowerSystems.ThermalStandard_{Sundance, 2} \\geq 0.0\\\\\n & P__PowerSystems.ThermalStandard_{Solitude, 3} \\geq 0.0\\\\\n & P__PowerSystems.ThermalStandard_{Park City, 3} \\geq 0.0\\\\\n & P__PowerSystems.ThermalStandard_{Alta, 3} \\geq 0.0\\\\\n & P__PowerSystems.ThermalStandard_{Brighton, 3} \\geq 0.0\\\\\n & P__PowerSystems.ThermalStandard_{Sundance, 3} \\geq 0.0\\\\\n & P__PowerSystems.ThermalStandard_{Solitude, 4} \\geq 0.0\\\\\n & P__PowerSystems.ThermalStandard_{Park City, 4} \\geq 0.0\\\\\n & P__PowerSystems.ThermalStandard_{Alta, 4} \\geq 0.0\\\\\n & P__PowerSystems.ThermalStandard_{Brighton, 4} \\geq 0.0\\\\\n & P__PowerSystems.ThermalStandard_{Sundance, 4} \\geq 0.0\\\\\n & P__PowerSystems.ThermalStandard_{Solitude, 5} \\geq 0.0\\\\\n & P__PowerSystems.ThermalStandard_{Park City, 5} \\geq 0.0\\\\\n & P__PowerSystems.ThermalStandard_{Alta, 5} \\geq 0.0\\\\\n & P__PowerSystems.ThermalStandard_{Brighton, 5} \\geq 0.0\\\\\n & P__PowerSystems.ThermalStandard_{Sundance, 5} \\geq 0.0\\\\\n & P__PowerSystems.ThermalStandard_{Solitude, 6} \\geq 0.0\\\\\n & P__PowerSystems.ThermalStandard_{Park City, 6} \\geq 0.0\\\\\n & P__PowerSystems.ThermalStandard_{Alta, 6} \\geq 0.0\\\\\n & P__PowerSystems.ThermalStandard_{Brighton, 6} \\geq 0.0\\\\\n & P__PowerSystems.ThermalStandard_{Sundance, 6} \\geq 0.0\\\\\n & P__PowerSystems.ThermalStandard_{Solitude, 7} \\geq 0.0\\\\\n & P__PowerSystems.ThermalStandard_{Park City, 7} \\geq 0.0\\\\\n & P__PowerSystems.ThermalStandard_{Alta, 7} \\geq 0.0\\\\\n & P__PowerSystems.ThermalStandard_{Brighton, 7} \\geq 0.0\\\\\n & P__PowerSystems.ThermalStandard_{Sundance, 7} \\geq 0.0\\\\\n & P__PowerSystems.ThermalStandard_{Solitude, 8} \\geq 0.0\\\\\n & P__PowerSystems.ThermalStandard_{Park City, 8} \\geq 0.0\\\\\n & P__PowerSystems.ThermalStandard_{Alta, 8} \\geq 0.0\\\\\n & P__PowerSystems.ThermalStandard_{Brighton, 8} \\geq 0.0\\\\\n & P__PowerSystems.ThermalStandard_{Sundance, 8} \\geq 0.0\\\\\n & P__PowerSystems.ThermalStandard_{Solitude, 9} \\geq 0.0\\\\\n & P__PowerSystems.ThermalStandard_{Park City, 9} \\geq 0.0\\\\\n & P__PowerSystems.ThermalStandard_{Alta, 9} \\geq 0.0\\\\\n & P__PowerSystems.ThermalStandard_{Brighton, 9} \\geq 0.0\\\\\n & P__PowerSystems.ThermalStandard_{Sundance, 9} \\geq 0.0\\\\\n & P__PowerSystems.ThermalStandard_{Solitude, 10} \\geq 0.0\\\\\n & P__PowerSystems.ThermalStandard_{Park City, 10} \\geq 0.0\\\\\n & P__PowerSystems.ThermalStandard_{Alta, 10} \\geq 0.0\\\\\n & P__PowerSystems.ThermalStandard_{Brighton, 10} \\geq 0.0\\\\\n & P__PowerSystems.ThermalStandard_{Sundance, 10} \\geq 0.0\\\\\n & P__PowerSystems.ThermalStandard_{Solitude, 11} \\geq 0.0\\\\\n & P__PowerSystems.ThermalStandard_{Park City, 11} \\geq 0.0\\\\\n & P__PowerSystems.ThermalStandard_{Alta, 11} \\geq 0.0\\\\\n & P__PowerSystems.ThermalStandard_{Brighton, 11} \\geq 0.0\\\\\n & P__PowerSystems.ThermalStandard_{Sundance, 11} \\geq 0.0\\\\\n & P__PowerSystems.ThermalStandard_{Solitude, 12} \\geq 0.0\\\\\n & P__PowerSystems.ThermalStandard_{Park City, 12} \\geq 0.0\\\\\n & P__PowerSystems.ThermalStandard_{Alta, 12} \\geq 0.0\\\\\n & P__PowerSystems.ThermalStandard_{Brighton, 12} \\geq 0.0\\\\\n & P__PowerSystems.ThermalStandard_{Sundance, 12} \\geq 0.0\\\\\n & P__PowerSystems.ThermalStandard_{Solitude, 13} \\geq 0.0\\\\\n & P__PowerSystems.ThermalStandard_{Park City, 13} \\geq 0.0\\\\\n & P__PowerSystems.ThermalStandard_{Alta, 13} \\geq 0.0\\\\\n & P__PowerSystems.ThermalStandard_{Brighton, 13} \\geq 0.0\\\\\n & P__PowerSystems.ThermalStandard_{Sundance, 13} \\geq 0.0\\\\\n & P__PowerSystems.ThermalStandard_{Solitude, 14} \\geq 0.0\\\\\n & P__PowerSystems.ThermalStandard_{Park City, 14} \\geq 0.0\\\\\n & P__PowerSystems.ThermalStandard_{Alta, 14} \\geq 0.0\\\\\n & P__PowerSystems.ThermalStandard_{Brighton, 14} \\geq 0.0\\\\\n & P__PowerSystems.ThermalStandard_{Sundance, 14} \\geq 0.0\\\\\n & P__PowerSystems.ThermalStandard_{Solitude, 15} \\geq 0.0\\\\\n & P__PowerSystems.ThermalStandard_{Park City, 15} \\geq 0.0\\\\\n & P__PowerSystems.ThermalStandard_{Alta, 15} \\geq 0.0\\\\\n & P__PowerSystems.ThermalStandard_{Brighton, 15} \\geq 0.0\\\\\n & P__PowerSystems.ThermalStandard_{Sundance, 15} \\geq 0.0\\\\\n & P__PowerSystems.ThermalStandard_{Solitude, 16} \\geq 0.0\\\\\n & P__PowerSystems.ThermalStandard_{Park City, 16} \\geq 0.0\\\\\n & P__PowerSystems.ThermalStandard_{Alta, 16} \\geq 0.0\\\\\n & P__PowerSystems.ThermalStandard_{Brighton, 16} \\geq 0.0\\\\\n & P__PowerSystems.ThermalStandard_{Sundance, 16} \\geq 0.0\\\\\n & P__PowerSystems.ThermalStandard_{Solitude, 17} \\geq 0.0\\\\\n & P__PowerSystems.ThermalStandard_{Park City, 17} \\geq 0.0\\\\\n & P__PowerSystems.ThermalStandard_{Alta, 17} \\geq 0.0\\\\\n & P__PowerSystems.ThermalStandard_{Brighton, 17} \\geq 0.0\\\\\n & P__PowerSystems.ThermalStandard_{Sundance, 17} \\geq 0.0\\\\\n & P__PowerSystems.ThermalStandard_{Solitude, 18} \\geq 0.0\\\\\n & P__PowerSystems.ThermalStandard_{Park City, 18} \\geq 0.0\\\\\n & P__PowerSystems.ThermalStandard_{Alta, 18} \\geq 0.0\\\\\n & P__PowerSystems.ThermalStandard_{Brighton, 18} \\geq 0.0\\\\\n & P__PowerSystems.ThermalStandard_{Sundance, 18} \\geq 0.0\\\\\n & P__PowerSystems.ThermalStandard_{Solitude, 19} \\geq 0.0\\\\\n & P__PowerSystems.ThermalStandard_{Park City, 19} \\geq 0.0\\\\\n & P__PowerSystems.ThermalStandard_{Alta, 19} \\geq 0.0\\\\\n & P__PowerSystems.ThermalStandard_{Brighton, 19} \\geq 0.0\\\\\n & P__PowerSystems.ThermalStandard_{Sundance, 19} \\geq 0.0\\\\\n & P__PowerSystems.ThermalStandard_{Solitude, 20} \\geq 0.0\\\\\n & P__PowerSystems.ThermalStandard_{Park City, 20} \\geq 0.0\\\\\n & P__PowerSystems.ThermalStandard_{Alta, 20} \\geq 0.0\\\\\n & P__PowerSystems.ThermalStandard_{Brighton, 20} \\geq 0.0\\\\\n & P__PowerSystems.ThermalStandard_{Sundance, 20} \\geq 0.0\\\\\n & P__PowerSystems.ThermalStandard_{Solitude, 21} \\geq 0.0\\\\\n & P__PowerSystems.ThermalStandard_{Park City, 21} \\geq 0.0\\\\\n & P__PowerSystems.ThermalStandard_{Alta, 21} \\geq 0.0\\\\\n & P__PowerSystems.ThermalStandard_{Brighton, 21} \\geq 0.0\\\\\n & P__PowerSystems.ThermalStandard_{Sundance, 21} \\geq 0.0\\\\\n & P__PowerSystems.ThermalStandard_{Solitude, 22} \\geq 0.0\\\\\n & P__PowerSystems.ThermalStandard_{Park City, 22} \\geq 0.0\\\\\n & P__PowerSystems.ThermalStandard_{Alta, 22} \\geq 0.0\\\\\n & P__PowerSystems.ThermalStandard_{Brighton, 22} \\geq 0.0\\\\\n & P__PowerSystems.ThermalStandard_{Sundance, 22} \\geq 0.0\\\\\n & P__PowerSystems.ThermalStandard_{Solitude, 23} \\geq 0.0\\\\\n & P__PowerSystems.ThermalStandard_{Park City, 23} \\geq 0.0\\\\\n & P__PowerSystems.ThermalStandard_{Alta, 23} \\geq 0.0\\\\\n & P__PowerSystems.ThermalStandard_{Brighton, 23} \\geq 0.0\\\\\n & P__PowerSystems.ThermalStandard_{Sundance, 23} \\geq 0.0\\\\\n & P__PowerSystems.ThermalStandard_{Solitude, 24} \\geq 0.0\\\\\n & P__PowerSystems.ThermalStandard_{Park City, 24} \\geq 0.0\\\\\n & P__PowerSystems.ThermalStandard_{Alta, 24} \\geq 0.0\\\\\n & P__PowerSystems.ThermalStandard_{Brighton, 24} \\geq 0.0\\\\\n & P__PowerSystems.ThermalStandard_{Sundance, 24} \\geq 0.0\\\\\n & P__PowerSystems.HydroEnergyReservoir_{HydroEnergyReservoir, 1} \\geq 3.0\\\\\n & P__PowerSystems.HydroEnergyReservoir_{HydroEnergyReservoir, 2} \\geq 3.0\\\\\n & P__PowerSystems.HydroEnergyReservoir_{HydroEnergyReservoir, 3} \\geq 3.0\\\\\n & P__PowerSystems.HydroEnergyReservoir_{HydroEnergyReservoir, 4} \\geq 3.0\\\\\n & P__PowerSystems.HydroEnergyReservoir_{HydroEnergyReservoir, 5} \\geq 3.0\\\\\n & P__PowerSystems.HydroEnergyReservoir_{HydroEnergyReservoir, 6} \\geq 3.0\\\\\n & P__PowerSystems.HydroEnergyReservoir_{HydroEnergyReservoir, 7} \\geq 3.0\\\\\n & P__PowerSystems.HydroEnergyReservoir_{HydroEnergyReservoir, 8} \\geq 3.0\\\\\n & P__PowerSystems.HydroEnergyReservoir_{HydroEnergyReservoir, 9} \\geq 3.0\\\\\n & P__PowerSystems.HydroEnergyReservoir_{HydroEnergyReservoir, 10} \\geq 3.0\\\\\n & P__PowerSystems.HydroEnergyReservoir_{HydroEnergyReservoir, 11} \\geq 3.0\\\\\n & P__PowerSystems.HydroEnergyReservoir_{HydroEnergyReservoir, 12} \\geq 3.0\\\\\n & P__PowerSystems.HydroEnergyReservoir_{HydroEnergyReservoir, 13} \\geq 3.0\\\\\n & P__PowerSystems.HydroEnergyReservoir_{HydroEnergyReservoir, 14} \\geq 3.0\\\\\n & P__PowerSystems.HydroEnergyReservoir_{HydroEnergyReservoir, 15} \\geq 3.0\\\\\n & P__PowerSystems.HydroEnergyReservoir_{HydroEnergyReservoir, 16} \\geq 3.0\\\\\n & P__PowerSystems.HydroEnergyReservoir_{HydroEnergyReservoir, 17} \\geq 3.0\\\\\n & P__PowerSystems.HydroEnergyReservoir_{HydroEnergyReservoir, 18} \\geq 3.0\\\\\n & P__PowerSystems.HydroEnergyReservoir_{HydroEnergyReservoir, 19} \\geq 3.0\\\\\n & P__PowerSystems.HydroEnergyReservoir_{HydroEnergyReservoir, 20} \\geq 3.0\\\\\n & P__PowerSystems.HydroEnergyReservoir_{HydroEnergyReservoir, 21} \\geq 3.0\\\\\n & P__PowerSystems.HydroEnergyReservoir_{HydroEnergyReservoir, 22} \\geq 3.0\\\\\n & P__PowerSystems.HydroEnergyReservoir_{HydroEnergyReservoir, 23} \\geq 3.0\\\\\n & P__PowerSystems.HydroEnergyReservoir_{HydroEnergyReservoir, 24} \\geq 3.0\\\\\n & E__PowerSystems.HydroEnergyReservoir_{HydroEnergyReservoir, 1} \\geq 0.0\\\\\n & E__PowerSystems.HydroEnergyReservoir_{HydroEnergyReservoir, 2} \\geq 0.0\\\\\n & E__PowerSystems.HydroEnergyReservoir_{HydroEnergyReservoir, 3} \\geq 0.0\\\\\n & E__PowerSystems.HydroEnergyReservoir_{HydroEnergyReservoir, 4} \\geq 0.0\\\\\n & E__PowerSystems.HydroEnergyReservoir_{HydroEnergyReservoir, 5} \\geq 0.0\\\\\n & E__PowerSystems.HydroEnergyReservoir_{HydroEnergyReservoir, 6} \\geq 0.0\\\\\n & E__PowerSystems.HydroEnergyReservoir_{HydroEnergyReservoir, 7} \\geq 0.0\\\\\n & E__PowerSystems.HydroEnergyReservoir_{HydroEnergyReservoir, 8} \\geq 0.0\\\\\n & E__PowerSystems.HydroEnergyReservoir_{HydroEnergyReservoir, 9} \\geq 0.0\\\\\n & E__PowerSystems.HydroEnergyReservoir_{HydroEnergyReservoir, 10} \\geq 0.0\\\\\n & E__PowerSystems.HydroEnergyReservoir_{HydroEnergyReservoir, 11} \\geq 0.0\\\\\n & E__PowerSystems.HydroEnergyReservoir_{HydroEnergyReservoir, 12} \\geq 0.0\\\\\n & E__PowerSystems.HydroEnergyReservoir_{HydroEnergyReservoir, 13} \\geq 0.0\\\\\n & E__PowerSystems.HydroEnergyReservoir_{HydroEnergyReservoir, 14} \\geq 0.0\\\\\n & E__PowerSystems.HydroEnergyReservoir_{HydroEnergyReservoir, 15} \\geq 0.0\\\\\n & E__PowerSystems.HydroEnergyReservoir_{HydroEnergyReservoir, 16} \\geq 0.0\\\\\n & E__PowerSystems.HydroEnergyReservoir_{HydroEnergyReservoir, 17} \\geq 0.0\\\\\n & E__PowerSystems.HydroEnergyReservoir_{HydroEnergyReservoir, 18} \\geq 0.0\\\\\n & E__PowerSystems.HydroEnergyReservoir_{HydroEnergyReservoir, 19} \\geq 0.0\\\\\n & E__PowerSystems.HydroEnergyReservoir_{HydroEnergyReservoir, 20} \\geq 0.0\\\\\n & E__PowerSystems.HydroEnergyReservoir_{HydroEnergyReservoir, 21} \\geq 0.0\\\\\n & E__PowerSystems.HydroEnergyReservoir_{HydroEnergyReservoir, 22} \\geq 0.0\\\\\n & E__PowerSystems.HydroEnergyReservoir_{HydroEnergyReservoir, 23} \\geq 0.0\\\\\n & E__PowerSystems.HydroEnergyReservoir_{HydroEnergyReservoir, 24} \\geq 0.0\\\\\n & Sp__PowerSystems.HydroEnergyReservoir_{HydroEnergyReservoir, 1} \\geq 0.0\\\\\n & Sp__PowerSystems.HydroEnergyReservoir_{HydroEnergyReservoir, 2} \\geq 0.0\\\\\n & Sp__PowerSystems.HydroEnergyReservoir_{HydroEnergyReservoir, 3} \\geq 0.0\\\\\n & Sp__PowerSystems.HydroEnergyReservoir_{HydroEnergyReservoir, 4} \\geq 0.0\\\\\n & Sp__PowerSystems.HydroEnergyReservoir_{HydroEnergyReservoir, 5} \\geq 0.0\\\\\n & Sp__PowerSystems.HydroEnergyReservoir_{HydroEnergyReservoir, 6} \\geq 0.0\\\\\n & Sp__PowerSystems.HydroEnergyReservoir_{HydroEnergyReservoir, 7} \\geq 0.0\\\\\n & Sp__PowerSystems.HydroEnergyReservoir_{HydroEnergyReservoir, 8} \\geq 0.0\\\\\n & Sp__PowerSystems.HydroEnergyReservoir_{HydroEnergyReservoir, 9} \\geq 0.0\\\\\n & Sp__PowerSystems.HydroEnergyReservoir_{HydroEnergyReservoir, 10} \\geq 0.0\\\\\n & Sp__PowerSystems.HydroEnergyReservoir_{HydroEnergyReservoir, 11} \\geq 0.0\\\\\n & Sp__PowerSystems.HydroEnergyReservoir_{HydroEnergyReservoir, 12} \\geq 0.0\\\\\n & Sp__PowerSystems.HydroEnergyReservoir_{HydroEnergyReservoir, 13} \\geq 0.0\\\\\n & Sp__PowerSystems.HydroEnergyReservoir_{HydroEnergyReservoir, 14} \\geq 0.0\\\\\n & Sp__PowerSystems.HydroEnergyReservoir_{HydroEnergyReservoir, 15} \\geq 0.0\\\\\n & Sp__PowerSystems.HydroEnergyReservoir_{HydroEnergyReservoir, 16} \\geq 0.0\\\\\n & Sp__PowerSystems.HydroEnergyReservoir_{HydroEnergyReservoir, 17} \\geq 0.0\\\\\n & Sp__PowerSystems.HydroEnergyReservoir_{HydroEnergyReservoir, 18} \\geq 0.0\\\\\n & Sp__PowerSystems.HydroEnergyReservoir_{HydroEnergyReservoir, 19} \\geq 0.0\\\\\n & Sp__PowerSystems.HydroEnergyReservoir_{HydroEnergyReservoir, 20} \\geq 0.0\\\\\n & Sp__PowerSystems.HydroEnergyReservoir_{HydroEnergyReservoir, 21} \\geq 0.0\\\\\n & Sp__PowerSystems.HydroEnergyReservoir_{HydroEnergyReservoir, 22} \\geq 0.0\\\\\n & Sp__PowerSystems.HydroEnergyReservoir_{HydroEnergyReservoir, 23} \\geq 0.0\\\\\n & Sp__PowerSystems.HydroEnergyReservoir_{HydroEnergyReservoir, 24} \\geq 0.0\\\\\n & P__PowerSystems.ThermalStandard_{Solitude, 1} \\leq 5.2\\\\\n & P__PowerSystems.ThermalStandard_{Park City, 1} \\leq 1.7\\\\\n & P__PowerSystems.ThermalStandard_{Alta, 1} \\leq 0.4\\\\\n & P__PowerSystems.ThermalStandard_{Brighton, 1} \\leq 6.0\\\\\n & P__PowerSystems.ThermalStandard_{Sundance, 1} \\leq 2.0\\\\\n & P__PowerSystems.ThermalStandard_{Solitude, 2} \\leq 5.2\\\\\n & P__PowerSystems.ThermalStandard_{Park City, 2} \\leq 1.7\\\\\n & P__PowerSystems.ThermalStandard_{Alta, 2} \\leq 0.4\\\\\n & P__PowerSystems.ThermalStandard_{Brighton, 2} \\leq 6.0\\\\\n & P__PowerSystems.ThermalStandard_{Sundance, 2} \\leq 2.0\\\\\n & P__PowerSystems.ThermalStandard_{Solitude, 3} \\leq 5.2\\\\\n & P__PowerSystems.ThermalStandard_{Park City, 3} \\leq 1.7\\\\\n & P__PowerSystems.ThermalStandard_{Alta, 3} \\leq 0.4\\\\\n & P__PowerSystems.ThermalStandard_{Brighton, 3} \\leq 6.0\\\\\n & P__PowerSystems.ThermalStandard_{Sundance, 3} \\leq 2.0\\\\\n & P__PowerSystems.ThermalStandard_{Solitude, 4} \\leq 5.2\\\\\n & P__PowerSystems.ThermalStandard_{Park City, 4} \\leq 1.7\\\\\n & P__PowerSystems.ThermalStandard_{Alta, 4} \\leq 0.4\\\\\n & P__PowerSystems.ThermalStandard_{Brighton, 4} \\leq 6.0\\\\\n & P__PowerSystems.ThermalStandard_{Sundance, 4} \\leq 2.0\\\\\n & P__PowerSystems.ThermalStandard_{Solitude, 5} \\leq 5.2\\\\\n & P__PowerSystems.ThermalStandard_{Park City, 5} \\leq 1.7\\\\\n & P__PowerSystems.ThermalStandard_{Alta, 5} \\leq 0.4\\\\\n & P__PowerSystems.ThermalStandard_{Brighton, 5} \\leq 6.0\\\\\n & P__PowerSystems.ThermalStandard_{Sundance, 5} \\leq 2.0\\\\\n & P__PowerSystems.ThermalStandard_{Solitude, 6} \\leq 5.2\\\\\n & P__PowerSystems.ThermalStandard_{Park City, 6} \\leq 1.7\\\\\n & P__PowerSystems.ThermalStandard_{Alta, 6} \\leq 0.4\\\\\n & P__PowerSystems.ThermalStandard_{Brighton, 6} \\leq 6.0\\\\\n & P__PowerSystems.ThermalStandard_{Sundance, 6} \\leq 2.0\\\\\n & P__PowerSystems.ThermalStandard_{Solitude, 7} \\leq 5.2\\\\\n & P__PowerSystems.ThermalStandard_{Park City, 7} \\leq 1.7\\\\\n & P__PowerSystems.ThermalStandard_{Alta, 7} \\leq 0.4\\\\\n & P__PowerSystems.ThermalStandard_{Brighton, 7} \\leq 6.0\\\\\n & P__PowerSystems.ThermalStandard_{Sundance, 7} \\leq 2.0\\\\\n & P__PowerSystems.ThermalStandard_{Solitude, 8} \\leq 5.2\\\\\n & P__PowerSystems.ThermalStandard_{Park City, 8} \\leq 1.7\\\\\n & P__PowerSystems.ThermalStandard_{Alta, 8} \\leq 0.4\\\\\n & P__PowerSystems.ThermalStandard_{Brighton, 8} \\leq 6.0\\\\\n & P__PowerSystems.ThermalStandard_{Sundance, 8} \\leq 2.0\\\\\n & P__PowerSystems.ThermalStandard_{Solitude, 9} \\leq 5.2\\\\\n & P__PowerSystems.ThermalStandard_{Park City, 9} \\leq 1.7\\\\\n & P__PowerSystems.ThermalStandard_{Alta, 9} \\leq 0.4\\\\\n & P__PowerSystems.ThermalStandard_{Brighton, 9} \\leq 6.0\\\\\n & P__PowerSystems.ThermalStandard_{Sundance, 9} \\leq 2.0\\\\\n & P__PowerSystems.ThermalStandard_{Solitude, 10} \\leq 5.2\\\\\n & P__PowerSystems.ThermalStandard_{Park City, 10} \\leq 1.7\\\\\n & P__PowerSystems.ThermalStandard_{Alta, 10} \\leq 0.4\\\\\n & P__PowerSystems.ThermalStandard_{Brighton, 10} \\leq 6.0\\\\\n & P__PowerSystems.ThermalStandard_{Sundance, 10} \\leq 2.0\\\\\n & P__PowerSystems.ThermalStandard_{Solitude, 11} \\leq 5.2\\\\\n & P__PowerSystems.ThermalStandard_{Park City, 11} \\leq 1.7\\\\\n & P__PowerSystems.ThermalStandard_{Alta, 11} \\leq 0.4\\\\\n & P__PowerSystems.ThermalStandard_{Brighton, 11} \\leq 6.0\\\\\n & P__PowerSystems.ThermalStandard_{Sundance, 11} \\leq 2.0\\\\\n & P__PowerSystems.ThermalStandard_{Solitude, 12} \\leq 5.2\\\\\n & P__PowerSystems.ThermalStandard_{Park City, 12} \\leq 1.7\\\\\n & P__PowerSystems.ThermalStandard_{Alta, 12} \\leq 0.4\\\\\n & P__PowerSystems.ThermalStandard_{Brighton, 12} \\leq 6.0\\\\\n & P__PowerSystems.ThermalStandard_{Sundance, 12} \\leq 2.0\\\\\n & P__PowerSystems.ThermalStandard_{Solitude, 13} \\leq 5.2\\\\\n & P__PowerSystems.ThermalStandard_{Park City, 13} \\leq 1.7\\\\\n & P__PowerSystems.ThermalStandard_{Alta, 13} \\leq 0.4\\\\\n & P__PowerSystems.ThermalStandard_{Brighton, 13} \\leq 6.0\\\\\n & P__PowerSystems.ThermalStandard_{Sundance, 13} \\leq 2.0\\\\\n & P__PowerSystems.ThermalStandard_{Solitude, 14} \\leq 5.2\\\\\n & P__PowerSystems.ThermalStandard_{Park City, 14} \\leq 1.7\\\\\n & P__PowerSystems.ThermalStandard_{Alta, 14} \\leq 0.4\\\\\n & P__PowerSystems.ThermalStandard_{Brighton, 14} \\leq 6.0\\\\\n & P__PowerSystems.ThermalStandard_{Sundance, 14} \\leq 2.0\\\\\n & P__PowerSystems.ThermalStandard_{Solitude, 15} \\leq 5.2\\\\\n & P__PowerSystems.ThermalStandard_{Park City, 15} \\leq 1.7\\\\\n & P__PowerSystems.ThermalStandard_{Alta, 15} \\leq 0.4\\\\\n & P__PowerSystems.ThermalStandard_{Brighton, 15} \\leq 6.0\\\\\n & P__PowerSystems.ThermalStandard_{Sundance, 15} \\leq 2.0\\\\\n & P__PowerSystems.ThermalStandard_{Solitude, 16} \\leq 5.2\\\\\n & P__PowerSystems.ThermalStandard_{Park City, 16} \\leq 1.7\\\\\n & P__PowerSystems.ThermalStandard_{Alta, 16} \\leq 0.4\\\\\n & P__PowerSystems.ThermalStandard_{Brighton, 16} \\leq 6.0\\\\\n & P__PowerSystems.ThermalStandard_{Sundance, 16} \\leq 2.0\\\\\n & P__PowerSystems.ThermalStandard_{Solitude, 17} \\leq 5.2\\\\\n & P__PowerSystems.ThermalStandard_{Park City, 17} \\leq 1.7\\\\\n & P__PowerSystems.ThermalStandard_{Alta, 17} \\leq 0.4\\\\\n & P__PowerSystems.ThermalStandard_{Brighton, 17} \\leq 6.0\\\\\n & P__PowerSystems.ThermalStandard_{Sundance, 17} \\leq 2.0\\\\\n & P__PowerSystems.ThermalStandard_{Solitude, 18} \\leq 5.2\\\\\n & P__PowerSystems.ThermalStandard_{Park City, 18} \\leq 1.7\\\\\n & P__PowerSystems.ThermalStandard_{Alta, 18} \\leq 0.4\\\\\n & P__PowerSystems.ThermalStandard_{Brighton, 18} \\leq 6.0\\\\\n & P__PowerSystems.ThermalStandard_{Sundance, 18} \\leq 2.0\\\\\n & P__PowerSystems.ThermalStandard_{Solitude, 19} \\leq 5.2\\\\\n & P__PowerSystems.ThermalStandard_{Park City, 19} \\leq 1.7\\\\\n & P__PowerSystems.ThermalStandard_{Alta, 19} \\leq 0.4\\\\\n & P__PowerSystems.ThermalStandard_{Brighton, 19} \\leq 6.0\\\\\n & P__PowerSystems.ThermalStandard_{Sundance, 19} \\leq 2.0\\\\\n & P__PowerSystems.ThermalStandard_{Solitude, 20} \\leq 5.2\\\\\n & P__PowerSystems.ThermalStandard_{Park City, 20} \\leq 1.7\\\\\n & P__PowerSystems.ThermalStandard_{Alta, 20} \\leq 0.4\\\\\n & P__PowerSystems.ThermalStandard_{Brighton, 20} \\leq 6.0\\\\\n & P__PowerSystems.ThermalStandard_{Sundance, 20} \\leq 2.0\\\\\n & P__PowerSystems.ThermalStandard_{Solitude, 21} \\leq 5.2\\\\\n & P__PowerSystems.ThermalStandard_{Park City, 21} \\leq 1.7\\\\\n & P__PowerSystems.ThermalStandard_{Alta, 21} \\leq 0.4\\\\\n & P__PowerSystems.ThermalStandard_{Brighton, 21} \\leq 6.0\\\\\n & P__PowerSystems.ThermalStandard_{Sundance, 21} \\leq 2.0\\\\\n & P__PowerSystems.ThermalStandard_{Solitude, 22} \\leq 5.2\\\\\n & P__PowerSystems.ThermalStandard_{Park City, 22} \\leq 1.7\\\\\n & P__PowerSystems.ThermalStandard_{Alta, 22} \\leq 0.4\\\\\n & P__PowerSystems.ThermalStandard_{Brighton, 22} \\leq 6.0\\\\\n & P__PowerSystems.ThermalStandard_{Sundance, 22} \\leq 2.0\\\\\n & P__PowerSystems.ThermalStandard_{Solitude, 23} \\leq 5.2\\\\\n & P__PowerSystems.ThermalStandard_{Park City, 23} \\leq 1.7\\\\\n & P__PowerSystems.ThermalStandard_{Alta, 23} \\leq 0.4\\\\\n & P__PowerSystems.ThermalStandard_{Brighton, 23} \\leq 6.0\\\\\n & P__PowerSystems.ThermalStandard_{Sundance, 23} \\leq 2.0\\\\\n & P__PowerSystems.ThermalStandard_{Solitude, 24} \\leq 5.2\\\\\n & P__PowerSystems.ThermalStandard_{Park City, 24} \\leq 1.7\\\\\n & P__PowerSystems.ThermalStandard_{Alta, 24} \\leq 0.4\\\\\n & P__PowerSystems.ThermalStandard_{Brighton, 24} \\leq 6.0\\\\\n & P__PowerSystems.ThermalStandard_{Sundance, 24} \\leq 2.0\\\\\n & P__PowerSystems.HydroEnergyReservoir_{HydroEnergyReservoir, 1} \\leq 18.1\\\\\n & P__PowerSystems.HydroEnergyReservoir_{HydroEnergyReservoir, 2} \\leq 18.1\\\\\n & P__PowerSystems.HydroEnergyReservoir_{HydroEnergyReservoir, 3} \\leq 18.1\\\\\n & P__PowerSystems.HydroEnergyReservoir_{HydroEnergyReservoir, 4} \\leq 18.1\\\\\n & P__PowerSystems.HydroEnergyReservoir_{HydroEnergyReservoir, 5} \\leq 18.1\\\\\n & P__PowerSystems.HydroEnergyReservoir_{HydroEnergyReservoir, 6} \\leq 18.1\\\\\n & P__PowerSystems.HydroEnergyReservoir_{HydroEnergyReservoir, 7} \\leq 18.1\\\\\n & P__PowerSystems.HydroEnergyReservoir_{HydroEnergyReservoir, 8} \\leq 18.1\\\\\n & P__PowerSystems.HydroEnergyReservoir_{HydroEnergyReservoir, 9} \\leq 18.1\\\\\n & P__PowerSystems.HydroEnergyReservoir_{HydroEnergyReservoir, 10} \\leq 18.1\\\\\n & P__PowerSystems.HydroEnergyReservoir_{HydroEnergyReservoir, 11} \\leq 18.1\\\\\n & P__PowerSystems.HydroEnergyReservoir_{HydroEnergyReservoir, 12} \\leq 18.1\\\\\n & P__PowerSystems.HydroEnergyReservoir_{HydroEnergyReservoir, 13} \\leq 18.1\\\\\n & P__PowerSystems.HydroEnergyReservoir_{HydroEnergyReservoir, 14} \\leq 18.1\\\\\n & P__PowerSystems.HydroEnergyReservoir_{HydroEnergyReservoir, 15} \\leq 18.1\\\\\n & P__PowerSystems.HydroEnergyReservoir_{HydroEnergyReservoir, 16} \\leq 18.1\\\\\n & P__PowerSystems.HydroEnergyReservoir_{HydroEnergyReservoir, 17} \\leq 18.1\\\\\n & P__PowerSystems.HydroEnergyReservoir_{HydroEnergyReservoir, 18} \\leq 18.1\\\\\n & P__PowerSystems.HydroEnergyReservoir_{HydroEnergyReservoir, 19} \\leq 18.1\\\\\n & P__PowerSystems.HydroEnergyReservoir_{HydroEnergyReservoir, 20} \\leq 18.1\\\\\n & P__PowerSystems.HydroEnergyReservoir_{HydroEnergyReservoir, 21} \\leq 18.1\\\\\n & P__PowerSystems.HydroEnergyReservoir_{HydroEnergyReservoir, 22} \\leq 18.1\\\\\n & P__PowerSystems.HydroEnergyReservoir_{HydroEnergyReservoir, 23} \\leq 18.1\\\\\n & P__PowerSystems.HydroEnergyReservoir_{HydroEnergyReservoir, 24} \\leq 18.1\\\\\n & E__PowerSystems.HydroEnergyReservoir_{HydroEnergyReservoir, 1} \\leq 10.0\\\\\n & E__PowerSystems.HydroEnergyReservoir_{HydroEnergyReservoir, 2} \\leq 10.0\\\\\n & E__PowerSystems.HydroEnergyReservoir_{HydroEnergyReservoir, 3} \\leq 10.0\\\\\n & E__PowerSystems.HydroEnergyReservoir_{HydroEnergyReservoir, 4} \\leq 10.0\\\\\n & E__PowerSystems.HydroEnergyReservoir_{HydroEnergyReservoir, 5} \\leq 10.0\\\\\n & E__PowerSystems.HydroEnergyReservoir_{HydroEnergyReservoir, 6} \\leq 10.0\\\\\n & E__PowerSystems.HydroEnergyReservoir_{HydroEnergyReservoir, 7} \\leq 10.0\\\\\n & E__PowerSystems.HydroEnergyReservoir_{HydroEnergyReservoir, 8} \\leq 10.0\\\\\n & E__PowerSystems.HydroEnergyReservoir_{HydroEnergyReservoir, 9} \\leq 10.0\\\\\n & E__PowerSystems.HydroEnergyReservoir_{HydroEnergyReservoir, 10} \\leq 10.0\\\\\n & E__PowerSystems.HydroEnergyReservoir_{HydroEnergyReservoir, 11} \\leq 10.0\\\\\n & E__PowerSystems.HydroEnergyReservoir_{HydroEnergyReservoir, 12} \\leq 10.0\\\\\n & E__PowerSystems.HydroEnergyReservoir_{HydroEnergyReservoir, 13} \\leq 10.0\\\\\n & E__PowerSystems.HydroEnergyReservoir_{HydroEnergyReservoir, 14} \\leq 10.0\\\\\n & E__PowerSystems.HydroEnergyReservoir_{HydroEnergyReservoir, 15} \\leq 10.0\\\\\n & E__PowerSystems.HydroEnergyReservoir_{HydroEnergyReservoir, 16} \\leq 10.0\\\\\n & E__PowerSystems.HydroEnergyReservoir_{HydroEnergyReservoir, 17} \\leq 10.0\\\\\n & E__PowerSystems.HydroEnergyReservoir_{HydroEnergyReservoir, 18} \\leq 10.0\\\\\n & E__PowerSystems.HydroEnergyReservoir_{HydroEnergyReservoir, 19} \\leq 10.0\\\\\n & E__PowerSystems.HydroEnergyReservoir_{HydroEnergyReservoir, 20} \\leq 10.0\\\\\n & E__PowerSystems.HydroEnergyReservoir_{HydroEnergyReservoir, 21} \\leq 10.0\\\\\n & E__PowerSystems.HydroEnergyReservoir_{HydroEnergyReservoir, 22} \\leq 10.0\\\\\n & E__PowerSystems.HydroEnergyReservoir_{HydroEnergyReservoir, 23} \\leq 10.0\\\\\n & E__PowerSystems.HydroEnergyReservoir_{HydroEnergyReservoir, 24} \\leq 10.0\\\\\n\\end{alignat*}\n $$"
     },
     "metadata": {},
     "execution_count": 20
    }
   ],
   "cell_type": "code",
   "source": [
    "sim.stages[\"DA\"].internal.psi_container.JuMPmodel"
   ],
   "metadata": {},
   "execution_count": 20
  },
  {
   "outputs": [],
   "cell_type": "markdown",
   "source": [
    "And we can execute the simulation by running the following command\n",
    "```julia"
   ],
   "metadata": {}
  },
  {
   "outputs": [],
   "cell_type": "code",
   "source": [
    "#sim_results = execute!(sim)\n",
    "#```"
   ],
   "metadata": {},
   "execution_count": 21
  },
  {
   "outputs": [],
   "cell_type": "markdown",
   "source": [
    "3-Stage Simulation:"
   ],
   "metadata": {}
  },
  {
   "outputs": [],
   "cell_type": "code",
   "source": [
    "stages_definition = Dict(\n",
    "    \"MD\" => Stage(GenericOpProblem, template_md, c_sys5_hy_wk, solver),\n",
    "    \"DA\" => Stage(GenericOpProblem, template_da, c_sys5_hy_uc, solver),\n",
    "    \"ED\" => Stage(GenericOpProblem, template_da, c_sys5_hy_ed, solver),\n",
    ")\n",
    "\n",
    "sequence = SimulationSequence(\n",
    "    step_resolution = Hour(48),\n",
    "    order = Dict(1 => \"MD\", 2 => \"DA\", 3 => \"ED\"),\n",
    "    feedforward_chronologies = Dict(\n",
    "        (\"MD\" => \"DA\") => Synchronize(periods = 2),\n",
    "        (\"DA\" => \"ED\") => Synchronize(periods = 24),\n",
    "    ),\n",
    "    intervals = Dict(\n",
    "        \"MD\" => (Hour(48), Consecutive()),\n",
    "        \"DA\" => (Hour(24), Consecutive()),\n",
    "        \"ED\" => (Hour(1), Consecutive()),\n",
    "    ),\n",
    "    horizons = Dict(\"MD\" => 2, \"DA\" => 24, \"ED\" => 12),\n",
    "    feedforward = Dict(\n",
    "        (\"DA\", :devices, :HydroEnergyReservoir) => IntegralLimitFF(\n",
    "            variable_from_stage = PSI.ACTIVE_POWER,\n",
    "            affected_variables = [PSI.ACTIVE_POWER],\n",
    "        ),\n",
    "        (\"ED\", :devices, :HydroEnergyReservoir) => IntegralLimitFF(\n",
    "            variable_from_stage = PSI.ACTIVE_POWER,\n",
    "            affected_variables = [PSI.ACTIVE_POWER],\n",
    "        ),\n",
    "    ),\n",
    "    cache = Dict( (\"MD\", \"DA\") => StoredEnergy(PSY.HydroEnergyReservoir, PSI.ENERGY)),\n",
    "    ini_cond_chronology = InterStageChronology(),\n",
    ");"
   ],
   "metadata": {},
   "execution_count": 22
  },
  {
   "outputs": [
    {
     "output_type": "execute_result",
     "data": {
      "text/plain": "Simulation()\n"
     },
     "metadata": {},
     "execution_count": 23
    }
   ],
   "cell_type": "code",
   "source": [
    "sim = Simulation(\n",
    "    name = \"hydro\",\n",
    "    steps = 1,\n",
    "    stages = stages_definition,\n",
    "    stages_sequence = sequence,\n",
    "    simulation_folder = file_path,\n",
    ")"
   ],
   "metadata": {},
   "execution_count": 23
  },
  {
   "outputs": [
    {
     "name": "stdout",
     "output_type": "stream",
     "text": [
      "┌ Info: Building Stage 2-DA\n",
      "└ @ PowerSimulations /Users/cbarrows/.julia/packages/PowerSimulations/32SZy/src/core/simulation.jl:354\n",
      "┌ Info: Building Stage 3-ED\n",
      "└ @ PowerSimulations /Users/cbarrows/.julia/packages/PowerSimulations/32SZy/src/core/simulation.jl:354\n",
      "┌ Info: Building Stage 1-MD\n",
      "└ @ PowerSimulations /Users/cbarrows/.julia/packages/PowerSimulations/32SZy/src/core/simulation.jl:354\n",
      "┌ Info: \n",
      "│  ───────────────────────────────────────────────────────────────────────────\n",
      "│                                     Time                   Allocations      \n",
      "│                             ──────────────────────   ───────────────────────\n",
      "│       Tot / % measured:         21.0ms / 100%            2.91MiB / 100%     \n",
      "│ \n",
      "│  Section            ncalls     time   %tot     avg     alloc   %tot      avg\n",
      "│  ───────────────────────────────────────────────────────────────────────────\n",
      "│  Build Simulation        1   21.0ms   100%  21.0ms   2.91MiB  100%   2.91MiB\n",
      "│    Build Stage ED        1   7.14ms  34.0%  7.14ms    967KiB  32.5%   967KiB\n",
      "│    Build Stage DA        1   5.92ms  28.2%  5.92ms   1.53MiB  52.6%  1.53MiB\n",
      "│    Build Stage MD        1   4.57ms  21.8%  4.57ms    292KiB  9.79%   292KiB\n",
      "│  ───────────────────────────────────────────────────────────────────────────\n",
      "└ @ PowerSimulations /Users/cbarrows/.julia/packages/PowerSimulations/32SZy/src/core/simulation.jl:419\n"
     ]
    }
   ],
   "cell_type": "code",
   "source": [
    "build!(sim)"
   ],
   "metadata": {},
   "execution_count": 24
  },
  {
   "outputs": [],
   "cell_type": "markdown",
   "source": [
    "We can look at the \"MD\" Model"
   ],
   "metadata": {}
  },
  {
   "outputs": [
    {
     "output_type": "execute_result",
     "data": {
      "text/plain": "A JuMP Model\nMinimization problem with:\nVariables: 16\nObjective function type: JuMP.GenericAffExpr{Float64,JuMP.VariableRef}\n`JuMP.GenericAffExpr{Float64,JuMP.VariableRef}`-in-`MathOptInterface.EqualTo{Float64}`: 4 constraints\n`JuMP.GenericAffExpr{Float64,JuMP.VariableRef}`-in-`MathOptInterface.GreaterThan{Float64}`: 12 constraints\n`JuMP.GenericAffExpr{Float64,JuMP.VariableRef}`-in-`MathOptInterface.LessThan{Float64}`: 12 constraints\n`JuMP.VariableRef`-in-`MathOptInterface.GreaterThan{Float64}`: 16 constraints\n`JuMP.VariableRef`-in-`MathOptInterface.LessThan{Float64}`: 14 constraints\nModel mode: AUTOMATIC\nCachingOptimizer state: EMPTY_OPTIMIZER\nSolver name: COIN Branch-and-Cut (Cbc)",
      "text/latex": "$$ \\begin{alignat*}{1}\\min\\quad & 72000 P__PowerSystems.ThermalStandard_{Solitude, 1} + 72000 P__PowerSystems.ThermalStandard_{Solitude, 2} + 36000 P__PowerSystems.ThermalStandard_{Park City, 1} + 36000 P__PowerSystems.ThermalStandard_{Park City, 2} + 33600 P__PowerSystems.ThermalStandard_{Alta, 1} + 33600 P__PowerSystems.ThermalStandard_{Alta, 2} + 24000 P__PowerSystems.ThermalStandard_{Brighton, 1} + 24000 P__PowerSystems.ThermalStandard_{Brighton, 2} + 96000 P__PowerSystems.ThermalStandard_{Sundance, 1} + 96000 P__PowerSystems.ThermalStandard_{Sundance, 2}\\\\\n\\text{Subject to} \\quad & E__PowerSystems.HydroEnergyReservoir_{HydroEnergyReservoir, 1} + 24 P__PowerSystems.HydroEnergyReservoir_{HydroEnergyReservoir, 1} + 24 Sp__PowerSystems.HydroEnergyReservoir_{HydroEnergyReservoir, 1} = 0.0\\\\\n & E__PowerSystems.HydroEnergyReservoir_{HydroEnergyReservoir, 2} - E__PowerSystems.HydroEnergyReservoir_{HydroEnergyReservoir, 1} + 24 P__PowerSystems.HydroEnergyReservoir_{HydroEnergyReservoir, 2} + 24 Sp__PowerSystems.HydroEnergyReservoir_{HydroEnergyReservoir, 2} = 0.0\\\\\n & P__PowerSystems.ThermalStandard_{Park City, 1} + P__PowerSystems.ThermalStandard_{Alta, 1} + P__PowerSystems.ThermalStandard_{Solitude, 1} + P__PowerSystems.HydroEnergyReservoir_{HydroEnergyReservoir, 1} + P__PowerSystems.ThermalStandard_{Sundance, 1} + P__PowerSystems.ThermalStandard_{Brighton, 1} = 0.0\\\\\n & P__PowerSystems.ThermalStandard_{Park City, 2} + P__PowerSystems.ThermalStandard_{Alta, 2} + P__PowerSystems.ThermalStandard_{Solitude, 2} + P__PowerSystems.HydroEnergyReservoir_{HydroEnergyReservoir, 2} + P__PowerSystems.ThermalStandard_{Sundance, 2} + P__PowerSystems.ThermalStandard_{Brighton, 2} = 0.0\\\\\n & P__PowerSystems.ThermalStandard_{Solitude, 1} \\geq 0.0\\\\\n & P__PowerSystems.ThermalStandard_{Solitude, 2} \\geq 0.0\\\\\n & P__PowerSystems.ThermalStandard_{Park City, 1} \\geq 0.0\\\\\n & P__PowerSystems.ThermalStandard_{Park City, 2} \\geq 0.0\\\\\n & P__PowerSystems.ThermalStandard_{Alta, 1} \\geq 0.0\\\\\n & P__PowerSystems.ThermalStandard_{Alta, 2} \\geq 0.0\\\\\n & P__PowerSystems.ThermalStandard_{Brighton, 1} \\geq 0.0\\\\\n & P__PowerSystems.ThermalStandard_{Brighton, 2} \\geq 0.0\\\\\n & P__PowerSystems.ThermalStandard_{Sundance, 1} \\geq 0.0\\\\\n & P__PowerSystems.ThermalStandard_{Sundance, 2} \\geq 0.0\\\\\n & P__PowerSystems.HydroEnergyReservoir_{HydroEnergyReservoir, 1} \\geq 3.0\\\\\n & P__PowerSystems.HydroEnergyReservoir_{HydroEnergyReservoir, 2} \\geq 3.0\\\\\n & P__PowerSystems.ThermalStandard_{Solitude, 1} \\leq 5.2\\\\\n & P__PowerSystems.ThermalStandard_{Solitude, 2} \\leq 5.2\\\\\n & P__PowerSystems.ThermalStandard_{Park City, 1} \\leq 1.7\\\\\n & P__PowerSystems.ThermalStandard_{Park City, 2} \\leq 1.7\\\\\n & P__PowerSystems.ThermalStandard_{Alta, 1} \\leq 0.4\\\\\n & P__PowerSystems.ThermalStandard_{Alta, 2} \\leq 0.4\\\\\n & P__PowerSystems.ThermalStandard_{Brighton, 1} \\leq 6.0\\\\\n & P__PowerSystems.ThermalStandard_{Brighton, 2} \\leq 6.0\\\\\n & P__PowerSystems.ThermalStandard_{Sundance, 1} \\leq 2.0\\\\\n & P__PowerSystems.ThermalStandard_{Sundance, 2} \\leq 2.0\\\\\n & P__PowerSystems.HydroEnergyReservoir_{HydroEnergyReservoir, 1} \\leq 18.1\\\\\n & P__PowerSystems.HydroEnergyReservoir_{HydroEnergyReservoir, 2} \\leq 18.1\\\\\n & P__PowerSystems.ThermalStandard_{Solitude, 1} \\geq 0.0\\\\\n & P__PowerSystems.ThermalStandard_{Park City, 1} \\geq 0.0\\\\\n & P__PowerSystems.ThermalStandard_{Alta, 1} \\geq 0.0\\\\\n & P__PowerSystems.ThermalStandard_{Brighton, 1} \\geq 0.0\\\\\n & P__PowerSystems.ThermalStandard_{Sundance, 1} \\geq 0.0\\\\\n & P__PowerSystems.ThermalStandard_{Solitude, 2} \\geq 0.0\\\\\n & P__PowerSystems.ThermalStandard_{Park City, 2} \\geq 0.0\\\\\n & P__PowerSystems.ThermalStandard_{Alta, 2} \\geq 0.0\\\\\n & P__PowerSystems.ThermalStandard_{Brighton, 2} \\geq 0.0\\\\\n & P__PowerSystems.ThermalStandard_{Sundance, 2} \\geq 0.0\\\\\n & P__PowerSystems.HydroEnergyReservoir_{HydroEnergyReservoir, 1} \\geq 3.0\\\\\n & P__PowerSystems.HydroEnergyReservoir_{HydroEnergyReservoir, 2} \\geq 3.0\\\\\n & E__PowerSystems.HydroEnergyReservoir_{HydroEnergyReservoir, 1} \\geq 0.0\\\\\n & E__PowerSystems.HydroEnergyReservoir_{HydroEnergyReservoir, 2} \\geq 0.0\\\\\n & Sp__PowerSystems.HydroEnergyReservoir_{HydroEnergyReservoir, 1} \\geq 0.0\\\\\n & Sp__PowerSystems.HydroEnergyReservoir_{HydroEnergyReservoir, 2} \\geq 0.0\\\\\n & P__PowerSystems.ThermalStandard_{Solitude, 1} \\leq 5.2\\\\\n & P__PowerSystems.ThermalStandard_{Park City, 1} \\leq 1.7\\\\\n & P__PowerSystems.ThermalStandard_{Alta, 1} \\leq 0.4\\\\\n & P__PowerSystems.ThermalStandard_{Brighton, 1} \\leq 6.0\\\\\n & P__PowerSystems.ThermalStandard_{Sundance, 1} \\leq 2.0\\\\\n & P__PowerSystems.ThermalStandard_{Solitude, 2} \\leq 5.2\\\\\n & P__PowerSystems.ThermalStandard_{Park City, 2} \\leq 1.7\\\\\n & P__PowerSystems.ThermalStandard_{Alta, 2} \\leq 0.4\\\\\n & P__PowerSystems.ThermalStandard_{Brighton, 2} \\leq 6.0\\\\\n & P__PowerSystems.ThermalStandard_{Sundance, 2} \\leq 2.0\\\\\n & P__PowerSystems.HydroEnergyReservoir_{HydroEnergyReservoir, 1} \\leq 18.1\\\\\n & P__PowerSystems.HydroEnergyReservoir_{HydroEnergyReservoir, 2} \\leq 18.1\\\\\n & E__PowerSystems.HydroEnergyReservoir_{HydroEnergyReservoir, 1} \\leq 10.0\\\\\n & E__PowerSystems.HydroEnergyReservoir_{HydroEnergyReservoir, 2} \\leq 10.0\\\\\n\\end{alignat*}\n $$"
     },
     "metadata": {},
     "execution_count": 25
    }
   ],
   "cell_type": "code",
   "source": [
    "sim.stages[\"MD\"].internal.psi_container.JuMPmodel"
   ],
   "metadata": {},
   "execution_count": 25
  },
  {
   "outputs": [],
   "cell_type": "markdown",
   "source": [
    "And we can look at the \"DA\" model"
   ],
   "metadata": {}
  },
  {
   "outputs": [
    {
     "output_type": "execute_result",
     "data": {
      "text/plain": "A JuMP Model\nMinimization problem with:\nVariables: 192\nObjective function type: JuMP.GenericAffExpr{Float64,JuMP.VariableRef}\n`JuMP.GenericAffExpr{Float64,JuMP.VariableRef}`-in-`MathOptInterface.EqualTo{Float64}`: 48 constraints\n`JuMP.GenericAffExpr{Float64,JuMP.VariableRef}`-in-`MathOptInterface.GreaterThan{Float64}`: 144 constraints\n`JuMP.GenericAffExpr{Float64,JuMP.VariableRef}`-in-`MathOptInterface.LessThan{Float64}`: 145 constraints\n`JuMP.VariableRef`-in-`MathOptInterface.GreaterThan{Float64}`: 192 constraints\n`JuMP.VariableRef`-in-`MathOptInterface.LessThan{Float64}`: 168 constraints\nModel mode: AUTOMATIC\nCachingOptimizer state: EMPTY_OPTIMIZER\nSolver name: COIN Branch-and-Cut (Cbc)",
      "text/latex": "$$ \\begin{alignat*}{1}\\min\\quad & 3000 P__PowerSystems.ThermalStandard_{Solitude, 1} + 3000 P__PowerSystems.ThermalStandard_{Solitude, 2} + 3000 P__PowerSystems.ThermalStandard_{Solitude, 3} + 3000 P__PowerSystems.ThermalStandard_{Solitude, 4} + 3000 P__PowerSystems.ThermalStandard_{Solitude, 5} + 3000 P__PowerSystems.ThermalStandard_{Solitude, 6} + 3000 P__PowerSystems.ThermalStandard_{Solitude, 7} + 3000 P__PowerSystems.ThermalStandard_{Solitude, 8} + 3000 P__PowerSystems.ThermalStandard_{Solitude, 9} + 3000 P__PowerSystems.ThermalStandard_{Solitude, 10} + 3000 P__PowerSystems.ThermalStandard_{Solitude, 11} + 3000 P__PowerSystems.ThermalStandard_{Solitude, 12} + 3000 P__PowerSystems.ThermalStandard_{Solitude, 13} + 3000 P__PowerSystems.ThermalStandard_{Solitude, 14} + 3000 P__PowerSystems.ThermalStandard_{Solitude, 15} + 3000 P__PowerSystems.ThermalStandard_{Solitude, 16} + 3000 P__PowerSystems.ThermalStandard_{Solitude, 17} + 3000 P__PowerSystems.ThermalStandard_{Solitude, 18} + 3000 P__PowerSystems.ThermalStandard_{Solitude, 19} + 3000 P__PowerSystems.ThermalStandard_{Solitude, 20} + 3000 P__PowerSystems.ThermalStandard_{Solitude, 21} + 3000 P__PowerSystems.ThermalStandard_{Solitude, 22} + 3000 P__PowerSystems.ThermalStandard_{Solitude, 23} + 3000 P__PowerSystems.ThermalStandard_{Solitude, 24} + 1500 P__PowerSystems.ThermalStandard_{Park City, 1} + 1500 P__PowerSystems.ThermalStandard_{Park City, 2} + 1500 P__PowerSystems.ThermalStandard_{Park City, 3} + 1500 P__PowerSystems.ThermalStandard_{Park City, 4} + 1500 P__PowerSystems.ThermalStandard_{Park City, 5} + 1500 P__PowerSystems.ThermalStandard_{Park City, 6} + 1500 P__PowerSystems.ThermalStandard_{Park City, 7} + 1500 P__PowerSystems.ThermalStandard_{Park City, 8} + 1500 P__PowerSystems.ThermalStandard_{Park City, 9} + 1500 P__PowerSystems.ThermalStandard_{Park City, 10} + 1500 P__PowerSystems.ThermalStandard_{Park City, 11} + 1500 P__PowerSystems.ThermalStandard_{Park City, 12} + 1500 P__PowerSystems.ThermalStandard_{Park City, 13} + 1500 P__PowerSystems.ThermalStandard_{Park City, 14} + 1500 P__PowerSystems.ThermalStandard_{Park City, 15} + 1500 P__PowerSystems.ThermalStandard_{Park City, 16} + 1500 P__PowerSystems.ThermalStandard_{Park City, 17} + 1500 P__PowerSystems.ThermalStandard_{Park City, 18} + 1500 P__PowerSystems.ThermalStandard_{Park City, 19} + 1500 P__PowerSystems.ThermalStandard_{Park City, 20} + 1500 P__PowerSystems.ThermalStandard_{Park City, 21} + 1500 P__PowerSystems.ThermalStandard_{Park City, 22} + 1500 P__PowerSystems.ThermalStandard_{Park City, 23} + 1500 P__PowerSystems.ThermalStandard_{Park City, 24} + 1400 P__PowerSystems.ThermalStandard_{Alta, 1} + 1400 P__PowerSystems.ThermalStandard_{Alta, 2} + 1400 P__PowerSystems.ThermalStandard_{Alta, 3} + 1400 P__PowerSystems.ThermalStandard_{Alta, 4} + 1400 P__PowerSystems.ThermalStandard_{Alta, 5} + 1400 P__PowerSystems.ThermalStandard_{Alta, 6} + 1400 P__PowerSystems.ThermalStandard_{Alta, 7} + 1400 P__PowerSystems.ThermalStandard_{Alta, 8} + 1400 P__PowerSystems.ThermalStandard_{Alta, 9} + 1400 P__PowerSystems.ThermalStandard_{Alta, 10} + 1400 P__PowerSystems.ThermalStandard_{Alta, 11} + 1400 P__PowerSystems.ThermalStandard_{Alta, 12} + 1400 P__PowerSystems.ThermalStandard_{Alta, 13} + 1400 P__PowerSystems.ThermalStandard_{Alta, 14} + 1400 P__PowerSystems.ThermalStandard_{Alta, 15} + 1400 P__PowerSystems.ThermalStandard_{Alta, 16} + 1400 P__PowerSystems.ThermalStandard_{Alta, 17} + 1400 P__PowerSystems.ThermalStandard_{Alta, 18} + 1400 P__PowerSystems.ThermalStandard_{Alta, 19} + 1400 P__PowerSystems.ThermalStandard_{Alta, 20} + 1400 P__PowerSystems.ThermalStandard_{Alta, 21} + 1400 P__PowerSystems.ThermalStandard_{Alta, 22} + 1400 P__PowerSystems.ThermalStandard_{Alta, 23} + 1400 P__PowerSystems.ThermalStandard_{Alta, 24} + 1000 P__PowerSystems.ThermalStandard_{Brighton, 1} + 1000 P__PowerSystems.ThermalStandard_{Brighton, 2} + 1000 P__PowerSystems.ThermalStandard_{Brighton, 3} + 1000 P__PowerSystems.ThermalStandard_{Brighton, 4} + 1000 P__PowerSystems.ThermalStandard_{Brighton, 5} + 1000 P__PowerSystems.ThermalStandard_{Brighton, 6} + 1000 P__PowerSystems.ThermalStandard_{Brighton, 7} + 1000 P__PowerSystems.ThermalStandard_{Brighton, 8} + 1000 P__PowerSystems.ThermalStandard_{Brighton, 9} + 1000 P__PowerSystems.ThermalStandard_{Brighton, 10} + 1000 P__PowerSystems.ThermalStandard_{Brighton, 11} + 1000 P__PowerSystems.ThermalStandard_{Brighton, 12} + 1000 P__PowerSystems.ThermalStandard_{Brighton, 13} + 1000 P__PowerSystems.ThermalStandard_{Brighton, 14} + 1000 P__PowerSystems.ThermalStandard_{Brighton, 15} + 1000 P__PowerSystems.ThermalStandard_{Brighton, 16} + 1000 P__PowerSystems.ThermalStandard_{Brighton, 17} + 1000 P__PowerSystems.ThermalStandard_{Brighton, 18} + 1000 P__PowerSystems.ThermalStandard_{Brighton, 19} + 1000 P__PowerSystems.ThermalStandard_{Brighton, 20} + 1000 P__PowerSystems.ThermalStandard_{Brighton, 21} + 1000 P__PowerSystems.ThermalStandard_{Brighton, 22} + 1000 P__PowerSystems.ThermalStandard_{Brighton, 23} + 1000 P__PowerSystems.ThermalStandard_{Brighton, 24} + 4000 P__PowerSystems.ThermalStandard_{Sundance, 1} + 4000 P__PowerSystems.ThermalStandard_{Sundance, 2} + 4000 P__PowerSystems.ThermalStandard_{Sundance, 3} + 4000 P__PowerSystems.ThermalStandard_{Sundance, 4} + 4000 P__PowerSystems.ThermalStandard_{Sundance, 5} + 4000 P__PowerSystems.ThermalStandard_{Sundance, 6} + 4000 P__PowerSystems.ThermalStandard_{Sundance, 7} + 4000 P__PowerSystems.ThermalStandard_{Sundance, 8} + 4000 P__PowerSystems.ThermalStandard_{Sundance, 9} + 4000 P__PowerSystems.ThermalStandard_{Sundance, 10} + 4000 P__PowerSystems.ThermalStandard_{Sundance, 11} + 4000 P__PowerSystems.ThermalStandard_{Sundance, 12} + 4000 P__PowerSystems.ThermalStandard_{Sundance, 13} + 4000 P__PowerSystems.ThermalStandard_{Sundance, 14} + 4000 P__PowerSystems.ThermalStandard_{Sundance, 15} + 4000 P__PowerSystems.ThermalStandard_{Sundance, 16} + 4000 P__PowerSystems.ThermalStandard_{Sundance, 17} + 4000 P__PowerSystems.ThermalStandard_{Sundance, 18} + 4000 P__PowerSystems.ThermalStandard_{Sundance, 19} + 4000 P__PowerSystems.ThermalStandard_{Sundance, 20} + 4000 P__PowerSystems.ThermalStandard_{Sundance, 21} + 4000 P__PowerSystems.ThermalStandard_{Sundance, 22} + 4000 P__PowerSystems.ThermalStandard_{Sundance, 23} + 4000 P__PowerSystems.ThermalStandard_{Sundance, 24}\\\\\n\\text{Subject to} \\quad & E__PowerSystems.HydroEnergyReservoir_{HydroEnergyReservoir, 1} + P__PowerSystems.HydroEnergyReservoir_{HydroEnergyReservoir, 1} + Sp__PowerSystems.HydroEnergyReservoir_{HydroEnergyReservoir, 1} = 0.0\\\\\n & E__PowerSystems.HydroEnergyReservoir_{HydroEnergyReservoir, 2} - E__PowerSystems.HydroEnergyReservoir_{HydroEnergyReservoir, 1} + P__PowerSystems.HydroEnergyReservoir_{HydroEnergyReservoir, 2} + Sp__PowerSystems.HydroEnergyReservoir_{HydroEnergyReservoir, 2} = 0.0\\\\\n & E__PowerSystems.HydroEnergyReservoir_{HydroEnergyReservoir, 3} - E__PowerSystems.HydroEnergyReservoir_{HydroEnergyReservoir, 2} + P__PowerSystems.HydroEnergyReservoir_{HydroEnergyReservoir, 3} + Sp__PowerSystems.HydroEnergyReservoir_{HydroEnergyReservoir, 3} = 0.0\\\\\n & E__PowerSystems.HydroEnergyReservoir_{HydroEnergyReservoir, 4} - E__PowerSystems.HydroEnergyReservoir_{HydroEnergyReservoir, 3} + P__PowerSystems.HydroEnergyReservoir_{HydroEnergyReservoir, 4} + Sp__PowerSystems.HydroEnergyReservoir_{HydroEnergyReservoir, 4} = 0.0\\\\\n & E__PowerSystems.HydroEnergyReservoir_{HydroEnergyReservoir, 5} - E__PowerSystems.HydroEnergyReservoir_{HydroEnergyReservoir, 4} + P__PowerSystems.HydroEnergyReservoir_{HydroEnergyReservoir, 5} + Sp__PowerSystems.HydroEnergyReservoir_{HydroEnergyReservoir, 5} = 0.0\\\\\n & E__PowerSystems.HydroEnergyReservoir_{HydroEnergyReservoir, 6} - E__PowerSystems.HydroEnergyReservoir_{HydroEnergyReservoir, 5} + P__PowerSystems.HydroEnergyReservoir_{HydroEnergyReservoir, 6} + Sp__PowerSystems.HydroEnergyReservoir_{HydroEnergyReservoir, 6} = 0.0\\\\\n & E__PowerSystems.HydroEnergyReservoir_{HydroEnergyReservoir, 7} - E__PowerSystems.HydroEnergyReservoir_{HydroEnergyReservoir, 6} + P__PowerSystems.HydroEnergyReservoir_{HydroEnergyReservoir, 7} + Sp__PowerSystems.HydroEnergyReservoir_{HydroEnergyReservoir, 7} = 0.0\\\\\n & E__PowerSystems.HydroEnergyReservoir_{HydroEnergyReservoir, 8} - E__PowerSystems.HydroEnergyReservoir_{HydroEnergyReservoir, 7} + P__PowerSystems.HydroEnergyReservoir_{HydroEnergyReservoir, 8} + Sp__PowerSystems.HydroEnergyReservoir_{HydroEnergyReservoir, 8} = 0.0\\\\\n & E__PowerSystems.HydroEnergyReservoir_{HydroEnergyReservoir, 9} - E__PowerSystems.HydroEnergyReservoir_{HydroEnergyReservoir, 8} + P__PowerSystems.HydroEnergyReservoir_{HydroEnergyReservoir, 9} + Sp__PowerSystems.HydroEnergyReservoir_{HydroEnergyReservoir, 9} = 0.0\\\\\n & E__PowerSystems.HydroEnergyReservoir_{HydroEnergyReservoir, 10} - E__PowerSystems.HydroEnergyReservoir_{HydroEnergyReservoir, 9} + P__PowerSystems.HydroEnergyReservoir_{HydroEnergyReservoir, 10} + Sp__PowerSystems.HydroEnergyReservoir_{HydroEnergyReservoir, 10} = 0.0\\\\\n & E__PowerSystems.HydroEnergyReservoir_{HydroEnergyReservoir, 11} - E__PowerSystems.HydroEnergyReservoir_{HydroEnergyReservoir, 10} + P__PowerSystems.HydroEnergyReservoir_{HydroEnergyReservoir, 11} + Sp__PowerSystems.HydroEnergyReservoir_{HydroEnergyReservoir, 11} = 0.0\\\\\n & E__PowerSystems.HydroEnergyReservoir_{HydroEnergyReservoir, 12} - E__PowerSystems.HydroEnergyReservoir_{HydroEnergyReservoir, 11} + P__PowerSystems.HydroEnergyReservoir_{HydroEnergyReservoir, 12} + Sp__PowerSystems.HydroEnergyReservoir_{HydroEnergyReservoir, 12} = 0.0\\\\\n & E__PowerSystems.HydroEnergyReservoir_{HydroEnergyReservoir, 13} - E__PowerSystems.HydroEnergyReservoir_{HydroEnergyReservoir, 12} + P__PowerSystems.HydroEnergyReservoir_{HydroEnergyReservoir, 13} + Sp__PowerSystems.HydroEnergyReservoir_{HydroEnergyReservoir, 13} = 0.0\\\\\n & E__PowerSystems.HydroEnergyReservoir_{HydroEnergyReservoir, 14} - E__PowerSystems.HydroEnergyReservoir_{HydroEnergyReservoir, 13} + P__PowerSystems.HydroEnergyReservoir_{HydroEnergyReservoir, 14} + Sp__PowerSystems.HydroEnergyReservoir_{HydroEnergyReservoir, 14} = 0.0\\\\\n & E__PowerSystems.HydroEnergyReservoir_{HydroEnergyReservoir, 15} - E__PowerSystems.HydroEnergyReservoir_{HydroEnergyReservoir, 14} + P__PowerSystems.HydroEnergyReservoir_{HydroEnergyReservoir, 15} + Sp__PowerSystems.HydroEnergyReservoir_{HydroEnergyReservoir, 15} = 0.0\\\\\n & E__PowerSystems.HydroEnergyReservoir_{HydroEnergyReservoir, 16} - E__PowerSystems.HydroEnergyReservoir_{HydroEnergyReservoir, 15} + P__PowerSystems.HydroEnergyReservoir_{HydroEnergyReservoir, 16} + Sp__PowerSystems.HydroEnergyReservoir_{HydroEnergyReservoir, 16} = 0.0\\\\\n & E__PowerSystems.HydroEnergyReservoir_{HydroEnergyReservoir, 17} - E__PowerSystems.HydroEnergyReservoir_{HydroEnergyReservoir, 16} + P__PowerSystems.HydroEnergyReservoir_{HydroEnergyReservoir, 17} + Sp__PowerSystems.HydroEnergyReservoir_{HydroEnergyReservoir, 17} = 0.0\\\\\n & E__PowerSystems.HydroEnergyReservoir_{HydroEnergyReservoir, 18} - E__PowerSystems.HydroEnergyReservoir_{HydroEnergyReservoir, 17} + P__PowerSystems.HydroEnergyReservoir_{HydroEnergyReservoir, 18} + Sp__PowerSystems.HydroEnergyReservoir_{HydroEnergyReservoir, 18} = 0.0\\\\\n & E__PowerSystems.HydroEnergyReservoir_{HydroEnergyReservoir, 19} - E__PowerSystems.HydroEnergyReservoir_{HydroEnergyReservoir, 18} + P__PowerSystems.HydroEnergyReservoir_{HydroEnergyReservoir, 19} + Sp__PowerSystems.HydroEnergyReservoir_{HydroEnergyReservoir, 19} = 0.0\\\\\n & E__PowerSystems.HydroEnergyReservoir_{HydroEnergyReservoir, 20} - E__PowerSystems.HydroEnergyReservoir_{HydroEnergyReservoir, 19} + P__PowerSystems.HydroEnergyReservoir_{HydroEnergyReservoir, 20} + Sp__PowerSystems.HydroEnergyReservoir_{HydroEnergyReservoir, 20} = 0.0\\\\\n & E__PowerSystems.HydroEnergyReservoir_{HydroEnergyReservoir, 21} - E__PowerSystems.HydroEnergyReservoir_{HydroEnergyReservoir, 20} + P__PowerSystems.HydroEnergyReservoir_{HydroEnergyReservoir, 21} + Sp__PowerSystems.HydroEnergyReservoir_{HydroEnergyReservoir, 21} = 0.0\\\\\n & E__PowerSystems.HydroEnergyReservoir_{HydroEnergyReservoir, 22} - E__PowerSystems.HydroEnergyReservoir_{HydroEnergyReservoir, 21} + P__PowerSystems.HydroEnergyReservoir_{HydroEnergyReservoir, 22} + Sp__PowerSystems.HydroEnergyReservoir_{HydroEnergyReservoir, 22} = 0.0\\\\\n & E__PowerSystems.HydroEnergyReservoir_{HydroEnergyReservoir, 23} - E__PowerSystems.HydroEnergyReservoir_{HydroEnergyReservoir, 22} + P__PowerSystems.HydroEnergyReservoir_{HydroEnergyReservoir, 23} + Sp__PowerSystems.HydroEnergyReservoir_{HydroEnergyReservoir, 23} = 0.0\\\\\n & E__PowerSystems.HydroEnergyReservoir_{HydroEnergyReservoir, 24} - E__PowerSystems.HydroEnergyReservoir_{HydroEnergyReservoir, 23} + P__PowerSystems.HydroEnergyReservoir_{HydroEnergyReservoir, 24} + Sp__PowerSystems.HydroEnergyReservoir_{HydroEnergyReservoir, 24} = 0.0\\\\\n & P__PowerSystems.ThermalStandard_{Park City, 1} + P__PowerSystems.ThermalStandard_{Alta, 1} + P__PowerSystems.ThermalStandard_{Solitude, 1} + P__PowerSystems.HydroEnergyReservoir_{HydroEnergyReservoir, 1} + P__PowerSystems.ThermalStandard_{Sundance, 1} + P__PowerSystems.ThermalStandard_{Brighton, 1} = 0.0\\\\\n & P__PowerSystems.ThermalStandard_{Park City, 2} + P__PowerSystems.ThermalStandard_{Alta, 2} + P__PowerSystems.ThermalStandard_{Solitude, 2} + P__PowerSystems.HydroEnergyReservoir_{HydroEnergyReservoir, 2} + P__PowerSystems.ThermalStandard_{Sundance, 2} + P__PowerSystems.ThermalStandard_{Brighton, 2} = 0.0\\\\\n & P__PowerSystems.ThermalStandard_{Park City, 3} + P__PowerSystems.ThermalStandard_{Alta, 3} + P__PowerSystems.ThermalStandard_{Solitude, 3} + P__PowerSystems.HydroEnergyReservoir_{HydroEnergyReservoir, 3} + P__PowerSystems.ThermalStandard_{Sundance, 3} + P__PowerSystems.ThermalStandard_{Brighton, 3} = 0.0\\\\\n & P__PowerSystems.ThermalStandard_{Park City, 4} + P__PowerSystems.ThermalStandard_{Alta, 4} + P__PowerSystems.ThermalStandard_{Solitude, 4} + P__PowerSystems.HydroEnergyReservoir_{HydroEnergyReservoir, 4} + P__PowerSystems.ThermalStandard_{Sundance, 4} + P__PowerSystems.ThermalStandard_{Brighton, 4} = 0.0\\\\\n & P__PowerSystems.ThermalStandard_{Park City, 5} + P__PowerSystems.ThermalStandard_{Alta, 5} + P__PowerSystems.ThermalStandard_{Solitude, 5} + P__PowerSystems.HydroEnergyReservoir_{HydroEnergyReservoir, 5} + P__PowerSystems.ThermalStandard_{Sundance, 5} + P__PowerSystems.ThermalStandard_{Brighton, 5} = 0.0\\\\\n & P__PowerSystems.ThermalStandard_{Park City, 6} + P__PowerSystems.ThermalStandard_{Alta, 6} + P__PowerSystems.ThermalStandard_{Solitude, 6} + P__PowerSystems.HydroEnergyReservoir_{HydroEnergyReservoir, 6} + P__PowerSystems.ThermalStandard_{Sundance, 6} + P__PowerSystems.ThermalStandard_{Brighton, 6} = 0.0\\\\\n & P__PowerSystems.ThermalStandard_{Park City, 7} + P__PowerSystems.ThermalStandard_{Alta, 7} + P__PowerSystems.ThermalStandard_{Solitude, 7} + P__PowerSystems.HydroEnergyReservoir_{HydroEnergyReservoir, 7} + P__PowerSystems.ThermalStandard_{Sundance, 7} + P__PowerSystems.ThermalStandard_{Brighton, 7} = 0.0\\\\\n & P__PowerSystems.ThermalStandard_{Park City, 8} + P__PowerSystems.ThermalStandard_{Alta, 8} + P__PowerSystems.ThermalStandard_{Solitude, 8} + P__PowerSystems.HydroEnergyReservoir_{HydroEnergyReservoir, 8} + P__PowerSystems.ThermalStandard_{Sundance, 8} + P__PowerSystems.ThermalStandard_{Brighton, 8} = 0.0\\\\\n & P__PowerSystems.ThermalStandard_{Park City, 9} + P__PowerSystems.ThermalStandard_{Alta, 9} + P__PowerSystems.ThermalStandard_{Solitude, 9} + P__PowerSystems.HydroEnergyReservoir_{HydroEnergyReservoir, 9} + P__PowerSystems.ThermalStandard_{Sundance, 9} + P__PowerSystems.ThermalStandard_{Brighton, 9} = 0.0\\\\\n & P__PowerSystems.ThermalStandard_{Park City, 10} + P__PowerSystems.ThermalStandard_{Alta, 10} + P__PowerSystems.ThermalStandard_{Solitude, 10} + P__PowerSystems.HydroEnergyReservoir_{HydroEnergyReservoir, 10} + P__PowerSystems.ThermalStandard_{Sundance, 10} + P__PowerSystems.ThermalStandard_{Brighton, 10} = 0.0\\\\\n & P__PowerSystems.ThermalStandard_{Park City, 11} + P__PowerSystems.ThermalStandard_{Alta, 11} + P__PowerSystems.ThermalStandard_{Solitude, 11} + P__PowerSystems.HydroEnergyReservoir_{HydroEnergyReservoir, 11} + P__PowerSystems.ThermalStandard_{Sundance, 11} + P__PowerSystems.ThermalStandard_{Brighton, 11} = 0.0\\\\\n & P__PowerSystems.ThermalStandard_{Park City, 12} + P__PowerSystems.ThermalStandard_{Alta, 12} + P__PowerSystems.ThermalStandard_{Solitude, 12} + P__PowerSystems.HydroEnergyReservoir_{HydroEnergyReservoir, 12} + P__PowerSystems.ThermalStandard_{Sundance, 12} + P__PowerSystems.ThermalStandard_{Brighton, 12} = 0.0\\\\\n & P__PowerSystems.ThermalStandard_{Park City, 13} + P__PowerSystems.ThermalStandard_{Alta, 13} + P__PowerSystems.ThermalStandard_{Solitude, 13} + P__PowerSystems.HydroEnergyReservoir_{HydroEnergyReservoir, 13} + P__PowerSystems.ThermalStandard_{Sundance, 13} + P__PowerSystems.ThermalStandard_{Brighton, 13} = 0.0\\\\\n & P__PowerSystems.ThermalStandard_{Park City, 14} + P__PowerSystems.ThermalStandard_{Alta, 14} + P__PowerSystems.ThermalStandard_{Solitude, 14} + P__PowerSystems.HydroEnergyReservoir_{HydroEnergyReservoir, 14} + P__PowerSystems.ThermalStandard_{Sundance, 14} + P__PowerSystems.ThermalStandard_{Brighton, 14} = 0.0\\\\\n & P__PowerSystems.ThermalStandard_{Park City, 15} + P__PowerSystems.ThermalStandard_{Alta, 15} + P__PowerSystems.ThermalStandard_{Solitude, 15} + P__PowerSystems.HydroEnergyReservoir_{HydroEnergyReservoir, 15} + P__PowerSystems.ThermalStandard_{Sundance, 15} + P__PowerSystems.ThermalStandard_{Brighton, 15} = 0.0\\\\\n & P__PowerSystems.ThermalStandard_{Park City, 16} + P__PowerSystems.ThermalStandard_{Alta, 16} + P__PowerSystems.ThermalStandard_{Solitude, 16} + P__PowerSystems.HydroEnergyReservoir_{HydroEnergyReservoir, 16} + P__PowerSystems.ThermalStandard_{Sundance, 16} + P__PowerSystems.ThermalStandard_{Brighton, 16} = 0.0\\\\\n & P__PowerSystems.ThermalStandard_{Park City, 17} + P__PowerSystems.ThermalStandard_{Alta, 17} + P__PowerSystems.ThermalStandard_{Solitude, 17} + P__PowerSystems.HydroEnergyReservoir_{HydroEnergyReservoir, 17} + P__PowerSystems.ThermalStandard_{Sundance, 17} + P__PowerSystems.ThermalStandard_{Brighton, 17} = 0.0\\\\\n & P__PowerSystems.ThermalStandard_{Park City, 18} + P__PowerSystems.ThermalStandard_{Alta, 18} + P__PowerSystems.ThermalStandard_{Solitude, 18} + P__PowerSystems.HydroEnergyReservoir_{HydroEnergyReservoir, 18} + P__PowerSystems.ThermalStandard_{Sundance, 18} + P__PowerSystems.ThermalStandard_{Brighton, 18} = 0.0\\\\\n & P__PowerSystems.ThermalStandard_{Park City, 19} + P__PowerSystems.ThermalStandard_{Alta, 19} + P__PowerSystems.ThermalStandard_{Solitude, 19} + P__PowerSystems.HydroEnergyReservoir_{HydroEnergyReservoir, 19} + P__PowerSystems.ThermalStandard_{Sundance, 19} + P__PowerSystems.ThermalStandard_{Brighton, 19} = 0.0\\\\\n & P__PowerSystems.ThermalStandard_{Park City, 20} + P__PowerSystems.ThermalStandard_{Alta, 20} + P__PowerSystems.ThermalStandard_{Solitude, 20} + P__PowerSystems.HydroEnergyReservoir_{HydroEnergyReservoir, 20} + P__PowerSystems.ThermalStandard_{Sundance, 20} + P__PowerSystems.ThermalStandard_{Brighton, 20} = 0.0\\\\\n & P__PowerSystems.ThermalStandard_{Park City, 21} + P__PowerSystems.ThermalStandard_{Alta, 21} + P__PowerSystems.ThermalStandard_{Solitude, 21} + P__PowerSystems.HydroEnergyReservoir_{HydroEnergyReservoir, 21} + P__PowerSystems.ThermalStandard_{Sundance, 21} + P__PowerSystems.ThermalStandard_{Brighton, 21} = 0.0\\\\\n & P__PowerSystems.ThermalStandard_{Park City, 22} + P__PowerSystems.ThermalStandard_{Alta, 22} + P__PowerSystems.ThermalStandard_{Solitude, 22} + P__PowerSystems.HydroEnergyReservoir_{HydroEnergyReservoir, 22} + P__PowerSystems.ThermalStandard_{Sundance, 22} + P__PowerSystems.ThermalStandard_{Brighton, 22} = 0.0\\\\\n & P__PowerSystems.ThermalStandard_{Park City, 23} + P__PowerSystems.ThermalStandard_{Alta, 23} + P__PowerSystems.ThermalStandard_{Solitude, 23} + P__PowerSystems.HydroEnergyReservoir_{HydroEnergyReservoir, 23} + P__PowerSystems.ThermalStandard_{Sundance, 23} + P__PowerSystems.ThermalStandard_{Brighton, 23} = 0.0\\\\\n & P__PowerSystems.ThermalStandard_{Park City, 24} + P__PowerSystems.ThermalStandard_{Alta, 24} + P__PowerSystems.ThermalStandard_{Solitude, 24} + P__PowerSystems.HydroEnergyReservoir_{HydroEnergyReservoir, 24} + P__PowerSystems.ThermalStandard_{Sundance, 24} + P__PowerSystems.ThermalStandard_{Brighton, 24} = 0.0\\\\\n & P__PowerSystems.ThermalStandard_{Solitude, 1} \\geq 0.0\\\\\n & P__PowerSystems.ThermalStandard_{Solitude, 2} \\geq 0.0\\\\\n & P__PowerSystems.ThermalStandard_{Solitude, 3} \\geq 0.0\\\\\n & P__PowerSystems.ThermalStandard_{Solitude, 4} \\geq 0.0\\\\\n & P__PowerSystems.ThermalStandard_{Solitude, 5} \\geq 0.0\\\\\n & P__PowerSystems.ThermalStandard_{Solitude, 6} \\geq 0.0\\\\\n & P__PowerSystems.ThermalStandard_{Solitude, 7} \\geq 0.0\\\\\n & P__PowerSystems.ThermalStandard_{Solitude, 8} \\geq 0.0\\\\\n & P__PowerSystems.ThermalStandard_{Solitude, 9} \\geq 0.0\\\\\n & P__PowerSystems.ThermalStandard_{Solitude, 10} \\geq 0.0\\\\\n & P__PowerSystems.ThermalStandard_{Solitude, 11} \\geq 0.0\\\\\n & P__PowerSystems.ThermalStandard_{Solitude, 12} \\geq 0.0\\\\\n & P__PowerSystems.ThermalStandard_{Solitude, 13} \\geq 0.0\\\\\n & P__PowerSystems.ThermalStandard_{Solitude, 14} \\geq 0.0\\\\\n & P__PowerSystems.ThermalStandard_{Solitude, 15} \\geq 0.0\\\\\n & P__PowerSystems.ThermalStandard_{Solitude, 16} \\geq 0.0\\\\\n & P__PowerSystems.ThermalStandard_{Solitude, 17} \\geq 0.0\\\\\n & P__PowerSystems.ThermalStandard_{Solitude, 18} \\geq 0.0\\\\\n & P__PowerSystems.ThermalStandard_{Solitude, 19} \\geq 0.0\\\\\n & P__PowerSystems.ThermalStandard_{Solitude, 20} \\geq 0.0\\\\\n & P__PowerSystems.ThermalStandard_{Solitude, 21} \\geq 0.0\\\\\n & P__PowerSystems.ThermalStandard_{Solitude, 22} \\geq 0.0\\\\\n & P__PowerSystems.ThermalStandard_{Solitude, 23} \\geq 0.0\\\\\n & P__PowerSystems.ThermalStandard_{Solitude, 24} \\geq 0.0\\\\\n & P__PowerSystems.ThermalStandard_{Park City, 1} \\geq 0.0\\\\\n & P__PowerSystems.ThermalStandard_{Park City, 2} \\geq 0.0\\\\\n & P__PowerSystems.ThermalStandard_{Park City, 3} \\geq 0.0\\\\\n & P__PowerSystems.ThermalStandard_{Park City, 4} \\geq 0.0\\\\\n & P__PowerSystems.ThermalStandard_{Park City, 5} \\geq 0.0\\\\\n & P__PowerSystems.ThermalStandard_{Park City, 6} \\geq 0.0\\\\\n & P__PowerSystems.ThermalStandard_{Park City, 7} \\geq 0.0\\\\\n & P__PowerSystems.ThermalStandard_{Park City, 8} \\geq 0.0\\\\\n & P__PowerSystems.ThermalStandard_{Park City, 9} \\geq 0.0\\\\\n & P__PowerSystems.ThermalStandard_{Park City, 10} \\geq 0.0\\\\\n & P__PowerSystems.ThermalStandard_{Park City, 11} \\geq 0.0\\\\\n & P__PowerSystems.ThermalStandard_{Park City, 12} \\geq 0.0\\\\\n & P__PowerSystems.ThermalStandard_{Park City, 13} \\geq 0.0\\\\\n & P__PowerSystems.ThermalStandard_{Park City, 14} \\geq 0.0\\\\\n & P__PowerSystems.ThermalStandard_{Park City, 15} \\geq 0.0\\\\\n & P__PowerSystems.ThermalStandard_{Park City, 16} \\geq 0.0\\\\\n & P__PowerSystems.ThermalStandard_{Park City, 17} \\geq 0.0\\\\\n & P__PowerSystems.ThermalStandard_{Park City, 18} \\geq 0.0\\\\\n & P__PowerSystems.ThermalStandard_{Park City, 19} \\geq 0.0\\\\\n & P__PowerSystems.ThermalStandard_{Park City, 20} \\geq 0.0\\\\\n & P__PowerSystems.ThermalStandard_{Park City, 21} \\geq 0.0\\\\\n & P__PowerSystems.ThermalStandard_{Park City, 22} \\geq 0.0\\\\\n & P__PowerSystems.ThermalStandard_{Park City, 23} \\geq 0.0\\\\\n & P__PowerSystems.ThermalStandard_{Park City, 24} \\geq 0.0\\\\\n & P__PowerSystems.ThermalStandard_{Alta, 1} \\geq 0.0\\\\\n & P__PowerSystems.ThermalStandard_{Alta, 2} \\geq 0.0\\\\\n & P__PowerSystems.ThermalStandard_{Alta, 3} \\geq 0.0\\\\\n & P__PowerSystems.ThermalStandard_{Alta, 4} \\geq 0.0\\\\\n & P__PowerSystems.ThermalStandard_{Alta, 5} \\geq 0.0\\\\\n & P__PowerSystems.ThermalStandard_{Alta, 6} \\geq 0.0\\\\\n & P__PowerSystems.ThermalStandard_{Alta, 7} \\geq 0.0\\\\\n & P__PowerSystems.ThermalStandard_{Alta, 8} \\geq 0.0\\\\\n & P__PowerSystems.ThermalStandard_{Alta, 9} \\geq 0.0\\\\\n & P__PowerSystems.ThermalStandard_{Alta, 10} \\geq 0.0\\\\\n & P__PowerSystems.ThermalStandard_{Alta, 11} \\geq 0.0\\\\\n & P__PowerSystems.ThermalStandard_{Alta, 12} \\geq 0.0\\\\\n & P__PowerSystems.ThermalStandard_{Alta, 13} \\geq 0.0\\\\\n & P__PowerSystems.ThermalStandard_{Alta, 14} \\geq 0.0\\\\\n & P__PowerSystems.ThermalStandard_{Alta, 15} \\geq 0.0\\\\\n & P__PowerSystems.ThermalStandard_{Alta, 16} \\geq 0.0\\\\\n & P__PowerSystems.ThermalStandard_{Alta, 17} \\geq 0.0\\\\\n & P__PowerSystems.ThermalStandard_{Alta, 18} \\geq 0.0\\\\\n & P__PowerSystems.ThermalStandard_{Alta, 19} \\geq 0.0\\\\\n & P__PowerSystems.ThermalStandard_{Alta, 20} \\geq 0.0\\\\\n & P__PowerSystems.ThermalStandard_{Alta, 21} \\geq 0.0\\\\\n & P__PowerSystems.ThermalStandard_{Alta, 22} \\geq 0.0\\\\\n & P__PowerSystems.ThermalStandard_{Alta, 23} \\geq 0.0\\\\\n & P__PowerSystems.ThermalStandard_{Alta, 24} \\geq 0.0\\\\\n & P__PowerSystems.ThermalStandard_{Brighton, 1} \\geq 0.0\\\\\n & P__PowerSystems.ThermalStandard_{Brighton, 2} \\geq 0.0\\\\\n & P__PowerSystems.ThermalStandard_{Brighton, 3} \\geq 0.0\\\\\n & P__PowerSystems.ThermalStandard_{Brighton, 4} \\geq 0.0\\\\\n & P__PowerSystems.ThermalStandard_{Brighton, 5} \\geq 0.0\\\\\n & P__PowerSystems.ThermalStandard_{Brighton, 6} \\geq 0.0\\\\\n & P__PowerSystems.ThermalStandard_{Brighton, 7} \\geq 0.0\\\\\n & P__PowerSystems.ThermalStandard_{Brighton, 8} \\geq 0.0\\\\\n & P__PowerSystems.ThermalStandard_{Brighton, 9} \\geq 0.0\\\\\n & P__PowerSystems.ThermalStandard_{Brighton, 10} \\geq 0.0\\\\\n & P__PowerSystems.ThermalStandard_{Brighton, 11} \\geq 0.0\\\\\n & P__PowerSystems.ThermalStandard_{Brighton, 12} \\geq 0.0\\\\\n & P__PowerSystems.ThermalStandard_{Brighton, 13} \\geq 0.0\\\\\n & P__PowerSystems.ThermalStandard_{Brighton, 14} \\geq 0.0\\\\\n & P__PowerSystems.ThermalStandard_{Brighton, 15} \\geq 0.0\\\\\n & P__PowerSystems.ThermalStandard_{Brighton, 16} \\geq 0.0\\\\\n & P__PowerSystems.ThermalStandard_{Brighton, 17} \\geq 0.0\\\\\n & P__PowerSystems.ThermalStandard_{Brighton, 18} \\geq 0.0\\\\\n & P__PowerSystems.ThermalStandard_{Brighton, 19} \\geq 0.0\\\\\n & P__PowerSystems.ThermalStandard_{Brighton, 20} \\geq 0.0\\\\\n & P__PowerSystems.ThermalStandard_{Brighton, 21} \\geq 0.0\\\\\n & P__PowerSystems.ThermalStandard_{Brighton, 22} \\geq 0.0\\\\\n & P__PowerSystems.ThermalStandard_{Brighton, 23} \\geq 0.0\\\\\n & P__PowerSystems.ThermalStandard_{Brighton, 24} \\geq 0.0\\\\\n & P__PowerSystems.ThermalStandard_{Sundance, 1} \\geq 0.0\\\\\n & P__PowerSystems.ThermalStandard_{Sundance, 2} \\geq 0.0\\\\\n & P__PowerSystems.ThermalStandard_{Sundance, 3} \\geq 0.0\\\\\n & P__PowerSystems.ThermalStandard_{Sundance, 4} \\geq 0.0\\\\\n & P__PowerSystems.ThermalStandard_{Sundance, 5} \\geq 0.0\\\\\n & P__PowerSystems.ThermalStandard_{Sundance, 6} \\geq 0.0\\\\\n & P__PowerSystems.ThermalStandard_{Sundance, 7} \\geq 0.0\\\\\n & P__PowerSystems.ThermalStandard_{Sundance, 8} \\geq 0.0\\\\\n & P__PowerSystems.ThermalStandard_{Sundance, 9} \\geq 0.0\\\\\n & P__PowerSystems.ThermalStandard_{Sundance, 10} \\geq 0.0\\\\\n & P__PowerSystems.ThermalStandard_{Sundance, 11} \\geq 0.0\\\\\n & P__PowerSystems.ThermalStandard_{Sundance, 12} \\geq 0.0\\\\\n & P__PowerSystems.ThermalStandard_{Sundance, 13} \\geq 0.0\\\\\n & P__PowerSystems.ThermalStandard_{Sundance, 14} \\geq 0.0\\\\\n & P__PowerSystems.ThermalStandard_{Sundance, 15} \\geq 0.0\\\\\n & P__PowerSystems.ThermalStandard_{Sundance, 16} \\geq 0.0\\\\\n & P__PowerSystems.ThermalStandard_{Sundance, 17} \\geq 0.0\\\\\n & P__PowerSystems.ThermalStandard_{Sundance, 18} \\geq 0.0\\\\\n & P__PowerSystems.ThermalStandard_{Sundance, 19} \\geq 0.0\\\\\n & P__PowerSystems.ThermalStandard_{Sundance, 20} \\geq 0.0\\\\\n & P__PowerSystems.ThermalStandard_{Sundance, 21} \\geq 0.0\\\\\n & P__PowerSystems.ThermalStandard_{Sundance, 22} \\geq 0.0\\\\\n & P__PowerSystems.ThermalStandard_{Sundance, 23} \\geq 0.0\\\\\n & P__PowerSystems.ThermalStandard_{Sundance, 24} \\geq 0.0\\\\\n & P__PowerSystems.HydroEnergyReservoir_{HydroEnergyReservoir, 1} \\geq 3.0\\\\\n & P__PowerSystems.HydroEnergyReservoir_{HydroEnergyReservoir, 2} \\geq 3.0\\\\\n & P__PowerSystems.HydroEnergyReservoir_{HydroEnergyReservoir, 3} \\geq 3.0\\\\\n & P__PowerSystems.HydroEnergyReservoir_{HydroEnergyReservoir, 4} \\geq 3.0\\\\\n & P__PowerSystems.HydroEnergyReservoir_{HydroEnergyReservoir, 5} \\geq 3.0\\\\\n & P__PowerSystems.HydroEnergyReservoir_{HydroEnergyReservoir, 6} \\geq 3.0\\\\\n & P__PowerSystems.HydroEnergyReservoir_{HydroEnergyReservoir, 7} \\geq 3.0\\\\\n & P__PowerSystems.HydroEnergyReservoir_{HydroEnergyReservoir, 8} \\geq 3.0\\\\\n & P__PowerSystems.HydroEnergyReservoir_{HydroEnergyReservoir, 9} \\geq 3.0\\\\\n & P__PowerSystems.HydroEnergyReservoir_{HydroEnergyReservoir, 10} \\geq 3.0\\\\\n & P__PowerSystems.HydroEnergyReservoir_{HydroEnergyReservoir, 11} \\geq 3.0\\\\\n & P__PowerSystems.HydroEnergyReservoir_{HydroEnergyReservoir, 12} \\geq 3.0\\\\\n & P__PowerSystems.HydroEnergyReservoir_{HydroEnergyReservoir, 13} \\geq 3.0\\\\\n & P__PowerSystems.HydroEnergyReservoir_{HydroEnergyReservoir, 14} \\geq 3.0\\\\\n & P__PowerSystems.HydroEnergyReservoir_{HydroEnergyReservoir, 15} \\geq 3.0\\\\\n & P__PowerSystems.HydroEnergyReservoir_{HydroEnergyReservoir, 16} \\geq 3.0\\\\\n & P__PowerSystems.HydroEnergyReservoir_{HydroEnergyReservoir, 17} \\geq 3.0\\\\\n & P__PowerSystems.HydroEnergyReservoir_{HydroEnergyReservoir, 18} \\geq 3.0\\\\\n & P__PowerSystems.HydroEnergyReservoir_{HydroEnergyReservoir, 19} \\geq 3.0\\\\\n & P__PowerSystems.HydroEnergyReservoir_{HydroEnergyReservoir, 20} \\geq 3.0\\\\\n & P__PowerSystems.HydroEnergyReservoir_{HydroEnergyReservoir, 21} \\geq 3.0\\\\\n & P__PowerSystems.HydroEnergyReservoir_{HydroEnergyReservoir, 22} \\geq 3.0\\\\\n & P__PowerSystems.HydroEnergyReservoir_{HydroEnergyReservoir, 23} \\geq 3.0\\\\\n & P__PowerSystems.HydroEnergyReservoir_{HydroEnergyReservoir, 24} \\geq 3.0\\\\\n & P__PowerSystems.ThermalStandard_{Solitude, 1} \\leq 5.2\\\\\n & P__PowerSystems.ThermalStandard_{Solitude, 2} \\leq 5.2\\\\\n & P__PowerSystems.ThermalStandard_{Solitude, 3} \\leq 5.2\\\\\n & P__PowerSystems.ThermalStandard_{Solitude, 4} \\leq 5.2\\\\\n & P__PowerSystems.ThermalStandard_{Solitude, 5} \\leq 5.2\\\\\n & P__PowerSystems.ThermalStandard_{Solitude, 6} \\leq 5.2\\\\\n & P__PowerSystems.ThermalStandard_{Solitude, 7} \\leq 5.2\\\\\n & P__PowerSystems.ThermalStandard_{Solitude, 8} \\leq 5.2\\\\\n & P__PowerSystems.ThermalStandard_{Solitude, 9} \\leq 5.2\\\\\n & P__PowerSystems.ThermalStandard_{Solitude, 10} \\leq 5.2\\\\\n & P__PowerSystems.ThermalStandard_{Solitude, 11} \\leq 5.2\\\\\n & P__PowerSystems.ThermalStandard_{Solitude, 12} \\leq 5.2\\\\\n & P__PowerSystems.ThermalStandard_{Solitude, 13} \\leq 5.2\\\\\n & P__PowerSystems.ThermalStandard_{Solitude, 14} \\leq 5.2\\\\\n & P__PowerSystems.ThermalStandard_{Solitude, 15} \\leq 5.2\\\\\n & P__PowerSystems.ThermalStandard_{Solitude, 16} \\leq 5.2\\\\\n & P__PowerSystems.ThermalStandard_{Solitude, 17} \\leq 5.2\\\\\n & P__PowerSystems.ThermalStandard_{Solitude, 18} \\leq 5.2\\\\\n & P__PowerSystems.ThermalStandard_{Solitude, 19} \\leq 5.2\\\\\n & P__PowerSystems.ThermalStandard_{Solitude, 20} \\leq 5.2\\\\\n & P__PowerSystems.ThermalStandard_{Solitude, 21} \\leq 5.2\\\\\n & P__PowerSystems.ThermalStandard_{Solitude, 22} \\leq 5.2\\\\\n & P__PowerSystems.ThermalStandard_{Solitude, 23} \\leq 5.2\\\\\n & P__PowerSystems.ThermalStandard_{Solitude, 24} \\leq 5.2\\\\\n & P__PowerSystems.ThermalStandard_{Park City, 1} \\leq 1.7\\\\\n & P__PowerSystems.ThermalStandard_{Park City, 2} \\leq 1.7\\\\\n & P__PowerSystems.ThermalStandard_{Park City, 3} \\leq 1.7\\\\\n & P__PowerSystems.ThermalStandard_{Park City, 4} \\leq 1.7\\\\\n & P__PowerSystems.ThermalStandard_{Park City, 5} \\leq 1.7\\\\\n & P__PowerSystems.ThermalStandard_{Park City, 6} \\leq 1.7\\\\\n & P__PowerSystems.ThermalStandard_{Park City, 7} \\leq 1.7\\\\\n & P__PowerSystems.ThermalStandard_{Park City, 8} \\leq 1.7\\\\\n & P__PowerSystems.ThermalStandard_{Park City, 9} \\leq 1.7\\\\\n & P__PowerSystems.ThermalStandard_{Park City, 10} \\leq 1.7\\\\\n & P__PowerSystems.ThermalStandard_{Park City, 11} \\leq 1.7\\\\\n & P__PowerSystems.ThermalStandard_{Park City, 12} \\leq 1.7\\\\\n & P__PowerSystems.ThermalStandard_{Park City, 13} \\leq 1.7\\\\\n & P__PowerSystems.ThermalStandard_{Park City, 14} \\leq 1.7\\\\\n & P__PowerSystems.ThermalStandard_{Park City, 15} \\leq 1.7\\\\\n & P__PowerSystems.ThermalStandard_{Park City, 16} \\leq 1.7\\\\\n & P__PowerSystems.ThermalStandard_{Park City, 17} \\leq 1.7\\\\\n & P__PowerSystems.ThermalStandard_{Park City, 18} \\leq 1.7\\\\\n & P__PowerSystems.ThermalStandard_{Park City, 19} \\leq 1.7\\\\\n & P__PowerSystems.ThermalStandard_{Park City, 20} \\leq 1.7\\\\\n & P__PowerSystems.ThermalStandard_{Park City, 21} \\leq 1.7\\\\\n & P__PowerSystems.ThermalStandard_{Park City, 22} \\leq 1.7\\\\\n & P__PowerSystems.ThermalStandard_{Park City, 23} \\leq 1.7\\\\\n & P__PowerSystems.ThermalStandard_{Park City, 24} \\leq 1.7\\\\\n & P__PowerSystems.ThermalStandard_{Alta, 1} \\leq 0.4\\\\\n & P__PowerSystems.ThermalStandard_{Alta, 2} \\leq 0.4\\\\\n & P__PowerSystems.ThermalStandard_{Alta, 3} \\leq 0.4\\\\\n & P__PowerSystems.ThermalStandard_{Alta, 4} \\leq 0.4\\\\\n & P__PowerSystems.ThermalStandard_{Alta, 5} \\leq 0.4\\\\\n & P__PowerSystems.ThermalStandard_{Alta, 6} \\leq 0.4\\\\\n & P__PowerSystems.ThermalStandard_{Alta, 7} \\leq 0.4\\\\\n & P__PowerSystems.ThermalStandard_{Alta, 8} \\leq 0.4\\\\\n & P__PowerSystems.ThermalStandard_{Alta, 9} \\leq 0.4\\\\\n & P__PowerSystems.ThermalStandard_{Alta, 10} \\leq 0.4\\\\\n & P__PowerSystems.ThermalStandard_{Alta, 11} \\leq 0.4\\\\\n & P__PowerSystems.ThermalStandard_{Alta, 12} \\leq 0.4\\\\\n & P__PowerSystems.ThermalStandard_{Alta, 13} \\leq 0.4\\\\\n & P__PowerSystems.ThermalStandard_{Alta, 14} \\leq 0.4\\\\\n & P__PowerSystems.ThermalStandard_{Alta, 15} \\leq 0.4\\\\\n & P__PowerSystems.ThermalStandard_{Alta, 16} \\leq 0.4\\\\\n & P__PowerSystems.ThermalStandard_{Alta, 17} \\leq 0.4\\\\\n & P__PowerSystems.ThermalStandard_{Alta, 18} \\leq 0.4\\\\\n & P__PowerSystems.ThermalStandard_{Alta, 19} \\leq 0.4\\\\\n & P__PowerSystems.ThermalStandard_{Alta, 20} \\leq 0.4\\\\\n & P__PowerSystems.ThermalStandard_{Alta, 21} \\leq 0.4\\\\\n & P__PowerSystems.ThermalStandard_{Alta, 22} \\leq 0.4\\\\\n & P__PowerSystems.ThermalStandard_{Alta, 23} \\leq 0.4\\\\\n & P__PowerSystems.ThermalStandard_{Alta, 24} \\leq 0.4\\\\\n & P__PowerSystems.ThermalStandard_{Brighton, 1} \\leq 6.0\\\\\n & P__PowerSystems.ThermalStandard_{Brighton, 2} \\leq 6.0\\\\\n & P__PowerSystems.ThermalStandard_{Brighton, 3} \\leq 6.0\\\\\n & P__PowerSystems.ThermalStandard_{Brighton, 4} \\leq 6.0\\\\\n & P__PowerSystems.ThermalStandard_{Brighton, 5} \\leq 6.0\\\\\n & P__PowerSystems.ThermalStandard_{Brighton, 6} \\leq 6.0\\\\\n & P__PowerSystems.ThermalStandard_{Brighton, 7} \\leq 6.0\\\\\n & P__PowerSystems.ThermalStandard_{Brighton, 8} \\leq 6.0\\\\\n & P__PowerSystems.ThermalStandard_{Brighton, 9} \\leq 6.0\\\\\n & P__PowerSystems.ThermalStandard_{Brighton, 10} \\leq 6.0\\\\\n & P__PowerSystems.ThermalStandard_{Brighton, 11} \\leq 6.0\\\\\n & P__PowerSystems.ThermalStandard_{Brighton, 12} \\leq 6.0\\\\\n & P__PowerSystems.ThermalStandard_{Brighton, 13} \\leq 6.0\\\\\n & P__PowerSystems.ThermalStandard_{Brighton, 14} \\leq 6.0\\\\\n & P__PowerSystems.ThermalStandard_{Brighton, 15} \\leq 6.0\\\\\n & P__PowerSystems.ThermalStandard_{Brighton, 16} \\leq 6.0\\\\\n & P__PowerSystems.ThermalStandard_{Brighton, 17} \\leq 6.0\\\\\n & P__PowerSystems.ThermalStandard_{Brighton, 18} \\leq 6.0\\\\\n & P__PowerSystems.ThermalStandard_{Brighton, 19} \\leq 6.0\\\\\n & P__PowerSystems.ThermalStandard_{Brighton, 20} \\leq 6.0\\\\\n & P__PowerSystems.ThermalStandard_{Brighton, 21} \\leq 6.0\\\\\n & P__PowerSystems.ThermalStandard_{Brighton, 22} \\leq 6.0\\\\\n & P__PowerSystems.ThermalStandard_{Brighton, 23} \\leq 6.0\\\\\n & P__PowerSystems.ThermalStandard_{Brighton, 24} \\leq 6.0\\\\\n & P__PowerSystems.ThermalStandard_{Sundance, 1} \\leq 2.0\\\\\n & P__PowerSystems.ThermalStandard_{Sundance, 2} \\leq 2.0\\\\\n & P__PowerSystems.ThermalStandard_{Sundance, 3} \\leq 2.0\\\\\n & P__PowerSystems.ThermalStandard_{Sundance, 4} \\leq 2.0\\\\\n & P__PowerSystems.ThermalStandard_{Sundance, 5} \\leq 2.0\\\\\n & P__PowerSystems.ThermalStandard_{Sundance, 6} \\leq 2.0\\\\\n & P__PowerSystems.ThermalStandard_{Sundance, 7} \\leq 2.0\\\\\n & P__PowerSystems.ThermalStandard_{Sundance, 8} \\leq 2.0\\\\\n & P__PowerSystems.ThermalStandard_{Sundance, 9} \\leq 2.0\\\\\n & P__PowerSystems.ThermalStandard_{Sundance, 10} \\leq 2.0\\\\\n & P__PowerSystems.ThermalStandard_{Sundance, 11} \\leq 2.0\\\\\n & P__PowerSystems.ThermalStandard_{Sundance, 12} \\leq 2.0\\\\\n & P__PowerSystems.ThermalStandard_{Sundance, 13} \\leq 2.0\\\\\n & P__PowerSystems.ThermalStandard_{Sundance, 14} \\leq 2.0\\\\\n & P__PowerSystems.ThermalStandard_{Sundance, 15} \\leq 2.0\\\\\n & P__PowerSystems.ThermalStandard_{Sundance, 16} \\leq 2.0\\\\\n & P__PowerSystems.ThermalStandard_{Sundance, 17} \\leq 2.0\\\\\n & P__PowerSystems.ThermalStandard_{Sundance, 18} \\leq 2.0\\\\\n & P__PowerSystems.ThermalStandard_{Sundance, 19} \\leq 2.0\\\\\n & P__PowerSystems.ThermalStandard_{Sundance, 20} \\leq 2.0\\\\\n & P__PowerSystems.ThermalStandard_{Sundance, 21} \\leq 2.0\\\\\n & P__PowerSystems.ThermalStandard_{Sundance, 22} \\leq 2.0\\\\\n & P__PowerSystems.ThermalStandard_{Sundance, 23} \\leq 2.0\\\\\n & P__PowerSystems.ThermalStandard_{Sundance, 24} \\leq 2.0\\\\\n & P__PowerSystems.HydroEnergyReservoir_{HydroEnergyReservoir, 1} \\leq 18.1\\\\\n & P__PowerSystems.HydroEnergyReservoir_{HydroEnergyReservoir, 2} \\leq 18.1\\\\\n & P__PowerSystems.HydroEnergyReservoir_{HydroEnergyReservoir, 3} \\leq 18.1\\\\\n & P__PowerSystems.HydroEnergyReservoir_{HydroEnergyReservoir, 4} \\leq 18.1\\\\\n & P__PowerSystems.HydroEnergyReservoir_{HydroEnergyReservoir, 5} \\leq 18.1\\\\\n & P__PowerSystems.HydroEnergyReservoir_{HydroEnergyReservoir, 6} \\leq 18.1\\\\\n & P__PowerSystems.HydroEnergyReservoir_{HydroEnergyReservoir, 7} \\leq 18.1\\\\\n & P__PowerSystems.HydroEnergyReservoir_{HydroEnergyReservoir, 8} \\leq 18.1\\\\\n & P__PowerSystems.HydroEnergyReservoir_{HydroEnergyReservoir, 9} \\leq 18.1\\\\\n & P__PowerSystems.HydroEnergyReservoir_{HydroEnergyReservoir, 10} \\leq 18.1\\\\\n & P__PowerSystems.HydroEnergyReservoir_{HydroEnergyReservoir, 11} \\leq 18.1\\\\\n & P__PowerSystems.HydroEnergyReservoir_{HydroEnergyReservoir, 12} \\leq 18.1\\\\\n & P__PowerSystems.HydroEnergyReservoir_{HydroEnergyReservoir, 13} \\leq 18.1\\\\\n & P__PowerSystems.HydroEnergyReservoir_{HydroEnergyReservoir, 14} \\leq 18.1\\\\\n & P__PowerSystems.HydroEnergyReservoir_{HydroEnergyReservoir, 15} \\leq 18.1\\\\\n & P__PowerSystems.HydroEnergyReservoir_{HydroEnergyReservoir, 16} \\leq 18.1\\\\\n & P__PowerSystems.HydroEnergyReservoir_{HydroEnergyReservoir, 17} \\leq 18.1\\\\\n & P__PowerSystems.HydroEnergyReservoir_{HydroEnergyReservoir, 18} \\leq 18.1\\\\\n & P__PowerSystems.HydroEnergyReservoir_{HydroEnergyReservoir, 19} \\leq 18.1\\\\\n & P__PowerSystems.HydroEnergyReservoir_{HydroEnergyReservoir, 20} \\leq 18.1\\\\\n & P__PowerSystems.HydroEnergyReservoir_{HydroEnergyReservoir, 21} \\leq 18.1\\\\\n & P__PowerSystems.HydroEnergyReservoir_{HydroEnergyReservoir, 22} \\leq 18.1\\\\\n & P__PowerSystems.HydroEnergyReservoir_{HydroEnergyReservoir, 23} \\leq 18.1\\\\\n & P__PowerSystems.HydroEnergyReservoir_{HydroEnergyReservoir, 24} \\leq 18.1\\\\\n & 0.041666666666666664 P__PowerSystems.HydroEnergyReservoir_{HydroEnergyReservoir, 1} + 0.041666666666666664 P__PowerSystems.HydroEnergyReservoir_{HydroEnergyReservoir, 2} + 0.041666666666666664 P__PowerSystems.HydroEnergyReservoir_{HydroEnergyReservoir, 3} + 0.041666666666666664 P__PowerSystems.HydroEnergyReservoir_{HydroEnergyReservoir, 4} + 0.041666666666666664 P__PowerSystems.HydroEnergyReservoir_{HydroEnergyReservoir, 5} + 0.041666666666666664 P__PowerSystems.HydroEnergyReservoir_{HydroEnergyReservoir, 6} + 0.041666666666666664 P__PowerSystems.HydroEnergyReservoir_{HydroEnergyReservoir, 7} + 0.041666666666666664 P__PowerSystems.HydroEnergyReservoir_{HydroEnergyReservoir, 8} + 0.041666666666666664 P__PowerSystems.HydroEnergyReservoir_{HydroEnergyReservoir, 9} + 0.041666666666666664 P__PowerSystems.HydroEnergyReservoir_{HydroEnergyReservoir, 10} + 0.041666666666666664 P__PowerSystems.HydroEnergyReservoir_{HydroEnergyReservoir, 11} + 0.041666666666666664 P__PowerSystems.HydroEnergyReservoir_{HydroEnergyReservoir, 12} + 0.041666666666666664 P__PowerSystems.HydroEnergyReservoir_{HydroEnergyReservoir, 13} + 0.041666666666666664 P__PowerSystems.HydroEnergyReservoir_{HydroEnergyReservoir, 14} + 0.041666666666666664 P__PowerSystems.HydroEnergyReservoir_{HydroEnergyReservoir, 15} + 0.041666666666666664 P__PowerSystems.HydroEnergyReservoir_{HydroEnergyReservoir, 16} + 0.041666666666666664 P__PowerSystems.HydroEnergyReservoir_{HydroEnergyReservoir, 17} + 0.041666666666666664 P__PowerSystems.HydroEnergyReservoir_{HydroEnergyReservoir, 18} + 0.041666666666666664 P__PowerSystems.HydroEnergyReservoir_{HydroEnergyReservoir, 19} + 0.041666666666666664 P__PowerSystems.HydroEnergyReservoir_{HydroEnergyReservoir, 20} + 0.041666666666666664 P__PowerSystems.HydroEnergyReservoir_{HydroEnergyReservoir, 21} + 0.041666666666666664 P__PowerSystems.HydroEnergyReservoir_{HydroEnergyReservoir, 22} + 0.041666666666666664 P__PowerSystems.HydroEnergyReservoir_{HydroEnergyReservoir, 23} + 0.041666666666666664 P__PowerSystems.HydroEnergyReservoir_{HydroEnergyReservoir, 24} \\leq 0.0\\\\\n & P__PowerSystems.ThermalStandard_{Solitude, 1} \\geq 0.0\\\\\n & P__PowerSystems.ThermalStandard_{Park City, 1} \\geq 0.0\\\\\n & P__PowerSystems.ThermalStandard_{Alta, 1} \\geq 0.0\\\\\n & P__PowerSystems.ThermalStandard_{Brighton, 1} \\geq 0.0\\\\\n & P__PowerSystems.ThermalStandard_{Sundance, 1} \\geq 0.0\\\\\n & P__PowerSystems.ThermalStandard_{Solitude, 2} \\geq 0.0\\\\\n & P__PowerSystems.ThermalStandard_{Park City, 2} \\geq 0.0\\\\\n & P__PowerSystems.ThermalStandard_{Alta, 2} \\geq 0.0\\\\\n & P__PowerSystems.ThermalStandard_{Brighton, 2} \\geq 0.0\\\\\n & P__PowerSystems.ThermalStandard_{Sundance, 2} \\geq 0.0\\\\\n & P__PowerSystems.ThermalStandard_{Solitude, 3} \\geq 0.0\\\\\n & P__PowerSystems.ThermalStandard_{Park City, 3} \\geq 0.0\\\\\n & P__PowerSystems.ThermalStandard_{Alta, 3} \\geq 0.0\\\\\n & P__PowerSystems.ThermalStandard_{Brighton, 3} \\geq 0.0\\\\\n & P__PowerSystems.ThermalStandard_{Sundance, 3} \\geq 0.0\\\\\n & P__PowerSystems.ThermalStandard_{Solitude, 4} \\geq 0.0\\\\\n & P__PowerSystems.ThermalStandard_{Park City, 4} \\geq 0.0\\\\\n & P__PowerSystems.ThermalStandard_{Alta, 4} \\geq 0.0\\\\\n & P__PowerSystems.ThermalStandard_{Brighton, 4} \\geq 0.0\\\\\n & P__PowerSystems.ThermalStandard_{Sundance, 4} \\geq 0.0\\\\\n & P__PowerSystems.ThermalStandard_{Solitude, 5} \\geq 0.0\\\\\n & P__PowerSystems.ThermalStandard_{Park City, 5} \\geq 0.0\\\\\n & P__PowerSystems.ThermalStandard_{Alta, 5} \\geq 0.0\\\\\n & P__PowerSystems.ThermalStandard_{Brighton, 5} \\geq 0.0\\\\\n & P__PowerSystems.ThermalStandard_{Sundance, 5} \\geq 0.0\\\\\n & P__PowerSystems.ThermalStandard_{Solitude, 6} \\geq 0.0\\\\\n & P__PowerSystems.ThermalStandard_{Park City, 6} \\geq 0.0\\\\\n & P__PowerSystems.ThermalStandard_{Alta, 6} \\geq 0.0\\\\\n & P__PowerSystems.ThermalStandard_{Brighton, 6} \\geq 0.0\\\\\n & P__PowerSystems.ThermalStandard_{Sundance, 6} \\geq 0.0\\\\\n & P__PowerSystems.ThermalStandard_{Solitude, 7} \\geq 0.0\\\\\n & P__PowerSystems.ThermalStandard_{Park City, 7} \\geq 0.0\\\\\n & P__PowerSystems.ThermalStandard_{Alta, 7} \\geq 0.0\\\\\n & P__PowerSystems.ThermalStandard_{Brighton, 7} \\geq 0.0\\\\\n & P__PowerSystems.ThermalStandard_{Sundance, 7} \\geq 0.0\\\\\n & P__PowerSystems.ThermalStandard_{Solitude, 8} \\geq 0.0\\\\\n & P__PowerSystems.ThermalStandard_{Park City, 8} \\geq 0.0\\\\\n & P__PowerSystems.ThermalStandard_{Alta, 8} \\geq 0.0\\\\\n & P__PowerSystems.ThermalStandard_{Brighton, 8} \\geq 0.0\\\\\n & P__PowerSystems.ThermalStandard_{Sundance, 8} \\geq 0.0\\\\\n & P__PowerSystems.ThermalStandard_{Solitude, 9} \\geq 0.0\\\\\n & P__PowerSystems.ThermalStandard_{Park City, 9} \\geq 0.0\\\\\n & P__PowerSystems.ThermalStandard_{Alta, 9} \\geq 0.0\\\\\n & P__PowerSystems.ThermalStandard_{Brighton, 9} \\geq 0.0\\\\\n & P__PowerSystems.ThermalStandard_{Sundance, 9} \\geq 0.0\\\\\n & P__PowerSystems.ThermalStandard_{Solitude, 10} \\geq 0.0\\\\\n & P__PowerSystems.ThermalStandard_{Park City, 10} \\geq 0.0\\\\\n & P__PowerSystems.ThermalStandard_{Alta, 10} \\geq 0.0\\\\\n & P__PowerSystems.ThermalStandard_{Brighton, 10} \\geq 0.0\\\\\n & P__PowerSystems.ThermalStandard_{Sundance, 10} \\geq 0.0\\\\\n & P__PowerSystems.ThermalStandard_{Solitude, 11} \\geq 0.0\\\\\n & P__PowerSystems.ThermalStandard_{Park City, 11} \\geq 0.0\\\\\n & P__PowerSystems.ThermalStandard_{Alta, 11} \\geq 0.0\\\\\n & P__PowerSystems.ThermalStandard_{Brighton, 11} \\geq 0.0\\\\\n & P__PowerSystems.ThermalStandard_{Sundance, 11} \\geq 0.0\\\\\n & P__PowerSystems.ThermalStandard_{Solitude, 12} \\geq 0.0\\\\\n & P__PowerSystems.ThermalStandard_{Park City, 12} \\geq 0.0\\\\\n & P__PowerSystems.ThermalStandard_{Alta, 12} \\geq 0.0\\\\\n & P__PowerSystems.ThermalStandard_{Brighton, 12} \\geq 0.0\\\\\n & P__PowerSystems.ThermalStandard_{Sundance, 12} \\geq 0.0\\\\\n & P__PowerSystems.ThermalStandard_{Solitude, 13} \\geq 0.0\\\\\n & P__PowerSystems.ThermalStandard_{Park City, 13} \\geq 0.0\\\\\n & P__PowerSystems.ThermalStandard_{Alta, 13} \\geq 0.0\\\\\n & P__PowerSystems.ThermalStandard_{Brighton, 13} \\geq 0.0\\\\\n & P__PowerSystems.ThermalStandard_{Sundance, 13} \\geq 0.0\\\\\n & P__PowerSystems.ThermalStandard_{Solitude, 14} \\geq 0.0\\\\\n & P__PowerSystems.ThermalStandard_{Park City, 14} \\geq 0.0\\\\\n & P__PowerSystems.ThermalStandard_{Alta, 14} \\geq 0.0\\\\\n & P__PowerSystems.ThermalStandard_{Brighton, 14} \\geq 0.0\\\\\n & P__PowerSystems.ThermalStandard_{Sundance, 14} \\geq 0.0\\\\\n & P__PowerSystems.ThermalStandard_{Solitude, 15} \\geq 0.0\\\\\n & P__PowerSystems.ThermalStandard_{Park City, 15} \\geq 0.0\\\\\n & P__PowerSystems.ThermalStandard_{Alta, 15} \\geq 0.0\\\\\n & P__PowerSystems.ThermalStandard_{Brighton, 15} \\geq 0.0\\\\\n & P__PowerSystems.ThermalStandard_{Sundance, 15} \\geq 0.0\\\\\n & P__PowerSystems.ThermalStandard_{Solitude, 16} \\geq 0.0\\\\\n & P__PowerSystems.ThermalStandard_{Park City, 16} \\geq 0.0\\\\\n & P__PowerSystems.ThermalStandard_{Alta, 16} \\geq 0.0\\\\\n & P__PowerSystems.ThermalStandard_{Brighton, 16} \\geq 0.0\\\\\n & P__PowerSystems.ThermalStandard_{Sundance, 16} \\geq 0.0\\\\\n & P__PowerSystems.ThermalStandard_{Solitude, 17} \\geq 0.0\\\\\n & P__PowerSystems.ThermalStandard_{Park City, 17} \\geq 0.0\\\\\n & P__PowerSystems.ThermalStandard_{Alta, 17} \\geq 0.0\\\\\n & P__PowerSystems.ThermalStandard_{Brighton, 17} \\geq 0.0\\\\\n & P__PowerSystems.ThermalStandard_{Sundance, 17} \\geq 0.0\\\\\n & P__PowerSystems.ThermalStandard_{Solitude, 18} \\geq 0.0\\\\\n & P__PowerSystems.ThermalStandard_{Park City, 18} \\geq 0.0\\\\\n & P__PowerSystems.ThermalStandard_{Alta, 18} \\geq 0.0\\\\\n & P__PowerSystems.ThermalStandard_{Brighton, 18} \\geq 0.0\\\\\n & P__PowerSystems.ThermalStandard_{Sundance, 18} \\geq 0.0\\\\\n & P__PowerSystems.ThermalStandard_{Solitude, 19} \\geq 0.0\\\\\n & P__PowerSystems.ThermalStandard_{Park City, 19} \\geq 0.0\\\\\n & P__PowerSystems.ThermalStandard_{Alta, 19} \\geq 0.0\\\\\n & P__PowerSystems.ThermalStandard_{Brighton, 19} \\geq 0.0\\\\\n & P__PowerSystems.ThermalStandard_{Sundance, 19} \\geq 0.0\\\\\n & P__PowerSystems.ThermalStandard_{Solitude, 20} \\geq 0.0\\\\\n & P__PowerSystems.ThermalStandard_{Park City, 20} \\geq 0.0\\\\\n & P__PowerSystems.ThermalStandard_{Alta, 20} \\geq 0.0\\\\\n & P__PowerSystems.ThermalStandard_{Brighton, 20} \\geq 0.0\\\\\n & P__PowerSystems.ThermalStandard_{Sundance, 20} \\geq 0.0\\\\\n & P__PowerSystems.ThermalStandard_{Solitude, 21} \\geq 0.0\\\\\n & P__PowerSystems.ThermalStandard_{Park City, 21} \\geq 0.0\\\\\n & P__PowerSystems.ThermalStandard_{Alta, 21} \\geq 0.0\\\\\n & P__PowerSystems.ThermalStandard_{Brighton, 21} \\geq 0.0\\\\\n & P__PowerSystems.ThermalStandard_{Sundance, 21} \\geq 0.0\\\\\n & P__PowerSystems.ThermalStandard_{Solitude, 22} \\geq 0.0\\\\\n & P__PowerSystems.ThermalStandard_{Park City, 22} \\geq 0.0\\\\\n & P__PowerSystems.ThermalStandard_{Alta, 22} \\geq 0.0\\\\\n & P__PowerSystems.ThermalStandard_{Brighton, 22} \\geq 0.0\\\\\n & P__PowerSystems.ThermalStandard_{Sundance, 22} \\geq 0.0\\\\\n & P__PowerSystems.ThermalStandard_{Solitude, 23} \\geq 0.0\\\\\n & P__PowerSystems.ThermalStandard_{Park City, 23} \\geq 0.0\\\\\n & P__PowerSystems.ThermalStandard_{Alta, 23} \\geq 0.0\\\\\n & P__PowerSystems.ThermalStandard_{Brighton, 23} \\geq 0.0\\\\\n & P__PowerSystems.ThermalStandard_{Sundance, 23} \\geq 0.0\\\\\n & P__PowerSystems.ThermalStandard_{Solitude, 24} \\geq 0.0\\\\\n & P__PowerSystems.ThermalStandard_{Park City, 24} \\geq 0.0\\\\\n & P__PowerSystems.ThermalStandard_{Alta, 24} \\geq 0.0\\\\\n & P__PowerSystems.ThermalStandard_{Brighton, 24} \\geq 0.0\\\\\n & P__PowerSystems.ThermalStandard_{Sundance, 24} \\geq 0.0\\\\\n & P__PowerSystems.HydroEnergyReservoir_{HydroEnergyReservoir, 1} \\geq 3.0\\\\\n & P__PowerSystems.HydroEnergyReservoir_{HydroEnergyReservoir, 2} \\geq 3.0\\\\\n & P__PowerSystems.HydroEnergyReservoir_{HydroEnergyReservoir, 3} \\geq 3.0\\\\\n & P__PowerSystems.HydroEnergyReservoir_{HydroEnergyReservoir, 4} \\geq 3.0\\\\\n & P__PowerSystems.HydroEnergyReservoir_{HydroEnergyReservoir, 5} \\geq 3.0\\\\\n & P__PowerSystems.HydroEnergyReservoir_{HydroEnergyReservoir, 6} \\geq 3.0\\\\\n & P__PowerSystems.HydroEnergyReservoir_{HydroEnergyReservoir, 7} \\geq 3.0\\\\\n & P__PowerSystems.HydroEnergyReservoir_{HydroEnergyReservoir, 8} \\geq 3.0\\\\\n & P__PowerSystems.HydroEnergyReservoir_{HydroEnergyReservoir, 9} \\geq 3.0\\\\\n & P__PowerSystems.HydroEnergyReservoir_{HydroEnergyReservoir, 10} \\geq 3.0\\\\\n & P__PowerSystems.HydroEnergyReservoir_{HydroEnergyReservoir, 11} \\geq 3.0\\\\\n & P__PowerSystems.HydroEnergyReservoir_{HydroEnergyReservoir, 12} \\geq 3.0\\\\\n & P__PowerSystems.HydroEnergyReservoir_{HydroEnergyReservoir, 13} \\geq 3.0\\\\\n & P__PowerSystems.HydroEnergyReservoir_{HydroEnergyReservoir, 14} \\geq 3.0\\\\\n & P__PowerSystems.HydroEnergyReservoir_{HydroEnergyReservoir, 15} \\geq 3.0\\\\\n & P__PowerSystems.HydroEnergyReservoir_{HydroEnergyReservoir, 16} \\geq 3.0\\\\\n & P__PowerSystems.HydroEnergyReservoir_{HydroEnergyReservoir, 17} \\geq 3.0\\\\\n & P__PowerSystems.HydroEnergyReservoir_{HydroEnergyReservoir, 18} \\geq 3.0\\\\\n & P__PowerSystems.HydroEnergyReservoir_{HydroEnergyReservoir, 19} \\geq 3.0\\\\\n & P__PowerSystems.HydroEnergyReservoir_{HydroEnergyReservoir, 20} \\geq 3.0\\\\\n & P__PowerSystems.HydroEnergyReservoir_{HydroEnergyReservoir, 21} \\geq 3.0\\\\\n & P__PowerSystems.HydroEnergyReservoir_{HydroEnergyReservoir, 22} \\geq 3.0\\\\\n & P__PowerSystems.HydroEnergyReservoir_{HydroEnergyReservoir, 23} \\geq 3.0\\\\\n & P__PowerSystems.HydroEnergyReservoir_{HydroEnergyReservoir, 24} \\geq 3.0\\\\\n & E__PowerSystems.HydroEnergyReservoir_{HydroEnergyReservoir, 1} \\geq 0.0\\\\\n & E__PowerSystems.HydroEnergyReservoir_{HydroEnergyReservoir, 2} \\geq 0.0\\\\\n & E__PowerSystems.HydroEnergyReservoir_{HydroEnergyReservoir, 3} \\geq 0.0\\\\\n & E__PowerSystems.HydroEnergyReservoir_{HydroEnergyReservoir, 4} \\geq 0.0\\\\\n & E__PowerSystems.HydroEnergyReservoir_{HydroEnergyReservoir, 5} \\geq 0.0\\\\\n & E__PowerSystems.HydroEnergyReservoir_{HydroEnergyReservoir, 6} \\geq 0.0\\\\\n & E__PowerSystems.HydroEnergyReservoir_{HydroEnergyReservoir, 7} \\geq 0.0\\\\\n & E__PowerSystems.HydroEnergyReservoir_{HydroEnergyReservoir, 8} \\geq 0.0\\\\\n & E__PowerSystems.HydroEnergyReservoir_{HydroEnergyReservoir, 9} \\geq 0.0\\\\\n & E__PowerSystems.HydroEnergyReservoir_{HydroEnergyReservoir, 10} \\geq 0.0\\\\\n & E__PowerSystems.HydroEnergyReservoir_{HydroEnergyReservoir, 11} \\geq 0.0\\\\\n & E__PowerSystems.HydroEnergyReservoir_{HydroEnergyReservoir, 12} \\geq 0.0\\\\\n & E__PowerSystems.HydroEnergyReservoir_{HydroEnergyReservoir, 13} \\geq 0.0\\\\\n & E__PowerSystems.HydroEnergyReservoir_{HydroEnergyReservoir, 14} \\geq 0.0\\\\\n & E__PowerSystems.HydroEnergyReservoir_{HydroEnergyReservoir, 15} \\geq 0.0\\\\\n & E__PowerSystems.HydroEnergyReservoir_{HydroEnergyReservoir, 16} \\geq 0.0\\\\\n & E__PowerSystems.HydroEnergyReservoir_{HydroEnergyReservoir, 17} \\geq 0.0\\\\\n & E__PowerSystems.HydroEnergyReservoir_{HydroEnergyReservoir, 18} \\geq 0.0\\\\\n & E__PowerSystems.HydroEnergyReservoir_{HydroEnergyReservoir, 19} \\geq 0.0\\\\\n & E__PowerSystems.HydroEnergyReservoir_{HydroEnergyReservoir, 20} \\geq 0.0\\\\\n & E__PowerSystems.HydroEnergyReservoir_{HydroEnergyReservoir, 21} \\geq 0.0\\\\\n & E__PowerSystems.HydroEnergyReservoir_{HydroEnergyReservoir, 22} \\geq 0.0\\\\\n & E__PowerSystems.HydroEnergyReservoir_{HydroEnergyReservoir, 23} \\geq 0.0\\\\\n & E__PowerSystems.HydroEnergyReservoir_{HydroEnergyReservoir, 24} \\geq 0.0\\\\\n & Sp__PowerSystems.HydroEnergyReservoir_{HydroEnergyReservoir, 1} \\geq 0.0\\\\\n & Sp__PowerSystems.HydroEnergyReservoir_{HydroEnergyReservoir, 2} \\geq 0.0\\\\\n & Sp__PowerSystems.HydroEnergyReservoir_{HydroEnergyReservoir, 3} \\geq 0.0\\\\\n & Sp__PowerSystems.HydroEnergyReservoir_{HydroEnergyReservoir, 4} \\geq 0.0\\\\\n & Sp__PowerSystems.HydroEnergyReservoir_{HydroEnergyReservoir, 5} \\geq 0.0\\\\\n & Sp__PowerSystems.HydroEnergyReservoir_{HydroEnergyReservoir, 6} \\geq 0.0\\\\\n & Sp__PowerSystems.HydroEnergyReservoir_{HydroEnergyReservoir, 7} \\geq 0.0\\\\\n & Sp__PowerSystems.HydroEnergyReservoir_{HydroEnergyReservoir, 8} \\geq 0.0\\\\\n & Sp__PowerSystems.HydroEnergyReservoir_{HydroEnergyReservoir, 9} \\geq 0.0\\\\\n & Sp__PowerSystems.HydroEnergyReservoir_{HydroEnergyReservoir, 10} \\geq 0.0\\\\\n & Sp__PowerSystems.HydroEnergyReservoir_{HydroEnergyReservoir, 11} \\geq 0.0\\\\\n & Sp__PowerSystems.HydroEnergyReservoir_{HydroEnergyReservoir, 12} \\geq 0.0\\\\\n & Sp__PowerSystems.HydroEnergyReservoir_{HydroEnergyReservoir, 13} \\geq 0.0\\\\\n & Sp__PowerSystems.HydroEnergyReservoir_{HydroEnergyReservoir, 14} \\geq 0.0\\\\\n & Sp__PowerSystems.HydroEnergyReservoir_{HydroEnergyReservoir, 15} \\geq 0.0\\\\\n & Sp__PowerSystems.HydroEnergyReservoir_{HydroEnergyReservoir, 16} \\geq 0.0\\\\\n & Sp__PowerSystems.HydroEnergyReservoir_{HydroEnergyReservoir, 17} \\geq 0.0\\\\\n & Sp__PowerSystems.HydroEnergyReservoir_{HydroEnergyReservoir, 18} \\geq 0.0\\\\\n & Sp__PowerSystems.HydroEnergyReservoir_{HydroEnergyReservoir, 19} \\geq 0.0\\\\\n & Sp__PowerSystems.HydroEnergyReservoir_{HydroEnergyReservoir, 20} \\geq 0.0\\\\\n & Sp__PowerSystems.HydroEnergyReservoir_{HydroEnergyReservoir, 21} \\geq 0.0\\\\\n & Sp__PowerSystems.HydroEnergyReservoir_{HydroEnergyReservoir, 22} \\geq 0.0\\\\\n & Sp__PowerSystems.HydroEnergyReservoir_{HydroEnergyReservoir, 23} \\geq 0.0\\\\\n & Sp__PowerSystems.HydroEnergyReservoir_{HydroEnergyReservoir, 24} \\geq 0.0\\\\\n & P__PowerSystems.ThermalStandard_{Solitude, 1} \\leq 5.2\\\\\n & P__PowerSystems.ThermalStandard_{Park City, 1} \\leq 1.7\\\\\n & P__PowerSystems.ThermalStandard_{Alta, 1} \\leq 0.4\\\\\n & P__PowerSystems.ThermalStandard_{Brighton, 1} \\leq 6.0\\\\\n & P__PowerSystems.ThermalStandard_{Sundance, 1} \\leq 2.0\\\\\n & P__PowerSystems.ThermalStandard_{Solitude, 2} \\leq 5.2\\\\\n & P__PowerSystems.ThermalStandard_{Park City, 2} \\leq 1.7\\\\\n & P__PowerSystems.ThermalStandard_{Alta, 2} \\leq 0.4\\\\\n & P__PowerSystems.ThermalStandard_{Brighton, 2} \\leq 6.0\\\\\n & P__PowerSystems.ThermalStandard_{Sundance, 2} \\leq 2.0\\\\\n & P__PowerSystems.ThermalStandard_{Solitude, 3} \\leq 5.2\\\\\n & P__PowerSystems.ThermalStandard_{Park City, 3} \\leq 1.7\\\\\n & P__PowerSystems.ThermalStandard_{Alta, 3} \\leq 0.4\\\\\n & P__PowerSystems.ThermalStandard_{Brighton, 3} \\leq 6.0\\\\\n & P__PowerSystems.ThermalStandard_{Sundance, 3} \\leq 2.0\\\\\n & P__PowerSystems.ThermalStandard_{Solitude, 4} \\leq 5.2\\\\\n & P__PowerSystems.ThermalStandard_{Park City, 4} \\leq 1.7\\\\\n & P__PowerSystems.ThermalStandard_{Alta, 4} \\leq 0.4\\\\\n & P__PowerSystems.ThermalStandard_{Brighton, 4} \\leq 6.0\\\\\n & P__PowerSystems.ThermalStandard_{Sundance, 4} \\leq 2.0\\\\\n & P__PowerSystems.ThermalStandard_{Solitude, 5} \\leq 5.2\\\\\n & P__PowerSystems.ThermalStandard_{Park City, 5} \\leq 1.7\\\\\n & P__PowerSystems.ThermalStandard_{Alta, 5} \\leq 0.4\\\\\n & P__PowerSystems.ThermalStandard_{Brighton, 5} \\leq 6.0\\\\\n & P__PowerSystems.ThermalStandard_{Sundance, 5} \\leq 2.0\\\\\n & P__PowerSystems.ThermalStandard_{Solitude, 6} \\leq 5.2\\\\\n & P__PowerSystems.ThermalStandard_{Park City, 6} \\leq 1.7\\\\\n & P__PowerSystems.ThermalStandard_{Alta, 6} \\leq 0.4\\\\\n & P__PowerSystems.ThermalStandard_{Brighton, 6} \\leq 6.0\\\\\n & P__PowerSystems.ThermalStandard_{Sundance, 6} \\leq 2.0\\\\\n & P__PowerSystems.ThermalStandard_{Solitude, 7} \\leq 5.2\\\\\n & P__PowerSystems.ThermalStandard_{Park City, 7} \\leq 1.7\\\\\n & P__PowerSystems.ThermalStandard_{Alta, 7} \\leq 0.4\\\\\n & P__PowerSystems.ThermalStandard_{Brighton, 7} \\leq 6.0\\\\\n & P__PowerSystems.ThermalStandard_{Sundance, 7} \\leq 2.0\\\\\n & P__PowerSystems.ThermalStandard_{Solitude, 8} \\leq 5.2\\\\\n & P__PowerSystems.ThermalStandard_{Park City, 8} \\leq 1.7\\\\\n & P__PowerSystems.ThermalStandard_{Alta, 8} \\leq 0.4\\\\\n & P__PowerSystems.ThermalStandard_{Brighton, 8} \\leq 6.0\\\\\n & P__PowerSystems.ThermalStandard_{Sundance, 8} \\leq 2.0\\\\\n & P__PowerSystems.ThermalStandard_{Solitude, 9} \\leq 5.2\\\\\n & P__PowerSystems.ThermalStandard_{Park City, 9} \\leq 1.7\\\\\n & P__PowerSystems.ThermalStandard_{Alta, 9} \\leq 0.4\\\\\n & P__PowerSystems.ThermalStandard_{Brighton, 9} \\leq 6.0\\\\\n & P__PowerSystems.ThermalStandard_{Sundance, 9} \\leq 2.0\\\\\n & P__PowerSystems.ThermalStandard_{Solitude, 10} \\leq 5.2\\\\\n & P__PowerSystems.ThermalStandard_{Park City, 10} \\leq 1.7\\\\\n & P__PowerSystems.ThermalStandard_{Alta, 10} \\leq 0.4\\\\\n & P__PowerSystems.ThermalStandard_{Brighton, 10} \\leq 6.0\\\\\n & P__PowerSystems.ThermalStandard_{Sundance, 10} \\leq 2.0\\\\\n & P__PowerSystems.ThermalStandard_{Solitude, 11} \\leq 5.2\\\\\n & P__PowerSystems.ThermalStandard_{Park City, 11} \\leq 1.7\\\\\n & P__PowerSystems.ThermalStandard_{Alta, 11} \\leq 0.4\\\\\n & P__PowerSystems.ThermalStandard_{Brighton, 11} \\leq 6.0\\\\\n & P__PowerSystems.ThermalStandard_{Sundance, 11} \\leq 2.0\\\\\n & P__PowerSystems.ThermalStandard_{Solitude, 12} \\leq 5.2\\\\\n & P__PowerSystems.ThermalStandard_{Park City, 12} \\leq 1.7\\\\\n & P__PowerSystems.ThermalStandard_{Alta, 12} \\leq 0.4\\\\\n & P__PowerSystems.ThermalStandard_{Brighton, 12} \\leq 6.0\\\\\n & P__PowerSystems.ThermalStandard_{Sundance, 12} \\leq 2.0\\\\\n & P__PowerSystems.ThermalStandard_{Solitude, 13} \\leq 5.2\\\\\n & P__PowerSystems.ThermalStandard_{Park City, 13} \\leq 1.7\\\\\n & P__PowerSystems.ThermalStandard_{Alta, 13} \\leq 0.4\\\\\n & P__PowerSystems.ThermalStandard_{Brighton, 13} \\leq 6.0\\\\\n & P__PowerSystems.ThermalStandard_{Sundance, 13} \\leq 2.0\\\\\n & P__PowerSystems.ThermalStandard_{Solitude, 14} \\leq 5.2\\\\\n & P__PowerSystems.ThermalStandard_{Park City, 14} \\leq 1.7\\\\\n & P__PowerSystems.ThermalStandard_{Alta, 14} \\leq 0.4\\\\\n & P__PowerSystems.ThermalStandard_{Brighton, 14} \\leq 6.0\\\\\n & P__PowerSystems.ThermalStandard_{Sundance, 14} \\leq 2.0\\\\\n & P__PowerSystems.ThermalStandard_{Solitude, 15} \\leq 5.2\\\\\n & P__PowerSystems.ThermalStandard_{Park City, 15} \\leq 1.7\\\\\n & P__PowerSystems.ThermalStandard_{Alta, 15} \\leq 0.4\\\\\n & P__PowerSystems.ThermalStandard_{Brighton, 15} \\leq 6.0\\\\\n & P__PowerSystems.ThermalStandard_{Sundance, 15} \\leq 2.0\\\\\n & P__PowerSystems.ThermalStandard_{Solitude, 16} \\leq 5.2\\\\\n & P__PowerSystems.ThermalStandard_{Park City, 16} \\leq 1.7\\\\\n & P__PowerSystems.ThermalStandard_{Alta, 16} \\leq 0.4\\\\\n & P__PowerSystems.ThermalStandard_{Brighton, 16} \\leq 6.0\\\\\n & P__PowerSystems.ThermalStandard_{Sundance, 16} \\leq 2.0\\\\\n & P__PowerSystems.ThermalStandard_{Solitude, 17} \\leq 5.2\\\\\n & P__PowerSystems.ThermalStandard_{Park City, 17} \\leq 1.7\\\\\n & P__PowerSystems.ThermalStandard_{Alta, 17} \\leq 0.4\\\\\n & P__PowerSystems.ThermalStandard_{Brighton, 17} \\leq 6.0\\\\\n & P__PowerSystems.ThermalStandard_{Sundance, 17} \\leq 2.0\\\\\n & P__PowerSystems.ThermalStandard_{Solitude, 18} \\leq 5.2\\\\\n & P__PowerSystems.ThermalStandard_{Park City, 18} \\leq 1.7\\\\\n & P__PowerSystems.ThermalStandard_{Alta, 18} \\leq 0.4\\\\\n & P__PowerSystems.ThermalStandard_{Brighton, 18} \\leq 6.0\\\\\n & P__PowerSystems.ThermalStandard_{Sundance, 18} \\leq 2.0\\\\\n & P__PowerSystems.ThermalStandard_{Solitude, 19} \\leq 5.2\\\\\n & P__PowerSystems.ThermalStandard_{Park City, 19} \\leq 1.7\\\\\n & P__PowerSystems.ThermalStandard_{Alta, 19} \\leq 0.4\\\\\n & P__PowerSystems.ThermalStandard_{Brighton, 19} \\leq 6.0\\\\\n & P__PowerSystems.ThermalStandard_{Sundance, 19} \\leq 2.0\\\\\n & P__PowerSystems.ThermalStandard_{Solitude, 20} \\leq 5.2\\\\\n & P__PowerSystems.ThermalStandard_{Park City, 20} \\leq 1.7\\\\\n & P__PowerSystems.ThermalStandard_{Alta, 20} \\leq 0.4\\\\\n & P__PowerSystems.ThermalStandard_{Brighton, 20} \\leq 6.0\\\\\n & P__PowerSystems.ThermalStandard_{Sundance, 20} \\leq 2.0\\\\\n & P__PowerSystems.ThermalStandard_{Solitude, 21} \\leq 5.2\\\\\n & P__PowerSystems.ThermalStandard_{Park City, 21} \\leq 1.7\\\\\n & P__PowerSystems.ThermalStandard_{Alta, 21} \\leq 0.4\\\\\n & P__PowerSystems.ThermalStandard_{Brighton, 21} \\leq 6.0\\\\\n & P__PowerSystems.ThermalStandard_{Sundance, 21} \\leq 2.0\\\\\n & P__PowerSystems.ThermalStandard_{Solitude, 22} \\leq 5.2\\\\\n & P__PowerSystems.ThermalStandard_{Park City, 22} \\leq 1.7\\\\\n & P__PowerSystems.ThermalStandard_{Alta, 22} \\leq 0.4\\\\\n & P__PowerSystems.ThermalStandard_{Brighton, 22} \\leq 6.0\\\\\n & P__PowerSystems.ThermalStandard_{Sundance, 22} \\leq 2.0\\\\\n & P__PowerSystems.ThermalStandard_{Solitude, 23} \\leq 5.2\\\\\n & P__PowerSystems.ThermalStandard_{Park City, 23} \\leq 1.7\\\\\n & P__PowerSystems.ThermalStandard_{Alta, 23} \\leq 0.4\\\\\n & P__PowerSystems.ThermalStandard_{Brighton, 23} \\leq 6.0\\\\\n & P__PowerSystems.ThermalStandard_{Sundance, 23} \\leq 2.0\\\\\n & P__PowerSystems.ThermalStandard_{Solitude, 24} \\leq 5.2\\\\\n & P__PowerSystems.ThermalStandard_{Park City, 24} \\leq 1.7\\\\\n & P__PowerSystems.ThermalStandard_{Alta, 24} \\leq 0.4\\\\\n & P__PowerSystems.ThermalStandard_{Brighton, 24} \\leq 6.0\\\\\n & P__PowerSystems.ThermalStandard_{Sundance, 24} \\leq 2.0\\\\\n & P__PowerSystems.HydroEnergyReservoir_{HydroEnergyReservoir, 1} \\leq 18.1\\\\\n & P__PowerSystems.HydroEnergyReservoir_{HydroEnergyReservoir, 2} \\leq 18.1\\\\\n & P__PowerSystems.HydroEnergyReservoir_{HydroEnergyReservoir, 3} \\leq 18.1\\\\\n & P__PowerSystems.HydroEnergyReservoir_{HydroEnergyReservoir, 4} \\leq 18.1\\\\\n & P__PowerSystems.HydroEnergyReservoir_{HydroEnergyReservoir, 5} \\leq 18.1\\\\\n & P__PowerSystems.HydroEnergyReservoir_{HydroEnergyReservoir, 6} \\leq 18.1\\\\\n & P__PowerSystems.HydroEnergyReservoir_{HydroEnergyReservoir, 7} \\leq 18.1\\\\\n & P__PowerSystems.HydroEnergyReservoir_{HydroEnergyReservoir, 8} \\leq 18.1\\\\\n & P__PowerSystems.HydroEnergyReservoir_{HydroEnergyReservoir, 9} \\leq 18.1\\\\\n & P__PowerSystems.HydroEnergyReservoir_{HydroEnergyReservoir, 10} \\leq 18.1\\\\\n & P__PowerSystems.HydroEnergyReservoir_{HydroEnergyReservoir, 11} \\leq 18.1\\\\\n & P__PowerSystems.HydroEnergyReservoir_{HydroEnergyReservoir, 12} \\leq 18.1\\\\\n & P__PowerSystems.HydroEnergyReservoir_{HydroEnergyReservoir, 13} \\leq 18.1\\\\\n & P__PowerSystems.HydroEnergyReservoir_{HydroEnergyReservoir, 14} \\leq 18.1\\\\\n & P__PowerSystems.HydroEnergyReservoir_{HydroEnergyReservoir, 15} \\leq 18.1\\\\\n & P__PowerSystems.HydroEnergyReservoir_{HydroEnergyReservoir, 16} \\leq 18.1\\\\\n & P__PowerSystems.HydroEnergyReservoir_{HydroEnergyReservoir, 17} \\leq 18.1\\\\\n & P__PowerSystems.HydroEnergyReservoir_{HydroEnergyReservoir, 18} \\leq 18.1\\\\\n & P__PowerSystems.HydroEnergyReservoir_{HydroEnergyReservoir, 19} \\leq 18.1\\\\\n & P__PowerSystems.HydroEnergyReservoir_{HydroEnergyReservoir, 20} \\leq 18.1\\\\\n & P__PowerSystems.HydroEnergyReservoir_{HydroEnergyReservoir, 21} \\leq 18.1\\\\\n & P__PowerSystems.HydroEnergyReservoir_{HydroEnergyReservoir, 22} \\leq 18.1\\\\\n & P__PowerSystems.HydroEnergyReservoir_{HydroEnergyReservoir, 23} \\leq 18.1\\\\\n & P__PowerSystems.HydroEnergyReservoir_{HydroEnergyReservoir, 24} \\leq 18.1\\\\\n & E__PowerSystems.HydroEnergyReservoir_{HydroEnergyReservoir, 1} \\leq 10.0\\\\\n & E__PowerSystems.HydroEnergyReservoir_{HydroEnergyReservoir, 2} \\leq 10.0\\\\\n & E__PowerSystems.HydroEnergyReservoir_{HydroEnergyReservoir, 3} \\leq 10.0\\\\\n & E__PowerSystems.HydroEnergyReservoir_{HydroEnergyReservoir, 4} \\leq 10.0\\\\\n & E__PowerSystems.HydroEnergyReservoir_{HydroEnergyReservoir, 5} \\leq 10.0\\\\\n & E__PowerSystems.HydroEnergyReservoir_{HydroEnergyReservoir, 6} \\leq 10.0\\\\\n & E__PowerSystems.HydroEnergyReservoir_{HydroEnergyReservoir, 7} \\leq 10.0\\\\\n & E__PowerSystems.HydroEnergyReservoir_{HydroEnergyReservoir, 8} \\leq 10.0\\\\\n & E__PowerSystems.HydroEnergyReservoir_{HydroEnergyReservoir, 9} \\leq 10.0\\\\\n & E__PowerSystems.HydroEnergyReservoir_{HydroEnergyReservoir, 10} \\leq 10.0\\\\\n & E__PowerSystems.HydroEnergyReservoir_{HydroEnergyReservoir, 11} \\leq 10.0\\\\\n & E__PowerSystems.HydroEnergyReservoir_{HydroEnergyReservoir, 12} \\leq 10.0\\\\\n & E__PowerSystems.HydroEnergyReservoir_{HydroEnergyReservoir, 13} \\leq 10.0\\\\\n & E__PowerSystems.HydroEnergyReservoir_{HydroEnergyReservoir, 14} \\leq 10.0\\\\\n & E__PowerSystems.HydroEnergyReservoir_{HydroEnergyReservoir, 15} \\leq 10.0\\\\\n & E__PowerSystems.HydroEnergyReservoir_{HydroEnergyReservoir, 16} \\leq 10.0\\\\\n & E__PowerSystems.HydroEnergyReservoir_{HydroEnergyReservoir, 17} \\leq 10.0\\\\\n & E__PowerSystems.HydroEnergyReservoir_{HydroEnergyReservoir, 18} \\leq 10.0\\\\\n & E__PowerSystems.HydroEnergyReservoir_{HydroEnergyReservoir, 19} \\leq 10.0\\\\\n & E__PowerSystems.HydroEnergyReservoir_{HydroEnergyReservoir, 20} \\leq 10.0\\\\\n & E__PowerSystems.HydroEnergyReservoir_{HydroEnergyReservoir, 21} \\leq 10.0\\\\\n & E__PowerSystems.HydroEnergyReservoir_{HydroEnergyReservoir, 22} \\leq 10.0\\\\\n & E__PowerSystems.HydroEnergyReservoir_{HydroEnergyReservoir, 23} \\leq 10.0\\\\\n & E__PowerSystems.HydroEnergyReservoir_{HydroEnergyReservoir, 24} \\leq 10.0\\\\\n\\end{alignat*}\n $$"
     },
     "metadata": {},
     "execution_count": 26
    }
   ],
   "cell_type": "code",
   "source": [
    "sim.stages[\"DA\"].internal.psi_container.JuMPmodel"
   ],
   "metadata": {},
   "execution_count": 26
  },
  {
   "outputs": [],
   "cell_type": "markdown",
   "source": [
    "And we can look at the \"ED\" model"
   ],
   "metadata": {}
  },
  {
   "outputs": [
    {
     "output_type": "execute_result",
     "data": {
      "text/plain": "A JuMP Model\nMinimization problem with:\nVariables: 96\nObjective function type: JuMP.GenericAffExpr{Float64,JuMP.VariableRef}\n`JuMP.GenericAffExpr{Float64,JuMP.VariableRef}`-in-`MathOptInterface.EqualTo{Float64}`: 24 constraints\n`JuMP.GenericAffExpr{Float64,JuMP.VariableRef}`-in-`MathOptInterface.GreaterThan{Float64}`: 72 constraints\n`JuMP.GenericAffExpr{Float64,JuMP.VariableRef}`-in-`MathOptInterface.LessThan{Float64}`: 73 constraints\n`JuMP.VariableRef`-in-`MathOptInterface.GreaterThan{Float64}`: 96 constraints\n`JuMP.VariableRef`-in-`MathOptInterface.LessThan{Float64}`: 84 constraints\nModel mode: AUTOMATIC\nCachingOptimizer state: EMPTY_OPTIMIZER\nSolver name: COIN Branch-and-Cut (Cbc)",
      "text/latex": "$$ \\begin{alignat*}{1}\\min\\quad & 250 P__PowerSystems.ThermalStandard_{Solitude, 1} + 250 P__PowerSystems.ThermalStandard_{Solitude, 2} + 250 P__PowerSystems.ThermalStandard_{Solitude, 3} + 250 P__PowerSystems.ThermalStandard_{Solitude, 4} + 250 P__PowerSystems.ThermalStandard_{Solitude, 5} + 250 P__PowerSystems.ThermalStandard_{Solitude, 6} + 250 P__PowerSystems.ThermalStandard_{Solitude, 7} + 250 P__PowerSystems.ThermalStandard_{Solitude, 8} + 250 P__PowerSystems.ThermalStandard_{Solitude, 9} + 250 P__PowerSystems.ThermalStandard_{Solitude, 10} + 250 P__PowerSystems.ThermalStandard_{Solitude, 11} + 250 P__PowerSystems.ThermalStandard_{Solitude, 12} + 125 P__PowerSystems.ThermalStandard_{Park City, 1} + 125 P__PowerSystems.ThermalStandard_{Park City, 2} + 125 P__PowerSystems.ThermalStandard_{Park City, 3} + 125 P__PowerSystems.ThermalStandard_{Park City, 4} + 125 P__PowerSystems.ThermalStandard_{Park City, 5} + 125 P__PowerSystems.ThermalStandard_{Park City, 6} + 125 P__PowerSystems.ThermalStandard_{Park City, 7} + 125 P__PowerSystems.ThermalStandard_{Park City, 8} + 125 P__PowerSystems.ThermalStandard_{Park City, 9} + 125 P__PowerSystems.ThermalStandard_{Park City, 10} + 125 P__PowerSystems.ThermalStandard_{Park City, 11} + 125 P__PowerSystems.ThermalStandard_{Park City, 12} + 116.66666666666666 P__PowerSystems.ThermalStandard_{Alta, 1} + 116.66666666666666 P__PowerSystems.ThermalStandard_{Alta, 2} + 116.66666666666666 P__PowerSystems.ThermalStandard_{Alta, 3} + 116.66666666666666 P__PowerSystems.ThermalStandard_{Alta, 4} + 116.66666666666666 P__PowerSystems.ThermalStandard_{Alta, 5} + 116.66666666666666 P__PowerSystems.ThermalStandard_{Alta, 6} + 116.66666666666666 P__PowerSystems.ThermalStandard_{Alta, 7} + 116.66666666666666 P__PowerSystems.ThermalStandard_{Alta, 8} + 116.66666666666666 P__PowerSystems.ThermalStandard_{Alta, 9} + 116.66666666666666 P__PowerSystems.ThermalStandard_{Alta, 10} + 116.66666666666666 P__PowerSystems.ThermalStandard_{Alta, 11} + 116.66666666666666 P__PowerSystems.ThermalStandard_{Alta, 12} + 83.33333333333333 P__PowerSystems.ThermalStandard_{Brighton, 1} + 83.33333333333333 P__PowerSystems.ThermalStandard_{Brighton, 2} + 83.33333333333333 P__PowerSystems.ThermalStandard_{Brighton, 3} + 83.33333333333333 P__PowerSystems.ThermalStandard_{Brighton, 4} + 83.33333333333333 P__PowerSystems.ThermalStandard_{Brighton, 5} + 83.33333333333333 P__PowerSystems.ThermalStandard_{Brighton, 6} + 83.33333333333333 P__PowerSystems.ThermalStandard_{Brighton, 7} + 83.33333333333333 P__PowerSystems.ThermalStandard_{Brighton, 8} + 83.33333333333333 P__PowerSystems.ThermalStandard_{Brighton, 9} + 83.33333333333333 P__PowerSystems.ThermalStandard_{Brighton, 10} + 83.33333333333333 P__PowerSystems.ThermalStandard_{Brighton, 11} + 83.33333333333333 P__PowerSystems.ThermalStandard_{Brighton, 12} + 333.3333333333333 P__PowerSystems.ThermalStandard_{Sundance, 1} + 333.3333333333333 P__PowerSystems.ThermalStandard_{Sundance, 2} + 333.3333333333333 P__PowerSystems.ThermalStandard_{Sundance, 3} + 333.3333333333333 P__PowerSystems.ThermalStandard_{Sundance, 4} + 333.3333333333333 P__PowerSystems.ThermalStandard_{Sundance, 5} + 333.3333333333333 P__PowerSystems.ThermalStandard_{Sundance, 6} + 333.3333333333333 P__PowerSystems.ThermalStandard_{Sundance, 7} + 333.3333333333333 P__PowerSystems.ThermalStandard_{Sundance, 8} + 333.3333333333333 P__PowerSystems.ThermalStandard_{Sundance, 9} + 333.3333333333333 P__PowerSystems.ThermalStandard_{Sundance, 10} + 333.3333333333333 P__PowerSystems.ThermalStandard_{Sundance, 11} + 333.3333333333333 P__PowerSystems.ThermalStandard_{Sundance, 12}\\\\\n\\text{Subject to} \\quad & E__PowerSystems.HydroEnergyReservoir_{HydroEnergyReservoir, 1} + 0.08333333333333333 P__PowerSystems.HydroEnergyReservoir_{HydroEnergyReservoir, 1} + 0.08333333333333333 Sp__PowerSystems.HydroEnergyReservoir_{HydroEnergyReservoir, 1} = 0.0\\\\\n & E__PowerSystems.HydroEnergyReservoir_{HydroEnergyReservoir, 2} - E__PowerSystems.HydroEnergyReservoir_{HydroEnergyReservoir, 1} + 0.08333333333333333 P__PowerSystems.HydroEnergyReservoir_{HydroEnergyReservoir, 2} + 0.08333333333333333 Sp__PowerSystems.HydroEnergyReservoir_{HydroEnergyReservoir, 2} = 0.0\\\\\n & E__PowerSystems.HydroEnergyReservoir_{HydroEnergyReservoir, 3} - E__PowerSystems.HydroEnergyReservoir_{HydroEnergyReservoir, 2} + 0.08333333333333333 P__PowerSystems.HydroEnergyReservoir_{HydroEnergyReservoir, 3} + 0.08333333333333333 Sp__PowerSystems.HydroEnergyReservoir_{HydroEnergyReservoir, 3} = 0.0\\\\\n & E__PowerSystems.HydroEnergyReservoir_{HydroEnergyReservoir, 4} - E__PowerSystems.HydroEnergyReservoir_{HydroEnergyReservoir, 3} + 0.08333333333333333 P__PowerSystems.HydroEnergyReservoir_{HydroEnergyReservoir, 4} + 0.08333333333333333 Sp__PowerSystems.HydroEnergyReservoir_{HydroEnergyReservoir, 4} = 0.0\\\\\n & E__PowerSystems.HydroEnergyReservoir_{HydroEnergyReservoir, 5} - E__PowerSystems.HydroEnergyReservoir_{HydroEnergyReservoir, 4} + 0.08333333333333333 P__PowerSystems.HydroEnergyReservoir_{HydroEnergyReservoir, 5} + 0.08333333333333333 Sp__PowerSystems.HydroEnergyReservoir_{HydroEnergyReservoir, 5} = 0.0\\\\\n & E__PowerSystems.HydroEnergyReservoir_{HydroEnergyReservoir, 6} - E__PowerSystems.HydroEnergyReservoir_{HydroEnergyReservoir, 5} + 0.08333333333333333 P__PowerSystems.HydroEnergyReservoir_{HydroEnergyReservoir, 6} + 0.08333333333333333 Sp__PowerSystems.HydroEnergyReservoir_{HydroEnergyReservoir, 6} = 0.0\\\\\n & E__PowerSystems.HydroEnergyReservoir_{HydroEnergyReservoir, 7} - E__PowerSystems.HydroEnergyReservoir_{HydroEnergyReservoir, 6} + 0.08333333333333333 P__PowerSystems.HydroEnergyReservoir_{HydroEnergyReservoir, 7} + 0.08333333333333333 Sp__PowerSystems.HydroEnergyReservoir_{HydroEnergyReservoir, 7} = 0.0\\\\\n & E__PowerSystems.HydroEnergyReservoir_{HydroEnergyReservoir, 8} - E__PowerSystems.HydroEnergyReservoir_{HydroEnergyReservoir, 7} + 0.08333333333333333 P__PowerSystems.HydroEnergyReservoir_{HydroEnergyReservoir, 8} + 0.08333333333333333 Sp__PowerSystems.HydroEnergyReservoir_{HydroEnergyReservoir, 8} = 0.0\\\\\n & E__PowerSystems.HydroEnergyReservoir_{HydroEnergyReservoir, 9} - E__PowerSystems.HydroEnergyReservoir_{HydroEnergyReservoir, 8} + 0.08333333333333333 P__PowerSystems.HydroEnergyReservoir_{HydroEnergyReservoir, 9} + 0.08333333333333333 Sp__PowerSystems.HydroEnergyReservoir_{HydroEnergyReservoir, 9} = 0.0\\\\\n & E__PowerSystems.HydroEnergyReservoir_{HydroEnergyReservoir, 10} - E__PowerSystems.HydroEnergyReservoir_{HydroEnergyReservoir, 9} + 0.08333333333333333 P__PowerSystems.HydroEnergyReservoir_{HydroEnergyReservoir, 10} + 0.08333333333333333 Sp__PowerSystems.HydroEnergyReservoir_{HydroEnergyReservoir, 10} = 0.0\\\\\n & E__PowerSystems.HydroEnergyReservoir_{HydroEnergyReservoir, 11} - E__PowerSystems.HydroEnergyReservoir_{HydroEnergyReservoir, 10} + 0.08333333333333333 P__PowerSystems.HydroEnergyReservoir_{HydroEnergyReservoir, 11} + 0.08333333333333333 Sp__PowerSystems.HydroEnergyReservoir_{HydroEnergyReservoir, 11} = 0.0\\\\\n & E__PowerSystems.HydroEnergyReservoir_{HydroEnergyReservoir, 12} - E__PowerSystems.HydroEnergyReservoir_{HydroEnergyReservoir, 11} + 0.08333333333333333 P__PowerSystems.HydroEnergyReservoir_{HydroEnergyReservoir, 12} + 0.08333333333333333 Sp__PowerSystems.HydroEnergyReservoir_{HydroEnergyReservoir, 12} = 0.0\\\\\n & P__PowerSystems.ThermalStandard_{Park City, 1} + P__PowerSystems.ThermalStandard_{Alta, 1} + P__PowerSystems.ThermalStandard_{Solitude, 1} + P__PowerSystems.HydroEnergyReservoir_{HydroEnergyReservoir, 1} + P__PowerSystems.ThermalStandard_{Sundance, 1} + P__PowerSystems.ThermalStandard_{Brighton, 1} = 0.0\\\\\n & P__PowerSystems.ThermalStandard_{Park City, 2} + P__PowerSystems.ThermalStandard_{Alta, 2} + P__PowerSystems.ThermalStandard_{Solitude, 2} + P__PowerSystems.HydroEnergyReservoir_{HydroEnergyReservoir, 2} + P__PowerSystems.ThermalStandard_{Sundance, 2} + P__PowerSystems.ThermalStandard_{Brighton, 2} = 0.0\\\\\n & P__PowerSystems.ThermalStandard_{Park City, 3} + P__PowerSystems.ThermalStandard_{Alta, 3} + P__PowerSystems.ThermalStandard_{Solitude, 3} + P__PowerSystems.HydroEnergyReservoir_{HydroEnergyReservoir, 3} + P__PowerSystems.ThermalStandard_{Sundance, 3} + P__PowerSystems.ThermalStandard_{Brighton, 3} = 0.0\\\\\n & P__PowerSystems.ThermalStandard_{Park City, 4} + P__PowerSystems.ThermalStandard_{Alta, 4} + P__PowerSystems.ThermalStandard_{Solitude, 4} + P__PowerSystems.HydroEnergyReservoir_{HydroEnergyReservoir, 4} + P__PowerSystems.ThermalStandard_{Sundance, 4} + P__PowerSystems.ThermalStandard_{Brighton, 4} = 0.0\\\\\n & P__PowerSystems.ThermalStandard_{Park City, 5} + P__PowerSystems.ThermalStandard_{Alta, 5} + P__PowerSystems.ThermalStandard_{Solitude, 5} + P__PowerSystems.HydroEnergyReservoir_{HydroEnergyReservoir, 5} + P__PowerSystems.ThermalStandard_{Sundance, 5} + P__PowerSystems.ThermalStandard_{Brighton, 5} = 0.0\\\\\n & P__PowerSystems.ThermalStandard_{Park City, 6} + P__PowerSystems.ThermalStandard_{Alta, 6} + P__PowerSystems.ThermalStandard_{Solitude, 6} + P__PowerSystems.HydroEnergyReservoir_{HydroEnergyReservoir, 6} + P__PowerSystems.ThermalStandard_{Sundance, 6} + P__PowerSystems.ThermalStandard_{Brighton, 6} = 0.0\\\\\n & P__PowerSystems.ThermalStandard_{Park City, 7} + P__PowerSystems.ThermalStandard_{Alta, 7} + P__PowerSystems.ThermalStandard_{Solitude, 7} + P__PowerSystems.HydroEnergyReservoir_{HydroEnergyReservoir, 7} + P__PowerSystems.ThermalStandard_{Sundance, 7} + P__PowerSystems.ThermalStandard_{Brighton, 7} = 0.0\\\\\n & P__PowerSystems.ThermalStandard_{Park City, 8} + P__PowerSystems.ThermalStandard_{Alta, 8} + P__PowerSystems.ThermalStandard_{Solitude, 8} + P__PowerSystems.HydroEnergyReservoir_{HydroEnergyReservoir, 8} + P__PowerSystems.ThermalStandard_{Sundance, 8} + P__PowerSystems.ThermalStandard_{Brighton, 8} = 0.0\\\\\n & P__PowerSystems.ThermalStandard_{Park City, 9} + P__PowerSystems.ThermalStandard_{Alta, 9} + P__PowerSystems.ThermalStandard_{Solitude, 9} + P__PowerSystems.HydroEnergyReservoir_{HydroEnergyReservoir, 9} + P__PowerSystems.ThermalStandard_{Sundance, 9} + P__PowerSystems.ThermalStandard_{Brighton, 9} = 0.0\\\\\n & P__PowerSystems.ThermalStandard_{Park City, 10} + P__PowerSystems.ThermalStandard_{Alta, 10} + P__PowerSystems.ThermalStandard_{Solitude, 10} + P__PowerSystems.HydroEnergyReservoir_{HydroEnergyReservoir, 10} + P__PowerSystems.ThermalStandard_{Sundance, 10} + P__PowerSystems.ThermalStandard_{Brighton, 10} = 0.0\\\\\n & P__PowerSystems.ThermalStandard_{Park City, 11} + P__PowerSystems.ThermalStandard_{Alta, 11} + P__PowerSystems.ThermalStandard_{Solitude, 11} + P__PowerSystems.HydroEnergyReservoir_{HydroEnergyReservoir, 11} + P__PowerSystems.ThermalStandard_{Sundance, 11} + P__PowerSystems.ThermalStandard_{Brighton, 11} = 0.0\\\\\n & P__PowerSystems.ThermalStandard_{Park City, 12} + P__PowerSystems.ThermalStandard_{Alta, 12} + P__PowerSystems.ThermalStandard_{Solitude, 12} + P__PowerSystems.HydroEnergyReservoir_{HydroEnergyReservoir, 12} + P__PowerSystems.ThermalStandard_{Sundance, 12} + P__PowerSystems.ThermalStandard_{Brighton, 12} = 0.0\\\\\n & P__PowerSystems.ThermalStandard_{Solitude, 1} \\geq 0.0\\\\\n & P__PowerSystems.ThermalStandard_{Solitude, 2} \\geq 0.0\\\\\n & P__PowerSystems.ThermalStandard_{Solitude, 3} \\geq 0.0\\\\\n & P__PowerSystems.ThermalStandard_{Solitude, 4} \\geq 0.0\\\\\n & P__PowerSystems.ThermalStandard_{Solitude, 5} \\geq 0.0\\\\\n & P__PowerSystems.ThermalStandard_{Solitude, 6} \\geq 0.0\\\\\n & P__PowerSystems.ThermalStandard_{Solitude, 7} \\geq 0.0\\\\\n & P__PowerSystems.ThermalStandard_{Solitude, 8} \\geq 0.0\\\\\n & P__PowerSystems.ThermalStandard_{Solitude, 9} \\geq 0.0\\\\\n & P__PowerSystems.ThermalStandard_{Solitude, 10} \\geq 0.0\\\\\n & P__PowerSystems.ThermalStandard_{Solitude, 11} \\geq 0.0\\\\\n & P__PowerSystems.ThermalStandard_{Solitude, 12} \\geq 0.0\\\\\n & P__PowerSystems.ThermalStandard_{Park City, 1} \\geq 0.0\\\\\n & P__PowerSystems.ThermalStandard_{Park City, 2} \\geq 0.0\\\\\n & P__PowerSystems.ThermalStandard_{Park City, 3} \\geq 0.0\\\\\n & P__PowerSystems.ThermalStandard_{Park City, 4} \\geq 0.0\\\\\n & P__PowerSystems.ThermalStandard_{Park City, 5} \\geq 0.0\\\\\n & P__PowerSystems.ThermalStandard_{Park City, 6} \\geq 0.0\\\\\n & P__PowerSystems.ThermalStandard_{Park City, 7} \\geq 0.0\\\\\n & P__PowerSystems.ThermalStandard_{Park City, 8} \\geq 0.0\\\\\n & P__PowerSystems.ThermalStandard_{Park City, 9} \\geq 0.0\\\\\n & P__PowerSystems.ThermalStandard_{Park City, 10} \\geq 0.0\\\\\n & P__PowerSystems.ThermalStandard_{Park City, 11} \\geq 0.0\\\\\n & P__PowerSystems.ThermalStandard_{Park City, 12} \\geq 0.0\\\\\n & P__PowerSystems.ThermalStandard_{Alta, 1} \\geq 0.0\\\\\n & P__PowerSystems.ThermalStandard_{Alta, 2} \\geq 0.0\\\\\n & P__PowerSystems.ThermalStandard_{Alta, 3} \\geq 0.0\\\\\n & P__PowerSystems.ThermalStandard_{Alta, 4} \\geq 0.0\\\\\n & P__PowerSystems.ThermalStandard_{Alta, 5} \\geq 0.0\\\\\n & P__PowerSystems.ThermalStandard_{Alta, 6} \\geq 0.0\\\\\n & P__PowerSystems.ThermalStandard_{Alta, 7} \\geq 0.0\\\\\n & P__PowerSystems.ThermalStandard_{Alta, 8} \\geq 0.0\\\\\n & P__PowerSystems.ThermalStandard_{Alta, 9} \\geq 0.0\\\\\n & P__PowerSystems.ThermalStandard_{Alta, 10} \\geq 0.0\\\\\n & P__PowerSystems.ThermalStandard_{Alta, 11} \\geq 0.0\\\\\n & P__PowerSystems.ThermalStandard_{Alta, 12} \\geq 0.0\\\\\n & P__PowerSystems.ThermalStandard_{Brighton, 1} \\geq 0.0\\\\\n & P__PowerSystems.ThermalStandard_{Brighton, 2} \\geq 0.0\\\\\n & P__PowerSystems.ThermalStandard_{Brighton, 3} \\geq 0.0\\\\\n & P__PowerSystems.ThermalStandard_{Brighton, 4} \\geq 0.0\\\\\n & P__PowerSystems.ThermalStandard_{Brighton, 5} \\geq 0.0\\\\\n & P__PowerSystems.ThermalStandard_{Brighton, 6} \\geq 0.0\\\\\n & P__PowerSystems.ThermalStandard_{Brighton, 7} \\geq 0.0\\\\\n & P__PowerSystems.ThermalStandard_{Brighton, 8} \\geq 0.0\\\\\n & P__PowerSystems.ThermalStandard_{Brighton, 9} \\geq 0.0\\\\\n & P__PowerSystems.ThermalStandard_{Brighton, 10} \\geq 0.0\\\\\n & P__PowerSystems.ThermalStandard_{Brighton, 11} \\geq 0.0\\\\\n & P__PowerSystems.ThermalStandard_{Brighton, 12} \\geq 0.0\\\\\n & P__PowerSystems.ThermalStandard_{Sundance, 1} \\geq 0.0\\\\\n & P__PowerSystems.ThermalStandard_{Sundance, 2} \\geq 0.0\\\\\n & P__PowerSystems.ThermalStandard_{Sundance, 3} \\geq 0.0\\\\\n & P__PowerSystems.ThermalStandard_{Sundance, 4} \\geq 0.0\\\\\n & P__PowerSystems.ThermalStandard_{Sundance, 5} \\geq 0.0\\\\\n & P__PowerSystems.ThermalStandard_{Sundance, 6} \\geq 0.0\\\\\n & P__PowerSystems.ThermalStandard_{Sundance, 7} \\geq 0.0\\\\\n & P__PowerSystems.ThermalStandard_{Sundance, 8} \\geq 0.0\\\\\n & P__PowerSystems.ThermalStandard_{Sundance, 9} \\geq 0.0\\\\\n & P__PowerSystems.ThermalStandard_{Sundance, 10} \\geq 0.0\\\\\n & P__PowerSystems.ThermalStandard_{Sundance, 11} \\geq 0.0\\\\\n & P__PowerSystems.ThermalStandard_{Sundance, 12} \\geq 0.0\\\\\n & P__PowerSystems.HydroEnergyReservoir_{HydroEnergyReservoir, 1} \\geq 3.0\\\\\n & P__PowerSystems.HydroEnergyReservoir_{HydroEnergyReservoir, 2} \\geq 3.0\\\\\n & P__PowerSystems.HydroEnergyReservoir_{HydroEnergyReservoir, 3} \\geq 3.0\\\\\n & P__PowerSystems.HydroEnergyReservoir_{HydroEnergyReservoir, 4} \\geq 3.0\\\\\n & P__PowerSystems.HydroEnergyReservoir_{HydroEnergyReservoir, 5} \\geq 3.0\\\\\n & P__PowerSystems.HydroEnergyReservoir_{HydroEnergyReservoir, 6} \\geq 3.0\\\\\n & P__PowerSystems.HydroEnergyReservoir_{HydroEnergyReservoir, 7} \\geq 3.0\\\\\n & P__PowerSystems.HydroEnergyReservoir_{HydroEnergyReservoir, 8} \\geq 3.0\\\\\n & P__PowerSystems.HydroEnergyReservoir_{HydroEnergyReservoir, 9} \\geq 3.0\\\\\n & P__PowerSystems.HydroEnergyReservoir_{HydroEnergyReservoir, 10} \\geq 3.0\\\\\n & P__PowerSystems.HydroEnergyReservoir_{HydroEnergyReservoir, 11} \\geq 3.0\\\\\n & P__PowerSystems.HydroEnergyReservoir_{HydroEnergyReservoir, 12} \\geq 3.0\\\\\n & P__PowerSystems.ThermalStandard_{Solitude, 1} \\leq 5.2\\\\\n & P__PowerSystems.ThermalStandard_{Solitude, 2} \\leq 5.2\\\\\n & P__PowerSystems.ThermalStandard_{Solitude, 3} \\leq 5.2\\\\\n & P__PowerSystems.ThermalStandard_{Solitude, 4} \\leq 5.2\\\\\n & P__PowerSystems.ThermalStandard_{Solitude, 5} \\leq 5.2\\\\\n & P__PowerSystems.ThermalStandard_{Solitude, 6} \\leq 5.2\\\\\n & P__PowerSystems.ThermalStandard_{Solitude, 7} \\leq 5.2\\\\\n & P__PowerSystems.ThermalStandard_{Solitude, 8} \\leq 5.2\\\\\n & P__PowerSystems.ThermalStandard_{Solitude, 9} \\leq 5.2\\\\\n & P__PowerSystems.ThermalStandard_{Solitude, 10} \\leq 5.2\\\\\n & P__PowerSystems.ThermalStandard_{Solitude, 11} \\leq 5.2\\\\\n & P__PowerSystems.ThermalStandard_{Solitude, 12} \\leq 5.2\\\\\n & P__PowerSystems.ThermalStandard_{Park City, 1} \\leq 1.7\\\\\n & P__PowerSystems.ThermalStandard_{Park City, 2} \\leq 1.7\\\\\n & P__PowerSystems.ThermalStandard_{Park City, 3} \\leq 1.7\\\\\n & P__PowerSystems.ThermalStandard_{Park City, 4} \\leq 1.7\\\\\n & P__PowerSystems.ThermalStandard_{Park City, 5} \\leq 1.7\\\\\n & P__PowerSystems.ThermalStandard_{Park City, 6} \\leq 1.7\\\\\n & P__PowerSystems.ThermalStandard_{Park City, 7} \\leq 1.7\\\\\n & P__PowerSystems.ThermalStandard_{Park City, 8} \\leq 1.7\\\\\n & P__PowerSystems.ThermalStandard_{Park City, 9} \\leq 1.7\\\\\n & P__PowerSystems.ThermalStandard_{Park City, 10} \\leq 1.7\\\\\n & P__PowerSystems.ThermalStandard_{Park City, 11} \\leq 1.7\\\\\n & P__PowerSystems.ThermalStandard_{Park City, 12} \\leq 1.7\\\\\n & P__PowerSystems.ThermalStandard_{Alta, 1} \\leq 0.4\\\\\n & P__PowerSystems.ThermalStandard_{Alta, 2} \\leq 0.4\\\\\n & P__PowerSystems.ThermalStandard_{Alta, 3} \\leq 0.4\\\\\n & P__PowerSystems.ThermalStandard_{Alta, 4} \\leq 0.4\\\\\n & P__PowerSystems.ThermalStandard_{Alta, 5} \\leq 0.4\\\\\n & P__PowerSystems.ThermalStandard_{Alta, 6} \\leq 0.4\\\\\n & P__PowerSystems.ThermalStandard_{Alta, 7} \\leq 0.4\\\\\n & P__PowerSystems.ThermalStandard_{Alta, 8} \\leq 0.4\\\\\n & P__PowerSystems.ThermalStandard_{Alta, 9} \\leq 0.4\\\\\n & P__PowerSystems.ThermalStandard_{Alta, 10} \\leq 0.4\\\\\n & P__PowerSystems.ThermalStandard_{Alta, 11} \\leq 0.4\\\\\n & P__PowerSystems.ThermalStandard_{Alta, 12} \\leq 0.4\\\\\n & P__PowerSystems.ThermalStandard_{Brighton, 1} \\leq 6.0\\\\\n & P__PowerSystems.ThermalStandard_{Brighton, 2} \\leq 6.0\\\\\n & P__PowerSystems.ThermalStandard_{Brighton, 3} \\leq 6.0\\\\\n & P__PowerSystems.ThermalStandard_{Brighton, 4} \\leq 6.0\\\\\n & P__PowerSystems.ThermalStandard_{Brighton, 5} \\leq 6.0\\\\\n & P__PowerSystems.ThermalStandard_{Brighton, 6} \\leq 6.0\\\\\n & P__PowerSystems.ThermalStandard_{Brighton, 7} \\leq 6.0\\\\\n & P__PowerSystems.ThermalStandard_{Brighton, 8} \\leq 6.0\\\\\n & P__PowerSystems.ThermalStandard_{Brighton, 9} \\leq 6.0\\\\\n & P__PowerSystems.ThermalStandard_{Brighton, 10} \\leq 6.0\\\\\n & P__PowerSystems.ThermalStandard_{Brighton, 11} \\leq 6.0\\\\\n & P__PowerSystems.ThermalStandard_{Brighton, 12} \\leq 6.0\\\\\n & P__PowerSystems.ThermalStandard_{Sundance, 1} \\leq 2.0\\\\\n & P__PowerSystems.ThermalStandard_{Sundance, 2} \\leq 2.0\\\\\n & P__PowerSystems.ThermalStandard_{Sundance, 3} \\leq 2.0\\\\\n & P__PowerSystems.ThermalStandard_{Sundance, 4} \\leq 2.0\\\\\n & P__PowerSystems.ThermalStandard_{Sundance, 5} \\leq 2.0\\\\\n & P__PowerSystems.ThermalStandard_{Sundance, 6} \\leq 2.0\\\\\n & P__PowerSystems.ThermalStandard_{Sundance, 7} \\leq 2.0\\\\\n & P__PowerSystems.ThermalStandard_{Sundance, 8} \\leq 2.0\\\\\n & P__PowerSystems.ThermalStandard_{Sundance, 9} \\leq 2.0\\\\\n & P__PowerSystems.ThermalStandard_{Sundance, 10} \\leq 2.0\\\\\n & P__PowerSystems.ThermalStandard_{Sundance, 11} \\leq 2.0\\\\\n & P__PowerSystems.ThermalStandard_{Sundance, 12} \\leq 2.0\\\\\n & P__PowerSystems.HydroEnergyReservoir_{HydroEnergyReservoir, 1} \\leq 18.1\\\\\n & P__PowerSystems.HydroEnergyReservoir_{HydroEnergyReservoir, 2} \\leq 18.1\\\\\n & P__PowerSystems.HydroEnergyReservoir_{HydroEnergyReservoir, 3} \\leq 18.1\\\\\n & P__PowerSystems.HydroEnergyReservoir_{HydroEnergyReservoir, 4} \\leq 18.1\\\\\n & P__PowerSystems.HydroEnergyReservoir_{HydroEnergyReservoir, 5} \\leq 18.1\\\\\n & P__PowerSystems.HydroEnergyReservoir_{HydroEnergyReservoir, 6} \\leq 18.1\\\\\n & P__PowerSystems.HydroEnergyReservoir_{HydroEnergyReservoir, 7} \\leq 18.1\\\\\n & P__PowerSystems.HydroEnergyReservoir_{HydroEnergyReservoir, 8} \\leq 18.1\\\\\n & P__PowerSystems.HydroEnergyReservoir_{HydroEnergyReservoir, 9} \\leq 18.1\\\\\n & P__PowerSystems.HydroEnergyReservoir_{HydroEnergyReservoir, 10} \\leq 18.1\\\\\n & P__PowerSystems.HydroEnergyReservoir_{HydroEnergyReservoir, 11} \\leq 18.1\\\\\n & P__PowerSystems.HydroEnergyReservoir_{HydroEnergyReservoir, 12} \\leq 18.1\\\\\n & 0.08333333333333333 P__PowerSystems.HydroEnergyReservoir_{HydroEnergyReservoir, 1} + 0.08333333333333333 P__PowerSystems.HydroEnergyReservoir_{HydroEnergyReservoir, 2} + 0.08333333333333333 P__PowerSystems.HydroEnergyReservoir_{HydroEnergyReservoir, 3} + 0.08333333333333333 P__PowerSystems.HydroEnergyReservoir_{HydroEnergyReservoir, 4} + 0.08333333333333333 P__PowerSystems.HydroEnergyReservoir_{HydroEnergyReservoir, 5} + 0.08333333333333333 P__PowerSystems.HydroEnergyReservoir_{HydroEnergyReservoir, 6} + 0.08333333333333333 P__PowerSystems.HydroEnergyReservoir_{HydroEnergyReservoir, 7} + 0.08333333333333333 P__PowerSystems.HydroEnergyReservoir_{HydroEnergyReservoir, 8} + 0.08333333333333333 P__PowerSystems.HydroEnergyReservoir_{HydroEnergyReservoir, 9} + 0.08333333333333333 P__PowerSystems.HydroEnergyReservoir_{HydroEnergyReservoir, 10} + 0.08333333333333333 P__PowerSystems.HydroEnergyReservoir_{HydroEnergyReservoir, 11} + 0.08333333333333333 P__PowerSystems.HydroEnergyReservoir_{HydroEnergyReservoir, 12} \\leq 0.0\\\\\n & P__PowerSystems.ThermalStandard_{Solitude, 1} \\geq 0.0\\\\\n & P__PowerSystems.ThermalStandard_{Park City, 1} \\geq 0.0\\\\\n & P__PowerSystems.ThermalStandard_{Alta, 1} \\geq 0.0\\\\\n & P__PowerSystems.ThermalStandard_{Brighton, 1} \\geq 0.0\\\\\n & P__PowerSystems.ThermalStandard_{Sundance, 1} \\geq 0.0\\\\\n & P__PowerSystems.ThermalStandard_{Solitude, 2} \\geq 0.0\\\\\n & P__PowerSystems.ThermalStandard_{Park City, 2} \\geq 0.0\\\\\n & P__PowerSystems.ThermalStandard_{Alta, 2} \\geq 0.0\\\\\n & P__PowerSystems.ThermalStandard_{Brighton, 2} \\geq 0.0\\\\\n & P__PowerSystems.ThermalStandard_{Sundance, 2} \\geq 0.0\\\\\n & P__PowerSystems.ThermalStandard_{Solitude, 3} \\geq 0.0\\\\\n & P__PowerSystems.ThermalStandard_{Park City, 3} \\geq 0.0\\\\\n & P__PowerSystems.ThermalStandard_{Alta, 3} \\geq 0.0\\\\\n & P__PowerSystems.ThermalStandard_{Brighton, 3} \\geq 0.0\\\\\n & P__PowerSystems.ThermalStandard_{Sundance, 3} \\geq 0.0\\\\\n & P__PowerSystems.ThermalStandard_{Solitude, 4} \\geq 0.0\\\\\n & P__PowerSystems.ThermalStandard_{Park City, 4} \\geq 0.0\\\\\n & P__PowerSystems.ThermalStandard_{Alta, 4} \\geq 0.0\\\\\n & P__PowerSystems.ThermalStandard_{Brighton, 4} \\geq 0.0\\\\\n & P__PowerSystems.ThermalStandard_{Sundance, 4} \\geq 0.0\\\\\n & P__PowerSystems.ThermalStandard_{Solitude, 5} \\geq 0.0\\\\\n & P__PowerSystems.ThermalStandard_{Park City, 5} \\geq 0.0\\\\\n & P__PowerSystems.ThermalStandard_{Alta, 5} \\geq 0.0\\\\\n & P__PowerSystems.ThermalStandard_{Brighton, 5} \\geq 0.0\\\\\n & P__PowerSystems.ThermalStandard_{Sundance, 5} \\geq 0.0\\\\\n & P__PowerSystems.ThermalStandard_{Solitude, 6} \\geq 0.0\\\\\n & P__PowerSystems.ThermalStandard_{Park City, 6} \\geq 0.0\\\\\n & P__PowerSystems.ThermalStandard_{Alta, 6} \\geq 0.0\\\\\n & P__PowerSystems.ThermalStandard_{Brighton, 6} \\geq 0.0\\\\\n & P__PowerSystems.ThermalStandard_{Sundance, 6} \\geq 0.0\\\\\n & P__PowerSystems.ThermalStandard_{Solitude, 7} \\geq 0.0\\\\\n & P__PowerSystems.ThermalStandard_{Park City, 7} \\geq 0.0\\\\\n & P__PowerSystems.ThermalStandard_{Alta, 7} \\geq 0.0\\\\\n & P__PowerSystems.ThermalStandard_{Brighton, 7} \\geq 0.0\\\\\n & P__PowerSystems.ThermalStandard_{Sundance, 7} \\geq 0.0\\\\\n & P__PowerSystems.ThermalStandard_{Solitude, 8} \\geq 0.0\\\\\n & P__PowerSystems.ThermalStandard_{Park City, 8} \\geq 0.0\\\\\n & P__PowerSystems.ThermalStandard_{Alta, 8} \\geq 0.0\\\\\n & P__PowerSystems.ThermalStandard_{Brighton, 8} \\geq 0.0\\\\\n & P__PowerSystems.ThermalStandard_{Sundance, 8} \\geq 0.0\\\\\n & P__PowerSystems.ThermalStandard_{Solitude, 9} \\geq 0.0\\\\\n & P__PowerSystems.ThermalStandard_{Park City, 9} \\geq 0.0\\\\\n & P__PowerSystems.ThermalStandard_{Alta, 9} \\geq 0.0\\\\\n & P__PowerSystems.ThermalStandard_{Brighton, 9} \\geq 0.0\\\\\n & P__PowerSystems.ThermalStandard_{Sundance, 9} \\geq 0.0\\\\\n & P__PowerSystems.ThermalStandard_{Solitude, 10} \\geq 0.0\\\\\n & P__PowerSystems.ThermalStandard_{Park City, 10} \\geq 0.0\\\\\n & P__PowerSystems.ThermalStandard_{Alta, 10} \\geq 0.0\\\\\n & P__PowerSystems.ThermalStandard_{Brighton, 10} \\geq 0.0\\\\\n & P__PowerSystems.ThermalStandard_{Sundance, 10} \\geq 0.0\\\\\n & P__PowerSystems.ThermalStandard_{Solitude, 11} \\geq 0.0\\\\\n & P__PowerSystems.ThermalStandard_{Park City, 11} \\geq 0.0\\\\\n & P__PowerSystems.ThermalStandard_{Alta, 11} \\geq 0.0\\\\\n & P__PowerSystems.ThermalStandard_{Brighton, 11} \\geq 0.0\\\\\n & P__PowerSystems.ThermalStandard_{Sundance, 11} \\geq 0.0\\\\\n & P__PowerSystems.ThermalStandard_{Solitude, 12} \\geq 0.0\\\\\n & P__PowerSystems.ThermalStandard_{Park City, 12} \\geq 0.0\\\\\n & P__PowerSystems.ThermalStandard_{Alta, 12} \\geq 0.0\\\\\n & P__PowerSystems.ThermalStandard_{Brighton, 12} \\geq 0.0\\\\\n & P__PowerSystems.ThermalStandard_{Sundance, 12} \\geq 0.0\\\\\n & P__PowerSystems.HydroEnergyReservoir_{HydroEnergyReservoir, 1} \\geq 3.0\\\\\n & P__PowerSystems.HydroEnergyReservoir_{HydroEnergyReservoir, 2} \\geq 3.0\\\\\n & P__PowerSystems.HydroEnergyReservoir_{HydroEnergyReservoir, 3} \\geq 3.0\\\\\n & P__PowerSystems.HydroEnergyReservoir_{HydroEnergyReservoir, 4} \\geq 3.0\\\\\n & P__PowerSystems.HydroEnergyReservoir_{HydroEnergyReservoir, 5} \\geq 3.0\\\\\n & P__PowerSystems.HydroEnergyReservoir_{HydroEnergyReservoir, 6} \\geq 3.0\\\\\n & P__PowerSystems.HydroEnergyReservoir_{HydroEnergyReservoir, 7} \\geq 3.0\\\\\n & P__PowerSystems.HydroEnergyReservoir_{HydroEnergyReservoir, 8} \\geq 3.0\\\\\n & P__PowerSystems.HydroEnergyReservoir_{HydroEnergyReservoir, 9} \\geq 3.0\\\\\n & P__PowerSystems.HydroEnergyReservoir_{HydroEnergyReservoir, 10} \\geq 3.0\\\\\n & P__PowerSystems.HydroEnergyReservoir_{HydroEnergyReservoir, 11} \\geq 3.0\\\\\n & P__PowerSystems.HydroEnergyReservoir_{HydroEnergyReservoir, 12} \\geq 3.0\\\\\n & E__PowerSystems.HydroEnergyReservoir_{HydroEnergyReservoir, 1} \\geq 0.0\\\\\n & E__PowerSystems.HydroEnergyReservoir_{HydroEnergyReservoir, 2} \\geq 0.0\\\\\n & E__PowerSystems.HydroEnergyReservoir_{HydroEnergyReservoir, 3} \\geq 0.0\\\\\n & E__PowerSystems.HydroEnergyReservoir_{HydroEnergyReservoir, 4} \\geq 0.0\\\\\n & E__PowerSystems.HydroEnergyReservoir_{HydroEnergyReservoir, 5} \\geq 0.0\\\\\n & E__PowerSystems.HydroEnergyReservoir_{HydroEnergyReservoir, 6} \\geq 0.0\\\\\n & E__PowerSystems.HydroEnergyReservoir_{HydroEnergyReservoir, 7} \\geq 0.0\\\\\n & E__PowerSystems.HydroEnergyReservoir_{HydroEnergyReservoir, 8} \\geq 0.0\\\\\n & E__PowerSystems.HydroEnergyReservoir_{HydroEnergyReservoir, 9} \\geq 0.0\\\\\n & E__PowerSystems.HydroEnergyReservoir_{HydroEnergyReservoir, 10} \\geq 0.0\\\\\n & E__PowerSystems.HydroEnergyReservoir_{HydroEnergyReservoir, 11} \\geq 0.0\\\\\n & E__PowerSystems.HydroEnergyReservoir_{HydroEnergyReservoir, 12} \\geq 0.0\\\\\n & Sp__PowerSystems.HydroEnergyReservoir_{HydroEnergyReservoir, 1} \\geq 0.0\\\\\n & Sp__PowerSystems.HydroEnergyReservoir_{HydroEnergyReservoir, 2} \\geq 0.0\\\\\n & Sp__PowerSystems.HydroEnergyReservoir_{HydroEnergyReservoir, 3} \\geq 0.0\\\\\n & Sp__PowerSystems.HydroEnergyReservoir_{HydroEnergyReservoir, 4} \\geq 0.0\\\\\n & Sp__PowerSystems.HydroEnergyReservoir_{HydroEnergyReservoir, 5} \\geq 0.0\\\\\n & Sp__PowerSystems.HydroEnergyReservoir_{HydroEnergyReservoir, 6} \\geq 0.0\\\\\n & Sp__PowerSystems.HydroEnergyReservoir_{HydroEnergyReservoir, 7} \\geq 0.0\\\\\n & Sp__PowerSystems.HydroEnergyReservoir_{HydroEnergyReservoir, 8} \\geq 0.0\\\\\n & Sp__PowerSystems.HydroEnergyReservoir_{HydroEnergyReservoir, 9} \\geq 0.0\\\\\n & Sp__PowerSystems.HydroEnergyReservoir_{HydroEnergyReservoir, 10} \\geq 0.0\\\\\n & Sp__PowerSystems.HydroEnergyReservoir_{HydroEnergyReservoir, 11} \\geq 0.0\\\\\n & Sp__PowerSystems.HydroEnergyReservoir_{HydroEnergyReservoir, 12} \\geq 0.0\\\\\n & P__PowerSystems.ThermalStandard_{Solitude, 1} \\leq 5.2\\\\\n & P__PowerSystems.ThermalStandard_{Park City, 1} \\leq 1.7\\\\\n & P__PowerSystems.ThermalStandard_{Alta, 1} \\leq 0.4\\\\\n & P__PowerSystems.ThermalStandard_{Brighton, 1} \\leq 6.0\\\\\n & P__PowerSystems.ThermalStandard_{Sundance, 1} \\leq 2.0\\\\\n & P__PowerSystems.ThermalStandard_{Solitude, 2} \\leq 5.2\\\\\n & P__PowerSystems.ThermalStandard_{Park City, 2} \\leq 1.7\\\\\n & P__PowerSystems.ThermalStandard_{Alta, 2} \\leq 0.4\\\\\n & P__PowerSystems.ThermalStandard_{Brighton, 2} \\leq 6.0\\\\\n & P__PowerSystems.ThermalStandard_{Sundance, 2} \\leq 2.0\\\\\n & P__PowerSystems.ThermalStandard_{Solitude, 3} \\leq 5.2\\\\\n & P__PowerSystems.ThermalStandard_{Park City, 3} \\leq 1.7\\\\\n & P__PowerSystems.ThermalStandard_{Alta, 3} \\leq 0.4\\\\\n & P__PowerSystems.ThermalStandard_{Brighton, 3} \\leq 6.0\\\\\n & P__PowerSystems.ThermalStandard_{Sundance, 3} \\leq 2.0\\\\\n & P__PowerSystems.ThermalStandard_{Solitude, 4} \\leq 5.2\\\\\n & P__PowerSystems.ThermalStandard_{Park City, 4} \\leq 1.7\\\\\n & P__PowerSystems.ThermalStandard_{Alta, 4} \\leq 0.4\\\\\n & P__PowerSystems.ThermalStandard_{Brighton, 4} \\leq 6.0\\\\\n & P__PowerSystems.ThermalStandard_{Sundance, 4} \\leq 2.0\\\\\n & P__PowerSystems.ThermalStandard_{Solitude, 5} \\leq 5.2\\\\\n & P__PowerSystems.ThermalStandard_{Park City, 5} \\leq 1.7\\\\\n & P__PowerSystems.ThermalStandard_{Alta, 5} \\leq 0.4\\\\\n & P__PowerSystems.ThermalStandard_{Brighton, 5} \\leq 6.0\\\\\n & P__PowerSystems.ThermalStandard_{Sundance, 5} \\leq 2.0\\\\\n & P__PowerSystems.ThermalStandard_{Solitude, 6} \\leq 5.2\\\\\n & P__PowerSystems.ThermalStandard_{Park City, 6} \\leq 1.7\\\\\n & P__PowerSystems.ThermalStandard_{Alta, 6} \\leq 0.4\\\\\n & P__PowerSystems.ThermalStandard_{Brighton, 6} \\leq 6.0\\\\\n & P__PowerSystems.ThermalStandard_{Sundance, 6} \\leq 2.0\\\\\n & P__PowerSystems.ThermalStandard_{Solitude, 7} \\leq 5.2\\\\\n & P__PowerSystems.ThermalStandard_{Park City, 7} \\leq 1.7\\\\\n & P__PowerSystems.ThermalStandard_{Alta, 7} \\leq 0.4\\\\\n & P__PowerSystems.ThermalStandard_{Brighton, 7} \\leq 6.0\\\\\n & P__PowerSystems.ThermalStandard_{Sundance, 7} \\leq 2.0\\\\\n & P__PowerSystems.ThermalStandard_{Solitude, 8} \\leq 5.2\\\\\n & P__PowerSystems.ThermalStandard_{Park City, 8} \\leq 1.7\\\\\n & P__PowerSystems.ThermalStandard_{Alta, 8} \\leq 0.4\\\\\n & P__PowerSystems.ThermalStandard_{Brighton, 8} \\leq 6.0\\\\\n & P__PowerSystems.ThermalStandard_{Sundance, 8} \\leq 2.0\\\\\n & P__PowerSystems.ThermalStandard_{Solitude, 9} \\leq 5.2\\\\\n & P__PowerSystems.ThermalStandard_{Park City, 9} \\leq 1.7\\\\\n & P__PowerSystems.ThermalStandard_{Alta, 9} \\leq 0.4\\\\\n & P__PowerSystems.ThermalStandard_{Brighton, 9} \\leq 6.0\\\\\n & P__PowerSystems.ThermalStandard_{Sundance, 9} \\leq 2.0\\\\\n & P__PowerSystems.ThermalStandard_{Solitude, 10} \\leq 5.2\\\\\n & P__PowerSystems.ThermalStandard_{Park City, 10} \\leq 1.7\\\\\n & P__PowerSystems.ThermalStandard_{Alta, 10} \\leq 0.4\\\\\n & P__PowerSystems.ThermalStandard_{Brighton, 10} \\leq 6.0\\\\\n & P__PowerSystems.ThermalStandard_{Sundance, 10} \\leq 2.0\\\\\n & P__PowerSystems.ThermalStandard_{Solitude, 11} \\leq 5.2\\\\\n & P__PowerSystems.ThermalStandard_{Park City, 11} \\leq 1.7\\\\\n & P__PowerSystems.ThermalStandard_{Alta, 11} \\leq 0.4\\\\\n & P__PowerSystems.ThermalStandard_{Brighton, 11} \\leq 6.0\\\\\n & P__PowerSystems.ThermalStandard_{Sundance, 11} \\leq 2.0\\\\\n & P__PowerSystems.ThermalStandard_{Solitude, 12} \\leq 5.2\\\\\n & P__PowerSystems.ThermalStandard_{Park City, 12} \\leq 1.7\\\\\n & P__PowerSystems.ThermalStandard_{Alta, 12} \\leq 0.4\\\\\n & P__PowerSystems.ThermalStandard_{Brighton, 12} \\leq 6.0\\\\\n & P__PowerSystems.ThermalStandard_{Sundance, 12} \\leq 2.0\\\\\n & P__PowerSystems.HydroEnergyReservoir_{HydroEnergyReservoir, 1} \\leq 18.1\\\\\n & P__PowerSystems.HydroEnergyReservoir_{HydroEnergyReservoir, 2} \\leq 18.1\\\\\n & P__PowerSystems.HydroEnergyReservoir_{HydroEnergyReservoir, 3} \\leq 18.1\\\\\n & P__PowerSystems.HydroEnergyReservoir_{HydroEnergyReservoir, 4} \\leq 18.1\\\\\n & P__PowerSystems.HydroEnergyReservoir_{HydroEnergyReservoir, 5} \\leq 18.1\\\\\n & P__PowerSystems.HydroEnergyReservoir_{HydroEnergyReservoir, 6} \\leq 18.1\\\\\n & P__PowerSystems.HydroEnergyReservoir_{HydroEnergyReservoir, 7} \\leq 18.1\\\\\n & P__PowerSystems.HydroEnergyReservoir_{HydroEnergyReservoir, 8} \\leq 18.1\\\\\n & P__PowerSystems.HydroEnergyReservoir_{HydroEnergyReservoir, 9} \\leq 18.1\\\\\n & P__PowerSystems.HydroEnergyReservoir_{HydroEnergyReservoir, 10} \\leq 18.1\\\\\n & P__PowerSystems.HydroEnergyReservoir_{HydroEnergyReservoir, 11} \\leq 18.1\\\\\n & P__PowerSystems.HydroEnergyReservoir_{HydroEnergyReservoir, 12} \\leq 18.1\\\\\n & E__PowerSystems.HydroEnergyReservoir_{HydroEnergyReservoir, 1} \\leq 10.0\\\\\n & E__PowerSystems.HydroEnergyReservoir_{HydroEnergyReservoir, 2} \\leq 10.0\\\\\n & E__PowerSystems.HydroEnergyReservoir_{HydroEnergyReservoir, 3} \\leq 10.0\\\\\n & E__PowerSystems.HydroEnergyReservoir_{HydroEnergyReservoir, 4} \\leq 10.0\\\\\n & E__PowerSystems.HydroEnergyReservoir_{HydroEnergyReservoir, 5} \\leq 10.0\\\\\n & E__PowerSystems.HydroEnergyReservoir_{HydroEnergyReservoir, 6} \\leq 10.0\\\\\n & E__PowerSystems.HydroEnergyReservoir_{HydroEnergyReservoir, 7} \\leq 10.0\\\\\n & E__PowerSystems.HydroEnergyReservoir_{HydroEnergyReservoir, 8} \\leq 10.0\\\\\n & E__PowerSystems.HydroEnergyReservoir_{HydroEnergyReservoir, 9} \\leq 10.0\\\\\n & E__PowerSystems.HydroEnergyReservoir_{HydroEnergyReservoir, 10} \\leq 10.0\\\\\n & E__PowerSystems.HydroEnergyReservoir_{HydroEnergyReservoir, 11} \\leq 10.0\\\\\n & E__PowerSystems.HydroEnergyReservoir_{HydroEnergyReservoir, 12} \\leq 10.0\\\\\n\\end{alignat*}\n $$"
     },
     "metadata": {},
     "execution_count": 27
    }
   ],
   "cell_type": "code",
   "source": [
    "sim.stages[\"ED\"].internal.psi_container.JuMPmodel"
   ],
   "metadata": {},
   "execution_count": 27
  },
  {
   "outputs": [],
   "cell_type": "markdown",
   "source": [
    "---\n",
    "\n",
    "*This notebook was generated using [Literate.jl](https://github.com/fredrikekre/Literate.jl).*"
   ],
   "metadata": {}
  }
 ],
 "nbformat_minor": 3,
 "metadata": {
  "language_info": {
   "file_extension": ".jl",
   "mimetype": "application/julia",
   "name": "julia",
   "version": "1.3.1"
  },
  "kernelspec": {
   "name": "julia-1.3",
   "display_name": "Julia 1.3.1",
   "language": "julia"
  }
 },
 "nbformat": 4
}
