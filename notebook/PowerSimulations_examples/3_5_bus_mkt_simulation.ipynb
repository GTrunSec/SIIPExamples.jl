{
 "cells": [
  {
   "outputs": [],
   "cell_type": "markdown",
   "source": [
    "# 5-bus Market simulation with [PowerSimulations.jl](https://github.com/NREL/PowerSimulations.jl)"
   ],
   "metadata": {}
  },
  {
   "outputs": [],
   "cell_type": "markdown",
   "source": [
    "**Originally Contributed by**: Clayton Barrows"
   ],
   "metadata": {}
  },
  {
   "outputs": [],
   "cell_type": "markdown",
   "source": [
    "## Introduction"
   ],
   "metadata": {}
  },
  {
   "outputs": [],
   "cell_type": "markdown",
   "source": [
    "PowerSimulations.jl supports simulations that consist of sequential optimization problems\n",
    "where results from previous problems inform subsequent problems in a variety of ways. This\n",
    "example demonstrates some of these capabilities to represent electricity market clearing."
   ],
   "metadata": {}
  },
  {
   "outputs": [],
   "cell_type": "markdown",
   "source": [
    "## Dependencies and Data\n",
    "First, let's create `System`s to represent the Day-Ahead and Real-Time market clearing\n",
    "process with hourly, and 5-minute forecast data, respectively."
   ],
   "metadata": {}
  },
  {
   "outputs": [],
   "cell_type": "markdown",
   "source": [
    "### Modeling Packages"
   ],
   "metadata": {}
  },
  {
   "outputs": [],
   "cell_type": "code",
   "source": [
    "using InfrastructureSystems\n",
    "const IS = InfrastructureSystems\n",
    "using PowerSystems\n",
    "const PSY = PowerSystems\n",
    "using PowerSimulations\n",
    "const PSI = PowerSimulations"
   ],
   "metadata": {},
   "execution_count": null
  },
  {
   "outputs": [],
   "cell_type": "markdown",
   "source": [
    "### Data management packages"
   ],
   "metadata": {}
  },
  {
   "outputs": [],
   "cell_type": "code",
   "source": [
    "using Dates\n",
    "using DataFrames"
   ],
   "metadata": {},
   "execution_count": null
  },
  {
   "outputs": [],
   "cell_type": "markdown",
   "source": [
    "### Optimization packages"
   ],
   "metadata": {}
  },
  {
   "outputs": [],
   "cell_type": "code",
   "source": [
    "using JuMP\n",
    "using Cbc #solver\n",
    "solver = optimizer_with_attributes(Cbc.Optimizer, \"logLevel\" => 1, \"ratioGap\" => 0.5)"
   ],
   "metadata": {},
   "execution_count": null
  },
  {
   "outputs": [],
   "cell_type": "markdown",
   "source": [
    "### 5-bus Data\n",
    "The five bus system data here includes hourly day-ahead data, 5-minute real-time market\n",
    "data, and 6-second actual data."
   ],
   "metadata": {}
  },
  {
   "outputs": [],
   "cell_type": "code",
   "source": [
    "base_dir = PSY.download(PSY.TestData; branch = \"master\");\n",
    "pm_data = PSY.PowerModelsData(joinpath(base_dir, \"matpower\", \"case5_re_uc.m\"))\n",
    "\n",
    "FORECASTS_DIR = joinpath(base_dir,\"forecasts\",\"5bus_ts\",\"7day\")\n",
    "\n",
    "tsp_da = IS.read_time_series_metadata(joinpath(FORECASTS_DIR,\"timeseries_pointers_da_7day.json\"))\n",
    "tsp_rt = IS.read_time_series_metadata(joinpath(FORECASTS_DIR,\"timeseries_pointers_rt_7day.json\"))\n",
    "tsp_agc = IS.read_time_series_metadata(joinpath(FORECASTS_DIR,\"timeseries_pointers_agc_7day.json\"))\n",
    "\n",
    "sys_DA = System(pm_data)\n",
    "reserves = [VariableReserve{ReserveUp}(\"REG1\", 5.0, 0.1),\n",
    "            VariableReserve{ReserveUp}(\"REG2\", 5.0, 0.06),\n",
    "            VariableReserve{ReserveUp}(\"REG3\", 5.0, 0.03),\n",
    "            VariableReserve{ReserveUp}(\"REG4\", 5.0, 0.02)]\n",
    "contributing_devices = get_components(Generator, sys_DA)\n",
    "for r in reserves\n",
    "    add_service!(sys_DA, r, contributing_devices)\n",
    "end\n",
    "\n",
    "add_forecasts!(sys_DA, tsp_da)\n",
    "\n",
    "sys_RT = System(pm_data)\n",
    "add_forecasts!(sys_RT, tsp_rt)\n",
    "\n",
    "sys_AGC = System(pm_data)\n",
    "add_forecasts!(sys_AGC, tsp_agc)"
   ],
   "metadata": {},
   "execution_count": null
  },
  {
   "outputs": [],
   "cell_type": "markdown",
   "source": [
    "## `OperationsProblemTemplate`s"
   ],
   "metadata": {}
  },
  {
   "outputs": [],
   "cell_type": "code",
   "source": [
    "template_uc = template_unit_commitment()\n",
    "devices = Dict(\n",
    "    :Generators => DeviceModel(ThermalStandard, ThermalDispatch),\n",
    "    :Ren => DeviceModel(RenewableDispatch, RenewableFullDispatch),\n",
    "    :Loads => DeviceModel(PowerLoad, StaticPowerLoad),\n",
    "    :HydroROR => DeviceModel(HydroDispatch, HydroDispatchRunOfRiver),\n",
    "    :RenFx => DeviceModel(RenewableFix, RenewableFixed),\n",
    ")\n",
    "template_ed = template_economic_dispatch(devices = devices)"
   ],
   "metadata": {},
   "execution_count": null
  },
  {
   "outputs": [],
   "cell_type": "markdown",
   "source": [
    "### Define the Simulation Sequence"
   ],
   "metadata": {}
  },
  {
   "outputs": [],
   "cell_type": "code",
   "source": [
    "stages_definition = Dict(\"UC\" => Stage(GenericOpProblem, template_uc, sys_DA, solver),\n",
    "                         \"ED\" => Stage(GenericOpProblem, template_ed, sys_RT, solver))\n",
    "\n",
    "\n",
    "feedforward_chronologies = Dict((\"UC\" => \"ED\") => Synchronize(periods = 24))\n",
    "\n",
    "feedforward = Dict((\"ED\", :devices, :Generators) => SemiContinuousFF(binary_from_stage = PSI.ON,\n",
    "                                                         affected_variables = [PSI.ACTIVE_POWER]))\n",
    "\n",
    "cache = Dict(\"UC\" => [TimeStatusChange(PSY.ThermalStandard, PSI.ON)])\n",
    "\n",
    "order = Dict(1 => \"UC\", 2 => \"ED\")\n",
    "horizons = Dict(\"UC\" => 24, \"ED\" =>12)\n",
    "intervals = Dict(\"UC\" => (Hour(24), Consecutive()),\n",
    "                 \"ED\" => (Hour(1), Consecutive()))\n",
    "\n",
    "DA_RT_sequence = SimulationSequence(step_resolution = Hour(24),\n",
    "                                    order = order,\n",
    "                                    horizons = horizons,\n",
    "                                    intervals = intervals,\n",
    "                                    ini_cond_chronology = InterStageChronology(),\n",
    "                                    feedforward_chronologies = feedforward_chronologies,\n",
    "                                    feedforward = feedforward,\n",
    "                                    #cache = cache,\n",
    "                                    )"
   ],
   "metadata": {},
   "execution_count": null
  },
  {
   "outputs": [],
   "cell_type": "markdown",
   "source": [
    "## `Simulation`"
   ],
   "metadata": {}
  },
  {
   "outputs": [],
   "cell_type": "code",
   "source": [
    "file_path = tempdir()\n",
    "sim = Simulation(name = \"5bus-test\",\n",
    "                steps = 1,\n",
    "                stages = stages_definition,\n",
    "                stages_sequence = DA_RT_sequence,\n",
    "                simulation_folder = file_path)"
   ],
   "metadata": {},
   "execution_count": null
  },
  {
   "outputs": [],
   "cell_type": "markdown",
   "source": [
    "### Build simulation"
   ],
   "metadata": {}
  },
  {
   "outputs": [],
   "cell_type": "code",
   "source": [
    "build!(sim)"
   ],
   "metadata": {},
   "execution_count": null
  },
  {
   "outputs": [],
   "cell_type": "markdown",
   "source": [
    "### Execute simulation"
   ],
   "metadata": {}
  },
  {
   "outputs": [],
   "cell_type": "code",
   "source": [
    "sim_results = execute!(sim)"
   ],
   "metadata": {},
   "execution_count": null
  },
  {
   "outputs": [],
   "cell_type": "markdown",
   "source": [
    "## Results"
   ],
   "metadata": {}
  },
  {
   "outputs": [],
   "cell_type": "code",
   "source": [
    "ed_results = load_simulation_results(sim_results, \"ED\");"
   ],
   "metadata": {},
   "execution_count": null
  },
  {
   "outputs": [],
   "cell_type": "markdown",
   "source": [
    "---\n",
    "\n",
    "*This notebook was generated using [Literate.jl](https://github.com/fredrikekre/Literate.jl).*"
   ],
   "metadata": {}
  }
 ],
 "nbformat_minor": 3,
 "metadata": {
  "language_info": {
   "file_extension": ".jl",
   "mimetype": "application/julia",
   "name": "julia",
   "version": "1.3.1"
  },
  "kernelspec": {
   "name": "julia-1.3",
   "display_name": "Julia 1.3.1",
   "language": "julia"
  }
 },
 "nbformat": 4
}
