{
 "cells": [
  {
   "cell_type": "markdown",
   "metadata": {
    "slideshow": {
     "slide_type": "slide"
    }
   },
   "source": [
    "# Large Scale Production Cost Modeling with [PowerSimulations.jl](https://github.com/NREL-SIIP/PowerSimulations.jl)"
   ]
  },
  {
   "cell_type": "markdown",
   "metadata": {
    "slideshow": {
     "slide_type": "fragment"
    }
   },
   "source": [
    "**Originally Contributed by**: Clayton Barrows"
   ]
  },
  {
   "cell_type": "markdown",
   "metadata": {
    "slideshow": {
     "slide_type": "subslide"
    }
   },
   "source": [
    "## Introduction"
   ]
  },
  {
   "cell_type": "markdown",
   "metadata": {
    "slideshow": {
     "slide_type": "fragment"
    }
   },
   "source": [
    "This example shows a basic PCM simulation using the system data assembled in the\n",
    "[US-System example](../../notebook/PowerSystems_examples/US_system.ipynb)."
   ]
  },
  {
   "cell_type": "markdown",
   "metadata": {
    "slideshow": {
     "slide_type": "subslide"
    }
   },
   "source": [
    "### Dependencies"
   ]
  },
  {
   "cell_type": "code",
   "execution_count": 1,
   "metadata": {
    "slideshow": {
     "slide_type": "fragment"
    }
   },
   "outputs": [
    {
     "name": "stderr",
     "output_type": "stream",
     "text": [
      "┌ Info: Precompiling PowerSimulations [e690365d-45e2-57bb-ac84-44ba829e73c4]\n",
      "└ @ Base loading.jl:1273\n"
     ]
    },
    {
     "data": {
      "text/html": [
       "<script>\n",
       "// Immediately-invoked-function-expression to avoid global variables.\n",
       "(function() {\n",
       "    var warning_div = document.getElementById(\"webio-warning-14955074478522790727\");\n",
       "    var hide = function () {\n",
       "        var script = document.getElementById(\"webio-setup-16247964366897930601\");\n",
       "        var parent = script && script.parentElement;\n",
       "        var grandparent = parent && parent.parentElement;\n",
       "        if (grandparent) {\n",
       "            grandparent.style.display = \"none\";\n",
       "        }\n",
       "        warning_div.style.display = \"none\";\n",
       "    };\n",
       "    if (typeof Jupyter !== \"undefined\") {\n",
       "        console.log(\"WebIO detected Jupyter notebook environment.\");\n",
       "        // Jupyter notebook.\n",
       "        var extensions = (\n",
       "            Jupyter\n",
       "            && Jupyter.notebook.config.data\n",
       "            && Jupyter.notebook.config.data.load_extensions\n",
       "        );\n",
       "        if (extensions && extensions[\"webio-jupyter-notebook\"]) {\n",
       "            // Extension already loaded.\n",
       "            console.log(\"Jupyter WebIO nbextension detected; not loading ad-hoc.\");\n",
       "            hide();\n",
       "            return;\n",
       "        }\n",
       "    } else if (window.location.pathname.includes(\"/lab\")) {\n",
       "        // Guessing JupyterLa\n",
       "        console.log(\"Jupyter Lab detected; make sure the @webio/jupyter-lab-provider labextension is installed.\");\n",
       "        hide();\n",
       "        return;\n",
       "    }\n",
       "})();\n",
       "\n",
       "</script>\n",
       "<p\n",
       "    id=\"webio-warning-14955074478522790727\"\n",
       "    class=\"output_text output_stderr\"\n",
       "    style=\"padding: 1em; font-weight: bold;\"\n",
       ">\n",
       "    Unable to load WebIO. Please make sure WebIO works for your Jupyter client.\n",
       "    For troubleshooting, please see <a href=\"https://juliagizmos.github.io/WebIO.jl/latest/providers/ijulia/\">\n",
       "    the WebIO/IJulia documentation</a>.\n",
       "    <!-- TODO: link to installation docs. -->\n",
       "</p>\n"
      ],
      "text/plain": [
       "HTML{String}(\"<script>\\n// Immediately-invoked-function-expression to avoid global variables.\\n(function() {\\n    var warning_div = document.getElementById(\\\"webio-warning-14955074478522790727\\\");\\n    var hide = function () {\\n        var script = document.getElementById(\\\"webio-setup-16247964366897930601\\\");\\n        var parent = script && script.parentElement;\\n        var grandparent = parent && parent.parentElement;\\n        if (grandparent) {\\n            grandparent.style.display = \\\"none\\\";\\n        }\\n        warning_div.style.display = \\\"none\\\";\\n    };\\n    if (typeof Jupyter !== \\\"undefined\\\") {\\n        console.log(\\\"WebIO detected Jupyter notebook environment.\\\");\\n        // Jupyter notebook.\\n        var extensions = (\\n            Jupyter\\n            && Jupyter.notebook.config.data\\n            && Jupyter.notebook.config.data.load_extensions\\n        );\\n        if (extensions && extensions[\\\"webio-jupyter-notebook\\\"]) {\\n            // Extension already loaded.\\n            console.log(\\\"Jupyter WebIO nbextension detected; not loading ad-hoc.\\\");\\n            hide();\\n            return;\\n        }\\n    } else if (window.location.pathname.includes(\\\"/lab\\\")) {\\n        // Guessing JupyterLa\\n        console.log(\\\"Jupyter Lab detected; make sure the @webio/jupyter-lab-provider labextension is installed.\\\");\\n        hide();\\n        return;\\n    }\\n})();\\n\\n</script>\\n<p\\n    id=\\\"webio-warning-14955074478522790727\\\"\\n    class=\\\"output_text output_stderr\\\"\\n    style=\\\"padding: 1em; font-weight: bold;\\\"\\n>\\n    Unable to load WebIO. Please make sure WebIO works for your Jupyter client.\\n    For troubleshooting, please see <a href=\\\"https://juliagizmos.github.io/WebIO.jl/latest/providers/ijulia/\\\">\\n    the WebIO/IJulia documentation</a>.\\n    <!-- TODO: link to installation docs. -->\\n</p>\\n\")"
      ]
     },
     "metadata": {},
     "output_type": "display_data"
    },
    {
     "data": {
      "text/plain": [
       "Plots.PlotlyJSBackend()"
      ]
     },
     "execution_count": 1,
     "metadata": {},
     "output_type": "execute_result"
    }
   ],
   "source": [
    "using SIIPExamples\n",
    "using PowerSystems\n",
    "using PowerSimulations\n",
    "using PowerGraphics\n",
    "using Logging\n",
    "pkgpath = dirname(dirname(pathof(SIIPExamples)))\n",
    "PSY = PowerSystems\n",
    "PSI = PowerSimulations\n",
    "plotlyjs()"
   ]
  },
  {
   "cell_type": "markdown",
   "metadata": {
    "slideshow": {
     "slide_type": "subslide"
    }
   },
   "source": [
    "### Optimization packages\n",
    "For this simple example, we can use the Cbc solver with a relatively relaxed tolerance."
   ]
  },
  {
   "cell_type": "code",
   "execution_count": 2,
   "metadata": {
    "slideshow": {
     "slide_type": "fragment"
    }
   },
   "outputs": [
    {
     "name": "stderr",
     "output_type": "stream",
     "text": [
      "┌ Info: Xpress: Found license file /Users/cbarrows/Applications/fico-xpress/xpressmp/bin/xpauth.xpr\n",
      "└ @ Xpress /Users/cbarrows/.julia/packages/Xpress/kcAft/src/license.jl:42\n",
      "┌ Info: Xpress: Development license detected.\n",
      "└ @ Xpress /Users/cbarrows/.julia/packages/Xpress/kcAft/src/license.jl:84\n"
     ]
    },
    {
     "data": {
      "text/plain": [
       "MathOptInterface.OptimizerWithAttributes(Xpress.Optimizer, Pair{MathOptInterface.AbstractOptimizerAttribute,Any}[MathOptInterface.RawParameter(\"MIPRELSTOP\") => 0.1, MathOptInterface.RawParameter(\"OUTPUTLOG\") => 1])"
      ]
     },
     "execution_count": 2,
     "metadata": {},
     "output_type": "execute_result"
    }
   ],
   "source": [
    "using Cbc #solver\n",
    "solver = optimizer_with_attributes(Cbc.Optimizer, \"logLevel\" => 1, \"ratioGap\" => 0.1)\n",
    "\n",
    "using Xpress\n",
    "solver = optimizer_with_attributes(Xpress.Optimizer, \"MIPRELSTOP\" => 0.1, \"OUTPUTLOG\" => 1)"
   ]
  },
  {
   "cell_type": "markdown",
   "metadata": {
    "slideshow": {
     "slide_type": "slide"
    }
   },
   "source": [
    "### Create a `System` from US data.\n",
    "If you have run the\n",
    "[US-System example.](../../notebook/PowerSystems_examples/US-System.ipynb), the data will\n",
    "be serialized in the json and H5 format, so we can efficiently deserialize it:"
   ]
  },
  {
   "cell_type": "code",
   "execution_count": 3,
   "metadata": {
    "slideshow": {
     "slide_type": "fragment"
    }
   },
   "outputs": [
    {
     "ename": "Base.IOError",
     "evalue": "IOError: open: no such file or directory (ENOENT)",
     "output_type": "error",
     "traceback": [
      "IOError: open: no such file or directory (ENOENT)",
      "",
      "Stacktrace:",
      " [1] uv_error at ./libuv.jl:97 [inlined]",
      " [2] open(::String, ::UInt16, ::Int64) at ./filesystem.jl:87",
      " [3] open at ./filesystem.jl:79 [inlined]",
      " [4] sendfile(::String, ::String) at ./file.jl:802",
      " [5] #cp#12(::Bool, ::Bool, ::typeof(cp), ::String, ::String) at ./file.jl:344",
      " [6] #cp at ./none:0 [inlined]",
      " [7] from_file(::Type{InfrastructureSystems.Hdf5TimeSeriesStorage}, ::String) at /Users/cbarrows/.julia/packages/InfrastructureSystems/0n4Hg/src/hdf5_time_series_storage.jl:76",
      " [8] deserialize(::Type{InfrastructureSystems.SystemData}, ::Type{Component}, ::NamedTuple{(:validation_descriptors, :internal, :components, :time_series_storage_file, :forecast_metadata, :time_series_storage_type),Tuple{Array{Any,1},NamedTuple{(:uuid, :ext),Tuple{NamedTuple{(:value,),Tuple{String}},Nothing}},NamedTuple{(:PowerLoad, :Transformer2W, :Area, :Line, :HydroDispatch, :ThermalStandard, :Bus, :LoadZone, :RenewableDispatch),NTuple{9,Array{Any,1}}},String,NamedTuple{(:resolution, :horizon),Tuple{NamedTuple{(:value, :unit),Tuple{Int64,String}},Int64}},String}}) at /Users/cbarrows/.julia/packages/InfrastructureSystems/0n4Hg/src/system_data.jl:638",
      " [9] read(::IOStream, ::Type{System}) at /Users/cbarrows/.julia/packages/PowerSystems/YdVQU/src/base.jl:1197",
      " [10] from_json at /Users/cbarrows/.julia/packages/InfrastructureSystems/0n4Hg/src/serialization.jl:31 [inlined]",
      " [11] #123 at /Users/cbarrows/.julia/packages/InfrastructureSystems/0n4Hg/src/serialization.jl:25 [inlined]",
      " [12] #open#271(::Base.Iterators.Pairs{Union{},Union{},Tuple{},NamedTuple{(),Tuple{}}}, ::typeof(open), ::InfrastructureSystems.var\"#123#124\"{System}, ::String) at ./io.jl:298",
      " [13] open at ./io.jl:296 [inlined]",
      " [14] from_json at /Users/cbarrows/.julia/packages/InfrastructureSystems/0n4Hg/src/serialization.jl:24 [inlined]",
      " [15] #System#70(::Base.Iterators.Pairs{Union{},Union{},Tuple{},NamedTuple{(),Tuple{}}}, ::Type{System}, ::String) at /Users/cbarrows/.julia/packages/PowerSystems/YdVQU/src/base.jl:232",
      " [16] System(::String) at /Users/cbarrows/.julia/packages/PowerSystems/YdVQU/src/base.jl:228",
      " [17] top-level scope at In[3]:1"
     ]
    }
   ],
   "source": [
    "sys = System(joinpath(pkgpath,\"US-System\", \"SIIP\", \"sys.json\"))"
   ]
  },
  {
   "cell_type": "markdown",
   "metadata": {
    "slideshow": {
     "slide_type": "subslide"
    }
   },
   "source": [
    "### Selecting flow limited lines\n",
    "Since PowerSimulations will apply constraints by component type (e.g. Line), we need to\n",
    "change the component type of the lines on which we want to enforce flow limits. So, let's\n",
    "change the device type of certain branches from Line to MonitoredLine differentiate\n",
    "treatment when we build the model. Here, we can select inter-regional lines, or lines\n",
    "above a voltage threshold."
   ]
  },
  {
   "cell_type": "code",
   "execution_count": 4,
   "metadata": {
    "slideshow": {
     "slide_type": "fragment"
    }
   },
   "outputs": [
    {
     "ename": "UndefVarError",
     "evalue": "UndefVarError: sys not defined",
     "output_type": "error",
     "traceback": [
      "UndefVarError: sys not defined",
      "",
      "Stacktrace:",
      " [1] top-level scope at ./In[4]:1"
     ]
    }
   ],
   "source": [
    "for line in get_components(Line, sys)\n",
    "    if (get_basevoltage(get_from(get_arc(line))) >= 230.0) &&\n",
    "       (get_basevoltage(get_to(get_arc(line))) >= 230.0)\n",
    "        #if get_area(get_from(get_arc(line))) != get_area(get_to(get_arc(line)))\n",
    "        @info \"Changing $(get_name(line)) to MonitoredLine\"\n",
    "        convert_component!(MonitoredLine, line, sys)\n",
    "    end\n",
    "end\n",
    "\n",
    "branches = Dict{Symbol, DeviceModel}(\n",
    "    :L => DeviceModel(Line, StaticLineUnbounded),\n",
    "    :T => DeviceModel(Transformer2W, StaticTransformer),\n",
    "    :TT => DeviceModel(TapTransformer, StaticTransformer),\n",
    "    :ML => DeviceModel(MonitoredLine, StaticLine),\n",
    "    :DC => DeviceModel(HVDCLine, HVDCDispatch),\n",
    ")\n",
    "\n",
    "devices = Dict(\n",
    "    :Generators => DeviceModel(ThermalStandard, ThermalStandardUnitCommitment),\n",
    "    :Ren => DeviceModel(RenewableDispatch, RenewableFullDispatch),\n",
    "    :Loads => DeviceModel(PowerLoad, StaticPowerLoad),\n",
    "    :HydroROR => DeviceModel(HydroDispatch, FixedOutput),\n",
    "    :RenFx => DeviceModel(RenewableFix, FixedOutput),\n",
    "    :ILoads => DeviceModel(InterruptibleLoad, InterruptiblePowerLoad),\n",
    ")\n",
    "\n",
    "template = OperationsProblemTemplate(DCPPowerModel, devices, branches, Dict());"
   ]
  },
  {
   "cell_type": "markdown",
   "metadata": {
    "slideshow": {
     "slide_type": "subslide"
    }
   },
   "source": [
    "### Build and execute single step problem"
   ]
  },
  {
   "cell_type": "code",
   "execution_count": 5,
   "metadata": {
    "slideshow": {
     "slide_type": "fragment"
    }
   },
   "outputs": [
    {
     "ename": "UndefVarError",
     "evalue": "UndefVarError: template not defined",
     "output_type": "error",
     "traceback": [
      "UndefVarError: template not defined",
      "",
      "Stacktrace:",
      " [1] top-level scope at In[5]:1"
     ]
    }
   ],
   "source": [
    "op_problem =\n",
    "    OperationsProblem(GenericOpProblem, template, sys; optimizer = solver, horizon = 24, slack_variables = false, use_parameters = true)\n",
    "\n",
    "res =solve!(op_problem)"
   ]
  },
  {
   "cell_type": "markdown",
   "metadata": {
    "slideshow": {
     "slide_type": "subslide"
    }
   },
   "source": [
    "### Analyze results"
   ]
  },
  {
   "cell_type": "code",
   "execution_count": 6,
   "metadata": {
    "slideshow": {
     "slide_type": "fragment"
    }
   },
   "outputs": [
    {
     "ename": "UndefVarError",
     "evalue": "UndefVarError: res not defined",
     "output_type": "error",
     "traceback": [
      "UndefVarError: res not defined",
      "",
      "Stacktrace:",
      " [1] top-level scope at In[6]:1"
     ]
    }
   ],
   "source": [
    "fuel_plot(res, sys, load = true)"
   ]
  },
  {
   "cell_type": "markdown",
   "metadata": {
    "slideshow": {
     "slide_type": "slide"
    }
   },
   "source": [
    "## Sequential Simulation\n",
    "In addition to defining the formulation template, sequential simulations require\n",
    "definitions for how information flows between problems."
   ]
  },
  {
   "cell_type": "code",
   "execution_count": 7,
   "metadata": {
    "slideshow": {
     "slide_type": "subslide"
    }
   },
   "outputs": [
    {
     "ename": "UndefVarError",
     "evalue": "UndefVarError: template not defined",
     "output_type": "error",
     "traceback": [
      "UndefVarError: template not defined",
      "",
      "Stacktrace:",
      " [1] top-level scope at In[7]:2"
     ]
    }
   ],
   "source": [
    "sim_folder = mkpath(joinpath(pkgpath, \"Texas-sim\"), )\n",
    "stages_definition = Dict(\n",
    "    \"UC\" => Stage(GenericOpProblem, template, sys, solver; slack_variables = true)\n",
    ")\n",
    "order = Dict(1 => \"UC\")\n",
    "horizons = Dict(\"UC\" => 24)\n",
    "intervals = Dict(\"UC\" => (Hour(24), Consecutive()))\n",
    "cache = Dict((\"UC\",) => TimeStatusChange(PSY.ThermalStandard, PSI.ON))\n",
    "DA_sequence = SimulationSequence(\n",
    "    step_resolution = Hour(24),\n",
    "    order = order,\n",
    "    horizons = horizons,\n",
    "    intervals = intervals,\n",
    "    ini_cond_chronology = InterStageChronology(),\n",
    "    cache = cache, #needed for ThermalStandardUC not for Basic\n",
    ")"
   ]
  },
  {
   "cell_type": "markdown",
   "metadata": {
    "slideshow": {
     "slide_type": "subslide"
    }
   },
   "source": [
    "### Define and build a simulation"
   ]
  },
  {
   "cell_type": "code",
   "execution_count": 8,
   "metadata": {
    "slideshow": {
     "slide_type": "fragment"
    }
   },
   "outputs": [
    {
     "ename": "UndefVarError",
     "evalue": "UndefVarError: stages_definition not defined",
     "output_type": "error",
     "traceback": [
      "UndefVarError: stages_definition not defined",
      "",
      "Stacktrace:",
      " [1] top-level scope at In[8]:1"
     ]
    }
   ],
   "source": [
    "sim = Simulation(\n",
    "    name = \"Texas-test\",\n",
    "    steps = 10,\n",
    "    stages = stages_definition,\n",
    "    stages_sequence = DA_sequence,\n",
    "    simulation_folder = \"Texas-sim\"\n",
    ")\n",
    "build!(sim, console_level = Logging.Info, file_level = Logging.Debug)"
   ]
  },
  {
   "cell_type": "markdown",
   "metadata": {
    "slideshow": {
     "slide_type": "subslide"
    }
   },
   "source": [
    "### Execute the simulation"
   ]
  },
  {
   "cell_type": "code",
   "execution_count": 9,
   "metadata": {
    "slideshow": {
     "slide_type": "fragment"
    }
   },
   "outputs": [
    {
     "ename": "UndefVarError",
     "evalue": "UndefVarError: sim not defined",
     "output_type": "error",
     "traceback": [
      "UndefVarError: sim not defined",
      "",
      "Stacktrace:",
      " [1] top-level scope at In[9]:1"
     ]
    }
   ],
   "source": [
    "sim_results = execute!(sim)"
   ]
  },
  {
   "cell_type": "markdown",
   "metadata": {
    "slideshow": {
     "slide_type": "subslide"
    }
   },
   "source": [
    "### Load and analyze results"
   ]
  },
  {
   "cell_type": "code",
   "execution_count": 10,
   "metadata": {
    "slideshow": {
     "slide_type": "fragment"
    }
   },
   "outputs": [
    {
     "ename": "UndefVarError",
     "evalue": "UndefVarError: sim_results not defined",
     "output_type": "error",
     "traceback": [
      "UndefVarError: sim_results not defined",
      "",
      "Stacktrace:",
      " [1] top-level scope at In[10]:1"
     ]
    }
   ],
   "source": [
    "uc_results = load_simulation_results(sim_results, \"UC\");\n",
    "\n",
    "fuel_plot(uc_results, sys, load = true)"
   ]
  },
  {
   "cell_type": "markdown",
   "metadata": {},
   "source": [
    "---\n",
    "\n",
    "*This notebook was generated using [Literate.jl](https://github.com/fredrikekre/Literate.jl).*"
   ]
  }
 ],
 "metadata": {
  "celltoolbar": "Slideshow",
  "kernelspec": {
   "display_name": "Julia 1.3.1",
   "language": "julia",
   "name": "julia-1.3"
  },
  "language_info": {
   "file_extension": ".jl",
   "mimetype": "application/julia",
   "name": "julia",
   "version": "1.3.1"
  }
 },
 "nbformat": 4,
 "nbformat_minor": 3
}
