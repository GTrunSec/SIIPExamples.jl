{
 "cells": [
  {
   "cell_type": "markdown",
   "metadata": {},
   "source": [
    "# Large Scale Production Cost Modeling with [PowerSimulations.jl](https://github.com/NREL-SIIP/PowerSimulations.jl)"
   ]
  },
  {
   "cell_type": "markdown",
   "metadata": {},
   "source": [
    "**Originally Contributed by**: Clayton Barrows"
   ]
  },
  {
   "cell_type": "markdown",
   "metadata": {},
   "source": [
    "## Introduction"
   ]
  },
  {
   "cell_type": "markdown",
   "metadata": {},
   "source": [
    "This example shows a basic PCM simulation using the system data assembled in the\n",
    "[US-System example](../../notebook/PowerSystems_examples/US_system.ipynb)."
   ]
  },
  {
   "cell_type": "markdown",
   "metadata": {},
   "source": [
    "### Dependencies"
   ]
  },
  {
   "cell_type": "code",
   "execution_count": 1,
   "metadata": {},
   "outputs": [
    {
     "name": "stderr",
     "output_type": "stream",
     "text": [
      "┌ Info: Precompiling PowerGraphics [5f7eddb3-86b1-49e8-a95a-ddc0f45eea41]\n",
      "└ @ Base loading.jl:1260\n",
      "[ Info: PowerGrahics.jl loads Plots.jl. Precompile might take a while\n"
     ]
    },
    {
     "data": {
      "text/html": [
       "<script>\n",
       "// Immediately-invoked-function-expression to avoid global variables.\n",
       "(function() {\n",
       "    var warning_div = document.getElementById(\"webio-warning-1193148317636165404\");\n",
       "    var hide = function () {\n",
       "        var script = document.getElementById(\"webio-setup-10181350976756914101\");\n",
       "        var parent = script && script.parentElement;\n",
       "        var grandparent = parent && parent.parentElement;\n",
       "        if (grandparent) {\n",
       "            grandparent.style.display = \"none\";\n",
       "        }\n",
       "        warning_div.style.display = \"none\";\n",
       "    };\n",
       "    if (typeof Jupyter !== \"undefined\") {\n",
       "        console.log(\"WebIO detected Jupyter notebook environment.\");\n",
       "        // Jupyter notebook.\n",
       "        var extensions = (\n",
       "            Jupyter\n",
       "            && Jupyter.notebook.config.data\n",
       "            && Jupyter.notebook.config.data.load_extensions\n",
       "        );\n",
       "        if (extensions && extensions[\"webio-jupyter-notebook\"]) {\n",
       "            // Extension already loaded.\n",
       "            console.log(\"Jupyter WebIO nbextension detected; not loading ad-hoc.\");\n",
       "            hide();\n",
       "            return;\n",
       "        }\n",
       "    } else if (window.location.pathname.includes(\"/lab\")) {\n",
       "        // Guessing JupyterLa\n",
       "        console.log(\"Jupyter Lab detected; make sure the @webio/jupyter-lab-provider labextension is installed.\");\n",
       "        hide();\n",
       "        return;\n",
       "    }\n",
       "})();\n",
       "\n",
       "</script>\n",
       "<p\n",
       "    id=\"webio-warning-1193148317636165404\"\n",
       "    class=\"output_text output_stderr\"\n",
       "    style=\"padding: 1em; font-weight: bold;\"\n",
       ">\n",
       "    Unable to load WebIO. Please make sure WebIO works for your Jupyter client.\n",
       "    For troubleshooting, please see <a href=\"https://juliagizmos.github.io/WebIO.jl/latest/providers/ijulia/\">\n",
       "    the WebIO/IJulia documentation</a>.\n",
       "    <!-- TODO: link to installation docs. -->\n",
       "</p>\n"
      ],
      "text/plain": [
       "HTML{String}(\"<script>\\n// Immediately-invoked-function-expression to avoid global variables.\\n(function() {\\n    var warning_div = document.getElementById(\\\"webio-warning-1193148317636165404\\\");\\n    var hide = function () {\\n        var script = document.getElementById(\\\"webio-setup-10181350976756914101\\\");\\n        var parent = script && script.parentElement;\\n        var grandparent = parent && parent.parentElement;\\n        if (grandparent) {\\n            grandparent.style.display = \\\"none\\\";\\n        }\\n        warning_div.style.display = \\\"none\\\";\\n    };\\n    if (typeof Jupyter !== \\\"undefined\\\") {\\n        console.log(\\\"WebIO detected Jupyter notebook environment.\\\");\\n        // Jupyter notebook.\\n        var extensions = (\\n            Jupyter\\n            && Jupyter.notebook.config.data\\n            && Jupyter.notebook.config.data.load_extensions\\n        );\\n        if (extensions && extensions[\\\"webio-jupyter-notebook\\\"]) {\\n            // Extension already loaded.\\n            console.log(\\\"Jupyter WebIO nbextension detected; not loading ad-hoc.\\\");\\n            hide();\\n            return;\\n        }\\n    } else if (window.location.pathname.includes(\\\"/lab\\\")) {\\n        // Guessing JupyterLa\\n        console.log(\\\"Jupyter Lab detected; make sure the @webio/jupyter-lab-provider labextension is installed.\\\");\\n        hide();\\n        return;\\n    }\\n})();\\n\\n</script>\\n<p\\n    id=\\\"webio-warning-1193148317636165404\\\"\\n    class=\\\"output_text output_stderr\\\"\\n    style=\\\"padding: 1em; font-weight: bold;\\\"\\n>\\n    Unable to load WebIO. Please make sure WebIO works for your Jupyter client.\\n    For troubleshooting, please see <a href=\\\"https://juliagizmos.github.io/WebIO.jl/latest/providers/ijulia/\\\">\\n    the WebIO/IJulia documentation</a>.\\n    <!-- TODO: link to installation docs. -->\\n</p>\\n\")"
      ]
     },
     "metadata": {},
     "output_type": "display_data"
    },
    {
     "name": "stderr",
     "output_type": "stream",
     "text": [
      "env: node: No such file or directory\n"
     ]
    },
    {
     "data": {
      "text/plain": [
       "Plots.PlotlyJSBackend()"
      ]
     },
     "execution_count": 1,
     "metadata": {},
     "output_type": "execute_result"
    }
   ],
   "source": [
    "using SIIPExamples\n",
    "using PowerSystems\n",
    "using PowerSimulations\n",
    "using PowerGraphics\n",
    "using Logging\n",
    "pkgpath = dirname(dirname(pathof(SIIPExamples)))\n",
    "PSI = PowerSimulations\n",
    "plotlyjs()"
   ]
  },
  {
   "cell_type": "markdown",
   "metadata": {},
   "source": [
    "### Optimization packages\n",
    "You can use the cbc solver as in one of the other PowerSimulations.jl examples, but on\n",
    "large problems it's useful to have a solver with better performance. I'll use the Xpress\n",
    "solver, since I have a license, but others such as Gurobi or CPLEX work well too."
   ]
  },
  {
   "cell_type": "code",
   "execution_count": null,
   "metadata": {},
   "outputs": [],
   "source": [
    "using Xpress\n",
    "solver = optimizer_with_attributes(Xpress.Optimizer, \"MIPRELSTOP\" => 0.1, \"OUTPUTLOG\" => 1)"
   ]
  },
  {
   "cell_type": "markdown",
   "metadata": {},
   "source": [
    "### Load the US `System`.\n",
    "If you have run the\n",
    "[US-System example](../../notebook/PowerSystems_examples/US-System.ipynb), the data will\n",
    "be serialized in the json and H5 format, so we can efficiently deserialize it:"
   ]
  },
  {
   "cell_type": "code",
   "execution_count": null,
   "metadata": {},
   "outputs": [],
   "source": [
    "sys = System(joinpath(pkgpath,\"US-System\", \"SIIP\", \"sys.json\"))"
   ]
  },
  {
   "cell_type": "markdown",
   "metadata": {},
   "source": [
    "### Selecting flow limited lines\n",
    "Since PowerSimulations will apply constraints by component type (e.g. Line), we need to\n",
    "change the component type of the lines on which we want to enforce flow limits. So, let's\n",
    "change the device type of certain branches from Line to MonitoredLine differentiate\n",
    "treatment when we build the model. Here, we can select inter-regional lines, or lines\n",
    "above a voltage threshold."
   ]
  },
  {
   "cell_type": "code",
   "execution_count": null,
   "metadata": {},
   "outputs": [],
   "source": [
    "for line in get_components(Line, sys)\n",
    "    if (get_basevoltage(get_from(get_arc(line))) >= 230.0) &&\n",
    "       (get_basevoltage(get_to(get_arc(line))) >= 230.0)\n",
    "        #if get_area(get_from(get_arc(line))) != get_area(get_to(get_arc(line)))\n",
    "        @info \"Changing $(get_name(line)) to MonitoredLine\"\n",
    "        convert_component!(MonitoredLine, line, sys)\n",
    "    end\n",
    "end"
   ]
  },
  {
   "cell_type": "markdown",
   "metadata": {},
   "source": [
    "### Create a `template`\n",
    "Now we can create a `template` that applies an unbounded formulation to `Line`s and the standard\n",
    "flow limited formulation to `MonitoredLine`s."
   ]
  },
  {
   "cell_type": "code",
   "execution_count": null,
   "metadata": {},
   "outputs": [],
   "source": [
    "branches = Dict{Symbol, DeviceModel}(\n",
    "    :L => DeviceModel(Line, StaticLineUnbounded),\n",
    "    :T => DeviceModel(Transformer2W, StaticTransformer),\n",
    "    :TT => DeviceModel(TapTransformer, StaticTransformer),\n",
    "    :ML => DeviceModel(MonitoredLine, StaticLine),\n",
    "    :DC => DeviceModel(HVDCLine, HVDCDispatch),\n",
    ")\n",
    "\n",
    "devices = Dict(\n",
    "    :Generators => DeviceModel(ThermalStandard, ThermalStandardUnitCommitment),\n",
    "    :Ren => DeviceModel(RenewableDispatch, RenewableFullDispatch),\n",
    "    :Loads => DeviceModel(PowerLoad, StaticPowerLoad),\n",
    "    :HydroROR => DeviceModel(HydroDispatch, FixedOutput),\n",
    "    :RenFx => DeviceModel(RenewableFix, FixedOutput),\n",
    "    :ILoads => DeviceModel(InterruptibleLoad, InterruptiblePowerLoad),\n",
    ")\n",
    "\n",
    "template = OperationsProblemTemplate(DCPPowerModel, devices, branches, Dict());"
   ]
  },
  {
   "cell_type": "markdown",
   "metadata": {},
   "source": [
    "### Build and execute single step problem"
   ]
  },
  {
   "cell_type": "code",
   "execution_count": null,
   "metadata": {},
   "outputs": [],
   "source": [
    "op_problem =\n",
    "    OperationsProblem(GenericOpProblem, template, sys; optimizer = solver, horizon = 24, slack_variables = false, use_parameters = true)\n",
    "\n",
    "res =solve!(op_problem)"
   ]
  },
  {
   "cell_type": "code",
   "execution_count": null,
   "metadata": {},
   "outputs": [],
   "source": [
    "get_component(ThermalStandard,sys,\"gen12999\").op_cost"
   ]
  },
  {
   "cell_type": "markdown",
   "metadata": {},
   "source": [
    "### Analyze results"
   ]
  },
  {
   "cell_type": "code",
   "execution_count": null,
   "metadata": {},
   "outputs": [],
   "source": [
    "fuel_plot(res, sys, load = true)"
   ]
  },
  {
   "cell_type": "markdown",
   "metadata": {},
   "source": [
    "## Sequential Simulation\n",
    "In addition to defining the formulation template, sequential simulations require\n",
    "definitions for how information flows between problems."
   ]
  },
  {
   "cell_type": "code",
   "execution_count": null,
   "metadata": {},
   "outputs": [],
   "source": [
    "sim_folder = mkpath(joinpath(pkgpath, \"Texas-sim\"), )\n",
    "stages_definition = Dict(\n",
    "    \"UC\" => Stage(GenericOpProblem, template, sys, solver; slack_variables = true)\n",
    ")\n",
    "order = Dict(1 => \"UC\")\n",
    "horizons = Dict(\"UC\" => 24)\n",
    "intervals = Dict(\"UC\" => (Hour(24), Consecutive()))\n",
    "cache = Dict((\"UC\",) => TimeStatusChange(ThermalStandard, PSI.ON))\n",
    "DA_sequence = SimulationSequence(\n",
    "    step_resolution = Hour(24),\n",
    "    order = order,\n",
    "    horizons = horizons,\n",
    "    intervals = intervals,\n",
    "    ini_cond_chronology = InterStageChronology(),\n",
    "    cache = cache, #needed for ThermalStandardUC not for Basic\n",
    ")"
   ]
  },
  {
   "cell_type": "markdown",
   "metadata": {},
   "source": [
    "### Define and build a simulation"
   ]
  },
  {
   "cell_type": "code",
   "execution_count": null,
   "metadata": {},
   "outputs": [],
   "source": [
    "sim = Simulation(\n",
    "    name = \"Texas-test\",\n",
    "    steps = 10,\n",
    "    stages = stages_definition,\n",
    "    stages_sequence = DA_sequence,\n",
    "    simulation_folder = \"Texas-sim\"\n",
    ")\n",
    "build!(sim, console_level = Logging.Info, file_level = Logging.Debug)"
   ]
  },
  {
   "cell_type": "markdown",
   "metadata": {},
   "source": [
    "### Execute the simulation"
   ]
  },
  {
   "cell_type": "code",
   "execution_count": null,
   "metadata": {},
   "outputs": [],
   "source": [
    "sim_results = execute!(sim)"
   ]
  },
  {
   "cell_type": "markdown",
   "metadata": {},
   "source": [
    "### Load and analyze results"
   ]
  },
  {
   "cell_type": "code",
   "execution_count": null,
   "metadata": {},
   "outputs": [],
   "source": [
    "uc_results = load_simulation_results(sim_results, \"UC\");\n",
    "\n",
    "fuel_plot(uc_results, sys, load = true)"
   ]
  },
  {
   "cell_type": "markdown",
   "metadata": {},
   "source": [
    "---\n",
    "\n",
    "*This notebook was generated using [Literate.jl](https://github.com/fredrikekre/Literate.jl).*"
   ]
  }
 ],
 "metadata": {
  "kernelspec": {
   "display_name": "Julia 1.4.0",
   "language": "julia",
   "name": "julia-1.4"
  },
  "language_info": {
   "file_extension": ".jl",
   "mimetype": "application/julia",
   "name": "julia",
   "version": "1.4.0"
  }
 },
 "nbformat": 4,
 "nbformat_minor": 3
}
