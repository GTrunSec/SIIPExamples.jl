{
 "cells": [
  {
   "outputs": [],
   "cell_type": "markdown",
   "source": [
    "# Operations problems with [PowerSimulations.jl](https://github.com/NREL/PowerSimulations.jl)"
   ],
   "metadata": {}
  },
  {
   "outputs": [],
   "cell_type": "markdown",
   "source": [
    "**Originally Contributed by**: Clayton Barrows"
   ],
   "metadata": {}
  },
  {
   "outputs": [],
   "cell_type": "markdown",
   "source": [
    "## Introduction"
   ],
   "metadata": {}
  },
  {
   "outputs": [],
   "cell_type": "markdown",
   "source": [
    "PowerSimulations.jl supports the construction and solution of optimal power system\n",
    "scheduling problems (Operations Problems). Operations problems form the fundamental\n",
    "building blocks for [sequential simulations](../../notebook/PowerSimulations_examples/sequential_simulations.ipynb).\n",
    "This example shows how to specify and customize a the mathematics that will be applied to the data with\n",
    "an `OperationsProblemTemplate`, build and execute an `OperationsProblem`, and access the results."
   ],
   "metadata": {}
  },
  {
   "outputs": [],
   "cell_type": "markdown",
   "source": [
    "## Dependencies"
   ],
   "metadata": {}
  },
  {
   "outputs": [],
   "cell_type": "code",
   "source": [
    "using SIIPExamples"
   ],
   "metadata": {},
   "execution_count": null
  },
  {
   "outputs": [],
   "cell_type": "markdown",
   "source": [
    "### Modeling Packages"
   ],
   "metadata": {}
  },
  {
   "outputs": [],
   "cell_type": "code",
   "source": [
    "using InfrastructureSystems\n",
    "const IS = InfrastructureSystems\n",
    "using PowerSystems\n",
    "const PSY = PowerSystems\n",
    "using PowerSimulations\n",
    "const PSI = PowerSimulations\n",
    "using D3TypeTrees"
   ],
   "metadata": {},
   "execution_count": null
  },
  {
   "outputs": [],
   "cell_type": "markdown",
   "source": [
    "### Data management packages"
   ],
   "metadata": {}
  },
  {
   "outputs": [],
   "cell_type": "code",
   "source": [
    "using Dates\n",
    "using DataFrames"
   ],
   "metadata": {},
   "execution_count": null
  },
  {
   "outputs": [],
   "cell_type": "markdown",
   "source": [
    "### Optimization packages"
   ],
   "metadata": {}
  },
  {
   "outputs": [],
   "cell_type": "code",
   "source": [
    "using JuMP\n",
    "using Cbc #solver"
   ],
   "metadata": {},
   "execution_count": null
  },
  {
   "outputs": [],
   "cell_type": "markdown",
   "source": [
    "### Data\n",
    "This data depends upon the [RTS-GMLC](https://github.com/grid-mod/rts-gmlc) dataset. Let's\n",
    "download and extract the data."
   ],
   "metadata": {}
  },
  {
   "outputs": [],
   "cell_type": "code",
   "source": [
    "rts_dir = SIIPExamples.download(\"https://github.com/GridMod/RTS-GMLC\")\n",
    "rts_src_dir = joinpath(rts_dir, \"RTS_Data\", \"SourceData\")\n",
    "rts_siip_dir = joinpath(rts_dir, \"RTS_Data\", \"FormattedData\", \"SIIP\");"
   ],
   "metadata": {},
   "execution_count": null
  },
  {
   "outputs": [],
   "cell_type": "markdown",
   "source": [
    "### Create a `System` from RTS-GMLC data just like we did in the [parsing tabular data example.](../../notebook/PowerSystems_examples/parse_tabulardata.jl)"
   ],
   "metadata": {}
  },
  {
   "outputs": [],
   "cell_type": "code",
   "source": [
    "rawsys = PSY.PowerSystemTableData(rts_src_dir,\n",
    "                                  100.0,\n",
    "                                  joinpath(rts_siip_dir,\"user_descriptors.yaml\"),\n",
    "                                  timeseries_metadata_file = joinpath(rts_siip_dir,\"timeseries_pointers.json\"),\n",
    "                                  generator_mapping_file = joinpath(rts_siip_dir,\"generator_mapping.yaml\"));\n",
    "\n",
    "sys = System(rawsys; forecast_resolution = Dates.Hour(1));"
   ],
   "metadata": {},
   "execution_count": null
  },
  {
   "outputs": [],
   "cell_type": "markdown",
   "source": [
    "## Define a problem specification with an `OpModelTemplate`\n",
    "The `DeviceModel` constructor is to create an assignment between PowerSystems device types\n",
    "and the subtypes of `AbstractDeviceFormulation`. PowerSimulations has a variety of different\n",
    "`AbstractDeviceFormulation` subtypes that can be applied to different PowerSystems device types,\n",
    "each dispatching to different methods for populating optimization problem objectives, variables,\n",
    "and constraints."
   ],
   "metadata": {}
  },
  {
   "outputs": [],
   "cell_type": "code",
   "source": [
    "TypeTree(PSI.AbstractDeviceFormulation, scopesep=\"\\n\")"
   ],
   "metadata": {},
   "execution_count": null
  },
  {
   "outputs": [],
   "cell_type": "markdown",
   "source": [
    "### Branch Formulations\n",
    "Here is an example of relatively standard branch formulations. Other formulations allow\n",
    "for selective enforcement of transmission limits and greater control on transformer settings."
   ],
   "metadata": {}
  },
  {
   "outputs": [],
   "cell_type": "code",
   "source": [
    "branches = Dict{Symbol, DeviceModel}(:L => DeviceModel(Line, StaticLine),\n",
    "                                     :T => DeviceModel(Transformer2W, StaticTransformer),\n",
    "                                     :TT => DeviceModel(TapTransformer , StaticTransformer))"
   ],
   "metadata": {},
   "execution_count": null
  },
  {
   "outputs": [],
   "cell_type": "markdown",
   "source": [
    "### Injection Device Formulations\n",
    "Here we define dictionary entries for all devices that inject or withdraw power on the\n",
    "network. For each device type, we can define a distinct `AbstractDeviceFormulation`. In\n",
    "this case, we're defining a basic unit commitment model for thermal generators,\n",
    "curtailable renewable generators, and fixed dispatch (net-load reduction) formulations\n",
    "for `HydroFix` and `RenewableFix` devices. Additionally, we've enabled a simple load\n",
    "shedding demand response formulation for `InterruptableLoad` devices."
   ],
   "metadata": {}
  },
  {
   "outputs": [],
   "cell_type": "code",
   "source": [
    "devices = Dict(:Generators => DeviceModel(ThermalStandard, ThermalStandardUnitCommitment),\n",
    "                                    :Ren => DeviceModel(RenewableDispatch, RenewableFullDispatch),\n",
    "                                    :Loads =>  DeviceModel(PowerLoad, StaticPowerLoad),\n",
    "                                    :HydroROR => DeviceModel(HydroDispatch, HydroFixed),\n",
    "                                    :RenFx => DeviceModel(RenewableFix, RenewableFixed),\n",
    "                                    :ILoads =>  DeviceModel(InterruptibleLoad, InterruptiblePowerLoad),\n",
    "                                    )"
   ],
   "metadata": {},
   "execution_count": null
  },
  {
   "outputs": [],
   "cell_type": "markdown",
   "source": [
    "### Service Formulations\n",
    "We have two `VariableReserve` types, parameterized by their direction. So, similar to\n",
    "creating `DeviceModel`s, we can create `ServiceModel`s. The primary difference being\n",
    "that `DeviceModel` objects define how constraints get created, while `ServiceModel` objects\n",
    "define how constraints get modified."
   ],
   "metadata": {}
  },
  {
   "outputs": [],
   "cell_type": "code",
   "source": [
    "services = Dict(:ReserveUp => ServiceModel(VariableReserve{ReserveUp}, RangeReserve),\n",
    "                :ReserveDown => ServiceModel(VariableReserve{ReserveDown}, RangeReserve))"
   ],
   "metadata": {},
   "execution_count": null
  },
  {
   "outputs": [],
   "cell_type": "markdown",
   "source": [
    "### Wrap it up into an `OperationsProblemTemplate`"
   ],
   "metadata": {}
  },
  {
   "outputs": [],
   "cell_type": "code",
   "source": [
    "template_uc= OperationsProblemTemplate(CopperPlatePowerModel, devices, branches, services);"
   ],
   "metadata": {},
   "execution_count": null
  },
  {
   "outputs": [],
   "cell_type": "markdown",
   "source": [
    "## `OperationsProblem`\n",
    "Now that we have a `System` and an `OperationsProblemTemplate`, we can put the two together\n",
    "to create an `OperationsProblem` that we solve."
   ],
   "metadata": {}
  },
  {
   "outputs": [],
   "cell_type": "markdown",
   "source": [
    "### Optimizer\n",
    "It's most convenient to define an optimizer instance upfront and pass it into the\n",
    "`OperationsProblem` constructor. For this example, we can use the free Cbc solver with a\n",
    "relatively relaxed MIP gap (`ratioGap`) setting to improve speed."
   ],
   "metadata": {}
  },
  {
   "outputs": [],
   "cell_type": "code",
   "source": [
    "solver = optimizer_with_attributes(Cbc.Optimizer, \"logLevel\" => 1, \"ratioGap\" => 0.5)"
   ],
   "metadata": {},
   "execution_count": null
  },
  {
   "outputs": [],
   "cell_type": "markdown",
   "source": [
    "### Build an `OperationsProblem`\n",
    "The construction of an `OperationsProblem` essentially applies an `OperationsProblemTemplate`\n",
    "to `System` data to create a JuMP model."
   ],
   "metadata": {}
  },
  {
   "outputs": [],
   "cell_type": "code",
   "source": [
    "op_problem = OperationsProblem(GenericOpProblem,\n",
    "                               template_uc,\n",
    "                               sys;\n",
    "                               optimizer = solver,\n",
    "                               horizon = 12)"
   ],
   "metadata": {},
   "execution_count": null
  },
  {
   "outputs": [],
   "cell_type": "markdown",
   "source": [
    "The principal component of the `OperationsProblem` is the JuMP model. For small problems,\n",
    "you can inspect it by simply printing it to the screen:\n",
    "```julia\n",
    "op_problem.psi_container.JuMPmodel\n",
    "```\n",
    "\n",
    "For anything of reasonable size, that will be unmanageable. But you can print to a file:\n",
    "```julia\n",
    "f = open(\"testmodel.txt\",\"w\"); print(f,op_problem.psi_container.JuMPmodel); close(f)\n",
    "```\n",
    "\n",
    "In addition to the JuMP model, an `OperationsProblem` keeps track of a bunch of metadata\n",
    "about the problem and some references to pretty names for constraints and variables.\n",
    "All of these details are contained within the `psi_container` field."
   ],
   "metadata": {}
  },
  {
   "outputs": [],
   "cell_type": "code",
   "source": [
    "print_struct(typeof(op_problem.psi_container))"
   ],
   "metadata": {},
   "execution_count": null
  },
  {
   "outputs": [],
   "cell_type": "markdown",
   "source": [
    "### Solve an `OperationsProblem`"
   ],
   "metadata": {}
  },
  {
   "outputs": [],
   "cell_type": "code",
   "source": [
    "res = solve!(op_problem);"
   ],
   "metadata": {},
   "execution_count": null
  },
  {
   "outputs": [],
   "cell_type": "markdown",
   "source": [
    "## Results Inspection\n",
    "PowerSimulations collects the `OperationsProblem` results into a struct:"
   ],
   "metadata": {}
  },
  {
   "outputs": [],
   "cell_type": "code",
   "source": [
    "print_struct(PSI.SimulationResults)"
   ],
   "metadata": {},
   "execution_count": null
  },
  {
   "outputs": [],
   "cell_type": "markdown",
   "source": [
    "### Optimizer Log\n",
    "The optimizer summary is included"
   ],
   "metadata": {}
  },
  {
   "outputs": [],
   "cell_type": "code",
   "source": [
    "get_optimizer_log(res)"
   ],
   "metadata": {},
   "execution_count": null
  },
  {
   "outputs": [],
   "cell_type": "markdown",
   "source": [
    "### Total Cost (objective function value)"
   ],
   "metadata": {}
  },
  {
   "outputs": [],
   "cell_type": "code",
   "source": [
    "get_total_cost(res)"
   ],
   "metadata": {},
   "execution_count": null
  },
  {
   "outputs": [],
   "cell_type": "markdown",
   "source": [
    "### Variable Values\n",
    "The solution value data frames for variable in the `op_problem.psi_container.variables`\n",
    "dictionary is stored:"
   ],
   "metadata": {}
  },
  {
   "outputs": [],
   "cell_type": "code",
   "source": [
    "variable_values = get_variables(res)"
   ],
   "metadata": {},
   "execution_count": null
  },
  {
   "outputs": [],
   "cell_type": "markdown",
   "source": [
    "Note that the time stamps are missing from the dataframes in `variable_values`...\n",
    "\n",
    "The time stamps for each value in the time series used in the `OperationsProblem` is\n",
    "included separately from the variable value results."
   ],
   "metadata": {}
  },
  {
   "outputs": [],
   "cell_type": "code",
   "source": [
    "get_time_stamp(res)"
   ],
   "metadata": {},
   "execution_count": null
  },
  {
   "outputs": [],
   "cell_type": "markdown",
   "source": [
    "## Plotting\n",
    "Take a look at the examples in [the plotting folder.](../../notebook/PowerSimulations_examples/Plotting)"
   ],
   "metadata": {}
  },
  {
   "outputs": [],
   "cell_type": "markdown",
   "source": [
    "---\n",
    "\n",
    "*This notebook was generated using [Literate.jl](https://github.com/fredrikekre/Literate.jl).*"
   ],
   "metadata": {}
  }
 ],
 "nbformat_minor": 3,
 "metadata": {
  "language_info": {
   "file_extension": ".jl",
   "mimetype": "application/julia",
   "name": "julia",
   "version": "1.3.1"
  },
  "kernelspec": {
   "name": "julia-1.3",
   "display_name": "Julia 1.3.1",
   "language": "julia"
  }
 },
 "nbformat": 4
}
